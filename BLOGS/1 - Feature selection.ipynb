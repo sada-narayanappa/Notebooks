{
 "cells": [
  {
   "cell_type": "code",
   "execution_count": 6,
   "metadata": {
    "collapsed": false
   },
   "outputs": [
    {
     "data": {
      "text/html": [
       "<script type=\"text/javascript\" src=\"http://ajax.googleapis.com/ajax/libs/jquery/1.3/jquery.min.js\"></script>\n",
       "<style>\n",
       "body {\n",
       "  font-family: Times 'Merriweather', Georgia, serif;\n",
       "}\n",
       "\n",
       ".imgs {\n",
       "    width: 250px;\n",
       "    align: left;\n",
       "    float: left;\n",
       "    padding-right: 50px;\n",
       "    padding-top: 20px;\n",
       "    border: 0px gray;\n",
       "}\n",
       ".imgs1 {\n",
       "    align: left;\n",
       "    float: left;\n",
       "    padding-right: 50px;\n",
       "    padding-top: 20px;\n",
       "    border-top: 1px solid gray;\n",
       "    border-bottom: 1px solid gray;\n",
       "    margin-right: 50px;\n",
       "}\n",
       "\n",
       "hr {\n",
       "    height:3px;\n",
       "    border:none;\n",
       "    color:#333;\n",
       "    background-color:#333;\"\n",
       "}\n",
       "\n",
       "p {\n",
       "  margin: 10px auto;\n",
       "  padding: 6px 10px;\n",
       "  font-weight: 300;\n",
       "  font-size: 16px;\n",
       "  line-height: 1.4;\n",
       "}\n",
       "\n",
       "h1 {\n",
       "    margin: 20px auto 0px;\n",
       "    padding: 0 10px;\n",
       "    text-align: center;\n",
       "    font-size: 80px;\n",
       "    ffont-weight: 300;\n",
       "    mmax-width: 800px;\n",
       "}\n",
       "\n",
       "h4 {\n",
       "  max-width: 800px;\n",
       "  margin: 0 auto;\n",
       "  padding: 10px 10px;\n",
       "  font-family: sans-serif;\n",
       "}\n",
       "\n",
       "\n",
       ".thumbnail  {\n",
       "\tposition: relative;\n",
       "\tfloat: left;\n",
       "\tpadding: 0px;\n",
       "\tz-index: 3;\n",
       "}\n",
       "\n",
       ".thumbnail:hover {\n",
       "\tbackground-color: #e9e9e2;\n",
       "\tcolor: #335500;\n",
       "\ttext-decoration: none;\n",
       "}\n",
       "\n",
       ".thumbnail span { /*CSS for enlarged image*/\n",
       "\tposition: fixed;\n",
       "    opacity: 1.5;\n",
       "    background-color: #e5e5e5; \n",
       "\tpadding: 5px;\n",
       "\tborder: 1px solid #666;\n",
       "\tvisibility: hidden;\n",
       "\tcolor: black;\n",
       "\ttext-decoration: none;\n",
       "\ttop:  150px; /* use IF IE6 style to correct IE6 positions of larger image relative to thumb */\n",
       "\tright: 50px;/*position where enlarged image should offset horizontally */\n",
       "\tz-index: 9999;\n",
       "    filter: alpha(opacity=100); \n",
       "}\n",
       "\n",
       ".thumbnail:hover span { /*CSS for enlarged image on hover*/\n",
       "\tvisibility: visible; \n",
       "\twidth: 500px;\n",
       "}\n",
       "    \n",
       ".container { width: 100% !important; }\n",
       "    div.cell{\n",
       "        width:100%;\n",
       "        margin-left:0%;\n",
       "        margin-right:auto;\n",
       "}\n",
       "    \n",
       "div.prompt {display:none}\n",
       "    \n",
       "</style>\n",
       "\n",
       "<script type=\"text/javascript\" src=\"http://ajax.googleapis.com/ajax/libs/jquery/1.3/jquery.min.js\"></script>\n",
       "<script type=\"text/javascript\" src=\"http://d3js.org/d3.v3.min.js\"></script>\n",
       "<script type=\"text/javascript\" src=\"http://d3js.org/topojson.v1.min.js\"></script>\n",
       "<script type=\"text/javascript\" src=\"http://datamaps.github.io/scripts/0.4.0/datamaps.all.js\"></script>\n",
       "\n",
       "<script>\n",
       "function log(e) {\n",
       "    console.log(e)\n",
       "    \n",
       "}\n",
       "\n",
       "function toggleDiv(divId) {\n",
       "   $(\"#\"+divId).toggle();\n",
       "\n",
       "}\n",
       "</script>\n"
      ],
      "text/plain": [
       "<IPython.core.display.HTML object>"
      ]
     },
     "metadata": {},
     "output_type": "display_data"
    },
    {
     "data": {
      "text/html": [
       "<style>\n",
       "div.prompt {display:none}\n",
       "</style>"
      ],
      "text/plain": [
       "<IPython.core.display.HTML object>"
      ]
     },
     "metadata": {},
     "output_type": "display_data"
    }
   ],
   "source": [
    "%run \"../common.ipynb\""
   ]
  },
  {
   "cell_type": "markdown",
   "metadata": {},
   "source": [
    "## Feature Selection\n",
    "\n",
    "### Introduction\n",
    "\n",
    "I want to start this section with some interesting anecdotes to illustrate some key soft approaches that are essential for ** Feature Selection **. A ** Feature Selection ** is [provide link]\n",
    "\n",
    "Eventually I will describe ** Feature Selection ** process, methodology, procedure, or guidelines.\n",
    "\n",
    "\n"
   ]
  },
  {
   "cell_type": "markdown",
   "metadata": {},
   "source": [
    "#### Common pitfalls\n",
    "\n",
    "* Not including the variable can be biased by the variable that you do not include\n",
    "(For ex. coffee drinkers die sooner so do not drink coffee; however most coffee drinkers are also smokers and smoking leads to cancer or death)\n",
    "\n",
    "* "
   ]
  },
  {
   "cell_type": "markdown",
   "metadata": {},
   "source": [
    "### Visualizing\n",
    "\n",
    "Pareto charts, boxplots, hypothesis tests, control charts, and capability analyses are common sights.\n"
   ]
  },
  {
   "cell_type": "markdown",
   "metadata": {},
   "source": [
    "### References\n",
    "[1] http://blog.minitab.com/blog/adventures-in-statistics/collecting-good-data-its-a-messy-world-confound-it\n",
    "\n",
    "[2] http://www.minitab.com/en-us/company/case-studies/\n",
    "\n",
    "[3] http://www.minitab.com/en-us/Case-Studies/Crayola/"
   ]
  },
  {
   "cell_type": "markdown",
   "metadata": {},
   "source": [
    "A organization have many executives who have some objectives of their own and have come up some hypothesis. Now they call a data scientist (DS) to find data to support their claim in few hours; when *DS* presents possible data leads to being unhappy about the results and blame *DS* for not understanding the problem, threatens to eliminate his position? **DS** is frustrated and can't locate data.\n",
    "What is wrong here? \n",
    "\n",
    "The issue here is **DS** is may not have spent many days to understand the true need or intent of the investigation. Next, **DS** can't get time to clarify all the assumptions because he was blamed for asking too many questions. Instead he takes another approach and makes assumptions and present the result and most of his assumptions are wrong. \n",
    "\n",
    "In this scenario **DS** is trying to find data to support their objective instead of finding insights into data. See [3].\n",
    "This a scenario a matured *DS* will avoid and always have a important project to work on. Because \n",
    "\n",
    "* Most people still believe observational studies are causations; \n",
    "* A data is morphed to support an evidence without enough statistical power \n",
    "* Not understanding the latent effect of a variable. (For ex. coffee drinkers die sooner so do not drink coffee; however most coffee drinkers are also smokers and smoking leads to cancer or death)\n",
    "* Not having enough time to find the root cause through experiments\n",
    "* Not fully having the context of the issue.\n",
    "\n",
    "This leads to *DS* losing his job because another executive have a real data to show the thesis was incorrect!!\n",
    "Instead, *DS* should \n",
    "\n",
    "Inherent problems in this approach is about not stating the problem. instead validating the results that is based on gut-feel. \n",
    "\n"
   ]
  }
 ],
 "metadata": {
  "hide_input": false,
  "kernelspec": {
   "display_name": "Python 3",
   "language": "python",
   "name": "python3"
  },
  "language_info": {
   "codemirror_mode": {
    "name": "ipython",
    "version": 3
   },
   "file_extension": ".py",
   "mimetype": "text/x-python",
   "name": "python",
   "nbconvert_exporter": "python",
   "pygments_lexer": "ipython3",
   "version": "3.5.1"
  }
 },
 "nbformat": 4,
 "nbformat_minor": 0
}
