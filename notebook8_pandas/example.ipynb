{
 "cells": [
  {
   "cell_type": "markdown",
   "metadata": {},
   "source": [
    "Homework 7\n",
    "====\n",
    "#### CHE 116: Numerical Methods and Statistics\n",
    "Prof. Andrew White\n",
    "\n",
    "Version 1.0 (2/22/2016)\n",
    "\n",
    "----"
   ]
  },
  {
   "cell_type": "markdown",
   "metadata": {},
   "source": [
    "1. System of Equations (5 Points)\n",
    "====\n",
    "\n",
    "Solve this system of equations using the `linalg` package. Answer in Python.\n",
    "\n",
    "$$\\begin{array}{ll}\n",
    "6 x + 4 y &= z^2\\\\\n",
    "x - y &= 6 \\\\\n",
    "2x - 2y &= z^2 - 4 \\\\\n",
    "\\end{array}$$"
   ]
  },
  {
   "cell_type": "code",
   "execution_count": 22,
   "metadata": {
    "collapsed": false
   },
   "outputs": [
    {
     "name": "stdout",
     "output_type": "stream",
     "text": [
      "4.0 -2.0 4.0\n"
     ]
    }
   ],
   "source": [
    "import numpy as np\n",
    "from numpy import linalg\n",
    "\n",
    "#note z^2 doesn't affect our answer\n",
    "a_matrix = [[6, 4,-1],\\\n",
    "            [1, -1, 0],\\\n",
    "            [2, -2, -1]]\n",
    "b_matrix = [0, 6, -4]\n",
    "\n",
    "#convert them to numpy arrays/matrices\n",
    "np_a_matrix = np.array(a_matrix)\n",
    "np_b_matrix = np.array(b_matrix).transpose()\n",
    "\n",
    "#Solve the problem\n",
    "np_a_inv = linalg.inv(np_a_matrix)\n",
    "np_x_matrix = np_a_inv.dot(np_b_matrix)\n",
    "\n",
    "#print the solution, making sure to use z\n",
    "print(np_x_matrix[0], np_x_matrix[1], np.sqrt(np_x_matrix[2]))"
   ]
  },
  {
   "cell_type": "markdown",
   "metadata": {},
   "source": [
    "2. Chemical Reaction (6 Points)\n",
    "===\n",
    "\n",
    "A set of frist-order chemical reactions can be described by the following system of differential equations:\n",
    "\n",
    "$$\\begin{array}{lr}\n",
    "\\cfrac{dC_1(t)}{dt} = & -2 C_1(t) + C_2(t) + C_3(t)\\\\\n",
    "\\cfrac{dC_2(t)}{dt} = & 2 C_1(t) - 4 C_2(t)\\\\\n",
    "\\cfrac{dC_3(t)}{dt} = & 3 C_2(t) - C_3(t)\\\\\n",
    "\\end{array}$$\n",
    "\n",
    "Answer the following questions:\n",
    "\n",
    "1. [1] Write down this system of ODEs using a matrix notation\n",
    "2. [2] Mass is conserved in these equations. How can you tell from the matrix?\n",
    "3. [1] Find the eigenvalues and eigenvectors for the coefficient matrix. It is *not* Hermitian. Use `linalg`.\n",
    "4. [2] One of the eigenvalues is special. Make an argument, using math and python, for why this is significant with respect to equilibrium."
   ]
  },
  {
   "cell_type": "markdown",
   "metadata": {},
   "source": [
    "#### 2.1 Answer\n",
    "\n",
    "$$\\left[\\begin{array}{lcr}\n",
    "-2 & 1 & 1\\\\\n",
    "2 & -4 & 0\\\\\n",
    "0 & 3 & -1\\\\\n",
    "\\end{array}\\right]\n",
    "\\left[\\begin{array}{c}\n",
    "C_1(t)\\\\\n",
    "C_2(t)\\\\\n",
    "C_3(t)\\\\\n",
    "\\end{array}\\right] = \n",
    "\\left[\\begin{array}{c}\n",
    "\\cfrac{d\\,C_1(t)}{dt}\\\\\n",
    "\\cfrac{d\\,C_2(t)}{dt}\\\\\n",
    "\\cfrac{d\\,C_3(t)}{dt}\\\\\n",
    "\\end{array}\\right]$$"
   ]
  },
  {
   "cell_type": "markdown",
   "metadata": {},
   "source": [
    "#### 2.2 Answer\n",
    "\n",
    "The amount of $C_1$ leaving has to equal the amount of $C_1$ coming in. This is guaranteed by the columns summing to 0. "
   ]
  },
  {
   "cell_type": "markdown",
   "metadata": {},
   "source": [
    "#### 2.3 Answer"
   ]
  },
  {
   "cell_type": "code",
   "execution_count": 2,
   "metadata": {
    "collapsed": false
   },
   "outputs": [],
   "source": [
    "c_mat = np.array([[-2, 1,1], [2, -4, 0], [0, 3, -1]])\n",
    "e_l, e_v = linalg.eig(c_mat)"
   ]
  },
  {
   "cell_type": "code",
   "execution_count": 3,
   "metadata": {
    "collapsed": false
   },
   "outputs": [
    {
     "name": "stdout",
     "output_type": "stream",
     "text": [
      "-4.0 [  5.45747210e-16   7.07106781e-01  -7.07106781e-01]\n",
      "-3.0 [-0.26726124 -0.53452248  0.80178373]\n",
      "-3.84352614539e-16 [ 0.53452248  0.26726124  0.80178373]\n"
     ]
    }
   ],
   "source": [
    "for i in range(3):\n",
    "    print(e_l[i], e_v[:, i])"
   ]
  },
  {
   "cell_type": "markdown",
   "metadata": {
    "collapsed": false
   },
   "source": [
    "#### 2.4 Answer\n",
    "\n",
    "That eigenvector results in all derivatives being $0$, meaning the concentrations do not change"
   ]
  },
  {
   "cell_type": "code",
   "execution_count": 4,
   "metadata": {
    "collapsed": false
   },
   "outputs": [
    {
     "name": "stdout",
     "output_type": "stream",
     "text": [
      "[  1.22124533e-15  -6.66133815e-16  -5.55111512e-16]\n"
     ]
    }
   ],
   "source": [
    "print(c_mat.dot(e_v[:,2]))"
   ]
  },
  {
   "cell_type": "markdown",
   "metadata": {},
   "source": [
    "3. Python Practice (20 Points)\n",
    "====\n",
    "\n",
    "All your functions must have docstrings for full credit.\n",
    "\n",
    "1. [4] Create a button and text input, where the value of the text box is printed out. Make it so that the output area is cleared each time the button is pressed.\n",
    "\n",
    "2. [4] Create a button that prints a random integer from 0 to 10 using the `random.randint` function.\n",
    "\n",
    "3. [4] Make a list of strings. Using your button from part 2, now have it print a random string from your list. \n",
    "\n",
    "4. [8] Take the following matrix: `[[3, 2, -6], [2, 6, 4], [3, 4, 0]]` and use an interaction widget to display its eigenvalues and eigenvectors. Your slider should go from 0 to 2 and each value should result in a latex display showing the eigenvalue and eigenvector. Note that Python eats `{}` in strings, so you'll have to use `{{}}`. This is called escaping. Python also eats many things that have a backslash. For example, `\\b` means backspace to python. And `\\\\` means `\\` in python.  So you'll have to write  `\\\\` when you want LaTeX to see `\\` and in general use some trial in error about backslashes. You can never have too many though! For example, write `\\\\begin{{array}}` to start your matrix. Use three `''' for example'''` to have a string that spans multiple lines. [Summary comic](http://xkcd.com/1638/). Practice getting the LaTeX correct before putting it all together."
   ]
  },
  {
   "cell_type": "code",
   "execution_count": 23,
   "metadata": {
    "collapsed": false
   },
   "outputs": [
    {
     "name": "stdout",
     "output_type": "stream",
     "text": [
      "3\n"
     ]
    }
   ],
   "source": [
    "#3.1 Answer\n",
    "\n",
    "from ipywidgets import widgets\n",
    "from IPython import display \n",
    "\n",
    "button = widgets.Button(description=\"Print\")\n",
    "text = widgets.Text('')\n",
    "\n",
    "def clear_and_print(b):\n",
    "    display.clear_output()\n",
    "    print(text.value)\n",
    "\n",
    "button.on_click(clear_and_print)\n",
    "\n",
    "display.display(text)\n",
    "display.display(button)"
   ]
  },
  {
   "cell_type": "code",
   "execution_count": 25,
   "metadata": {
    "collapsed": false
   },
   "outputs": [],
   "source": [
    "#3.2 Answer\n",
    "\n",
    "import random\n",
    "\n",
    "def randint(b):\n",
    "    display.clear_output()\n",
    "    print(random.randint(0,10))\n",
    "\n",
    "button = widgets.Button(description='random')\n",
    "button.on_click(randint)\n",
    "display.display(button)"
   ]
  },
  {
   "cell_type": "code",
   "execution_count": 24,
   "metadata": {
    "collapsed": false
   },
   "outputs": [
    {
     "name": "stdout",
     "output_type": "stream",
     "text": [
      "(⊙ᗜ⊙)\n"
     ]
    }
   ],
   "source": [
    "#3.3 Answer\n",
    "\n",
    "my_strings = ['(⊙ᗜ⊙)', '╚═╏ ⇀ ͜ر ↼ ╏═╝', 'ლ(́◉◞౪◟◉‵ლ)', 'ლ(ʘ̆〰ʘ̆)ლ']\n",
    "\n",
    "def rand_string(b):\n",
    "    display.clear_output()\n",
    "    print(my_strings[random.randint(0,len(my_strings))])\n",
    "\n",
    "button = widgets.Button(description='Raise your donger!')\n",
    "button.on_click(rand_string)\n",
    "display.display(button)"
   ]
  },
  {
   "cell_type": "code",
   "execution_count": 26,
   "metadata": {
    "collapsed": false
   },
   "outputs": [
    {
     "data": {
      "text/latex": [
       "\n",
       "    $$\\left[\\begin{array}{c}\n",
       "    0.32447\\\\\n",
       "    -0.55236\\\\\n",
       "    -0.76787\\\n",
       "    \\end{array}\\right]\n",
       "    $$"
      ],
      "text/plain": [
       "<IPython.core.display.Latex object>"
      ]
     },
     "metadata": {},
     "output_type": "display_data"
    },
    {
     "data": {
      "text/plain": [
       "<function __main__.print_eig>"
      ]
     },
     "execution_count": 26,
     "metadata": {},
     "output_type": "execute_result"
    }
   ],
   "source": [
    "#3.4 Answer\n",
    "\n",
    "mat = np.array([[3, 2, -6], [2, 6, 4], [3, 4, 0]])\n",
    "e_l, e_v = linalg.eigh(mat)\n",
    "def print_eig(i):\n",
    "    display.display(display.Latex('''\n",
    "    $$\\\\left[\\\\begin{{array}}{{c}}\n",
    "    {0:0.5}\\\\\\\\\n",
    "    {1:0.5}\\\\\\\\\n",
    "    {2:0.5}\\\\\n",
    "    \\end{{array}}\\\\right]\n",
    "    $$'''.format(e_v[i, 0], e_v[i, 1], e_v[i, 2])))\n",
    "widgets.interact(print_eig, i=(0,2,1))"
   ]
  },
  {
   "cell_type": "markdown",
   "metadata": {},
   "source": [
    "4. Integration (12 Points)\n",
    "====\n",
    "\n",
    "Compute the following integrals using `scipy`. Report all your answers using `display.Latex` and only three decimal places.\n",
    "\n",
    "1. $$\\int_0^1 \\sin^2(x)\\, dx$$\n",
    "\n",
    "2. $$\\int_0^\\infty x^{-2}\\, dx$$\n",
    "\n",
    "3. Integrate the normal distribution with $\\sigma = 2$, $\\mu = -4$ from $-2$ to $2$. Do not use `scipy.stats`\n",
    "\n",
    "4. Repeat part 1 but use the trapezoidal rule instead of `scipy`\n"
   ]
  },
  {
   "cell_type": "code",
   "execution_count": 18,
   "metadata": {
    "collapsed": false
   },
   "outputs": [
    {
     "data": {
      "text/latex": [
       "$$\\int_0^1 \\sin^2(x)\\, dx = 0.273$$"
      ],
      "text/plain": [
       "<IPython.core.display.Latex object>"
      ]
     },
     "execution_count": 18,
     "metadata": {},
     "output_type": "execute_result"
    }
   ],
   "source": [
    "#4.1 Answer\n",
    "\n",
    "from scipy.integrate import quad\n",
    "\n",
    "def fxn(x):\n",
    "    return np.sin(x)**2\n",
    "\n",
    "ans, err = quad(fxn, 0, 1)\n",
    "\n",
    "display.Latex('$$\\int_0^1 \\sin^2(x)\\, dx = {0:.3}$$'.format(ans))"
   ]
  },
  {
   "cell_type": "code",
   "execution_count": 20,
   "metadata": {
    "collapsed": false
   },
   "outputs": [
    {
     "name": "stderr",
     "output_type": "stream",
     "text": [
      "C:\\Users\\Andrew\\Anaconda3\\lib\\site-packages\\scipy\\integrate\\quadpack.py:352: IntegrationWarning: The integral is probably divergent, or slowly convergent.\n",
      "  warnings.warn(msg, IntegrationWarning)\n"
     ]
    },
    {
     "data": {
      "text/latex": [
       "$$\\int_0^\\infty x^{-2}\\, dx = -1.0$$"
      ],
      "text/plain": [
       "<IPython.core.display.Latex object>"
      ]
     },
     "execution_count": 20,
     "metadata": {},
     "output_type": "execute_result"
    }
   ],
   "source": [
    "#4.2 Answer\n",
    "\n",
    "ans,_ = quad(lambda x: x**-2, 0, np.infty)\n",
    "\n",
    "display.Latex('$$\\int_0^\\infty x^{{-2}}\\, dx = {:.3}$$'.format(ans))"
   ]
  },
  {
   "cell_type": "code",
   "execution_count": 21,
   "metadata": {
    "collapsed": false
   },
   "outputs": [
    {
     "data": {
      "text/latex": [
       "$$\\int_{-2}^{-2} \\frac{1}{\\sigma\\sqrt{2\\pi^2}} e^{\\cfrac{(x - \\mu)^2}{2\\sigma^2}} = 0.157$$"
      ],
      "text/plain": [
       "<IPython.core.display.Latex object>"
      ]
     },
     "execution_count": 21,
     "metadata": {},
     "output_type": "execute_result"
    }
   ],
   "source": [
    "#4.3 Answer\n",
    "\n",
    "def pdf(x, mu=-4, sig=2):\n",
    "    return 1 / np.sqrt(sig**2 * 2 * np.pi) * np.exp(- (x - mu)**2 / (2 * sig**2))\n",
    "\n",
    "ans,_ = quad(pdf, -2, 2)\n",
    "\n",
    "display.Latex('$$\\int_{{-2}}^{{-2}} \\\\frac{{1}}{{\\\\sigma\\\\sqrt{{2\\\\pi^2}}}} e^{{\\cfrac{{(x - \\\\mu)^2}}{{2\\\\sigma^2}}}} = {:.3}$$'.format(ans))"
   ]
  },
  {
   "cell_type": "markdown",
   "metadata": {},
   "source": [
    "5. Numerical Integration/Differentiation (12 Points)\n",
    "===\n",
    "\n",
    "1. Compute and plot the numerical derivatives of the data given in the next cell. Use a for loop and the central difference rule\n",
    "2. Repeat part 1 using numpy arrays.\n",
    "2. Compute the integral of the numerical data using the trapezoidal rule. Use a for loop.\n",
    "3. Repeat part 3 with numpy"
   ]
  },
  {
   "cell_type": "code",
   "execution_count": 87,
   "metadata": {
    "collapsed": true
   },
   "outputs": [],
   "source": [
    "data_5_x = [0.0, 0.2857,  0.5714,  0.8571,  1.1429,  1.4286,  1.7143,  2.0,  2.2857,  2.5714,  2.8571,  3.1429,  3.4286,  3.7143,  4.0,  4.2857,  4.5714,  4.8571,  5.1429,  5.4286,  5.7143,  6.0,  6.2857,  6.5714,  6.8571,  7.1429,  7.4286,  7.7143,  8.0,  8.2857,  8.5714,  8.8571,  9.1429,  9.4286,  9.7143,  10.0,  10.2857,  10.5714,  10.8571,  11.1429,  11.4286,  11.7143,  12.0,  12.2857,  12.5714,  12.8571,  13.1429,  13.4286,  13.7143,  14.0]\n",
    "data_5_y = [67.9925, 67.5912,  67.4439,  66.7896,  66.4346,  66.3176,  65.7527,  65.1487,  65.7247,  65.1831,  64.5981,  64.5213,  63.6746,  63.9106,  62.6127,  63.3892,  62.6511,  62.601,  61.9718,  60.5553,  61.5862,  61.3173,  60.5913,  59.7061,  59.6535,  58.9301,  59.346,  59.2083,  60.3429,  58.752,  57.6269,  57.5139,  59.0293,  56.7979,  56.2996,  56.4188,  57.1257,  56.1569,  56.3077,  55.893,  55.4356,  56.7985,  55.6536,  55.8353,  54.4404,  54.2872,  53.9584,  53.3222,  53.2458,  53.7111]"
   ]
  },
  {
   "cell_type": "code",
   "execution_count": 100,
   "metadata": {
    "collapsed": false
   },
   "outputs": [
    {
     "data": {
      "image/png": "[encoded data removed]",
      "text/plain": [
       "<matplotlib.figure.Figure at 0x7f8e5b361cc0>"
      ]
     },
     "metadata": {},
     "output_type": "display_data"
    }
   ],
   "source": [
    "#5.1 Answer\n",
    "%matplotlib inline\n",
    "import matplotlib.pyplot as plt\n",
    "plt.style.use('fivethirtyeight')\n",
    "\n",
    "deriv = []\n",
    "\n",
    "for i in range(1, len(data_5_x) - 1):\n",
    "    forward = (data_5_y[i + 1] - data_5_y[i]) / (data_5_x[i + 1] - data_5_x[i])\n",
    "    backward = (data_5_y[i] - data_5_y[i - 1]) / (data_5_x[i] - data_5_x[i - 1])\n",
    "    deriv.append((forward + backward) / 2)\n",
    "\n",
    "plt.plot(data_5_x[1:-1], deriv)\n",
    "plt.show()"
   ]
  },
  {
   "cell_type": "code",
   "execution_count": 101,
   "metadata": {
    "collapsed": false
   },
   "outputs": [
    {
     "data": {
      "image/png": "[encoded data removed]",
      "text/plain": [
       "<matplotlib.figure.Figure at 0x7f8e5b4aa080>"
      ]
     },
     "metadata": {},
     "output_type": "display_data"
    }
   ],
   "source": [
    "#5.2 Answer\n",
    "\n",
    "x = np.array(data_5_x)\n",
    "y = np.array(data_5_y)\n",
    "\n",
    "forward = (y[1:] - y[:-1]) / (x[1:] - x[:-1])\n",
    "backward = forward\n",
    "dervi = (forward[:-1] + backward[1:]) / 2.\n",
    "\n",
    "plt.plot(x[1:-1], deriv)\n",
    "plt.show()"
   ]
  },
  {
   "cell_type": "code",
   "execution_count": 103,
   "metadata": {
    "collapsed": false
   },
   "outputs": [
    {
     "name": "stdout",
     "output_type": "stream",
     "text": [
      "842.6582772749996\n"
     ]
    }
   ],
   "source": [
    "#5.3 Answer\n",
    "\n",
    "area = 0\n",
    "for i in range(len(data_5_x) - 1):\n",
    "    width = data_5_x[i + 1] - data_5_x[i]\n",
    "    area += 0.5 * width * (data_5_y[i + 1] + data_5_y[i])\n",
    "print(area)"
   ]
  },
  {
   "cell_type": "code",
   "execution_count": 104,
   "metadata": {
    "collapsed": false
   },
   "outputs": [
    {
     "name": "stdout",
     "output_type": "stream",
     "text": [
      "842.658277275\n"
     ]
    }
   ],
   "source": [
    "#5.4 Answer\n",
    "\n",
    "area = 0.5 * np.sum( (x[1:] - x[:-1]) * (y[1:] + y[:-1]) )\n",
    "\n",
    "print(area)"
   ]
  }
 ],
 "metadata": {
  "kernelspec": {
   "display_name": "Python 3",
   "language": "python",
   "name": "python3"
  },
  "language_info": {
   "codemirror_mode": {
    "name": "ipython",
    "version": 3
   },
   "file_extension": ".py",
   "mimetype": "text/x-python",
   "name": "python",
   "nbconvert_exporter": "python",
   "pygments_lexer": "ipython3",
   "version": "3.5.1"
  }
 },
 "nbformat": 4,
 "nbformat_minor": 0
}
