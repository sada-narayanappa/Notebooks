{
 "cells": [
  {
   "cell_type": "code",
   "execution_count": 11,
   "metadata": {
    "collapsed": false
   },
   "outputs": [
    {
     "data": {
      "text/html": [
       "<script type=\"text/javascript\" src=\"http://ajax.googleapis.com/ajax/libs/jquery/1.3/jquery.min.js\"></script>\n",
       "<style>\n",
       "body {\n",
       "    font-family: Times 'Merriweather', Georgia, serif;\n",
       "    font-size: 10pt;\n",
       "}\n",
       "\n",
       "body {\n",
       "    font: 72.5%/1.7em \"Lucida Grande\", \"Lucida Sans Unicode\", verdana, geneva, sans-serif;\n",
       "    color: #555;\n",
       "}\n",
       "\n",
       "CodeMirror-gutters {\n",
       "    border-right: 0px solid #ddd;\n",
       "    background-color: #f7f7f7;\n",
       "    white-space: nowrap;\n",
       "}\n",
       "\n",
       "\n",
       ".imgs {\n",
       "    width: 250px;\n",
       "    align: left;\n",
       "    float: left;\n",
       "    padding-right: 50px;\n",
       "    padding-top: 20px;\n",
       "    border: 0px gray;\n",
       "}\n",
       ".imgs1 {\n",
       "    align: left;\n",
       "    float: left;\n",
       "    padding-right: 50px;\n",
       "    padding-top: 20px;\n",
       "    border-top: 1px solid gray;\n",
       "    border-bottom: 1px solid gray;\n",
       "    margin-right: 50px;\n",
       "}\n",
       "hr {\n",
       "    height:3px;\n",
       "    border:none;\n",
       "    color:#333;\n",
       "    background-color:#333;\"\n",
       "}\n",
       "p {\n",
       "  margin: 10px auto;\n",
       "  padding: 6px 10px;\n",
       "  font-weight: 300;\n",
       "  font-size: 16px;\n",
       "  line-height: 1.4;\n",
       "}\n",
       "\n",
       "h1 {\n",
       "    margin: 20px auto 0px;\n",
       "    padding: 0 10px;\n",
       "    text-align: center;\n",
       "    font-size: 80px;\n",
       "    ffont-weight: 300;\n",
       "    mmax-width: 800px;\n",
       "}\n",
       "\n",
       "h4 {\n",
       "  max-width: 800px;\n",
       "  margin: 0 auto;\n",
       "  padding: 10px 10px;\n",
       "  font-family: sans-serif;\n",
       "}\n",
       "\n",
       "h5 {\n",
       "    padding-top: 8px;\n",
       "    padding-botton: 8px;\n",
       "    border-top:    1px solid gray;\n",
       "    border-bottom: 2px solid gray;\n",
       "}\n",
       "\n",
       "h6 {\n",
       "    padding-top: 14px;\n",
       "    padding-botton: 16px;\n",
       "    border-top:    2px solid #cccccc;\n",
       "    border-bottom: 2px solid #cccccc;\n",
       "}\n",
       "\n",
       ".thumbnail  {\n",
       "\tposition: relative;\n",
       "\tfloat: left;\n",
       "\tpadding: 0px;\n",
       "\tz-index: 3;\n",
       "}\n",
       "\n",
       ".thumbnail:hover {\n",
       "\tbackground-color: #e9e9e2;\n",
       "\tcolor: #335500;\n",
       "\ttext-decoration: none;\n",
       "}\n",
       "\n",
       ".thumbnail span { /*CSS for enlarged image*/\n",
       "\tposition: fixed;\n",
       "    opacity: 1.5;\n",
       "    background-color: #e5e5e5; \n",
       "\tpadding: 5px;\n",
       "\tborder: 1px solid #666;\n",
       "\tvisibility: hidden;\n",
       "\tcolor: black;\n",
       "\ttext-decoration: none;\n",
       "\ttop:  150px; /* use IF IE6 style to correct IE6 positions of larger image relative to thumb */\n",
       "\tright: 50px;/*position where enlarged image should offset horizontally */\n",
       "\tz-index: 9999;\n",
       "    filter: alpha(opacity=100); \n",
       "}\n",
       "\n",
       ".thumbnail:hover span { /*CSS for enlarged image on hover*/\n",
       "\tvisibility: visible; \n",
       "\twidth: 500px;\n",
       "}\n",
       "    \n",
       ".container { width: 100% !important; }\n",
       "    div.cell{\n",
       "        width:100%;\n",
       "        margin-left:0%;\n",
       "        margin-right:auto;\n",
       "}\n",
       "    \n",
       "div.prompt {display: none}\n",
       ".prompt {\n",
       "    min-width: 4ex;\n",
       "    height: 20%;\n",
       "}\n",
       "    \n",
       ".CodeMirror-gutters {\n",
       "    border-bottom-left-radius: 2px;\n",
       "    border-top-left-radius: 2px;\n",
       "    border-left: 5px solid #336699;\n",
       "}\n",
       "\n",
       "\n",
       "</style>\n",
       "\n",
       "<script type=\"text/javascript\" src=\"http://ajax.googleapis.com/ajax/libs/jquery/1.3/jquery.min.js\"></script>\n",
       "<script type=\"text/javascript\" src=\"http://d3js.org/d3.v3.min.js\"></script>\n",
       "<script type=\"text/javascript\" src=\"http://d3js.org/topojson.v1.min.js\"></script>\n",
       "<script type=\"text/javascript\" src=\"http://datamaps.github.io/scripts/0.4.0/datamaps.all.js\"></script>\n",
       "\n",
       "<script>\n",
       "function log(e) {\n",
       "    console.log(e)\n",
       "    \n",
       "}\n",
       "\n",
       "function toggleDiv(divId) {\n",
       "   $(\"#\"+divId).toggle();\n",
       "\n",
       "}\n",
       "</script>\n"
      ],
      "text/plain": [
       "<IPython.core.display.HTML object>"
      ]
     },
     "metadata": {},
     "output_type": "display_data"
    }
   ],
   "source": [
    "%run \"../common.ipynb\""
   ]
  },
  {
   "cell_type": "markdown",
   "metadata": {},
   "source": [
    "## Estimation"
   ]
  },
  {
   "cell_type": "markdown",
   "metadata": {},
   "source": [
    "\n",
    "Suppose if we have a population with some parameters $\\mu$ and standard deviation $\\sigma$;\n",
    "<br/> If we take many samples of size $n$ and compute the average of these random samples and plot the sample means,\n",
    "<br/> We get a normal distribution with mean same as population mean $\\mu$ and standard deviation of the sample distribution \n",
    "called as **Standard Error** (SE) = $\\frac{\\sigma}{\\sqrt{n}}$\n",
    "<br/> This is known as **Central Limit Theorem**\n",
    "\n",
    "**NOTE** The standard distribution of sampling distribution is also called as **Standard Error** denoted by SE.\n",
    "\n",
    "No suppose we conduct an experiment by treating a sample of size $n$ taken from a population with mean $\\mu$ and standard deviation $\\sigma$ and get an estimate of $\\bar x$\n",
    "<br/> then, we cannot say if we apply the treatment to the entire population, the population mean will be $\\bar x$.\n",
    "<br/> We may have gotten this $\\bar x$ by chance. Therefore, it is fair to assume that $\\bar x$ is one of the "
   ]
  },
  {
   "cell_type": "markdown",
   "metadata": {
    "collapsed": true
   },
   "source": [
    "## Standarding/Normal Distribution"
   ]
  },
  {
   "cell_type": "markdown",
   "metadata": {},
   "source": [
    "Z values of $x$ is $$Z = \\frac{x-\\mu}{\\sigma}$$ \n",
    "\n",
    "**Problem** : Average height of a basketball player is 2.00 with $\\sigma = 0.02$. If a player named *Harrison* is 2.03. How may standard deviation is *Harrison's* height?\n",
    "\n",
    "**Answer**: $Z = \\frac{x-\\mu}{\\sigma} = \\frac{2.03-2.00$}{0.02}$\n",
    "\n",
    "\n",
    "By standardizing, we know far or closer a value lies in standard curve. If $z$ value is close to zero, then it is near the average. \n",
    "<br/> If $z$ value is 1 then we know it is 1 standard deviation away and with in 68% of the population. \n",
    "\n",
    "<hr>\n",
    "\n",
    "### Illustration\n",
    "\n",
    "Kate has 63 Facebook friends; average number of facebook friends in general are $190$ with $\\sigma_f = 36$. \n",
    "<br>\n",
    "Dale has 54 twitter followers; average number twitter followers for all is 208 with $\\sigma_t = 60$.\n",
    "<br/>\n",
    "They both seem to have much less friends than average. Who is more unpopular.\n",
    "\n",
    "**==>**\n",
    "<br/>\n",
    "If we just look at the numbers Kate = 63 and Dale = 54; Could we say Dale he is more unpopular?\n",
    "<br/> *That argument is wrong since the averages from the population the numbers are taken differ.*\n",
    "\n",
    "Now, by comparing to averages, Kate has $190 - 63 = 127$ (about $\\frac{63}{190} = 33$%)less friends than the average \n",
    "<br/> compared to Dale who has $208-54 = 151$ ( about $\\frac{54}{208} = 26$%) less than the average.\n",
    "<br/> Again, using this logic Dale seem to unpopular\n",
    "<br/> *(Again the argument don't hold because the standard deviations differ)*\n",
    "\n",
    "Finally, lets consider the standard deviation.\n",
    "The $z$ score for Kate is $\\frac{63 - 190}{36} = 3.52 $\n",
    "<br>\n",
    "The $z$ score for Dale is $\\frac{54 - 208}{60} = 2.56 $\n",
    "\n",
    "Kate is too far away from the mean, much more than Dale. Therefore, Kate is more unpopular.\n"
   ]
  },
  {
   "cell_type": "markdown",
   "metadata": {},
   "source": [
    "## Normal Distribution\n",
    "\n",
    "** Probability Distribution function (PDF) **\n",
    "\n",
    "\n",
    "<img src=\"imgs/normald.png\" style=\"width: 30%;\" class=\"imgs1\" >\n",
    "It is called PDF, \"Density\" because the area (the density) shows the probability. \n",
    "\n",
    "For example: the area between $-1\\sigma$ and $1\\sigma$ is about 68.2%\n",
    "Therefore, the probability of getting a value between $-1\\sigma$ and $1\\sigma$ is about 68.2%\n",
    "\n",
    "We can find the probability between any two points either using calculus or looking up $z-$ table\n",
    "\n",
    "ANother example: If someone has a score of x whose z-value is 0 (same as mean) then that score is in 50th percentile.\n"
   ]
  },
  {
   "cell_type": "code",
   "execution_count": 39,
   "metadata": {
    "collapsed": false
   },
   "outputs": [],
   "source": [
    "c = open('..//data//churn.csv');"
   ]
  },
  {
   "cell_type": "code",
   "execution_count": 40,
   "metadata": {
    "collapsed": false,
    "scrolled": false
   },
   "outputs": [
    {
     "name": "stdout",
     "output_type": "stream",
     "text": [
      "0: State,Account Length,Area Code,Phone,Int'l Plan,VMail Plan,VMail Message,Day Mins,Day Calls,Day Charge,Eve Mins,Eve Calls,Eve Charge,Night Mins,Night Calls,Night Charge,Intl Mins,Intl Calls,Intl Charge,CustServ Calls,Churn?\n",
      "1: KS,128,415,382-4657,no,yes,25,265.100000,110,45.070000,197.400000,99,16.780000,244.700000,91,11.010000,10.000000,3,2.700000,1,False.\n",
      "2: OH,107,415,371-7191,no,yes,26,161.600000,123,27.470000,195.500000,103,16.620000,254.400000,103,11.450000,13.700000,3,3.700000,1,False.\n",
      "3: NJ,137,415,358-1921,no,no,0,243.400000,114,41.380000,121.200000,110,10.300000,162.600000,104,7.320000,12.200000,5,3.290000,0,False.\n",
      "4: OH,84,408,375-9999,yes,no,0,299.400000,71,50.900000,61.900000,88,5.260000,196.900000,89,8.860000,6.600000,7,1.780000,2,False.\n"
     ]
    }
   ],
   "source": [
    "for i, l in enumerate(c):\n",
    "    print (i, \": \", l, sep='', end='');\n",
    "    if ( i >= 4): \n",
    "        break;\n",
    "\n",
    "#c.close;"
   ]
  },
  {
   "cell_type": "code",
   "execution_count": 50,
   "metadata": {
    "collapsed": false
   },
   "outputs": [
    {
     "name": "stdout",
     "output_type": "stream",
     "text": [
      "['c:\\\\anaconda3\\\\lib\\\\site-packages\\\\ipykernel\\\\__main__.py', '-f', 'C:\\\\Users\\\\sadan\\\\AppData\\\\Roaming\\\\jupyter\\\\runtime\\\\kernel-0b76f465-0bf1-4348-abe4-fc4d3a9e1c69.json']\n"
     ]
    }
   ],
   "source": [
    "import sys;\n",
    "print( sys.argv)"
   ]
  },
  {
   "cell_type": "code",
   "execution_count": 144,
   "metadata": {
    "collapsed": false
   },
   "outputs": [],
   "source": [
    "l='''Reload a previously imported module. The argument must be a module object, so it must have been successfully imported before. This is useful if you have edited the module source file using an external editor and want to try out the new version without leaving the Python interpreter. The return value is the module object (the same as the module argument).\n",
    "\n",
    "When reload(module) is executed:\n",
    "\n",
    "Python modules’ code is recompiled and the module-level code reexecuted, defining a new set of objects which are bound to names in the module’s dictionary. The init function of extension modules is not called a second time.\n",
    "As with all other objects in Python the old objects are only reclaimed after their reference counts drop to zero.\n",
    "The names in the module namespace are updated to point to any new or changed objects.\n",
    "Other references to the old objects (such as names external to the module) are not rebound to refer to the new objects and must be updated in each namespace where they occur if that is desired.\n",
    "There are a number of other caveats:\n",
    "\n",
    "When a module is reloaded, its dictionary (containing the module’s global variables) is retained. Redefinitions of names will override the old definitions, so this is generally not a problem. If the new version of a module does not define a name that was defined by the old version, the old definition remains. This feature can be used to the module’s advantage if it maintains a global table or cache of objects — with a try statement it can test for the table’s presence and skip its initialization if desired:'''"
   ]
  },
  {
   "cell_type": "code",
   "execution_count": 145,
   "metadata": {
    "collapsed": false
   },
   "outputs": [],
   "source": [
    "c = Counter(l)\n",
    "c.most_common(10)"
   ]
  },
  {
   "cell_type": "code",
   "execution_count": 148,
   "metadata": {
    "collapsed": false
   },
   "outputs": [],
   "source": [
    "l='''It is generally not very useful to reload built-in or dynamically loaded modules. Reloading sys, __main__, builtins and other key modules is not recommended. In many cases extension modules are not designed to be initialized more than once, and may fail in arbitrary ways when reloaded.\n",
    "\n",
    "If a module imports objects from another module using from ... import ..., calling reload() for the other module does not redefine the objects imported from it — one way around this is to re-execute the from statement, another is to use import and qualified names (module.*name*) instead.\n",
    "\n",
    "If a module instantiates instances of a class, reloading the module that defines the class does not affect the method definitions of the instances — they continue to use the old class definition. The same is true for derived classes.\n",
    "\n",
    "repr(object)\n",
    "Return a string containing a printable representation of an object. This is the same value yielded by conversions (reverse quotes). It is sometimes useful to be able to access this operation as an ordinary function. For many types, this function makes an attempt to return a string that would yield an object with the same value when passed to eval(), otherwise the representation is a string enclosed in angle brackets that contains the name of the type of the object together with additional information often including the name and address of the object. A class can control what this function returns for its instances by defining a __repr__() method.\n",
    "\n",
    "reversed(seq)\n",
    "Return a reverse iterator. seq must be an object which has a __reversed__() method or supports the sequence protocol (the __len__() method and the __getitem__() method with integer arguments starting at 0).\n",
    "\n",
    "New in version 2.4.\n",
    "\n",
    "Changed in version 2.6: Added the possibility to write a custom __reversed__() method.\n",
    "\n",
    "round(number[, ndigits])\n",
    "Return the floating point value number rounded to ndigits digits after the decimal point. If ndigits is omitted, it defaults to zero. The result is a floating point number. Values are rounded to the closest multiple of 10 to the power minus ndigits; if two multiples are equally close, rounding is done away from 0 (so, for example, round(0.5) is 1.0 and round(-0.5) is -1.0).'''"
   ]
  },
  {
   "cell_type": "code",
   "execution_count": 149,
   "metadata": {
    "collapsed": false
   },
   "outputs": [
    {
     "data": {
      "text/plain": [
       "[(' ', 350),\n",
       " ('e', 222),\n",
       " ('t', 175),\n",
       " ('o', 139),\n",
       " ('n', 136),\n",
       " ('i', 128),\n",
       " ('s', 124),\n",
       " ('a', 116),\n",
       " ('r', 101),\n",
       " ('d', 85)]"
      ]
     },
     "execution_count": 149,
     "metadata": {},
     "output_type": "execute_result"
    }
   ],
   "source": [
    "c = Counter(l)\n",
    "c.most_common(10)"
   ]
  },
  {
   "cell_type": "code",
   "execution_count": 138,
   "metadata": {
    "collapsed": true
   },
   "outputs": [],
   "source": [
    "l=[1,2,3]"
   ]
  },
  {
   "cell_type": "code",
   "execution_count": 201,
   "metadata": {
    "collapsed": false
   },
   "outputs": [
    {
     "name": "stdout",
     "output_type": "stream",
     "text": [
      "id: 1 pass\n"
     ]
    }
   ],
   "source": [
    "class A:\n",
    "    id = 0;\n",
    "    def __init__(self):\n",
    "        self.id  = A.id + 1;\n",
    "        A.id += 1;\n",
    "    def __del__(self):\n",
    "        print (\"Delete called for \", self.id)\n",
    "        \n",
    "    def dump(self):\n",
    "        print(\"id: {} {}\".format(self.id, self.getName()))\n",
    "        \n",
    "    def getName(self): \n",
    "        return \"pass\"\n",
    "\n",
    "A.name = \"Sada\";\n",
    "a = A()\n",
    "a.dump()"
   ]
  },
  {
   "cell_type": "code",
   "execution_count": 244,
   "metadata": {
    "collapsed": false
   },
   "outputs": [
    {
     "name": "stdout",
     "output_type": "stream",
     "text": [
      "id: 5 pass\n"
     ]
    }
   ],
   "source": [
    "b = A()\n",
    "b.dump()"
   ]
  },
  {
   "cell_type": "code",
   "execution_count": 246,
   "metadata": {
    "collapsed": false
   },
   "outputs": [
    {
     "name": "stdout",
     "output_type": "stream",
     "text": [
      "Number: 5\n"
     ]
    }
   ],
   "source": [
    "n = int(input(\"Number: \"))"
   ]
  },
  {
   "cell_type": "code",
   "execution_count": 255,
   "metadata": {
    "collapsed": false
   },
   "outputs": [],
   "source": [
    "Fn  = lambda x: x if (x == 0 or  x == 1) else Fn(x-1) + Fn(x-2);"
   ]
  },
  {
   "cell_type": "code",
   "execution_count": 256,
   "metadata": {
    "collapsed": false
   },
   "outputs": [
    {
     "data": {
      "text/plain": [
       "[0, 1, 1, 8, 27]"
      ]
     },
     "execution_count": 256,
     "metadata": {},
     "output_type": "execute_result"
    }
   ],
   "source": [
    "[pow(Fn(i),3) for i in range(n)]"
   ]
  },
  {
   "cell_type": "code",
   "execution_count": 253,
   "metadata": {
    "collapsed": false
   },
   "outputs": [
    {
     "data": {
      "text/plain": [
       "8"
      ]
     },
     "execution_count": 253,
     "metadata": {},
     "output_type": "execute_result"
    }
   ],
   "source": [
    "pow(2,3)"
   ]
  },
  {
   "cell_type": "code",
   "execution_count": 264,
   "metadata": {
    "collapsed": false,
    "scrolled": true
   },
   "outputs": [
    {
     "name": "stdout",
     "output_type": "stream",
     "text": [
      "Number: 3\n",
      "sada@microsoft.com\n",
      "daya@nhsd.com\n",
      "tyuyu@kdsjf23^&^&.com\n"
     ]
    },
    {
     "data": {
      "text/plain": [
       "['sada@microsoft.com', 'daya@nhsd.com', 'tyuyu@kdsjf23^&^&.com']"
      ]
     },
     "execution_count": 264,
     "metadata": {},
     "output_type": "execute_result"
    }
   ],
   "source": [
    "n = int(input(\"Number: \"))\n",
    "es =[];\n",
    "for i in range(n):\n",
    "    es.append(input())\n",
    "for e in es:\n",
    "    "
   ]
  },
  {
   "cell_type": "code",
   "execution_count": 261,
   "metadata": {
    "collapsed": false
   },
   "outputs": [
    {
     "name": "stdout",
     "output_type": "stream",
     "text": [
      "5\n",
      "[0, 1, 1, 8, 27]\n"
     ]
    }
   ],
   "source": [
    "# Enter your code here. Read input from STDIN. Print output to STDOUT\n",
    "N = int(input())\n",
    "A = [0,1]\n",
    "for i in range(2,N): A.append(A[i-1]+A[i-2])        \n",
    "print( list(map(lambda a: a*a*a,A)) )\n"
   ]
  },
  {
   "cell_type": "code",
   "execution_count": 276,
   "metadata": {
    "collapsed": false
   },
   "outputs": [],
   "source": [
    "def valid(em):\n",
    "    w = em.split('@')\n",
    "    if (len(w) != 2):\n",
    "        return False;\n",
    "    u = w[0];\n",
    "    w = w.split('.')\n",
    "    if (len(w) != 2):\n",
    "        return False;\n",
    "    a = w[0]\n",
    "    e = w[1]\n",
    "    \n",
    "    "
   ]
  },
  {
   "cell_type": "code",
   "execution_count": 277,
   "metadata": {
    "collapsed": false
   },
   "outputs": [
    {
     "name": "stdout",
     "output_type": "stream",
     "text": [
      "None False False\n"
     ]
    }
   ],
   "source": [
    "print (\n",
    "    valid('daya@nhsd.com'),\n",
    "    valid('dayanhsd.com'),\n",
    "    valid('daya@nhsd.com@.HDD')\n",
    "    )"
   ]
  },
  {
   "cell_type": "code",
   "execution_count": 332,
   "metadata": {
    "collapsed": false
   },
   "outputs": [
    {
     "name": "stdout",
     "output_type": "stream",
     "text": [
      "('daya', 'nhsd', 'com')\n"
     ]
    }
   ],
   "source": [
    "em = 'daya@nhsd.com'\n",
    "#r= re.match(r'([\\w\\d-_]+)@([\\A\\D]+)\\.\\w\\w\\w', em)\n",
    "r= re.match(r'([\\D\\d\\-]+?)@([A-Za-z0-9]+)\\.(\\w?\\w?\\w)$', em)\n",
    "if ( r is None ):\n",
    "    print (\"No Match\");\n",
    "else:\n",
    "    print (r.groups())\n"
   ]
  },
  {
   "cell_type": "code",
   "execution_count": 314,
   "metadata": {
    "collapsed": false
   },
   "outputs": [
    {
     "data": {
      "text/plain": [
       "<_sre.SRE_Match object; span=(0, 13), match='daya@nhsd.com'>"
      ]
     },
     "execution_count": 314,
     "metadata": {},
     "output_type": "execute_result"
    }
   ],
   "source": [
    "re.search(r'^[\\w\\d-]+@[A-Za-z0-9]+\\.\\w?\\w?\\w$',em)"
   ]
  },
  {
   "cell_type": "code",
   "execution_count": 329,
   "metadata": {
    "collapsed": false
   },
   "outputs": [
    {
     "data": {
      "text/plain": [
       "['sada@fdsdfs.com', 'sdasdas_@fsd.com']"
      ]
     },
     "execution_count": 329,
     "metadata": {},
     "output_type": "execute_result"
    }
   ],
   "source": [
    "E=['sada@fdsdfs.com', 'daya@23232.comf', '@dfdf.com', 'sdasdas_@fsd.com']\n",
    "list(filter(lambda x: re.match(r'^[\\w\\d-]+@[A-Za-z0-9]+\\.\\w?\\w?\\w$',x), E))"
   ]
  },
  {
   "cell_type": "code",
   "execution_count": 344,
   "metadata": {
    "collapsed": false
   },
   "outputs": [
    {
     "name": "stdout",
     "output_type": "stream",
     "text": [
      "2\n",
      "3\n",
      "sada\n",
      "u 8\n",
      "n 4\n"
     ]
    }
   ],
   "source": [
    "def f(*a, **kwargs):\n",
    "    for i in a:\n",
    "        print (i);\n",
    "    for k,v in kwargs.items():\n",
    "        print (k,v)\n",
    "        \n",
    "f(2,3,'sada', n= 4, u=8)"
   ]
  },
  {
   "cell_type": "code",
   "execution_count": 345,
   "metadata": {
    "collapsed": true
   },
   "outputs": [],
   "source": [
    "from itertools import product"
   ]
  },
  {
   "cell_type": "code",
   "execution_count": 347,
   "metadata": {
    "collapsed": false
   },
   "outputs": [
    {
     "data": {
      "text/plain": [
       "[(1, 3), (1, 4), (2, 3), (2, 4)]"
      ]
     },
     "execution_count": 347,
     "metadata": {},
     "output_type": "execute_result"
    }
   ],
   "source": [
    "list(product([1,2],[3,4]))"
   ]
  },
  {
   "cell_type": "code",
   "execution_count": 366,
   "metadata": {
    "collapsed": false
   },
   "outputs": [
    {
     "name": "stdout",
     "output_type": "stream",
     "text": [
      "1 2\n",
      "3 4\n",
      "(1, 3) (1, 4) (2, 3) (2, 4) "
     ]
    }
   ],
   "source": [
    "a=input()\n",
    "b=input()\n",
    "A= map(int,a.split())\n",
    "B= map(int,b.split())\n",
    "for j in product(A,B):\n",
    "    print (j, end=' ')\n",
    "\n"
   ]
  },
  {
   "cell_type": "code",
   "execution_count": 357,
   "metadata": {
    "collapsed": false
   },
   "outputs": [
    {
     "name": "stdout",
     "output_type": "stream",
     "text": [
      "('1', '3')('1', '4')('2', '3')('2', '4')"
     ]
    }
   ],
   "source": []
  },
  {
   "cell_type": "code",
   "execution_count": 364,
   "metadata": {
    "collapsed": false
   },
   "outputs": [
    {
     "data": {
      "text/plain": [
       "[(1, 3), (1, 4), (2, 3), (2, 4)]"
      ]
     },
     "execution_count": 364,
     "metadata": {},
     "output_type": "execute_result"
    }
   ],
   "source": [
    "i=map(int,A) \n",
    "j=map(int,B)\n",
    "list(product(i,j))"
   ]
  },
  {
   "cell_type": "code",
   "execution_count": 394,
   "metadata": {
    "collapsed": false
   },
   "outputs": [
    {
     "name": "stdout",
     "output_type": "stream",
     "text": [
      "ABCA 2\n",
      "AA\n",
      "AB\n",
      "AC\n",
      "AA\n",
      "AB\n",
      "AC\n",
      "BA\n",
      "BA\n",
      "BC\n",
      "CA\n",
      "CA\n",
      "CB\n"
     ]
    }
   ],
   "source": [
    "from itertools import permutations\n",
    "w, n = input().split()\n",
    "for k in permutations(sorted(w), int(n)):\n",
    "    print (\"\".join(k))"
   ]
  },
  {
   "cell_type": "code",
   "execution_count": 403,
   "metadata": {
    "collapsed": true
   },
   "outputs": [],
   "source": [
    "l1=10\n",
    "l2='2 3 4 5 6 8 7 6 5 18'\n",
    "l3=6\n",
    "l4=(6,55)\n",
    "l5=(6, 45)\n",
    "l6=(6, 55)\n",
    "l7=(4, 40)\n",
    "l8=(18, 60)\n",
    "l9=(10, 50)\n",
    "ll=[l4,l5,l6,l7,l8,l9]"
   ]
  },
  {
   "cell_type": "code",
   "execution_count": 412,
   "metadata": {
    "collapsed": false
   },
   "outputs": [],
   "source": [
    "c=Counter(map(int,l2.split()))"
   ]
  },
  {
   "cell_type": "code",
   "execution_count": 413,
   "metadata": {
    "collapsed": false
   },
   "outputs": [
    {
     "name": "stdout",
     "output_type": "stream",
     "text": [
      "Counter({5: 2, 2: 1, 3: 1, 4: 1, 6: 1, 7: 1, 8: 1, 18: 1})\n",
      "Counter({5: 2, 2: 1, 3: 1, 4: 1, 7: 1, 8: 1, 18: 1, 6: 0})\n",
      "Counter({5: 2, 2: 1, 3: 1, 4: 1, 7: 1, 8: 1, 18: 1, 6: 0})\n",
      "Counter({5: 2, 2: 1, 3: 1, 7: 1, 8: 1, 18: 1, 4: 0, 6: 0})\n",
      "Counter({5: 2, 2: 1, 3: 1, 7: 1, 8: 1, 4: 0, 6: 0, 18: 0})\n",
      "Counter({5: 2, 2: 1, 3: 1, 7: 1, 8: 1, 4: 0, 6: 0, 18: 0})\n",
      "200\n"
     ]
    }
   ],
   "source": [
    "t=0;\n",
    "for  l in ll:\n",
    "    if (c[l[0]] > 0):\n",
    "        c[l[0]] -= 1;\n",
    "        t += l[1]\n",
    "    print (c)\n",
    "print (t)"
   ]
  },
  {
   "cell_type": "code",
   "execution_count": 430,
   "metadata": {
    "collapsed": false
   },
   "outputs": [
    {
     "data": {
      "text/plain": [
       "169.375"
      ]
     },
     "execution_count": 430,
     "metadata": {},
     "output_type": "execute_result"
    }
   ],
   "source": [
    "a=set( map(int,'161 182 161 154 176 170 167 171 170 174'.split()) )\n",
    "s=np.sum(list(a))\n",
    "s/len(a)"
   ]
  },
  {
   "cell_type": "code",
   "execution_count": 4,
   "metadata": {
    "collapsed": false
   },
   "outputs": [],
   "source": [
    "%load_ext rpy2.ipython"
   ]
  },
  {
   "cell_type": "code",
   "execution_count": 17,
   "metadata": {
    "collapsed": false
   },
   "outputs": [
    {
     "name": "stderr",
     "output_type": "stream",
     "text": [
      "/anaconda/lib/python3.5/site-packages/rpy2/rinterface/__init__.py:185: RRuntimeWarning: Read 470 items\n",
      "\n",
      "  warnings.warn(x, RRuntimeWarning)\n"
     ]
    },
    {
     "data": {
      "image/png": "[encoded data removed]"
     },
     "metadata": {},
     "output_type": "display_data"
    }
   ],
   "source": [
    "%%R \n",
    "require(ggplot2)\n",
    "url=\"http://robjhyndman.com/tsdldata/annual/dvi.dat\"\n",
    "skip =1\n",
    "d=  scan(url, skip=skip)\n",
    "dt = ts(d) # Convert to time series\n",
    "plot(dt)"
   ]
  }
 ],
 "metadata": {
  "anaconda-cloud": {},
  "hide_input": false,
  "kernelspec": {
   "display_name": "Python [default]",
   "language": "python",
   "name": "python3"
  },
  "language_info": {
   "codemirror_mode": {
    "name": "ipython",
    "version": 3
   },
   "file_extension": ".py",
   "mimetype": "text/x-python",
   "name": "python",
   "nbconvert_exporter": "python",
   "pygments_lexer": "ipython3",
   "version": "3.5.2"
  },
  "latex_envs": {
   "bibliofile": "biblio.bib",
   "cite_by": "apalike",
   "current_citInitial": 1,
   "eqLabelWithNumbers": true,
   "eqNumInitial": 0
  }
 },
 "nbformat": 4,
 "nbformat_minor": 0
}
