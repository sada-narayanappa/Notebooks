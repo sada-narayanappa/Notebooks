{
 "cells": [
  {
   "cell_type": "code",
   "execution_count": 8,
   "metadata": {
    "collapsed": false
   },
   "outputs": [
    {
     "data": {
      "text/html": [
       "<script type=\"text/javascript\" src=\"http://ajax.googleapis.com/ajax/libs/jquery/1.3/jquery.min.js\"></script>\n",
       "<style>\n",
       "body {\n",
       "  font-family: Times 'Merriweather', Georgia, serif;\n",
       "}\n",
       "\n",
       ".imgs {\n",
       "    width: 250px;\n",
       "    align: left;\n",
       "    float: left;\n",
       "    padding-right: 50px;\n",
       "    padding-top: 20px;\n",
       "    border: 0px gray;\n",
       "}\n",
       ".imgs1 {\n",
       "    align: left;\n",
       "    float: left;\n",
       "    padding-right: 50px;\n",
       "    padding-top: 20px;\n",
       "    border-top: 1px solid gray;\n",
       "    border-bottom: 1px solid gray;\n",
       "    margin-right: 50px;\n",
       "}\n",
       "\n",
       "hr {\n",
       "    height:3px;\n",
       "    border:none;\n",
       "    color:#333;\n",
       "    background-color:#333;\"\n",
       "}\n",
       "\n",
       "p {\n",
       "  margin: 10px auto;\n",
       "  padding: 6px 10px;\n",
       "  font-weight: 300;\n",
       "  font-size: 16px;\n",
       "  line-height: 1.4;\n",
       "}\n",
       "\n",
       "h1 {\n",
       "    margin: 20px auto 0px;\n",
       "    padding: 0 10px;\n",
       "    text-align: center;\n",
       "    font-size: 80px;\n",
       "    ffont-weight: 300;\n",
       "    mmax-width: 800px;\n",
       "}\n",
       "\n",
       "h4 {\n",
       "  max-width: 800px;\n",
       "  margin: 0 auto;\n",
       "  padding: 10px 10px;\n",
       "  font-family: sans-serif;\n",
       "}\n",
       "\n",
       "\n",
       ".thumbnail  {\n",
       "\tposition: relative;\n",
       "\tfloat: left;\n",
       "\tpadding: 0px;\n",
       "\tz-index: 3;\n",
       "}\n",
       "\n",
       ".thumbnail:hover {\n",
       "\tbackground-color: #e9e9e2;\n",
       "\tcolor: #335500;\n",
       "\ttext-decoration: none;\n",
       "}\n",
       "\n",
       ".thumbnail span { /*CSS for enlarged image*/\n",
       "\tposition: fixed;\n",
       "    opacity: 1.5;\n",
       "    background-color: #e5e5e5; \n",
       "\tpadding: 5px;\n",
       "\tborder: 1px solid #666;\n",
       "\tvisibility: hidden;\n",
       "\tcolor: black;\n",
       "\ttext-decoration: none;\n",
       "\ttop:  150px; /* use IF IE6 style to correct IE6 positions of larger image relative to thumb */\n",
       "\tright: 50px;/*position where enlarged image should offset horizontally */\n",
       "\tz-index: 9999;\n",
       "    filter: alpha(opacity=100); \n",
       "}\n",
       "\n",
       ".thumbnail:hover span { /*CSS for enlarged image on hover*/\n",
       "\tvisibility: visible; \n",
       "\twidth: 500px;\n",
       "}\n",
       "    \n",
       ".container { width: 100% !important; }\n",
       "    div.cell{\n",
       "        width:100%;\n",
       "        margin-left:0%;\n",
       "        margin-right:auto;\n",
       "}\n",
       "</style>\n",
       "\n",
       "<script type=\"text/javascript\" src=\"http://ajax.googleapis.com/ajax/libs/jquery/1.3/jquery.min.js\"></script>\n",
       "<script type=\"text/javascript\" src=\"http://d3js.org/d3.v3.min.js\"></script>\n",
       "<script type=\"text/javascript\" src=\"http://d3js.org/topojson.v1.min.js\"></script>\n",
       "<script type=\"text/javascript\" src=\"http://datamaps.github.io/scripts/0.4.0/datamaps.all.js\"></script>\n",
       "\n",
       "<script>\n",
       "function log(e) {\n",
       "    console.log(e)\n",
       "    \n",
       "}\n",
       "\n",
       "function toggleDiv(divId) {\n",
       "   $(\"#\"+divId).toggle();\n",
       "\n",
       "}\n",
       "</script>"
      ],
      "text/plain": [
       "<IPython.core.display.HTML object>"
      ]
     },
     "metadata": {},
     "output_type": "display_data"
    }
   ],
   "source": [
    "%run \"../common.ipynb\""
   ]
  },
  {
   "cell_type": "markdown",
   "metadata": {},
   "source": [
    "## Estimation"
   ]
  },
  {
   "cell_type": "markdown",
   "metadata": {},
   "source": [
    "\n",
    "Suppose if we have a population with some parameters $\\mu$ and standard deviation $\\sigma$;\n",
    "<br/> If we take many samples of size $n$ and compute the average of these random samples and plot the sample means,\n",
    "<br/> We get a normal distribution with mean same as population mean $\\mu$ and standard deviation of the sample distribution \n",
    "called as **Standard Error** (SE) = $\\frac{\\sigma}{\\sqrt{n}}$\n",
    "<br/> This is known as **Central Limit Theorem**\n",
    "\n",
    "**NOTE** The standard distribution of sampling distribution is also called as **Standard Error** denoted by SE.\n",
    "\n",
    "No suppose we conduct an experiment by treating a sample of size $n$ taken from a population with mean $\\mu$ and standard deviation $\\sigma$ and get an estimate of $\\bar x$\n",
    "<br/> then, we cannot say if we apply the treatment to the entire population, the population mean will be $\\bar x$.\n",
    "<br/> We may have gotten this $\\bar x$ by chance. Therefore, it is fair to assume that $\\bar x$ is one of the "
   ]
  },
  {
   "cell_type": "markdown",
   "metadata": {
    "collapsed": true
   },
   "source": [
    "## Standarding/Normal Distribution"
   ]
  },
  {
   "cell_type": "markdown",
   "metadata": {},
   "source": [
    "Z values of $x$ is $$Z = \\frac{x-\\mu}{\\sigma}$$ \n",
    "\n",
    "**Problem** : Average height of a basketball player is 2.00 with $\\sigma = 0.02$. If a player named *Harrison* is 2.03. How may standard deviation is *Harrison's* height?\n",
    "\n",
    "**Answer**: $Z = \\frac{x-\\mu}{\\sigma} = \\frac{2.03-2.00$}{0.02}$\n",
    "\n",
    "\n",
    "By standardizing, we know far or closer a value lies in standard curve. If $z$ value is close to zero, then it is near the average. \n",
    "<br/> If $z$ value is 1 then we know it is 1 standard deviation away and with in 68% of the population. \n",
    "\n",
    "<hr>\n",
    "\n",
    "### Illustration\n",
    "\n",
    "Kate has 63 Facebook friends; average number of facebook friends in general are $190$ with $\\sigma_f = 36$. \n",
    "<br>\n",
    "Dale has 54 twitter followers; average number twitter followers for all is 208 with $\\sigma_t = 60$.\n",
    "<br/>\n",
    "They both seem to have much less friends than average. Who is more unpopular.\n",
    "\n",
    "**==>**\n",
    "<br/>\n",
    "If we just look at the numbers Kate = 63 and Dale = 54; Could we say Dale he is more unpopular?\n",
    "<br/> *That argument is wrong since the averages from the population the numbers are taken differ.*\n",
    "\n",
    "Now, by comparing to averages, Kate has $190 - 63 = 127$ (about $\\frac{63}{190} = 33$%)less friends than the average \n",
    "<br/> compared to Dale who has $208-54 = 151$ ( about $\\frac{54}{208} = 26$%) less than the average.\n",
    "<br/> Again, using this logic Dale seem to unpopular\n",
    "<br/> *(Again the argument don't hold because the standard deviations differ)*\n",
    "\n",
    "Finally, lets consider the standard deviation.\n",
    "The $z$ score for Kate is $\\frac{63 - 190}{36} = 3.52 $\n",
    "<br>\n",
    "The $z$ score for Dale is $\\frac{54 - 208}{60} = 2.56 $\n",
    "\n",
    "Kate is too far away from the mean, much more than Dale. Therefore, Kate is more unpopular.\n"
   ]
  },
  {
   "cell_type": "markdown",
   "metadata": {},
   "source": [
    "## Normal Distribution\n",
    "\n",
    "** Probability Distribution function (PDF) **\n",
    "\n",
    "\n",
    "<img src=\"imgs/normald.png\" style=\"width: 30%;\" class=\"imgs1\" >\n",
    "It is called PDF, \"Density\" because the area (the density) shows the probability. \n",
    "\n",
    "For example: the area between $-1\\sigma$ and $1\\sigma$ is about 68.2%\n",
    "Therefore, the probability of getting a value between $-1\\sigma$ and $1\\sigma$ is about 68.2%\n",
    "\n",
    "We can find the probability between any two points either using calculus or looking up $z-$ table\n",
    "\n",
    "ANother example: If someone has a score of x whose z-value is 0 (same as mean) then that score is in 50th percentile.\n"
   ]
  },
  {
   "cell_type": "code",
   "execution_count": 2,
   "metadata": {
    "collapsed": false
   },
   "outputs": [
    {
     "name": "stdout",
     "output_type": "stream",
     "text": [
      "0\n",
      "1\n",
      "2\n",
      "3\n",
      "4\n",
      "5\n",
      "6\n",
      "7\n",
      "8\n",
      "9\n",
      "10\n",
      "11\n",
      "12\n",
      "13\n",
      "14\n",
      "15\n",
      "16\n",
      "17\n",
      "18\n",
      "19\n",
      "20\n",
      "21\n",
      "22\n",
      "23\n"
     ]
    }
   ],
   "source": [
    "datetime.datetime()\n",
    "for d in range(0,24):\n",
    "    \n",
    "    print (d)"
   ]
  },
  {
   "cell_type": "code",
   "execution_count": null,
   "metadata": {
    "collapsed": true
   },
   "outputs": [],
   "source": []
  }
 ],
 "metadata": {
  "hide_input": false,
  "kernelspec": {
   "display_name": "Python 3",
   "language": "python",
   "name": "python3"
  },
  "language_info": {
   "codemirror_mode": {
    "name": "ipython",
    "version": 3
   },
   "file_extension": ".py",
   "mimetype": "text/x-python",
   "name": "python",
   "nbconvert_exporter": "python",
   "pygments_lexer": "ipython3",
   "version": "3.4.4"
  },
  "latex_envs": {
   "bibliofile": "biblio.bib",
   "cite_by": "apalike",
   "current_citInitial": 1,
   "eqLabelWithNumbers": true,
   "eqNumInitial": 0
  }
 },
 "nbformat": 4,
 "nbformat_minor": 0
}
