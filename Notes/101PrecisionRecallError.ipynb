{
 "cells": [
  {
   "cell_type": "code",
   "execution_count": 1,
   "metadata": {
    "collapsed": false
   },
   "outputs": [
    {
     "data": {
      "text/html": [
       "<script type=\"text/javascript\" src=\"http://ajax.googleapis.com/ajax/libs/jquery/1.3/jquery.min.js\"></script>\n",
       "<style>\n",
       "body {\n",
       "  font-family: Times 'Merriweather', Georgia, serif;\n",
       "}\n",
       "table {\n",
       "    border: 1px\n",
       "}\n",
       "p {\n",
       "  margin: 10px auto;\n",
       "  padding: 6px 10px;\n",
       "  font-weight: 300;\n",
       "  font-size: 16px;\n",
       "  line-height: 1.4;\n",
       "}\n",
       "\n",
       "h1 {\n",
       "    margin: 20px auto 0px;\n",
       "    padding: 0 10px;\n",
       "    text-align: center;\n",
       "    font-size: 80px;\n",
       "    ffont-weight: 300;\n",
       "    mmax-width: 800px;\n",
       "}\n",
       "\n",
       "h4 {\n",
       "  max-width: 800px;\n",
       "  margin: 0 auto;\n",
       "  padding: 10px 10px;\n",
       "  font-family: sans-serif;\n",
       "}\n",
       "\n",
       "\n",
       ".thumbnail  {\n",
       "\tposition: relative;\n",
       "\tfloat: left;\n",
       "\tpadding: 0px;\n",
       "\tz-index: 3;\n",
       "}\n",
       "\n",
       ".thumbnail:hover {\n",
       "\tbackground-color: #e9e9e2;\n",
       "\tcolor: #335500;\n",
       "\ttext-decoration: none;\n",
       "}\n",
       "\n",
       ".thumbnail span { /*CSS for enlarged image*/\n",
       "\tposition: fixed;\n",
       "    opacity: 1.5;\n",
       "    background-color: #e5e5e5; \n",
       "\tpadding: 5px;\n",
       "\tborder: 1px solid #666;\n",
       "\tvisibility: hidden;\n",
       "\tcolor: black;\n",
       "\ttext-decoration: none;\n",
       "\ttop:  150px; /* use IF IE6 style to correct IE6 positions of larger image relative to thumb */\n",
       "\tright: 50px;/*position where enlarged image should offset horizontally */\n",
       "\tz-index: 9999;\n",
       "    filter: alpha(opacity=100); \n",
       "}\n",
       "\n",
       ".thumbnail:hover span { /*CSS for enlarged image on hover*/\n",
       "\tvisibility: visible; \n",
       "\twidth: 500px;\n",
       "}\n",
       "    \n",
       ".container { width: 100% !important; }\n",
       "    div.cell{\n",
       "        width:100%;\n",
       "        margin-left:0%;\n",
       "        margin-right:auto;\n",
       "}\n",
       "</style>\n",
       "\n",
       "<script type=\"text/javascript\" src=\"http://ajax.googleapis.com/ajax/libs/jquery/1.3/jquery.min.js\"></script>\n",
       "<script type=\"text/javascript\" src=\"http://d3js.org/d3.v3.min.js\"></script>\n",
       "<script type=\"text/javascript\" src=\"http://d3js.org/topojson.v1.min.js\"></script>\n",
       "<script type=\"text/javascript\" src=\"http://datamaps.github.io/scripts/0.4.0/datamaps.all.js\"></script>\n",
       "\n",
       "<script>\n",
       "function log(e) {\n",
       "    console.log(e)\n",
       "    \n",
       "}\n",
       "\n",
       "function toggleDiv(divId) {\n",
       "   $(\"#\"+divId).toggle();\n",
       "\n",
       "}\n",
       "</script>"
      ],
      "text/plain": [
       "<IPython.core.display.HTML object>"
      ]
     },
     "metadata": {},
     "output_type": "display_data"
    },
    {
     "data": {
      "text/html": [
       "\n",
       "<script>\n",
       "code_show=true; \n",
       "function code_toggle() {\n",
       " if (code_show){\n",
       " $('div.input').hide();\n",
       " } else {\n",
       " $('div.input').show();\n",
       " }\n",
       " code_show = !code_show\n",
       "} \n",
       "$( document ).ready(code_toggle);\n",
       "</script>\n",
       "\n",
       "<!-- <textarea rows=\"1\" cols=\"120\" style=\"width:100%\"></textarea> \n",
       "-->\n",
       "<input type=\"submit\" value=\"Toggle Code.\" onclick=\"javascript:code_toggle()\" />\n"
      ],
      "text/plain": [
       "<IPython.core.display.HTML object>"
      ]
     },
     "metadata": {},
     "output_type": "display_data"
    }
   ],
   "source": [
    "%run \"../common.ipynb\""
   ]
  },
  {
   "cell_type": "markdown",
   "metadata": {},
   "source": [
    "## Precision Recall F Score, TPR, FPR, AUC, Type 1 Type 2"
   ]
  },
  {
   "cell_type": "markdown",
   "metadata": {},
   "source": [
    "Please see Wikipedia for complete and good description of these terms\n",
    "\n",
    "<table width=300px style=\"\"> \n",
    "<tr bgcolor=\"gray\"><th></th><th colspan=4> Actual </th></tr>\n",
    "<tr bgcolor=\"gray\"><th rowspan=4> Predicted </th></tr>\n",
    "\n",
    "<tr><th> T </th> <th> F </th></tr>\n",
    "\n",
    "\n",
    "<tr><td> TP </td> <td> FN </td></tr>\n",
    "<tr><td> TN </td> <td> FP </td></tr>\n",
    "\n",
    "</table>"
   ]
  },
  {
   "cell_type": "code",
   "execution_count": null,
   "metadata": {
    "collapsed": true
   },
   "outputs": [],
   "source": []
  },
  {
   "cell_type": "code",
   "execution_count": null,
   "metadata": {
    "collapsed": true
   },
   "outputs": [],
   "source": []
  }
 ],
 "metadata": {
  "kernelspec": {
   "display_name": "Python 3",
   "language": "python",
   "name": "python3"
  },
  "language_info": {
   "codemirror_mode": {
    "name": "ipython",
    "version": 3
   },
   "file_extension": ".py",
   "mimetype": "text/x-python",
   "name": "python",
   "nbconvert_exporter": "python",
   "pygments_lexer": "ipython3",
   "version": "3.5.1"
  }
 },
 "nbformat": 4,
 "nbformat_minor": 0
}
