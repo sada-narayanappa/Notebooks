{
 "cells": [
  {
   "cell_type": "code",
   "execution_count": 3,
   "metadata": {
    "collapsed": false
   },
   "outputs": [
    {
     "data": {
      "text/html": [
       "<style>\n",
       "body {\n",
       "    font-family: \"Lucida Grande\", \"Lucida Sans Unicode\", verdana, geneva, sans-serif;\n",
       "    font-size: 10pt;\n",
       "}\n",
       "\n",
       "CodeMirror-gutters {\n",
       "    border-right: 0px solid #ddd;\n",
       "    background-color: #f7f7f7;\n",
       "    white-space: nowrap;\n",
       "}\n",
       "\n",
       "\n",
       "div#notebook{\n",
       "    font-size: 12px;    \n",
       "}\n",
       ".CodeMirror {\n",
       "    font-size: 12px;\n",
       "}    \n",
       "    \n",
       ".imgs {\n",
       "    width: 250px;\n",
       "    align: left;\n",
       "    float: left;\n",
       "    padding-right: 50px;\n",
       "    padding-top: 20px;\n",
       "    border: 0px gray;\n",
       "}\n",
       ".imgs1 {\n",
       "    align: left;\n",
       "    float: left;\n",
       "    padding-right: 50px;\n",
       "    padding-top: 20px;\n",
       "    border-top: 1px solid gray;\n",
       "    border-bottom: 1px solid gray;\n",
       "    margin-right: 50px;\n",
       "}\n",
       "hr {\n",
       "    height:3px;\n",
       "    border:none;\n",
       "    color:#333;\n",
       "    background-color:#333;\"\n",
       "}\n",
       "p {\n",
       "  margin: 10px auto;\n",
       "  padding: 6px 10px;\n",
       "  font-weight: 300;\n",
       "  font-size: 16px;\n",
       "  line-height: 1.4;\n",
       "}\n",
       "\n",
       "h1 {\n",
       "    margin: 20px auto 0px;\n",
       "    padding: 0 10px;\n",
       "    text-align: center;\n",
       "    font-size: 80px;\n",
       "    font-weight: 300;\n",
       "    mmax-width: 800px;\n",
       "}\n",
       "\n",
       "h4 {\n",
       "  max-width: 800px;\n",
       "  margin: 0 auto;\n",
       "  padding: 10px 10px;\n",
       "  font-family: sans-serif;\n",
       "}\n",
       "\n",
       "h5 {\n",
       "    padding-top: 8px;\n",
       "    padding-botton: 8px;\n",
       "    border-top:    1px solid gray;\n",
       "    border-bottom: 2px solid gray;\n",
       "}\n",
       "\n",
       "h6 {\n",
       "    padding-top: 14px;\n",
       "    padding-botton: 16px;\n",
       "    border-top:    2px solid #cccccc;\n",
       "    border-bottom: 2px solid #cccccc;\n",
       "}\n",
       "\n",
       ".thumbnail  {\n",
       "\tposition: relative;\n",
       "\tfloat: left;\n",
       "\tpadding: 0px;\n",
       "\tz-index: 3;\n",
       "}\n",
       "\n",
       ".thumbnail:hover {\n",
       "\tbackground-color: #e9e9e2;\n",
       "\tcolor: #335500;\n",
       "\ttext-decoration: none;\n",
       "}\n",
       "\n",
       ".thumbnail span { /*CSS for enlarged image*/\n",
       "\tposition: fixed;\n",
       "    opacity: 1.5;\n",
       "    background-color: #e5e5e5; \n",
       "\tpadding: 5px;\n",
       "\tborder: 1px solid #666;\n",
       "\tvisibility: hidden;\n",
       "\tcolor: black;\n",
       "\ttext-decoration: none;\n",
       "\ttop:  150px; /* use IF IE6 style to correct IE6 positions of larger image relative to thumb */\n",
       "\tright: 50px;/*position where enlarged image should offset horizontally */\n",
       "\tz-index: 9999;\n",
       "    filter: alpha(opacity=100); \n",
       "}\n",
       "\n",
       ".thumbnail:hover span { /*CSS for enlarged image on hover*/\n",
       "\tvisibility: visible; \n",
       "\twidth: 500px;\n",
       "}\n",
       "    \n",
       ".container { width: 100% !important; }\n",
       "    div.cell{\n",
       "        width:100%;\n",
       "        margin-left:0%;\n",
       "        margin-right:auto;\n",
       "}\n",
       "    \n",
       "div.prompt {display: none}\n",
       "\n",
       ".prompt {\n",
       "    min-width: 4ex;\n",
       "    height: 20%;\n",
       "}\n",
       "    \n",
       ".CodeMirror-gutters {\n",
       "    border-bottom-left-radius: 2px;\n",
       "    border-top-left-radius: 2px;\n",
       "    border-left: 5px solid #336699;\n",
       "}\n",
       "\n",
       "\n",
       "</style>\n",
       "\n",
       "<!--\n",
       "<script type=\"text/javascript\" src=\"http://ajax.googleapis.com/ajax/libs/jquery/1.3/jquery.min.js\"></script>\n",
       "<-->\n",
       "<script src=\"https://ajax.googleapis.com/ajax/libs/angularjs/1.5.7/angular.min.js\"></script>\n",
       "    \n",
       "<script>\n",
       "function log(e) {\n",
       "    console.log(e)\n",
       "    \n",
       "}\n",
       "\n",
       "function toggleDiv(divId) {\n",
       "   $(\"#\"+divId).toggle();\n",
       "\n",
       "}\n",
       "</script>"
      ],
      "text/plain": [
       "<IPython.core.display.HTML object>"
      ]
     },
     "metadata": {},
     "output_type": "display_data"
    },
    {
     "data": {
      "application/javascript": [
       "//IPython.notebook.execute_cell_and_select_below()\n",
       "\n",
       "IPython.keyboard_manager.edit_shortcuts.add_shortcut('alt-enter', {\n",
       "    help : \"run cell and keep focus\", //This is optional\n",
       "    handler : function (event) {\n",
       "        //console.log(\"sada\")\n",
       "        IPython.notebook.execute_cell_and_select_below();\n",
       "        //IPython.notebook.execute_cell();\n",
       "        //IPython.notebook.select_next();\n",
       "        \n",
       "        return false;\n",
       "    }}\n",
       ");"
      ],
      "text/plain": [
       "<IPython.core.display.Javascript object>"
      ]
     },
     "metadata": {},
     "output_type": "display_data"
    },
    {
     "data": {
      "application/javascript": [
       "\n",
       "IPython.keyboard_manager.edit_shortcuts.add_shortcut('shift-enter', {\n",
       "    help : \"run cell and keep focus\", //This is optional\n",
       "    handler : function (event) {\n",
       "        IPython.notebook.execute_cell();\n",
       "        IPython.notebook.edit_mode();\n",
       "        return false;\n",
       "    }}\n",
       ");"
      ],
      "text/plain": [
       "<IPython.core.display.Javascript object>"
      ]
     },
     "metadata": {},
     "output_type": "display_data"
    },
    {
     "data": {
      "application/javascript": [
       "\n",
       "function launch_first_cell (evt) {\n",
       "    $(\"div *\").attr('disabled', true);\n",
       "}\n",
       "\n",
       "if (window.location.href.indexOf(\"10000\") >=0 ) {\n",
       "    console.log(\"read only mode\")\n",
       "    $(\"#header\").css({\"display\": \"none\"})\n",
       "    //$(\"#menubar-container\").css({\"display\": \"none\"})\n",
       "    $(\"#notebook\").css({\"padding-top\": \"0\"})\n",
       "    $(\"#header-container\").html( \n",
       "        \"<div style={'background-color: gray; height: 40px; font-size:12px; font:100%'}> </div>\"\n",
       "    )\n",
       "    $(\"div.cell.selected *\").attr('border-color', 'None');\n",
       "    \n",
       "    $(\"div *\").attr('disabled', true);\n",
       "    //run_control.read_only = true \n",
       "    $( document ).ready(function() {\n",
       "        $(\"div *\").attr('disabled', true);\n",
       "    });\n",
       "    $([IPython.events]).on('kernel_ready.Kernel kernel_created.Session notebook_loaded.Notebook', launch_first_cell);\n",
       "}\n"
      ],
      "text/plain": [
       "<IPython.core.display.Javascript object>"
      ]
     },
     "metadata": {},
     "output_type": "display_data"
    }
   ],
   "source": [
    "%run \"../../PyUtils/common.ipynb\"\n",
    "import pymc3 as pymc3\n",
    "from pymc3 import *"
   ]
  },
  {
   "cell_type": "code",
   "execution_count": 13,
   "metadata": {
    "collapsed": false
   },
   "outputs": [
    {
     "data": {
      "text/html": [
       "<iframe src=\"Examples/Vision Research.htm\" width=100% height=\"600\"></iframe>"
      ],
      "text/plain": [
       "<IPython.core.display.HTML object>"
      ]
     },
     "metadata": {},
     "output_type": "display_data"
    }
   ],
   "source": [
    "h='<iframe src=\"Examples/Vision Research.htm\" width=100% height=\"600\"></iframe>'\n",
    "display(HTML(h))\n",
    "file=\"Examples/Vision Research.xlsx\"\n",
    "df2 = LoadDataSet(file, sheetname=2);\n",
    "df2.fillna('', inplace=True)\n",
    "df2.index = range(len(df2))"
   ]
  },
  {
   "cell_type": "code",
   "execution_count": 40,
   "metadata": {
    "collapsed": false
   },
   "outputs": [],
   "source": [
    "c=0.5\n",
    "g = stats.triang.stats(c, moments='m')\n"
   ]
  },
  {
   "cell_type": "code",
   "execution_count": 41,
   "metadata": {
    "collapsed": false,
    "scrolled": false
   },
   "outputs": [
    {
     "ename": "TypeError",
     "evalue": "Variables do not support boolean operations. This can happen if you do a logical operation (<, <=, >, <=, ==, !=) between a numpy.ndarray and a Theano tensorvariable. Due to NumPy implementation before NumPy 1.8, we cannot make the Python syntax work when the ndarray is on the left, and this results in this error. To work around that, either call theano.tensor.{lt,le,eq,ne,gt,ge}(ndarray, tensor), or use the Python syntax with the Theano tensor on the left. Or update to NumPy 1.8 or above.",
     "output_type": "error",
     "traceback": [
      "\u001b[0;31m---------------------------------------------------------------------------\u001b[0m",
      "\u001b[0;31mTypeError\u001b[0m                                 Traceback (most recent call last)",
      "\u001b[0;32m<ipython-input-41-ebaf84db937b>\u001b[0m in \u001b[0;36m<module>\u001b[0;34m()\u001b[0m\n\u001b[1;32m      6\u001b[0m \u001b[0;32mwith\u001b[0m \u001b[0mpymc3\u001b[0m\u001b[0;34m.\u001b[0m\u001b[0mModel\u001b[0m\u001b[0;34m(\u001b[0m\u001b[0;34m)\u001b[0m \u001b[0;32mas\u001b[0m \u001b[0mmcmc\u001b[0m\u001b[0;34m:\u001b[0m\u001b[0;34m\u001b[0m\u001b[0m\n\u001b[1;32m      7\u001b[0m     \u001b[0mtCost\u001b[0m \u001b[0;34m=\u001b[0m \u001b[0mpymc3\u001b[0m\u001b[0;34m.\u001b[0m\u001b[0mUniform\u001b[0m\u001b[0;34m(\u001b[0m\u001b[0;34m'Testing Costs'\u001b[0m\u001b[0;34m,\u001b[0m \u001b[0;36m3\u001b[0m\u001b[0;34m,\u001b[0m \u001b[0;36m5\u001b[0m\u001b[0;34m)\u001b[0m\u001b[0;34m\u001b[0m\u001b[0m\n\u001b[0;32m----> 8\u001b[0;31m     \u001b[0mopcost\u001b[0m \u001b[0;34m=\u001b[0m \u001b[0mTriangular\u001b[0m\u001b[0;34m(\u001b[0m\u001b[0;34m'Marketing Cost'\u001b[0m\u001b[0;34m,\u001b[0m\u001b[0mlower\u001b[0m\u001b[0;34m=\u001b[0m\u001b[0;36m.12\u001b[0m\u001b[0;34m,\u001b[0m \u001b[0mupper\u001b[0m\u001b[0;34m=\u001b[0m\u001b[0;36m.18\u001b[0m\u001b[0;34m,\u001b[0m \u001b[0mc\u001b[0m \u001b[0;34m=\u001b[0m \u001b[0;36m.5\u001b[0m \u001b[0;34m)\u001b[0m\u001b[0;34m\u001b[0m\u001b[0m\n\u001b[0m\u001b[1;32m      9\u001b[0m     \u001b[0;31m#opcost = Triangular('N' )\u001b[0m\u001b[0;34m\u001b[0m\u001b[0;34m\u001b[0m\u001b[0m\n\u001b[1;32m     10\u001b[0m     \u001b[0mtotalCost\u001b[0m \u001b[0;34m=\u001b[0m \u001b[0;34m\"devCost + tCost + opCost\"\u001b[0m\u001b[0;34m\u001b[0m\u001b[0m\n",
      "\u001b[0;32m/Users/snarayan/anaconda3/lib/python3.5/site-packages/pymc3/distributions/distribution.py\u001b[0m in \u001b[0;36m__new__\u001b[0;34m(cls, name, *args, **kwargs)\u001b[0m\n\u001b[1;32m     29\u001b[0m             \u001b[0mdata\u001b[0m \u001b[0;34m=\u001b[0m \u001b[0mkwargs\u001b[0m\u001b[0;34m.\u001b[0m\u001b[0mpop\u001b[0m\u001b[0;34m(\u001b[0m\u001b[0;34m'observed'\u001b[0m\u001b[0;34m,\u001b[0m \u001b[0;32mNone\u001b[0m\u001b[0;34m)\u001b[0m\u001b[0;34m\u001b[0m\u001b[0m\n\u001b[1;32m     30\u001b[0m             \u001b[0mdist\u001b[0m \u001b[0;34m=\u001b[0m \u001b[0mcls\u001b[0m\u001b[0;34m.\u001b[0m\u001b[0mdist\u001b[0m\u001b[0;34m(\u001b[0m\u001b[0;34m*\u001b[0m\u001b[0margs\u001b[0m\u001b[0;34m,\u001b[0m \u001b[0;34m**\u001b[0m\u001b[0mkwargs\u001b[0m\u001b[0;34m)\u001b[0m\u001b[0;34m\u001b[0m\u001b[0m\n\u001b[0;32m---> 31\u001b[0;31m             \u001b[0;32mreturn\u001b[0m \u001b[0mmodel\u001b[0m\u001b[0;34m.\u001b[0m\u001b[0mVar\u001b[0m\u001b[0;34m(\u001b[0m\u001b[0mname\u001b[0m\u001b[0;34m,\u001b[0m \u001b[0mdist\u001b[0m\u001b[0;34m,\u001b[0m \u001b[0mdata\u001b[0m\u001b[0;34m)\u001b[0m\u001b[0;34m\u001b[0m\u001b[0m\n\u001b[0m\u001b[1;32m     32\u001b[0m         \u001b[0;32melse\u001b[0m\u001b[0;34m:\u001b[0m\u001b[0;34m\u001b[0m\u001b[0m\n\u001b[1;32m     33\u001b[0m             \u001b[0;32mraise\u001b[0m \u001b[0mTypeError\u001b[0m\u001b[0;34m(\u001b[0m\u001b[0;34m\"Name needs to be a string but got: %s\"\u001b[0m \u001b[0;34m%\u001b[0m \u001b[0mname\u001b[0m\u001b[0;34m)\u001b[0m\u001b[0;34m\u001b[0m\u001b[0m\n",
      "\u001b[0;32m/Users/snarayan/anaconda3/lib/python3.5/site-packages/pymc3/model.py\u001b[0m in \u001b[0;36mVar\u001b[0;34m(self, name, dist, data)\u001b[0m\n\u001b[1;32m    278\u001b[0m         \u001b[0;32mif\u001b[0m \u001b[0mdata\u001b[0m \u001b[0;32mis\u001b[0m \u001b[0;32mNone\u001b[0m\u001b[0;34m:\u001b[0m\u001b[0;34m\u001b[0m\u001b[0m\n\u001b[1;32m    279\u001b[0m             \u001b[0;32mif\u001b[0m \u001b[0mgetattr\u001b[0m\u001b[0;34m(\u001b[0m\u001b[0mdist\u001b[0m\u001b[0;34m,\u001b[0m \u001b[0;34m\"transform\"\u001b[0m\u001b[0;34m,\u001b[0m \u001b[0;32mNone\u001b[0m\u001b[0;34m)\u001b[0m \u001b[0;32mis\u001b[0m \u001b[0;32mNone\u001b[0m\u001b[0;34m:\u001b[0m\u001b[0;34m\u001b[0m\u001b[0m\n\u001b[0;32m--> 280\u001b[0;31m                 \u001b[0mvar\u001b[0m \u001b[0;34m=\u001b[0m \u001b[0mFreeRV\u001b[0m\u001b[0;34m(\u001b[0m\u001b[0mname\u001b[0m\u001b[0;34m=\u001b[0m\u001b[0mname\u001b[0m\u001b[0;34m,\u001b[0m \u001b[0mdistribution\u001b[0m\u001b[0;34m=\u001b[0m\u001b[0mdist\u001b[0m\u001b[0;34m,\u001b[0m \u001b[0mmodel\u001b[0m\u001b[0;34m=\u001b[0m\u001b[0mself\u001b[0m\u001b[0;34m)\u001b[0m\u001b[0;34m\u001b[0m\u001b[0m\n\u001b[0m\u001b[1;32m    281\u001b[0m                 \u001b[0mself\u001b[0m\u001b[0;34m.\u001b[0m\u001b[0mfree_RVs\u001b[0m\u001b[0;34m.\u001b[0m\u001b[0mappend\u001b[0m\u001b[0;34m(\u001b[0m\u001b[0mvar\u001b[0m\u001b[0;34m)\u001b[0m\u001b[0;34m\u001b[0m\u001b[0m\n\u001b[1;32m    282\u001b[0m             \u001b[0;32melse\u001b[0m\u001b[0;34m:\u001b[0m\u001b[0;34m\u001b[0m\u001b[0m\n",
      "\u001b[0;32m/Users/snarayan/anaconda3/lib/python3.5/site-packages/pymc3/model.py\u001b[0m in \u001b[0;36m__init__\u001b[0;34m(self, type, owner, index, name, distribution, model)\u001b[0m\n\u001b[1;32m    506\u001b[0m             self.tag.test_value = np.ones(\n\u001b[1;32m    507\u001b[0m                 distribution.shape, distribution.dtype) * distribution.default()\n\u001b[0;32m--> 508\u001b[0;31m             \u001b[0mself\u001b[0m\u001b[0;34m.\u001b[0m\u001b[0mlogp_elemwiset\u001b[0m \u001b[0;34m=\u001b[0m \u001b[0mdistribution\u001b[0m\u001b[0;34m.\u001b[0m\u001b[0mlogp\u001b[0m\u001b[0;34m(\u001b[0m\u001b[0mself\u001b[0m\u001b[0;34m)\u001b[0m\u001b[0;34m\u001b[0m\u001b[0m\n\u001b[0m\u001b[1;32m    509\u001b[0m             \u001b[0mself\u001b[0m\u001b[0;34m.\u001b[0m\u001b[0mmodel\u001b[0m \u001b[0;34m=\u001b[0m \u001b[0mmodel\u001b[0m\u001b[0;34m\u001b[0m\u001b[0m\n\u001b[1;32m    510\u001b[0m \u001b[0;34m\u001b[0m\u001b[0m\n",
      "\u001b[0;32m<ipython-input-38-c96dbff55145>\u001b[0m in \u001b[0;36mlogp\u001b[0;34m(self, value)\u001b[0m\n\u001b[1;32m     34\u001b[0m         \u001b[0mlower\u001b[0m \u001b[0;34m=\u001b[0m \u001b[0mself\u001b[0m\u001b[0;34m.\u001b[0m\u001b[0mlower\u001b[0m\u001b[0;34m\u001b[0m\u001b[0m\n\u001b[1;32m     35\u001b[0m         \u001b[0mupper\u001b[0m \u001b[0;34m=\u001b[0m \u001b[0mself\u001b[0m\u001b[0;34m.\u001b[0m\u001b[0mupper\u001b[0m\u001b[0;34m\u001b[0m\u001b[0m\n\u001b[0;32m---> 36\u001b[0;31m         \u001b[0;32mif\u001b[0m \u001b[0mlower\u001b[0m \u001b[0;34m<=\u001b[0m \u001b[0mvalue\u001b[0m \u001b[0;34m<\u001b[0m \u001b[0mc\u001b[0m\u001b[0;34m:\u001b[0m\u001b[0;34m\u001b[0m\u001b[0m\n\u001b[0m\u001b[1;32m     37\u001b[0m             \u001b[0;32mreturn\u001b[0m \u001b[0;34m-\u001b[0m\u001b[0mtt\u001b[0m\u001b[0;34m.\u001b[0m\u001b[0mlog\u001b[0m\u001b[0;34m(\u001b[0m\u001b[0;36m2\u001b[0m \u001b[0;34m*\u001b[0m \u001b[0;34m(\u001b[0m\u001b[0mvalue\u001b[0m \u001b[0;34m-\u001b[0m \u001b[0mlower\u001b[0m\u001b[0;34m)\u001b[0m \u001b[0;34m/\u001b[0m \u001b[0;34m(\u001b[0m\u001b[0;34m(\u001b[0m\u001b[0mupper\u001b[0m \u001b[0;34m-\u001b[0m \u001b[0mlower\u001b[0m\u001b[0;34m)\u001b[0m \u001b[0;34m*\u001b[0m \u001b[0;34m(\u001b[0m\u001b[0mc\u001b[0m \u001b[0;34m-\u001b[0m \u001b[0mlower\u001b[0m\u001b[0;34m)\u001b[0m\u001b[0;34m)\u001b[0m\u001b[0;34m)\u001b[0m\u001b[0;34m\u001b[0m\u001b[0m\n\u001b[1;32m     38\u001b[0m         \u001b[0;32melif\u001b[0m \u001b[0mvalue\u001b[0m \u001b[0;32mis\u001b[0m \u001b[0mc\u001b[0m\u001b[0;34m:\u001b[0m\u001b[0;34m\u001b[0m\u001b[0m\n",
      "\u001b[0;32m/Users/snarayan/anaconda3/lib/python3.5/site-packages/theano/tensor/var.py\u001b[0m in \u001b[0;36m__bool__\u001b[0;34m(self)\u001b[0m\n\u001b[1;32m     87\u001b[0m         \u001b[0;32melse\u001b[0m\u001b[0;34m:\u001b[0m\u001b[0;34m\u001b[0m\u001b[0m\n\u001b[1;32m     88\u001b[0m             raise TypeError(\n\u001b[0;32m---> 89\u001b[0;31m                 \u001b[0;34m\"Variables do not support boolean operations. This \"\u001b[0m\u001b[0;34m\u001b[0m\u001b[0m\n\u001b[0m\u001b[1;32m     90\u001b[0m                 \u001b[0;34m\"can happen if you do a logical operation (<, <=, >, <=, \"\u001b[0m\u001b[0;34m\u001b[0m\u001b[0m\n\u001b[1;32m     91\u001b[0m                 \u001b[0;34m\"==, !=) between a numpy.ndarray and a Theano tensor\"\u001b[0m\u001b[0;34m\u001b[0m\u001b[0m\n",
      "\u001b[0;31mTypeError\u001b[0m: Variables do not support boolean operations. This can happen if you do a logical operation (<, <=, >, <=, ==, !=) between a numpy.ndarray and a Theano tensorvariable. Due to NumPy implementation before NumPy 1.8, we cannot make the Python syntax work when the ndarray is on the left, and this results in this error. To work around that, either call theano.tensor.{lt,le,eq,ne,gt,ge}(ndarray, tensor), or use the Python syntax with the Theano tensor on the left. Or update to NumPy 1.8 or above."
     ]
    }
   ],
   "source": [
    "def netProfit():\n",
    "    return 300\n",
    "\n",
    "devCost = 10\n",
    "\n",
    "with pymc3.Model() as mcmc:\n",
    "    tCost = pymc3.Uniform('Testing Costs', 3, 5)\n",
    "    opcost = Triangular('Marketing Cost',lower=.12, upper=.18, c = .5 )\n",
    "    #opcost = Triangular('N' )\n",
    "    totalCost = \"devCost + tCost + opCost\"\n",
    "    \n",
    "    ROI = Deterministic('ROI', netProfit() )\n",
    "    #traced = sample(1000)\n"
   ]
  },
  {
   "cell_type": "code",
   "execution_count": 69,
   "metadata": {
    "collapsed": false
   },
   "outputs": [
    {
     "data": {
      "text/html": [
       "<style>\n",
       "body {\n",
       "    font-family: \"Lucida Grande\", \"Lucida Sans Unicode\", verdana, geneva, sans-serif;\n",
       "    font-size: 10pt;\n",
       "}\n",
       "\n",
       "CodeMirror-gutters {\n",
       "    border-right: 0px solid #ddd;\n",
       "    background-color: #f7f7f7;\n",
       "    white-space: nowrap;\n",
       "}\n",
       "\n",
       "\n",
       "div#notebook{\n",
       "    font-size: 12px;    \n",
       "}\n",
       ".CodeMirror {\n",
       "    font-size: 12px;\n",
       "}    \n",
       "    \n",
       ".imgs {\n",
       "    width: 250px;\n",
       "    align: left;\n",
       "    float: left;\n",
       "    padding-right: 50px;\n",
       "    padding-top: 20px;\n",
       "    border: 0px gray;\n",
       "}\n",
       ".imgs1 {\n",
       "    align: left;\n",
       "    float: left;\n",
       "    padding-right: 50px;\n",
       "    padding-top: 20px;\n",
       "    border-top: 1px solid gray;\n",
       "    border-bottom: 1px solid gray;\n",
       "    margin-right: 50px;\n",
       "}\n",
       "hr {\n",
       "    height:3px;\n",
       "    border:none;\n",
       "    color:#333;\n",
       "    background-color:#333;\"\n",
       "}\n",
       "p {\n",
       "  margin: 10px auto;\n",
       "  padding: 6px 10px;\n",
       "  font-weight: 300;\n",
       "  font-size: 16px;\n",
       "  line-height: 1.4;\n",
       "}\n",
       "\n",
       "h1 {\n",
       "    margin: 20px auto 0px;\n",
       "    padding: 0 10px;\n",
       "    text-align: center;\n",
       "    font-size: 80px;\n",
       "    font-weight: 300;\n",
       "    mmax-width: 800px;\n",
       "}\n",
       "\n",
       "h4 {\n",
       "  max-width: 800px;\n",
       "  margin: 0 auto;\n",
       "  padding: 10px 10px;\n",
       "  font-family: sans-serif;\n",
       "}\n",
       "\n",
       "h5 {\n",
       "    padding-top: 8px;\n",
       "    padding-botton: 8px;\n",
       "    border-top:    1px solid gray;\n",
       "    border-bottom: 2px solid gray;\n",
       "}\n",
       "\n",
       "h6 {\n",
       "    padding-top: 14px;\n",
       "    padding-botton: 16px;\n",
       "    border-top:    2px solid #cccccc;\n",
       "    border-bottom: 2px solid #cccccc;\n",
       "}\n",
       "\n",
       ".thumbnail  {\n",
       "\tposition: relative;\n",
       "\tfloat: left;\n",
       "\tpadding: 0px;\n",
       "\tz-index: 3;\n",
       "}\n",
       "\n",
       ".thumbnail:hover {\n",
       "\tbackground-color: #e9e9e2;\n",
       "\tcolor: #335500;\n",
       "\ttext-decoration: none;\n",
       "}\n",
       "\n",
       ".thumbnail span { /*CSS for enlarged image*/\n",
       "\tposition: fixed;\n",
       "    opacity: 1.5;\n",
       "    background-color: #e5e5e5; \n",
       "\tpadding: 5px;\n",
       "\tborder: 1px solid #666;\n",
       "\tvisibility: hidden;\n",
       "\tcolor: black;\n",
       "\ttext-decoration: none;\n",
       "\ttop:  150px; /* use IF IE6 style to correct IE6 positions of larger image relative to thumb */\n",
       "\tright: 50px;/*position where enlarged image should offset horizontally */\n",
       "\tz-index: 9999;\n",
       "    filter: alpha(opacity=100); \n",
       "}\n",
       "\n",
       ".thumbnail:hover span { /*CSS for enlarged image on hover*/\n",
       "\tvisibility: visible; \n",
       "\twidth: 500px;\n",
       "}\n",
       "    \n",
       ".container { width: 100% !important; }\n",
       "    div.cell{\n",
       "        width:100%;\n",
       "        margin-left:0%;\n",
       "        margin-right:auto;\n",
       "}\n",
       "    \n",
       "div.prompt {display: none}\n",
       "\n",
       ".prompt {\n",
       "    min-width: 4ex;\n",
       "    height: 20%;\n",
       "}\n",
       "    \n",
       ".CodeMirror-gutters {\n",
       "    border-bottom-left-radius: 2px;\n",
       "    border-top-left-radius: 2px;\n",
       "    border-left: 5px solid #336699;\n",
       "}\n",
       "\n",
       "\n",
       "</style>\n",
       "\n",
       "<!--\n",
       "<script type=\"text/javascript\" src=\"http://ajax.googleapis.com/ajax/libs/jquery/1.3/jquery.min.js\"></script>\n",
       "<-->\n",
       "<script src=\"https://ajax.googleapis.com/ajax/libs/angularjs/1.5.7/angular.min.js\"></script>\n",
       "    \n",
       "<script>\n",
       "function log(e) {\n",
       "    console.log(e)\n",
       "    \n",
       "}\n",
       "\n",
       "function toggleDiv(divId) {\n",
       "   $(\"#\"+divId).toggle();\n",
       "\n",
       "}\n",
       "</script>"
      ],
      "text/plain": [
       "<IPython.core.display.HTML object>"
      ]
     },
     "metadata": {},
     "output_type": "display_data"
    },
    {
     "data": {
      "application/javascript": [
       "//IPython.notebook.execute_cell_and_select_below()\n",
       "\n",
       "IPython.keyboard_manager.edit_shortcuts.add_shortcut('alt-enter', {\n",
       "    help : \"run cell and keep focus\", //This is optional\n",
       "    handler : function (event) {\n",
       "        //console.log(\"sada\")\n",
       "        IPython.notebook.execute_cell_and_select_below();\n",
       "        //IPython.notebook.execute_cell();\n",
       "        //IPython.notebook.select_next();\n",
       "        \n",
       "        return false;\n",
       "    }}\n",
       ");"
      ],
      "text/plain": [
       "<IPython.core.display.Javascript object>"
      ]
     },
     "metadata": {},
     "output_type": "display_data"
    },
    {
     "data": {
      "application/javascript": [
       "\n",
       "IPython.keyboard_manager.edit_shortcuts.add_shortcut('shift-enter', {\n",
       "    help : \"run cell and keep focus\", //This is optional\n",
       "    handler : function (event) {\n",
       "        IPython.notebook.execute_cell();\n",
       "        IPython.notebook.edit_mode();\n",
       "        return false;\n",
       "    }}\n",
       ");"
      ],
      "text/plain": [
       "<IPython.core.display.Javascript object>"
      ]
     },
     "metadata": {},
     "output_type": "display_data"
    },
    {
     "data": {
      "application/javascript": [
       "\n",
       "function launch_first_cell (evt) {\n",
       "    $(\"div *\").attr('disabled', true);\n",
       "}\n",
       "\n",
       "if (window.location.href.indexOf(\"10000\") >=0 ) {\n",
       "    console.log(\"read only mode\")\n",
       "    $(\"#header\").css({\"display\": \"none\"})\n",
       "    //$(\"#menubar-container\").css({\"display\": \"none\"})\n",
       "    $(\"#notebook\").css({\"padding-top\": \"0\"})\n",
       "    $(\"#header-container\").html( \n",
       "        \"<div style={'background-color: gray; height: 40px; font-size:12px; font:100%'}> </div>\"\n",
       "    )\n",
       "    $(\"div.cell.selected *\").attr('border-color', 'None');\n",
       "    \n",
       "    $(\"div *\").attr('disabled', true);\n",
       "    //run_control.read_only = true \n",
       "    $( document ).ready(function() {\n",
       "        $(\"div *\").attr('disabled', true);\n",
       "    });\n",
       "    $([IPython.events]).on('kernel_ready.Kernel kernel_created.Session notebook_loaded.Notebook', launch_first_cell);\n",
       "}\n"
      ],
      "text/plain": [
       "<IPython.core.display.Javascript object>"
      ]
     },
     "metadata": {},
     "output_type": "display_data"
    },
    {
     "name": "stdout",
     "output_type": "stream",
     "text": [
      "2590.49848932 1838.79962867\n",
      "2590.49848932 1838.79962867\n"
     ]
    },
    {
     "data": {
      "text/plain": [
       "0.92055264717714058"
      ]
     },
     "execution_count": 69,
     "metadata": {},
     "output_type": "execute_result"
    },
    {
     "data": {
      "image/png": "[encoded data removed]",
      "text/plain": [
       "<matplotlib.figure.Figure at 0x11f859710>"
      ]
     },
     "metadata": {},
     "output_type": "display_data"
    }
   ],
   "source": [
    "from numpy import median\n",
    "\n",
    "plt.figure(figsize=(13,2))\n",
    "mn = np.mean(traced['Operating Cost'])\n",
    "plthist(traced['Operating Cost'], title='Operating Cost $\\mu$='+ str(mn), ylabel='Frequency', xlabel='Op. Cost $', facecolor='y', subplot=131);\n",
    "#n1 = [norm(15000, 1000).rvs() for i in range(1000)]\n",
    "#plthist(n1, facecolor='r', alpha=0.3,subplot=131);\n",
    "plthist(traced['Number Of Units'], title='Number Of Units', subplot=132, facecolor='purple')\n",
    "mn = np.mean(traced['ROI'])\n",
    "plthist(traced['ROI'], title='ROI $\\mu$=' + str(mn), subplot=133, facecolor='c', ablines=['mean', 'std'], legend=True, low=0, high=np.math.inf)\n",
    "\n",
    "NormProb(traced['ROI'], 0, 80000)"
   ]
  },
  {
   "cell_type": "code",
   "execution_count": 38,
   "metadata": {
    "collapsed": true
   },
   "outputs": [],
   "source": [
    "from pymc3.distributions.distribution import Continuous, draw_values, generate_samples\n",
    "from scipy import stats\n",
    "class Triangular(Continuous):\n",
    "    \"\"\"\n",
    "    Continuous Triangular log-likelihood.\n",
    "\n",
    "    Parameters\n",
    "    ----------\n",
    "    lower : float\n",
    "        Lower limit.\n",
    "    c: float\n",
    "        mode\n",
    "    upper : float\n",
    "        Upper limit.\n",
    "    \"\"\"\n",
    "    def __init__(self, lower=0, upper=1, c = 0.5, transform='interval',\n",
    "                 *args, **kwargs):\n",
    "        super(Triangular, self).__init__(*args, **kwargs)\n",
    "\n",
    "        self.c = c\n",
    "        self.lower = lower\n",
    "        self.upper = upper\n",
    "        self.mean = stats.triang.stats(c, moments='m')\n",
    "        self.median = self.mean\n",
    "\n",
    "    def random(self, point=None, size=None, repeat=None):\n",
    "        lower, c, upper = draw_values([self.lower, self.c, self.upper],\n",
    "                                   point=point)\n",
    "        return generate_samples(stats.triang.rvs, c=c, loc=lower, scale=upper - lower,\n",
    "                                size=size, random_state=None)\n",
    "\n",
    "    def logp(self, value):\n",
    "        c = self.c\n",
    "        lower = self.lower\n",
    "        upper = self.upper\n",
    "        if lower <= value < c:\n",
    "            return -tt.log(2 * (value - lower) / ((upper - lower) * (c - lower)))\n",
    "        elif value is c:\n",
    "            return -tt.log(2 / (upper - lower))\n",
    "        elif c < value <= upper:\n",
    "            return -tt.log(2 * (upper - value) / ((upper - lower) * (upper - c)))\n",
    "        else:\n",
    "            return -np.inf\n"
   ]
  },
  {
   "cell_type": "code",
   "execution_count": null,
   "metadata": {
    "collapsed": true
   },
   "outputs": [],
   "source": []
  }
 ],
 "metadata": {
  "anaconda-cloud": {},
  "hide_input": false,
  "kernelspec": {
   "display_name": "Python [default]",
   "language": "python",
   "name": "python3"
  },
  "language_info": {
   "codemirror_mode": {
    "name": "ipython",
    "version": 3
   },
   "file_extension": ".py",
   "mimetype": "text/x-python",
   "name": "python",
   "nbconvert_exporter": "python",
   "pygments_lexer": "ipython3",
   "version": "3.5.2"
  }
 },
 "nbformat": 4,
 "nbformat_minor": 1
}
