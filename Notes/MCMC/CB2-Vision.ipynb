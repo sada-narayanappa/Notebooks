{
 "cells": [
  {
   "cell_type": "code",
   "execution_count": 564,
   "metadata": {
    "collapsed": false
   },
   "outputs": [
    {
     "data": {
      "text/html": [
       "<style>\n",
       "body {\n",
       "    font-family: \"Lucida Grande\", \"Lucida Sans Unicode\", verdana, geneva, sans-serif;\n",
       "    font-size: 10pt;\n",
       "}\n",
       "\n",
       "CodeMirror-gutters {\n",
       "    border-right: 0px solid #ddd;\n",
       "    background-color: #f7f7f7;\n",
       "    white-space: nowrap;\n",
       "}\n",
       "\n",
       "\n",
       "div#notebook{\n",
       "    font-size: 12px;    \n",
       "}\n",
       ".CodeMirror {\n",
       "    font-size: 12px;\n",
       "}    \n",
       "    \n",
       ".imgs {\n",
       "    width: 250px;\n",
       "    align: left;\n",
       "    float: left;\n",
       "    padding-right: 50px;\n",
       "    padding-top: 20px;\n",
       "    border: 0px gray;\n",
       "}\n",
       ".imgs1 {\n",
       "    align: left;\n",
       "    float: left;\n",
       "    padding-right: 50px;\n",
       "    padding-top: 20px;\n",
       "    border-top: 1px solid gray;\n",
       "    border-bottom: 1px solid gray;\n",
       "    margin-right: 50px;\n",
       "}\n",
       "hr {\n",
       "    height:3px;\n",
       "    border:none;\n",
       "    color:#333;\n",
       "    background-color:#333;\"\n",
       "}\n",
       "p {\n",
       "  margin: 10px auto;\n",
       "  padding: 6px 10px;\n",
       "  font-weight: 300;\n",
       "  font-size: 16px;\n",
       "  line-height: 1.4;\n",
       "}\n",
       "\n",
       "h1 {\n",
       "    margin: 20px auto 0px;\n",
       "    padding: 0 10px;\n",
       "    text-align: center;\n",
       "    font-size: 80px;\n",
       "    font-weight: 300;\n",
       "    mmax-width: 800px;\n",
       "}\n",
       "\n",
       "h4 {\n",
       "  max-width: 800px;\n",
       "  margin: 0 auto;\n",
       "  padding: 10px 10px;\n",
       "  font-family: sans-serif;\n",
       "}\n",
       "\n",
       "h5 {\n",
       "    padding-top: 8px;\n",
       "    padding-botton: 8px;\n",
       "    border-top:    1px solid gray;\n",
       "    border-bottom: 2px solid gray;\n",
       "}\n",
       "\n",
       "h6 {\n",
       "    padding-top: 14px;\n",
       "    padding-botton: 16px;\n",
       "    border-top:    2px solid #cccccc;\n",
       "    border-bottom: 2px solid #cccccc;\n",
       "}\n",
       "\n",
       ".thumbnail  {\n",
       "\tposition: relative;\n",
       "\tfloat: left;\n",
       "\tpadding: 0px;\n",
       "\tz-index: 3;\n",
       "}\n",
       "\n",
       ".thumbnail:hover {\n",
       "\tbackground-color: #e9e9e2;\n",
       "\tcolor: #335500;\n",
       "\ttext-decoration: none;\n",
       "}\n",
       "\n",
       ".thumbnail span { /*CSS for enlarged image*/\n",
       "\tposition: fixed;\n",
       "    opacity: 1.5;\n",
       "    background-color: #e5e5e5; \n",
       "\tpadding: 5px;\n",
       "\tborder: 1px solid #666;\n",
       "\tvisibility: hidden;\n",
       "\tcolor: black;\n",
       "\ttext-decoration: none;\n",
       "\ttop:  150px; /* use IF IE6 style to correct IE6 positions of larger image relative to thumb */\n",
       "\tright: 50px;/*position where enlarged image should offset horizontally */\n",
       "\tz-index: 9999;\n",
       "    filter: alpha(opacity=100); \n",
       "}\n",
       "\n",
       ".thumbnail:hover span { /*CSS for enlarged image on hover*/\n",
       "\tvisibility: visible; \n",
       "\twidth: 500px;\n",
       "}\n",
       "    \n",
       ".container { width: 100% !important; }\n",
       "    div.cell{\n",
       "        width:100%;\n",
       "        margin-left:0%;\n",
       "        margin-right:auto;\n",
       "}\n",
       "    \n",
       "div.prompt {display: none}\n",
       "\n",
       ".prompt {\n",
       "    min-width: 4ex;\n",
       "    height: 20%;\n",
       "}\n",
       "    \n",
       ".CodeMirror-gutters {\n",
       "    border-bottom-left-radius: 2px;\n",
       "    border-top-left-radius: 2px;\n",
       "    border-left: 5px solid #336699;\n",
       "}\n",
       "\n",
       "\n",
       "</style>\n",
       "\n",
       "<!--\n",
       "<script type=\"text/javascript\" src=\"http://ajax.googleapis.com/ajax/libs/jquery/1.3/jquery.min.js\"></script>\n",
       "<-->\n",
       "<script src=\"https://ajax.googleapis.com/ajax/libs/angularjs/1.5.7/angular.min.js\"></script>\n",
       "    \n",
       "<script>\n",
       "function log(e) {\n",
       "    console.log(e)\n",
       "    \n",
       "}\n",
       "\n",
       "function toggleDiv(divId) {\n",
       "   $(\"#\"+divId).toggle();\n",
       "\n",
       "}\n",
       "</script>"
      ],
      "text/plain": [
       "<IPython.core.display.HTML object>"
      ]
     },
     "metadata": {},
     "output_type": "display_data"
    },
    {
     "data": {
      "application/javascript": [
       "//IPython.notebook.execute_cell_and_select_below()\n",
       "\n",
       "IPython.keyboard_manager.edit_shortcuts.add_shortcut('alt-enter', {\n",
       "    help : \"run cell and keep focus\", //This is optional\n",
       "    handler : function (event) {\n",
       "        //console.log(\"sada\")\n",
       "        IPython.notebook.execute_cell_and_select_below();\n",
       "        //IPython.notebook.execute_cell();\n",
       "        //IPython.notebook.select_next();\n",
       "        \n",
       "        return false;\n",
       "    }}\n",
       ");"
      ],
      "text/plain": [
       "<IPython.core.display.Javascript object>"
      ]
     },
     "metadata": {},
     "output_type": "display_data"
    },
    {
     "data": {
      "application/javascript": [
       "\n",
       "IPython.keyboard_manager.edit_shortcuts.add_shortcut('shift-enter', {\n",
       "    help : \"run cell and keep focus\", //This is optional\n",
       "    handler : function (event) {\n",
       "        IPython.notebook.execute_cell();\n",
       "        IPython.notebook.edit_mode();\n",
       "        return false;\n",
       "    }}\n",
       ");"
      ],
      "text/plain": [
       "<IPython.core.display.Javascript object>"
      ]
     },
     "metadata": {},
     "output_type": "display_data"
    },
    {
     "data": {
      "application/javascript": [
       "\n",
       "function launch_first_cell (evt) {\n",
       "    $(\"div *\").attr('disabled', true);\n",
       "}\n",
       "\n",
       "if (window.location.href.indexOf(\"10000\") >=0 ) {\n",
       "    console.log(\"read only mode\")\n",
       "    $(\"#header\").css({\"display\": \"none\"})\n",
       "    //$(\"#menubar-container\").css({\"display\": \"none\"})\n",
       "    $(\"#notebook\").css({\"padding-top\": \"0\"})\n",
       "    $(\"#header-container\").html( \n",
       "        \"<div style={'background-color: gray; height: 40px; font-size:12px; font:100%'}> </div>\"\n",
       "    )\n",
       "    $(\"div.cell.selected *\").attr('border-color', 'None');\n",
       "    \n",
       "    $(\"div *\").attr('disabled', true);\n",
       "    //run_control.read_only = true \n",
       "    $( document ).ready(function() {\n",
       "        $(\"div *\").attr('disabled', true);\n",
       "    });\n",
       "    $([IPython.events]).on('kernel_ready.Kernel kernel_created.Session notebook_loaded.Notebook', launch_first_cell);\n",
       "}\n"
      ],
      "text/plain": [
       "<IPython.core.display.Javascript object>"
      ]
     },
     "metadata": {},
     "output_type": "display_data"
    }
   ],
   "source": [
    "%run \"../../PyUtils/common.ipynb\"\n",
    "import pymc3 as pymc3\n",
    "from pymc3 import *"
   ]
  },
  {
   "cell_type": "code",
   "execution_count": 566,
   "metadata": {
    "collapsed": false
   },
   "outputs": [],
   "source": [
    "#Excel functions\n",
    "\n",
    "def SUM(ran):\n",
    "    a = []\n",
    "    for c in ws[ran]:\n",
    "        for d in c:\n",
    "            a.append(d.value)\n",
    "    return np.array(a).sum()  \n",
    "\n",
    "def IFP(fun):\n",
    "    f1 = func.split(',')\n",
    "    lm ='''({}) if ({}) else ({})'''.format(f1[1], f1[0], f1[2]);\n",
    "    return (lm)\n",
    "\n",
    "def IF(fun):\n",
    "    lm = IFP(fun)\n",
    "    return eval(lm)\n",
    "\n",
    "funcs = ['SUM', 'IF']\n",
    "def LAMBDA(ss):\n",
    "    s = ss.strip();\n",
    "    s = s[1:]\n",
    "    fw = re.match(r'(\\w+)', s).group()\n",
    "    if (fw in funcs):\n",
    "        ret = fw + \"('\" + s[len(fw)+1:-1] + \"')\" \n",
    "    else:\n",
    "        ret =  ss[1:]\n",
    "        \n",
    "    return ret\n",
    "    \n",
    "#s ='=SUM(B2:B4)'\n",
    "#LAMBDA(s)\n",
    "\n",
    "def PYMC3(cell, func):\n",
    "    f = [f.strip() for f in func.split(',')]\n",
    "    ret= (\"{:4s} = {} \".format(cell , func) )\n",
    "    \n",
    "    return ret;"
   ]
  },
  {
   "cell_type": "code",
   "execution_count": 567,
   "metadata": {
    "collapsed": false
   },
   "outputs": [
    {
     "name": "stdout",
     "output_type": "stream",
     "text": [
      " C3   = pymc3.Uniform('Testing Cost', 3,5) \n",
      " C4   = Triangular(\"Marketing Cost\", 12,18,16) #Pymc3 \n",
      " C8   = pymc3.Binomial(\"Patients Cured\", 100,.25) \n",
      " C13  = Custom(\"Growth Rate\", 0,.05, 0.75, -.15,-.0 5, 0.25) #Pymc3 \n",
      " C17  = pymc3.HalfNormal(\"Market Penetration\",.08, .02) \n",
      " C19  = pymc3.Deterministic(\"Gross Profit\", B19()) \n",
      " C21  = pymc3.Deterministic(\"Net Profit\", B21()) \n",
      "\n",
      "\n",
      "B5  = lambda : SUM('B2:B4')\n",
      "B9  = lambda : B8>=20\n",
      "B14 = lambda : B12*(1+B13)\n",
      "B19 = lambda : B14*B17*B18\n",
      "B21 = lambda : IF('B9,B19-B5,-B2-B3')\n",
      "\n",
      "\n",
      "B2  =     10    #defined value <class 'int'>\n",
      "B3  =      4    #defined value <class 'int'>\n",
      "B4  =     16    #defined value <class 'int'>\n",
      "B8  =    100    #defined value <class 'int'>\n",
      "B12 =     40    #defined value <class 'int'>\n",
      "B13 =   0.02    #defined value <class 'float'>\n",
      "B17 =   0.08    #defined value <class 'float'>\n",
      "B18 =     12    #defined value <class 'int'>\n",
      "\n"
     ]
    }
   ],
   "source": [
    "import openpyxl\n",
    "import numbers\n",
    "\n",
    "# Helper function to define excel spreadsheet variables and lambda functions\n",
    "\n",
    "file=\"cb2.xlsx\"\n",
    "wb = openpyxl.load_workbook(file)\n",
    "ws =wb.get_active_sheet()\n",
    "rows = len(ws.row_dimensions)\n",
    "cols = len(ws.column_dimensions)\n",
    "#We have everything defined in Column B, therefore create those variables\n",
    "\n",
    "g = globals()\n",
    "\n",
    "model = \"\";\n",
    "assus = \"\";\n",
    "vaars = \"\";\n",
    "\n",
    "for r in range(1,rows):\n",
    "    for c in range(1,cols):\n",
    "        cell= ws.cell(row=r, column=c);\n",
    "        v = cell.value\n",
    "        if ( type(v) == str and v.startswith(\"=\")):\n",
    "            nv =  v.strip()\n",
    "            pv = LAMBDA(nv)\n",
    "            model += (\"{:4s}= lambda : {}\\n\".format(cell.coordinate, pv) )\n",
    "            continue;\n",
    "            \n",
    "        if ( type(v) == str and v.strip().lower().find(\"pymc3\") >= 0 ):\n",
    "            nv =  v.strip()\n",
    "            pv = PYMC3( cell.coordinate, nv)\n",
    "            assus += (\"{} {}\\n\".format('', pv) )\n",
    "            continue;\n",
    "            \n",
    "        if ( v is None or not isinstance(v, numbers.Number)):\n",
    "            continue\n",
    "        g[cell.coordinate] = v\n",
    "        vaars += ( \"{:4s}= {:6}    #defined value {}\\n\".format(cell.coordinate, v, type(v)))\n",
    "\n",
    "print (assus, \"\\n\\n\", model, \"\\n\\n\", vaars, sep='')"
   ]
  },
  {
   "cell_type": "code",
   "execution_count": 961,
   "metadata": {
    "collapsed": false,
    "scrolled": false
   },
   "outputs": [
    {
     "name": "stderr",
     "output_type": "stream",
     "text": [
      "100%|██████████| 30000/30000 [00:12<00:00, 2318.10it/s]\n"
     ]
    }
   ],
   "source": [
    "determs = [\"Gross Profit\", \"Net Profit\"];\n",
    "with pymc3.Model() as mcmc:\n",
    "    B5  = lambda : SUM('B2:B4')\n",
    "    B9  = lambda : B8>=20\n",
    "    B14 = lambda : B12*(1+B13)\n",
    "    B19 = lambda : B14()*B17*B18\n",
    "    B21 = lambda : IF('B9,B19()-B5(),-B2-B3')\n",
    "    \n",
    "    B3   = pymc3.Uniform('Testing Cost', 3,5)\n",
    "    B4   = Triangular(\"Marketing Cost\", 12,18,16) #Pymc3 \n",
    "    B8   = pymc3.Binomial(\"Patients Cured\", 100, .25) \n",
    "    #C13  = Custom(\"Growth Rate\", 0,5, 0.75, -15, 5, 0.25) #Pymc3 \n",
    "    B17  = pymc3.Normal(\"Market Penetration\",.08, .02) \n",
    "    \n",
    "    C19  = pymc3.Deterministic(\"Gross Profit\",B19() ) \n",
    "    C21  = pymc3.Deterministic(\"Net Profit\", B21()) \n",
    "\n",
    "    #m1 = tt.printing.Print(\"Gross Profit\",)(B3)\n",
    "    #m2 = tt.printing.Print(\"Net Profit\")(B4)\n",
    "    \n",
    "    step = pymc3.Metropolis()\n",
    "    traced = sample(30000, step)\n",
    "\n"
   ]
  },
  {
   "cell_type": "code",
   "execution_count": 569,
   "metadata": {
    "collapsed": false
   },
   "outputs": [
    {
     "name": "stdout",
     "output_type": "stream",
     "text": [
      "0 Testing Cost_interval_ 241\n",
      "1 Marketing Cost 242\n",
      "2 Patients Cured 243\n",
      "3 Market Penetration 244\n",
      "4 Testing Cost 245\n",
      "5 Gross Profit 246\n",
      "39.185823207 9.61204308146\n",
      "6 Net Profit 247\n",
      "9.18582320702 9.61204308146\n"
     ]
    },
    {
     "data": {
      "image/png": "[encoded data removed]",
      "text/plain": [
       "<matplotlib.figure.Figure at 0x1291a0320>"
      ]
     },
     "metadata": {},
     "output_type": "display_data"
    }
   ],
   "source": [
    "nn = len(traced.varnames);\n",
    "plt.figure(figsize=(20,6))\n",
    "\n",
    "cc = 'ymbgrcmykw'*5;\n",
    "for i, j in enumerate(traced.varnames):\n",
    "    mn = np.mean(traced[j])\n",
    "    nn = \"{}{}{}\".format(1+int(len(traced.varnames)/4),4, i+1) ;\n",
    "    print (i, j, nn)\n",
    "    \n",
    "    if (j in determs):\n",
    "        ablines=['mean', 'std']; legend=True; low=4; high=np.math.inf\n",
    "    else:\n",
    "        ablines=[]; legend=False; low=None; high=None\n",
    "        \n",
    "    plthist(traced[j], title=j+' $\\mu$='+ str(mn), ylabel='Frequency', xlabel=j+' $', facecolor=cc[i], subplot=nn, ablines=ablines, legend=legend, low=low, high=high);\n",
    "\n",
    "plt.subplots_adjust(wspace=None, hspace=.3)\n",
    "\n"
   ]
  },
  {
   "cell_type": "code",
   "execution_count": 323,
   "metadata": {
    "collapsed": true
   },
   "outputs": [],
   "source": [
    "from pymc3 import distributions\n",
    "from pymc3.distributions.dist_math import *\n",
    "import theano.tensor as tt\n",
    "\n",
    "class Triangular(Continuous):\n",
    "    \"\"\"\n",
    "    Continuous Triangular log-likelihood\n",
    "    Implemented by J. A. Fonseca 22/12/16\n",
    "    Parameters\n",
    "    ----------\n",
    "    lower : float\n",
    "        Lower limit.\n",
    "    c: float\n",
    "        mode\n",
    "    upper : float\n",
    "        Upper limit.\n",
    "    \"\"\"\n",
    "\n",
    "    def __init__(self, lower=0, upper=1, c=0.5,\n",
    "                 *args, **kwargs):\n",
    "        super(Triangular, self).__init__(*args, **kwargs)\n",
    "\n",
    "        self.c = c\n",
    "        self.lower = lower\n",
    "        self.upper = upper\n",
    "        self.mean = c\n",
    "        self.median = self.mean\n",
    "\n",
    "    def random(self, point=None, size=None):\n",
    "        c, lower, upper = draw_values([self.c, self.lower, self.upper],\n",
    "                                      point=point)\n",
    "        return generate_samples(stats.triang.rvs, c=c-lower, loc=lower, scale=upper-lower,\n",
    "                                size=size, dist_shape=self.shape, random_state=None)\n",
    "\n",
    "    def logp(self, value):\n",
    "        c = self.c\n",
    "        lower = self.lower\n",
    "        upper = self.upper\n",
    "        return tt.switch(alltrue_elemwise([lower <= value, value < c]),\n",
    "                         tt.log(2 * (value - lower) / ((upper - lower) * (c - lower))),\n",
    "                         tt.switch(tt.eq(value, c), tt.log(2 / (upper - lower)),\n",
    "                         tt.switch(alltrue_elemwise([c < value, value <= upper]),\n",
    "                         tt.log(2 * (upper - value) / ((upper - lower) * (upper - c))),np.inf)))"
   ]
  },
  {
   "cell_type": "code",
   "execution_count": null,
   "metadata": {
    "collapsed": false
   },
   "outputs": [],
   "source": [
    "def _isin(l=0,u=4.5, n=4.6):\n",
    "    if (n >=l and n <=u):\n",
    "        return True;\n",
    "    else:\n",
    "        False\n",
    "        \n"
   ]
  },
  {
   "cell_type": "code",
   "execution_count": 944,
   "metadata": {
    "collapsed": false
   },
   "outputs": [
    {
     "name": "stdout",
     "output_type": "stream",
     "text": [
      "[(0, 0.25), (0.25, 1.0)] [(1, 2), (3, 4)]\n",
      "Now:  (3, 4) 5.917509849069403 7.8900131320925375 0.9725032830231345\n",
      "Now:  (1, 2) 1.8484314004963092 3.6968628009926183 0.8484314004963092\n",
      "Now:  (3, 4) 4.568336157505836 6.091114876674448 0.5227787191686121\n",
      "Now:  (3, 4) 4.665704795115136 6.220939726820181 0.5552349317050453\n",
      "Now:  (1, 2) 1.1960906186261804 2.3921812372523608 0.19609061862618038\n",
      "Now:  (1, 2) 1.335255122336214 2.670510244672428 0.3352551223362139\n",
      "Now:  (3, 4) 3.5569173502029106 4.742556466937214 0.18563911673430344\n",
      "Now:  (3, 4) 5.236912040295527 6.982549387060702 0.7456373467651755\n",
      "Now:  (3, 4) 3.790091673397153 5.053455564529537 0.26336389113238423\n",
      "Now:  (3, 4) 3.3110037705179556 4.414671694023941 0.1036679235059852\n",
      "[0, 0, 0, 0, 0, 0, 0, 0, 0, 0]\n"
     ]
    }
   ],
   "source": [
    "ranges=[(1,2), (3,4)]\n",
    "probs=[.25,.75]\n",
    "\n",
    "#ASSERT Validaity\n",
    "if ( 1 != sum(probs) ):\n",
    "    print (\"Probs not equal 1\")\n",
    "\n",
    "probs.sort()\n",
    "rrs = []\n",
    "l=0\n",
    "for j in probs:\n",
    "    rrs.append((l, l+j))\n",
    "    l = j\n",
    "print(rrs, ranges)\n",
    "#--------------------------------------------    \n",
    "def isIn(r, ranges):\n",
    "    p=np.random.rand()\n",
    "    #print(r, p, ranges)\n",
    "    for i,j in enumerate(r):\n",
    "        l=j[0]\n",
    "        u=j[1]\n",
    "        if ( p >= l and p < u):\n",
    "            return i,ranges[i]\n",
    "    return None, None\n",
    "\n",
    "vals=[];\n",
    "for i in range(10):\n",
    "    ii,ri = isIn(rrs, ranges)\n",
    "    p= np.random.rand()\n",
    "    \n",
    "    l = ri[0] * (1+p);\n",
    "    u = ri[1] * (1+p);\n",
    "\n",
    "    print(\"Now: \",ri, l,u, p)\n",
    "\n",
    "    pp= np.random.uniform(low=ri[0], high=ri[1])\n",
    "\n",
    "    \n",
    "    if (l >= ri[0] and u <= ri[1]):\n",
    "        vals.append(ri)\n",
    "    else:\n",
    "        vals.append(0)\n",
    "\n",
    "print(vals)\n"
   ]
  },
  {
   "cell_type": "code",
   "execution_count": 1016,
   "metadata": {
    "collapsed": false
   },
   "outputs": [],
   "source": [
    "from pymc3 import distributions\n",
    "from pymc3.distributions.dist_math import *\n",
    "import theano.tensor as tt\n",
    "\n",
    "class Triangular1(Continuous):\n",
    "    def __init__(self, lower=0, upper=1, c=0.5,\n",
    "                 *args, **kwargs):\n",
    "        super(Triangular1, self).__init__(*args, **kwargs)\n",
    "\n",
    "        self.c = c\n",
    "        self.lower = lower\n",
    "        self.upper = upper\n",
    "        self.mean = c\n",
    "        self.median = self.mean\n",
    "        print(\"__init__ Called with: \", lower, upper, c, *args, **kwargs)\n",
    "\n",
    "    def random(self, point=None, size=None):\n",
    "        c, lower, upper = draw_values([self.c, self.lower, self.upper],\n",
    "                                      point=point)\n",
    "        ret = generate_samples(stats.triang.rvs, c=c-lower, loc=lower, scale=upper-lower,\n",
    "                                size=size, dist_shape=self.shape, random_state=None)\n",
    "        \n",
    "        print(\"random(): Called with: \", point, size, c, lower, upper, ret)\n",
    "        return ret\n",
    "    \n",
    "    def logp(self, value):\n",
    "        c = self.c\n",
    "        lower = self.lower\n",
    "        upper = self.upper\n",
    "        ret = tt.switch(alltrue_elemwise([lower <= value, value < c]),\n",
    "                         tt.log(2 * (value - lower) / ((upper - lower) * (c - lower))),\n",
    "                         tt.switch(tt.eq(value, c), tt.log(2 / (upper - lower)),\n",
    "                         tt.switch(alltrue_elemwise([c < value, value <= upper]),\n",
    "                         tt.log(2 * (upper - value) / ((upper - lower) * (upper - c))),np.inf)))\n",
    "    \n",
    "        print(\"logp(): Called with: \", value, ret)\n",
    "        return ret;\n"
   ]
  },
  {
   "cell_type": "code",
   "execution_count": 1017,
   "metadata": {
    "collapsed": false
   },
   "outputs": [
    {
     "name": "stdout",
     "output_type": "stream",
     "text": [
      "__init__ Called with:  12 18 16\n",
      "logp(): Called with:  Marketing Cost Elemwise{switch,no_inplace}.0\n",
      "I am called with:  Marketing Cost Elemwise{add,no_inplace}.0\n"
     ]
    },
    {
     "name": "stderr",
     "output_type": "stream",
     "text": [
      "\n",
      "  0%|          | 0/1000 [00:00<?, ?it/s]\u001b[A\n",
      " 79%|███████▊  | 787/1000 [00:00<00:00, 7865.83it/s]\u001b[A\n",
      "100%|██████████| 1000/1000 [00:00<00:00, 8039.10it/s]\u001b[A"
     ]
    },
    {
     "name": "stdout",
     "output_type": "stream",
     "text": [
      "0 Marketing Cost 141\n",
      "1 Net Profit 142\n",
      "16.343449547 1.2362159508\n"
     ]
    },
    {
     "data": {
      "image/png": "[encoded data removed]",
      "text/plain": [
       "<matplotlib.figure.Figure at 0x127eb0390>"
      ]
     },
     "metadata": {},
     "output_type": "display_data"
    }
   ],
   "source": [
    "def D1(v):\n",
    "    ret = v+1;\n",
    "    print (\"I am called with: \", v, ret)\n",
    "    return ret\n",
    "\n",
    "with pymc3.Model() as mcmc1:\n",
    "    TT   = Triangular1(\"Marketing Cost\", 12,18,16) #Pymc3     \n",
    "    C21  = pymc3.Deterministic(\"Net Profit\", D1(TT) )\n",
    "\n",
    "    \n",
    "    step = pymc3.Metropolis()\n",
    "    traced = sample(1000, step)\n",
    "\n",
    "nn = len(traced.varnames);\n",
    "plt.figure(figsize=(20,6))\n",
    "\n",
    "cc = 'ymbgrcmykw'*5;\n",
    "for i, j in enumerate(traced.varnames):\n",
    "    mn = np.mean(traced[j])\n",
    "    nn = \"{}{}{}\".format(1+int(len(traced.varnames)/4),4, i+1) ;\n",
    "    print (i, j, nn)\n",
    "    \n",
    "    if (j in determs):\n",
    "        ablines=['mean', 'std']; legend=True; low=4; high=np.math.inf\n",
    "    else:\n",
    "        ablines=[]; legend=False; low=None; high=None\n",
    "        \n",
    "    plthist(traced[j], title=j+' $\\mu$='+ str(mn), ylabel='Frequency', xlabel=j+' $', facecolor=cc[i], subplot=nn, ablines=ablines, legend=legend, low=low, high=high);\n",
    "\n",
    "plt.subplots_adjust(wspace=None, hspace=.3)"
   ]
  },
  {
   "cell_type": "code",
   "execution_count": 994,
   "metadata": {
    "collapsed": false
   },
   "outputs": [],
   "source": [
    "#TT   = Triangular1(\"Marketing Cost\", 12,18,16) #Pymc3     \n"
   ]
  }
 ],
 "metadata": {
  "anaconda-cloud": {},
  "hide_input": false,
  "kernelspec": {
   "display_name": "Python [default]",
   "language": "python",
   "name": "python3"
  },
  "language_info": {
   "codemirror_mode": {
    "name": "ipython",
    "version": 3
   },
   "file_extension": ".py",
   "mimetype": "text/x-python",
   "name": "python",
   "nbconvert_exporter": "python",
   "pygments_lexer": "ipython3",
   "version": "3.5.2"
  }
 },
 "nbformat": 4,
 "nbformat_minor": 1
}
