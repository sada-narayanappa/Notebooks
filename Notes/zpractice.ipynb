{
 "cells": [
  {
   "cell_type": "code",
   "execution_count": 3,
   "metadata": {
    "collapsed": false
   },
   "outputs": [
    {
     "data": {
      "text/html": [
       "<script type=\"text/javascript\" src=\"http://ajax.googleapis.com/ajax/libs/jquery/1.3/jquery.min.js\"></script>\n",
       "<style>\n",
       "body {\n",
       "    font-family: Times 'Merriweather', Georgia, serif;\n",
       "    font-size: 10pt;\n",
       "}\n",
       "\n",
       ".imgs {\n",
       "    width: 250px;\n",
       "    align: left;\n",
       "    float: left;\n",
       "    padding-right: 50px;\n",
       "    padding-top: 20px;\n",
       "    border: 0px gray;\n",
       "}\n",
       ".imgs1 {\n",
       "    align: left;\n",
       "    float: left;\n",
       "    padding-right: 50px;\n",
       "    padding-top: 20px;\n",
       "    border-top: 1px solid gray;\n",
       "    border-bottom: 1px solid gray;\n",
       "    margin-right: 50px;\n",
       "}\n",
       "hr {\n",
       "    height:3px;\n",
       "    border:none;\n",
       "    color:#333;\n",
       "    background-color:#333;\"\n",
       "}\n",
       "p {\n",
       "  margin: 10px auto;\n",
       "  padding: 6px 10px;\n",
       "  font-weight: 300;\n",
       "  font-size: 16px;\n",
       "  line-height: 1.4;\n",
       "}\n",
       "\n",
       "h1 {\n",
       "    margin: 20px auto 0px;\n",
       "    padding: 0 10px;\n",
       "    text-align: center;\n",
       "    font-size: 80px;\n",
       "    ffont-weight: 300;\n",
       "    mmax-width: 800px;\n",
       "}\n",
       "\n",
       "h4 {\n",
       "  max-width: 800px;\n",
       "  margin: 0 auto;\n",
       "  padding: 10px 10px;\n",
       "  font-family: sans-serif;\n",
       "}\n",
       "\n",
       "h5 {\n",
       "    padding-top: 8px;\n",
       "    padding-botton: 8px;\n",
       "    border-top:    1px solid gray;\n",
       "    border-bottom: 2px solid gray;\n",
       "}\n",
       "\n",
       "h6 {\n",
       "    padding-top: 14px;\n",
       "    padding-botton: 16px;\n",
       "    border-top:    2px solid #cccccc;\n",
       "    border-bottom: 2px solid #cccccc;\n",
       "}\n",
       "\n",
       ".thumbnail  {\n",
       "\tposition: relative;\n",
       "\tfloat: left;\n",
       "\tpadding: 0px;\n",
       "\tz-index: 3;\n",
       "}\n",
       "\n",
       ".thumbnail:hover {\n",
       "\tbackground-color: #e9e9e2;\n",
       "\tcolor: #335500;\n",
       "\ttext-decoration: none;\n",
       "}\n",
       "\n",
       ".thumbnail span { /*CSS for enlarged image*/\n",
       "\tposition: fixed;\n",
       "    opacity: 1.5;\n",
       "    background-color: #e5e5e5; \n",
       "\tpadding: 5px;\n",
       "\tborder: 1px solid #666;\n",
       "\tvisibility: hidden;\n",
       "\tcolor: black;\n",
       "\ttext-decoration: none;\n",
       "\ttop:  150px; /* use IF IE6 style to correct IE6 positions of larger image relative to thumb */\n",
       "\tright: 50px;/*position where enlarged image should offset horizontally */\n",
       "\tz-index: 9999;\n",
       "    filter: alpha(opacity=100); \n",
       "}\n",
       "\n",
       ".thumbnail:hover span { /*CSS for enlarged image on hover*/\n",
       "\tvisibility: visible; \n",
       "\twidth: 500px;\n",
       "}\n",
       "    \n",
       ".container { width: 100% !important; }\n",
       "    div.cell{\n",
       "        width:100%;\n",
       "        margin-left:0%;\n",
       "        margin-right:auto;\n",
       "}\n",
       "    \n",
       "div.prompt {display:none}\n",
       "    \n",
       "</style>\n",
       "\n",
       "<script type=\"text/javascript\" src=\"http://ajax.googleapis.com/ajax/libs/jquery/1.3/jquery.min.js\"></script>\n",
       "<script type=\"text/javascript\" src=\"http://d3js.org/d3.v3.min.js\"></script>\n",
       "<script type=\"text/javascript\" src=\"http://d3js.org/topojson.v1.min.js\"></script>\n",
       "<script type=\"text/javascript\" src=\"http://datamaps.github.io/scripts/0.4.0/datamaps.all.js\"></script>\n",
       "\n",
       "<script>\n",
       "function log(e) {\n",
       "    console.log(e)\n",
       "    \n",
       "}\n",
       "\n",
       "function toggleDiv(divId) {\n",
       "   $(\"#\"+divId).toggle();\n",
       "\n",
       "}\n",
       "</script>\n"
      ],
      "text/plain": [
       "<IPython.core.display.HTML object>"
      ]
     },
     "metadata": {},
     "output_type": "display_data"
    }
   ],
   "source": [
    "%run \"../common.ipynb\""
   ]
  },
  {
   "cell_type": "code",
   "execution_count": null,
   "metadata": {
    "collapsed": false
   },
   "outputs": [],
   "source": [
    "import numpy as np;\n",
    "import pandas as pd;\n",
    "import matplotlib.pylab as plt;\n",
    "import sys\n",
    "import datetime \n",
    "import random\n",
    "import tensorflow as tf\n",
    "sys.modules[__name__].__dict__.clear()\n"
   ]
  },
  {
   "cell_type": "code",
   "execution_count": null,
   "metadata": {
    "collapsed": false
   },
   "outputs": [],
   "source": [
    "s = tf.Session()\n",
    "a = tf.constant(1)\n",
    "b = tf.constant(20)\n",
    "print (s.run(a+b))"
   ]
  },
  {
   "cell_type": "code",
   "execution_count": 5,
   "metadata": {
    "collapsed": false
   },
   "outputs": [
    {
     "name": "stdout",
     "output_type": "stream",
     "text": [
      "Name: name V: A\n",
      "Name: name V: B\n",
      "11\n",
      "11\n",
      "12\n"
     ]
    }
   ],
   "source": [
    "class Base:\n",
    "    def getName(self):\n",
    "        return __name__;\n",
    "    \n",
    "    def Dump(self):\n",
    "        for i in self.__dict__.keys():\n",
    "            print (\"Name: \" + i + \" V: \" + self.__dict__[i])\n",
    "    \n",
    "class A(Base):\n",
    "    e = 9\n",
    "    def __init__(self, name = None):\n",
    "        self.name = name if not name is None else \"No Name\";\n",
    "        A.e+=1;\n",
    "        \n",
    "\n",
    "a = A(\"A\")\n",
    "b = A(\"B\")\n",
    "A.n =7;\n",
    "a.Dump()\n",
    "b.Dump()\n",
    "print (a.e)\n",
    "a.e +=1\n",
    "print (b.e)\n",
    "print (a.e)\n"
   ]
  },
  {
   "cell_type": "code",
   "execution_count": 6,
   "metadata": {
    "collapsed": false,
    "scrolled": true
   },
   "outputs": [
    {
     "name": "stdout",
     "output_type": "stream",
     "text": [
      "A B\n",
      "A B\n"
     ]
    }
   ],
   "source": [
    "class A:\n",
    "    \n",
    "    def f(self):\n",
    "        return self.g()\n",
    "\n",
    "    def g(self):\n",
    "        return 'A'\n",
    "\n",
    "class B(A):\n",
    "    def g(self):\n",
    "        return 'B'\n",
    "\n",
    "a = A()\n",
    "b = B()\n",
    "print (a.f(), b.f())\n",
    "print (a.g(), b.g())"
   ]
  },
  {
   "cell_type": "code",
   "execution_count": 195,
   "metadata": {
    "collapsed": false
   },
   "outputs": [
    {
     "name": "stdout",
     "output_type": "stream",
     "text": [
      "[ 0.84  0.11  0.05]\n"
     ]
    },
    {
     "data": {
      "image/png": "[encoded data removed]",
      "text/plain": [
       "<matplotlib.figure.Figure at 0x11d7dcbe0>"
      ]
     },
     "metadata": {},
     "output_type": "display_data"
    }
   ],
   "source": [
    "scores = [3.0, 1.0, 0.2]\n",
    "\n",
    "import numpy as np\n",
    "\n",
    "def softmax(x):\n",
    "    \"\"\"Compute softmax values for each sets of scores in x.\"\"\"\n",
    "    #pass  # TODO: Compute and return softmax(x)\n",
    "    a=np.exp(x)\n",
    "    b=np.sum(np.exp(x), axis=0)\n",
    "    c=a/b\n",
    "    return c\n",
    "\n",
    "\n",
    "print(softmax(scores))\n",
    "\n",
    "# Plot softmax curves\n",
    "import matplotlib.pyplot as plt\n",
    "x = np.arange(-2.0, 6.0, 0.1)\n",
    "scores = np.vstack([x, np.ones_like(x), 0.2 * np.ones_like(x)])\n",
    "\n",
    "plt.plot(x, softmax(scores).T, linewidth=2)\n",
    "plt.show()\n"
   ]
  },
  {
   "cell_type": "code",
   "execution_count": 99,
   "metadata": {
    "collapsed": false
   },
   "outputs": [
    {
     "name": "stdout",
     "output_type": "stream",
     "text": [
      "[ -2.00e+00  -1.90e+00  -1.80e+00  -1.70e+00  -1.60e+00  -1.50e+00  -1.40e+00  -1.30e+00  -1.20e+00  -1.10e+00  -1.00e+00  -9.00e-01  -8.00e-01  -7.00e-01  -6.00e-01  -5.00e-01  -4.00e-01  -3.00e-01  -2.00e-01  -1.00e-01   1.78e-15   1.00e-01   2.00e-01   3.00e-01   4.00e-01   5.00e-01   6.00e-01   7.00e-01   8.00e-01   9.00e-01   1.00e+00   1.10e+00   1.20e+00   1.30e+00   1.40e+00   1.50e+00   1.60e+00   1.70e+00   1.80e+00   1.90e+00   2.00e+00   2.10e+00   2.20e+00   2.30e+00   2.40e+00   2.50e+00   2.60e+00   2.70e+00   2.80e+00   2.90e+00   3.00e+00   3.10e+00   3.20e+00   3.30e+00   3.40e+00   3.50e+00   3.60e+00   3.70e+00   3.80e+00   3.90e+00   4.00e+00   4.10e+00   4.20e+00   4.30e+00   4.40e+00   4.50e+00   4.60e+00   4.70e+00   4.80e+00   4.90e+00   5.00e+00   5.10e+00   5.20e+00   5.30e+00   5.40e+00   5.50e+00   5.60e+00   5.70e+00   5.80e+00   5.90e+00]\n",
      "[ 1.  1.  1.  1.  1.  1.  1.  1.  1.  1.  1.  1.  1.  1.  1.  1.  1.  1.  1.  1.  1.  1.  1.  1.  1.  1.  1.  1.  1.  1.  1.  1.  1.  1.  1.  1.  1.  1.  1.  1.  1.  1.  1.  1.  1.  1.  1.  1.  1.  1.  1.  1.  1.  1.  1.  1.  1.  1.  1.  1.  1.  1.  1.  1.  1.  1.  1.  1.  1.  1.  1.  1.  1.  1.  1.  1.  1.  1.  1.  1.]\n",
      "[ 0.2  0.2  0.2  0.2  0.2  0.2  0.2  0.2  0.2  0.2  0.2  0.2  0.2  0.2  0.2  0.2  0.2  0.2  0.2  0.2  0.2  0.2  0.2  0.2  0.2  0.2  0.2  0.2  0.2  0.2  0.2  0.2  0.2  0.2  0.2  0.2  0.2  0.2  0.2  0.2  0.2  0.2  0.2  0.2  0.2  0.2  0.2  0.2  0.2  0.2  0.2  0.2  0.2  0.2  0.2  0.2  0.2  0.2  0.2  0.2  0.2  0.2  0.2  0.2  0.2  0.2  0.2  0.2  0.2  0.2  0.2  0.2  0.2  0.2  0.2  0.2  0.2  0.2  0.2  0.2]\n"
     ]
    }
   ],
   "source": [
    "for j in (scores):\n",
    "    print (j)"
   ]
  },
  {
   "cell_type": "code",
   "execution_count": 96,
   "metadata": {
    "collapsed": false
   },
   "outputs": [
    {
     "name": "stdout",
     "output_type": "stream",
     "text": [
      "a: [[  1.35e-01   1.50e-01   1.65e-01   1.83e-01   2.02e-01   2.23e-01   2.47e-01   2.73e-01   3.01e-01   3.33e-01   3.68e-01   4.07e-01   4.49e-01   4.97e-01   5.49e-01   6.07e-01   6.70e-01   7.41e-01   8.19e-01   9.05e-01   1.00e+00   1.11e+00   1.22e+00   1.35e+00   1.49e+00   1.65e+00   1.82e+00   2.01e+00   2.23e+00   2.46e+00   2.72e+00   3.00e+00   3.32e+00   3.67e+00   4.06e+00   4.48e+00   4.95e+00   5.47e+00   6.05e+00   6.69e+00   7.39e+00   8.17e+00   9.03e+00   9.97e+00   1.10e+01   1.22e+01   1.35e+01   1.49e+01   1.64e+01   1.82e+01   2.01e+01   2.22e+01   2.45e+01   2.71e+01   3.00e+01   3.31e+01   3.66e+01   4.04e+01   4.47e+01   4.94e+01   5.46e+01   6.03e+01   6.67e+01   7.37e+01   8.15e+01   9.00e+01   9.95e+01   1.10e+02   1.22e+02   1.34e+02   1.48e+02   1.64e+02   1.81e+02   2.00e+02   2.21e+02   2.45e+02   2.70e+02   2.99e+02   3.30e+02   3.65e+02]\n",
      " [  2.72e+00   2.72e+00   2.72e+00   2.72e+00   2.72e+00   2.72e+00   2.72e+00   2.72e+00   2.72e+00   2.72e+00   2.72e+00   2.72e+00   2.72e+00   2.72e+00   2.72e+00   2.72e+00   2.72e+00   2.72e+00   2.72e+00   2.72e+00   2.72e+00   2.72e+00   2.72e+00   2.72e+00   2.72e+00   2.72e+00   2.72e+00   2.72e+00   2.72e+00   2.72e+00   2.72e+00   2.72e+00   2.72e+00   2.72e+00   2.72e+00   2.72e+00   2.72e+00   2.72e+00   2.72e+00   2.72e+00   2.72e+00   2.72e+00   2.72e+00   2.72e+00   2.72e+00   2.72e+00   2.72e+00   2.72e+00   2.72e+00   2.72e+00   2.72e+00   2.72e+00   2.72e+00   2.72e+00   2.72e+00   2.72e+00   2.72e+00   2.72e+00   2.72e+00   2.72e+00   2.72e+00   2.72e+00   2.72e+00   2.72e+00   2.72e+00   2.72e+00   2.72e+00   2.72e+00   2.72e+00   2.72e+00   2.72e+00   2.72e+00   2.72e+00   2.72e+00   2.72e+00   2.72e+00   2.72e+00   2.72e+00   2.72e+00   2.72e+00]\n",
      " [  1.22e+00   1.22e+00   1.22e+00   1.22e+00   1.22e+00   1.22e+00   1.22e+00   1.22e+00   1.22e+00   1.22e+00   1.22e+00   1.22e+00   1.22e+00   1.22e+00   1.22e+00   1.22e+00   1.22e+00   1.22e+00   1.22e+00   1.22e+00   1.22e+00   1.22e+00   1.22e+00   1.22e+00   1.22e+00   1.22e+00   1.22e+00   1.22e+00   1.22e+00   1.22e+00   1.22e+00   1.22e+00   1.22e+00   1.22e+00   1.22e+00   1.22e+00   1.22e+00   1.22e+00   1.22e+00   1.22e+00   1.22e+00   1.22e+00   1.22e+00   1.22e+00   1.22e+00   1.22e+00   1.22e+00   1.22e+00   1.22e+00   1.22e+00   1.22e+00   1.22e+00   1.22e+00   1.22e+00   1.22e+00   1.22e+00   1.22e+00   1.22e+00   1.22e+00   1.22e+00   1.22e+00   1.22e+00   1.22e+00   1.22e+00   1.22e+00   1.22e+00   1.22e+00   1.22e+00   1.22e+00   1.22e+00   1.22e+00   1.22e+00   1.22e+00   1.22e+00   1.22e+00   1.22e+00   1.22e+00   1.22e+00   1.22e+00   1.22e+00]]\n",
      "b: [   4.08    4.09    4.1     4.12    4.14    4.16    4.19    4.21    4.24    4.27    4.31    4.35    4.39    4.44    4.49    4.55    4.61    4.68    4.76    4.84    4.94    5.04    5.16    5.29    5.43    5.59    5.76    5.95    6.17    6.4     6.66    6.94    7.26    7.61    7.99    8.42    8.89    9.41    9.99   10.63   11.33   12.11   12.96   13.91   14.96   16.12   17.4    18.82   20.38   22.11   24.03   26.14   28.47   31.05   33.9    37.06   40.54   44.39   48.64   53.34   58.54   64.28   70.63   77.64   85.39   93.96  103.42  113.89  125.45  138.23  152.35  167.96  185.21  204.28  225.35  248.63  274.37  302.81  334.24  368.98]\n",
      "c: [[ 0.03  0.04  0.04  0.04  0.05  0.05  0.06  0.06  0.07  0.08  0.09  0.09  0.1   0.11  0.12  0.13  0.15  0.16  0.17  0.19  0.2   0.22  0.24  0.26  0.27  0.3   0.32  0.34  0.36  0.38  0.41  0.43  0.46  0.48  0.51  0.53  0.56  0.58  0.61  0.63  0.65  0.67  0.7   0.72  0.74  0.76  0.77  0.79  0.81  0.82  0.84  0.85  0.86  0.87  0.88  0.89  0.9   0.91  0.92  0.93  0.93  0.94  0.94  0.95  0.95  0.96  0.96  0.97  0.97  0.97  0.97  0.98  0.98  0.98  0.98  0.98  0.99  0.99  0.99  0.99]\n",
      " [ 0.67  0.66  0.66  0.66  0.66  0.65  0.65  0.65  0.64  0.64  0.63  0.63  0.62  0.61  0.61  0.6   0.59  0.58  0.57  0.56  0.55  0.54  0.53  0.51  0.5   0.49  0.47  0.46  0.44  0.42  0.41  0.39  0.37  0.36  0.34  0.32  0.31  0.29  0.27  0.26  0.24  0.22  0.21  0.2   0.18  0.17  0.16  0.14  0.13  0.12  0.11  0.1   0.1   0.09  0.08  0.07  0.07  0.06  0.06  0.05  0.05  0.04  0.04  0.04  0.03  0.03  0.03  0.02  0.02  0.02  0.02  0.02  0.01  0.01  0.01  0.01  0.01  0.01  0.01  0.01]\n",
      " [ 0.3   0.3   0.3   0.3   0.29  0.29  0.29  0.29  0.29  0.29  0.28  0.28  0.28  0.28  0.27  0.27  0.26  0.26  0.26  0.25  0.25  0.24  0.24  0.23  0.22  0.22  0.21  0.21  0.2   0.19  0.18  0.18  0.17  0.16  0.15  0.15  0.14  0.13  0.12  0.11  0.11  0.1   0.09  0.09  0.08  0.08  0.07  0.06  0.06  0.06  0.05  0.05  0.04  0.04  0.04  0.03  0.03  0.03  0.03  0.02  0.02  0.02  0.02  0.02  0.01  0.01  0.01  0.01  0.01  0.01  0.01  0.01  0.01  0.01  0.01  0.    0.    0.    0.    0.  ]]\n"
     ]
    }
   ],
   "source": [
    "a=np.exp(scores)\n",
    "b=np.sum(np.exp(scores), axis=0)\n",
    "c=a/b\n",
    "print(\"a:\", a)\n",
    "print(\"b:\", b)\n",
    "print(\"c:\", c)"
   ]
  },
  {
   "cell_type": "code",
   "execution_count": 64,
   "metadata": {
    "collapsed": false,
    "scrolled": true
   },
   "outputs": [
    {
     "data": {
      "text/plain": [
       "([0, 1, 2, 4], [3, 5, 7, 5], [5, 6, 8, 6])"
      ]
     },
     "execution_count": 64,
     "metadata": {},
     "output_type": "execute_result"
    }
   ],
   "source": [
    "a"
   ]
  },
  {
   "cell_type": "code",
   "execution_count": 83,
   "metadata": {
    "collapsed": false
   },
   "outputs": [
    {
     "name": "stdout",
     "output_type": "stream",
     "text": [
      "[(0, 3, 5), (1, 5, 6), (2, 7, 8), (4, 5, 6)]\n"
     ]
    }
   ],
   "source": [
    "c = zip(b[0],b[1],b[2])\n",
    "print (list(c))"
   ]
  },
  {
   "cell_type": "code",
   "execution_count": 65,
   "metadata": {
    "collapsed": false
   },
   "outputs": [
    {
     "data": {
      "text/plain": [
       "[([0, 1, 2, 4],), ([3, 5, 7, 5],), ([5, 6, 8, 6],)]"
      ]
     },
     "execution_count": 65,
     "metadata": {},
     "output_type": "execute_result"
    }
   ],
   "source": [
    "list(zip(a))"
   ]
  },
  {
   "cell_type": "code",
   "execution_count": 72,
   "metadata": {
    "collapsed": false
   },
   "outputs": [
    {
     "name": "stdout",
     "output_type": "stream",
     "text": [
      "(array([0, 1, 2, 4]),) [[ 0.    0.14  0.29  0.57]]\n",
      "(array([3, 5, 7, 5]),) [[ 0.15  0.25  0.35  0.25]]\n",
      "(array([5, 6, 8, 6]),) [[ 0.2   0.24  0.32  0.24]]\n"
     ]
    }
   ],
   "source": [
    "for c in (zip(b)):\n",
    "    s = sum(c)\n",
    "    c1 = c/s;\n",
    "    print(c, c1)"
   ]
  },
  {
   "cell_type": "code",
   "execution_count": 70,
   "metadata": {
    "collapsed": false
   },
   "outputs": [
    {
     "data": {
      "text/plain": [
       "array([[0, 1, 2, 4],\n",
       "       [3, 5, 7, 5],\n",
       "       [5, 6, 8, 6]])"
      ]
     },
     "execution_count": 70,
     "metadata": {},
     "output_type": "execute_result"
    }
   ],
   "source": [
    "np.vstack(b)"
   ]
  },
  {
   "cell_type": "code",
   "execution_count": 90,
   "metadata": {
    "collapsed": false
   },
   "outputs": [
    {
     "data": {
      "text/plain": [
       "[(0, 3, 5), (1, 5, 6), (2, 7, 8), (4, 5, 6)]"
      ]
     },
     "execution_count": 90,
     "metadata": {},
     "output_type": "execute_result"
    }
   ],
   "source": [
    "c=(zip (b[0],b[1],b[2]))\n",
    "list(c)"
   ]
  },
  {
   "cell_type": "code",
   "execution_count": 105,
   "metadata": {
    "collapsed": false
   },
   "outputs": [
    {
     "name": "stdout",
     "output_type": "stream",
     "text": [
      "2016-07-23 10:52:14.850037 2016-07-23 11:52:14.850037\n"
     ]
    }
   ],
   "source": [
    "from datetime import datetime, timedelta;\n",
    "\n",
    "t1 = datetime.now();\n",
    "d1 = timedelta(hours=1)\n",
    "t2 = t1 + d1;\n",
    "print (t1,t2)\n"
   ]
  },
  {
   "cell_type": "code",
   "execution_count": 108,
   "metadata": {
    "collapsed": false
   },
   "outputs": [
    {
     "ename": "ImportError",
     "evalue": "cannot import name 'daterange'",
     "output_type": "error",
     "traceback": [
      "\u001b[0;31m---------------------------------------------------------------------------\u001b[0m",
      "\u001b[0;31mImportError\u001b[0m                               Traceback (most recent call last)",
      "\u001b[0;32m<ipython-input-108-56d8a16c400d>\u001b[0m in \u001b[0;36m<module>\u001b[0;34m()\u001b[0m\n\u001b[0;32m----> 1\u001b[0;31m \u001b[0;32mfrom\u001b[0m \u001b[0mpandas\u001b[0m \u001b[0;32mimport\u001b[0m \u001b[0mdaterange\u001b[0m\u001b[0;34m;\u001b[0m\u001b[0;34m\u001b[0m\u001b[0m\n\u001b[0m\u001b[1;32m      2\u001b[0m \u001b[0;34m\u001b[0m\u001b[0m\n\u001b[1;32m      3\u001b[0m \u001b[0;32mfor\u001b[0m \u001b[0mi\u001b[0m \u001b[0;32min\u001b[0m \u001b[0mdaterange\u001b[0m\u001b[0;34m(\u001b[0m\u001b[0;36m12\u001b[0m\u001b[0;34m)\u001b[0m\u001b[0;34m:\u001b[0m\u001b[0;34m\u001b[0m\u001b[0m\n\u001b[1;32m      4\u001b[0m     \u001b[0mprint\u001b[0m \u001b[0;34m(\u001b[0m\u001b[0mi\u001b[0m\u001b[0;34m)\u001b[0m\u001b[0;34m\u001b[0m\u001b[0m\n",
      "\u001b[0;31mImportError\u001b[0m: cannot import name 'daterange'"
     ]
    }
   ],
   "source": [
    "from pandas import daterange;\n",
    "\n",
    "for i in daterange(12):\n",
    "    print (i)"
   ]
  },
  {
   "cell_type": "code",
   "execution_count": 113,
   "metadata": {
    "collapsed": false
   },
   "outputs": [
    {
     "data": {
      "text/plain": [
       "pandas.core.series.Series"
      ]
     },
     "execution_count": 113,
     "metadata": {},
     "output_type": "execute_result"
    }
   ],
   "source": [
    "from pandas import Series;\n",
    "dates = [datetime(2011, 1, 2), datetime(2011, 1, 5), datetime(2011, 1, 7), datetime(2011, 1, 8), datetime(2011, 1, 10), datetime(2011, 1, 12)]\n",
    "ts = Series(np.random.randn(6), index=dates)\n",
    "type(ts)\n"
   ]
  },
  {
   "cell_type": "code",
   "execution_count": 114,
   "metadata": {
    "collapsed": false
   },
   "outputs": [
    {
     "data": {
      "text/plain": [
       "2011-01-02    0.461\n",
       "2011-01-07   -1.408\n",
       "2011-01-10    0.590\n",
       "dtype: float64"
      ]
     },
     "execution_count": 114,
     "metadata": {},
     "output_type": "execute_result"
    }
   ],
   "source": [
    "ts[::2]"
   ]
  },
  {
   "cell_type": "code",
   "execution_count": 119,
   "metadata": {
    "collapsed": false
   },
   "outputs": [],
   "source": [
    "a=np.array(([ 0, 1, 2, 3, 4, 5, 6,7,8,9,10, 11, 12, 12, 8, 9]))"
   ]
  },
  {
   "cell_type": "code",
   "execution_count": 209,
   "metadata": {
    "collapsed": false
   },
   "outputs": [
    {
     "name": "stdout",
     "output_type": "stream",
     "text": [
      "None\n"
     ]
    },
    {
     "ename": "AttributeError",
     "evalue": "'NoneType' object has no attribute 'T'",
     "output_type": "error",
     "traceback": [
      "\u001b[0;31m---------------------------------------------------------------------------\u001b[0m",
      "\u001b[0;31mAttributeError\u001b[0m                            Traceback (most recent call last)",
      "\u001b[0;32m<ipython-input-209-512ee209215c>\u001b[0m in \u001b[0;36m<module>\u001b[0;34m()\u001b[0m\n\u001b[1;32m     15\u001b[0m \u001b[0mscores\u001b[0m \u001b[0;34m=\u001b[0m \u001b[0mnp\u001b[0m\u001b[0;34m.\u001b[0m\u001b[0mvstack\u001b[0m\u001b[0;34m(\u001b[0m\u001b[0;34m[\u001b[0m\u001b[0mx\u001b[0m\u001b[0;34m,\u001b[0m \u001b[0mnp\u001b[0m\u001b[0;34m.\u001b[0m\u001b[0mones_like\u001b[0m\u001b[0;34m(\u001b[0m\u001b[0mx\u001b[0m\u001b[0;34m)\u001b[0m\u001b[0;34m,\u001b[0m \u001b[0;36m0.8\u001b[0m \u001b[0;34m*\u001b[0m \u001b[0mnp\u001b[0m\u001b[0;34m.\u001b[0m\u001b[0mones_like\u001b[0m\u001b[0;34m(\u001b[0m\u001b[0mx\u001b[0m\u001b[0;34m)\u001b[0m\u001b[0;34m]\u001b[0m\u001b[0;34m)\u001b[0m\u001b[0;34m\u001b[0m\u001b[0m\n\u001b[1;32m     16\u001b[0m \u001b[0;34m\u001b[0m\u001b[0m\n\u001b[0;32m---> 17\u001b[0;31m \u001b[0mplt\u001b[0m\u001b[0;34m.\u001b[0m\u001b[0mplot\u001b[0m\u001b[0;34m(\u001b[0m\u001b[0mx\u001b[0m\u001b[0;34m,\u001b[0m \u001b[0msoftmax\u001b[0m\u001b[0;34m(\u001b[0m\u001b[0mscores\u001b[0m\u001b[0;34m)\u001b[0m\u001b[0;34m.\u001b[0m\u001b[0mT\u001b[0m\u001b[0;34m,\u001b[0m \u001b[0mlinewidth\u001b[0m\u001b[0;34m=\u001b[0m\u001b[0;36m2\u001b[0m\u001b[0;34m)\u001b[0m\u001b[0;34m\u001b[0m\u001b[0m\n\u001b[0m\u001b[1;32m     18\u001b[0m \u001b[0mplt\u001b[0m\u001b[0;34m.\u001b[0m\u001b[0mshow\u001b[0m\u001b[0;34m(\u001b[0m\u001b[0;34m)\u001b[0m\u001b[0;34m\u001b[0m\u001b[0m\n",
      "\u001b[0;31mAttributeError\u001b[0m: 'NoneType' object has no attribute 'T'"
     ]
    }
   ],
   "source": [
    "scores = [3.0, 1.0, 0.2]\n",
    "\n",
    "import numpy as np\n",
    "\n",
    "def softmax(x):\n",
    "    \"\"\"Compute softmax values for each sets of scores in x.\"\"\"\n",
    "    pass  # TODO: Compute and return softmax(x)\n",
    "\n",
    "\n",
    "print(softmax(scores))\n",
    "\n",
    "# Plot softmax curves\n",
    "import matplotlib.pyplot as plt\n",
    "x = np.arange(-2.0, 6.0, 0.1)\n",
    "scores = np.vstack([x, np.ones_like(x), 0.8 * np.ones_like(x)])\n",
    "\n",
    "plt.plot(x, softmax(scores).T, linewidth=2)\n",
    "plt.show()"
   ]
  },
  {
   "cell_type": "code",
   "execution_count": 211,
   "metadata": {
    "collapsed": true
   },
   "outputs": [],
   "source": [
    "x = np.arange(1, 10, 1)\n",
    "a = [x, np.ones_like(x), x * .8]\n",
    "b= np.vstack(a)"
   ]
  },
  {
   "cell_type": "code",
   "execution_count": 212,
   "metadata": {
    "collapsed": false,
    "scrolled": true
   },
   "outputs": [
    {
     "name": "stdout",
     "output_type": "stream",
     "text": [
      "[1 2 3 4 5 6 7 8 9]\n",
      "\n",
      "[array([1, 2, 3, 4, 5, 6, 7, 8, 9]), array([1, 1, 1, 1, 1, 1, 1, 1, 1]), array([ 0.8,  1.6,  2.4,  3.2,  4. ,  4.8,  5.6,  6.4,  7.2])]\n",
      "\n",
      "[[ 1.   2.   3.   4.   5.   6.   7.   8.   9. ]\n",
      " [ 1.   1.   1.   1.   1.   1.   1.   1.   1. ]\n",
      " [ 0.8  1.6  2.4  3.2  4.   4.8  5.6  6.4  7.2]]\n",
      "\n",
      "[[  2.72e+00   7.39e+00   2.01e+01   5.46e+01   1.48e+02   4.03e+02   1.10e+03   2.98e+03   8.10e+03]\n",
      " [  2.72e+00   2.72e+00   2.72e+00   2.72e+00   2.72e+00   2.72e+00   2.72e+00   2.72e+00   2.72e+00]\n",
      " [  2.23e+00   4.95e+00   1.10e+01   2.45e+01   5.46e+01   1.22e+02   2.70e+02   6.02e+02   1.34e+03]]\n",
      "\n",
      "[  7.66e+00   1.51e+01   3.38e+01   8.18e+01   2.06e+02   5.28e+02   1.37e+03   3.59e+03   9.45e+03]\n",
      "\n",
      "[[  3.55e-01   4.91e-01   5.94e-01   6.67e-01   7.21e-01   7.65e-01   8.01e-01   8.31e-01   8.58e-01]\n",
      " [  3.55e-01   1.80e-01   8.04e-02   3.32e-02   1.32e-02   5.15e-03   1.98e-03   7.58e-04   2.88e-04]\n",
      " [  2.90e-01   3.29e-01   3.26e-01   3.00e-01   2.65e-01   2.30e-01   1.97e-01   1.68e-01   1.42e-01]]\n",
      "\n",
      "[ 1.  1.  1.  1.  1.  1.  1.  1.  1.]\n"
     ]
    }
   ],
   "source": [
    "exp(b)/np.sum(exp(b), axis=0)\n",
    "a1=np.exp(a)\n",
    "b1=np.sum(np.exp(a), axis=0)\n",
    "c1=a1/b1\n",
    "d1=np.sum(c1, axis=0)\n",
    "print (x, a, b, a1, b1,c1, d1, sep=\"\\n\\n\")\n"
   ]
  }
 ],
 "metadata": {
  "hide_input": false,
  "kernelspec": {
   "display_name": "Python 3",
   "language": "python",
   "name": "python3"
  },
  "language_info": {
   "codemirror_mode": {
    "name": "ipython",
    "version": 3
   },
   "file_extension": ".py",
   "mimetype": "text/x-python",
   "name": "python",
   "nbconvert_exporter": "python",
   "pygments_lexer": "ipython3",
   "version": "3.5.2"
  }
 },
 "nbformat": 4,
 "nbformat_minor": 0
}
