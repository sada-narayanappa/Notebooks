{
 "cells": [
  {
   "cell_type": "code",
   "execution_count": 1,
   "metadata": {},
   "outputs": [],
   "source": [
    "import sys\n",
    "import importlib as imp\n",
    "if ('Jupytils' in sys.modules):\n",
    "    reloaded = imp.reload(Jupytils)\n",
    "else:\n",
    "    import Jupytils\n",
    "    "
   ]
  },
  {
   "cell_type": "code",
   "execution_count": null,
   "metadata": {},
   "outputs": [],
   "source": [
    "import numpy as np;\n",
    "import pandas as pd;\n",
    "import matplotlib.pylab as plt;\n",
    "import sys\n",
    "import datetime \n",
    "import random\n",
    "import tensorflow as tf\n",
    "sys.modules[__name__].__dict__.clear()\n"
   ]
  },
  {
   "cell_type": "code",
   "execution_count": null,
   "metadata": {},
   "outputs": [],
   "source": [
    "s = tf.Session()\n",
    "a = tf.constant(1)\n",
    "b = tf.constant(20)\n",
    "print (s.run(a+b))"
   ]
  },
  {
   "cell_type": "code",
   "execution_count": 5,
   "metadata": {},
   "outputs": [
    {
     "name": "stdout",
     "output_type": "stream",
     "text": [
      "Name: name V: A\n",
      "Name: name V: B\n",
      "11\n",
      "11\n",
      "12\n"
     ]
    }
   ],
   "source": [
    "class Base:\n",
    "    def getName(self):\n",
    "        return __name__;\n",
    "    \n",
    "    def Dump(self):\n",
    "        for i in self.__dict__.keys():\n",
    "            print (\"Name: \" + i + \" V: \" + self.__dict__[i])\n",
    "    \n",
    "class A(Base):\n",
    "    e = 9\n",
    "    def __init__(self, name = None):\n",
    "        self.name = name if not name is None else \"No Name\";\n",
    "        A.e+=1;\n",
    "        \n",
    "\n",
    "a = A(\"A\")\n",
    "b = A(\"B\")\n",
    "A.n =7;\n",
    "a.Dump()\n",
    "b.Dump()\n",
    "print (a.e)\n",
    "a.e +=1\n",
    "print (b.e)\n",
    "print (a.e)\n"
   ]
  },
  {
   "cell_type": "code",
   "execution_count": 6,
   "metadata": {
    "scrolled": true
   },
   "outputs": [
    {
     "name": "stdout",
     "output_type": "stream",
     "text": [
      "A B\n",
      "A B\n"
     ]
    }
   ],
   "source": [
    "class A:\n",
    "    \n",
    "    def f(self):\n",
    "        return self.g()\n",
    "\n",
    "    def g(self):\n",
    "        return 'A'\n",
    "\n",
    "class B(A):\n",
    "    def g(self):\n",
    "        return 'B'\n",
    "\n",
    "a = A()\n",
    "b = B()\n",
    "print (a.f(), b.f())\n",
    "print (a.g(), b.g())"
   ]
  },
  {
   "cell_type": "code",
   "execution_count": 195,
   "metadata": {},
   "outputs": [
    {
     "name": "stdout",
     "output_type": "stream",
     "text": [
      "[ 0.84  0.11  0.05]\n"
     ]
    },
    {
     "data": {
      "image/png": "[encoded data removed]",
      "text/plain": [
       "<matplotlib.figure.Figure at 0x11d7dcbe0>"
      ]
     },
     "metadata": {},
     "output_type": "display_data"
    }
   ],
   "source": [
    "scores = [3.0, 1.0, 0.2]\n",
    "\n",
    "import numpy as np\n",
    "\n",
    "def softmax(x):\n",
    "    \"\"\"Compute softmax values for each sets of scores in x.\"\"\"\n",
    "    #pass  # TODO: Compute and return softmax(x)\n",
    "    a=np.exp(x)\n",
    "    b=np.sum(np.exp(x), axis=0)\n",
    "    c=a/b\n",
    "    return c\n",
    "\n",
    "\n",
    "print(softmax(scores))\n",
    "\n",
    "# Plot softmax curves\n",
    "import matplotlib.pyplot as plt\n",
    "x = np.arange(-2.0, 6.0, 0.1)\n",
    "scores = np.vstack([x, np.ones_like(x), 0.2 * np.ones_like(x)])\n",
    "\n",
    "plt.plot(x, softmax(scores).T, linewidth=2)\n",
    "plt.show()\n"
   ]
  },
  {
   "cell_type": "code",
   "execution_count": 2,
   "metadata": {},
   "outputs": [
    {
     "name": "stdout",
     "output_type": "stream",
     "text": [
      "[0, 0, 0, 1, 2, 2, 2, 2]\n"
     ]
    }
   ],
   "source": [
    "#if the array is [3, 5, 2, -4, 8, 11] and the sum is 7, \n",
    "# your program should return [[11, -4], [2, 5]] because 11 + -4 = 7 and 2 + 5 = 7.\n",
    "\n",
    "def swap(arr, i1, i2):\n",
    "    temp = arr[i1]\n",
    "    arr[i1] = arr[i2]\n",
    "    arr[i2] = temp\n",
    "\n",
    "def dutchNatFlag(arr):\n",
    "    low = 0\n",
    "    mid = 0\n",
    "    high = len(arr) - 1\n",
    "\n",
    "    while mid <= high:\n",
    "        if arr[mid] == 0:\n",
    "            swap(arr, low, mid)\n",
    "            low += 1\n",
    "            mid += 1\n",
    "        elif arr[mid] == 2:\n",
    "            swap(arr, mid, high)\n",
    "            high -= 1\n",
    "        elif arr[mid] == 1:\n",
    "            mid += 1\n",
    "\n",
    "    return arr\n",
    "  \n",
    "print (dutchNatFlag([2,2,2,0,0,0,1,2])) "
   ]
  },
  {
   "cell_type": "code",
   "execution_count": 6,
   "metadata": {
    "scrolled": false
   },
   "outputs": [],
   "source": [
    "def perm(o,p,i,r):\n",
    "    if ( i == r):\n",
    "        print(p)\n",
    "        return\n",
    "    \n",
    "    for j in range(len(o)):\n",
    "        p[i] = o[j]\n",
    "        perm(o,p,i+1,r)\n",
    "    \n",
    "\n",
    "r=3\n",
    "#perm('java', ['']*r, 0, r)"
   ]
  },
  {
   "cell_type": "code",
   "execution_count": 18,
   "metadata": {
    "scrolled": false
   },
   "outputs": [
    {
     "name": "stdout",
     "output_type": "stream",
     "text": [
      "abc\n",
      "acb\n",
      "bac\n",
      "bca\n",
      "cab\n",
      "cba\n"
     ]
    },
    {
     "data": {
      "text/plain": [
       "''"
      ]
     },
     "execution_count": 18,
     "metadata": {},
     "output_type": "execute_result"
    }
   ],
   "source": [
    "a=\"abc\"\n",
    "o='''\n",
    "abc\n",
    "acb\n",
    "bac\n",
    "bca\n",
    "cba\n",
    "cab\n",
    "'''\n",
    "\n",
    "#pos - n choices, n-1, n2, ...\n",
    "\n",
    "def perm(o,u,p,l):\n",
    "    if ( len(o) == l):\n",
    "        print(\"\".join(p) )\n",
    "        return\n",
    "    \n",
    "    for j in range(len(o)):\n",
    "        if (u[j]): continue;\n",
    "            \n",
    "        p[l] = o[j]\n",
    "        u[j] = 1\n",
    "        perm(o,u,p,l+1)\n",
    "        u[j] = 0\n",
    "        \n",
    "    return ''\n",
    "     \n",
    "s=\"abc\"\n",
    "u=[0] * len(s)\n",
    "p=[0] * len(s)\n",
    "perm(s,u,p,0)\n"
   ]
  },
  {
   "cell_type": "code",
   "execution_count": 46,
   "metadata": {},
   "outputs": [
    {
     "name": "stdout",
     "output_type": "stream",
     "text": [
      "==>  \n",
      "==>  3\n",
      "==>  2\n",
      "==>  23\n",
      "==>  1\n",
      "==>  13\n",
      "==>  12\n",
      "==>  123\n"
     ]
    }
   ],
   "source": [
    "## Print all subsets of a atring\n",
    "\n",
    "def subset(s, p, i):\n",
    "    if (i == len(s)):\n",
    "        print(\"==> \", ''.join(p) )\n",
    "        return\n",
    "    p[i] =''\n",
    "    subset(s,p,i+1)\n",
    "    p[i] = s[i]\n",
    "    subset(s,p,i+1)\n",
    "\n",
    "s=\"123\"\n",
    "p=['']*len(s)\n",
    "subset(s,p,0)"
   ]
  },
  {
   "cell_type": "code",
   "execution_count": 67,
   "metadata": {},
   "outputs": [
    {
     "name": "stdout",
     "output_type": "stream",
     "text": [
      "5 6 1\n",
      "5 buy@1:0 sell@6:0\n"
     ]
    },
    {
     "data": {
      "text/plain": [
       "5"
      ]
     },
     "execution_count": 67,
     "metadata": {},
     "output_type": "execute_result"
    }
   ],
   "source": [
    "\n",
    "    "
   ]
  },
  {
   "cell_type": "code",
   "execution_count": null,
   "metadata": {},
   "outputs": [],
   "source": [
    "import subprocess\n",
    "import os\n",
    "\n",
    "def get(a, idx, default=None):\n",
    "    if len(a) < idx:\n",
    "        return default\n",
    "    else:\n",
    "        return a[idx]\n",
    "    \n",
    "os.chdir(\"/NEC/SIAT/\")\n",
    "print (f\"{os.curdir()}\")\n",
    "\n",
    "file = get(args,1)\n",
    "if not file:\n",
    "    print(\"No Input file?\")\n",
    "    abort()\n",
    "    \n",
    "print(f\"Processing {file}\")\n",
    "subprocess.call([\"ls\", \"-l\"])\n",
    "\n"
   ]
  }
 ],
 "metadata": {
  "anaconda-cloud": {},
  "hide_input": false,
  "kernelspec": {
   "display_name": "Python 3",
   "language": "python",
   "name": "python3"
  },
  "language_info": {
   "codemirror_mode": {
    "name": "ipython",
    "version": 3
   },
   "file_extension": ".py",
   "mimetype": "text/x-python",
   "name": "python",
   "nbconvert_exporter": "python",
   "pygments_lexer": "ipython3",
   "version": "3.7.3"
  },
  "latex_envs": {
   "LaTeX_envs_menu_present": true,
   "autoclose": false,
   "autocomplete": true,
   "bibliofile": "biblio.bib",
   "cite_by": "apalike",
   "current_citInitial": 1,
   "eqLabelWithNumbers": true,
   "eqNumInitial": 1,
   "hotkeys": {
    "equation": "Ctrl-E",
    "itemize": "Ctrl-I"
   },
   "labels_anchors": false,
   "latex_user_defs": false,
   "report_style_numbering": false,
   "user_envs_cfg": false
  },
  "toc": {
   "base_numbering": 1,
   "nav_menu": {},
   "number_sections": true,
   "sideBar": true,
   "skip_h1_title": false,
   "title_cell": "Table of Contents",
   "title_sidebar": "Contents",
   "toc_cell": false,
   "toc_position": {},
   "toc_section_display": true,
   "toc_window_display": false
  }
 },
 "nbformat": 4,
 "nbformat_minor": 1
}
