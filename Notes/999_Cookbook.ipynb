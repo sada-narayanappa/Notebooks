{
 "cells": [
  {
   "cell_type": "code",
   "execution_count": 5,
   "metadata": {
    "collapsed": false
   },
   "outputs": [
    {
     "data": {
      "text/html": [
       "<script type=\"text/javascript\" src=\"http://ajax.googleapis.com/ajax/libs/jquery/1.3/jquery.min.js\"></script>\n",
       "<style>\n",
       "body {\n",
       "  font-family: Times 'Merriweather', Georgia, serif;\n",
       "}\n",
       "\n",
       ".imgs {\n",
       "    width: 250px;\n",
       "    align: left;\n",
       "    float: left;\n",
       "    padding-right: 50px;\n",
       "    padding-top: 20px;\n",
       "    border: 1px gray\n",
       "}\n",
       ".imgs1 {\n",
       "    align: left;\n",
       "    float: left;\n",
       "    padding-right: 50px;\n",
       "    padding-top: 20px;\n",
       "    border: 1px solid black;\n",
       "}\n",
       "\n",
       "hr {\n",
       "    height:3px;\n",
       "    border:none;\n",
       "    color:#333;\n",
       "    background-color:#333;\"\n",
       "}\n",
       "\n",
       "p {\n",
       "  margin: 10px auto;\n",
       "  padding: 6px 10px;\n",
       "  font-weight: 300;\n",
       "  font-size: 16px;\n",
       "  line-height: 1.4;\n",
       "}\n",
       "\n",
       "h1 {\n",
       "    margin: 20px auto 0px;\n",
       "    padding: 0 10px;\n",
       "    text-align: center;\n",
       "    font-size: 80px;\n",
       "    ffont-weight: 300;\n",
       "    mmax-width: 800px;\n",
       "}\n",
       "\n",
       "h4 {\n",
       "  max-width: 800px;\n",
       "  margin: 0 auto;\n",
       "  padding: 10px 10px;\n",
       "  font-family: sans-serif;\n",
       "}\n",
       "\n",
       "\n",
       ".thumbnail  {\n",
       "\tposition: relative;\n",
       "\tfloat: left;\n",
       "\tpadding: 0px;\n",
       "\tz-index: 3;\n",
       "}\n",
       "\n",
       ".thumbnail:hover {\n",
       "\tbackground-color: #e9e9e2;\n",
       "\tcolor: #335500;\n",
       "\ttext-decoration: none;\n",
       "}\n",
       "\n",
       ".thumbnail span { /*CSS for enlarged image*/\n",
       "\tposition: fixed;\n",
       "    opacity: 1.5;\n",
       "    background-color: #e5e5e5; \n",
       "\tpadding: 5px;\n",
       "\tborder: 1px solid #666;\n",
       "\tvisibility: hidden;\n",
       "\tcolor: black;\n",
       "\ttext-decoration: none;\n",
       "\ttop:  150px; /* use IF IE6 style to correct IE6 positions of larger image relative to thumb */\n",
       "\tright: 50px;/*position where enlarged image should offset horizontally */\n",
       "\tz-index: 9999;\n",
       "    filter: alpha(opacity=100); \n",
       "}\n",
       "\n",
       ".thumbnail:hover span { /*CSS for enlarged image on hover*/\n",
       "\tvisibility: visible; \n",
       "\twidth: 500px;\n",
       "}\n",
       "    \n",
       ".container { width: 100% !important; }\n",
       "    div.cell{\n",
       "        width:100%;\n",
       "        margin-left:0%;\n",
       "        margin-right:auto;\n",
       "}\n",
       "</style>\n",
       "\n",
       "<script type=\"text/javascript\" src=\"http://ajax.googleapis.com/ajax/libs/jquery/1.3/jquery.min.js\"></script>\n",
       "<script type=\"text/javascript\" src=\"http://d3js.org/d3.v3.min.js\"></script>\n",
       "<script type=\"text/javascript\" src=\"http://d3js.org/topojson.v1.min.js\"></script>\n",
       "<script type=\"text/javascript\" src=\"http://datamaps.github.io/scripts/0.4.0/datamaps.all.js\"></script>\n",
       "\n",
       "<script>\n",
       "function log(e) {\n",
       "    console.log(e)\n",
       "    \n",
       "}\n",
       "\n",
       "function toggleDiv(divId) {\n",
       "   $(\"#\"+divId).toggle();\n",
       "\n",
       "}\n",
       "</script>"
      ],
      "text/plain": [
       "<IPython.core.display.HTML object>"
      ]
     },
     "metadata": {},
     "output_type": "display_data"
    }
   ],
   "source": [
    "%run \"../common.ipynb\""
   ]
  },
  {
   "cell_type": "markdown",
   "metadata": {},
   "source": [
    "## Configuring Notebook\n",
    "\n",
    "### Installing nbExtensions\n",
    "[ ] pip install https://github.com/ipython-contrib/IPython-notebook-extensions/archive/master.zip --user\n",
    "\n",
    "\n",
    "\n",
    "### Configuring nbExtensions\n",
    "\n",
    "[ ] Go to  http://localhost:8888/nbextensions\n",
    "[ ] select extentions that you need"
   ]
  },
  {
   "cell_type": "code",
   "execution_count": 26,
   "metadata": {
    "collapsed": false
   },
   "outputs": [
    {
     "data": {
      "application/javascript": [
       "\n",
       "MathJax.Hub.Config({\n",
       "    TeX: { equationNumbers: { autoNumber: \"AMS\" } }\n",
       "});\n",
       "MathJax.Extension['TeX/AMSmath'].startNumber = 0;\n",
       "MathJax.Hub.Queue([\"Reprocess\",MathJax.Hub]);"
      ],
      "text/plain": [
       "<IPython.core.display.Javascript object>"
      ]
     },
     "metadata": {},
     "output_type": "display_data"
    }
   ],
   "source": [
    "%%javascript\n",
    "\n",
    "MathJax.Hub.Config({\n",
    "    TeX: { equationNumbers: { autoNumber: \"AMS\" } }\n",
    "});\n",
    "MathJax.Extension['TeX/AMSmath'].startNumber = 0;\n",
    "MathJax.Hub.Queue([\"Reprocess\",MathJax.Hub]);"
   ]
  },
  {
   "cell_type": "code",
   "execution_count": 11,
   "metadata": {
    "code_folding": [],
    "collapsed": false
   },
   "outputs": [],
   "source": [
    "from sympy import *;\n",
    "from sympy.physics import units as u;\n",
    "from sympy.plotting import plot, plot_parametric\n",
    "\n",
    "init_printing(use_latex='mathjax')\n",
    "from collections import defaultdict\n",
    "\n",
    "class GenerateSymbols(defaultdict):\n",
    "    def __missing__(self, key):\n",
    "        self[key] = Symbol(key)\n",
    "        return self[key]\n",
    "\n",
    "def plotit(expr, showPlot=False, xr = None, yr = None, zr= None):\n",
    "    a,b,c,d,e,f,g,h,i,j,k,l,m,n,o,p,q,r,s,t,u,v,w,x,y,z = symbols(\"a b c d e f g h i j k l m n o p q r s t u v w x y z\")\n",
    "    symbs= GenerateSymbols()\n",
    "    expr = eval(expr,symbs);\n",
    "    #xr = eval(xr,symbs)\n",
    "    title=latex(expr)\n",
    "    title = '$'+title+'$'\n",
    "    titEs = title.replace(\"\\\\\",\"\\\\\\\\\")\n",
    "    if (showPlot):\n",
    "        display(expr)\n",
    "        xr = (x,0,5) if xr is None else xr; \n",
    "        yr = (y,0,5) if yr is None else yr; \n",
    "        zr = (z,0,5) if zr is None else zr; \n",
    "        plot(expr, xr,yr,zr)\n",
    "        #display(title)\n",
    "    return title, titEs;\n",
    "\n",
    "symbs= GenerateSymbols()"
   ]
  },
  {
   "cell_type": "code",
   "execution_count": 13,
   "metadata": {
    "collapsed": false
   },
   "outputs": [
    {
     "data": {
      "text/latex": [
       "$$\\frac{1}{\\operatorname{exp}{\\left (- x \\right )} + 1}$$"
      ],
      "text/plain": [
       "     1     \n",
       "───────────\n",
       "exp(-x) + 1"
      ]
     },
     "metadata": {},
     "output_type": "display_data"
    },
    {
     "data": {
      "image/png": "[encoded data removed]",
      "text/plain": [
       "<matplotlib.figure.Figure at 0x11e2fcda0>"
      ]
     },
     "metadata": {},
     "output_type": "display_data"
    },
    {
     "name": "stdout",
     "output_type": "stream",
     "text": [
      "Latex commands $\\frac{1}{\\operatorname{exp}{\\left (- x \\right )} + 1}$\n",
      "$\\\\frac{1}{\\\\operatorname{exp}{\\\\left (- x \\\\right )} + 1}$\n"
     ]
    }
   ],
   "source": [
    "#Usage of PlotIt functions are here\n",
    "\n",
    "# To get Latex version of the expression\n",
    "# Construct an expression and call plotit that returns \n",
    "\n",
    "expr = '1/(1+exp(-x))';\n",
    "l, ll=plotit(expr, True)\n",
    "print (\"Latex commands\", l+'\\n'+ll)\n"
   ]
  },
  {
   "cell_type": "code",
   "execution_count": 17,
   "metadata": {
    "collapsed": false,
    "scrolled": false
   },
   "outputs": [],
   "source": [
    "#l,l1 = plotit('1/(1+exp(-x))', False)\n",
    "a = 1.23"
   ]
  },
  {
   "cell_type": "markdown",
   "metadata": {
    "variables": {
     "l": "$\\frac{1}{\\operatorname{exp}{\\left (- x \\right )} + 1}$",
     "l, ll=plotit(expr, False)": {}
    }
   },
   "source": [
    "{{l, ll=plotit(expr, False)}}\n",
    "a = {{l}}\n"
   ]
  },
  {
   "cell_type": "code",
   "execution_count": 23,
   "metadata": {
    "collapsed": false
   },
   "outputs": [
    {
     "data": {
      "application/javascript": [
       "\n",
       "MathJax.Hub.Config({\n",
       "    TeX: { equationNumbers: { autoNumber: \"AMS\" } }\n",
       "});\n",
       "MathJax.Extension['TeX/AMSmath'].startNumber = 0;\n",
       "MathJax.Hub.Queue([\"Reprocess\",MathJax.Hub]);"
      ],
      "text/plain": [
       "<IPython.core.display.Javascript object>"
      ]
     },
     "metadata": {},
     "output_type": "display_data"
    }
   ],
   "source": []
  },
  {
   "cell_type": "markdown",
   "metadata": {},
   "source": [
    "\\begin{equation}\n",
    "E = F \\cdot s \n",
    "\\end{equation}\n",
    "\n",
    " <div style=\"width:50%;  display: inline;border: 0px solid black;\">$E = F \\cdot s $ </div>\n",
    " <div style=\"width:250px; display: inline;position: absolute; right: 450px; border: 0px solid black;\">----------------(1)</div>\n"
   ]
  },
  {
   "cell_type": "markdown",
   "metadata": {},
   "source": [
    "$$E = F \\cdot s $$"
   ]
  },
  {
   "cell_type": "code",
   "execution_count": null,
   "metadata": {
    "collapsed": true
   },
   "outputs": [],
   "source": []
  }
 ],
 "metadata": {
  "kernelspec": {
   "display_name": "Python 3",
   "language": "python",
   "name": "python3"
  },
  "language_info": {
   "codemirror_mode": {
    "name": "ipython",
    "version": 3
   },
   "file_extension": ".py",
   "mimetype": "text/x-python",
   "name": "python",
   "nbconvert_exporter": "python",
   "pygments_lexer": "ipython3",
   "version": "3.5.1"
  }
 },
 "nbformat": 4,
 "nbformat_minor": 0
}
