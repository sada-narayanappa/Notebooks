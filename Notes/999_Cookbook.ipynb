{
 "cells": [
  {
   "cell_type": "code",
   "execution_count": 87,
   "metadata": {},
   "outputs": [
    {
     "data": {
      "text/html": [
       "<script type=\"text/javascript\" src=\"http://ajax.googleapis.com/ajax/libs/jquery/1.3/jquery.min.js\"></script>\n",
       "<style>\n",
       "body {\n",
       "    font-family: Times 'Merriweather', Georgia, serif;\n",
       "    font-size: 10pt;\n",
       "}\n",
       "\n",
       ".imgs {\n",
       "    width: 250px;\n",
       "    align: left;\n",
       "    float: left;\n",
       "    padding-right: 50px;\n",
       "    padding-top: 20px;\n",
       "    border: 0px gray;\n",
       "}\n",
       ".imgs1 {\n",
       "    align: left;\n",
       "    float: left;\n",
       "    padding-right: 50px;\n",
       "    padding-top: 20px;\n",
       "    border-top: 1px solid gray;\n",
       "    border-bottom: 1px solid gray;\n",
       "    margin-right: 50px;\n",
       "}\n",
       "hr {\n",
       "    height:3px;\n",
       "    border:none;\n",
       "    color:#333;\n",
       "    background-color:#333;\"\n",
       "}\n",
       "p {\n",
       "  margin: 10px auto;\n",
       "  padding: 6px 10px;\n",
       "  font-weight: 300;\n",
       "  font-size: 16px;\n",
       "  line-height: 1.4;\n",
       "}\n",
       "\n",
       "h1 {\n",
       "    margin: 20px auto 0px;\n",
       "    padding: 0 10px;\n",
       "    text-align: center;\n",
       "    font-size: 80px;\n",
       "    ffont-weight: 300;\n",
       "    mmax-width: 800px;\n",
       "}\n",
       "\n",
       "h4 {\n",
       "  max-width: 800px;\n",
       "  margin: 0 auto;\n",
       "  padding: 10px 10px;\n",
       "  font-family: sans-serif;\n",
       "}\n",
       "\n",
       "h5 {\n",
       "    padding-top: 8px;\n",
       "    padding-botton: 8px;\n",
       "    border-top:    1px solid gray;\n",
       "    border-bottom: 2px solid gray;\n",
       "}\n",
       "\n",
       "h6 {\n",
       "    padding-top: 14px;\n",
       "    padding-botton: 16px;\n",
       "    border-top:    2px solid #cccccc;\n",
       "    border-bottom: 2px solid #cccccc;\n",
       "}\n",
       "\n",
       ".thumbnail  {\n",
       "\tposition: relative;\n",
       "\tfloat: left;\n",
       "\tpadding: 0px;\n",
       "\tz-index: 3;\n",
       "}\n",
       "\n",
       ".thumbnail:hover {\n",
       "\tbackground-color: #e9e9e2;\n",
       "\tcolor: #335500;\n",
       "\ttext-decoration: none;\n",
       "}\n",
       "\n",
       ".thumbnail span { /*CSS for enlarged image*/\n",
       "\tposition: fixed;\n",
       "    opacity: 1.5;\n",
       "    background-color: #e5e5e5; \n",
       "\tpadding: 5px;\n",
       "\tborder: 1px solid #666;\n",
       "\tvisibility: hidden;\n",
       "\tcolor: black;\n",
       "\ttext-decoration: none;\n",
       "\ttop:  150px; /* use IF IE6 style to correct IE6 positions of larger image relative to thumb */\n",
       "\tright: 50px;/*position where enlarged image should offset horizontally */\n",
       "\tz-index: 9999;\n",
       "    filter: alpha(opacity=100); \n",
       "}\n",
       "\n",
       ".thumbnail:hover span { /*CSS for enlarged image on hover*/\n",
       "\tvisibility: visible; \n",
       "\twidth: 500px;\n",
       "}\n",
       "    \n",
       ".container { width: 100% !important; }\n",
       "    div.cell{\n",
       "        width:100%;\n",
       "        margin-left:0%;\n",
       "        margin-right:auto;\n",
       "}\n",
       "    \n",
       "div.prompt {display:none}\n",
       "    \n",
       "</style>\n",
       "\n",
       "<script type=\"text/javascript\" src=\"http://ajax.googleapis.com/ajax/libs/jquery/1.3/jquery.min.js\"></script>\n",
       "<script type=\"text/javascript\" src=\"http://d3js.org/d3.v3.min.js\"></script>\n",
       "<script type=\"text/javascript\" src=\"http://d3js.org/topojson.v1.min.js\"></script>\n",
       "<script type=\"text/javascript\" src=\"http://datamaps.github.io/scripts/0.4.0/datamaps.all.js\"></script>\n",
       "\n",
       "<script>\n",
       "function log(e) {\n",
       "    console.log(e)\n",
       "    \n",
       "}\n",
       "\n",
       "function toggleDiv(divId) {\n",
       "   $(\"#\"+divId).toggle();\n",
       "\n",
       "}\n",
       "</script>\n"
      ],
      "text/plain": [
       "<IPython.core.display.HTML object>"
      ]
     },
     "metadata": {},
     "output_type": "display_data"
    }
   ],
   "source": [
       "import sys\n",
    "import importlib as imp\n",
    "if ('Jupytils' in sys.modules):\n",
    "    reloaded = imp.reload(Jupytils)\n",
    "else:\n",
    "    import Jupytils\n",
    "    "
   ]
  },
  {
   "cell_type": "markdown",
   "metadata": {},
   "source": [
    "## Configuring Notebook\n",
    "\n",
    "### Installing nbExtensions\n",
    "[ ] pip install https://github.com/ipython-contrib/IPython-notebook-extensions/archive/master.zip --user\n",
    "\n",
    "\n",
    "\n",
    "### Configuring nbExtensions\n",
    "\n",
    "[ ] Go to  http://localhost:8888/nbextensions\n",
    "[ ] select extentions that you need"
   ]
  },
  {
   "cell_type": "code",
   "execution_count": 93,
   "metadata": {
    "code_folding": []
   },
   "outputs": [],
   "source": [
    "from sympy import *;\n",
    "from sympy.physics import units as u;\n",
    "from sympy.plotting import plot, plot_parametric\n",
    "\n",
    "init_printing(use_latex='mathjax')\n",
    "from collections import defaultdict\n",
    "\n",
    "class GenerateSymbols(defaultdict):\n",
    "    def __missing__(self, key):\n",
    "        self[key] = Symbol(key)\n",
    "        return self[key]\n",
    "\n",
    "def plotit(expr, showPlot=False, xr = None, yr = None, zr= None):\n",
    "    a,b,c,d,e,f,g,h,i,j,k,l,m,n,o,p,q,r,s,t,u,v,w,x,y,z = symbols(\"a b c d e f g h i j k l m n o p q r s t u v w x y z\")\n",
    "    symbs= GenerateSymbols()\n",
    "    #expr = eval(expr,symbs);\n",
    "    #xr = eval(xr,symbs)\n",
    "    title=latex(expr)\n",
    "    title = '$'+title+'$'\n",
    "    titEs = title.replace(\"\\\\\",\"\\\\\\\\\")\n",
    "    if (showPlot):\n",
    "        display(expr)\n",
    "        xr = (0,0,5) if xr is None else xr; \n",
    "        yr = (0,0,5) if yr is None else yr; \n",
    "        zr = (0,0,5) if zr is None else zr; \n",
    "        plot(expr, xr,yr,zr)\n",
    "        #display(title)\n",
    "    return title, titEs;\n",
    "\n",
    "symbs= GenerateSymbols()"
   ]
  },
  {
   "cell_type": "code",
   "execution_count": 94,
   "metadata": {},
   "outputs": [
    {
     "data": {
      "text/plain": [
       "'1/(1+exp(-x))'"
      ]
     },
     "metadata": {},
     "output_type": "display_data"
    },
    {
     "data": {
      "image/png": "[encoded data removed]",
      "text/plain": [
       "<matplotlib.figure.Figure at 0x11daa98d0>"
      ]
     },
     "metadata": {},
     "output_type": "display_data"
    },
    {
     "name": "stdout",
     "output_type": "stream",
     "text": [
      "Latex commands $1/(1+exp(-x))$\n",
      "$1/(1+exp(-x))$\n"
     ]
    }
   ],
   "source": [
    "#Usage of PlotIt functions are here\n",
    "\n",
    "# To get Latex version of the expression\n",
    "# Construct an expression and call plotit that returns \n",
    "\n",
    "expr = '1/(1+exp(-x))';\n",
    "l, ll=plotit(expr, True)\n",
    "print (\"Latex commands\", l+'\\n'+ll)\n"
   ]
  },
  {
   "cell_type": "code",
   "execution_count": 98,
   "metadata": {
    "scrolled": false
   },
   "outputs": [
    {
     "data": {
      "image/png": "[encoded data removed]",
      "text/plain": [
       "<matplotlib.figure.Figure at 0x11d2edb38>"
      ]
     },
     "metadata": {},
     "output_type": "display_data"
    },
    {
     "data": {
      "text/plain": [
       "<sympy.plotting.plot.Plot at 0x11e0a9630>"
      ]
     },
     "execution_count": 98,
     "metadata": {},
     "output_type": "execute_result"
    }
   ],
   "source": [
    "expr1 = '.5*x+4';\n",
    "expr2 = '.5*x+6';\n",
    "\n",
    "xr = yr = zr = None\n",
    "xr = (0,0,5) if xr is None else xr; \n",
    "yr = (0,0,5) if yr is None else yr; \n",
    "zr = (0,0,5) if zr is None else zr; \n",
    "plot(expr1, expr2, xr,yr,zr)\n",
    "\n"
   ]
  },
  {
   "cell_type": "code",
   "execution_count": 175,
   "metadata": {},
   "outputs": [],
   "source": [
    "def splot(expr, x = np.arange(-2,10,0.1),c=None):\n",
    "    y = eval(expr);\n",
    "    title=latex(expr)\n",
    "    title = '$'+title+'$'\n",
    "    titEs = title.replace(\"\\\\\",\"\\\\\\\\\")\n",
    "    plt.plot(x,y, c)\n",
    "    #plt.xlim(x.min(), x.ma5x())\n",
    "    #plt.ylim(y.min()-1, y.max())\n",
    "\n",
    "# equation of line: y = mx + c   \n",
    "# m = slope and c= intercept\n",
    "# returns intercept and distance\n",
    "def xpoint(m,c,x0,y0):\n",
    "    c1 = y0 + x0/m\n",
    "    d  = (m*x0 - y0 + c) /(sqrt(m**2+1))\n",
    "    x1 = (c1 - c)*m / (m**2+1)\n",
    "    y1 = m * x1 + c;\n",
    "    \n",
    "    return ( (d), c1, x1,y1)"
   ]
  },
  {
   "cell_type": "code",
   "execution_count": 197,
   "metadata": {
    "scrolled": false
   },
   "outputs": [
    {
     "name": "stdout",
     "output_type": "stream",
     "text": [
      "-1.78885438199983 11.0 2 7 2.8 5.4\n",
      "-3.13049516849971 20.0 5 10 6.4 7.2\n",
      "2.23606797749979 14.0 5 4 4.0 6.0\n",
      "2.68328157299975 26.0 10 6 8.8 8.4\n",
      "[ 0.67] [[ 0.33 -0.33]]\n",
      "[[ 0.33 -0.33]] = 2.0 = [-1. -1.] 1.0 1.0 * x + 2.000000000000001\n",
      "-2.12132034355964 9.0 2 7 3.5 5.5\n",
      "-2.12132034355964 15.0 5 10 6.5 8.5\n",
      "2.12132034355964 9.0 5 4 3.5 5.5\n",
      "4.24264068711929 16.0 10 6 7.0 9.0\n"
     ]
    },
    {
     "data": {
      "image/png": "[encoded data removed]",
      "text/plain": [
       "<matplotlib.figure.Figure at 0x11dac1908>"
      ]
     },
     "metadata": {},
     "output_type": "display_data"
    }
   ],
   "source": [
    "##### b = np.array([0.5, -1])\n",
    "X = np.array([(2,7), (5,10), (5,4), (10,6)])\n",
    "y = np.array([-1,-1,1,1])\n",
    "\n",
    "#----------------------------\n",
    "plt.figure(1, figsize=(8, 6))\n",
    "plt.axhline(0, color='k', linewidth=2)\n",
    "plt.axvline(0, color='k', linewidth=2)\n",
    "plt.grid(True, which='both')\n",
    "plt.axes().set_aspect('equal')\n",
    "\n",
    "plt.xlim(-1, 11)\n",
    "plt.ylim(-1, 11)\n",
    "\n",
    "major_ticks = np.arange(-1, 11, 1)                                              \n",
    "\n",
    "plt.xticks(major_ticks)                                                       \n",
    "plt.yticks(major_ticks)                                                       \n",
    "\n",
    "#----------------------------\n",
    "b1= 0.5\n",
    "b = 4\n",
    "eq= \"{} * x+{}\".format(b1,b)\n",
    "\n",
    "splot(eq,c='g')\n",
    "for x in X:\n",
    "    d,c1,x1,y1 = xpoint(b1, b, x[0], x[1])\n",
    "    if (d < 1): c='r' \n",
    "    elif (d ==1): c ='k' \n",
    "    else: c = 'b'\n",
    "    plt.scatter(x[0], x[1], c=c, s=40);\n",
    "    print (d , c1, x[0], x[1], x1, y1 )\n",
    "    plt.plot([x[0],x1],[x[1],y1], \"g--\")\n",
    "#----------------------------\n",
    "\n",
    "clf = SVC(kernel=\"linear\")\n",
    "clf.fit(X,y)\n",
    "print(clf.intercept_, clf.coef_)\n",
    "b = -clf.intercept_[0]/clf.coef_[0][-1]\n",
    "B = -clf.coef_[0] / clf.coef_[-1]\n",
    "b1= -B[0]\n",
    "\n",
    "eq= \"{} * x + {}\".format(b1,b)\n",
    "print(clf.coef_, \"=\", b, \"=\", B, -B[0], eq)\n",
    "splot(eq, c='b')\n",
    "\n",
    "bb = -(clf.intercept_[0]-1)/clf.coef_[0][-1]\n",
    "eq= \"{} * x + {}\".format(-B[0],bb)\n",
    "splot(eq, c='b--')\n",
    "bb = -(clf.intercept_[0]+1)/clf.coef_[0][-1]\n",
    "eq= \"{} * x + {}\".format(-B[0],bb)\n",
    "splot(eq, c='b--')\n",
    "\n",
    "for x in X:\n",
    "    d,c1,x1,y1 = xpoint(b1, b, x[0], x[1])\n",
    "    if (d < 1): c='r' \n",
    "    elif (d ==1): c ='k' \n",
    "    else: c = 'b'\n",
    "    plt.scatter(x[0], x[1], c=c, s=40);\n",
    "    print (d , c1, x[0], x[1], x1, y1 )\n",
    "    plt.plot([x[0],x1],[x[1],y1], \"b--\")\n",
    "\n"
   ]
  },
  {
   "cell_type": "code",
   "execution_count": 151,
   "metadata": {},
   "outputs": [
    {
     "name": "stdout",
     "output_type": "stream",
     "text": [
      "[[ 0.33 -0.33]] = 2.0 = [-1. -1.] 1.0 1.0 * x + 2.000000000000001\n"
     ]
    }
   ],
   "source": [
    "b = -clf.intercept_[0]/clf.coef_[0][-1]\n",
    "B = -clf.coef_[0] / clf.coef_[-1]\n",
    "\n",
    "eq= \"{} * x + {}\".format(-B[0],b)\n",
    "print(clf.coef_, \"=\", b, \"=\", B, -B[0], eq)"
   ]
  },
  {
   "cell_type": "code",
   "execution_count": 173,
   "metadata": {},
   "outputs": [
    {
     "data": {
      "text/plain": [
       "''"
      ]
     },
     "execution_count": 173,
     "metadata": {},
     "output_type": "execute_result"
    },
    {
     "data": {
      "image/png": "[encoded data removed]",
      "text/plain": [
       "<matplotlib.figure.Figure at 0x106b4dc50>"
      ]
     },
     "metadata": {},
     "output_type": "display_data"
    }
   ],
   "source": [
    "# major ticks every 20, minor ticks every 5                                      \n",
    "major_ticks = np.arange(0, 10, 1)                                              \n",
    "minor_ticks = np.arange(0, 10, 1)                                               \n",
    "\n",
    "plt.xticks(major_ticks)                                                       \n",
    "plt.yticks(major_ticks)                                                       \n",
    ";\n",
    "# and a corresponding grid                                                       \n",
    "\n",
    "#plt.grid(which='both')                                                            \n",
    "\n",
    "# or if you want differnet settings for the grids:                               \n",
    "#plt.grid(which='minor', alpha=0.2)                                              \n",
    "#plt.grid(which='major', alpha=0.5)                                                \n"
   ]
  },
  {
   "cell_type": "code",
   "execution_count": null,
   "metadata": {
    "collapsed": true
   },
   "outputs": [],
   "source": []
  }
 ],
 "metadata": {
  "hide_input": false,
  "kernelspec": {
   "display_name": "Python [default]",
   "language": "python",
   "name": "python3"
  },
  "language_info": {
   "codemirror_mode": {
    "name": "ipython",
    "version": 3
   },
   "file_extension": ".py",
   "mimetype": "text/x-python",
   "name": "python",
   "nbconvert_exporter": "python",
   "pygments_lexer": "ipython3",
   "version": "3.5.3"
  }
 },
 "nbformat": 4,
 "nbformat_minor": 1
}
