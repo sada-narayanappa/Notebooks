{
 "cells": [
  {
   "cell_type": "code",
   "execution_count": 101,
   "metadata": {},
   "outputs": [
    {
     "data": {
      "text/html": [
       "\n",
       "<style>\n",
       ".page{\n",
       "    border-left: 0px;\n",
       "    border-right: 0px solid gray;\n",
       "    width:100%;\n",
       "    padding-top: 10px;\n",
       "    -webkit-box-shadow: 5px 5px 5px -6px gray;\n",
       "    -moz-box-shadow: 0 6px 6px -6px gray;\n",
       "    box-shadow: 0 6px -6px -6px gray;\n",
       "}\n",
       ".break {\n",
       "    height: 70px !important;\n",
       "    border: 0px solid gray;\n",
       "    background-color: blank;\n",
       "}\n",
       "</style>"
      ],
      "text/plain": [
       "<IPython.core.display.HTML object>"
      ]
     },
     "metadata": {},
     "output_type": "display_data"
    }
   ],
   "source": [
    "%%html \n",
    "\n",
    "<style>\n",
    ".page{\n",
    "    border-left: 0px;\n",
    "    border-right: 0px solid gray;\n",
    "    width:100%;\n",
    "    padding-top: 10px;\n",
    "    -webkit-box-shadow: 5px 5px 5px -6px gray;\n",
    "    -moz-box-shadow: 0 6px 6px -6px gray;\n",
    "    box-shadow: 0 6px -6px -6px gray;\n",
    "}\n",
    ".break {\n",
    "    height: 70px !important;\n",
    "    border: 0px solid gray;\n",
    "    background-color: blank;\n",
    "}\n",
    "</style>\n"
   ]
  },
  {
   "cell_type": "markdown",
   "metadata": {},
   "source": [
    "<div class=page>\n",
    "\n",
    "# Statistics Overview\n",
    "\n",
    "<i>This chapter was written in collaboration with SW’s father, PW van der Walt. </i>\n",
    "\n",
    "This chapter will depart slightly from the format of the rest of the book. In particular, you may find the code in the chapter quite modest. Instead, we want to illustrate an elegant algorithm, the Fast Fourier Transform (FFT), that is endlessly useful, is implemented in SciPy, and works, of course, on NumPy arrays.\n",
    "\n",
    "### Introducing Frequency\n",
    "We’ll start by setting up some plotting styles and importing the usual suspects:\n",
    "    \n",
    "</div>\n",
    "\n",
    "<div class=break>\n",
    "\n",
    "</div>\n",
    "    \n",
    "<div class= page>\n",
    "\n",
    "# This is Another chapter2\n",
    "\n",
    "cross entropy error \n",
    "\n",
    "```\n",
    "https://www.quora.com/Whats-an-intuitive-way-to-think-of-cross-entropy\n",
    "```\n",
    "</div>"
   ]
  },
  {
   "cell_type": "code",
   "execution_count": null,
   "metadata": {},
   "outputs": [],
   "source": []
  }
 ],
 "metadata": {
  "kernelspec": {
   "display_name": "Python 3",
   "language": "python",
   "name": "python3"
  },
  "language_info": {
   "codemirror_mode": {
    "name": "ipython",
    "version": 3
   },
   "file_extension": ".py",
   "mimetype": "text/x-python",
   "name": "python",
   "nbconvert_exporter": "python",
   "pygments_lexer": "ipython3",
   "version": "3.6.5"
  }
 },
 "nbformat": 4,
 "nbformat_minor": 2
}
