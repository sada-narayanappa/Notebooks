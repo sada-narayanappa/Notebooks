{
 "cells": [
  {
   "cell_type": "code",
   "execution_count": 6,
   "metadata": {
    "collapsed": false
   },
   "outputs": [
    {
     "data": {
      "text/html": [
       "<script type=\"text/javascript\" src=\"http://ajax.googleapis.com/ajax/libs/jquery/1.3/jquery.min.js\"></script>\n",
       "<style>\n",
       "body {\n",
       "    font-family: Times 'Merriweather', Georgia, serif;\n",
       "    font-size: 10pt;\n",
       "}\n",
       "\n",
       ".imgs {\n",
       "    width: 250px;\n",
       "    align: left;\n",
       "    float: left;\n",
       "    padding-right: 50px;\n",
       "    padding-top: 20px;\n",
       "    border: 0px gray;\n",
       "}\n",
       ".imgs1 {\n",
       "    align: left;\n",
       "    float: left;\n",
       "    padding-right: 50px;\n",
       "    padding-top: 20px;\n",
       "    border-top: 1px solid gray;\n",
       "    border-bottom: 1px solid gray;\n",
       "    margin-right: 50px;\n",
       "}\n",
       "hr {\n",
       "    height:3px;\n",
       "    border:none;\n",
       "    color:#333;\n",
       "    background-color:#333;\"\n",
       "}\n",
       "p {\n",
       "  margin: 10px auto;\n",
       "  padding: 6px 10px;\n",
       "  font-weight: 300;\n",
       "  font-size: 16px;\n",
       "  line-height: 1.4;\n",
       "}\n",
       "\n",
       "h1 {\n",
       "    margin: 20px auto 0px;\n",
       "    padding: 0 10px;\n",
       "    text-align: center;\n",
       "    font-size: 80px;\n",
       "    ffont-weight: 300;\n",
       "    mmax-width: 800px;\n",
       "}\n",
       "\n",
       "h4 {\n",
       "  max-width: 800px;\n",
       "  margin: 0 auto;\n",
       "  padding: 10px 10px;\n",
       "  font-family: sans-serif;\n",
       "}\n",
       "\n",
       "h5 {\n",
       "    padding-top: 8px;\n",
       "    padding-botton: 8px;\n",
       "    border-top:    1px solid gray;\n",
       "    border-bottom: 2px solid gray;\n",
       "}\n",
       "\n",
       "h6 {\n",
       "    padding-top: 14px;\n",
       "    padding-botton: 16px;\n",
       "    border-top:    2px solid #cccccc;\n",
       "    border-bottom: 2px solid #cccccc;\n",
       "}\n",
       "\n",
       ".thumbnail  {\n",
       "\tposition: relative;\n",
       "\tfloat: left;\n",
       "\tpadding: 0px;\n",
       "\tz-index: 3;\n",
       "}\n",
       "\n",
       ".thumbnail:hover {\n",
       "\tbackground-color: #e9e9e2;\n",
       "\tcolor: #335500;\n",
       "\ttext-decoration: none;\n",
       "}\n",
       "\n",
       ".thumbnail span { /*CSS for enlarged image*/\n",
       "\tposition: fixed;\n",
       "    opacity: 1.5;\n",
       "    background-color: #e5e5e5; \n",
       "\tpadding: 5px;\n",
       "\tborder: 1px solid #666;\n",
       "\tvisibility: hidden;\n",
       "\tcolor: black;\n",
       "\ttext-decoration: none;\n",
       "\ttop:  150px; /* use IF IE6 style to correct IE6 positions of larger image relative to thumb */\n",
       "\tright: 50px;/*position where enlarged image should offset horizontally */\n",
       "\tz-index: 9999;\n",
       "    filter: alpha(opacity=100); \n",
       "}\n",
       "\n",
       ".thumbnail:hover span { /*CSS for enlarged image on hover*/\n",
       "\tvisibility: visible; \n",
       "\twidth: 500px;\n",
       "}\n",
       "    \n",
       ".container { width: 100% !important; }\n",
       "    div.cell{\n",
       "        width:100%;\n",
       "        margin-left:0%;\n",
       "        margin-right:auto;\n",
       "}\n",
       "    \n",
       "div.prompt {display:none}\n",
       "    \n",
       "</style>\n",
       "\n",
       "<script type=\"text/javascript\" src=\"http://ajax.googleapis.com/ajax/libs/jquery/1.3/jquery.min.js\"></script>\n",
       "<script type=\"text/javascript\" src=\"http://d3js.org/d3.v3.min.js\"></script>\n",
       "<script type=\"text/javascript\" src=\"http://d3js.org/topojson.v1.min.js\"></script>\n",
       "<script type=\"text/javascript\" src=\"http://datamaps.github.io/scripts/0.4.0/datamaps.all.js\"></script>\n",
       "\n",
       "<script>\n",
       "function log(e) {\n",
       "    console.log(e)\n",
       "    \n",
       "}\n",
       "\n",
       "function toggleDiv(divId) {\n",
       "   $(\"#\"+divId).toggle();\n",
       "\n",
       "}\n",
       "</script>\n"
      ],
      "text/plain": [
       "<IPython.core.display.HTML object>"
      ]
     },
     "metadata": {},
     "output_type": "display_data"
    }
   ],
   "source": [
    "import sys\n",
    "import importlib as imp\n",
    "if ('Jupytils' in sys.modules):\n",
    "    reloaded = imp.reload(Jupytils)\n",
    "else:\n",
    "    import Jupytils\n",
    "    "
   ]
  },
  {
   "cell_type": "code",
   "execution_count": 2,
   "metadata": {
    "collapsed": false
   },
   "outputs": [],
   "source": [
    "%matplotlib inline\n",
    "import matplotlib.pyplot as plt\n",
    "import numpy as np\n",
    "#import mpld3\n",
    "\n",
    "#mpld3.enable_notebook()"
   ]
  },
  {
   "cell_type": "code",
   "execution_count": null,
   "metadata": {
    "collapsed": false
   },
   "outputs": [],
   "source": [
    "\n",
    "for i in range(10):\n",
    "    fig, ax = plt.subplots(subplot_kw=dict(axisbg='#EEEEEE'))\n",
    "    ax.grid(color='white', linestyle='solid')\n",
    "    N = 50\n",
    "    scatter = ax.scatter(np.random.normal(size=N),\n",
    "                         np.random.normal(size=N),\n",
    "                         c=np.random.random(size=N),\n",
    "                         s = 1000 * np.random.random(size=N),\n",
    "                         alpha=0.3,\n",
    "                         cmap=plt.cm.jet)\n",
    "    display.clear_output(wait=True)\n",
    "    time.sleep(1.0)\n",
    "    plt.show()\n",
    "    break;\n",
    "    #display.display(pl.gcf())\n",
    "\n",
    "ax.set_title(\"D3 Scatter Plot\", size=18);\n"
   ]
  },
  {
   "cell_type": "code",
   "execution_count": null,
   "metadata": {
    "collapsed": false
   },
   "outputs": [],
   "source": [
    "np.random.random(size=N)"
   ]
  },
  {
   "cell_type": "markdown",
   "metadata": {
    "collapsed": false
   },
   "source": [
    "##### %matplotlib inline\n",
    "import time\n",
    "import pylab as pl\n",
    "from IPython import display\n",
    "for i in range(10):\n",
    "    pl.plot(pl.randn(100))\n",
    "    display.clear_output(wait=True)\n",
    "    time.sleep(1.0)\n",
    "    pl.show();\n",
    "    #display.display(pl.gcf())\n"
   ]
  },
  {
   "cell_type": "code",
   "execution_count": null,
   "metadata": {
    "collapsed": false
   },
   "outputs": [],
   "source": [
    "def hline(y,x1,x2, c='k', linewidth=6, linestyle=\"solid\", label=None):\n",
    "    plt.plot([x1,x2], [y,y], c=c, linewidth=linewidth,  linestyle=linestyle, label=label)\n",
    "\n",
    "def vline(x,y1,y2, c='cyan', linewidth=20, linestyle=\"dashed\", label=None):\n",
    "    plt.plot([x,x], [y1,y2], c=c, linewidth=linewidth, linestyle=linestyle, label=label)\n",
    "\n",
    "def rect(x1,y1,w,h,c='y', e='y'):\n",
    "    r=plt.Rectangle( (x1,y1),w, h, facecolor=c, edgecolor=e,  alpha=0.9)\n",
    "    plt.gca().add_patch(r)\n",
    "\n",
    "\n",
    "N=3\n",
    "M=3\n",
    "plt.figure(figsize=(10,5))\n",
    "plt.ylim(0,10)\n",
    "plt.xlim(0,N*2)\n",
    "\n",
    "y=7\n",
    "for i in range(N):\n",
    "    rect(i*2,y,1,1, c='w', e='k')\n",
    "    plt.text(i*2+0.5,y +.5, 'S' + str(i), {'ha': 'center', 'va': 'center'}, color='k', size=12)\n",
    "    vline(i*2+0.5,y, y - 1, linewidth=1, c='k')\n",
    "\n"
   ]
  },
  {
   "cell_type": "code",
   "execution_count": null,
   "metadata": {
    "collapsed": false
   },
   "outputs": [],
   "source": [
    "from hmmlearn import hmm\n",
    "from hmmlearn.hmm import GaussianHMM\n",
    "\n",
    "\n",
    "model = GaussianHMM(3, \"full\", pi, A)\n",
    "model.startprob_ = np.array([0.6, 0.3, 0.1])\n",
    "model.transmat_ = np.array([[0.7, 0.2, 0.1],\n",
    "                            [0.3, 0.5, 0.2],\n",
    "                            [0.3, 0.3, 0.4]])\n",
    "model.means_ = np.array([[0.0, 0.0], [3.0, -3.0], [5.0, 10.0]])\n",
    "model.covars_ = np.tile(np.identity(2), (3, 1, 1))\n",
    "model.means_ = means\n",
    "model.covars_ = covars\n",
    "X, Z = model.sample(10)\n",
    "print (X,Z)"
   ]
  },
  {
   "cell_type": "code",
   "execution_count": 19,
   "metadata": {
    "collapsed": false
   },
   "outputs": [
    {
     "data": {
      "text/html": [
       "<script type=\"text/javascript\" src=\"http://ajax.googleapis.com/ajax/libs/jquery/1.3/jquery.min.js\"></script>\n",
       "<style>\n",
       "body {\n",
       "    font-family: Times 'Merriweather', Georgia, serif;\n",
       "    font-size: 10pt;\n",
       "}\n",
       "\n",
       ".imgs {\n",
       "    width: 250px;\n",
       "    align: left;\n",
       "    float: left;\n",
       "    padding-right: 50px;\n",
       "    padding-top: 20px;\n",
       "    border: 0px gray;\n",
       "}\n",
       ".imgs1 {\n",
       "    align: left;\n",
       "    float: left;\n",
       "    padding-right: 50px;\n",
       "    padding-top: 20px;\n",
       "    border-top: 1px solid gray;\n",
       "    border-bottom: 1px solid gray;\n",
       "    margin-right: 50px;\n",
       "}\n",
       "hr {\n",
       "    height:3px;\n",
       "    border:none;\n",
       "    color:#333;\n",
       "    background-color:#333;\"\n",
       "}\n",
       "p {\n",
       "  margin: 10px auto;\n",
       "  padding: 6px 10px;\n",
       "  font-weight: 300;\n",
       "  font-size: 16px;\n",
       "  line-height: 1.4;\n",
       "}\n",
       "\n",
       "h1 {\n",
       "    margin: 20px auto 0px;\n",
       "    padding: 0 10px;\n",
       "    text-align: center;\n",
       "    font-size: 80px;\n",
       "    ffont-weight: 300;\n",
       "    mmax-width: 800px;\n",
       "}\n",
       "\n",
       "h4 {\n",
       "  max-width: 800px;\n",
       "  margin: 0 auto;\n",
       "  padding: 10px 10px;\n",
       "  font-family: sans-serif;\n",
       "}\n",
       "\n",
       "h5 {\n",
       "    padding-top: 8px;\n",
       "    padding-botton: 8px;\n",
       "    border-top:    1px solid gray;\n",
       "    border-bottom: 2px solid gray;\n",
       "}\n",
       "\n",
       "h6 {\n",
       "    padding-top: 14px;\n",
       "    padding-botton: 16px;\n",
       "    border-top:    2px solid #cccccc;\n",
       "    border-bottom: 2px solid #cccccc;\n",
       "}\n",
       "\n",
       ".thumbnail  {\n",
       "\tposition: relative;\n",
       "\tfloat: left;\n",
       "\tpadding: 0px;\n",
       "\tz-index: 3;\n",
       "}\n",
       "\n",
       ".thumbnail:hover {\n",
       "\tbackground-color: #e9e9e2;\n",
       "\tcolor: #335500;\n",
       "\ttext-decoration: none;\n",
       "}\n",
       "\n",
       ".thumbnail span { /*CSS for enlarged image*/\n",
       "\tposition: fixed;\n",
       "    opacity: 1.5;\n",
       "    background-color: #e5e5e5; \n",
       "\tpadding: 5px;\n",
       "\tborder: 1px solid #666;\n",
       "\tvisibility: hidden;\n",
       "\tcolor: black;\n",
       "\ttext-decoration: none;\n",
       "\ttop:  150px; /* use IF IE6 style to correct IE6 positions of larger image relative to thumb */\n",
       "\tright: 50px;/*position where enlarged image should offset horizontally */\n",
       "\tz-index: 9999;\n",
       "    filter: alpha(opacity=100); \n",
       "}\n",
       "\n",
       ".thumbnail:hover span { /*CSS for enlarged image on hover*/\n",
       "\tvisibility: visible; \n",
       "\twidth: 500px;\n",
       "}\n",
       "    \n",
       ".container { width: 100% !important; }\n",
       "    div.cell{\n",
       "        width:100%;\n",
       "        margin-left:0%;\n",
       "        margin-right:auto;\n",
       "}\n",
       "    \n",
       "div.prompt {display:none}\n",
       "    \n",
       "</style>\n",
       "\n",
       "<script type=\"text/javascript\" src=\"http://ajax.googleapis.com/ajax/libs/jquery/1.3/jquery.min.js\"></script>\n",
       "<script type=\"text/javascript\" src=\"http://d3js.org/d3.v3.min.js\"></script>\n",
       "<script type=\"text/javascript\" src=\"http://d3js.org/topojson.v1.min.js\"></script>\n",
       "<script type=\"text/javascript\" src=\"http://datamaps.github.io/scripts/0.4.0/datamaps.all.js\"></script>\n",
       "\n",
       "<script>\n",
       "function log(e) {\n",
       "    console.log(e)\n",
       "    \n",
       "}\n",
       "\n",
       "function toggleDiv(divId) {\n",
       "   $(\"#\"+divId).toggle();\n",
       "\n",
       "}\n",
       "</script>\n"
      ],
      "text/plain": [
       "<IPython.core.display.HTML object>"
      ]
     },
     "metadata": {},
     "output_type": "display_data"
    },
    {
     "data": {
      "image/png": "[encoded data removed]",
      "text/plain": [
       "<matplotlib.figure.Figure at 0x123a7d828>"
      ]
     },
     "metadata": {},
     "output_type": "display_data"
    },
    {
     "data": {
      "image/png": "[encoded data removed]",
      "text/plain": [
       "<matplotlib.figure.Figure at 0x124d66c18>"
      ]
     },
     "metadata": {},
     "output_type": "display_data"
    }
   ],
   "source": [
    "%run \"../common.ipynb\"\n",
    "iris = datasets.load_iris()\n",
    "X = iris.data; \n",
    "X = iris.data[:, :2]  \n",
    "y = iris.target\n",
    "clf = neighbors.KNeighborsClassifier(15, weights='uniform')\n",
    "PlotDecisionBoundary(X,y,clf)\n",
    "\n",
    "clf = SVC(kernel=\"linear\")\n",
    "PlotDecisionBoundary(X,y,clf)\n"
   ]
  },
  {
   "cell_type": "code",
   "execution_count": 8,
   "metadata": {
    "collapsed": true
   },
   "outputs": [],
   "source": [
    "cs1 = [c for c in colors.cnames if not c.find(\"dark\")]\n",
    "cs1.sort(reverse = True)\n",
    "colorsBold = ListedColormap(cs1)\n"
   ]
  },
  {
   "cell_type": "code",
   "execution_count": 21,
   "metadata": {
    "collapsed": false
   },
   "outputs": [
    {
     "data": {
      "text/plain": [
       "numpy.ndarray"
      ]
     },
     "execution_count": 21,
     "metadata": {},
     "output_type": "execute_result"
    }
   ],
   "source": [
    "type(X)"
   ]
  },
  {
   "cell_type": "code",
   "execution_count": null,
   "metadata": {
    "collapsed": true
   },
   "outputs": [],
   "source": []
  }
 ],
 "metadata": {
  "hide_input": false,
  "kernelspec": {
   "display_name": "Python 3",
   "language": "python",
   "name": "python3"
  },
  "language_info": {
   "codemirror_mode": {
    "name": "ipython",
    "version": 3
   },
   "file_extension": ".py",
   "mimetype": "text/x-python",
   "name": "python",
   "nbconvert_exporter": "python",
   "pygments_lexer": "ipython3",
   "version": "3.5.2"
  }
 },
 "nbformat": 4,
 "nbformat_minor": 0
}
