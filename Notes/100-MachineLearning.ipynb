{
 "cells": [
  {
   "cell_type": "code",
   "execution_count": 1,
   "metadata": {
    "collapsed": false
   },
   "outputs": [
    {
     "data": {
      "text/html": [
       "<script type=\"text/javascript\" src=\"http://ajax.googleapis.com/ajax/libs/jquery/1.3/jquery.min.js\"></script>\n",
       "<style>\n",
       "body {\n",
       "  font-family: Times 'Merriweather', Georgia, serif;\n",
       "}\n",
       "\n",
       "p {\n",
       "  margin: 10px auto;\n",
       "  padding: 6px 10px;\n",
       "  font-weight: 300;\n",
       "  font-size: 16px;\n",
       "  line-height: 1.4;\n",
       "}\n",
       "\n",
       "h1 {\n",
       "    margin: 20px auto 0px;\n",
       "    padding: 0 10px;\n",
       "    text-align: center;\n",
       "    font-size: 80px;\n",
       "    ffont-weight: 300;\n",
       "    mmax-width: 800px;\n",
       "}\n",
       "\n",
       "h4 {\n",
       "  max-width: 800px;\n",
       "  margin: 0 auto;\n",
       "  padding: 10px 10px;\n",
       "  font-family: sans-serif;\n",
       "}\n",
       "\n",
       "\n",
       ".thumbnail  {\n",
       "\tposition: relative;\n",
       "\tfloat: left;\n",
       "\tpadding: 0px;\n",
       "\tz-index: 3;\n",
       "}\n",
       "\n",
       ".thumbnail:hover {\n",
       "\tbackground-color: #e9e9e2;\n",
       "\tcolor: #335500;\n",
       "\ttext-decoration: none;\n",
       "}\n",
       "\n",
       ".thumbnail span { /*CSS for enlarged image*/\n",
       "\tposition: fixed;\n",
       "    opacity: 1.5;\n",
       "    background-color: #e5e5e5; \n",
       "\tpadding: 5px;\n",
       "\tborder: 1px solid #666;\n",
       "\tvisibility: hidden;\n",
       "\tcolor: black;\n",
       "\ttext-decoration: none;\n",
       "\ttop:  150px; /* use IF IE6 style to correct IE6 positions of larger image relative to thumb */\n",
       "\tright: 50px;/*position where enlarged image should offset horizontally */\n",
       "\tz-index: 9999;\n",
       "    filter: alpha(opacity=100); \n",
       "}\n",
       "\n",
       ".thumbnail:hover span { /*CSS for enlarged image on hover*/\n",
       "\tvisibility: visible; \n",
       "\twidth: 500px;\n",
       "}\n",
       "    \n",
       ".container { width: 100% !important; }\n",
       "    div.cell{\n",
       "        width:100%;\n",
       "        margin-left:0%;\n",
       "        margin-right:auto;\n",
       "}\n",
       "</style>\n",
       "\n",
       "<script type=\"text/javascript\" src=\"http://ajax.googleapis.com/ajax/libs/jquery/1.3/jquery.min.js\"></script>\n",
       "<script type=\"text/javascript\" src=\"http://d3js.org/d3.v3.min.js\"></script>\n",
       "<script type=\"text/javascript\" src=\"http://d3js.org/topojson.v1.min.js\"></script>\n",
       "<script type=\"text/javascript\" src=\"http://datamaps.github.io/scripts/0.4.0/datamaps.all.js\"></script>\n",
       "\n",
       "<script>\n",
       "function log(e) {\n",
       "    console.log(e)\n",
       "    \n",
       "}\n",
       "\n",
       "function toggleDiv(divId) {\n",
       "   $(\"#\"+divId).toggle();\n",
       "\n",
       "}\n",
       "</script>"
      ],
      "text/plain": [
       "<IPython.core.display.HTML object>"
      ]
     },
     "metadata": {},
     "output_type": "display_data"
    }
   ],
   "source": [
    "%run \"../common.ipynb\""
   ]
  },
  {
   "cell_type": "markdown",
   "metadata": {
    "collapsed": true
   },
   "source": [
    "# Machine Learning Notes\n",
    "\n",
    "### Introduction\n",
    "\n",
    "What is Machine Learning?\n",
    "\n",
    "* Supervised Learning\n",
    "* Unsupervised learning \n",
    "* Classfication\n",
    "* Regression\n",
    "* Clustering\n",
    "* Analysis \n",
    "* Parametric\n",
    "* Non-parametric\n",
    "----\n",
    "* Feature scaling\n",
    "* polynomial features"
   ]
  },
  {
   "cell_type": "markdown",
   "metadata": {},
   "source": [
    "## Linear Regression\n",
    "\n",
    "Hypothesis: $h(x) = \\theta^T x = \\theta_0 + \\theta_1 * x_1 + \\theta_2 * x_2 + ... \\theta_n * x_n$\n",
    "\n",
    "$h(X) = y $\n",
    "\n",
    "Error function $ J(\\theta) = \\frac{1}{2m} \\sum_{i=0}^{m} (h(x_i) -y_i)^2)$\n",
    "\n",
    "Here $ h(x_i)$ is the value hypothesis function predicts\n",
    "\n",
    "In Linear-Regression models, one hypothesizes the population is comes from a linear model. \n",
    "<br/>The learning algorithm will find a set of parameters $\\theta$ such that the error function is minimized.\n",
    "\n",
    "\n",
    "### Practical tips to make linear regression faster\n",
    "\n",
    "* Use feature scaling - normalize and standardize all features between -1 and 1 (or something -3 to +3)\n",
    "<br/>This will make the gradient decent runs faster\n",
    "<br/>Different type is feature scalings are (normalizing) or mean normalization (divide by mean)\n",
    "\n",
    "* Learning rate: play around the idea of learning rate - use the larger learning rate and changing when solution is converging. \n",
    "<br/>Learing rate is used to scale the value to slightly adjust the weight\n",
    "\n",
    "* Manufacture new features \n",
    "<br/> For ex. in house prediction, instead of house length and width, you may add $ area = l \\times w $\n",
    "<br/> If the scatter plot is not exactly  linear, consider adding squared or cubic value of features $f = x + x^2 + x^3 + \\sqrt{x}$"
   ]
  },
  {
   "cell_type": "code",
   "execution_count": 20,
   "metadata": {
    "collapsed": false
   },
   "outputs": [
    {
     "data": {
      "image/png": "[encoded data removed]",
      "text/plain": [
       "<matplotlib.figure.Figure at 0x1b53f5252b0>"
      ]
     },
     "metadata": {},
     "output_type": "display_data"
    }
   ],
   "source": [
    "# Here is an example of linear regression\n",
    "\n",
    "X = [ 1000, 1500, 1750, 2000, 2200, 2750, 1000, 1500, 1750, 2000, 2200, 2750, 1000, 1500, 1750, 2000, 2200, 2750]\n",
    "y = [ 120000, 150075, 178990, 271000, 224040, 272350, 102300, 170230, 172350, 200230, 220320, 234750, 123000, \n",
    "      132300, 173250, 203700, 232200, 242750]\n",
    "plt.scatter(X, y,  alpha=1, marker='x', s=60, c = 'r')\n",
    "plt.show()"
   ]
  },
  {
   "cell_type": "markdown",
   "metadata": {},
   "source": [
    "## Logistic regression"
   ]
  },
  {
   "cell_type": "code",
   "execution_count": null,
   "metadata": {
    "collapsed": true
   },
   "outputs": [],
   "source": []
  }
 ],
 "metadata": {
  "kernelspec": {
   "display_name": "Python 3",
   "language": "python",
   "name": "python3"
  },
  "language_info": {
   "codemirror_mode": {
    "name": "ipython",
    "version": 3
   },
   "file_extension": ".py",
   "mimetype": "text/x-python",
   "name": "python",
   "nbconvert_exporter": "python",
   "pygments_lexer": "ipython3",
   "version": "3.5.1"
  }
 },
 "nbformat": 4,
 "nbformat_minor": 0
}
