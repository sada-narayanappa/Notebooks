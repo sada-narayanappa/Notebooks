{
 "cells": [
  {
   "cell_type": "markdown",
   "metadata": {},
   "source": [
    "## Naive Bayes\n",
    "\n",
    "### References:\n",
    "* http://www.analyticsvidhya.com/blog/2015/09/naive-bayes-explained/"
   ]
  },
  {
   "cell_type": "code",
   "execution_count": 159,
   "metadata": {
    "collapsed": false
   },
   "outputs": [
    {
     "data": {
      "text/html": [
       "<script type=\"text/javascript\" src=\"http://ajax.googleapis.com/ajax/libs/jquery/1.3/jquery.min.js\"></script>\n",
       "<style>\n",
       "body {\n",
       "  font-family: Times 'Merriweather', Georgia, serif;\n",
       "}\n",
       "\n",
       ".imgs {\n",
       "    width: 250px;\n",
       "    align: left;\n",
       "    float: left;\n",
       "    padding-right: 50px;\n",
       "    padding-top: 20px;\n",
       "    border: 0px gray;\n",
       "}\n",
       ".imgs1 {\n",
       "    align: left;\n",
       "    float: left;\n",
       "    padding-right: 50px;\n",
       "    padding-top: 20px;\n",
       "    border-top: 1px solid gray;\n",
       "    border-bottom: 1px solid gray;\n",
       "    margin-right: 50px;\n",
       "}\n",
       "\n",
       "hr {\n",
       "    height:3px;\n",
       "    border:none;\n",
       "    color:#333;\n",
       "    background-color:#333;\"\n",
       "}\n",
       "\n",
       "p {\n",
       "  margin: 10px auto;\n",
       "  padding: 6px 10px;\n",
       "  font-weight: 300;\n",
       "  font-size: 16px;\n",
       "  line-height: 1.4;\n",
       "}\n",
       "\n",
       "h1 {\n",
       "    margin: 20px auto 0px;\n",
       "    padding: 0 10px;\n",
       "    text-align: center;\n",
       "    font-size: 80px;\n",
       "    ffont-weight: 300;\n",
       "    mmax-width: 800px;\n",
       "}\n",
       "\n",
       "h4 {\n",
       "  max-width: 800px;\n",
       "  margin: 0 auto;\n",
       "  padding: 10px 10px;\n",
       "  font-family: sans-serif;\n",
       "}\n",
       "\n",
       "\n",
       ".thumbnail  {\n",
       "\tposition: relative;\n",
       "\tfloat: left;\n",
       "\tpadding: 0px;\n",
       "\tz-index: 3;\n",
       "}\n",
       "\n",
       ".thumbnail:hover {\n",
       "\tbackground-color: #e9e9e2;\n",
       "\tcolor: #335500;\n",
       "\ttext-decoration: none;\n",
       "}\n",
       "\n",
       ".thumbnail span { /*CSS for enlarged image*/\n",
       "\tposition: fixed;\n",
       "    opacity: 1.5;\n",
       "    background-color: #e5e5e5; \n",
       "\tpadding: 5px;\n",
       "\tborder: 1px solid #666;\n",
       "\tvisibility: hidden;\n",
       "\tcolor: black;\n",
       "\ttext-decoration: none;\n",
       "\ttop:  150px; /* use IF IE6 style to correct IE6 positions of larger image relative to thumb */\n",
       "\tright: 50px;/*position where enlarged image should offset horizontally */\n",
       "\tz-index: 9999;\n",
       "    filter: alpha(opacity=100); \n",
       "}\n",
       "\n",
       ".thumbnail:hover span { /*CSS for enlarged image on hover*/\n",
       "\tvisibility: visible; \n",
       "\twidth: 500px;\n",
       "}\n",
       "    \n",
       ".container { width: 100% !important; }\n",
       "    div.cell{\n",
       "        width:100%;\n",
       "        margin-left:0%;\n",
       "        margin-right:auto;\n",
       "}\n",
       "</style>\n",
       "\n",
       "<script type=\"text/javascript\" src=\"http://ajax.googleapis.com/ajax/libs/jquery/1.3/jquery.min.js\"></script>\n",
       "<script type=\"text/javascript\" src=\"http://d3js.org/d3.v3.min.js\"></script>\n",
       "<script type=\"text/javascript\" src=\"http://d3js.org/topojson.v1.min.js\"></script>\n",
       "<script type=\"text/javascript\" src=\"http://datamaps.github.io/scripts/0.4.0/datamaps.all.js\"></script>\n",
       "\n",
       "<script>\n",
       "function log(e) {\n",
       "    console.log(e)\n",
       "    \n",
       "}\n",
       "\n",
       "function toggleDiv(divId) {\n",
       "   $(\"#\"+divId).toggle();\n",
       "\n",
       "}\n",
       "</script>"
      ],
      "text/plain": [
       "<IPython.core.display.HTML object>"
      ]
     },
     "metadata": {},
     "output_type": "display_data"
    }
   ],
   "source": [
    "%run \"../common.ipynb\""
   ]
  },
  {
   "cell_type": "code",
   "execution_count": 163,
   "metadata": {
    "collapsed": false
   },
   "outputs": [
    {
     "data": {
      "text/html": [
       "<table><td bgcolor=#efefef>768 rows x 9 columns<br><table border=\"1\" class=\"dataframe\">\n",
       "  <thead>\n",
       "        <tr bgcolor=#e6e6fa>\n",
       "      <th bgcolor=#e6e6fa>count</th>\n",
       "      <td>768.000</td>\n",
       "      <td>768.000</td>\n",
       "      <td>768.000</td>\n",
       "      <td>768.000</td>\n",
       "      <td>768.000</td>\n",
       "      <td>768.000</td>\n",
       "      <td>768.000</td>\n",
       "      <td>768.000</td>\n",
       "      <td>768.000</td>\n",
       "    </tr>\n",
       "    <tr bgcolor=#e6e6fa>\n",
       "      <th bgcolor=#e6e6fa>mean</th>\n",
       "      <td>3.845</td>\n",
       "      <td>120.895</td>\n",
       "      <td>69.105</td>\n",
       "      <td>20.536</td>\n",
       "      <td>79.799</td>\n",
       "      <td>31.993</td>\n",
       "      <td>0.472</td>\n",
       "      <td>33.241</td>\n",
       "      <td>0.349</td>\n",
       "    </tr>\n",
       "    <tr bgcolor=#e6e6fa>\n",
       "      <th bgcolor=#e6e6fa>std</th>\n",
       "      <td>3.370</td>\n",
       "      <td>31.973</td>\n",
       "      <td>19.356</td>\n",
       "      <td>15.952</td>\n",
       "      <td>115.244</td>\n",
       "      <td>7.884</td>\n",
       "      <td>0.331</td>\n",
       "      <td>11.760</td>\n",
       "      <td>0.477</td>\n",
       "    </tr>\n",
       "    <tr bgcolor=#e6e6fa>\n",
       "      <th bgcolor=#e6e6fa>min</th>\n",
       "      <td>0.000</td>\n",
       "      <td>0.000</td>\n",
       "      <td>0.000</td>\n",
       "      <td>0.000</td>\n",
       "      <td>0.000</td>\n",
       "      <td>0.000</td>\n",
       "      <td>0.078</td>\n",
       "      <td>21.000</td>\n",
       "      <td>0.000</td>\n",
       "    </tr>\n",
       "    <tr bgcolor=#dddddd>\n",
       "      <th bgcolor=#6495ed>25%</th>\n",
       "      <td>1.000</td>\n",
       "      <td>99.000</td>\n",
       "      <td>62.000</td>\n",
       "      <td>0.000</td>\n",
       "      <td>0.000</td>\n",
       "      <td>27.300</td>\n",
       "      <td>0.244</td>\n",
       "      <td>24.000</td>\n",
       "      <td>0.000</td>\n",
       "    </tr>\n",
       "    <tr bgcolor=#dddddd>\n",
       "      <th bgcolor=#6495ed>50%</th>\n",
       "      <td>3.000</td>\n",
       "      <td>117.000</td>\n",
       "      <td>72.000</td>\n",
       "      <td>23.000</td>\n",
       "      <td>30.500</td>\n",
       "      <td>32.000</td>\n",
       "      <td>0.372</td>\n",
       "      <td>29.000</td>\n",
       "      <td>0.000</td>\n",
       "    </tr>\n",
       "    <tr bgcolor=#dddddd>\n",
       "      <th bgcolor=#6495ed>75%</th>\n",
       "      <td>6.000</td>\n",
       "      <td>140.250</td>\n",
       "      <td>80.000</td>\n",
       "      <td>32.000</td>\n",
       "      <td>127.250</td>\n",
       "      <td>36.600</td>\n",
       "      <td>0.626</td>\n",
       "      <td>41.000</td>\n",
       "      <td>1.000</td>\n",
       "    </tr>\n",
       "    <tr bgcolor=#dddddd>\n",
       "      <th bgcolor=#6495ed>max</th>\n",
       "      <td>17.000</td>\n",
       "      <td>199.000</td>\n",
       "      <td>122.000</td>\n",
       "      <td>99.000</td>\n",
       "      <td>846.000</td>\n",
       "      <td>67.100</td>\n",
       "      <td>2.420</td>\n",
       "      <td>81.000</td>\n",
       "      <td>1.000</td>\n",
       "    </tr>\n",
       "  <tr><td></td><td><a class='thumbnail' href='#thumb'><img src='temp/0x10b7e1c88-Num_Pregnant.png' border=0 style='{margins: 0;}' width=64 height=64 /> <span><img src='temp/0x10b7e1c88-Num_Pregnant.png' /><br /></span></a></td><td><a class='thumbnail' href='#thumb'><img src='temp/0x10b7e1c88-Glucose_c.png' border=0 style='{margins: 0;}' width=64 height=64 /> <span><img src='temp/0x10b7e1c88-Glucose_c.png' /><br /></span></a></td><td><a class='thumbnail' href='#thumb'><img src='temp/0x10b7e1c88-BP.png' border=0 style='{margins: 0;}' width=64 height=64 /> <span><img src='temp/0x10b7e1c88-BP.png' /><br /></span></a></td><td><a class='thumbnail' href='#thumb'><img src='temp/0x10b7e1c88-SkinThick.png' border=0 style='{margins: 0;}' width=64 height=64 /> <span><img src='temp/0x10b7e1c88-SkinThick.png' /><br /></span></a></td><td><a class='thumbnail' href='#thumb'><img src='temp/0x10b7e1c88-Serum_Insulin.png' border=0 style='{margins: 0;}' width=64 height=64 /> <span><img src='temp/0x10b7e1c88-Serum_Insulin.png' /><br /></span></a></td><td><a class='thumbnail' href='#thumb'><img src='temp/0x10b7e1c88-BMI.png' border=0 style='{margins: 0;}' width=64 height=64 /> <span><img src='temp/0x10b7e1c88-BMI.png' /><br /></span></a></td><td><a class='thumbnail' href='#thumb'><img src='temp/0x10b7e1c88-Diabetes.png' border=0 style='{margins: 0;}' width=64 height=64 /> <span><img src='temp/0x10b7e1c88-Diabetes.png' /><br /></span></a></td><td><a class='thumbnail' href='#thumb'><img src='temp/0x10b7e1c88-Age.png' border=0 style='{margins: 0;}' width=64 height=64 /> <span><img src='temp/0x10b7e1c88-Age.png' /><br /></span></a></td><td><a class='thumbnail' href='#thumb'><img src='temp/0x10b7e1c88-Diabetic.png' border=0 style='{margins: 0;}' width=64 height=64 /> <span><img src='temp/0x10b7e1c88-Diabetic.png' /><br /></span></a></td></tr>\n",
       "<tr style=\"text-align: right;\">\n",
       "      <th bgcolor=#6495ed></th>\n",
       "      <th bgcolor=#6495ed>Num_Pregnant\n",
       "\t(int64)</th>\n",
       "      <th bgcolor=#6495ed>Glucose_c\n",
       "\t(int64)</th>\n",
       "      <th bgcolor=#6495ed>BP\n",
       "\t(int64)</th>\n",
       "      <th bgcolor=#6495ed>SkinThick\n",
       "\t(int64)</th>\n",
       "      <th bgcolor=#6495ed>Serum_Insulin\n",
       "\t(int64)</th>\n",
       "      <th bgcolor=#6495ed>BMI\n",
       "\t(float64)</th>\n",
       "      <th bgcolor=#6495ed>Diabetes\n",
       "\t(float64)</th>\n",
       "      <th bgcolor=#6495ed>Age\n",
       "\t(int64)</th>\n",
       "      <th bgcolor=#6495ed>Diabetic\n",
       "\t(int64)</th>\n",
       "    </tr>\n",
       "  </thead>\n",
       "  <tbody>\n",
       "    <tr>\n",
       "      <th bgcolor=#6495ed>0</th>\n",
       "      <td>6</td>\n",
       "      <td>148</td>\n",
       "      <td>72</td>\n",
       "      <td>35</td>\n",
       "      <td>0</td>\n",
       "      <td>33.600</td>\n",
       "      <td>0.627</td>\n",
       "      <td>50</td>\n",
       "      <td>1</td>\n",
       "    </tr>\n",
       "    <tr>\n",
       "      <th bgcolor=#6495ed>1</th>\n",
       "      <td>1</td>\n",
       "      <td>85</td>\n",
       "      <td>66</td>\n",
       "      <td>29</td>\n",
       "      <td>0</td>\n",
       "      <td>26.600</td>\n",
       "      <td>0.351</td>\n",
       "      <td>31</td>\n",
       "      <td>0</td>\n",
       "    </tr>\n",
       "    <tr>\n",
       "      <th bgcolor=#6495ed>2</th>\n",
       "      <td>8</td>\n",
       "      <td>183</td>\n",
       "      <td>64</td>\n",
       "      <td>0</td>\n",
       "      <td>0</td>\n",
       "      <td>23.300</td>\n",
       "      <td>0.672</td>\n",
       "      <td>32</td>\n",
       "      <td>1</td>\n",
       "    </tr>\n",
       "    <tr>\n",
       "      <th bgcolor=#6495ed>3</th>\n",
       "      <td>1</td>\n",
       "      <td>89</td>\n",
       "      <td>66</td>\n",
       "      <td>23</td>\n",
       "      <td>94</td>\n",
       "      <td>28.100</td>\n",
       "      <td>0.167</td>\n",
       "      <td>21</td>\n",
       "      <td>0</td>\n",
       "    </tr>\n",
       "    <tr>\n",
       "      <th bgcolor=#6495ed>4</th>\n",
       "      <td>0</td>\n",
       "      <td>137</td>\n",
       "      <td>40</td>\n",
       "      <td>35</td>\n",
       "      <td>168</td>\n",
       "      <td>43.100</td>\n",
       "      <td>2.288</td>\n",
       "      <td>33</td>\n",
       "      <td>1</td>\n",
       "    </tr>\n",
       "    <tr>\n",
       "      <th bgcolor=#6495ed>5</th>\n",
       "      <td>5</td>\n",
       "      <td>116</td>\n",
       "      <td>74</td>\n",
       "      <td>0</td>\n",
       "      <td>0</td>\n",
       "      <td>25.600</td>\n",
       "      <td>0.201</td>\n",
       "      <td>30</td>\n",
       "      <td>0</td>\n",
       "    </tr>\n",
       "    <tr>\n",
       "      <th bgcolor=#6495ed>6</th>\n",
       "      <td>3</td>\n",
       "      <td>78</td>\n",
       "      <td>50</td>\n",
       "      <td>32</td>\n",
       "      <td>88</td>\n",
       "      <td>31.000</td>\n",
       "      <td>0.248</td>\n",
       "      <td>26</td>\n",
       "      <td>1</td>\n",
       "    </tr>\n",
       "    <tr>\n",
       "      <th bgcolor=#6495ed>7</th>\n",
       "      <td>10</td>\n",
       "      <td>115</td>\n",
       "      <td>0</td>\n",
       "      <td>0</td>\n",
       "      <td>0</td>\n",
       "      <td>35.300</td>\n",
       "      <td>0.134</td>\n",
       "      <td>29</td>\n",
       "      <td>0</td>\n",
       "    </tr>\n",
       "    <tr>\n",
       "      <th bgcolor=#6495ed>8</th>\n",
       "      <td>2</td>\n",
       "      <td>197</td>\n",
       "      <td>70</td>\n",
       "      <td>45</td>\n",
       "      <td>543</td>\n",
       "      <td>30.500</td>\n",
       "      <td>0.158</td>\n",
       "      <td>53</td>\n",
       "      <td>1</td>\n",
       "    </tr>\n",
       "    <tr>\n",
       "      <th bgcolor=#6495ed>9</th>\n",
       "      <td>8</td>\n",
       "      <td>125</td>\n",
       "      <td>96</td>\n",
       "      <td>0</td>\n",
       "      <td>0</td>\n",
       "      <td>0.000</td>\n",
       "      <td>0.232</td>\n",
       "      <td>54</td>\n",
       "      <td>1</td>\n",
       "    </tr>\n",
       "    <tr>\n",
       "      <th bgcolor=#6495ed>10</th>\n",
       "      <td>4</td>\n",
       "      <td>110</td>\n",
       "      <td>92</td>\n",
       "      <td>0</td>\n",
       "      <td>0</td>\n",
       "      <td>37.600</td>\n",
       "      <td>0.191</td>\n",
       "      <td>30</td>\n",
       "      <td>0</td>\n",
       "    </tr>\n",
       "    <tr>\n",
       "      <th bgcolor=#6495ed>11</th>\n",
       "      <td>10</td>\n",
       "      <td>168</td>\n",
       "      <td>74</td>\n",
       "      <td>0</td>\n",
       "      <td>0</td>\n",
       "      <td>38.000</td>\n",
       "      <td>0.537</td>\n",
       "      <td>34</td>\n",
       "      <td>1</td>\n",
       "    </tr>\n",
       "  </tbody>\n",
       "</table></td><td>&nbsp;</td></table>"
      ],
      "text/plain": [
       "<IPython.core.display.HTML object>"
      ]
     },
     "metadata": {},
     "output_type": "display_data"
    }
   ],
   "source": [
    "fileName=\"../data/pima-indians-diabetes.csv\"\n",
    "\n",
    "df  = LoadDataSet(fileName);\n",
    "displayDFs([df], maxrows=12)\n"
   ]
  },
  {
   "cell_type": "code",
   "execution_count": 266,
   "metadata": {
    "collapsed": false,
    "scrolled": false
   },
   "outputs": [
    {
     "name": "stdout",
     "output_type": "stream",
     "text": [
      "Split 768 rows into train=514 and test=254 rows\n",
      "Accuracy: 80.0%\n"
     ]
    }
   ],
   "source": [
    "# Example of Naive Bayes implemented from Scratch in Python\n",
    "import csv\n",
    "import random\n",
    "import math\n",
    "\n",
    "def loadCsv(filename):\n",
    "    lines = csv.reader(open(filename, \"rt\"))\n",
    "    dataset = list(lines)\n",
    "    dataset = dataset[3:]\n",
    "    for i in range(len(dataset)):\n",
    "        dataset[i] = [float(x) for x in dataset[i]]\n",
    "    return dataset\n",
    "\n",
    "def splitDataset(dataset, splitRatio):\n",
    "\ttrainSize = int(len(dataset) * splitRatio)\n",
    "\ttrainSet = []\n",
    "\tcopy = list(dataset)\n",
    "\twhile len(trainSet) < trainSize:\n",
    "\t\tindex = random.randrange(len(copy))\n",
    "\t\ttrainSet.append(copy.pop(index))\n",
    "\treturn [trainSet, copy]\n",
    "\n",
    "def separateByClass(dataset):\n",
    "\tseparated = {}\n",
    "\tfor i in range(len(dataset)):\n",
    "\t\tvector = dataset[i]\n",
    "\t\tif (vector[-1] not in separated):\n",
    "\t\t\tseparated[vector[-1]] = []\n",
    "\t\tseparated[vector[-1]].append(vector)\n",
    "\treturn separated\n",
    "\n",
    "def mean(numbers):\n",
    "\treturn sum(numbers)/float(len(numbers))\n",
    "\n",
    "def stdev(numbers):\n",
    "\tavg = mean(numbers)\n",
    "\tvariance = sum([pow(x-avg,2) for x in numbers])/float(len(numbers)-1)\n",
    "\treturn math.sqrt(variance)\n",
    "\n",
    "def summarize(dataset):\n",
    "\tsummaries = [(mean(attribute), stdev(attribute)) for attribute in zip(*dataset)]\n",
    "\tsummaries = [(np.array(a).mean(), np.array(a).std(), np.array(a).var()) for a in zip(*dataset)]\n",
    "\tdel summaries[-1]\n",
    "\treturn summaries\n",
    "\n",
    "def summarizeByClass(dataset):\n",
    "\tseparated = separateByClass(dataset)\n",
    "\tsummaries = {}\n",
    "\tfor classValue, instances in separated.items():\n",
    "\t\tsummaries[classValue] = summarize(instances)\n",
    "\treturn summaries\n",
    "\n",
    "def calculateProbability(x, mean, stdev, var=None):\n",
    "    if (var is None):\n",
    "        var = math.pow(stdev,2)\n",
    "    exponent = math.exp(-(math.pow(x-mean,2)/(2*var)))\n",
    "    return (1 / (math.sqrt(2*math.pi) * stdev)) * exponent\n",
    "\n",
    "def calculateClassProbabilities(summaries, inputVector):\n",
    "\tprobabilities = {}\n",
    "\tfor classValue, classSummaries in summaries.items():\n",
    "\t\tprobabilities[classValue] = 1\n",
    "\t\tfor i in range(len(classSummaries)):\n",
    "\t\t\tmean, stdev, var = classSummaries[i]\n",
    "\t\t\tx = inputVector[i]\n",
    "\t\t\tprobabilities[classValue] *= calculateProbability(x, mean, stdev, var)\n",
    "\treturn probabilities\n",
    "\t\t\t\n",
    "def predict(summaries, inputVector):\n",
    "\tprobabilities = calculateClassProbabilities(summaries, inputVector)\n",
    "\tbestLabel, bestProb = None, -1\n",
    "\tfor classValue, probability in probabilities.items():\n",
    "\t\tif bestLabel is None or probability > bestProb:\n",
    "\t\t\tbestProb = probability\n",
    "\t\t\tbestLabel = classValue\n",
    "\treturn bestLabel\n",
    "\n",
    "def getPredictions(summaries, testSet):\n",
    "\tpredictions = []\n",
    "\tfor i in range(len(testSet)):\n",
    "\t\tresult = predict(summaries, testSet[i])\n",
    "\t\tpredictions.append(result)\n",
    "\treturn predictions\n",
    "\n",
    "def getProbs(summaries, testSet):\n",
    "    r = []\n",
    "    for i in range(len(testSet)):\n",
    "        p = calculateClassProbabilities(summaries, testSet[i])\n",
    "        r.append(p)\n",
    "    return r\n",
    "\n",
    "\n",
    "def getAccuracy(testSet, predictions):\n",
    "\tcorrect = 0\n",
    "\tfor i in range(len(testSet)):\n",
    "\t\tif testSet[i][-1] == predictions[i]:\n",
    "\t\t\tcorrect += 1\n",
    "\treturn (correct/float(len(testSet))) * 100.0\n",
    "\n",
    "filename = '../data/pima-indians-diabetes.csv'\n",
    "splitRatio = 0.67\n",
    "dataset = loadCsv(filename)\n",
    "trainingSet, testSet = splitDataset(dataset, splitRatio)\n",
    "print('Split {0} rows into train={1} and test={2} rows'.format(len(dataset), len(trainingSet), len(testSet)) )\n",
    "# prepare model\n",
    "summaries = summarizeByClass(trainingSet)\n",
    "# test model\n",
    "\n",
    "testSet = testSet[0:50]\n",
    "predictions = getPredictions(summaries, testSet)\n",
    "\n",
    "probs = getProbs(summaries, testSet)\n",
    "    \n",
    "accuracy = getAccuracy(testSet, predictions)\n",
    "print('Accuracy: {0}%'.format(accuracy))"
   ]
  },
  {
   "cell_type": "code",
   "execution_count": 267,
   "metadata": {
    "collapsed": false,
    "scrolled": false
   },
   "outputs": [
    {
     "data": {
      "text/plain": [
       "11.339272393120657"
      ]
     },
     "execution_count": 267,
     "metadata": {},
     "output_type": "execute_result"
    }
   ],
   "source": [
    "s = [a for a in zip(*dataset)]\n",
    "np.array(s[0]).mean()\n",
    "np.array(s[0]).var()"
   ]
  },
  {
   "cell_type": "markdown",
   "metadata": {},
   "source": [
    "### Using Python tools"
   ]
  },
  {
   "cell_type": "code",
   "execution_count": 268,
   "metadata": {
    "collapsed": false
   },
   "outputs": [
    {
     "data": {
      "text/plain": [
       "GaussianNB()"
      ]
     },
     "execution_count": 268,
     "metadata": {},
     "output_type": "execute_result"
    }
   ],
   "source": [
    "def SplitXy(Xy):\n",
    "    Xy10=Xy[0:8]\n",
    "    Xy10 = Xy;\n",
    "    #print Xy10\n",
    "    #print \"========\"\n",
    "    zXy10=list(zip(*Xy10))\n",
    "    y= zXy10[-1]\n",
    "    del zXy10[-1]\n",
    "    z1=zip(*zXy10)\n",
    "    X=[list(t) for t in z1]\n",
    "    return X,y\n",
    "\n",
    "from sklearn.naive_bayes import GaussianNB\n",
    "X,y = SplitXy(trainingSet) \n",
    "Xt,yt = SplitXy(testSet)\n",
    "\n",
    "model = GaussianNB()\n",
    "model.fit(X, y)\n"
   ]
  },
  {
   "cell_type": "code",
   "execution_count": 269,
   "metadata": {
    "collapsed": false
   },
   "outputs": [
    {
     "name": "stdout",
     "output_type": "stream",
     "text": [
      "Class: 0\n",
      "(    3.24      9.28    3.05 )==>  (3.2447761194029852, 3.0468620305914031, 9.2833682334595675)\n",
      "(  109.99    704.71   26.55 )==>  (109.98507462686567, 26.546322530998598, 704.7072399198039)\n",
      "(   67.68    337.36   18.37 )==>  (67.677611940298505, 18.36732839871183, 337.35875250612611)\n",
      "(   20.25    228.90   15.13 )==>  (20.247761194029852, 15.129336513739021, 228.89682334595679)\n",
      "(   72.78  11033.82  105.04 )==>  (72.776119402985074, 105.04197041716266, 11033.815549120074)\n",
      "(   30.59     64.52    8.03 )==>  (30.59014925373134, 8.0323594594107899, 64.518798485186011)\n",
      "(    0.44      0.09    0.31 )==>  (0.43777014925373142, 0.30575883239335033, 0.09348846358654489)\n",
      "(   31.12    130.79   11.44 )==>  (31.116417910447762, 11.436320734604895, 130.78943194475383)\n",
      "Class: 1\n",
      "(    4.87     13.46    3.67 )==>  (4.8715083798882679, 3.6693237566253765, 13.463936830935364)\n",
      "(  141.45   1100.46   33.17 )==>  (141.44692737430168, 33.173174008514692, 1100.4594737991947)\n",
      "(   69.97    507.60   22.53 )==>  (69.966480446927378, 22.529905499195738, 507.59664180269033)\n",
      "(   22.49    322.41   17.96 )==>  (22.486033519553072, 17.955674020165034, 322.40622951842954)\n",
      "(  100.85  20767.60  144.11 )==>  (100.84916201117318, 144.10969067424006, 20767.602946225154)\n",
      "(   34.76     60.80    7.80 )==>  (34.756983240223462, 7.7975425046261186, 60.801669111450963)\n",
      "(    0.56      0.15    0.38 )==>  (0.55763687150837982, 0.381133735063718, 0.14526292400362037)\n",
      "(   37.28    113.80   10.67 )==>  (37.279329608938546, 10.667664690157695, 113.79906994163728)\n"
     ]
    }
   ],
   "source": [
    "### Compare the models built by Python\n",
    "\n",
    "print (\"Class: 0\")\n",
    "for i,j in enumerate(model.theta_[0]):\n",
    "    print (\"({:8.2f} {:9.2f} {:7.2f} )\".format(j, model.sigma_[0][i], sqrt(model.sigma_[0][i])) , end=\"\")\n",
    "    print (\"==> \", summaries[0][i])\n",
    "    \n",
    "print (\"Class: 1\")\n",
    "for i,j in enumerate(model.theta_[1]):\n",
    "    print (\"({:8.2f} {:9.2f} {:7.2f} )\".format(j, model.sigma_[1][i], sqrt(model.sigma_[1][i])) , end=\"\")\n",
    "    print (\"==> \", summaries[1][i])"
   ]
  },
  {
   "cell_type": "code",
   "execution_count": 270,
   "metadata": {
    "collapsed": false,
    "scrolled": false
   },
   "outputs": [
    {
     "data": {
      "text/plain": [
       "array([[ 0.98,  0.02],\n",
       "       [ 0.93,  0.07],\n",
       "       [ 0.86,  0.14],\n",
       "       [ 0.1 ,  0.9 ],\n",
       "       [ 0.03,  0.97],\n",
       "       [ 0.55,  0.45],\n",
       "       [ 0.53,  0.47],\n",
       "       [ 0.9 ,  0.1 ],\n",
       "       [ 0.08,  0.92],\n",
       "       [ 0.53,  0.47]])"
      ]
     },
     "execution_count": 270,
     "metadata": {},
     "output_type": "execute_result"
    }
   ],
   "source": [
    "Pt = model.predict_proba(Xt)\n",
    "Pt[0:10]"
   ]
  },
  {
   "cell_type": "code",
   "execution_count": 271,
   "metadata": {
    "collapsed": false
   },
   "outputs": [
    {
     "name": "stdout",
     "output_type": "stream",
     "text": [
      "5 differ 1.0 0.0, [7.0, 100.0, 0.0, 0.0, 0.0, 30.0, 0.484, 32.0] \n"
     ]
    }
   ],
   "source": [
    "p1 = model.predict(Xt)\n",
    "for i in range(len(predictions)):\n",
    "    if (not predictions[i] == p1[i] ):\n",
    "        print (\"{} differ {} {}, {} \".format(i, predictions[i] , p1[i] , Xt[i]), end=\"\\n\")\n",
    "        break;"
   ]
  },
  {
   "cell_type": "code",
   "execution_count": 272,
   "metadata": {
    "collapsed": false,
    "scrolled": false
   },
   "outputs": [
    {
     "data": {
      "text/plain": [
       "[{0.0: 2.6647212180382806e-12, 1.0: 1.1650326590182071e-13},\n",
       " {0.0: 1.4705978178754816e-12, 1.0: 1.9166842219694805e-13},\n",
       " {0.0: 6.1589986096661238e-13, 1.0: 1.8292304549930851e-13},\n",
       " {0.0: 1.3829725011762472e-14, 1.0: 2.3947635545536097e-13},\n",
       " {0.0: 3.7749573507409827e-17, 1.0: 2.6415178743713595e-15},\n",
       " {0.0: 1.5008905259338552e-15, 1.0: 2.2904670348751916e-15},\n",
       " {0.0: 3.7522950177107856e-14, 1.0: 6.1616147230491638e-14},\n",
       " {0.0: 4.7974987035374041e-12, 1.0: 9.6078342822872527e-13},\n",
       " {0.0: 4.7954328725175488e-15, 1.0: 9.9285549859707505e-14},\n",
       " {0.0: 3.0899900451065483e-13, 1.0: 5.0945170367497614e-13}]"
      ]
     },
     "execution_count": 272,
     "metadata": {},
     "output_type": "execute_result"
    }
   ],
   "source": [
    "probs[0:10]"
   ]
  },
  {
   "cell_type": "code",
   "execution_count": 273,
   "metadata": {
    "collapsed": false
   },
   "outputs": [
    {
     "name": "stdout",
     "output_type": "stream",
     "text": [
      "335 179 514 0.6517509727626459 0.34824902723735407\n"
     ]
    }
   ],
   "source": [
    "X,y = SplitXy(trainingSet)\n",
    "yy=np.array(y)\n",
    "y0=yy[yy==0]\n",
    "y1=yy[yy==1]\n",
    "p0=len(y0)/len(y)\n",
    "p1=len(y1)/len(y)\n",
    "print(len(y0), len(y1), len(y), p0, p1)"
   ]
  },
  {
   "cell_type": "code",
   "execution_count": 274,
   "metadata": {
    "collapsed": false
   },
   "outputs": [
    {
     "name": "stdout",
     "output_type": "stream",
     "text": [
      "    def predict_log_proba(self, X):\n",
      "        \"\"\"\n",
      "        Return log-probability estimates for the test vector X.\n",
      "\n",
      "        Parameters\n",
      "        ----------\n",
      "        X : array-like, shape = [n_samples, n_features]\n",
      "\n",
      "        Returns\n",
      "        -------\n",
      "        C : array-like, shape = [n_samples, n_classes]\n",
      "            Returns the log-probability of the samples for each class in\n",
      "            the model. The columns correspond to the classes in sorted\n",
      "            order, as they appear in the attribute `classes_`.\n",
      "        \"\"\"\n",
      "        jll = self._joint_log_likelihood(X)\n",
      "        # normalize by P(x) = P(f_1, ..., f_n)\n",
      "        log_prob_x = logsumexp(jll, axis=1)\n",
      "        return jll - np.atleast_2d(log_prob_x).T\n",
      "\n"
     ]
    }
   ],
   "source": [
    "from dill.source import getsource\n",
    "print(getsource(model.predict_log_proba))"
   ]
  },
  {
   "cell_type": "code",
   "execution_count": 260,
   "metadata": {
    "collapsed": false
   },
   "outputs": [
    {
     "data": {
      "text/plain": [
       "array([[ -1.14e-02,  -4.48e+00],\n",
       "       [ -2.39e+00,  -9.65e-02],\n",
       "       [ -2.93e-04,  -8.13e+00],\n",
       "       [ -8.55e-01,  -5.54e-01],\n",
       "       [ -8.10e-01,  -5.89e-01],\n",
       "       [ -1.23e-01,  -2.15e+00],\n",
       "       [ -3.53e-01,  -1.21e+00],\n",
       "       [ -1.24e+00,  -3.43e-01],\n",
       "       [ -1.69e+00,  -2.03e-01],\n",
       "       [ -1.88e+00,  -1.66e-01]])"
      ]
     },
     "execution_count": 260,
     "metadata": {},
     "output_type": "execute_result"
    }
   ],
   "source": [
    "model.predict_log_proba(Xt)[0:10]"
   ]
  },
  {
   "cell_type": "code",
   "execution_count": 261,
   "metadata": {
    "collapsed": true
   },
   "outputs": [],
   "source": [
    "jll = model._joint_log_likelihood(Xt)"
   ]
  },
  {
   "cell_type": "code",
   "execution_count": null,
   "metadata": {
    "collapsed": true
   },
   "outputs": [],
   "source": []
  }
 ],
 "metadata": {
  "hide_input": false,
  "kernelspec": {
   "display_name": "Python 3",
   "language": "python",
   "name": "python3"
  },
  "language_info": {
   "codemirror_mode": {
    "name": "ipython",
    "version": 3
   },
   "file_extension": ".py",
   "mimetype": "text/x-python",
   "name": "python",
   "nbconvert_exporter": "python",
   "pygments_lexer": "ipython3",
   "version": "3.5.1"
  }
 },
 "nbformat": 4,
 "nbformat_minor": 0
}
