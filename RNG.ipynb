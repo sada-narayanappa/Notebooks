{
 "cells": [
  {
   "cell_type": "markdown",
   "metadata": {},
   "source": [
    "# Random Number Generators"
   ]
  },
  {
   "cell_type": "code",
   "execution_count": 59,
   "metadata": {
    "collapsed": false
   },
   "outputs": [
    {
     "name": "stdout",
     "output_type": "stream",
     "text": [
      "0\n"
     ]
    }
   ],
   "source": [
    "# Example1: generate a Bernoulli variable\n",
    "import random\n",
    "\n",
    "p = 0.68\n",
    "U = random.random()\n",
    "\n",
    "if U < p:\n",
    "    X = 1\n",
    "else:\n",
    "    X = 0\n",
    "\n",
    "print (X)"
   ]
  },
  {
   "cell_type": "code",
   "execution_count": 60,
   "metadata": {
    "collapsed": false
   },
   "outputs": [
    {
     "name": "stdout",
     "output_type": "stream",
     "text": [
      "12\n"
     ]
    }
   ],
   "source": [
    "# Example2: generate a Binomial variable\n",
    "import random\n",
    "\n",
    "n = 20\n",
    "p = 0.68\n",
    "X = 0\n",
    "\n",
    "for i in range(1, n):\n",
    "    U = random.random()\n",
    "    if U < p:\n",
    "        X += 1\n",
    "\n",
    "print (X)"
   ]
  },
  {
   "cell_type": "code",
   "execution_count": 61,
   "metadata": {
    "collapsed": false
   },
   "outputs": [
    {
     "name": "stdout",
     "output_type": "stream",
     "text": [
      "1\n"
     ]
    }
   ],
   "source": [
    "# Example3: generate a Geometric variable\n",
    "import random\n",
    "\n",
    "p = 0.68\n",
    "X = 1           # need at least one trial\n",
    "\n",
    "while (random.random() > p):   # continue while there are failures\n",
    "   X += 1\n",
    "\n",
    "print (X)"
   ]
  },
  {
   "cell_type": "code",
   "execution_count": 62,
   "metadata": {
    "collapsed": false
   },
   "outputs": [
    {
     "name": "stdout",
     "output_type": "stream",
     "text": [
      "6\n"
     ]
    }
   ],
   "source": [
    "# Example4: generate a Poisson variable\n",
    "\n",
    "import random\n",
    "import numpy as np\n",
    "import scipy.special as sp\n",
    "\n",
    "\n",
    "lamb = 5               # parameter \n",
    "U = random.random()    # generate a Uniform variable\n",
    "i = 0                  # initial value\n",
    "F = np.exp(-lamb)      # initial value, F(0)\n",
    "\n",
    "while (U >= F):        # the loop ends when U < F(i)\n",
    "    F = F + np.exp(-lamb) * (np.power(lamb, i) /sp.gamma(i+1))\n",
    "    i = i + 1\n",
    "    \n",
    "X = i\n",
    "\n",
    "print (X)"
   ]
  },
  {
   "cell_type": "code",
   "execution_count": 63,
   "metadata": {
    "collapsed": false
   },
   "outputs": [
    {
     "name": "stdout",
     "output_type": "stream",
     "text": [
      "0.722697033419\n"
     ]
    }
   ],
   "source": [
    "# Example5: generate an Exponential variable\n",
    "\n",
    "import random\n",
    "import numpy as np\n",
    "\n",
    "lamb = 0.5                   # parameter\n",
    "U = random.random()          # generate a Uniform variable\n",
    "\n",
    "X = (-1/lamb) * np.log(U)    # the inverse transformation function\n",
    "\n",
    "print (X)"
   ]
  }
 ],
 "metadata": {
  "anaconda-cloud": {},
  "kernelspec": {
   "display_name": "Python [default]",
   "language": "python",
   "name": "python3"
  },
  "language_info": {
   "codemirror_mode": {
    "name": "ipython",
    "version": 3
   },
   "file_extension": ".py",
   "mimetype": "text/x-python",
   "name": "python",
   "nbconvert_exporter": "python",
   "pygments_lexer": "ipython3",
   "version": "3.5.2"
  }
 },
 "nbformat": 4,
 "nbformat_minor": 0
}
