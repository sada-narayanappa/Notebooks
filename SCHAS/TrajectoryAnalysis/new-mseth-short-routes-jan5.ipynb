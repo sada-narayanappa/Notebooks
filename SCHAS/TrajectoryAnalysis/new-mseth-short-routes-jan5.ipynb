{
 "cells": [
  {
   "cell_type": "code",
   "execution_count": 1,
   "metadata": {
    "collapsed": false
   },
   "outputs": [],
   "source": [
    "#Empirical MSE for changing environment\n",
    "#Uses new f_ave calculation weighting all times equally to new p(t) one.\n",
    "from scipy.stats import t\n",
    "from scipy.stats import norm;\n",
    "import matplotlib.pyplot as plt\n",
    "from PIL import Image\n",
    "import random;\n",
    "import numpy;\n",
    "import scipy.integrate as integrate;\n",
    "import scipy.special as special;\n",
    "low = -350;\n",
    "high = 2690;\n",
    "#These are the limits of integraton for time in the average value calculations for f_ave and for the MSE.\n",
    "#They must be carefully set so that you integrate over all significantly likely times, but not\n",
    "#so wide that you get division by 0 for times for which p(t) is indistinguishable from 0.\n",
    "\n"
   ]
  },
  {
   "cell_type": "markdown",
   "metadata": {},
   "source": [
    "# Load Path Data"
   ]
  },
  {
   "cell_type": "code",
   "execution_count": 2,
   "metadata": {
    "collapsed": false
   },
   "outputs": [
    {
     "name": "stdout",
     "output_type": "stream",
     "text": [
      "Path Mean Times in seconds: \n",
      "[960, 900, 1020, 1140, 1050]\n",
      "\n",
      "Path Standard Deviation of Times in seconds: \n",
      "[60, 45, 70, 75, 65]\n",
      "\n",
      "Path Distances in miles:\n",
      "[8.9, 10.2, 8.4, 8.6, 8.9]\n",
      "\n",
      "Path Percent in each Region: \n",
      "[[0.33, 0.12, 0.3, 0, 0, 0.25, 0], [0, 0.18, 0, 0.07, 0.12, 0.32, 0.31], [0.23, 0.22, 0.3, 0, 0, 0.25, 0], [0.07, 0.22, 0.17, 0.19, 0, 0.35, 0], [0, 0.18, 0, 0.07, 0.11, 0.33, 0.31]]\n",
      "\n",
      "P_I(x):\n",
      "[0.2, 0.3, 0.3, 0.1, 0.1]\n",
      "\n",
      "P_p(x):\n",
      "[0.25, 0.2, 0.4, 0.05, 0.1]\n"
     ]
    }
   ],
   "source": [
    "pathMeanTimes = [];\n",
    "pathStdOfTimes = [];\n",
    "pathDistances = [];\n",
    "percentOfTimeInEachRegion = [];\n",
    "P_I = [];\n",
    "P_p = [];\n",
    "regionConcent = [120,110,80,200,230,100,150];\n",
    "\n",
    "#1801 Fry Street Falcon Heights, MN 55113 to 163 Bridge Street, Saint Paul, MN 55126 \n",
    "\n",
    "#via Snelling Ave and Highway 96W. #T = 16min. D = 8.9 mi\n",
    "#Follow Garden Ave to Snelling Ave\n",
    "#1 min (0.2 mi)\n",
    "#Turn left at the 2nd cross street onto Snelling Ave\n",
    "#8 min (4.9 mi)\n",
    "#Follow Hamline Ave N and Hwy 96 W to Bridge St in Shoreview\n",
    "#7 min (3.8 mi)\n",
    "pathMeanTimes.append(960);\n",
    "pathStdOfTimes.append(60);\n",
    "pathDistances.append(8.9);\n",
    "P_I.append(0.2);\n",
    "P_p.append(.25);\n",
    "percentOfTimeInEachRegion.append([.33,.12,.3,0,0,.25,0]);\n",
    "\n",
    "#via MN 36-E. T=15min. D=10.2 mi\n",
    "#Get on MN-36 E in Roseville from Snelling Ave\n",
    "#4 min (1.3 mi)\n",
    "#Continue on MN-36 E. Take Exit 113 to Rice St. Take exit 45 from I-694 W/US-10 W\n",
    "#8 min (6.7 mi)\n",
    "#Follow Rice St to Bridge St\n",
    "#4 min (2.2 mi)\n",
    "pathMeanTimes.append(900);\n",
    "pathStdOfTimes.append(45);\n",
    "pathDistances.append(10.2);\n",
    "P_I.append(0.3);\n",
    "P_p.append(.20);\n",
    "percentOfTimeInEachRegion.append([0,.18,0,.07,.12,.32,.31]);\n",
    "\n",
    "#via Snelling Ave and County Rd F. T = 17min. D = 8.4 mi\n",
    "#Follow Garden Ave to Snelling Ave\n",
    "#1 min (0.2 mi)\n",
    "#Turn left at the 2nd cross street onto Snelling Ave\n",
    "#8 min (4.9 mi)\n",
    "#Follow County Rd F West and Snail Lake Blvd to Bridge St in Shoreview\n",
    "#8 min (3.3 mi)\n",
    "pathMeanTimes.append(1020);\n",
    "pathStdOfTimes.append(70);\n",
    "pathDistances.append(8.4);\n",
    "P_I.append(0.3);\n",
    "P_p.append(.4);\n",
    "percentOfTimeInEachRegion.append([.23,.22,.3,0,0,.25,0]);\n",
    "\n",
    "#via Victorian T=19min. D = 8.6 mi\n",
    "#Follow Garden Ave to Snelling Ave\n",
    "#1 min (0.2 mi)\n",
    "#Take Victoria St N to Snail Lake Rd in Shoreview\n",
    "#16 min (7.6 mi)\n",
    "#Turn right onto Snail Lake Rd\n",
    "#2 min (0.6 mi)\n",
    "#Turn left onto Rice St\n",
    "#22 s (0.2 mi)\n",
    "#Turn left onto Bridge St\n",
    "#18 s (167 ft)\n",
    "pathMeanTimes.append(1140);\n",
    "pathStdOfTimes.append(75);\n",
    "pathDistances.append(8.6);\n",
    "P_I.append(0.1);\n",
    "P_p.append(.05);\n",
    "percentOfTimeInEachRegion.append([.07,.22,.17,.19,0,.35,0]);\n",
    "\n",
    "#via MN 36 and Rice ST. T = 17.5 min D =8.9 mi\n",
    "#Follow Garden Ave to Snelling Ave\n",
    "#1 min (0.2 mi)\n",
    "#Take MN-36 E and Rice St to Bridge St\n",
    "#16 min (8.7 mi)\n",
    "#Turn left onto Bridge St\n",
    "#18 s (167 ft)\n",
    "pathMeanTimes.append(1050);\n",
    "pathStdOfTimes.append(65);\n",
    "pathDistances.append(8.9);\n",
    "P_I.append(0.1);\n",
    "P_p.append(.1);\n",
    "percentOfTimeInEachRegion.append([0,.18,0,.07,.11,.33,.31]);\n",
    "\n",
    "print(\"Path Mean Times in seconds: \");\n",
    "print(pathMeanTimes);\n",
    "print(\"\\nPath Standard Deviation of Times in seconds: \");\n",
    "print(pathStdOfTimes);\n",
    "print(\"\\nPath Distances in miles:\");\n",
    "print(pathDistances);\n",
    "print(\"\\nPath Percent in each Region: \");\n",
    "print(percentOfTimeInEachRegion);\n",
    "print(\"\\nP_I(x):\");\n",
    "print(P_I);\n",
    "print(\"\\nP_p(x):\")\n",
    "print(P_p);"
   ]
  },
  {
   "cell_type": "code",
   "execution_count": 3,
   "metadata": {
    "collapsed": false
   },
   "outputs": [],
   "source": [
    "#Alternate Individual Data\n",
    "\n",
    "#pathMeanTimes = [1380, 1560, 1680, 1440, 1560];\n",
    "\n",
    "#pathStdOfTimes = [80, 95, 100, 85, 90];\n",
    "\n",
    "#percentOfTimeInEachRegion = [[0, 0, 0, 0.22, 0, 0.1, 0, 0.1, 0.26, 0, 0.22, 0.1], [0, 0, 0, 0.2, 0, 0, 0.03, 0.14, 0, 0.2, 0, 0.43], [0.12, 0.12, 0.16, 0.06, 0.04, 0.12, 0, 0, 0.17, 0, 0.13, 0.07], [0, 0, 0, 0.27, 0, 0.09, 0, 0.09, 0.25, 0, 0.21, 0.09], [0, 0, 0, 0.2, 0, 0, 0.03, 0.14, 0, 0.2, 0, 0.43]];\n",
    "#P_I = [0.2, 0.4, 0.1, 0.1, 0.2];\n",
    "\n",
    "\n",
    "\n"
   ]
  },
  {
   "cell_type": "markdown",
   "metadata": {},
   "source": [
    "# Simulation"
   ]
  },
  {
   "cell_type": "code",
   "execution_count": null,
   "metadata": {
    "collapsed": true
   },
   "outputs": [],
   "source": []
  },
  {
   "cell_type": "code",
   "execution_count": 4,
   "metadata": {
    "collapsed": false
   },
   "outputs": [],
   "source": [
    "def training(numberOfPaths,pathAndTime,trainingDays,mInit):#minit = list of initialization for m\n",
    "    m = mInit;\n",
    "    c=[];\n",
    "    tbarTotal=[];\n",
    "    tbar = [];\n",
    "    sumtijsquared = [];\n",
    "    numberOfTimesRouteTaken = [];\n",
    "    v=[];\n",
    "    a = [];\n",
    "    b = [];\n",
    "    px = [];\n",
    "    tloc = [];\n",
    "    tscale = [];\n",
    "    tdf = [];\n",
    "    for path in range(0,numberOfPaths):\n",
    "        c.append(0);\n",
    "        v.append(1);\n",
    "        a.append(0.01);\n",
    "        b.append(0.01);\n",
    "        c.append(0);\n",
    "        tbarTotal.append(0);\n",
    "        tbar.append(0);\n",
    "        sumtijsquared.append(0);\n",
    "        \n",
    "        #numberOfTimesRouteTaken.append(0);\n",
    "    for day in range(0,trainingDays):\n",
    "        path = pathAndTime[day][0];\n",
    "        c[path] = c[path]+1;\n",
    "        sumtijsquared[path] = sumtijsquared[path] + pathAndTime[day][1]**2;\n",
    "        tbarTotal[path] = tbarTotal[path] + pathAndTime[day][1];\n",
    "    for path in range(0,numberOfPaths):\n",
    "        if c[path]==0:\n",
    "            tbar[path]=0;\n",
    "        else:\n",
    "            tbar[path] = tbarTotal[path]/c[path];\n",
    "        \n",
    "\n",
    "    for path in range(0,numberOfPaths):\n",
    "        oldm = m[path];\n",
    "        oldv = v[path];\n",
    "        olda = a[path];\n",
    "        oldb = b[path];\n",
    "    \n",
    "    \n",
    "        v[path] = oldv/(1+c[path]*oldv);\n",
    "        m[path] = (oldm/oldv+c[path]*tbar[path])*v[path];\n",
    "        a[path] = olda+c[path]/2;\n",
    "        b[path] = oldb + (1/2)*(pow(oldm,2)/oldv+sumtijsquared[path]-pow(m[path],2)/v[path]);\n",
    "        tloc.append(m[path]);\n",
    "        tscale.append(numpy.sqrt(b[path]*(1+v[path])/(a[path])));\n",
    "        tdf.append(2*a[path]);\n",
    "        px.append(c[path]/trainingDays);\n",
    "        \n",
    "    return [px,tdf,tloc,tscale,trainingDays];"
   ]
  },
  {
   "cell_type": "code",
   "execution_count": 5,
   "metadata": {
    "collapsed": false
   },
   "outputs": [],
   "source": [
    "def pt(t,pind,indPathMeans,indPathStds): #calculates true probability of time t for:\n",
    "    #pind = list of individual true route selecction probabilities\n",
    "    #indPathMeans = list of individual's mean travel times on each path\n",
    "    #indPathStds = list of individual's standard deviations of travel times on each path\n",
    "    total = 0;\n",
    "    for i in range(0,len(pind)):\n",
    "        total = total + norm.pdf(t,indPathMeans[i],indPathStds[i])*pind[i];\n",
    "    return total\n",
    "\n",
    "def probtBel(time,trainedParam):#thIs is updated belief p_B(time)\n",
    "    result = 0.0;\n",
    "    for x in range(0,len(trainedParam[0])):\n",
    "        result = result + t.pdf(time, trainedParam[1][x], trainedParam[2][x], trainedParam[3][x])*trainedParam[0][x];\n",
    "    return result\n",
    "\n",
    "#print(str(probt(900)));\n",
    "\n",
    "def probxgiventBel(x,time,trainedParam):#this is updted belief p_B(x|time)\n",
    "    return t.pdf(time, trainedParam[1][x], trainedParam[2][x], trainedParam[3][x])*trainedParam[0][x]/probtBel(time,trainedParam)"
   ]
  },
  {
   "cell_type": "code",
   "execution_count": 6,
   "metadata": {
    "collapsed": false
   },
   "outputs": [],
   "source": [
    "#determining f(x,t) and average value\n",
    "\n",
    "\n",
    "\n",
    "def fexposure(path, time,concens):#path = path, time = time, concens = list of concentrations in each region\n",
    "    #requires global specification of percent of time in each reagion, percentOfTimeInEachRegion\n",
    "    #which is a list of lists.  There is one list for each path and that list is the list\n",
    "    #of percents of times that path spends in each region.  This list must be of length len(concens)\n",
    "    actualCITI = [];\n",
    "    actualTimeInEachRegion = [];    \n",
    "    for r in range(0,len(percentOfTimeInEachRegion[path])):\n",
    "        actualTimeInEachRegion.append(percentOfTimeInEachRegion[path][r]*time);\n",
    "    for regionNum in range(0,len(actualTimeInEachRegion)): #sum of atualCITI = f(x,t)\n",
    "        actualCITI.append(concens[regionNum]*actualTimeInEachRegion[regionNum]);\n",
    "    return sum(actualCITI);\n",
    "\n",
    "def avef(baseconcentrations,pind,indPathMeans,indPathStds): #average f_environ(x,t) over all routes \n",
    "    #times and environments\n",
    "    #baseconcentrations = list of base pollutant concentrations in each cell\n",
    "    #pind = list of individual true route selecction probabilities\n",
    "    #indPathMeans = list of individual's mean travel times on each path\n",
    "    #indPathStds = list of individual's standard deviations of travel times on each path\n",
    "    newvec = []\n",
    "    for i in range (0,len(P_I)):\n",
    "        pct_conc = sum(j[0] * j[1] for j in zip(percentOfTimeInEachRegion[i], baseconcentrations))\n",
    "        newvec.append(pct_conc*pind[i]*pathMeanTimes[i]);\n",
    "    return sum(newvec);\n",
    "\n",
    "\n",
    "\n",
    "def avefold(baseconcentrations,pind,indPathMeans,indPathStds): #Old, but accurate\n",
    "    #average f_environ(x,t) over all routes \n",
    "    #times and environments\n",
    "    #baseconcentrations = list of base pollutant concentrations in each cell\n",
    "    #pind = list of individual true route selecction probabilities\n",
    "    #indPathMeans = list of individual's mean travel times on each path\n",
    "    #indPathStds = list of individual's standard deviations of travel times on each path\n",
    "    total = 0;\n",
    "    #timeNormalization = integrate.quad(pt,low,high,args=(pind,indPathMeans,indPathStds))[0];\n",
    "    timeNormalization = 1;\n",
    "    for i in range(0,len(pind)):\n",
    "        def f(t):\n",
    "            #return fexposure(i,t,(baseconcentrations))*pt(t,pind,indPathMeans,indPathStds);\n",
    "            return fexposure(i,t,(baseconcentrations))*norm.pdf(t,indPathMeans[i],indPathStds[i])*pind[i];\n",
    "        total = total + integrate.quad(f,low,high,args=())[0];\n",
    "    return total/timeNormalization;\n"
   ]
  },
  {
   "cell_type": "code",
   "execution_count": 7,
   "metadata": {
    "collapsed": false
   },
   "outputs": [],
   "source": [
    "#Generating path and time list\n",
    "\n",
    "def pathAndTimeGen(days,pind,indPathMeans,indPathStds):\n",
    "    indPathAndTime = [];\n",
    "    #Pick a random path based on P_I = pind\n",
    "    for i in range(0,days):\n",
    "        randomNumber = random.uniform(0,1);\n",
    "        pathLimit=0;\n",
    "        for r in range(0,len(pind)):\n",
    "            pathLimit = pathLimit+pind[r];\n",
    "            if(randomNumber<pathLimit):\n",
    "                randomPath = r;\n",
    "                break;\n",
    "        #Find a random time that it took for that path based on normal distribution for that path\n",
    "        pathUserTime = random.normalvariate(indPathMeans[randomPath],indPathStds[randomPath]);\n",
    "        indPathAndTime.append([randomPath,pathUserTime]);\n",
    "    return indPathAndTime;\n",
    "\n",
    "def environGen(regions,base,variation,days):#makes a list of environmental conditions\n",
    "    #for days number of days\n",
    "    #regions = number of Voronoi cells\n",
    "    #base = base concentration list, a list of length = regions\n",
    "    #variation = plus/minus range of variation in the values\n",
    "    environment = [];\n",
    "    for i in range(0,days):\n",
    "        dailyConditions = [];\n",
    "        for region in range(0,regions):\n",
    "            dailyConditions.append(base[region]+random.uniform(-variation,variation));\n",
    "        environment.append(dailyConditions);\n",
    "    return [environment,base];\n",
    "\n",
    "\n",
    "#userData = pathAndTimeGen(150);\n",
    "#environment = environGen(7,[1.1,1.8,1.4,0.9,1.6,1.0,1.8],0.3,3);\n",
    "\n",
    "#print(environment);\n",
    "\n",
    "#print(environment[1]);\n"
   ]
  },
  {
   "cell_type": "code",
   "execution_count": 8,
   "metadata": {
    "collapsed": false
   },
   "outputs": [],
   "source": [
    "#########\n",
    "#EMPERICAL MSE START\n",
    "\n",
    "\n",
    "def gest(time,trainedParam, concens):#this is g(time)\n",
    "    total = 0;\n",
    "    for x in range(0,len(trainedParam[0])):\n",
    "        total = total + fexposure(x,time,concens)*probxgiventBel(x,time,trainedParam)\n",
    "    return total\n",
    "\n",
    "#print(\"g(960) = \"+str(gest(960)))\n",
    "\n",
    "\n",
    "def empAveSquareError(trainedParam,pathAndTime, environment, startDay, periodLength):#Returns\n",
    "    #empirically observed average square error\n",
    "    #trainedParam = individual's hyperparameters after most current training\n",
    "    #pathAndtime = list of [path,time] observations for the user on which we train and test\n",
    "    #environment = list of lists, each of which is daily conditions in the Voronoi cells\n",
    "    #startDay = first day on which to start testing.  Days start counting with 0 (!!!)\n",
    "    #periodLength = length (in days) of this testing perios\n",
    "    squaresum = 0;\n",
    "    dayContribution = 0;\n",
    "    for day in range(0,periodLength):\n",
    "        path = pathAndTime[startDay+day][0];\n",
    "        time = pathAndTime[startDay+day][1];\n",
    "        concens = environment[startDay+day];\n",
    "        dailyContribution = (fexposure(path,time,concens)-gest(time,trainedParam,concens))**2\n",
    "        squaresum = squaresum + dailyContribution;\n",
    "    return squaresum/periodLength;\n"
   ]
  },
  {
   "cell_type": "code",
   "execution_count": 9,
   "metadata": {
    "collapsed": false
   },
   "outputs": [],
   "source": [
    "#########\n",
    "#OLD AND SLOW THEORETICALLY MINIMAL MSE FOR CHANGING ENVIRONMENT BEGIN\n",
    "\n",
    "\n",
    "\n",
    "def integrand(t, concens,pind,indPathMeans,indPathStds):#integrand in the MSE calculation\n",
    "    #concens = list of pollutant concentrations in the cells\n",
    "    #pind = list of individual true route selecction probabilities\n",
    "    #indPathMeans = list of individual's mean travel times on each path\n",
    "    #indPathStds = list of individual's standard deviations of travel times on each path\n",
    "    term1 = 0;\n",
    "    term2sum = 0;\n",
    "    term2 = 0;\n",
    "    for i in range(0,len(pathMeanTimes)):\n",
    "        term1 = term1 + ((fexposure(i,t,concens))**2)*norm.pdf(t,indPathMeans[i],indPathStds[i])*pind[i];\n",
    "    for i in range(0,len(pathMeanTimes)):\n",
    "        term2sum = term2sum + fexposure(i,t,concens)*norm.pdf(t,indPathMeans[i],indPathStds[i])*pind[i];\n",
    "    term2 = (term2sum**2)/pt(t,pind,indPathMeans,indPathStds);\n",
    "    return term1 - term2;\n",
    "\n",
    "\n",
    "def theoreticalmse(M,baseconc,confidencepct,pind,indPathMeans,indPathStds,variation):#computes confidence interval\n",
    "    #for relative MSE with:\n",
    "    #M = number of runs (trials)\n",
    "    #baseconc = base concentration list\n",
    "    #confidencepct  = confidence level in percent\n",
    "    #pind = list of individual true route selecction probabilities\n",
    "    #indPathMeans = list of individual's mean travel times on each path\n",
    "    #indPathStds = list of individual's standard deviations of travel times on each path\n",
    "    sqrunErAve = 0.0; #running average mean squared error\n",
    "    frunAve =  0.0; # running average average value of f_epsilon(x,t)\n",
    "    sqErtotal = 0.0; # total running square error\n",
    "    relErrorList = [];\n",
    "    errorList = [];\n",
    "    averagefValue = avef(baseconc,pind,indPathMeans,indPathStds);\n",
    "    for trial in range(0,M):\n",
    "        concens = [0,0,0,0,0,0,0,0,0,0,0,0,0,0,0,0,0,0];\n",
    "        for region in range(len(baseconc)):\n",
    "            concens[region] = baseconc[region]+random.uniform(-variation,variation);#change environment\n",
    "        mse = integrate.quad(integrand,low,high,args=(concens,pind,indPathMeans,indPathStds))[0];\n",
    "        #integrate from low to high for about 6 standard deviations above and below mean times\n",
    "        errorList.append(mse);\n",
    "        relErrorList.append(mse/(averagefValue**2));\n",
    "        #print(str(trial), end=\"\");\n",
    "    #\n",
    "    std = numpy.std(relErrorList,ddof=1); #sample stdev of observed relative error\n",
    "    tcv = t.ppf((100-confidencepct)/200,df = M-1,loc = 0, scale = 1); #critical value for our confidence\n",
    "    mseest = numpy.mean(relErrorList);\n",
    "    mseSqrtest = numpy.sqrt(mseest);\n",
    "    confidence = [mseest - (-tcv*std)/numpy.sqrt(M), mseest +(-tcv*std)/numpy.sqrt(M)];\n",
    "    #\n",
    "    msePctest = mseest*100;\n",
    "    mseSqrtPctest = mseSqrtest*100;\n",
    "    msePctConfidence = [];\n",
    "    mseSqrtPctConfidence = [];\n",
    "    for i in range(0,len(confidence)):\n",
    "        msePctConfidence.append(100*confidence[i]);\n",
    "        mseSqrtPctConfidence.append(100*numpy.sqrt(confidence[i]));\n",
    "    \n",
    "    return [msePctest,msePctConfidence,mseSqrtPctest, mseSqrtPctConfidence,confidencepct];\n",
    "\n"
   ]
  },
  {
   "cell_type": "code",
   "execution_count": 10,
   "metadata": {
    "collapsed": true
   },
   "outputs": [],
   "source": [
    "#########\n",
    "#NEW AND FASTER THEORETICALLY MINIMAL MSE FOR CHANGING ENVIRONMENT BEGIN\n",
    "\n",
    "\n",
    "\n",
    "\n",
    "def environExp(wvec, environBase, environVar):#component of expectation over the environment\n",
    "    #calculates the expected value of (environment \\cdot wvec)^2 where the environment in cell i\n",
    "    #fluctuates randomly with mean environBase[i] and fluctuation uniform in plus/minus environVar[i]\n",
    "    #in the theoretical MSE calculation, wvec = pct time in each region for the first term\n",
    "    #and a sum of percent time time probabilities in the second term\n",
    "    term1=0;\n",
    "    term2=0;\n",
    "    for region in range(0,len(wvec)):\n",
    "        term1 = term1 + ((wvec[region]**2)*((environBase[region])**2 + (1/3)*(environVar[region]**2)));\n",
    "    for region1 in range(0,len(wvec)):\n",
    "        for region2 in range(region1+1, len(wvec)):\n",
    "            term2 = term2+ 2*wvec[region1]*wvec[region2]*environBase[region1]*environBase[region2];\n",
    "    return term1 + term2;\n",
    "\n",
    "def wVector(t,pcts,muX,sigmaX,pX):#this is the vector dotted with the environment in the second term\n",
    "    #pcts = list of lists.\n",
    "    #pcts[i] = list of percent of time in each region for path i\n",
    "    #muX = person's true mean travel time for each path\n",
    "    #sigmaX = person's true time standard deviation for each path\n",
    "    #pX = person's true path probabilities\n",
    "    returnVector = [];\n",
    "    for region in range (0,len(pcts[0])):\n",
    "        returnVector.append(0);\n",
    "    ptGx = 0;#true p(t|x)\n",
    "    for i in range (0,len(pX)):\n",
    "        ptGx = norm.pdf(t,muX[i],sigmaX[i]);\n",
    "        #print(ptGx);\n",
    "        for region in range (0,len(pcts[0])):\n",
    "            returnVector[region] = returnVector[region]+(ptGx*pX[i]*pcts[i][region]);\n",
    "    return returnVector;\n",
    "\n",
    "def theMseTerm1(pX, muX, sigmaX, pcTime, environBase, environVar): #term 1 of the MSE calculation\n",
    "    total = 0;\n",
    "    for x in range(0,len(pX)):\n",
    "        total = total + pX[x]*(muX[x]**2 + sigmaX[x]**2)*environExp(pcTime[x],environBase,environVar);\n",
    "    return total;\n",
    "\n",
    "def theMseTerm2integrand(t,pcts,muX,sigmaX,pX,environBase,environVar): #integrnd for term 2\n",
    "    wVec = wVector(t,pcts,muX,sigmaX,pX);\n",
    "    return(((t**2)/pt(t,pX,muX,sigmaX))*environExp(wVec,environBase,environVar));\n",
    "\n",
    "def theoreticalmsenew(pctime,pX,muX,sigmaX,environBase,environVar): #MSE calculation\n",
    "    part1 = theMseTerm1(pX,muX,sigmaX,pctime,environBase,environVar)\n",
    "    part2 = integrate.quad(theMseTerm2integrand,low,high,args=(pctime,muX,sigmaX,pX,environBase,environVar))[0];\n",
    "    return 100*numpy.sqrt(part1-part2)/avef(environBase,pX,muX,sigmaX);\n"
   ]
  },
  {
   "cell_type": "code",
   "execution_count": 11,
   "metadata": {
    "collapsed": false
   },
   "outputs": [],
   "source": [
    "#Train-test regime for one person\n",
    "\n",
    "def regime(pathAndTime,environment,indData,variation):#Train-test regime\n",
    "    #pathAndTime = list of individual's (path,time) data\n",
    "    #environment = [list of lists environmental conditions, base conditions]\n",
    "        #that is, first entry in environment is a list of lists, each of which is a list of cell \n",
    "        #conditions and the second entry is the list of base cell conditions\n",
    "    #indData = true probabilities and hyperparameter m initialization\n",
    "        # [pind, indPathMeans, indPathStds, mInit] with\n",
    "        #pind = list of individual true route selecction probabilities\n",
    "        #indPathMeans = list of individual's mean travel times on each path\n",
    "        #indPathStds = list of individual's standard deviations of travel times on each path\n",
    "        #mInit = initialization of hyperparameter m\n",
    "    #mseRuns = number of runs with which to estimate theoretical MSE (does not use pathAndTime)\n",
    "    #variation = amount of variation on base conditions with respect to which to estimate theory MSE\n",
    "    empMSEList = [];\n",
    "    varvector = [];\n",
    "    for region in range(0,len(environment[1])):\n",
    "        varvector.append(variation);\n",
    "    #varvector = [1,1,1,1,1,1,1,1,1,1,1,1,1,1,1,1,1,1];\n",
    "    #TrainDuration = [7,14,22,32];#training duration in each cycle\n",
    "    #TestDays = [7,8,10,12]#number of test days in each cycye\n",
    "    #TrainDuration = [7,14,22,32,44,69];#training duration in each cycle\n",
    "    #TestDays = [7,8,10,12,15,18]#number of test days in each cycye\n",
    "    #TrainDuration = [20,30,45,65,90,120];#training duration in each cycle\n",
    "    #TestDays = [10,15,20,25,30,35]#number of test days in each cycye\n",
    "    #TrainDuration = [250,500,750];\n",
    "    #TestDays = [250,250,250];\n",
    "    TrainDuration = [5,10,20,30,40];\n",
    "    TestDays = [250,250,250,250,250];\n",
    "    numberOfPaths = len(indData[0]);\n",
    "    averagef  = avef(environment[1],indData[0],indData[1],indData[2]);\n",
    "    newtheoryMse = theoreticalmsenew(percentOfTimeInEachRegion,indData[0],indData[1], indData[2], environment[1],varvector);\n",
    "    for cycle in range(0,len(TrainDuration)):\n",
    "        cycleAveSqErr = 0;\n",
    "        trainedParam = [];\n",
    "        #startDay = TrainDuration[cycle];\n",
    "        startDay = (cycle+1)*250;\n",
    "        periodLength = TestDays[cycle];\n",
    "        trainedParam = training(numberOfPaths,pathAndTime,TrainDuration[cycle],indData[3]);\n",
    "        cycleAveSqErr = empAveSquareError(trainedParam,pathAndTime,environment[0],startDay,periodLength);\n",
    "        #print(\"\\n\"+\"cycle sqrt of mse = \"+str(numpy.sqrt(cycleAveSqErr)));\n",
    "        empMSEList.append(100*numpy.sqrt(cycleAveSqErr)/(averagef));\n",
    "        #empMSEList.append(round(numpy.sqrt(2),2));\n",
    "    #print(\"\\n\");\n",
    "    #print(\"Theory MSE pct = \"+str(theoryMse));\n",
    "    #print(\"Average f value =\"+str(averagef));\n",
    "    return [empMSEList,newtheoryMse];\n",
    "\n",
    "\n",
    "        \n",
    "    \n",
    "    \n",
    "    \n"
   ]
  },
  {
   "cell_type": "code",
   "execution_count": 12,
   "metadata": {
    "collapsed": false
   },
   "outputs": [],
   "source": [
    "#regimeVariation = 0.9;\n",
    "#regimeBase = [1.1, 1.3, 0.9, 1.0, 1.2, 1.3, 0.9];\n",
    "#regimeVariation = 0.4;\n",
    "#regimeBase = [1.1,1.8,1.4,0.9,1.6,1.0,1.8];\n",
    "#environment = environGen(7,regimeBase,regimeVariation,100);\n",
    "#userTrueData = [P_I,pathMeanTimes,pathStdOfTimes,[0,0,0,0,0]];\n",
    "#userPathData = [[1,554,],[2,311,],[1,760,],[2,409,],[2,478,],[1,679,],[2,378,],[2,329,],[1,723,],[2,523,],[3,420,],[2,482,],[2,423,],[1,708,],[4,773,],[2,396,],[1,617,],[2,361,],[2,367,],[2,369,],[2,433,],[2,366,],[2,382,],[1,691,],[1,728,],[2,373,],[2,522,],[2,369,],[1,744,],[2,434,],[2,378,],[2,368,],[2,358,],[1,663,],[2,372,],[2,369,],[2,362,],[2,350,],[1,669,],[1,700,],[2,383,],[2,367,],[2,381,],[2,383,],[2,368,],[1,725,],[1,626,],[1,764,]]\n",
    "#\n",
    "#\n",
    "#TestMSE = regime(userPathData,environment,userTrueData,20,regimeVariation);\n",
    "\n",
    "##print(str(TestMSE));\n",
    "\n",
    "#for i in range(0,len(TestMSE[0])):\n",
    "#    print(str(TestMSE[0][i])+\"  \", end=\"\");\n",
    "#    #if i == len(MSElist)-1:\n",
    "##    print(\" \")\n",
    "#print(\"\\n\"+str(TestMSE[1]));"
   ]
  },
  {
   "cell_type": "code",
   "execution_count": 13,
   "metadata": {
    "collapsed": false,
    "scrolled": true
   },
   "outputs": [],
   "source": [
    "\n",
    "def multipleRegime(noPeople,peopleBase,peopleVar,regimeBaseEnv,regimeVar,dataDays):#\n",
    "    #noPeople = number of people doing the regime\n",
    "    #dataDays = number of days for which we have/want data\n",
    "    empMSElist = [];\n",
    "    newtheoryMSElist = [];\n",
    "    personlist = [];\n",
    "    noRegions = len(regimeBaseEnv);# number of regions in Voronoi diagram\n",
    "    environment = environGen(noRegions,regimeBaseEnv,regimeVar,dataDays);#here for all people\n",
    "     #having the same environment\n",
    "    for people in range(0,noPeople):\n",
    "    #print(\"\\n\");\n",
    "        indPathMeans = [];\n",
    "        indPathStds = [];\n",
    "        pind = [];\n",
    "        pindTemp = [];\n",
    "        denominator = 0;\n",
    "        for path in range(0,len(peopleBase[0])):\n",
    "            pindTemp.append(peopleBase[0][path]+random.uniform(0,peopleVar[0]))\n",
    "            indPathMeans.append(peopleBase[1][path]+random.uniform(-peopleVar[1],peopleVar[1]));\n",
    "            indPathStds.append(peopleBase[2][path]+random.uniform(-peopleVar[2],peopleVar[2]));\n",
    "        for path in range(0,len(peopleBase[0])):\n",
    "            denominator = sum(pindTemp);\n",
    "            pind.append(pindTemp[path]/denominator);\n",
    "        #print(str(pind));\n",
    "        userPathData = pathAndTimeGen(dataDays,pind,indPathMeans,indPathStds);\n",
    "        #environment = environGen(7,regimeBaseEnv,regimeVar,dataDays);#here for each person\n",
    "        #having a different environment\n",
    "        personTrueData = [pind,indPathMeans,indPathStds,peopleBase[3]];\n",
    "        personMSE = regime(userPathData,environment,personTrueData,regimeVar);\n",
    "        empMSElist.append(personMSE[0]);\n",
    "        newtheoryMSElist.append(personMSE[1]);\n",
    "        #theoryMSEConflist.append(personMSE[2]);\n",
    "        #newtheoryMSElist.append(personMSE[3]);\n",
    "        personlist.append(personTrueData);\n",
    "        \n",
    "    return [empMSElist,newtheoryMSElist,personlist];\n",
    "\n",
    "    \n",
    "            "
   ]
  },
  {
   "cell_type": "code",
   "execution_count": null,
   "metadata": {
    "collapsed": false
   },
   "outputs": [],
   "source": []
  },
  {
   "cell_type": "code",
   "execution_count": 14,
   "metadata": {
    "collapsed": false
   },
   "outputs": [],
   "source": [
    "peopleBase = [P_I, pathMeanTimes, pathStdOfTimes,[0,0,0,0,0]];\n",
    "peopleVar = [0.5,400,40];\n",
    "regimeVariation1 = 1;\n",
    "regimeBase1 = [4,3,2,5,5,2,6];\n",
    "#environment = environGen(7,regimeBase1,regimeVariation1,100);\n",
    "#userTrueData = [P_I,pathMeanTimes,pathStdOfTimes,[0,0,0,0,0]];\n",
    "\n",
    "\n",
    "regimeCycle1 = multipleRegime(100, peopleBase, peopleVar, regimeBase1,regimeVariation1,6000)\n",
    "\n",
    "#for k in range(0,5):\n",
    "#    print(regimeCycle1[0][k]);\n",
    "#    print(regimeCycle1[1][k]);\n",
    "#    print(\" \");\n"
   ]
  },
  {
   "cell_type": "code",
   "execution_count": 15,
   "metadata": {
    "collapsed": false
   },
   "outputs": [],
   "source": [
    "peopleBase = [P_I, pathMeanTimes, pathStdOfTimes,[0,0,0,0,0]];\n",
    "peopleVar = [0.5,400,40];\n",
    "regimeVariation2 = 0.75;\n",
    "regimeBase2 = [3,2,3,4,3,4,4];\n",
    "#environment = environGen(7,regimeBase,regimeVariation,100);\n",
    "#userTrueData = [P_I,pathMeanTimes,pathStdOfTimes,[0,0,0,0,0]];\n",
    "\n",
    "\n",
    "regimeCycle2 = multipleRegime(100, peopleBase, peopleVar, regimeBase2,regimeVariation2,6000)\n"
   ]
  },
  {
   "cell_type": "code",
   "execution_count": 16,
   "metadata": {
    "collapsed": false
   },
   "outputs": [],
   "source": [
    "peopleBase = [P_I, pathMeanTimes, pathStdOfTimes,[0,0,0,0,0]];\n",
    "peopleVar = [0.5,400,40];\n",
    "regimeVariation3 = 0.5;\n",
    "regimeBase3 = [2,2,3,2,3,2,3];\n",
    "#environment = environGen(7,regimeBase,regimeVariation,100);\n",
    "#userTrueData = [P_I,pathMeanTimes,pathStdOfTimes,[0,0,0,0,0]];\n",
    "\n",
    "\n",
    "regimeCycle3 = multipleRegime(100, peopleBase, peopleVar, regimeBase3,regimeVariation3,6000)\n"
   ]
  },
  {
   "cell_type": "code",
   "execution_count": 17,
   "metadata": {
    "collapsed": false,
    "scrolled": false
   },
   "outputs": [],
   "source": [
    "def sumarize(regimeResults):\n",
    "    rounds = [];\n",
    "    averages = [numpy.mean(regimeResults[1])];\n",
    "    highvec = [numpy.max(regimeResults[1])];\n",
    "    lowvec = [numpy.min(regimeResults[1])];\n",
    "    for i in range(0,len(regimeResults[0][0])):\n",
    "        rounds.append([]);\n",
    "    for person in range(0,len(regimeResults[1])):\n",
    "        for i in range(0,len(rounds)):\n",
    "            rounds[i].append(regimeResults[0][person][i]);\n",
    "    for i in range(0,len(rounds)):\n",
    "        averages.append(numpy.mean(rounds[i]));\n",
    "        lowvec.append(numpy.min(rounds[i]));\n",
    "        highvec.append(numpy.max(rounds[i]));\n",
    "    return [averages, lowvec, highvec];\n",
    "\n",
    "\n"
   ]
  },
  {
   "cell_type": "code",
   "execution_count": 18,
   "metadata": {
    "collapsed": false
   },
   "outputs": [
    {
     "name": "stdout",
     "output_type": "stream",
     "text": [
      "\n",
      "\n",
      "\n",
      "[12.139197307231774, 19.062939870649984, 16.397073445796014, 14.706203038716556, 13.788821919977202, 13.335501446919574]\n",
      "[0.93087518307061223, 3.4494691206728678, 6.2969385460893506, 1.5357692088845887, 1.4422983233177515, 1.0219119413058408]\n",
      "[21.688726834946362, 32.131878753315533, 24.641489090670007, 27.555432945973951, 23.666957695788629, 23.856479985758082]\n"
     ]
    }
   ],
   "source": [
    "summary = sumarize(regimeCycle1);\n",
    "\n",
    "print(\"\\n\\n\");\n",
    "print(summary[0]);\n",
    "print(summary[1]);\n",
    "print(summary[2]);"
   ]
  },
  {
   "cell_type": "code",
   "execution_count": 19,
   "metadata": {
    "collapsed": false
   },
   "outputs": [
    {
     "name": "stdout",
     "output_type": "stream",
     "text": [
      "\n",
      "\n",
      "\n",
      "[4.407280671964803, 7.2225355782963137, 6.5246269000196131, 5.5302089645491925, 4.744558854557968, 4.756539309768768]\n",
      "[1.610968222664056, 3.8092510617326991, 2.8895475629991259, 2.1606585723363989, 1.7491040618591926, 1.2847958450176908]\n",
      "[7.9168361716454099, 12.13007068440343, 11.28028404874015, 10.742188681606166, 8.8541689613193704, 8.2811607239420191]\n"
     ]
    }
   ],
   "source": [
    "summary = sumarize(regimeCycle2);\n",
    "\n",
    "print(\"\\n\\n\");\n",
    "print(summary[0]);\n",
    "print(summary[1]);\n",
    "print(summary[2]);"
   ]
  },
  {
   "cell_type": "code",
   "execution_count": 20,
   "metadata": {
    "collapsed": false
   },
   "outputs": [
    {
     "name": "stdout",
     "output_type": "stream",
     "text": [
      "\n",
      "\n",
      "\n",
      "[3.1313623150815322, 5.5742642430334923, 4.5060179396834306, 3.8398854784681036, 3.521429419574162, 3.32065076095025]\n",
      "[1.3188606079394338, 3.1777810347722268, 1.7386959665942197, 1.3963598037384406, 1.4556946094681165, 1.1364189619900615]\n",
      "[5.1292357378040005, 9.2687554111076835, 7.9529615138629524, 6.4394792288195495, 6.2821381965822374, 5.8811911996326502]\n"
     ]
    }
   ],
   "source": [
    "summary = sumarize(regimeCycle3);\n",
    "\n",
    "print(\"\\n\\n\");\n",
    "print(summary[0]);\n",
    "print(summary[1]);\n",
    "print(summary[2]);"
   ]
  },
  {
   "cell_type": "code",
   "execution_count": 21,
   "metadata": {
    "collapsed": false
   },
   "outputs": [
    {
     "name": "stdout",
     "output_type": "stream",
     "text": [
      "[[[21.445549584980828, 17.206097474431907, 18.122979411077402, 10.980225520961008, 8.0331172623358427], [19.427053595620873, 17.335760043477517, 13.681839146257728, 16.730443763943711, 17.601545279404757], [16.376356569615112, 17.186012453063018, 17.189610323085041, 17.014492728029595, 17.094441684045691], [13.298334686314272, 12.833563034470663, 12.62131544565943, 12.207517817691675, 12.342708135899827], [14.836415558897235, 12.050312828050172, 11.555724874517947, 9.9995951353588595, 10.316230313671701], [19.56987338677088, 20.204322152410651, 19.154652420159888, 19.843664376611351, 23.856479985758082], [20.617021018278606, 14.455223690111588, 12.141770962619733, 11.67287818220303, 11.858269522113217], [21.203263277272736, 13.990464574038382, 17.312805555702926, 14.256876236095184, 13.65670091168812], [19.65747039464782, 20.387907260840301, 18.476873691766272, 14.470872818043411, 15.339475583746198], [24.553129161146462, 20.728586343001819, 18.843485515140177, 19.381219809510572, 18.308919755809018], [12.662625832981854, 9.8952395873974215, 7.4050253152615797, 10.116034094458794, 7.310065120650747], [31.36852188143234, 18.7985738824419, 16.723617752257947, 14.506991807881887, 17.626029461672001], [20.353656307550267, 17.095383290977431, 11.656706100669766, 11.803563460228968, 11.138912303251745], [23.55004814262935, 20.859798394214394, 19.287102402935371, 17.533414659655872, 18.004011524829], [13.099558086136421, 9.9168782858173987, 5.9942959489231376, 8.0287368434511155, 7.1437013971941852], [17.800167450054271, 17.585502556686119, 17.052072501033749, 19.116461046309379, 17.954229919101227], [15.155288598751925, 20.77128526460951, 16.68036984073159, 16.283840414864958, 16.129724022409732], [8.7161298146866919, 10.562945377760455, 13.086630784845628, 6.8115957165374832, 7.1334088611256794], [18.413685941696521, 16.475720089194077, 18.858461074932325, 17.11946301773359, 14.973396666129213], [12.091402505140085, 13.539707605872531, 9.3270056993324264, 9.2417573719637414, 11.589961390515796], [20.946954470989631, 16.673707963629983, 12.136392238576638, 11.235842876835948, 14.053986663861224], [14.678144126629466, 10.86856196423197, 10.371072940003932, 10.874843362727697, 10.374606930346502], [16.02094350744968, 18.534181768535294, 18.223918851967689, 17.03365978813088, 16.043788514372409], [22.328002972758988, 16.504364385418949, 19.378187582095276, 19.045325392522727, 16.396400592024921], [14.13366615750607, 16.502376641834545, 11.804087532261383, 11.324718255139569, 12.133675629731142], [26.183744680122711, 20.554313963898394, 22.059766944308333, 16.81579824150003, 18.46454102704617], [24.032126023228738, 17.658578748723109, 17.620827236590276, 18.254842089666411, 12.678416837459412], [15.930994531376744, 9.8005336065750424, 7.3008821654655307, 5.6407420365992715, 4.354221147399314], [16.62823651836182, 14.936749131630622, 10.946239694327465, 9.0693909691722681, 12.834615034682008], [17.36250868941022, 12.25774111548588, 10.866730262284044, 12.831329072587588, 10.652218609901071], [18.730453230762766, 14.936375203231394, 15.93149460739208, 16.298844960600196, 15.421198491834295], [24.875253191633497, 23.552546635158109, 25.750143441509387, 22.903590066825963, 21.6094858809772], [19.065034822299651, 17.104893043860297, 15.521423888514303, 13.337719872105961, 12.527134615951994], [20.815320277996303, 21.644243167608799, 18.974842188630092, 17.204122952302381, 16.420428621497152], [18.334150186416387, 11.621976209696639, 14.880215396327594, 12.160110529205129, 10.680600896620218], [18.50491455157788, 20.928719534048398, 18.448798371617361, 17.352329451134363, 17.946133504901237], [26.273893948276047, 21.846992871726123, 17.000403478572441, 13.389498279848437, 8.7834053848584457], [18.398905152085405, 19.176412804708487, 16.85784216304684, 16.650537948333515, 18.945057681071052], [11.479783545314723, 12.404878822535458, 12.32977400294185, 11.208800993167824, 11.730694449511015], [7.9325321773360633, 6.5973418586781714, 4.8112959302546185, 3.8614172234430146, 3.5714435481492415], [18.066422011879407, 13.423600584348426, 8.841908152795984, 9.3619078785597356, 7.9597479623697804], [20.603521022442557, 16.268805636210473, 15.065343303247674, 13.739680108096046, 16.084010970893473], [17.674153705171438, 11.137199278067913, 7.7213938802163034, 6.77218630017751, 6.1718399628990648], [22.993440857032923, 23.10785849786879, 20.662084684646857, 15.240824189503206, 15.277144804509792], [17.525042038072399, 14.436507149325239, 11.606207546160697, 11.71546355424263, 10.752945821328588], [21.327707760829632, 19.683283390985221, 19.741719111253055, 16.429177846348203, 18.437531247073743], [19.122589799537327, 20.12169215235949, 18.404768202044146, 15.219282873991284, 15.124756437509756], [9.1142338650177859, 8.3879533977963181, 9.7398287327014792, 8.177236171998608, 7.5313679008307339], [14.094137436673531, 12.720991858427075, 7.4163979051391893, 5.9640885750646877, 5.8470372177231633], [17.011805576878167, 18.356108012792532, 19.988899522322757, 16.72761791798413, 17.718980499285642], [23.517596973841052, 17.100065150857997, 16.7953892886019, 16.995619669226524, 16.096182808192506], [17.187504684006694, 14.169591928250844, 10.990516231681157, 8.5017571457590702, 7.1173899185421012], [10.729333580494302, 6.2969385460893506, 3.8175958353914297, 4.9879921539926579, 6.1911095267255147], [18.77139896560886, 16.825466973419587, 16.023865398117042, 14.89595650121495, 15.221012346231587], [14.317791191232246, 13.660969074334472, 9.3956865604003834, 11.185605456930631, 9.6561302859847267], [22.535819043288825, 16.628398299861399, 13.732147861572566, 13.185289557345953, 13.562359285865723], [17.311508304486363, 18.227396301203505, 18.035290139783466, 18.03684039848962, 16.342685467576487], [16.043687137919587, 15.194074911997086, 15.726270996100551, 14.936043018750711, 14.571452539673377], [22.859087293476318, 13.052971769378718, 14.382249056669773, 12.350752192445608, 11.618385436188706], [27.700845770684047, 17.524168552934224, 10.596857226875244, 13.386595660416063, 11.439662117610235], [24.322210584629993, 18.97494758475824, 6.7025413151116213, 12.269870704065864, 9.0959922480436823], [26.560325907311647, 14.448538252181606, 13.911810992138065, 15.986935202805821, 14.275119393709124], [17.373462942819881, 13.055306033624792, 13.244925307277638, 13.1753923853869, 12.576549179210245], [17.566652251920569, 16.633366921192462, 19.41079651077062, 15.079229681950398, 14.590975543100249], [17.521841975715688, 16.780485844590252, 20.928404047515311, 16.50861216335333, 15.204994135460764], [19.498449964249755, 19.724797227539817, 16.906461518300638, 14.631104847641581, 14.658753895693668], [32.131878753315533, 24.641489090670007, 22.233457594527813, 23.079340675405074, 22.682398184941874], [21.262640424950895, 20.926641230347617, 18.323632371843669, 16.177074541242522, 17.409471322353088], [30.920600456072151, 21.085041520609135, 18.588785654884866, 17.117593802736813, 15.338691949537393], [20.708093652473124, 20.571747772459052, 21.334718871128924, 18.629454337713081, 20.985062734775422], [20.346711891180195, 18.568324586543248, 16.847221976226805, 13.610276470887804, 11.615020714108839], [22.7314643784613, 22.187195918695398, 18.486955949436911, 19.278160050490044, 18.741875642131873], [30.069330620153373, 18.955766129387026, 10.896290330626362, 10.886207318049566, 11.027082153445679], [16.467639463699648, 9.9913648751843578, 7.5202088567826442, 7.5501962066388124, 6.5087385047471233], [15.922995057974187, 14.463956657433439, 14.477210576104179, 11.785451471399051, 11.217696189531882], [3.4494691206728678, 6.3051035092717713, 1.5357692088845887, 1.4422983233177515, 1.0219119413058408], [14.421212475444589, 17.484754610948858, 18.135222534340183, 17.14063561610752, 12.338499279449804], [22.052537130201429, 21.834924870685374, 27.555432945973951, 23.666957695788629, 21.147196737254443], [17.037524680555325, 16.162859754665917, 14.256447488661028, 12.489099724726742, 11.748481293965344], [21.920976472535632, 17.298988039699228, 14.343457333706811, 15.451112638836591, 15.25909955528418], [19.540278401466946, 15.690129227059147, 13.713016180662647, 16.209220753372886, 16.238625085540043], [20.703438161401493, 14.564840769548557, 11.390711442292712, 11.836317393644393, 11.763313945119597], [18.913157929609383, 17.063917030810209, 14.187242414334948, 14.392402141279705, 13.724563525537576], [24.341135257833717, 16.845067620381947, 13.722177312207927, 12.510964639537914, 12.578589826321974], [23.548144117029459, 20.372570977215755, 22.304000624978947, 21.802099336841898, 20.919953737615963], [14.901451205135473, 14.602078569023718, 8.8427208884241111, 7.8715646308067519, 5.9547323470779148], [22.185415313002387, 21.796832883685461, 12.374108682112853, 10.488142778780892, 10.341453808379896], [23.107986434734059, 12.846212160686438, 9.6323198095728539, 9.3656274959316832, 8.6469791334056474], [17.068974291594078, 19.487889357763709, 14.346189650656418, 15.307429538475507, 13.290185908489516], [10.09625465382868, 8.4487276909024249, 9.846712723172276, 8.8234497085361348, 8.5040478249812761], [22.836127613439775, 23.486346690609437, 19.304122581982568, 16.858906673163332, 16.963585949292145], [14.836500249784141, 15.66795177009933, 18.220681672547482, 16.685002838410398, 14.63784910874692], [19.645777085021834, 16.152179963578217, 15.354131313934383, 18.183072664074746, 15.364189414820215], [19.81427023501006, 21.566444773206083, 20.682070823877744, 19.293457931932959, 20.623589240458717], [20.860977406124231, 15.185479765855792, 14.277495069353007, 13.558185364473701, 12.494399716204628], [19.672620710010584, 18.993358141667954, 16.715222988035379, 16.076931587650467, 13.26294229759953], [21.533658733810952, 12.750995652456904, 12.496154259076366, 14.643091805983525, 14.024732089371808], [21.177362066981551, 19.475302760537765, 14.568777284317163, 13.270576528405792, 15.18833826311482], [16.16024162314169, 14.320625388248569, 16.036677786951586, 13.975880477667021, 13.631169991932151], [17.70545579698986, 17.985977859185247, 11.894915659602612, 10.351837496285359, 12.198177159333842]], [7.5592763624268224, 14.515782442798034, 16.196603994183771, 11.396895217003069, 9.5501215076551791, 14.258159253205951, 11.61787709480932, 12.075017508542359, 13.123107593997295, 17.451129341876339, 7.7708413400809082, 14.665631635801967, 11.108587801739571, 17.016347738772513, 6.5204339185446312, 15.035964966276506, 12.82466945132122, 6.8043557003192285, 15.107358660145133, 7.8576490839953514, 11.806253622152296, 8.6265623437410888, 14.997537563154532, 13.505253445704184, 10.024935202642718, 14.481631924700054, 10.633166165260029, 5.0440647033226833, 10.351649535568372, 11.410870244997612, 12.895425135871992, 21.633073754638097, 11.30490486806894, 16.40516067983463, 8.449313516464958, 15.976181046184355, 9.9533897411727335, 16.424405588889826, 11.229159291860357, 3.0528640557490565, 7.059734944021427, 12.279004187002672, 4.818230112125983, 14.736594204663398, 12.043344276632361, 17.850751751595965, 14.850244816085471, 7.4167052461630698, 5.8564903201118792, 15.604703141222753, 15.714594477589538, 6.8199636397049961, 3.4910995413059633, 14.567541251955337, 9.3475220982166736, 11.487001341529917, 15.477468488243657, 13.468670973611948, 11.541849306475667, 11.445975771148134, 6.9608395635110991, 12.37697193256899, 12.250863534287035, 13.632024383114464, 14.308932461403849, 14.397187163132214, 21.688726834946362, 14.952253228607741, 15.26621805508594, 16.846982266767832, 10.283738229566525, 15.637916920190021, 8.8795429351249666, 5.5813255676342832, 11.301944893461505, 0.93087518307061223, 10.418216636672087, 21.172946184284342, 12.264835900112308, 13.954110564374547, 13.592163471064472, 11.273509473760456, 13.004686504450392, 12.569598432308036, 19.752706673353519, 6.6954987422878123, 10.005274163477614, 8.2498617455561334, 12.119285232673757, 7.9755624124801194, 16.539744566083503, 13.750354386692683, 15.052342321181047, 17.892201305035446, 11.519739703094778, 13.844200249566898, 12.791067118356196, 13.432599873333421, 13.273734198707434, 10.940044778916201], [[[0.08834585183187918, 0.2777566281585997, 0.30625427635486746, 0.202347927928219, 0.1252953157264346], [940.5990383972864, 580.0566756753826, 716.1473917275919, 1054.2757007511261, 1448.5877003248331], [21.422691690733863, 66.84918304836457, 97.98041763758178, 66.98785450211889, 82.87249907823816], [1141.3738684245773, 775.3115109555542, 912.4365487441322, 1449.1341728059379, 840.9729589750114]], [[0.29178601340628363, 0.18689924445766912, 0.2711837246224168, 0.12394068177022974, 0.1261903357434007], [855.1602828786333, 582.1286875895605, 1373.7476949323845, 1280.6121462597316, 1325.9881701176673], [76.38097044497844, 35.591764513272885, 92.02907486363102, 78.61450500226923, 30.077252344184153], [1141.3738684245773, 775.3115109555542, 912.4365487441322, 1449.1341728059379, 840.9729589750114]], [[0.12805288004571733, 0.26955788065113734, 0.2728861165171786, 0.21137404440804677, 0.11812907837792007], [821.213874324096, 915.8903111674126, 981.908645027225, 1035.9624809253212, 940.2470789850577], [90.5860301682478, 82.42233640057825, 30.870593205825408, 98.65094057571673, 41.56278284717346], [1141.3738684245773, 775.3115109555542, 912.4365487441322, 1449.1341728059379, 840.9729589750114]], [[0.101443415158638, 0.2645957210484382, 0.24241581845902238, 0.11424048606542579, 0.2773045592684756], [608.308361858139, 677.4252691582362, 653.9132101878988, 1181.5957183915843, 1044.3643618438637], [61.57504324272835, 83.09179217480481, 85.26296164897032, 114.5435832256834, 39.49469227069013], [1141.3738684245773, 775.3115109555542, 912.4365487441322, 1449.1341728059379, 840.9729589750114]], [[0.18586615114650443, 0.2317861049907421, 0.29996993707235414, 0.22656277685449264, 0.055815029935906806], [719.252589871244, 650.5522196505178, 756.9776674710159, 924.392767133247, 1254.9347616702203], [73.25640515778174, 54.34668105344826, 84.3207445318319, 53.7321483827954, 49.369021177941875], [1141.3738684245773, 775.3115109555542, 912.4365487441322, 1449.1341728059379, 840.9729589750114]], [[0.12956536200282806, 0.2645565459598717, 0.26050181963249586, 0.16544381420485935, 0.17993245819994497], [1156.825149429229, 574.2188342310407, 1337.6939880118566, 753.9243676846709, 1447.5509572831975], [94.26620074107804, 34.994794411876356, 92.2718288099768, 90.699569290786, 41.91789314030528], [1141.3738684245773, 775.3115109555542, 912.4365487441322, 1449.1341728059379, 840.9729589750114]], [[0.17295645731288323, 0.33807848919175554, 0.18792525872247873, 0.16499335227906176, 0.1360464424938208], [946.4075882267992, 866.3484076917109, 1252.5831946414578, 1267.0475644096286, 867.3277238764554], [51.73187023849421, 79.88304354615266, 47.525825367830734, 75.93431868309509, 78.60002509284917], [1141.3738684245773, 775.3115109555542, 912.4365487441322, 1449.1341728059379, 840.9729589750114]], [[0.13549644581493323, 0.22487437459152668, 0.24758421973530614, 0.22284453753905972, 0.16920042231917407], [605.5928946259535, 895.7251194553364, 1113.2627974728025, 944.8307184130258, 656.6281248336887], [92.5506599790348, 81.20335130768522, 69.35473075306109, 48.550363075183824, 47.419316524014775], [1141.3738684245773, 775.3115109555542, 912.4365487441322, 1449.1341728059379, 840.9729589750114]], [[0.14219267628249974, 0.32395515953512405, 0.23939858334348732, 0.06722530183271973, 0.22722827900616924], [798.6493589474759, 732.8423007294053, 952.977819667337, 1377.2725058931906, 1139.80425878123], [86.9218386139569, 45.34059746147563, 84.7515304406909, 89.96800450196078, 97.21468549037382], [1141.3738684245773, 775.3115109555542, 912.4365487441322, 1449.1341728059379, 840.9729589750114]], [[0.3102242255622023, 0.24516361516495938, 0.17159979543723788, 0.09456015660658192, 0.1784522072290185], [1046.7337360324116, 932.4507929855606, 1333.4657057654972, 786.0854568196394, 1162.0302111705478], [75.13644942928336, 62.77594369423478, 97.3689095097248, 52.322651343490215, 65.30371789100656], [1141.3738684245773, 775.3115109555542, 912.4365487441322, 1449.1341728059379, 840.9729589750114]], [[0.11914587759501186, 0.16615095446921627, 0.2879308545512301, 0.26576625926867786, 0.16100605411586386], [1111.5631328636086, 943.8779698043688, 1279.5254223514576, 1241.0553929652183, 665.8112546703333], [94.34110603636329, 53.80348555540459, 94.61148819476206, 105.57495611679057, 41.43470803067685], [1141.3738684245773, 775.3115109555542, 912.4365487441322, 1449.1341728059379, 840.9729589750114]], [[0.16550774910023142, 0.2921873513802152, 0.29439330683141984, 0.090735019715219, 0.15717657297291446], [1181.968755154877, 1242.254698331624, 1065.917973074827, 1158.6697799989006, 770.2212300165285], [46.9420398259361, 64.97882316354136, 31.926808238306975, 60.37487365011476, 98.15269928429613], [1141.3738684245773, 775.3115109555542, 912.4365487441322, 1449.1341728059379, 840.9729589750114]], [[0.3118181129069466, 0.33815652411440156, 0.16960410841253432, 0.12230631977475453, 0.058114934791363], [1164.4374531268998, 1014.5891997119262, 650.6137663419481, 925.0219103290872, 926.9352457553513], [61.848707458364196, 38.3220070742432, 87.85196487783645, 48.07626653246547, 87.54479645193935], [1141.3738684245773, 775.3115109555542, 912.4365487441322, 1449.1341728059379, 840.9729589750114]], [[0.24419350135872636, 0.19440308208729837, 0.2453161167092667, 0.19990290076705883, 0.11618439907764982], [1117.1780304819345, 1098.590615104801, 1133.4026901580144, 745.7629877263109, 656.6241946107198], [22.94298280776195, 76.43437958933914, 101.97380530523102, 107.46027973490258, 29.208809460203895], [1141.3738684245773, 775.3115109555542, 912.4365487441322, 1449.1341728059379, 840.9729589750114]], [[0.23800714515343954, 0.21908738482606469, 0.2735188187452244, 0.13695885701829225, 0.13242779425697915], [1312.100851740431, 850.6633268365442, 1235.8928026085491, 1245.5203100942165, 974.6506158770997], [22.362296382354046, 62.57895340190188, 67.91673868248955, 86.583122599207, 86.32214329726453], [1141.3738684245773, 775.3115109555542, 912.4365487441322, 1449.1341728059379, 840.9729589750114]], [[0.17897954986807235, 0.2980413650155158, 0.2797793159210778, 0.15561272601850715, 0.08758704317682693], [755.5249439177544, 744.660972727026, 900.6990831444791, 1034.7538505337088, 1018.0876392759205], [75.057675780756, 82.18740058209568, 87.03504884159346, 37.01200427929226, 32.171389848141665], [1141.3738684245773, 775.3115109555542, 912.4365487441322, 1449.1341728059379, 840.9729589750114]], [[0.2577779900364245, 0.29920359770000193, 0.17519540913104187, 0.14395252466454675, 0.12387047846798498], [610.3274449648665, 1051.1551977574843, 818.2748880160118, 1115.3339093380403, 978.4759858873811], [63.549297577819466, 73.67817615488138, 94.21170689303523, 95.40763351639761, 69.27768930517233], [1141.3738684245773, 775.3115109555542, 912.4365487441322, 1449.1341728059379, 840.9729589750114]], [[0.25094535539060037, 0.252736751608819, 0.18043530505657024, 0.20480519968455843, 0.11107738825945195], [734.9066222124509, 999.1316014654664, 1381.8922298001828, 1378.8704973990934, 1099.369083097484], [59.82761345872042, 9.448268344379983, 95.03152396983181, 40.688583933762466, 89.10682341952506], [1141.3738684245773, 775.3115109555542, 912.4365487441322, 1449.1341728059379, 840.9729589750114]], [[0.20541647287388728, 0.25985584895005687, 0.21862330250371897, 0.2318166874894843, 0.08428768818285255], [757.2580440171671, 911.0472846603805, 948.7662975351209, 1214.870173225738, 1042.7409334102692], [39.011498087975404, 53.159093857594414, 58.69245467076843, 71.13913196296312, 65.21670103459995], [1141.3738684245773, 775.3115109555542, 912.4365487441322, 1449.1341728059379, 840.9729589750114]], [[0.10109424611342722, 0.3280398509052302, 0.33973531433822557, 0.11942445476445497, 0.11170613387866216], [1207.6495938819849, 617.747486980772, 774.5568704712163, 1217.661721290756, 1077.0204710694925], [92.27227741014215, 12.636007411006283, 31.604360031328163, 69.7212495139777, 56.639072102167034], [1141.3738684245773, 775.3115109555542, 912.4365487441322, 1449.1341728059379, 840.9729589750114]], [[0.24437021487786487, 0.2752267174844635, 0.26161439636430045, 0.04360615705743879, 0.17518251421593242], [771.9365330386385, 1094.8781983069039, 905.719154437433, 1195.8149728315325, 972.9487827264246], [44.16263826273973, 38.425952432014896, 70.31555946230364, 95.89027181710247, 27.134870427394233], [1141.3738684245773, 775.3115109555542, 912.4365487441322, 1449.1341728059379, 840.9729589750114]], [[0.189806002427185, 0.2675770324105469, 0.16247666567986524, 0.14100426475588743, 0.23913603472651532], [834.9630463547962, 1129.87977332305, 1257.7803063546985, 1273.6656961008148, 681.687315367489], [23.341515650731033, 13.714973300282026, 96.32365124240694, 60.109521654826075, 93.50483916292842], [1141.3738684245773, 775.3115109555542, 912.4365487441322, 1449.1341728059379, 840.9729589750114]], [[0.13492581715617563, 0.2866227837470191, 0.3119681363293064, 0.08205398504651118, 0.1844292777209878], [1035.8298847928054, 1072.878005821343, 755.6284159208772, 1381.7670398011148, 736.989699717333], [29.753153522171914, 51.433781799722865, 102.6907288300115, 92.2441589445338, 64.53833212408917], [1141.3738684245773, 775.3115109555542, 912.4365487441322, 1449.1341728059379, 840.9729589750114]], [[0.23035175190569446, 0.2523329669286963, 0.14775878376724688, 0.13164567198007388, 0.23791082541828854], [1307.347110779207, 745.611933056265, 1053.0494269627698, 1295.4502788110603, 1072.324299341361], [48.86317491294086, 57.73601810179902, 96.13590268480371, 51.647622411967845, 84.35486903774128], [1141.3738684245773, 775.3115109555542, 912.4365487441322, 1449.1341728059379, 840.9729589750114]], [[0.2353885399429625, 0.25561361470770994, 0.2783944232919785, 0.06667785464451749, 0.16392556741283154], [966.8033811142757, 890.546545634096, 724.4501758726628, 1271.1005896376578, 791.3257140777627], [66.92526668317038, 11.766710686536584, 30.877411813964237, 43.22092739221808, 42.6153411546982], [1141.3738684245773, 775.3115109555542, 912.4365487441322, 1449.1341728059379, 840.9729589750114]], [[0.09044268699761816, 0.3268369475376509, 0.2788828722856424, 0.223372295589402, 0.08046519758968651], [681.0398847266962, 1226.990590911816, 651.4991930006161, 1207.8366967219931, 930.6117613178095], [51.00105093709327, 80.17875981460018, 60.514019728356004, 62.99199389851747, 29.684539004080705], [1141.3738684245773, 775.3115109555542, 912.4365487441322, 1449.1341728059379, 840.9729589750114]], [[0.3134473845658319, 0.2879920350251965, 0.2421802591446031, 0.07404457903325704, 0.08233574223111156], [1179.3405915136482, 828.9184197116937, 1069.5883492673936, 787.9780624435213, 1386.8340279087984], [70.02788399664803, 55.449695810884165, 79.57775713266547, 83.3696403972342, 93.86014701461511], [1141.3738684245773, 775.3115109555542, 912.4365487441322, 1449.1341728059379, 840.9729589750114]], [[0.14740546981766764, 0.22340433882725566, 0.20335625454044307, 0.22993660327652246, 0.19589733353811106], [900.6378164708537, 795.9079750830097, 1038.403886158505, 1494.6814953495164, 790.1828636859665], [21.620077843787257, 38.59035568316823, 38.28549176801332, 52.52341767607245, 54.07421668913407], [1141.3738684245773, 775.3115109555542, 912.4365487441322, 1449.1341728059379, 840.9729589750114]], [[0.14952472975532236, 0.17263891880548707, 0.34370636056898146, 0.11481748474291131, 0.2193125061272978], [985.4417846162934, 1157.0521178372646, 924.2037542047824, 1257.1571973313203, 779.3604217160408], [22.363397282312157, 49.35405041091098, 37.946699124898046, 42.843722274098624, 90.07766581116658], [1141.3738684245773, 775.3115109555542, 912.4365487441322, 1449.1341728059379, 840.9729589750114]], [[0.2929031406684156, 0.29598742130245, 0.12791774130292105, 0.23256268507290154, 0.05062901165331169], [925.671567241262, 1008.9065433320237, 633.3432126505104, 1385.863023941923, 1071.8278980874334], [63.25171190809715, 40.3804886311336, 36.49082016328045, 55.802055751788046, 59.50812625876896], [1141.3738684245773, 775.3115109555542, 912.4365487441322, 1449.1341728059379, 840.9729589750114]], [[0.17679642745764748, 0.3218337869225886, 0.28036792640802655, 0.09379465089622115, 0.12720720831551627], [651.1503899980223, 774.7868210379838, 742.5612626556498, 1488.9328967203605, 1186.7378986906006], [84.93145592512968, 80.34024328457384, 87.79310127153249, 102.74692135728809, 51.52400173658927], [1141.3738684245773, 775.3115109555542, 912.4365487441322, 1449.1341728059379, 840.9729589750114]], [[0.14488187597700236, 0.2721868874294131, 0.2509518788564391, 0.10605643711829786, 0.22592292061884758], [1310.3566051585237, 1173.8441648363842, 1182.2945573765562, 1325.9337948177258, 1294.5258965984149], [39.54768329345286, 43.632280838599314, 107.69973470706353, 85.40760265083028, 28.737881201626948], [1141.3738684245773, 775.3115109555542, 912.4365487441322, 1449.1341728059379, 840.9729589750114]], [[0.23961431697711602, 0.19536560487235693, 0.20329399858960967, 0.1491563467483934, 0.21256973281252398], [940.8668122692675, 903.1676338212158, 727.8488722848049, 979.2180914874822, 1088.7022218504849], [30.809785962538623, 10.161379722952653, 32.723305773647965, 90.10180976774441, 48.31662659076586], [1141.3738684245773, 775.3115109555542, 912.4365487441322, 1449.1341728059379, 840.9729589750114]], [[0.10065063970078825, 0.29106149966521716, 0.2874925888714562, 0.1213369601326135, 0.19945831162992508], [1219.5645831045847, 1209.7638349733766, 979.3917231283563, 1429.3744379813709, 714.8565840694139], [52.181411771274746, 71.53634662018581, 100.47883619131224, 114.5667095196612, 83.91727723022473], [1141.3738684245773, 775.3115109555542, 912.4365487441322, 1449.1341728059379, 840.9729589750114]], [[0.1257763917840093, 0.2838517472588484, 0.2236220790187278, 0.18075638320441048, 0.1859933987340042], [1035.438439079437, 582.5994873114361, 657.8235052117161, 1015.4986236738393, 755.97972715746], [66.98925484426466, 42.13525657244424, 32.97370678876405, 46.06317825086429, 71.49610492846135], [1141.3738684245773, 775.3115109555542, 912.4365487441322, 1449.1341728059379, 840.9729589750114]], [[0.21971295248431344, 0.21685885487152826, 0.2736931162276199, 0.22964444913648233, 0.060090627280056076], [623.22593132763, 1230.576428827294, 839.1400636201627, 1241.5813074207824, 817.8927324658711], [96.3739821272914, 55.24524267608008, 108.67724143687714, 70.61061820785126, 54.557087023478665], [1141.3738684245773, 775.3115109555542, 912.4365487441322, 1449.1341728059379, 840.9729589750114]], [[0.28117937174812063, 0.25533557492796893, 0.25766111517216245, 0.12719145144332739, 0.07863248670842041], [724.9775358631346, 899.9899638784449, 1042.1351690573251, 1247.888537566936, 974.8431550053858], [39.87634883890519, 17.501809238004682, 60.95999435186133, 93.87335443250146, 85.52333319971947], [1141.3738684245773, 775.3115109555542, 912.4365487441322, 1449.1341728059379, 840.9729589750114]], [[0.1313942160527582, 0.2918463566387931, 0.2034667244771046, 0.2232258766250518, 0.1500668262062923], [1227.5362290685798, 664.5384435376208, 723.6451069043054, 1359.422277353941, 1258.3853847407488], [50.10870332602789, 70.91962000180581, 76.33279646525493, 70.40782591854529, 93.23807815349247], [1141.3738684245773, 775.3115109555542, 912.4365487441322, 1449.1341728059379, 840.9729589750114]], [[0.27967977114618164, 0.26762587635330776, 0.16644432634280706, 0.23092585544003197, 0.05532417071767169], [671.5903400413501, 617.3503550185814, 654.1914433844995, 949.9871415886948, 770.120797170732], [75.26893311609439, 46.887591987838995, 72.72032413506942, 64.931294135581, 62.868305083082575], [1141.3738684245773, 775.3115109555542, 912.4365487441322, 1449.1341728059379, 840.9729589750114]], [[0.21063147092636408, 0.19356789908018934, 0.21038890021706053, 0.1357574931337648, 0.2496542366426214], [1191.8960989774262, 503.276625687717, 1206.5289330766134, 1290.2078931463566, 707.1438886079593], [44.880387483468965, 56.095029364797384, 56.11481034692435, 74.95338837757363, 67.09884709946479], [1141.3738684245773, 775.3115109555542, 912.4365487441322, 1449.1341728059379, 840.9729589750114]], [[0.24502653355650422, 0.2241846700388972, 0.19635721704084624, 0.08482897543786887, 0.24960260392588343], [990.0085346590936, 832.8363253727023, 683.7601051225026, 1214.5028347563698, 843.9101314386785], [22.719934802018223, 46.84581669988834, 91.16913790288311, 102.74237587494729, 33.54504542592303], [1141.3738684245773, 775.3115109555542, 912.4365487441322, 1449.1341728059379, 840.9729589750114]], [[0.24399701467831802, 0.2157944411668035, 0.261742218280753, 0.1888774356920687, 0.08958889018205675], [723.1268292265809, 801.2111240017484, 738.3254764997838, 1455.8231819061427, 1288.868233492804], [87.02948419471389, 21.783282857821025, 31.05664866499631, 107.20025404291974, 85.7722973276009], [1141.3738684245773, 775.3115109555542, 912.4365487441322, 1449.1341728059379, 840.9729589750114]], [[0.24563992005257873, 0.18049197166084976, 0.19876965920643194, 0.19342615791426243, 0.18167229116587716], [1147.6622589767233, 550.2518062222844, 1148.0618238297825, 1016.809530454601, 808.3539141154712], [52.30832337893532, 68.01656899694478, 69.87596777358608, 70.31517313361714, 66.87091651469129], [1141.3738684245773, 775.3115109555542, 912.4365487441322, 1449.1341728059379, 840.9729589750114]], [[0.17465447758104413, 0.19622185675897147, 0.2331971661549268, 0.2787460691974772, 0.11718043030758053], [1298.2175813679285, 1138.6954685438636, 982.5924746671956, 1293.3104171452435, 1256.8184312053272], [23.447686747448095, 21.68094406050863, 109.12471307059796, 45.395045891634496, 72.26518862261373], [1141.3738684245773, 775.3115109555542, 912.4365487441322, 1449.1341728059379, 840.9729589750114]], [[0.2677833295619955, 0.2384113608544029, 0.1485022268076509, 0.18997195221234664, 0.155331130563604], [842.6568184424365, 543.7934569179475, 1227.037387717347, 1232.679227164413, 1376.6795317749888], [49.43132720928625, 50.293654176284036, 101.29883176364396, 55.40689368386175, 98.53806528065229], [1141.3738684245773, 775.3115109555542, 912.4365487441322, 1449.1341728059379, 840.9729589750114]], [[0.1677523717381899, 0.2860247486230551, 0.3013210686916109, 0.14089696292509743, 0.10400484802204658], [1139.946890432954, 997.7926115216351, 1333.1638063154237, 1464.3493076187262, 1354.5359933373466], [84.4810249416448, 64.35057514277824, 90.58930736538379, 70.7840216645247, 56.4578929990246], [1141.3738684245773, 775.3115109555542, 912.4365487441322, 1449.1341728059379, 840.9729589750114]], [[0.2363260484983795, 0.12432111218455613, 0.2934593996093411, 0.15499079369715268, 0.19090264601057058], [1047.5446013646165, 730.7282773537145, 958.3457765258436, 989.7720392714405, 1035.0863094156994], [30.1312617280969, 54.03670201201207, 39.47319277191064, 60.82603631593698, 47.4703744360717], [1141.3738684245773, 775.3115109555542, 912.4365487441322, 1449.1341728059379, 840.9729589750114]], [[0.11368273830390442, 0.3583251166515292, 0.1682545101149152, 0.2651955288603911, 0.09454210606926014], [572.5243192125882, 704.404558107362, 1415.9202665807275, 764.7966877895649, 724.1008683161676], [52.755126995171, 13.582629025975077, 65.84538697504459, 39.637901784837624, 69.73278040858438], [1141.3738684245773, 775.3115109555542, 912.4365487441322, 1449.1341728059379, 840.9729589750114]], [[0.1460249926446273, 0.1847384915521198, 0.31222709191342557, 0.12464744731008293, 0.2323619765797444], [615.0731007627768, 538.5214855635708, 960.4850775177404, 940.3814107118508, 1296.156399133546], [41.80547881752696, 42.3081093049726, 84.19650068792824, 49.819868366249196, 56.25201976521276], [1141.3738684245773, 775.3115109555542, 912.4365487441322, 1449.1341728059379, 840.9729589750114]], [[0.26687541347007293, 0.18288394918593912, 0.27124034368607114, 0.18282108661323548, 0.09617920704468143], [743.2315976887359, 1063.6868159388714, 935.2775846796236, 1016.3767867768861, 931.9265198025719], [52.31677913074237, 48.3087784839691, 99.48928720858495, 67.98308153555595, 98.87419858629997], [1141.3738684245773, 775.3115109555542, 912.4365487441322, 1449.1341728059379, 840.9729589750114]], [[0.16150321001197984, 0.3071599852206754, 0.2036892089312241, 0.0841666183382795, 0.2434809774978411], [1148.8829225571544, 911.0130638976639, 1321.10884228555, 1038.771335536335, 1371.9773757680605], [82.21556567907746, 38.04428983705669, 97.36042166134806, 53.966663100612536, 40.53165864308546], [1141.3738684245773, 775.3115109555542, 912.4365487441322, 1449.1341728059379, 840.9729589750114]], [[0.18538814765818162, 0.2695020374858745, 0.21377706860142368, 0.2736709566478269, 0.057661789606693166], [777.9130775131454, 1063.6136392614135, 1291.1321088186423, 753.9286658125795, 807.6879106597278], [43.67204534276872, 27.877088005507353, 67.96374012874712, 85.98566548073495, 103.34155174394564], [1141.3738684245773, 775.3115109555542, 912.4365487441322, 1449.1341728059379, 840.9729589750114]], [[0.15815758196610416, 0.29096468090709093, 0.29124956648948486, 0.16235262565342795, 0.097275544983892], [1100.4398090850732, 610.1930986785542, 1120.2231303057006, 1409.6931279425662, 801.6120488989953], [74.30145445666795, 28.88126939137157, 69.48987655053156, 90.99815143857585, 81.38697806055447], [1141.3738684245773, 775.3115109555542, 912.4365487441322, 1449.1341728059379, 840.9729589750114]], [[0.2412301292526678, 0.3168731571509515, 0.17426661178074726, 0.10366162223395037, 0.16396847958168315], [1021.4864181348747, 750.038831734315, 678.8909722415781, 755.9025278169034, 1091.044152595664], [53.625329194513384, 56.535610668394945, 102.94400812397386, 42.915978214034034, 87.3131803291055], [1141.3738684245773, 775.3115109555542, 912.4365487441322, 1449.1341728059379, 840.9729589750114]], [[0.2098480320041913, 0.2697151142943974, 0.2944947085838167, 0.08473351069744449, 0.14120863442015028], [1061.9649543562523, 1286.2747480484359, 958.7269893698997, 1013.0313481596135, 1397.7902860774448], [99.70187318333905, 79.57315437384854, 60.8166515459364, 44.526987260043654, 103.81405552804267], [1141.3738684245773, 775.3115109555542, 912.4365487441322, 1449.1341728059379, 840.9729589750114]], [[0.1687303913889727, 0.26061568219528797, 0.16652730236935673, 0.12615588867532593, 0.2779707353710567], [834.8810660997945, 956.0751993024406, 1416.379839743512, 972.1150565905783, 962.4286589027397], [51.99089394701539, 35.69865047296684, 77.74009253247314, 46.803281419268984, 60.954772217938384], [1141.3738684245773, 775.3115109555542, 912.4365487441322, 1449.1341728059379, 840.9729589750114]], [[0.24220135347931604, 0.22667100254109335, 0.32894253121658173, 0.10937407418558182, 0.09281103857742695], [742.392815998013, 1023.2970289416498, 1068.9784139328876, 1161.7786976977118, 901.5952246553445], [22.035184656394648, 45.581086035811616, 56.08705590276926, 107.79054861230043, 46.52887482652518], [1141.3738684245773, 775.3115109555542, 912.4365487441322, 1449.1341728059379, 840.9729589750114]], [[0.28733638804262107, 0.1392192160136035, 0.31484273086753356, 0.1942502502673317, 0.06435141480891014], [667.9561779987756, 1178.8705721260199, 1031.6996586753178, 1189.3494833224258, 1133.7616139865013], [68.09218784083914, 24.218603839116525, 74.94601751883948, 114.35549278161002, 56.06942638005486], [1141.3738684245773, 775.3115109555542, 912.4365487441322, 1449.1341728059379, 840.9729589750114]], [[0.31501677377935383, 0.27125338857498854, 0.18095068504793918, 0.06551311287964406, 0.1672660397180744], [666.9976082054313, 1055.3055186545575, 1292.411107078868, 890.7563253973253, 732.8072044296707], [43.62744990641944, 76.29874313015571, 88.42879827189765, 39.58697135957407, 76.09879391008465], [1141.3738684245773, 775.3115109555542, 912.4365487441322, 1449.1341728059379, 840.9729589750114]], [[0.24903997851925713, 0.32126748576047276, 0.2590452160241003, 0.07839119319348549, 0.09225612650268444], [1128.187935083139, 1286.6524676890344, 1404.91665851577, 920.2613532845493, 892.4606057953184], [83.621209524697, 12.51849655056187, 58.35462269309127, 92.26836581575706, 102.30539759510309], [1141.3738684245773, 775.3115109555542, 912.4365487441322, 1449.1341728059379, 840.9729589750114]], [[0.26983783611813034, 0.29363168310793075, 0.23035513655388065, 0.08579899409147525, 0.12037635012858311], [1110.2648036986755, 706.3393240861826, 957.9297289037371, 837.1683961466849, 1294.7215440156408], [76.63003620980679, 6.467419015471513, 37.568520786188074, 70.55194357024321, 47.29047497267012], [1141.3738684245773, 775.3115109555542, 912.4365487441322, 1449.1341728059379, 840.9729589750114]], [[0.23373421182944107, 0.23328345530128064, 0.28632522586506093, 0.06599001701544036, 0.18066708998877698], [1342.8020834113809, 544.5159841050956, 929.9948102971167, 916.3585967825054, 1022.0536887524129], [41.1493709456446, 11.907706101207232, 93.09303044263925, 81.24376301169454, 89.03614640260555], [1141.3738684245773, 775.3115109555542, 912.4365487441322, 1449.1341728059379, 840.9729589750114]], [[0.3630532020314397, 0.19908661181768625, 0.2242683198305475, 0.11724372214149323, 0.09634814417883335], [753.8569209229461, 784.0946264002198, 648.5963772080191, 1429.1651875395855, 715.9873631616788], [35.267136833914996, 83.2733927991225, 86.52817491178766, 82.38122501665427, 87.41799407311328], [1141.3738684245773, 775.3115109555542, 912.4365487441322, 1449.1341728059379, 840.9729589750114]], [[0.18088115472718236, 0.18621242655103898, 0.30277102659241667, 0.05921302334820776, 0.2709223687811543], [608.355984259319, 1182.7773146436066, 1226.0235170789208, 1244.0273362010048, 872.5435265323769], [71.24660078326028, 20.062332463618347, 65.86766958686096, 70.96844689816137, 62.843475050531154], [1141.3738684245773, 775.3115109555542, 912.4365487441322, 1449.1341728059379, 840.9729589750114]], [[0.29134976200277685, 0.28322034207690455, 0.14878109263654182, 0.09618947268111293, 0.18045933060266395], [1154.456380658674, 617.1241684573067, 1061.6850178676743, 833.5971241082824, 1221.1528441274938], [89.61824050786957, 60.08615622440044, 58.222612702163275, 69.16095292354017, 60.12184904316344], [1141.3738684245773, 775.3115109555542, 912.4365487441322, 1449.1341728059379, 840.9729589750114]], [[0.11970680403083207, 0.2672046656956109, 0.20644191242510643, 0.1973854630861179, 0.2092611547623327], [1020.6387705560367, 1016.1295284095347, 876.6689937735283, 1007.5365754171678, 772.9577446728813], [30.834638590570826, 57.749125402165056, 39.503717803094716, 50.81430034659148, 26.764223988529807], [1141.3738684245773, 775.3115109555542, 912.4365487441322, 1449.1341728059379, 840.9729589750114]], [[0.11243674582499537, 0.3013208070711917, 0.17271449263435634, 0.19267850860135127, 0.2208494458681053], [1070.7884105644137, 1099.7085864524627, 1312.5079757114036, 1459.3863777949773, 1429.4037617256313], [78.05543291636707, 67.528370521975, 109.93402919844458, 59.05077385517926, 97.20512872131415], [1141.3738684245773, 775.3115109555542, 912.4365487441322, 1449.1341728059379, 840.9729589750114]], [[0.16526650605962973, 0.316598970635931, 0.3210275949165273, 0.06587915327324981, 0.13122777511466205], [847.3161173538551, 767.8927937437107, 821.4865503645551, 1276.306790549701, 1175.2300203208742], [90.56538480627607, 47.23194409704857, 96.14047593594313, 94.92821676196783, 91.8147153126497], [1141.3738684245773, 775.3115109555542, 912.4365487441322, 1449.1341728059379, 840.9729589750114]], [[0.3428692323619931, 0.2504089091899259, 0.15349558842068525, 0.16302399843412532, 0.0902022715932704], [1262.3436891014242, 1290.031798074028, 759.282748131497, 1245.5309207091232, 716.4670356408033], [43.296955904981104, 7.94074821276115, 83.18363574476317, 78.66316759193595, 26.702442691347315], [1141.3738684245773, 775.3115109555542, 912.4365487441322, 1449.1341728059379, 840.9729589750114]], [[0.21603217886021683, 0.17974616841278332, 0.28676977833479494, 0.19769799859496606, 0.1197538757972388], [1333.5291424777452, 1102.778926332126, 1093.4101201090502, 812.8394284042671, 804.5458772986959], [33.06228720534742, 65.5553268294961, 91.52088813554911, 44.7346155234674, 30.24996266413976], [1141.3738684245773, 775.3115109555542, 912.4365487441322, 1449.1341728059379, 840.9729589750114]], [[0.2791801728518698, 0.26417149209779756, 0.25327327846753106, 0.11912892273336625, 0.0842461338494354], [1015.9854173391261, 799.1483387179962, 760.6062290987508, 790.7650053420518, 1277.2106897704866], [36.23077277264305, 22.34378396798278, 75.33892642818296, 113.00345982952155, 74.71995640026364], [1141.3738684245773, 775.3115109555542, 912.4365487441322, 1449.1341728059379, 840.9729589750114]], [[0.24043025099872864, 0.2039329866588133, 0.331678528732524, 0.17346472285332196, 0.05049351075661223], [900.8640766570345, 972.0624214880298, 1380.7146482152148, 1168.3316273293005, 1415.6192635551158], [48.26825760365295, 22.95848962521572, 96.72931653707064, 99.15837669285123, 69.73455365543165], [1141.3738684245773, 775.3115109555542, 912.4365487441322, 1449.1341728059379, 840.9729589750114]], [[0.2555976176661798, 0.19000667810854588, 0.2842655924722172, 0.06386990358831751, 0.20626020816473956], [922.4576563928788, 1005.2243440275748, 1216.7310202674419, 837.5576234315729, 776.8629755045106], [43.199155428542106, 18.190123619596203, 79.23384159976452, 95.26142362057573, 32.64215123049679], [1141.3738684245773, 775.3115109555542, 912.4365487441322, 1449.1341728059379, 840.9729589750114]], [[0.21788211205526675, 0.16384995258858573, 0.22874268559892827, 0.2653382085686098, 0.1241870411886095], [580.6077688719777, 892.2939725696017, 1374.054891500521, 1337.2267267292755, 723.322833519223], [48.11791112243755, 56.924432602636216, 73.38677135671037, 113.11557882290745, 48.53795483339658], [1141.3738684245773, 775.3115109555542, 912.4365487441322, 1449.1341728059379, 840.9729589750114]], [[0.22018549038266813, 0.28164352367854834, 0.1636348878066342, 0.16013778109831248, 0.17439831703383696], [1202.1031666815288, 598.4349723956695, 960.1260506437773, 984.970549698682, 938.3341192436885], [29.114111644967462, 72.62998909014156, 101.07982841486555, 74.46908649594349, 58.01139922110332], [1141.3738684245773, 775.3115109555542, 912.4365487441322, 1449.1341728059379, 840.9729589750114]], [[0.09771102354875001, 0.3537919431711594, 0.3064596752448215, 0.18594281900463513, 0.056094539030633744], [936.3332939555457, 584.9031353521509, 1400.2484966910802, 1058.2544046537887, 678.5624355811558], [23.1199497210525, 25.92683209383276, 107.61296404603948, 41.16662068855235, 34.803556340667754], [1141.3738684245773, 775.3115109555542, 912.4365487441322, 1449.1341728059379, 840.9729589750114]], [[0.35350577175066045, 0.1566798790656913, 0.1657351545787338, 0.061326152650890295, 0.2627530419540241], [1116.8364006838383, 1101.63238563037, 931.211701241582, 1307.5199053584188, 691.5084058995714], [70.76902367149185, 8.635119143113215, 108.96909335146569, 37.33124453169538, 40.313680708275186], [1141.3738684245773, 775.3115109555542, 912.4365487441322, 1449.1341728059379, 840.9729589750114]], [[0.22797864239971374, 0.18178801690730123, 0.2744181087326279, 0.060868503975475996, 0.25494672798488105], [1316.4876427096629, 814.864825555599, 1312.3015875178396, 871.895038788777, 1325.4801923180887], [86.08999704767467, 41.315347817545145, 103.27347329425666, 101.54228254594423, 63.13592408389651], [1141.3738684245773, 775.3115109555542, 912.4365487441322, 1449.1341728059379, 840.9729589750114]], [[0.23259103847069307, 0.1579064935132142, 0.2936339801230038, 0.21690945762051028, 0.09895903027257863], [748.1934996451937, 733.1158424170469, 625.4930806557741, 850.433533463275, 910.1896855615267], [54.42635900778561, 80.0437292637911, 58.37651139674672, 59.566626931312626, 88.12148478292212], [1141.3738684245773, 775.3115109555542, 912.4365487441322, 1449.1341728059379, 840.9729589750114]], [[0.10743605363693036, 0.313851361295938, 0.25685674686853366, 0.17669470357550707, 0.1451611346230909], [689.1784846256564, 868.5236897696743, 799.588167749018, 1029.5253871860357, 882.0381687440129], [72.03757581336961, 61.279997903539474, 101.1598177090342, 91.90623881712678, 87.40318657944718], [1141.3738684245773, 775.3115109555542, 912.4365487441322, 1449.1341728059379, 840.9729589750114]], [[0.22922337678727148, 0.20390322214693296, 0.20760944240168006, 0.15078830770628163, 0.20847565095783402], [672.5096680199572, 561.5112721572257, 1226.4256414189554, 1025.9964322434325, 1160.8811055693286], [48.94585175741537, 33.9704059836899, 53.30323765239736, 114.1154235028668, 36.69025209413768], [1141.3738684245773, 775.3115109555542, 912.4365487441322, 1449.1341728059379, 840.9729589750114]], [[0.1677519562364965, 0.18940188549179465, 0.16123380942990426, 0.19175365743757733, 0.2898586914042273], [1194.188799279466, 1100.1593842918974, 1379.4021204646308, 1521.307986727334, 881.0988999779008], [73.54376336380504, 80.18021501138007, 81.40508826180712, 70.35539258990579, 77.6799332548861], [1141.3738684245773, 775.3115109555542, 912.4365487441322, 1449.1341728059379, 840.9729589750114]], [[0.15555211978521702, 0.16839966618372917, 0.2910662166873963, 0.18472082026358377, 0.2002611770800736], [677.9916671402157, 905.760497652571, 986.1591073039364, 918.3667775493052, 784.8604718188916], [56.0954500017143, 35.35117236187506, 74.64309248661945, 46.962039995628295, 59.35400699048224], [1141.3738684245773, 775.3115109555542, 912.4365487441322, 1449.1341728059379, 840.9729589750114]], [[0.1428105089682557, 0.28540671553633784, 0.2907153905687395, 0.16713790821795269, 0.11392947670871427], [813.3476049047897, 1268.8589426884316, 1387.2133247094084, 937.8510771356335, 1181.75036571177], [91.78509876338472, 12.704526649605214, 105.84172899576025, 50.920219611717165, 80.9156932147043], [1141.3738684245773, 775.3115109555542, 912.4365487441322, 1449.1341728059379, 840.9729589750114]], [[0.25661549677958684, 0.2683591413702548, 0.13398364658721953, 0.15308531853197924, 0.1879563967309596], [1095.2109086463424, 1218.027546117269, 1327.1979073488035, 1257.9449793795484, 1343.4995429408068], [62.13247600834201, 34.520514104183924, 41.48058108094064, 90.11297141353549, 28.411511182498685], [1141.3738684245773, 775.3115109555542, 912.4365487441322, 1449.1341728059379, 840.9729589750114]], [[0.25145211419432417, 0.2269540399532353, 0.20868547376035804, 0.16025254208407846, 0.1526558300080041], [564.7438383576799, 801.0807868318672, 1112.130913918329, 1074.923371561171, 736.5646519842344], [70.13954772231703, 71.29148716012834, 40.38752311829279, 111.92749497805018, 64.77480144221846], [1141.3738684245773, 775.3115109555542, 912.4365487441322, 1449.1341728059379, 840.9729589750114]], [[0.23081338383181224, 0.260884757849681, 0.23191299720678293, 0.09527612909042857, 0.1811127320212953], [1162.2973477170524, 780.2882595014676, 990.0672282880322, 951.531221882116, 1333.90286863658], [63.64712627206601, 43.92651243974383, 55.99435245959887, 98.8795177330438, 84.40086536058372], [1141.3738684245773, 775.3115109555542, 912.4365487441322, 1449.1341728059379, 840.9729589750114]], [[0.1691519154557029, 0.1651401616503321, 0.2683139507855074, 0.14245583834524544, 0.254938133763212], [687.2038942685622, 657.1850330685257, 1416.8610399609086, 1463.354108439237, 965.8343238376567], [47.60775427002795, 24.123892011558212, 90.42133340015809, 101.7432148981185, 95.26458663991632], [1141.3738684245773, 775.3115109555542, 912.4365487441322, 1449.1341728059379, 840.9729589750114]], [[0.1984067423087534, 0.312116474131865, 0.16872242055661063, 0.2090831207854956, 0.11167124221727541], [1100.6665054191863, 550.999995192872, 1325.68015383233, 1172.0903864826828, 1428.8593183089383], [33.46491075775895, 76.58888974469414, 77.22060098265337, 109.26453701312158, 59.5392668988698], [1141.3738684245773, 775.3115109555542, 912.4365487441322, 1449.1341728059379, 840.9729589750114]], [[0.13821401869890063, 0.3057435973794268, 0.2410490192996232, 0.13037369864359594, 0.1846196659784533], [1206.5642239218794, 838.8266470187663, 1381.0471235451628, 891.6803269154834, 756.0698272506809], [60.408150847905674, 56.75281983551338, 102.99389236274452, 101.27474173765341, 94.54784878789071], [1141.3738684245773, 775.3115109555542, 912.4365487441322, 1449.1341728059379, 840.9729589750114]], [[0.23635311067068643, 0.1566366412090715, 0.3006161205092134, 0.08405761611335577, 0.22233651149767283], [1309.5361524827013, 774.0190419247691, 686.8091854731872, 1244.6054797881054, 1225.935946795115], [76.59633545529226, 69.48923074392194, 68.54237601248974, 85.91982578629887, 47.51994720692629], [1141.3738684245773, 775.3115109555542, 912.4365487441322, 1449.1341728059379, 840.9729589750114]], [[0.20804437554330782, 0.3103769417463969, 0.3139111337890175, 0.06945075116740802, 0.09821679775386971], [994.8555789182567, 737.0243412476118, 1173.1511791266576, 941.5801456718511, 1177.9900120148802], [71.21601936520213, 24.60535806759526, 76.42451527775395, 108.36043235031244, 83.94108127884323], [1141.3738684245773, 775.3115109555542, 912.4365487441322, 1449.1341728059379, 840.9729589750114]], [[0.24879583656432072, 0.17183429961300814, 0.2807048116903619, 0.23674820211103131, 0.061916850021278114], [993.2918950655962, 924.9085302084018, 990.8885280452525, 1508.243077847997, 1381.9338187615713], [91.0651861090231, 40.098461445744945, 101.80613627196158, 76.4757505059026, 55.68719496553919], [1141.3738684245773, 775.3115109555542, 912.4365487441322, 1449.1341728059379, 840.9729589750114]], [[0.13395321750807393, 0.24410766047748964, 0.3102123972670503, 0.15739671436549418, 0.154330010381892], [678.6179521612655, 1233.0198220418552, 1127.959566786834, 1110.0579540003775, 1069.0901734703334], [97.65165764148074, 70.81907186661974, 51.7553269639733, 83.94269763490702, 95.85669791942217], [1141.3738684245773, 775.3115109555542, 912.4365487441322, 1449.1341728059379, 840.9729589750114]], [[0.21645295946130472, 0.3891166501890604, 0.18941594328666483, 0.11066916504691589, 0.09434528201605435], [1036.2949714793663, 928.5837041564748, 684.921237321111, 1091.6444164608893, 1203.4036114220494], [54.478080639227926, 53.141221209205874, 84.07062321793049, 42.317174038935676, 33.470077648752216], [1141.3738684245773, 775.3115109555542, 912.4365487441322, 1449.1341728059379, 840.9729589750114]], [[0.11668148862904353, 0.23978119721871224, 0.2369969148859098, 0.22513509432844717, 0.18140530493788717], [1090.2499429941715, 1127.7844180140683, 634.2682771254932, 1144.3465572851264, 1087.0964154664732], [95.81375563954582, 13.121272985077155, 56.10511686775284, 36.71326266121936, 27.433756547804755], [1141.3738684245773, 775.3115109555542, 912.4365487441322, 1449.1341728059379, 840.9729589750114]], [[0.2283908313565776, 0.16583039121615095, 0.28223227644708254, 0.05880163082187459, 0.2647448701583143], [817.1532454843866, 802.005014159115, 1138.361437324937, 1273.9372257580976, 880.1980154641802], [99.56012498469758, 82.25736589794788, 78.53377930942649, 89.8789748840705, 69.82026652778515], [1141.3738684245773, 775.3115109555542, 912.4365487441322, 1449.1341728059379, 840.9729589750114]], [[0.14128208669595188, 0.3956653457802075, 0.18207845972750997, 0.20910879044143252, 0.071865317354898], [793.4872378014663, 1242.3283468132781, 1403.6840838582034, 884.321547810698, 1041.3976122791796], [63.09907278592118, 63.021102930858106, 83.1418103970853, 114.0729914147091, 87.3920800655188], [1141.3738684245773, 775.3115109555542, 912.4365487441322, 1449.1341728059379, 840.9729589750114]], [[0.1825084532258362, 0.13005361965301312, 0.29194888165842314, 0.198325506209512, 0.19716353925321561], [1183.3641273328647, 793.4281279569811, 859.6166533191245, 919.125724584937, 833.981797525463], [83.87842142869296, 80.22784720171916, 60.72800250657566, 74.76613171065456, 45.87888331730821], [1141.3738684245773, 775.3115109555542, 912.4365487441322, 1449.1341728059379, 840.9729589750114]], [[0.3063865827412314, 0.18143095511150314, 0.31459216591556954, 0.10204505867182949, 0.0955452375598664], [1135.7880476909475, 766.3709050858381, 898.3318375414517, 1435.9963830586867, 813.4955424092459], [69.09524753965968, 41.113639275141594, 102.73672155946136, 62.871068430044794, 89.18406763197689], [1141.3738684245773, 775.3115109555542, 912.4365487441322, 1449.1341728059379, 840.9729589750114]]]]\n"
     ]
    }
   ],
   "source": [
    "print(regimeCycle1);"
   ]
  },
  {
   "cell_type": "code",
   "execution_count": 22,
   "metadata": {
    "collapsed": false,
    "scrolled": true
   },
   "outputs": [
    {
     "name": "stdout",
     "output_type": "stream",
     "text": [
      "[[[7.6586957751710205, 8.0915205270297683, 4.4238166432995527, 3.8799244438893981, 3.976223624842012], [5.9999331085392393, 3.7777278867646236, 2.5838825472869922, 2.3766311617108387, 3.0920192800070181], [3.8092510617326991, 3.5500683334028751, 3.7025225351770472, 2.9419699791231233, 2.4927623182289849], [8.6627448932603759, 9.1707905002023704, 3.8482344349156228, 4.6148985523625186, 4.0715050375757693], [6.0289368547765978, 6.9874932674877046, 5.2592835209660818, 5.1491683001715973, 4.9105064576404525], [7.2738081831329184, 6.326724161679163, 6.6716231876255625, 5.9541861646668384, 6.2513068302462607], [11.136437813319484, 7.4287328390582168, 7.9923320681676211, 7.4764131180034425, 7.5943019569967314], [9.1912855503336477, 7.9266506216610155, 6.0812749512125919, 5.0782297806955388, 5.9241518213300379], [7.5003336277622443, 9.3737682847322361, 7.6073726194598787, 6.452519956901539, 6.9876674463339956], [7.0304170927402776, 6.7936042757206589, 6.6877010765536467, 5.8614020549333423, 5.7767200513689838], [9.5551024236903697, 10.564126589415272, 7.8951655619458379, 7.1426597293635181, 7.3406158854895409], [5.2635385895966866, 2.8895475629991259, 4.1198877981865483, 4.9284059555760651, 2.2738773548513818], [7.4186087349949759, 3.8951202275768386, 4.1448000425924345, 4.3740349847432762, 3.7782465011524216], [7.7978742578631488, 7.9820836410954872, 7.6613781571765589, 7.1573465198049746, 6.321807582289213], [8.0470935218013135, 6.5354747716828321, 6.6405413672808775, 5.4923372574304343, 6.1233136756059201], [6.881393808933276, 8.1444462037044651, 3.1308329581323773, 2.6125011172496921, 2.2982682421626133], [6.5800979188897646, 7.2696272222821285, 4.6173132785679281, 3.6561407674440138, 3.5207401217019183], [6.3550964664170841, 6.6038150271221516, 6.5873165081887732, 5.8521565640567754, 6.0689758638674904], [7.3571343289469322, 6.0434876360979883, 4.9894730432480703, 4.2867361811450992, 3.7418711641112181], [5.3578319450431886, 8.0109531766629445, 6.1705190875467473, 5.5563116550038769, 5.4435972112432331], [8.0024656655147144, 5.2440428885689121, 3.9739572713499456, 3.4074202110457783, 3.1354643556175579], [6.6017099473502183, 4.7981178544458274, 2.957196344819891, 2.4899888432334918, 1.5615720189102904], [5.4572740828897981, 5.0780794381337655, 5.2349373646699515, 4.4431356501784816, 4.6675507826381804], [6.0398407070733109, 5.4048578342216027, 5.9400430556698067, 5.4161405381910566, 4.3111258941512975], [4.9034719066754322, 3.4936982488705488, 3.6357528058020794, 2.7950022595701216, 2.7117899386803468], [7.6221959066953824, 7.3380148816586876, 6.9275551064811536, 6.7306556123596613, 6.5728783523647039], [8.2765981866245415, 5.8118737733857611, 6.6365123472508341, 4.5059703356665946, 4.6741329954992166], [6.4813970024805085, 4.6202508608933339, 5.3963634480039451, 3.8766747451362833, 4.0795874656821347], [7.8535933597574399, 6.3286300164496705, 5.8026346685454868, 6.7639619665636728, 6.66790200241803], [11.028194445580345, 6.373220482218569, 6.3058072013094097, 6.0312837198665221, 5.2936248169838622], [7.7466720662815929, 8.0311855531206859, 5.4234553637841323, 4.7688599776730207, 5.0238235617730984], [5.9980184933133494, 5.9001985100441194, 5.4440086695926881, 4.0092450514915559, 4.0535018847485187], [6.6747029176850061, 4.2481694935944425, 2.5162032840137454, 2.5681272778504347, 1.2847958450176908], [6.295467791854291, 5.1666219959685487, 5.41624533260189, 4.624609627417775, 5.4768213547139384], [6.3494915568020875, 7.1315674871677173, 6.1414050302526499, 4.6055534036750432, 4.0983448116427574], [8.0725933218490606, 6.213988048136903, 5.6294442672278535, 4.7090963092406612, 4.3617524335330913], [8.945886112281018, 8.7644889632660483, 8.2886277301445865, 7.2680840990315527, 6.8548737505953738], [11.270499865730448, 5.9320277726348118, 6.2255910429470775, 5.5674648768307424, 5.6314043222551309], [7.0247760851722543, 7.5670508130533998, 7.6730959750227061, 6.7764160755749678, 7.106022710963388], [7.2216059702204012, 9.1259577400454841, 8.359321823611598, 6.8026857498426594, 7.1943446231980328], [4.4050198123435322, 4.9538589323354021, 2.1606585723363989, 1.7491040618591926, 1.5767040483331003], [8.7155294146637559, 9.3827478051525883, 7.1878829343504922, 4.2147908625602062, 4.5230646190149733], [8.4498024681558555, 6.6137238561048441, 6.1467626343507025, 5.7398624383867745, 5.2176655789972903], [5.6671780930226543, 6.1076437314285661, 5.6167926600413374, 5.107635978160415, 5.4476102220003098], [7.821613631686759, 6.1932057487053243, 4.0806574963251281, 2.25909535030996, 1.923160658041994], [5.6187583389071687, 4.3570941025273342, 5.3691962808462863, 3.6501343397516872, 3.5050291432142173], [6.5605945794217879, 5.7199149474397268, 4.5876998244506266, 3.3848684651532501, 3.499252375243179], [6.551083730973934, 7.9842000460244762, 7.5495995270429663, 6.224252417942485, 6.3172859056457762], [5.6246281633047159, 5.2070926699458155, 5.0883986049001511, 3.5669991279141406, 4.7921552404465073], [7.5937872851283466, 4.4894228150324897, 4.5671652751049576, 3.9980185684806306, 4.5928211377138277], [8.449817146248515, 8.5408903142195296, 5.1586605829029022, 3.8952135739995124, 4.4091303096451471], [10.449204165286572, 10.327167185419645, 7.3806983665634931, 7.5937845054974566, 6.1712052633465779], [6.4510285241018002, 6.6191054771661779, 6.3594580798644476, 4.4291391567208249, 4.0520920783933745], [7.871465666239823, 6.7334060413166776, 6.6432442736298274, 4.4182635249138427, 5.2485042981942369], [7.2537086842413716, 8.5837059907428319, 7.2139722165408644, 6.2874530490911189, 6.8195782551232949], [7.7084966002200028, 5.4531684703894872, 5.0921144292025629, 4.3639821802554586, 4.6145744084283598], [6.7617391694414044, 6.7399220755804521, 6.8381632900141627, 6.1939896028732315, 6.1094632345794633], [8.4177985260105785, 7.3890810384827166, 7.2690869086695811, 6.6592073976508681, 7.7183339119085845], [7.8656143225284119, 7.4007846163592212, 3.976563244521782, 4.171158274300101, 3.7634424709065106], [8.1078456274123951, 9.3177739863679054, 6.6974479532110642, 5.9504061194317179, 6.2197003243755642], [4.0731654916140165, 4.5483241771932503, 3.0947986912761127, 4.6115465390037382, 3.2096991465932709], [7.5214911718201716, 6.5443094852871297, 5.0114404617788644, 3.9525609668530723, 4.9325955336445153], [6.6668823468608069, 7.6831432999190215, 7.6809141159833185, 7.069377144354057, 7.1364193018274058], [7.2953767178394262, 5.5165792638801348, 4.1221278294957733, 3.7754614677037051, 3.3199004855257122], [6.9195430466871377, 5.1378111183269546, 4.6092369200743359, 3.9139601522053424, 3.9051436609209462], [9.0846131123129723, 11.28028404874015, 10.742188681606166, 8.8541689613193704, 8.2811607239420191], [5.6518253484467058, 5.4187721589312847, 5.7690812733823327, 4.2959659151188703, 4.2024931260993421], [7.5219331500341822, 4.1489978334737465, 3.0726280153777976, 2.6797973704839286, 2.6934642415248038], [8.0630679457368153, 6.3822428666423381, 5.3794069240057159, 4.7243932824150043, 5.6416329839765673], [9.302745406151244, 8.0183907189429942, 5.972941858630473, 4.1828657813926373, 4.3999415098515762], [12.13007068440343, 7.7750558925979423, 4.1799136509006507, 3.6099432640506377, 4.5255585835434395], [6.880799787371136, 6.7817348175236907, 5.1986371940673015, 5.2170492634696961, 4.813286133010318], [7.431728162619013, 5.2981419153124785, 5.9201045145866891, 4.2758026168415038, 4.6066037786074787], [5.7871556117800314, 5.83430091772503, 6.7245048752346896, 5.0011306112268121, 5.2673939732119397], [6.5575531703339305, 4.7712311883464311, 3.9961540707601513, 4.1759784315325703, 3.7654692397295424], [7.2012824832227569, 7.0881287768495094, 8.3398559743200149, 5.488741507981711, 5.7821985032526904], [7.7294717697912114, 6.889006435974979, 4.404148619762724, 3.9236450982361797, 3.4440844845054475], [4.0301550202606924, 3.9532458634277781, 2.6916026176201417, 2.1882136004385839, 2.2167715514974544], [7.85265590350933, 7.9567487526446046, 6.4852570227130988, 6.2046462688136783, 6.1043398987395001], [5.5380973789371586, 6.7013153572094577, 5.1953124362877476, 4.4651699373360945, 5.5498962020564333], [5.6545992346248868, 6.0562098405367113, 5.8948763881121646, 5.1865076886857668, 5.189570341322975], [6.6595192068574569, 5.0026704292525084, 5.2386361058419872, 4.9819912987152195, 4.427279497716933], [4.8153360652234776, 5.0687434184417661, 5.177554285358128, 4.6131815575487236, 4.3082941222070366], [4.3168040076269554, 4.7272639049888454, 3.953232191194302, 3.5670061566424174, 3.998202177089385], [6.1880437550694669, 5.5818172065257032, 5.7396359087253277, 4.6746037774450402, 6.0769577389678124], [9.326438060609636, 9.3182816356064855, 4.8879036052993792, 4.8412429847126601, 4.996097461591595], [6.3475443278674399, 7.5268680717143264, 6.6895901557826267, 5.8916459475338501, 5.6389253181407666], [9.2931518940275382, 4.2546149877674022, 3.2769771464514181, 1.8259326219658865, 1.9775165264409187], [11.286829916711385, 6.2275634706733616, 3.8038642429731979, 3.437813497464163, 5.3923932563696981], [6.2319562232727659, 6.6559475286266734, 5.874168978221439, 5.2303074154739146, 4.4522032138916545], [6.5676277231882914, 4.4910154408776011, 2.7317147850756074, 2.6823225998468003, 2.2406131895202295], [9.0747950668423201, 8.903017096155061, 6.7655122527874614, 5.4414853640766401, 5.8168388412074634], [4.7543349747740935, 7.0524269931586971, 5.61911895617882, 4.852219745506825, 5.1208459975506448], [7.325237250676345, 4.4148366420773009, 3.8937489039353466, 3.6130481822338218, 4.4454624867609613], [5.7341815070480964, 5.7079799118671852, 5.1270121981815961, 3.4187518952257903, 3.2861727561259171], [6.73899199895415, 6.394085721025907, 5.7882691360259493, 4.4616226957826246, 5.2887335459548339], [6.3465109117262974, 7.5331725609302751, 7.1774687269878683, 5.7969498477373369, 5.9171852315477942], [8.6519705633927959, 8.7483972404632198, 5.9680022278784453, 5.9772036632848558, 4.8684595602560172], [7.2035389585772167, 5.4291382074407846, 4.3599215764661903, 3.9647694637708253, 3.8817082033348074], [7.3797471747126497, 7.5891595418846469, 6.7357802600761296, 4.5251513013975382, 5.2618526168348048]], [3.5886934178091794, 2.7237774345903971, 2.438742588779355, 3.8079950700906404, 4.5635530074742832, 5.7462240796919088, 7.1755585965264865, 5.0678583895721738, 6.3757550951896533, 5.4812904407400005, 6.630661943206074, 1.838093677303319, 3.2850069345362556, 6.6958885764230081, 5.6491296484253883, 2.5615946123821653, 3.5395261192234839, 5.7520571208037206, 4.3263268140387821, 4.590984729197757, 3.033664593630307, 2.0510556668391606, 4.5227770990538332, 4.4488916748013301, 2.6856521257092667, 6.4098889447747549, 4.3351571898679815, 3.8238979213537605, 3.2613757219702291, 5.6125758673713309, 4.8134692717680139, 4.1254874714631855, 1.9633149225911588, 5.062308447366946, 3.9763025777630454, 4.1368592275257701, 6.3285356143963787, 5.5661706168280265, 6.5310122237706114, 6.4032467934752688, 1.610968222664056, 4.117841944889439, 4.4202650123493639, 4.4769415803382291, 1.9493393408068038, 3.031679390448359, 3.2630275895986074, 5.9106487303313742, 4.2445928284673728, 4.1914447266762993, 4.0653168748254247, 5.9547383719767648, 4.0756454641430624, 4.5676208592175511, 6.5930798902519054, 3.6727355976749103, 5.9209051512956776, 6.8855201137834126, 4.1704781626544012, 5.5501345584101029, 1.6548925115551729, 4.6018264470258545, 6.2705095489100673, 3.3900054743133836, 3.7980506878044684, 7.9168361716454099, 4.0734716605523325, 2.7483945241486252, 4.3583734253860076, 4.517836351821896, 3.6671184121476474, 4.5911446078825922, 4.519638840732167, 4.8933253499038125, 3.7420214210863496, 6.2670133754845621, 3.3273806294165991, 2.3306021859345685, 6.1496082838292647, 4.6680758180547794, 5.1689303961312216, 4.2316115495311317, 4.4689862761707824, 3.0301114297103271, 5.0746891278554163, 4.2377786333571628, 5.6027725296680355, 2.0267401720347449, 3.3347328918784451, 4.5471417773711407, 2.518174347895922, 5.1506548787783517, 4.4454903342995538, 3.2509101346776528, 3.4475317858809471, 4.2784325770246641, 5.0754364111854358, 4.799146439576699, 3.8972715575528825, 5.052111539136722], [[[0.12459113405908676, 0.37497666546668484, 0.28019499417869254, 0.11521031247842539, 0.10502689381711049], [745.7991295884478, 961.3615400902837, 1201.013351064655, 1343.1309982422727, 776.2999819833105], [49.93435827996295, 17.066851964239458, 73.93902646670593, 85.4750169654153, 99.1994204584485], [1038.728181564359, 779.4455068837073, 1117.6406856532742, 775.0120021765309, 1169.1968908754752]], [[0.2399692638754273, 0.31826184304232447, 0.1842008697351025, 0.20331515586809504, 0.05425286747905079], [773.0133083935461, 1124.1259208793763, 835.4614744154418, 975.1375421490743, 1003.7193256000985], [75.64902481660003, 23.32859550133291, 61.01295075463511, 62.437013217965, 32.600952170785376], [1038.728181564359, 779.4455068837073, 1117.6406856532742, 775.0120021765309, 1169.1968908754752]], [[0.18199048786427757, 0.25906927636645133, 0.3553989941205227, 0.12593623841468207, 0.07760500323406637], [1022.0378377597158, 1161.0702482123615, 794.3643642826268, 921.4775908496538, 1163.4731729034088], [45.37873271725529, 16.837873592855665, 49.015737058914446, 61.52249486140704, 29.007127715799264], [1038.728181564359, 779.4455068837073, 1117.6406856532742, 775.0120021765309, 1169.1968908754752]], [[0.1849510569326905, 0.19593242319867454, 0.3253687089531575, 0.13775586807945425, 0.15599194283602327], [688.7291382549729, 953.0183325475009, 1049.957809760839, 1248.7252800023398, 1216.2757169104725], [54.77353580591136, 11.780848271216833, 42.0998145096066, 48.02763560308126, 51.95318365803591], [1038.728181564359, 779.4455068837073, 1117.6406856532742, 775.0120021765309, 1169.1968908754752]], [[0.24926799681184553, 0.16398638767801538, 0.2754343267423513, 0.07322891822478561, 0.23808237054300224], [968.2769783158047, 1293.8265683558534, 769.8251303957135, 1075.2348109001462, 995.0119548334717], [23.41087193255067, 55.174778098778894, 42.833462172040214, 85.50240523987597, 51.94438382024272], [1038.728181564359, 779.4455068837073, 1117.6406856532742, 775.0120021765309, 1169.1968908754752]], [[0.2171747516399445, 0.2905261291401197, 0.20081997815187874, 0.20336485283312883, 0.0881142882349283], [1276.0632069936341, 1266.3884560547187, 803.2449362803881, 1460.9423045970016, 827.9004425088624], [48.90898446141587, 10.864560490045562, 59.7763988660228, 69.36187013255548, 65.6167169115812], [1038.728181564359, 779.4455068837073, 1117.6406856532742, 775.0120021765309, 1169.1968908754752]], [[0.2361328154691207, 0.27997830001015117, 0.2350150092670184, 0.03795095449185277, 0.21092292076185687], [1184.0489532375068, 863.4598903467481, 1309.019129452747, 801.6750763015111, 1387.6121258965934], [25.855102978545005, 78.25364261815136, 94.61130656354817, 98.88856188272688, 93.23859603291494], [1038.728181564359, 779.4455068837073, 1117.6406856532742, 775.0120021765309, 1169.1968908754752]], [[0.2873658598667961, 0.2773249861780982, 0.23115786359028292, 0.07878227804515542, 0.12536901231966732], [1056.252275543488, 1199.1650158161601, 767.7464436659326, 1380.2402760110285, 887.455622518152], [55.57504918231419, 57.69075298262945, 63.92632548481438, 107.34931687698105, 66.74313596740464], [1038.728181564359, 779.4455068837073, 1117.6406856532742, 775.0120021765309, 1169.1968908754752]], [[0.1913470064413679, 0.2170114804858972, 0.2046348575424589, 0.21521294484092823, 0.17179371068934762], [1240.4483792275803, 1234.876004742745, 1371.9298477754382, 775.4959137109511, 705.416987009154], [53.3824313003009, 69.55370502876488, 41.499464231612535, 108.2908040477939, 66.52446393764893], [1038.728181564359, 779.4455068837073, 1117.6406856532742, 775.0120021765309, 1169.1968908754752]], [[0.16694020980196947, 0.24691532025129972, 0.3269907318108259, 0.06668254298817021, 0.19247119514773475], [1209.3910222089582, 1008.70387234646, 1051.8038558932803, 1261.3062222003412, 704.2091847152435], [80.52416722658216, 24.29664560537332, 34.2096315508934, 71.22466470896255, 79.60968783719136], [1038.728181564359, 779.4455068837073, 1117.6406856532742, 775.0120021765309, 1169.1968908754752]], [[0.21089297186523798, 0.22236188969054504, 0.2586330449344911, 0.07569878299287437, 0.23241331051685157], [963.7573077107899, 947.077310029857, 918.990857515629, 1393.9146985927523, 997.8246437704411], [35.95722350726953, 31.257153481368043, 35.249815515712356, 68.5867927437648, 72.62848650346254], [1038.728181564359, 779.4455068837073, 1117.6406856532742, 775.0120021765309, 1169.1968908754752]], [[0.1165936669482714, 0.28689944850289506, 0.27066804841363395, 0.1125720832384965, 0.21326675289670305], [687.7641740586135, 1060.835525857372, 889.0192238131888, 1491.2056625272357, 1079.1743374590399], [51.994442834004204, 19.40424574716029, 32.43914775755059, 85.74862268816639, 77.1844382386901], [1038.728181564359, 779.4455068837073, 1117.6406856532742, 775.0120021765309, 1169.1968908754752]], [[0.13480804918695657, 0.29141343274179926, 0.32250359429460923, 0.07155296562848251, 0.17972195814815248], [1203.8261993904164, 1023.5315085377971, 1302.009597054758, 899.65181433675, 685.0425839973103], [87.49250788564234, 58.703123597434384, 57.30876532554635, 102.2312790777658, 98.97554237873813], [1038.728181564359, 779.4455068837073, 1117.6406856532742, 775.0120021765309, 1169.1968908754752]], [[0.26157355936616977, 0.2640520854934109, 0.18403423774461367, 0.15162483545340014, 0.13871528194240554], [1340.3388847026831, 1028.4364351943768, 1360.379296602476, 1421.8316368392484, 1292.5064764475744], [50.8355870118489, 36.2897240388789, 86.8182822623904, 47.08355517874448, 27.964364988299536], [1038.728181564359, 779.4455068837073, 1117.6406856532742, 775.0120021765309, 1169.1968908754752]], [[0.13977659551897237, 0.19396128755094735, 0.29963246153668666, 0.23841178381752218, 0.12821787157587128], [1232.5079135492474, 1155.3243159859003, 1025.8467423562174, 934.2250391185291, 727.4496909650682], [66.44619143748288, 72.43342129342419, 31.982739105961784, 83.4702958904177, 86.49757821682933], [1038.728181564359, 779.4455068837073, 1117.6406856532742, 775.0120021765309, 1169.1968908754752]], [[0.2329578835731301, 0.20521540280697864, 0.1910205284957162, 0.07478689981729889, 0.2960192853068762], [715.2810545718808, 614.3604177015236, 1367.9992635407057, 780.4166829465792, 1081.6126765675158], [32.3151695827074, 54.59400308794968, 106.87835750087311, 91.91771182010739, 35.46045922268061], [1038.728181564359, 779.4455068837073, 1117.6406856532742, 775.0120021765309, 1169.1968908754752]], [[0.34500367831636725, 0.1733147054716539, 0.279306140958947, 0.08568797191531094, 0.1166875033377207], [1166.4934642443022, 1011.9774459586586, 798.583088627928, 1054.7504722118451, 704.3655215084927], [67.09587771581795, 5.6808494118598745, 38.059748639085946, 83.2212757169635, 103.07072484470858], [1038.728181564359, 779.4455068837073, 1117.6406856532742, 775.0120021765309, 1169.1968908754752]], [[0.22543369114295098, 0.1626298019388367, 0.25848859050760975, 0.15847155275696742, 0.19497636365363522], [1318.6521940137545, 753.9252396550446, 824.4752734317682, 1234.5397819470084, 853.9303375079267], [61.95734861440676, 43.149459245948016, 66.13289290599378, 82.79640711859099, 53.32624071902407], [1038.728181564359, 779.4455068837073, 1117.6406856532742, 775.0120021765309, 1169.1968908754752]], [[0.24296421868980006, 0.27275680116707096, 0.2011679844438076, 0.1683127666532861, 0.11479822904603534], [991.0906991145564, 1247.474605907304, 1065.6858994760707, 1270.9857275596369, 1260.294843469379], [76.51797054631739, 62.76389284000771, 50.231039734670695, 112.84524109657775, 43.39071850310666], [1038.728181564359, 779.4455068837073, 1117.6406856532742, 775.0120021765309, 1169.1968908754752]], [[0.2739141192938158, 0.22331802238364862, 0.26925969399450433, 0.08595425826013371, 0.1475539060678976], [1013.3692699433384, 777.4503175708525, 1019.576258951932, 1225.5027294256113, 1295.9693333504827], [57.62316282424508, 82.28152944928149, 98.98570336586117, 78.01349171948912, 89.0581293984351], [1038.728181564359, 779.4455068837073, 1117.6406856532742, 775.0120021765309, 1169.1968908754752]], [[0.16820840163403672, 0.23427541195564136, 0.29564110743857663, 0.1284287709648133, 0.1734463080069321], [1147.9956011884724, 1044.412172913334, 845.226570348434, 1225.4720726078765, 1428.4682587349832], [33.57059965754068, 31.108932029768894, 35.24910473821314, 59.15399260181281, 92.64240054373492], [1038.728181564359, 779.4455068837073, 1117.6406856532742, 775.0120021765309, 1169.1968908754752]], [[0.16621396415274622, 0.23025989263318994, 0.29777102397648564, 0.21714517474371162, 0.08860994449386654], [747.2645492678485, 564.1778883290143, 893.3508625017911, 1125.0817099930227, 1335.114882665358], [60.021396006014115, 63.36015290615532, 55.27376605928312, 57.5553446792426, 97.44359495233331], [1038.728181564359, 779.4455068837073, 1117.6406856532742, 775.0120021765309, 1169.1968908754752]], [[0.2190205366221922, 0.266042827373536, 0.16555650831307836, 0.14782737455759012, 0.2015527531336033], [704.0472877614534, 740.2923550785997, 717.2070733544142, 1015.0317009889895, 1117.1929159081988], [24.681118920283105, 59.350186374167905, 87.53719730353146, 65.31639129110201, 42.29513047884444], [1038.728181564359, 779.4455068837073, 1117.6406856532742, 775.0120021765309, 1169.1968908754752]], [[0.21202780268047386, 0.16097383266429394, 0.27993053991801786, 0.23255722356560415, 0.11451060117161017], [1020.0324118959579, 934.1454172514386, 671.835696378424, 902.9732035705044, 1200.4156989268868], [93.60132583884075, 33.805578890865846, 43.4015138610906, 94.43706401296913, 55.23719422101391], [1038.728181564359, 779.4455068837073, 1117.6406856532742, 775.0120021765309, 1169.1968908754752]], [[0.09311103916384492, 0.3033110282384328, 0.287239100994627, 0.22838755305985076, 0.08795127854324442], [879.5930912867753, 1229.210110296572, 685.9864450745962, 748.6307461740121, 1181.0735723817106], [77.54761427062695, 32.29847248757881, 107.22135911879197, 105.99641088678348, 76.71447157599394], [1038.728181564359, 779.4455068837073, 1117.6406856532742, 775.0120021765309, 1169.1968908754752]], [[0.14025139275534848, 0.18269293594323796, 0.2623819169335804, 0.2597771449930702, 0.15489660937476285], [586.5845701671993, 1059.055300802086, 1087.013337005607, 1467.3493993874683, 1133.8220251682658], [88.04541248932273, 19.581308287897265, 82.4881298634266, 114.78827156658329, 89.15647478575573], [1038.728181564359, 779.4455068837073, 1117.6406856532742, 775.0120021765309, 1169.1968908754752]], [[0.2482493506197221, 0.1732592582405426, 0.1604675429254001, 0.27527885155265497, 0.1427449966616803], [682.4314457081565, 747.8781370672306, 1358.4743284714455, 1408.625839725981, 1051.6473979901903], [91.04180813105772, 8.527409610589686, 70.27635806090778, 69.00510931074567, 46.52980141478338], [1038.728181564359, 779.4455068837073, 1117.6406856532742, 775.0120021765309, 1169.1968908754752]], [[0.20133721829170534, 0.30601958092518505, 0.17430348610321159, 0.176476108363831, 0.14186360631606704], [1283.9474988236027, 956.5165008635764, 683.918743652745, 988.070408300045, 711.9085982492422], [94.28544038993974, 17.979762045333125, 93.30805524989638, 89.62357739009728, 104.16241786574646], [1038.728181564359, 779.4455068837073, 1117.6406856532742, 775.0120021765309, 1169.1968908754752]], [[0.2953694978947552, 0.2449881371948453, 0.29983303776445924, 0.10104291765820411, 0.0587664094877361], [1093.3524432343254, 635.0256251836613, 979.4208948220628, 948.9920221777686, 1348.091020127087], [89.94480627688799, 37.4830395868024, 38.623861494902044, 61.17560366973449, 72.02118346394145], [1038.728181564359, 779.4455068837073, 1117.6406856532742, 775.0120021765309, 1169.1968908754752]], [[0.0973643075400967, 0.3704081979318435, 0.27194802969864906, 0.11133471301550518, 0.1489447518139055], [1301.3625669791463, 683.9954030314307, 1019.0115270535944, 885.3323893606608, 1122.6004344581675], [78.74667207656483, 77.6398924052512, 79.24343455464032, 87.09436904679407, 80.03773323193272], [1038.728181564359, 779.4455068837073, 1117.6406856532742, 775.0120021765309, 1169.1968908754752]], [[0.14732322991790117, 0.14743307441253303, 0.330677417075079, 0.1903640028310698, 0.1842022757634169], [639.1122081190454, 582.8855739235535, 1159.8146029132554, 1176.0543209371267, 1397.1189502945144], [66.32128993726764, 59.28960477332741, 51.142831109897664, 108.74615519014192, 94.2879820278536], [1038.728181564359, 779.4455068837073, 1117.6406856532742, 775.0120021765309, 1169.1968908754752]], [[0.2669280442562888, 0.18488400038584207, 0.2493433679796418, 0.1156739704225199, 0.18317061695570733], [739.1116666120297, 522.3560367009263, 1328.108423991945, 836.9097925817159, 1121.3023171919885], [64.59461590056776, 23.513958894712843, 64.93986090397752, 59.19585723113707, 103.78354325870691], [1038.728181564359, 779.4455068837073, 1117.6406856532742, 775.0120021765309, 1169.1968908754752]], [[0.19921554349432752, 0.28038673729001506, 0.12332516325620667, 0.18468278377157757, 0.21238977218787317], [1185.9197456694046, 577.3891277669486, 950.3517460315097, 1511.9575045357344, 727.291296165228], [68.92570454147739, 52.16770638687591, 38.41233024071969, 112.60661010471635, 97.4946498712838], [1038.728181564359, 779.4455068837073, 1117.6406856532742, 775.0120021765309, 1169.1968908754752]], [[0.15480964610150305, 0.19771140316610955, 0.40406827099251236, 0.06484840411213902, 0.1785622756277361], [1218.8620263837865, 1199.5069980725293, 803.4919700629598, 1492.6370462815864, 1161.2481799840778], [79.65140540122735, 38.921092337354295, 38.13827653574209, 66.79027022132065, 36.7577201226223], [1038.728181564359, 779.4455068837073, 1117.6406856532742, 775.0120021765309, 1169.1968908754752]], [[0.15057309772682392, 0.23520822732871902, 0.20631190238504132, 0.21324653485371628, 0.1946602377056995], [1181.470630544361, 512.4615876473972, 746.635300047582, 1460.833353743264, 803.2496529860691], [99.34038018580928, 45.98222764125721, 63.61012769007955, 89.9691812135554, 60.15675724131639], [1038.728181564359, 779.4455068837073, 1117.6406856532742, 775.0120021765309, 1169.1968908754752]], [[0.18993260951227775, 0.15601921634146249, 0.3260851003061429, 0.243671494934059, 0.08429157890605798], [829.2736466833067, 1068.8744086172258, 1378.7361365349384, 1155.4504318605873, 1204.841571845735], [57.710304510566516, 27.107051069612318, 79.69342544957706, 99.41925304156192, 28.194139223976677], [1038.728181564359, 779.4455068837073, 1117.6406856532742, 775.0120021765309, 1169.1968908754752]], [[0.10678345311572522, 0.19700346834818125, 0.22199073299106323, 0.25677317866613686, 0.21744916687889343], [1115.4505179610237, 1020.3446576048202, 1091.887390051525, 1223.03262333859, 1383.2205340864862], [53.13847250957855, 61.426870393190214, 107.15944048295279, 109.63838713457848, 66.03554122453008], [1038.728181564359, 779.4455068837073, 1117.6406856532742, 775.0120021765309, 1169.1968908754752]], [[0.18921920238827397, 0.21603476860764737, 0.30192655259606677, 0.1015565798283357, 0.19126289657967616], [630.4958873091857, 1192.0417224187577, 1052.1874207644391, 1045.3830263695836, 1265.888261304151], [71.16338061623235, 68.16750965101761, 84.17630738140315, 77.0240882531586, 89.9286188055222], [1038.728181564359, 779.4455068837073, 1117.6406856532742, 775.0120021765309, 1169.1968908754752]], [[0.1851897586430078, 0.20229901171526243, 0.1669040619502709, 0.2215595452426745, 0.2240476224487844], [905.1997568953454, 1203.255808676353, 1246.1227035854768, 1026.644134275532, 1177.9337230892843], [46.34434516968679, 63.64353948795231, 39.249202829050176, 109.8843846665965, 45.72943888815211], [1038.728181564359, 779.4455068837073, 1117.6406856532742, 775.0120021765309, 1169.1968908754752]], [[0.39766529970953235, 0.23887899030018286, 0.19899246036060236, 0.08152853164444027, 0.08293471798524207], [724.420078464173, 1092.7620436083553, 1193.3745764097162, 807.5018176409321, 1221.2193689110977], [68.58069622013315, 45.75106875129713, 82.2490358687588, 96.87219687316315, 99.96009380554129], [1038.728181564359, 779.4455068837073, 1117.6406856532742, 775.0120021765309, 1169.1968908754752]], [[0.2222232581100064, 0.14484950565904534, 0.34270308467772165, 0.10301604814434186, 0.18720810340888488], [1057.8817333424006, 500.08121300393833, 1249.0117758865213, 934.7897116623444, 702.9104210194446], [32.598485290231025, 19.36382451959812, 71.66797955655966, 86.12589141181577, 75.86826930725294], [1038.728181564359, 779.4455068837073, 1117.6406856532742, 775.0120021765309, 1169.1968908754752]], [[0.13724855081307188, 0.2700178737176423, 0.1341879036079862, 0.2511900089622017, 0.207355662899098], [1148.8262799328768, 1085.4329591494343, 663.9873165220095, 1376.286138925003, 1267.5522012418646], [60.915967996379685, 7.019091470711288, 104.38662048530385, 108.3468203832688, 38.44599816565947], [1038.728181564359, 779.4455068837073, 1117.6406856532742, 775.0120021765309, 1169.1968908754752]], [[0.2830140237321487, 0.359500002981204, 0.16968078591327518, 0.13434208622615945, 0.05346310114721271], [817.3000536940298, 623.2586179337113, 1187.0714438423652, 1210.5631135920953, 1354.6689648833858], [83.67437771395203, 44.211040645827964, 82.245136658462, 106.83097750440525, 65.75296973855949], [1038.728181564359, 779.4455068837073, 1117.6406856532742, 775.0120021765309, 1169.1968908754752]], [[0.2915472204550669, 0.3184767471254505, 0.23396729270028477, 0.06255290116348368, 0.09345583855571406], [1221.1394089330952, 586.8861529063323, 961.7162734266274, 1081.9939372110425, 1032.9839507514673], [97.74079871988658, 65.62750658794869, 66.12655005753146, 113.0661790718082, 40.6233135820508], [1038.728181564359, 779.4455068837073, 1117.6406856532742, 775.0120021765309, 1169.1968908754752]], [[0.140344361439303, 0.2971082650314245, 0.18652173341296666, 0.31357776097009366, 0.062447879146212124], [937.8762980452481, 1155.5355928037638, 1041.8224840879698, 802.9847136362926, 756.8616623418222], [41.25122876149727, 5.936078524374686, 38.76584613383774, 54.42481918706893, 61.822314891918964], [1038.728181564359, 779.4455068837073, 1117.6406856532742, 775.0120021765309, 1169.1968908754752]], [[0.13816487268558458, 0.34446522132958823, 0.23078462177986425, 0.23948907625322258, 0.04709620795174048], [1096.4039549292488, 1168.7234843127349, 951.0983267403697, 841.5271202231546, 1192.9233579604788], [22.218034156549606, 24.985412274841394, 37.24933862503656, 69.98708420340829, 33.77300289523566], [1038.728181564359, 779.4455068837073, 1117.6406856532742, 775.0120021765309, 1169.1968908754752]], [[0.26533297737419004, 0.28089234545571806, 0.2873941034724014, 0.055444266864460884, 0.1109363068332297], [1267.1055789777247, 922.8257462448091, 712.473043705466, 1327.8766000069922, 894.7986041750769], [54.961020310509035, 59.34473596825916, 84.66961222758253, 46.89961918223774, 27.983195154206946], [1038.728181564359, 779.4455068837073, 1117.6406856532742, 775.0120021765309, 1169.1968908754752]], [[0.1035273316778009, 0.2747896055580214, 0.307035582123979, 0.048648346822206666, 0.265999133817992], [1268.1471039378096, 1269.3072976196217, 646.2314320146317, 1504.0408891122236, 694.4137896099204], [52.858612337690836, 28.760990273814215, 51.960128454298896, 49.13719921428416, 65.89485374815476], [1038.728181564359, 779.4455068837073, 1117.6406856532742, 775.0120021765309, 1169.1968908754752]], [[0.24388967894878696, 0.25533409608151136, 0.14041190045092372, 0.199166100680649, 0.16119822383812898], [1020.4173801962713, 1165.8040933653665, 731.1120276081257, 897.8513900861926, 1001.5300606450401], [27.74428622187216, 19.40892082115824, 30.00833995474408, 89.93812285653058, 67.1289661085026], [1038.728181564359, 779.4455068837073, 1117.6406856532742, 775.0120021765309, 1169.1968908754752]], [[0.3206812777610825, 0.252514510862207, 0.27400368234582845, 0.10389944887002477, 0.04890108016085727], [1097.3482945617357, 887.5728809434222, 1071.0257596294414, 1034.744166836373, 943.9993979626792], [59.670100707362394, 39.455136458448806, 78.9933422138028, 101.77403785667899, 40.45206572274957], [1038.728181564359, 779.4455068837073, 1117.6406856532742, 775.0120021765309, 1169.1968908754752]], [[0.12664904021173973, 0.30515910640326893, 0.2805168759216497, 0.20810586713256812, 0.07956911033077356], [1085.4797743722602, 973.3577553727342, 833.2196814310711, 1518.5901743014879, 932.5849749067472], [21.830114748643908, 48.255373584013824, 66.70536773266177, 87.11805850112837, 31.978347638823593], [1038.728181564359, 779.4455068837073, 1117.6406856532742, 775.0120021765309, 1169.1968908754752]], [[0.1823626097339527, 0.18608776763762896, 0.23846518512166465, 0.16298629266527528, 0.2300981448414783], [1118.8440239761371, 1105.238816465806, 790.0377865286813, 1347.8507655276117, 767.0828717176541], [78.46146235212079, 55.84315077789252, 91.6022732613529, 113.478153895968, 34.761785870986685], [1038.728181564359, 779.4455068837073, 1117.6406856532742, 775.0120021765309, 1169.1968908754752]], [[0.19243796713867908, 0.21429060457859755, 0.30401781696186886, 0.22944657075679062, 0.05980704056406386], [563.8192215722344, 823.95933855885, 914.9059815493423, 794.8608919380605, 1391.964512044703], [95.54171265696152, 46.91166604732264, 54.83393260277278, 55.556885369104236, 93.79615868759659], [1038.728181564359, 779.4455068837073, 1117.6406856532742, 775.0120021765309, 1169.1968908754752]], [[0.2726212430630055, 0.28741384042257356, 0.22355415406334028, 0.10321615360829486, 0.11319460884278575], [839.0169165494373, 678.2168108405647, 1343.0568613166786, 1335.38407850452, 1109.1928071045863], [47.75952228356737, 31.638398697349118, 85.30962442564034, 103.35882638309097, 88.18614857191233], [1038.728181564359, 779.4455068837073, 1117.6406856532742, 775.0120021765309, 1169.1968908754752]], [[0.18139973306327092, 0.1649632924502703, 0.25072831040775284, 0.22726334418402805, 0.17564531989467794], [1345.8026806806097, 1289.2696139070895, 645.7345590399849, 1399.024769753169, 1389.3692722448884], [58.39606187592214, 45.814701424397654, 66.96539663578287, 62.81739194887973, 85.39256789888114], [1038.728181564359, 779.4455068837073, 1117.6406856532742, 775.0120021765309, 1169.1968908754752]], [[0.2004531772998994, 0.2777627901072947, 0.21429946339648376, 0.11957517599432968, 0.18790939320199262], [1101.2815426489592, 819.9890637445385, 661.7788420220934, 1506.0140006562824, 1374.3581585985016], [35.511974048056715, 75.71720709126055, 91.66299888703206, 74.06598793344614, 52.55320006904639], [1038.728181564359, 779.4455068837073, 1117.6406856532742, 775.0120021765309, 1169.1968908754752]], [[0.28348565800840536, 0.18339213075541924, 0.2744544411790091, 0.19243663506484018, 0.06623113499232619], [1036.0900190254765, 880.4367091471504, 1097.595701566871, 1085.6324463304604, 1188.5832628978526], [75.59224210018854, 76.41281709132886, 64.75352017151822, 63.24084384086404, 46.74027665544201], [1038.728181564359, 779.4455068837073, 1117.6406856532742, 775.0120021765309, 1169.1968908754752]], [[0.21957556483507337, 0.21226023982409256, 0.2384215541059997, 0.11283493923785697, 0.2169077019969775], [1053.5923418009768, 925.8295914979208, 1403.3655421533922, 1422.210800694856, 1116.490467437592], [90.60111321574882, 63.53103571886167, 76.22140959747094, 110.10380545327945, 102.46271085410558], [1038.728181564359, 779.4455068837073, 1117.6406856532742, 775.0120021765309, 1169.1968908754752]], [[0.24117528237707359, 0.19953040579790757, 0.16456575340032245, 0.21361667676759533, 0.181111881657101], [1328.72392452811, 991.1470104457103, 824.9970486649516, 1137.6914857421957, 716.8060447186357], [35.219881229541784, 56.26830095179531, 89.03091300386188, 36.142057608310736, 94.63288563880892], [1038.728181564359, 779.4455068837073, 1117.6406856532742, 775.0120021765309, 1169.1968908754752]], [[0.22280796204336709, 0.20352792673370804, 0.17130680089263176, 0.18832625733083858, 0.21403105299945457], [1056.0910521958908, 1054.4070242883718, 1217.4526553005308, 1414.005799266137, 909.5382909072251], [64.21714407537749, 71.64841817271171, 32.14876682786021, 68.4209029957553, 100.9409680873205], [1038.728181564359, 779.4455068837073, 1117.6406856532742, 775.0120021765309, 1169.1968908754752]], [[0.09795472604452093, 0.26512809168045987, 0.3294613364814936, 0.08021924853728951, 0.2272365972562361], [851.4965057845741, 547.1213411714692, 1086.2472969887694, 1385.7968044087747, 671.1304781198922], [40.829030327846766, 21.703790444908897, 31.610755462956952, 86.07686873472998, 87.2680951562182], [1038.728181564359, 779.4455068837073, 1117.6406856532742, 775.0120021765309, 1169.1968908754752]], [[0.10285729354970395, 0.28864010674442975, 0.21910444812702987, 0.2390129444304724, 0.1503852071483639], [1071.5514030086438, 1172.392946553631, 676.9623347275158, 1351.5574058935729, 765.8547160946293], [27.484768827653284, 69.94415746804883, 107.3964837873137, 43.082989533098015, 64.78551602282323], [1038.728181564359, 779.4455068837073, 1117.6406856532742, 775.0120021765309, 1169.1968908754752]], [[0.1779419190055076, 0.33380625824164106, 0.21093440246342435, 0.052530804786500726, 0.22478661550292622], [1357.9322591657256, 1282.0538740940528, 899.8130692703742, 1413.044515245372, 1337.189034773029], [69.43115995335779, 20.571731418097492, 45.152611441724, 45.52482282073893, 47.1124469083757], [1038.728181564359, 779.4455068837073, 1117.6406856532742, 775.0120021765309, 1169.1968908754752]], [[0.29559455765952314, 0.14874435952400372, 0.3349613974169091, 0.1266197547867002, 0.09407993061286395], [705.0804328625692, 1103.4220704034417, 623.2108933425161, 800.982710704096, 716.5535240427911], [72.05433985620965, 22.79513299436646, 73.61266928169583, 103.4018292771818, 57.32300778556915], [1038.728181564359, 779.4455068837073, 1117.6406856532742, 775.0120021765309, 1169.1968908754752]], [[0.22339036967429493, 0.24664581649039585, 0.2115499458003566, 0.14625947282979246, 0.17215439520516024], [568.8101332708526, 1293.8056621574542, 1073.410927550333, 1212.7348251621156, 655.8612293214212], [76.39971038913228, 24.58327238252119, 82.96952683695835, 59.34129703469025, 29.655632214519684], [1038.728181564359, 779.4455068837073, 1117.6406856532742, 775.0120021765309, 1169.1968908754752]], [[0.20900695371724842, 0.15011409038270687, 0.2703553997533095, 0.15420621384802263, 0.21631734229871252], [1195.320118476158, 995.8079365767517, 1370.9037500395282, 1260.2091052558178, 1420.0852826968176], [98.75401326782577, 44.7421912242018, 44.591298500195435, 92.13614919869883, 47.08458608638884], [1038.728181564359, 779.4455068837073, 1117.6406856532742, 775.0120021765309, 1169.1968908754752]], [[0.2292421419359512, 0.1386912635076574, 0.33332651016812814, 0.2338213799655098, 0.06491870442275322], [1211.5172828743484, 681.735359490676, 806.5993482933073, 1518.5859773355332, 1254.806964429904], [59.3710303974394, 28.39493633335347, 43.79388124091476, 68.28934715052699, 43.97144819819631], [1038.728181564359, 779.4455068837073, 1117.6406856532742, 775.0120021765309, 1169.1968908754752]], [[0.17796556031323615, 0.15034850766417845, 0.2840746305213908, 0.2120019984006869, 0.17560930310050768], [618.8100727129436, 1046.0098422301287, 676.5422252163785, 1126.1875670565553, 1026.1226708899194], [98.17933535299103, 75.53816886106227, 57.88650309068488, 105.62674486247356, 52.71544105348596], [1038.728181564359, 779.4455068837073, 1117.6406856532742, 775.0120021765309, 1169.1968908754752]], [[0.25410082355864355, 0.19850455538472456, 0.1436302613188131, 0.22346620246742557, 0.18029815727039325], [1057.148683572881, 721.7165423794213, 1142.3361791775192, 1261.1360802013037, 1272.6060455404254], [37.30303811273763, 24.430512179897967, 101.09275766005975, 35.59561467092025, 26.096653123972047], [1038.728181564359, 779.4455068837073, 1117.6406856532742, 775.0120021765309, 1169.1968908754752]], [[0.1883418490869979, 0.28012928662054093, 0.3160255964011493, 0.1364648086985246, 0.07903845919278739], [923.1079570157981, 1024.3869489022204, 1181.59448318452, 1513.2774599093207, 1417.7803615912599], [38.81311629658188, 10.955408477763129, 106.9286774153532, 99.10677476933259, 49.98018735639057], [1038.728181564359, 779.4455068837073, 1117.6406856532742, 775.0120021765309, 1169.1968908754752]], [[0.25475200953980787, 0.20831363555147386, 0.2520598142130179, 0.06063966738532847, 0.22423487331037203], [833.7689590540384, 699.4766699111358, 1404.8957996668546, 1102.8706256845187, 837.0478639113367], [27.95906255900627, 62.733767338243204, 63.32018093257397, 98.36414581174776, 99.38135929382074], [1038.728181564359, 779.4455068837073, 1117.6406856532742, 775.0120021765309, 1169.1968908754752]], [[0.263143929951496, 0.1453949227224545, 0.26841911600565926, 0.22799970266200778, 0.09504232865838254], [1078.685958714298, 567.9081819781395, 1304.978918089195, 1511.4022066416023, 1074.697496051143], [80.13375126768425, 25.919795426083425, 50.18229916699248, 101.88666805425684, 52.218458479608174], [1038.728181564359, 779.4455068837073, 1117.6406856532742, 775.0120021765309, 1169.1968908754752]], [[0.18247417213173, 0.22931442663615162, 0.2898230629035142, 0.058589629171301796, 0.23979870915730245], [845.6052815772905, 1180.1924778572725, 933.156849964877, 843.1189612103801, 1006.1576745787842], [64.53109605811052, 35.27085243017631, 39.272391448611586, 68.20085729171178, 40.68802616853978], [1038.728181564359, 779.4455068837073, 1117.6406856532742, 775.0120021765309, 1169.1968908754752]], [[0.28770439155641236, 0.1295800113057989, 0.33078803927988193, 0.1397524776476886, 0.11217508021021816], [1333.8515677832374, 571.5171106832605, 869.1262370297492, 1210.7263676845978, 924.3909527531115], [90.30418064545943, 33.972549954761575, 75.78921284674192, 78.44442664200554, 58.62316277710164], [1038.728181564359, 779.4455068837073, 1117.6406856532742, 775.0120021765309, 1169.1968908754752]], [[0.12080406996921272, 0.21114039805213747, 0.4289343904579729, 0.14058304532697896, 0.09853809619369797], [843.2697734639767, 560.5705726826682, 678.8602377079569, 757.5049845627881, 973.9928462782985], [55.46551886577348, 23.36305865742567, 92.1047472439455, 72.90760750356782, 60.94702214723516], [1038.728181564359, 779.4455068837073, 1117.6406856532742, 775.0120021765309, 1169.1968908754752]], [[0.1541845961954363, 0.29565501761663227, 0.2816933751076348, 0.18055837978399245, 0.08790863129630413], [1149.3372255879576, 653.0739091764708, 1397.593016661297, 1031.2354437448957, 1409.6638859485092], [84.71730167637156, 63.31473852274155, 67.64761266866157, 37.325940542612024, 66.60689361224742], [1038.728181564359, 779.4455068837073, 1117.6406856532742, 775.0120021765309, 1169.1968908754752]], [[0.2761503365820601, 0.15442355558544194, 0.3361552990008341, 0.06902458277986459, 0.16424622605179923], [1265.9413528738933, 1118.4919860131229, 887.0087634146464, 881.9356593487495, 1105.404013042036], [70.4726910052294, 14.896140206837263, 50.944077570105264, 82.33198885722953, 36.66009351706695], [1038.728181564359, 779.4455068837073, 1117.6406856532742, 775.0120021765309, 1169.1968908754752]], [[0.27358608065658313, 0.22988517409713558, 0.18811510062319456, 0.1144966361218864, 0.1939170085012003], [834.684383608, 1096.1475497975318, 704.0615521291984, 1027.4954161601113, 1112.3383470529106], [22.456056398004954, 52.4079318165424, 38.61412768438857, 80.77769505448106, 64.23446288923715], [1038.728181564359, 779.4455068837073, 1117.6406856532742, 775.0120021765309, 1169.1968908754752]], [[0.11212982606613837, 0.17364864315149312, 0.25465463954063705, 0.22542525336624564, 0.23414163787548592], [642.3978688351976, 1091.022016463041, 1075.6611729656627, 928.6004138202545, 775.3300074357411], [65.67175520397001, 38.073200883694945, 56.66567624126918, 111.90475637283883, 87.29787466791278], [1038.728181564359, 779.4455068837073, 1117.6406856532742, 775.0120021765309, 1169.1968908754752]], [[0.1944456680137668, 0.1521114620432357, 0.2985534331090566, 0.1170987148408322, 0.23779072199310883], [1065.1847759696093, 1075.468422018132, 752.7886130181193, 850.3117966754679, 919.351972607526], [71.91533026878795, 13.077400305720683, 44.28972724029232, 47.15771373845287, 51.26128571342235], [1038.728181564359, 779.4455068837073, 1117.6406856532742, 775.0120021765309, 1169.1968908754752]], [[0.25185224592455147, 0.2568822541075162, 0.2031016698702134, 0.1014443724466321, 0.18671945765108683], [1207.451441350703, 836.348403019248, 833.0365865067795, 1012.1169733111474, 927.2170914371603], [87.96201460678932, 46.90025467262614, 105.23987425741224, 113.87245437692135, 30.33235283159744], [1038.728181564359, 779.4455068837073, 1117.6406856532742, 775.0120021765309, 1169.1968908754752]], [[0.2007053370110397, 0.24985222725234763, 0.25730992988362755, 0.2010340337502652, 0.09109847210272004], [961.5866270914497, 1096.343420496838, 898.8865676037126, 1453.523992576144, 1179.7599599555133], [91.75737135527615, 65.68162353563955, 69.4187576571693, 72.15237122171297, 79.05793235281146], [1038.728181564359, 779.4455068837073, 1117.6406856532742, 775.0120021765309, 1169.1968908754752]], [[0.11023352833244585, 0.31278607161263944, 0.2072917536749346, 0.13864986636990292, 0.23103878001007716], [837.6929706639952, 551.6342227918338, 757.3893229264357, 864.0951667708498, 814.8186221193502], [74.29142563894871, 40.055347386599955, 43.9162874982707, 86.76858763004948, 56.4936752445884], [1038.728181564359, 779.4455068837073, 1117.6406856532742, 775.0120021765309, 1169.1968908754752]], [[0.19096155000469692, 0.16185162776596593, 0.21747455217407527, 0.216282741384251, 0.2134295286710108], [613.8864572465529, 1076.595628630993, 889.6247215735476, 948.2059308472226, 1419.1252221766672], [47.35946490086352, 7.2410214066071745, 88.7728730500623, 89.88221805871171, 88.74748486422533], [1038.728181564359, 779.4455068837073, 1117.6406856532742, 775.0120021765309, 1169.1968908754752]], [[0.24039539262213452, 0.35818311075926984, 0.23510526174830837, 0.06091401165784199, 0.10540222321244533], [1304.824298171025, 773.7525374331224, 913.2181238615549, 758.4286256476036, 938.5965316696428], [78.93290254687466, 36.880967203780884, 94.80691829771786, 87.5441557485307, 100.48642277706806], [1038.728181564359, 779.4455068837073, 1117.6406856532742, 775.0120021765309, 1169.1968908754752]], [[0.2727320007411634, 0.20856353940011857, 0.22325861063261015, 0.18862056369106453, 0.10682528553504336], [759.3669756287883, 1182.2430678835317, 1335.4276436061255, 990.4488749511261, 1128.5016661117336], [73.95466883033461, 31.202331278599978, 91.42493827599031, 42.28818648987514, 84.3638038405609], [1038.728181564359, 779.4455068837073, 1117.6406856532742, 775.0120021765309, 1169.1968908754752]], [[0.13714080355582775, 0.21977246110421345, 0.34472828714803083, 0.14321740031862265, 0.15514104787330532], [1020.5441650356938, 1146.4789897925061, 1027.7610368170108, 1257.1130089985859, 1103.1155829021893], [67.7469207693322, 44.577981176631425, 48.743396683865825, 38.5295142329708, 42.286543689096035], [1038.728181564359, 779.4455068837073, 1117.6406856532742, 775.0120021765309, 1169.1968908754752]], [[0.15608770408502623, 0.2861556208215037, 0.31491850532336185, 0.14675357968535968, 0.0960845900847486], [667.2632295549954, 501.4171549870993, 1414.547040092631, 958.0103981893623, 900.0415647075545], [23.826489594597064, 72.54015253872996, 103.15137636247593, 76.36424964575068, 46.163687151016745], [1038.728181564359, 779.4455068837073, 1117.6406856532742, 775.0120021765309, 1169.1968908754752]], [[0.2711668538971069, 0.3155165264582504, 0.14504575925332513, 0.18876777650953086, 0.07950308388178691], [867.5983081099638, 1257.851273518011, 958.9301736787586, 1034.7450145148525, 1117.3353844838578], [53.629844141642984, 26.61115949398477, 97.06712165317755, 37.664919310319334, 49.383771685409634], [1038.728181564359, 779.4455068837073, 1117.6406856532742, 775.0120021765309, 1169.1968908754752]], [[0.10932548608328349, 0.21008915387730764, 0.3116671899199022, 0.20129695496053363, 0.16762121515897302], [600.7776344293902, 517.7506790163209, 1206.196538395312, 1399.3515876676124, 1424.952832794505], [99.8406095975132, 23.37692470860749, 94.51629027768145, 46.25995681089939, 39.1372430976886], [1038.728181564359, 779.4455068837073, 1117.6406856532742, 775.0120021765309, 1169.1968908754752]], [[0.2293305681226659, 0.18372586684622078, 0.21421058492626938, 0.15513029511065568, 0.21760268499418822], [1114.1045583333648, 671.8120083000395, 995.5807860610045, 1441.0064932598211, 827.4981942858356], [39.751410951014876, 48.311321552185376, 46.45482178364478, 91.81037760846286, 71.98195743225668], [1038.728181564359, 779.4455068837073, 1117.6406856532742, 775.0120021765309, 1169.1968908754752]], [[0.23809148089126067, 0.2537558226110431, 0.27195256709824034, 0.15590821566102833, 0.08029191373842764], [1303.7108399867093, 1232.1819790947743, 1262.3323689668541, 791.5795364917074, 1001.4333427338025], [48.71642377000655, 10.051174910570268, 86.7627890797548, 58.71156478441824, 29.28336734582045], [1038.728181564359, 779.4455068837073, 1117.6406856532742, 775.0120021765309, 1169.1968908754752]], [[0.3061485712557873, 0.18025033841435933, 0.25981078590226997, 0.13440428175656038, 0.11938602267102291], [742.561404760486, 874.1903737650971, 1302.1679785590986, 1187.666677748461, 667.0862715807368], [98.11850650208339, 32.367759006320334, 35.57695857590561, 78.94938799411642, 90.36308486695526], [1038.728181564359, 779.4455068837073, 1117.6406856532742, 775.0120021765309, 1169.1968908754752]], [[0.23847429418912797, 0.2513316531555443, 0.1902058049758155, 0.15693004461994822, 0.16305820305956395], [666.8519580913928, 759.3098813047435, 1235.5818879833573, 1389.971617095462, 1051.7984903122665], [93.35951816777602, 5.751602146728835, 58.196836654795916, 61.08558042753957, 52.04769225069035], [1038.728181564359, 779.4455068837073, 1117.6406856532742, 775.0120021765309, 1169.1968908754752]], [[0.12168013164145877, 0.1593586357705172, 0.3082055083835832, 0.2180770362025531, 0.19267868800188778], [759.4029779351981, 528.688540182627, 780.5339745901813, 1520.0014137504759, 890.7542901100542], [59.16056409223436, 73.76984536394617, 43.243279249123205, 64.28588182366668, 90.59038440187061], [1038.728181564359, 779.4455068837073, 1117.6406856532742, 775.0120021765309, 1169.1968908754752]], [[0.19534083548220976, 0.2519743485658822, 0.20989208851263777, 0.18509339730585744, 0.15769933013341275], [1340.5203420447383, 626.7318216196859, 1124.8706068461593, 1366.0082810985346, 962.0198639346296], [53.53219866443694, 82.81453509190922, 99.847260250145, 37.23592442357915, 40.89702226782265], [1038.728181564359, 779.4455068837073, 1117.6406856532742, 775.0120021765309, 1169.1968908754752]], [[0.19840045445987278, 0.2131777499563466, 0.2895905382854092, 0.2273896237557661, 0.07144163354260535], [945.9754966146345, 895.735278522035, 851.8213601997476, 1403.1510502878225, 1336.9265794351745], [77.7972026820103, 27.504993002106968, 70.46066686062014, 43.4538078818109, 29.08870557435251], [1038.728181564359, 779.4455068837073, 1117.6406856532742, 775.0120021765309, 1169.1968908754752]], [[0.1452285767824625, 0.32241261808761507, 0.18577374224761803, 0.18578943703587494, 0.16079562584642954], [750.4362640532737, 944.403440365748, 1069.6439480590025, 1452.7308901746687, 1193.535619292095], [34.1201223002816, 19.843841573778576, 67.30620579789847, 95.00648534301173, 82.36103404525953], [1038.728181564359, 779.4455068837073, 1117.6406856532742, 775.0120021765309, 1169.1968908754752]], [[0.10838280481641817, 0.22274476822364309, 0.37064444834585814, 0.1584359846451843, 0.13979199396889622], [1301.6008571592533, 570.5125643277104, 868.7950138969354, 960.6558309338409, 691.3581660535357], [52.25992407008291, 76.98753265637863, 103.67918558166548, 100.58283646114754, 65.72931818013672], [1038.728181564359, 779.4455068837073, 1117.6406856532742, 775.0120021765309, 1169.1968908754752]], [[0.2939957693801633, 0.1778178071559403, 0.20277607481295465, 0.1518523522400298, 0.17355799641091207], [1028.4432991500641, 783.7926613470584, 1101.2837806191849, 763.9372925897069, 1158.2831691239344], [69.6927880328292, 6.121834248530035, 74.03236943312234, 58.17968398024526, 25.590080795089392], [1038.728181564359, 779.4455068837073, 1117.6406856532742, 775.0120021765309, 1169.1968908754752]]]]\n"
     ]
    }
   ],
   "source": [
    "print(regimeCycle2);"
   ]
  },
  {
   "cell_type": "code",
   "execution_count": 23,
   "metadata": {
    "collapsed": false
   },
   "outputs": [
    {
     "name": "stdout",
     "output_type": "stream",
     "text": [
      "[[[5.3624101383259388, 5.3612168216277034, 4.1090993349586498, 3.7261938567530035, 3.6682476627313219], [6.2829186694180787, 4.5590683570294974, 3.1355657274596429, 4.0960585035301751, 3.1233853171153063], [4.4324652872364574, 3.4464008185819091, 2.7119102339969468, 3.0372806789303977, 2.468341485146138], [5.382034760758649, 6.5336806101783829, 2.6412945357151827, 1.8802934879917768, 1.9154198260085553], [4.3944603697329701, 1.7386959665942197, 1.3963598037384406, 1.6281403027126022, 1.1364189619900615], [7.828618269253659, 4.9927215164205325, 4.6445342037221211, 3.5748387401635155, 3.368674531600123], [5.7300137046398119, 3.4716689404567673, 2.6363991665516227, 2.9959410134674194, 2.4993947115750164], [5.8549863940878897, 4.6367609616537209, 4.5327481687030895, 4.4256177387094446, 2.8529601667698374], [4.8655240428782038, 4.3062625403076531, 3.257619156206931, 2.9066092370611636, 3.2088885731467442], [3.3669929097764282, 3.3566046395985478, 3.2181891234757378, 2.7516709833947486, 2.1315760460285871], [5.6348467939437787, 4.0290552759714444, 3.2676734690859597, 3.3946824299257408, 3.1067999487542077], [4.9159507043547421, 3.7226071944679164, 3.9425752070845776, 3.9271146852326799, 4.3334347975708756], [6.0821958344932012, 5.4906079239162979, 5.2942488937124565, 6.2821381965822374, 5.0883866676821397], [4.3329175014076844, 3.5403623358218135, 3.0157343645771064, 2.5856273632500359, 2.7349411709337761], [5.5218715467170867, 5.1012857766926087, 5.1326444372343927, 4.0424243330115743, 4.1678411122421846], [4.8747955441304152, 5.026459607606947, 5.1230260156254026, 4.1580944565601019, 4.1279655803565065], [4.3858750917834488, 4.6570399490188352, 4.0930410296839987, 4.1608575142249222, 4.3479663485740367], [4.6210734976992942, 4.0055300749436995, 4.0250845044103691, 3.1035814700559978, 3.5503583391259035], [6.6147154605849501, 4.6759192163239138, 4.2824069607005457, 4.1297810074191421, 4.120007592493744], [4.0487126201723482, 3.3715485790988806, 4.0441895536681214, 3.4503742606692906, 3.5045091365183145], [4.6048836082383122, 4.0063477901359734, 2.9318158621437158, 2.2789497674957593, 2.0112765699669404], [5.1798412739759341, 5.4618170696651429, 4.9195353247018074, 4.3534769472590913, 4.1043967572410116], [5.552545217850029, 4.8003609731680505, 3.8028563229881436, 3.1126604127383795, 3.0690208314115091], [6.0043024671526437, 4.5736066699699656, 4.2740931215827844, 4.5472507107455842, 4.0379456744845941], [6.6005003546507446, 6.1931934429731399, 4.1284995423035529, 3.2542882883537922, 3.0270175751471515], [5.974604505396873, 5.594272304475572, 5.1904745542303985, 5.2746733011058522, 4.6177664527948084], [4.2367959698006104, 2.637940306613217, 2.5293655396827615, 2.0937759649407792, 2.6112693253309645], [4.7858549652714126, 4.3653699770386272, 3.9293385246356487, 3.2499285353607936, 3.2396161904715615], [5.4090939415659367, 2.9648940714277856, 3.4684275396430975, 3.30581154956641, 2.344462212029585], [3.6482925318089561, 3.1881899092866686, 2.7314681867268029, 2.631308269806893, 2.3963776756612893], [5.821102237637291, 4.2276606301294271, 3.3198295009118155, 3.7764504694769672, 2.8304774815375873], [5.6610616643943557, 5.1411429288017931, 4.3967538813122715, 3.6865899482098761, 3.8516983694719289], [6.8466333483869422, 6.2775662706153001, 4.9331463970231457, 5.2509238971904848, 4.7945614594216241], [5.9575778688156458, 7.0022558730326132, 5.07465496300164, 3.4318200472822551, 3.1090221242106417], [4.3204508704522633, 3.6120318110580079, 3.2505716045998891, 3.5380781282518212, 2.9965099047973158], [4.0557593216318653, 3.1107815874050742, 2.9867346334676994, 3.0791453678147898, 3.5665376178466288], [5.5711002109836825, 5.3196451508243996, 4.6441846798504596, 2.4143102175019209, 1.8110836045258785], [5.4229930226681056, 4.4011171138008658, 4.6293769914774323, 4.3777790402641603, 4.4614474546936584], [7.687776679548028, 7.9529615138629524, 6.0635211517748777, 4.8122787340690119, 3.3305883075274192], [4.2685834074415929, 3.0810696264018493, 2.1235743327750551, 2.2090745815699315, 1.5371035878924413], [6.1360931276016766, 4.511752127617723, 2.56417651623455, 2.6089957958490664, 2.5637076483001451], [8.3782039666606885, 5.9166259542156752, 4.7201568606242006, 4.4950756556590372, 3.9404716289553146], [6.6528200012367584, 4.2229807005297353, 3.3303480592599617, 5.2737091965446989, 4.797635510066482], [8.0470572872466644, 6.641360721972065, 2.4403944951531917, 1.5922446980118896, 1.666854681105745], [4.9010023176554789, 4.228026738392483, 3.3932014327718232, 2.9552279441292697, 2.9461851283788358], [5.6405215898860934, 4.3363302748684891, 4.0363467543877221, 3.7363826181382986, 3.1909959038032465], [5.6933610064703384, 5.9801384480546407, 5.917345098327611, 4.3977939442572351, 4.8728254909329518], [4.3702928730475517, 3.3154738186958874, 2.6998553221682928, 3.0775152954867484, 2.9491872038285925], [6.4703785215778273, 5.8131781065805246, 4.3530175163344778, 3.9984117728316768, 4.045795411928891], [4.9550098943182475, 4.0512973229723332, 3.8562471935419285, 3.316644535141783, 3.1219680992340249], [5.1172392742499486, 3.5910005006073842, 2.9648679530677802, 2.7289074264185578, 2.3449892297077288], [5.2709476089315395, 5.4384736072641529, 3.0054918096710712, 2.0973510532132176, 2.4499992403159503], [5.910187366533906, 2.9814478405317035, 1.7137394673060853, 1.8366424943511279, 1.8283445331143922], [8.678656911279063, 4.2589059250801, 4.8966710891524317, 4.0198630397109483, 3.7226505966969521], [6.9656470350151922, 6.3708781940852308, 4.8789252994840062, 4.5032377927351686, 5.0314916946306418], [4.4534008066186885, 4.2410708654061331, 3.403431600725344, 2.9753002268516049, 3.0531972971274506], [6.4045455081032072, 6.3864847532195759, 3.9710529431031336, 5.491324282254852, 3.8061380474044251], [5.9266977787881672, 3.9977883918871933, 4.6719334044796685, 4.5258223938180437, 4.028839889223506], [5.0920677121144537, 4.7326719909908581, 4.2856623359088974, 3.7793071170637029, 3.0865341089269536], [4.2252975005597904, 2.7701847761744958, 2.8225715671833456, 3.2513292868191863, 2.6814784150830353], [5.3440604916154468, 4.2640434423897764, 3.7355924597640757, 3.4967050327590892, 3.2039173368723501], [5.9422873953023059, 3.9560002542802821, 3.8321901222692185, 3.7355048716851726, 3.2769246572532627], [7.2409594532849804, 5.1545837474075187, 4.9814835652017981, 3.5930929053712934, 3.8407090653728284], [5.4415935370142074, 5.2300990907250426, 4.3344091504809521, 4.4379482332249935, 4.1690109815793823], [7.0961506390359812, 6.9004625320276451, 5.2197821658255537, 4.6929868457493447, 3.96853450705223], [5.8467257041852081, 5.5845344174930096, 4.7271797364473525, 5.0075578687116602, 3.8096701911871707], [5.4684387537339383, 3.0562987788833271, 3.3330650923025464, 3.2187515996634497, 3.1423007298872392], [9.2687554111076835, 6.8359735541487536, 3.7937445843387994, 4.3004174938905528, 4.4173847252444922], [6.9324176989105295, 5.4550388206732476, 4.3842047174704879, 4.0590481420505808, 4.2640318227658662], [3.2545255258751156, 4.0500142474555778, 3.522522172723201, 2.1946171635049283, 2.5050677204318421], [3.1865097442494745, 3.1792795800986289, 2.7413798666508979, 2.3355671691199622, 2.5953602390211037], [4.9529574730037966, 1.8686235162355047, 1.8196642196917918, 1.4556946094681165, 1.5654262525713718], [5.6926356610161584, 4.7958240010884161, 4.7079191461626682, 3.2742419629976762, 3.9827367602212571], [4.2252066051790482, 2.5600107078931549, 2.7251436628573611, 3.0095113643705393, 2.2067581792601203], [7.4147207533662796, 5.0398422555581019, 3.0923759779397333, 2.5595195320732991, 2.5943437818761805], [5.4866393572865748, 3.6416158320846779, 4.024162870024476, 3.0798732129660653, 2.980974632831344], [5.960798557057303, 4.8860152168481514, 5.1318168027079922, 3.2705264284960482, 3.3816931499417828], [6.8820824219096632, 6.2988630347125412, 6.4394792288195495, 5.1382966590407761, 5.8811911996326502], [6.9336626278300146, 4.0073772302348765, 2.7203696703978313, 2.4220992707627063, 2.4205312236554719], [4.5092213357178075, 5.3411782170684967, 4.6119574094632503, 4.202232035636678, 4.0798731226473794], [5.4112602555940041, 3.3009057867175233, 3.6152136772363921, 3.2306687214682577, 3.9747858904998483], [4.7816365078632099, 4.6058929666413544, 4.5423622781127895, 3.0367135132219665, 3.0330958358685702], [4.8386387608429882, 4.5973875229820074, 3.2911822558797796, 2.9953728647584223, 3.1492811360439039], [6.0833214403041938, 3.8433236164186142, 2.4431890087797483, 2.8775022623393531, 2.4505200410230379], [4.4401721557494787, 3.396643804677475, 4.2844261465605431, 3.6018929060719604, 2.9601178249545335], [9.0221852416731121, 6.1067989632443345, 5.5123030065938519, 5.0573925281109124, 5.6969414256482729], [5.7006444827488707, 3.8646426089227188, 3.7734079459378673, 3.4787894385280511, 3.2265671174685893], [5.6671809281369425, 5.3870196566969915, 4.55878565745728, 4.9989143299040233, 4.5365356489030884], [6.2387251036299558, 5.0969563504866899, 4.4841545368784104, 4.7451639791881783, 4.6584300733770601], [5.5654997637920181, 3.7419309202970146, 4.0700691300149909, 4.0625514502905622, 4.1804957074746456], [5.7110962215902523, 5.152122971998085, 3.3724659394984431, 3.4469998526948191, 3.1555734134126836], [4.5274473594469944, 3.2608719113730129, 3.6631184254661338, 3.2371084354778357, 2.6505122762736981], [6.025234682941643, 5.1485983011650243, 3.4396662729889602, 2.8428130317456382, 2.8265175167154104], [4.4204733515897701, 4.328704331103606, 4.2077740029546895, 4.1384313132299262, 3.265007553127909], [3.1777810347722268, 3.0644238788671876, 2.7988173427809615, 2.8385902051996843, 2.5296046054884727], [6.7327357090447242, 2.7527551207553431, 2.7822817868868461, 2.2808361934126604, 2.2593064502477085], [6.5223770932415421, 3.7779549075907006, 3.1094746636665374, 3.2286542637299109, 2.9579877126970389], [3.9289726517400316, 4.4243427589492672, 2.8554124581845062, 2.8456176747651196, 3.110949846397681], [5.2376424792963174, 4.5900882999338277, 5.2596628999157842, 3.6077201114440869, 3.7265160634561503], [4.8804892357077039, 4.3329576260714706, 4.2883345254464631, 4.5100354723552378, 4.0969027650482515]], [3.2695088048719088, 2.7911157616331965, 2.5673512801385021, 2.0171003237996086, 1.3188606079394338, 3.1645596156130478, 2.4291139196547253, 2.6915214704554549, 2.6824564966631814, 2.4584219034649641, 2.7972321963693689, 3.6366637232766097, 4.9533621910312293, 1.7606484085296179, 3.6132735323406111, 3.9640832841349987, 4.0876186659492841, 2.7112927679008152, 3.712937207370218, 3.0318650273770689, 2.3015798075985741, 4.4302938033601729, 3.340787628026197, 3.7980257978945069, 2.6445287545643001, 4.6895169883561758, 2.4842517909698998, 3.3086984578610781, 2.6986381183515697, 2.3357163997037413, 2.992183478235217, 3.3449879481771472, 4.5602086057859861, 3.21118197216741, 2.9634913991388121, 2.9774596832135223, 2.040024192161598, 4.0830344248899273, 3.5423881502849262, 1.8864186093102822, 2.373230579729265, 4.0530958481633119, 1.5947106622461211, 1.7742243839366831, 2.5101221802570257, 3.0034902938236816, 4.7846961189366235, 2.5094609276042399, 3.8997038329621199, 3.0335274625680331, 2.3534951888799158, 2.1348034401178881, 1.6220676482511693, 4.5602178636588553, 5.0325956877838065, 2.9721015203752348, 3.7789100626273062, 3.8645984612727085, 3.2487152149400504, 2.8836761210830515, 3.3161722344167175, 3.1082174407452521, 3.2055802395662472, 3.4103637250772048, 4.1946007019580387, 4.0062938645529842, 2.9278698878630713, 4.029861419530274, 3.8251116744609521, 2.6144726163939334, 2.3900687504452311, 1.5522917148021251, 2.8468649771831465, 1.4902652049917635, 2.6078248828011654, 3.0014673344864513, 3.517781088865382, 4.8216663904606634, 2.184585248382815, 4.0940811483267057, 3.3825242818838541, 3.4438992905812369, 2.9484157522003316, 2.0003890838343494, 3.1127620120541217, 5.1292357378040005, 3.0156506463143549, 4.4113901880908033, 4.0620565827962167, 3.9061556512104123, 2.9886420012088881, 2.8021460739587583, 2.6720837308332279, 3.4885416033311971, 2.6336039968808209, 2.1251166742737935, 2.9095117456133721, 2.580661587860706, 3.1263575967373245, 3.971800027593388], [[[0.1992139271182211, 0.1913071670443079, 0.2066203761033491, 0.18517130507913449, 0.2176872246549875], [763.237418782658, 985.7689758557655, 1040.5547063915174, 1224.8911445259635, 763.6233589039124], [67.12808920130576, 36.08575390408279, 82.13037761512057, 47.45229627285614, 87.78501973514771], [614.0188279855441, 721.0096771415839, 1053.7203336276261, 1004.7421747256411, 961.1339043482665]], [[0.2373917664704367, 0.18669995391645192, 0.19450267455954875, 0.1368006641135552, 0.24460494094000748], [877.8214034169265, 1097.9276898177413, 1268.3955067781753, 1467.1645506424475, 1020.0758886888664], [65.88409184506918, 81.20498170037449, 52.3633517747716, 73.71766886160671, 69.98513104835666], [614.0188279855441, 721.0096771415839, 1053.7203336276261, 1004.7421747256411, 961.1339043482665]], [[0.1666185645601575, 0.27834286081672693, 0.3010300943599387, 0.14012868528257014, 0.11387979498060666], [614.4837533482978, 881.7056579969587, 796.3229590159472, 1266.585953651182, 717.7247385458087], [58.01701107760482, 44.669261474309785, 52.97503497058634, 75.94067525716265, 91.00709587319965], [614.0188279855441, 721.0096771415839, 1053.7203336276261, 1004.7421747256411, 961.1339043482665]], [[0.2395491638573826, 0.22293517957629497, 0.2356800649651313, 0.12589017652048248, 0.17594541508070854], [860.3037004563812, 571.0763362712303, 835.937533660069, 852.5250811140531, 1359.531597221704], [77.73998793356763, 64.99444410368173, 99.0552783216355, 41.0718472174929, 45.54991284561452], [614.0188279855441, 721.0096771415839, 1053.7203336276261, 1004.7421747256411, 961.1339043482665]], [[0.20278232493824325, 0.1384197558429263, 0.27932592294899933, 0.22752351541560967, 0.15194848085422136], [797.8690500710909, 622.8445649883311, 1006.8026557098417, 1328.4279863507259, 708.8271902020861], [33.90610835441286, 77.96018052767502, 36.13154982339698, 99.79941245828519, 43.559412522580274], [614.0188279855441, 721.0096771415839, 1053.7203336276261, 1004.7421747256411, 961.1339043482665]], [[0.12379016114147152, 0.20152833863494593, 0.21465435903274022, 0.24187866230386473, 0.21814847888697766], [571.9571606097999, 1246.1401544822947, 642.6628609660381, 1389.6613607027641, 1121.9533228159135], [32.329289437138684, 51.69476333599298, 61.9458249210582, 74.43925696189363, 66.00829204383348], [614.0188279855441, 721.0096771415839, 1053.7203336276261, 1004.7421747256411, 961.1339043482665]], [[0.22506616580884153, 0.32443045871775894, 0.1599969983611723, 0.0630962643475991, 0.22741011276462816], [934.7884694339382, 597.9724088615891, 1109.9905864327702, 1319.4070554322052, 1039.4220458084428], [65.25628655606127, 44.677627260236726, 48.81606715873458, 66.76607714179593, 26.018908766268048], [614.0188279855441, 721.0096771415839, 1053.7203336276261, 1004.7421747256411, 961.1339043482665]], [[0.13441267575109242, 0.3001969983703978, 0.23519307023766511, 0.1790332540408199, 0.15116400160002486], [1113.344233277387, 686.9320680886426, 634.2389267222472, 908.1895364707716, 1288.739858878388], [44.153499488662895, 43.33491093733493, 64.97227795628461, 83.98142238605378, 100.03840932032665], [614.0188279855441, 721.0096771415839, 1053.7203336276261, 1004.7421747256411, 961.1339043482665]], [[0.18231825807378782, 0.17981753269943787, 0.23391370702394423, 0.1893941641568695, 0.2145563380459607], [1283.4890831106443, 528.4048073802866, 1137.0109867014266, 984.2358842850606, 1445.3410938504612], [92.30042773015153, 73.80819683172255, 80.61128777524713, 112.20613856383152, 30.29350075562239], [614.0188279855441, 721.0096771415839, 1053.7203336276261, 1004.7421747256411, 961.1339043482665]], [[0.12181136240011442, 0.31018315649794953, 0.3361560072649921, 0.058908899486327625, 0.17294057435061636], [1218.001020044986, 721.2493793361011, 1291.5234872010085, 941.6606867174717, 971.5815921666373], [43.98193733019035, 55.25030313769801, 99.37394495697176, 37.9431923691736, 62.39122602387454], [614.0188279855441, 721.0096771415839, 1053.7203336276261, 1004.7421747256411, 961.1339043482665]], [[0.23180499029899115, 0.2182297358933516, 0.24724463320352544, 0.18921670892203823, 0.11350393168209374], [941.8817642685717, 877.1590967912848, 710.2746760250235, 1380.9157136531724, 1043.6413024015808], [90.44891648430526, 23.318131648593685, 93.96758665964154, 59.519703658305765, 33.392271728321425], [614.0188279855441, 721.0096771415839, 1053.7203336276261, 1004.7421747256411, 961.1339043482665]], [[0.12403152966258499, 0.17862452799186454, 0.2740954306804893, 0.21320275172692243, 0.21004575993813868], [1141.8254391939054, 1089.7268475898109, 1165.1289425734344, 1318.3844925417488, 1027.232088315883], [81.51141362457226, 31.657240344627287, 68.40181856927114, 57.399112458736575, 64.50033353953626], [614.0188279855441, 721.0096771415839, 1053.7203336276261, 1004.7421747256411, 961.1339043482665]], [[0.14024704150153364, 0.31970440776159337, 0.2036284625539693, 0.15437673533793217, 0.18204335284497156], [1259.8486791579653, 1049.873915143783, 1212.5924858651692, 1300.1325781739574, 1305.0901548486363], [32.11413399803935, 11.389210955398433, 43.224954579288124, 89.62475045140272, 103.17071938317461], [614.0188279855441, 721.0096771415839, 1053.7203336276261, 1004.7421747256411, 961.1339043482665]], [[0.3237418249074033, 0.221428424740721, 0.14953723100362712, 0.217141516612928, 0.08815100273532074], [709.0083621177107, 620.8346242589107, 642.3971064600191, 995.6463638677328, 1261.2880250881633], [47.16308040969264, 37.159058501673826, 90.82952845984383, 40.89070932300867, 34.70889952677961], [614.0188279855441, 721.0096771415839, 1053.7203336276261, 1004.7421747256411, 961.1339043482665]], [[0.17733777634554537, 0.16144666999814872, 0.39648617764727, 0.15376102662024396, 0.11096834938879195], [714.2698839726309, 1111.4149975571358, 1378.2841570862652, 1341.5508087149624, 691.2060333581825], [37.42200086378941, 63.79110413125047, 75.83601982048998, 71.72156128368157, 49.19970756243087], [614.0188279855441, 721.0096771415839, 1053.7203336276261, 1004.7421747256411, 961.1339043482665]], [[0.2128960943134135, 0.24751717742298995, 0.1457927652944882, 0.18425100064448807, 0.20954296232462027], [1207.2878097311636, 806.6343821103196, 815.6353762811655, 1166.8717244412055, 1010.0136658672834], [86.04454492688379, 56.43360538214924, 86.3139643497118, 72.58819721003057, 52.06293289450165], [614.0188279855441, 721.0096771415839, 1053.7203336276261, 1004.7421747256411, 961.1339043482665]], [[0.22514625762395668, 0.2308848367521667, 0.26013395942878514, 0.18015751398058344, 0.10367743221450806], [877.2549822304519, 956.4833207806871, 627.3981863459917, 942.5000842913606, 942.3826403572843], [62.6561033140834, 22.29713542507941, 108.46271720795716, 74.103414521251, 77.14323628466391], [614.0188279855441, 721.0096771415839, 1053.7203336276261, 1004.7421747256411, 961.1339043482665]], [[0.21499514417025856, 0.22729160522058278, 0.25555110174690837, 0.07104095422109866, 0.23112119464115158], [1029.9563980136363, 857.2368002066161, 783.7690453138352, 1081.8384314583022, 1186.8613287084204], [21.42376613139311, 7.257883905295728, 99.68964442840543, 99.67788690966705, 32.592048896189326], [614.0188279855441, 721.0096771415839, 1053.7203336276261, 1004.7421747256411, 961.1339043482665]], [[0.3321076241845395, 0.21870436490550774, 0.16516353667511716, 0.11437460573844194, 0.16964986849639357], [848.0911502218903, 1231.7749550002509, 1379.2493883513116, 1339.2629720572647, 969.3155173881681], [52.09794047645233, 33.94785387645907, 57.130297940316495, 62.72617595632874, 49.892976761077406], [614.0188279855441, 721.0096771415839, 1053.7203336276261, 1004.7421747256411, 961.1339043482665]], [[0.1305951116724927, 0.2605910604978682, 0.2859038055440367, 0.12524740575855484, 0.1976626165270477], [848.5815036616597, 1218.5848164082713, 802.1582278133901, 964.6614439336754, 1041.3097294855997], [24.919554301885675, 64.93783096679705, 40.313361329217166, 96.49155852468465, 43.243668732874085], [614.0188279855441, 721.0096771415839, 1053.7203336276261, 1004.7421747256411, 961.1339043482665]], [[0.1527239377104509, 0.3672320505514488, 0.284847294665452, 0.12942077978307945, 0.06577593728956871], [576.0621728109154, 731.6628103341196, 1328.2415106797034, 1271.086860057583, 724.1357956026116], [43.478783369375705, 21.28563463571764, 41.560303499344215, 76.08444499145361, 43.72133244951462], [614.0188279855441, 721.0096771415839, 1053.7203336276261, 1004.7421747256411, 961.1339043482665]], [[0.21040586409848971, 0.19913601352283528, 0.30436692989453246, 0.10960909343652783, 0.17648209904761467], [1145.3690937016195, 919.8477424983075, 985.208702445124, 1151.8898809434554, 1076.6239873007721], [77.29390574961243, 61.95767264717681, 59.93581150276618, 99.43098977616468, 31.44479957695785], [614.0188279855441, 721.0096771415839, 1053.7203336276261, 1004.7421747256411, 961.1339043482665]], [[0.14717464204320982, 0.1846695512174618, 0.18872862341906863, 0.22573366963360894, 0.25369351368665066], [847.8969811301533, 1260.2407462253432, 709.4224362525638, 923.5137563028924, 851.6925047345544], [78.27957511125888, 21.670684780053833, 107.18767851509854, 105.02442705303301, 35.70735539706979], [614.0188279855441, 721.0096771415839, 1053.7203336276261, 1004.7421747256411, 961.1339043482665]], [[0.1708493229294944, 0.3802461100295792, 0.31152471090041656, 0.0684075761288154, 0.0689722800116944], [1332.4844867480892, 852.7181708643561, 923.1595120597274, 1376.0526607438305, 1014.4480182200604], [59.145384366839565, 62.97921703032514, 100.39162321811727, 91.30110836660072, 58.99553933881585], [614.0188279855441, 721.0096771415839, 1053.7203336276261, 1004.7421747256411, 961.1339043482665]], [[0.2787038429029024, 0.2790943306695301, 0.18093226621900982, 0.0921326774043311, 0.16913688280422648], [623.9629277607958, 962.085901316418, 1014.8656427342854, 1482.797108220479, 1233.412093546765], [73.75521381264048, 14.792676223437049, 57.97079447164953, 59.77532964867217, 88.20078025661932], [614.0188279855441, 721.0096771415839, 1053.7203336276261, 1004.7421747256411, 961.1339043482665]], [[0.15037841938635269, 0.22854140690101252, 0.2831197432975055, 0.15202375136142496, 0.18593667905370428], [1325.3544720649002, 1040.2752595127854, 881.7373253034496, 976.0577682744654, 1355.8872787211394], [90.58471124031252, 35.915187307489504, 62.5336828574503, 61.07805724116811, 80.40170441752929], [614.0188279855441, 721.0096771415839, 1053.7203336276261, 1004.7421747256411, 961.1339043482665]], [[0.14205867215853976, 0.27916568883706944, 0.2848060839315045, 0.05419272111043556, 0.23977683396245064], [1028.0295525382862, 790.3628562421179, 1034.3428920140263, 1043.8058064043591, 795.7541503059892], [78.35407695978242, 52.64033431590323, 93.33864579508764, 103.13992410594109, 100.66081851166724], [614.0188279855441, 721.0096771415839, 1053.7203336276261, 1004.7421747256411, 961.1339043482665]], [[0.1908896320191679, 0.1729289959940982, 0.38080281913780595, 0.08590647625393723, 0.1694720765949908], [794.5167404289894, 589.7848368786142, 1026.8145258287766, 1251.1980686529353, 1069.4064120347725], [72.6901245427932, 17.62743597598023, 86.26441928869517, 48.5828031507371, 81.0048157639992], [614.0188279855441, 721.0096771415839, 1053.7203336276261, 1004.7421747256411, 961.1339043482665]], [[0.1320798658595036, 0.2904232328422092, 0.2734544609505205, 0.179372915146755, 0.12466952520101163], [1007.5501456345737, 555.4525046014118, 1019.5839453359388, 1006.8798643701267, 1271.6994126687441], [26.499454548168664, 35.55141975503486, 50.54960028507927, 71.42515926354761, 93.12484898539151], [614.0188279855441, 721.0096771415839, 1053.7203336276261, 1004.7421747256411, 961.1339043482665]], [[0.2040651404819411, 0.2243618702619321, 0.2550864087404133, 0.12483820216523556, 0.19164837835047802], [775.9587490122185, 722.9182978438936, 881.5153491917106, 881.4547049841638, 1117.7111246348404], [47.25120862819435, 11.256906573723846, 44.38984661240701, 72.40824094306632, 38.317807782928185], [614.0188279855441, 721.0096771415839, 1053.7203336276261, 1004.7421747256411, 961.1339043482665]], [[0.11946680563609084, 0.3732199237082934, 0.2174782195137675, 0.15184971079362047, 0.13798534034822793], [834.0318489072879, 1039.0439802087799, 1130.423716974467, 843.5232973655518, 1265.837075794977], [86.12658922240652, 7.202646766584252, 73.65868969681117, 89.88786452730069, 74.33243726761859], [614.0188279855441, 721.0096771415839, 1053.7203336276261, 1004.7421747256411, 961.1339043482665]], [[0.17424998281210222, 0.21274941966101776, 0.2784518444470095, 0.10614874947516734, 0.22840000360470322], [607.1698391722332, 1172.4938373102664, 1006.2382494723265, 854.1958670538685, 926.4930859495621], [86.70036606125656, 55.975025780013645, 38.90938529247224, 74.41951615744934, 68.35043759271687], [614.0188279855441, 721.0096771415839, 1053.7203336276261, 1004.7421747256411, 961.1339043482665]], [[0.11322742244638744, 0.2657019108471444, 0.15776683488559298, 0.22640887323028305, 0.23689495859059204], [673.5435780654486, 512.8400095822411, 1204.612803691607, 1102.015782160404, 1127.0822673616321], [84.35441422894723, 26.586023761515783, 78.59870837939039, 42.16750722865439, 80.250355653503], [614.0188279855441, 721.0096771415839, 1053.7203336276261, 1004.7421747256411, 961.1339043482665]], [[0.17633478695629637, 0.33600933585664816, 0.24313112950710186, 0.1591695451833582, 0.08535520249659546], [642.2826615199331, 1155.1751850090502, 1200.9921597396255, 929.2715339725236, 883.0793465192625], [97.80784472922744, 10.815407721409201, 102.88950879980436, 59.11341160056115, 53.92593700616277], [614.0188279855441, 721.0096771415839, 1053.7203336276261, 1004.7421747256411, 961.1339043482665]], [[0.2674873754480883, 0.18494840104091795, 0.2795189037752379, 0.18478963641487306, 0.08325568332088287], [1261.111112380581, 549.7078709393872, 1100.122722291698, 1153.3084919578519, 857.7954683507635], [38.05181203535278, 74.9855027594376, 42.18972650568893, 89.74714906051466, 54.72001463006851], [614.0188279855441, 721.0096771415839, 1053.7203336276261, 1004.7421747256411, 961.1339043482665]], [[0.16561540410760706, 0.16867163000651306, 0.39072829613215593, 0.06359755767090115, 0.21138711208282282], [1022.0639297461016, 900.6100829251855, 1102.6784960746245, 944.9375108412974, 835.846117902503], [70.92554795170838, 69.62304900774734, 59.011295328433434, 44.33254178990664, 85.73279851770151], [614.0188279855441, 721.0096771415839, 1053.7203336276261, 1004.7421747256411, 961.1339043482665]], [[0.2903835928492134, 0.23438782013663528, 0.22636618025072475, 0.06267462450494841, 0.18618778225847815], [663.967569845016, 1149.1484048741777, 965.7607881656925, 1376.7127051839448, 719.4046616566268], [61.433443938335245, 17.788986914318325, 44.48123031116619, 96.38765265304896, 59.17454749209057], [614.0188279855441, 721.0096771415839, 1053.7203336276261, 1004.7421747256411, 961.1339043482665]], [[0.21067040724923228, 0.2523568127705215, 0.2045525388722912, 0.10822198830151757, 0.22419825280643746], [1235.8272674856737, 770.1700410970195, 1067.87840861718, 1119.66255735286, 1071.506179901708], [94.5193261349542, 58.37265031217676, 59.75072522235038, 80.41304399230157, 44.91036185968258], [614.0188279855441, 721.0096771415839, 1053.7203336276261, 1004.7421747256411, 961.1339043482665]], [[0.11287648660145894, 0.2264954359653002, 0.24480368766945365, 0.2485700830453027, 0.1672543067184846], [868.8848338604089, 1211.458379251555, 821.6162340589349, 1537.2644912049252, 1442.779433322373], [49.66721562376644, 5.238389149751825, 78.35823348403952, 50.849695706802294, 37.20039877153872], [614.0188279855441, 721.0096771415839, 1053.7203336276261, 1004.7421747256411, 961.1339043482665]], [[0.13698337749833328, 0.27367495416701587, 0.31551811294608023, 0.10140276428362, 0.1724207911049505], [839.7181105700378, 1154.2305713253343, 780.9968875221329, 1420.90936728305, 717.3093669378704], [26.075717170449494, 26.37777876383477, 70.82507487451558, 71.48370726914999, 51.62766596403375], [614.0188279855441, 721.0096771415839, 1053.7203336276261, 1004.7421747256411, 961.1339043482665]], [[0.2598745920663708, 0.13317236158609524, 0.15349651798375022, 0.23252681678753906, 0.22092971157624466], [1133.5268813719995, 601.0068852802754, 1228.3310146849944, 862.4837754057909, 1073.7884449280277], [30.63900422654159, 61.648513352431166, 75.86696514608866, 40.12565084669728, 30.24560139962861], [614.0188279855441, 721.0096771415839, 1053.7203336276261, 1004.7421747256411, 961.1339043482665]], [[0.20057466924305484, 0.27782428532025477, 0.21614086087332604, 0.18183057577298858, 0.12362960879037567], [1088.2063659719884, 1097.6821763855532, 1376.8550731714845, 983.3340761815335, 955.401927525736], [45.38091557725771, 6.791179150445558, 74.71581208064411, 77.12392877579649, 55.95600263530332], [614.0188279855441, 721.0096771415839, 1053.7203336276261, 1004.7421747256411, 961.1339043482665]], [[0.1797134914503278, 0.25877285525183236, 0.23268060636568905, 0.1330982721576479, 0.19573477477450293], [675.0602478857852, 613.793078678423, 795.2931281945553, 1269.5994005577286, 1089.1148950163397], [31.3184815463704, 8.218954542785319, 33.433272248285284, 47.94490041268669, 56.808104572615214], [614.0188279855441, 721.0096771415839, 1053.7203336276261, 1004.7421747256411, 961.1339043482665]], [[0.18962527969300663, 0.30701038705845424, 0.26133313262455127, 0.12639703924501097, 0.11563416137897693], [745.289334976379, 1199.655968333178, 650.9677906157194, 1360.2876526374203, 651.2395450164104], [86.84653438411902, 10.051448320180128, 102.97690054999674, 59.267374307355254, 62.996103309559366], [614.0188279855441, 721.0096771415839, 1053.7203336276261, 1004.7421747256411, 961.1339043482665]], [[0.2745187423486499, 0.24444541403815073, 0.22980535697097887, 0.2025805323975983, 0.0486499542446224], [695.6998004943401, 1128.561656554981, 892.5238795943256, 1194.7494677317266, 925.1077026332869], [28.929398744716313, 5.357267135849597, 76.56553854343828, 65.63804917367185, 53.7522439210501], [614.0188279855441, 721.0096771415839, 1053.7203336276261, 1004.7421747256411, 961.1339043482665]], [[0.30673927212268925, 0.19475446434865323, 0.334060473857492, 0.08112785080473094, 0.08331793886643445], [655.5869533470877, 869.193147995031, 923.243996012861, 1072.5858217856173, 778.0365357373057], [97.1283158294244, 63.947215027902715, 33.153487185759296, 103.90550230574809, 53.63346643880503], [614.0188279855441, 721.0096771415839, 1053.7203336276261, 1004.7421747256411, 961.1339043482665]], [[0.17094811812149155, 0.2528337416743969, 0.2858559280899473, 0.12491870157089734, 0.16544351054326692], [1137.2846888111671, 1164.5101893153794, 655.3715518653119, 1234.2662933732965, 690.931323528758], [48.37654577656085, 53.167473124179054, 51.66533523940092, 81.13953723122881, 63.542531428325965], [614.0188279855441, 721.0096771415839, 1053.7203336276261, 1004.7421747256411, 961.1339043482665]], [[0.10461381248232887, 0.26163217739256356, 0.23916983513327142, 0.20466831794110754, 0.18991585705072858], [631.3605177188618, 798.659155380772, 1404.4072464644657, 1211.5584142862697, 875.7332343104279], [76.19318426737075, 26.107231677162623, 100.83292641783191, 105.63033814873984, 83.21647675923532], [614.0188279855441, 721.0096771415839, 1053.7203336276261, 1004.7421747256411, 961.1339043482665]], [[0.2977242910616991, 0.2438644905815939, 0.27902468302166883, 0.08896061484283842, 0.09042592049219988], [897.9664538128351, 1139.000451977864, 1073.9966524109727, 1476.0115420718694, 915.9276891193795], [35.35420301099922, 62.525715905822594, 79.33291702944399, 108.83476269900848, 54.82065104184847], [614.0188279855441, 721.0096771415839, 1053.7203336276261, 1004.7421747256411, 961.1339043482665]], [[0.13535725020524805, 0.2349578761747056, 0.34071000953406594, 0.09324443832524795, 0.19573042576073238], [721.159080923396, 752.7969188346003, 669.1304097366262, 913.0926392211427, 1129.0696649749088], [37.04650059157204, 56.546663481346535, 84.88035509500722, 84.42838797063747, 70.05477947822118], [614.0188279855441, 721.0096771415839, 1053.7203336276261, 1004.7421747256411, 961.1339043482665]], [[0.2538409081466836, 0.17440143123285298, 0.19820278841682284, 0.16778732306422545, 0.20576754913941514], [908.3194704682394, 516.3121514513773, 1020.5404925796777, 1328.5392548998207, 827.9406585631365], [82.94662669839298, 15.289931543776625, 104.92359228461547, 96.51229849371319, 41.39026029021173], [614.0188279855441, 721.0096771415839, 1053.7203336276261, 1004.7421747256411, 961.1339043482665]], [[0.24252870166464854, 0.26438739397659355, 0.20721916449751196, 0.04339049629716512, 0.24247424356408093], [856.4648103718747, 615.3677150416315, 965.6879545769153, 886.3663300709932, 1128.962115218242], [75.77409501706228, 68.68692068441663, 93.67047907059558, 37.21540816322353, 28.398202613566255], [614.0188279855441, 721.0096771415839, 1053.7203336276261, 1004.7421747256411, 961.1339043482665]], [[0.2043187276569338, 0.19092591011353272, 0.17943478611303346, 0.18524289670655544, 0.24007767940994457], [686.3959654898732, 819.2496624610221, 1240.9004985221718, 1473.6364528744343, 1058.7431231671371], [75.10248587809593, 63.11529362875878, 41.00344306575951, 62.87358601067045, 33.79811533067195], [614.0188279855441, 721.0096771415839, 1053.7203336276261, 1004.7421747256411, 961.1339043482665]], [[0.12643800191031332, 0.2730745610344468, 0.21801403269554614, 0.18601518888038324, 0.19645821547931042], [727.0521367385059, 1098.8530428825427, 786.5077332637674, 1445.1170327347054, 1381.7873028041001], [82.39295811316104, 22.486496453565017, 82.44900817207409, 49.273552466152466, 77.60732422520009], [614.0188279855441, 721.0096771415839, 1053.7203336276261, 1004.7421747256411, 961.1339043482665]], [[0.22614650390380914, 0.27767307105187666, 0.13716529378062292, 0.16614655291861316, 0.192868578345078], [1060.8304888170628, 1261.4427029156495, 1286.6715725523052, 1165.4543488137547, 1395.8122324658357], [76.85550319002053, 49.16707195166289, 63.68738984440515, 67.8817934429799, 33.73179030652588], [614.0188279855441, 721.0096771415839, 1053.7203336276261, 1004.7421747256411, 961.1339043482665]], [[0.1072668102561332, 0.22336090070884376, 0.21877956979708968, 0.2940321189347307, 0.15656060030320265], [705.2684967538806, 812.9753623897693, 963.353139497191, 1046.2007790929315, 814.916065103441], [91.25893189951908, 81.07625591381813, 44.74875420387655, 77.02079664245764, 31.539487489422328], [614.0188279855441, 721.0096771415839, 1053.7203336276261, 1004.7421747256411, 961.1339043482665]], [[0.27878103936980636, 0.19052524380513006, 0.31951796163002516, 0.08017226599184145, 0.13100348920319696], [989.7934117363027, 845.9608103328387, 974.5586019513999, 1509.4567937759857, 1432.2127515598308], [30.424100945460708, 28.01332107745882, 81.3735834117439, 52.00370713095694, 75.5587195421204], [614.0188279855441, 721.0096771415839, 1053.7203336276261, 1004.7421747256411, 961.1339043482665]], [[0.10586152903162957, 0.19041933220093213, 0.2200685237520941, 0.2044676028990846, 0.2791830121162595], [826.6202416588139, 813.6776871448627, 1237.8389371213746, 873.469340870755, 1335.4617128034538], [39.671725675246634, 24.86409737297582, 69.9262392849981, 39.73409634668187, 52.44144397538534], [614.0188279855441, 721.0096771415839, 1053.7203336276261, 1004.7421747256411, 961.1339043482665]], [[0.12563439201563248, 0.36512693295177273, 0.15771968041957754, 0.08767295723341924, 0.263846037379598], [824.9293809728272, 893.7589420872222, 972.1050644655861, 1336.8586846793082, 933.5719231867693], [39.1696741340609, 61.05320546853895, 101.18241201592079, 107.84864334007378, 69.4917440652539], [614.0188279855441, 721.0096771415839, 1053.7203336276261, 1004.7421747256411, 961.1339043482665]], [[0.19699209140670218, 0.2450852274216739, 0.20688250218207843, 0.1695656095296024, 0.1814745694599431], [766.2972820048041, 622.0475708637962, 1300.1457388171755, 1225.165009704992, 746.074930894242], [84.91935946719688, 59.901618940374206, 66.56512564462172, 38.81444238864355, 47.300735626706505], [614.0188279855441, 721.0096771415839, 1053.7203336276261, 1004.7421747256411, 961.1339043482665]], [[0.22702500661249417, 0.3061507009950879, 0.18728586800643576, 0.13265588940394105, 0.1468825349820411], [582.8969109791926, 582.2593907804845, 1171.4953787355557, 1524.867632708015, 1207.0381808797097], [89.27544788734957, 48.30249294162287, 102.47975144403601, 77.52838903725595, 62.379686283981556], [614.0188279855441, 721.0096771415839, 1053.7203336276261, 1004.7421747256411, 961.1339043482665]], [[0.25123204594420995, 0.25632723443183175, 0.16372843495177428, 0.132646595562032, 0.19606568911015188], [990.5785979383871, 1025.9436623168735, 780.196004711851, 791.3683259290964, 1199.1827061424274], [22.51301866736908, 37.36787199594584, 72.32185666156462, 86.90509885742121, 41.24564477106577], [614.0188279855441, 721.0096771415839, 1053.7203336276261, 1004.7421747256411, 961.1339043482665]], [[0.1724399223851841, 0.25929029577950247, 0.30009380109987466, 0.0734754047114958, 0.19470057602394292], [1288.4461206772703, 1217.2155753305447, 894.2327491668864, 1395.5635988222994, 1005.1572443682705], [29.992966736541433, 21.60718875604621, 61.67147937560522, 105.75213741122776, 92.46092395719522], [614.0188279855441, 721.0096771415839, 1053.7203336276261, 1004.7421747256411, 961.1339043482665]], [[0.27057219448148273, 0.1471147571832292, 0.25845990799650714, 0.13499332303460246, 0.18885981730417853], [1241.7745551482126, 548.2663060159311, 1396.7479909782423, 781.6166508347579, 1227.552510323666], [31.200602832430366, 34.95054069089571, 30.48817383284085, 40.81484578704966, 59.13943123764181], [614.0188279855441, 721.0096771415839, 1053.7203336276261, 1004.7421747256411, 961.1339043482665]], [[0.2115300643892135, 0.1736364399665091, 0.2751526000748202, 0.13907337739846973, 0.20060751817098738], [652.3448291768623, 1059.3680272302345, 1227.5424156968047, 1381.2181777261944, 1247.6649644483641], [22.85678255553003, 31.497408016786245, 34.405592054319456, 87.46187708523134, 68.32293320915142], [614.0188279855441, 721.0096771415839, 1053.7203336276261, 1004.7421747256411, 961.1339043482665]], [[0.14438000369785495, 0.3412501767954795, 0.22876757940769302, 0.1118097778223526, 0.17379246227661996], [1078.982126634911, 1156.11033495213, 964.4234787557023, 883.4518723811677, 982.3566014357946], [34.751993055906325, 71.81779824491885, 83.37635887858644, 114.3170525909897, 26.272427185748484], [614.0188279855441, 721.0096771415839, 1053.7203336276261, 1004.7421747256411, 961.1339043482665]], [[0.20853055118327446, 0.27636260257591777, 0.19738024624924547, 0.0789652377919364, 0.23876136219962596], [782.6085144640657, 626.2798393401239, 1357.313797949294, 1187.1560952635673, 1047.1439370561818], [95.23822091018306, 45.073287041433865, 60.2363532306795, 106.58839322029345, 54.29406564967395], [614.0188279855441, 721.0096771415839, 1053.7203336276261, 1004.7421747256411, 961.1339043482665]], [[0.17218460053331344, 0.37704725741085515, 0.18360651487481455, 0.1708626941254397, 0.09629893305557714], [588.779785024776, 879.5680782680524, 1328.2591089643747, 1455.0446675020003, 1359.482034073667], [95.5307295489268, 46.33831389826855, 61.88170487385965, 75.51087355776848, 61.74194590550482], [614.0188279855441, 721.0096771415839, 1053.7203336276261, 1004.7421747256411, 961.1339043482665]], [[0.29272679345422287, 0.17600697693512873, 0.17708398877063336, 0.0896157382546466, 0.2645665025853685], [1337.8116903138996, 947.1713058455858, 779.6964411225738, 1060.7592967033065, 1403.0188639149735], [34.34347281627993, 9.95196671546595, 48.5171849421732, 103.79069373814956, 84.43343390562072], [614.0188279855441, 721.0096771415839, 1053.7203336276261, 1004.7421747256411, 961.1339043482665]], [[0.20448162282577168, 0.2569966928522933, 0.19566462136953086, 0.18000151621849986, 0.16285554673390437], [639.1067449311973, 1154.867905003265, 699.7463230943897, 782.0423416135693, 894.8944160378808], [48.56615899134596, 14.842923966961024, 97.93413522103819, 84.53592067890582, 44.770700427648116], [614.0188279855441, 721.0096771415839, 1053.7203336276261, 1004.7421747256411, 961.1339043482665]], [[0.1085813477453023, 0.21580926333926034, 0.3645450127530788, 0.1427713508659263, 0.16829302529643236], [1127.428704924679, 706.2395124325988, 1304.544303158974, 1163.938233037663, 659.4134234604875], [33.70105266086473, 54.71722622674675, 52.84363723355456, 89.68066458090505, 31.51331930068907], [614.0188279855441, 721.0096771415839, 1053.7203336276261, 1004.7421747256411, 961.1339043482665]], [[0.3194454781772825, 0.2604105846945854, 0.24476532921799724, 0.06446240179182726, 0.11091620611830764], [789.1846891816017, 1231.0820022417859, 896.2176520365522, 875.6328431945919, 1267.0557764162268], [90.69835830825792, 9.275661143170247, 56.622207996121745, 100.44047644289785, 52.70270560710726], [614.0188279855441, 721.0096771415839, 1053.7203336276261, 1004.7421747256411, 961.1339043482665]], [[0.12701950168498743, 0.29369681200984105, 0.2536853969119307, 0.16397688571549054, 0.16162140367775024], [1069.2846054999154, 934.1735592884031, 1224.3574430193885, 1337.528483559599, 846.6378208029687], [51.38137815319168, 56.01630128513282, 97.73745662814153, 71.27693455531511, 68.83286347654064], [614.0188279855441, 721.0096771415839, 1053.7203336276261, 1004.7421747256411, 961.1339043482665]], [[0.29369390829968284, 0.15786412557234694, 0.27642166392137585, 0.06991081276467863, 0.2021094894419158], [752.3239061409568, 614.0221040264344, 895.645826976105, 852.7042236689374, 1325.788554425077], [32.48101889701094, 13.446008343927272, 57.843808239743154, 73.18075634084968, 104.07446469470406], [614.0188279855441, 721.0096771415839, 1053.7203336276261, 1004.7421747256411, 961.1339043482665]], [[0.1123984483461465, 0.2493424541778682, 0.21707413647357157, 0.24075945274741617, 0.1804255082549974], [804.4790808614474, 824.8327869155618, 739.0880565252845, 1176.9437541132968, 828.6063057980045], [54.53203266582061, 48.130331446297525, 67.74383338584131, 50.180154035653274, 59.35799571412467], [614.0188279855441, 721.0096771415839, 1053.7203336276261, 1004.7421747256411, 961.1339043482665]], [[0.1646766586876355, 0.28211427458503047, 0.1459834677045076, 0.20732264007641718, 0.19990295894640925], [847.2587502335367, 580.1640626906086, 1159.218538546248, 1028.0946232486538, 818.7344028462218], [93.26732510345512, 17.61745495092424, 89.19111138254287, 65.5344688336083, 75.14470495061977], [614.0188279855441, 721.0096771415839, 1053.7203336276261, 1004.7421747256411, 961.1339043482665]], [[0.17642015726400553, 0.27615281557283683, 0.28924851094901444, 0.19549917833414843, 0.06267933787999483], [805.7426897573459, 569.306006958632, 830.633686284915, 1352.5862820809857, 1426.9427186043858], [77.40441051576983, 62.89057351945294, 80.24386484174124, 86.54759998627577, 100.77771029354983], [614.0188279855441, 721.0096771415839, 1053.7203336276261, 1004.7421747256411, 961.1339043482665]], [[0.13450084045530147, 0.22557743383364298, 0.3145649360931152, 0.14297696228725904, 0.1823798273306813], [1200.4030472850945, 794.8515721975314, 982.8847554182775, 1408.2237410216374, 1437.30883201561], [76.84339849011994, 26.791413369568218, 89.96472284015502, 102.4845405990675, 68.63709713667507], [614.0188279855441, 721.0096771415839, 1053.7203336276261, 1004.7421747256411, 961.1339043482665]], [[0.24352000475684338, 0.1616781653701476, 0.311976969656516, 0.08789602341364196, 0.194928836802851], [931.635091462022, 1061.555815022175, 749.6651321828606, 803.2146471053392, 1413.26044947502], [82.81334534447008, 19.17191839635528, 46.48454098010154, 90.03677659875699, 86.34338658075154], [614.0188279855441, 721.0096771415839, 1053.7203336276261, 1004.7421747256411, 961.1339043482665]], [[0.2394995762549459, 0.17182885379701388, 0.2130254794116712, 0.1708621033918101, 0.204783987144559], [872.4442720250063, 717.1264162284368, 1106.4742381467122, 777.2466290844816, 1092.4022169648265], [81.96315180473064, 79.64888387269306, 68.12388506341131, 53.850043441116846, 86.16284207566679], [614.0188279855441, 721.0096771415839, 1053.7203336276261, 1004.7421747256411, 961.1339043482665]], [[0.1315923510536046, 0.2835160636879912, 0.13315670992185388, 0.22535973148079372, 0.22637514385575672], [645.7641556448273, 951.3281168716956, 1174.4316686637972, 1375.7335843919082, 1100.4746139551403], [50.722204375338336, 75.53772935714099, 96.531426114286, 107.09408853386638, 90.71471695921846], [614.0188279855441, 721.0096771415839, 1053.7203336276261, 1004.7421747256411, 961.1339043482665]], [[0.21052242894793477, 0.20990322514094698, 0.24981533847130424, 0.16513624261551674, 0.1646227648242973], [1182.9521679853628, 773.437507338682, 1075.6988616978078, 1091.569980858646, 1378.3931987479364], [82.37353398422576, 77.49915522863915, 51.63351891051168, 81.48553255975821, 82.76089267660498], [614.0188279855441, 721.0096771415839, 1053.7203336276261, 1004.7421747256411, 961.1339043482665]], [[0.14825671118738268, 0.2418131370011102, 0.13553559052939676, 0.22412352318259662, 0.2502710380995136], [1330.743017726058, 575.24864923781, 1235.1684740415394, 1259.129217032888, 710.103315926633], [35.60557362659586, 21.601775823879528, 95.21607289492275, 69.79198082820804, 63.9421669473754], [614.0188279855441, 721.0096771415839, 1053.7203336276261, 1004.7421747256411, 961.1339043482665]], [[0.182507456395767, 0.3245854373431021, 0.17959624310661715, 0.18152454547038868, 0.13178631768412513], [661.8248932181685, 1111.092533038308, 759.4757370544376, 1379.6519833169623, 818.6180947179048], [78.31416624119787, 61.90356219093299, 92.363238986048, 42.61414326734804, 82.34179064275848], [614.0188279855441, 721.0096771415839, 1053.7203336276261, 1004.7421747256411, 961.1339043482665]], [[0.2698852342890246, 0.1613385528981134, 0.1807282410078466, 0.20373990660605926, 0.1843080651989561], [1249.0512500819832, 686.170952923735, 716.1138611281572, 1408.5222422892514, 893.6172745944015], [93.94263159530978, 69.65829577443752, 98.92941076905613, 71.64652923468427, 71.81827434383685], [614.0188279855441, 721.0096771415839, 1053.7203336276261, 1004.7421747256411, 961.1339043482665]], [[0.18770564962845213, 0.24931141554806868, 0.24983273302197045, 0.1003384239948376, 0.21281177780667124], [1331.5021117585609, 1281.5229963479376, 1371.7865276386738, 1287.4685585860948, 912.9793331603311], [48.22659448859205, 61.705066780872464, 47.180481409881516, 95.00840848286305, 59.70163378105244], [614.0188279855441, 721.0096771415839, 1053.7203336276261, 1004.7421747256411, 961.1339043482665]], [[0.08700009085656052, 0.2667714794571696, 0.2927842465044698, 0.17153836791764343, 0.18190581526415653], [1000.5912497002736, 866.432699816213, 891.77421202563, 1110.366585431301, 758.9372757214296], [29.696648938502364, 56.896328878746004, 58.82150556178597, 50.31301472637814, 69.6028880601123], [614.0188279855441, 721.0096771415839, 1053.7203336276261, 1004.7421747256411, 961.1339043482665]], [[0.1538282915456905, 0.20139203485115761, 0.34083625518207933, 0.15212099509956406, 0.15182242332150833], [1099.6231921608937, 1058.6918475462262, 1228.8111839710332, 852.178484088553, 1184.7084091302231], [39.214202438227076, 78.30485958630318, 101.13341881700998, 96.18219818162032, 50.26025917856025], [614.0188279855441, 721.0096771415839, 1053.7203336276261, 1004.7421747256411, 961.1339043482665]], [[0.3008107861763763, 0.26225585964596, 0.1859795601321211, 0.0819666370165585, 0.1689871570289842], [1343.311727225819, 873.2672275041793, 1065.6392303289824, 1358.1019581789806, 1427.5196900893325], [27.243295599488995, 74.84625934695296, 97.32669506754033, 76.02538148674958, 31.465748336641937], [614.0188279855441, 721.0096771415839, 1053.7203336276261, 1004.7421747256411, 961.1339043482665]], [[0.25770365792960476, 0.21977656128494916, 0.2292733987350059, 0.17341854198075984, 0.11982784006968034], [963.4219501928417, 797.5354250271017, 1032.7462077335858, 891.7905141479434, 1034.1440552566926], [48.52638637693546, 42.39277298205493, 78.0132519777257, 60.810658913356654, 95.16436060072206], [614.0188279855441, 721.0096771415839, 1053.7203336276261, 1004.7421747256411, 961.1339043482665]], [[0.2193315273413898, 0.2238662499962143, 0.16213572529672754, 0.11662098583619537, 0.2780455115294728], [967.270118876764, 907.6139158533492, 752.090718250596, 1328.943466971762, 1090.497968406231], [89.66221939129377, 33.78128954776208, 63.371734927283015, 43.02842636084086, 30.075906894708282], [614.0188279855441, 721.0096771415839, 1053.7203336276261, 1004.7421747256411, 961.1339043482665]], [[0.2678965966777288, 0.21149686808258647, 0.2291314428671238, 0.15220078097461676, 0.13927431139794422], [620.6903315614011, 561.9014119496691, 1345.6984673183338, 1182.6875688511252, 1035.2977837878934], [60.55257889811996, 10.408783067570312, 105.50830918425261, 39.40758743086682, 94.60471692215341], [614.0188279855441, 721.0096771415839, 1053.7203336276261, 1004.7421747256411, 961.1339043482665]], [[0.10312931672720548, 0.2461574196179523, 0.18074811678169736, 0.23833114537517525, 0.23163400149796953], [840.0225595822008, 1190.288983183787, 1375.1953523113543, 920.957102031426, 1077.3414732446638], [49.67565319067414, 30.082762536427985, 75.20447277991055, 46.11674393387021, 76.81741734122784], [614.0188279855441, 721.0096771415839, 1053.7203336276261, 1004.7421747256411, 961.1339043482665]], [[0.20213895052221403, 0.24865458678136115, 0.15563514692599653, 0.14761049474869278, 0.2459608210217355], [828.0981591304594, 836.8183980341364, 776.1255965991701, 775.8994104068795, 1044.7241359119091], [53.18539519007189, 39.19413789170313, 105.83255575717989, 103.4105167803958, 29.54178938371821], [614.0188279855441, 721.0096771415839, 1053.7203336276261, 1004.7421747256411, 961.1339043482665]], [[0.16932642954543678, 0.26113284306799467, 0.38266563145443844, 0.086562299655983, 0.10031279627614713], [1359.9850858208579, 877.1042550364086, 1339.6566005138657, 1419.2383167941075, 779.4417887505274], [37.71728070805394, 69.56377545907297, 99.22702524561836, 87.58180659859177, 67.78698234618098], [614.0188279855441, 721.0096771415839, 1053.7203336276261, 1004.7421747256411, 961.1339043482665]], [[0.20179690600830186, 0.2902890295134145, 0.16869575101925324, 0.14045287297792497, 0.19876544048110548], [762.5993623119143, 523.5339220689939, 864.4229288945842, 1056.054933740842, 688.6097879982962], [51.29861550168925, 42.68105894539878, 86.46723307265854, 65.14635922960483, 85.34391337950672], [614.0188279855441, 721.0096771415839, 1053.7203336276261, 1004.7421747256411, 961.1339043482665]], [[0.19102314127910944, 0.32680507264336356, 0.13901835461416392, 0.22059544852972854, 0.1225579829336344], [1151.584588220986, 765.2548991700087, 1051.6277971517886, 904.8564592944945, 1256.9339885043396], [24.398580807150182, 27.296263030161974, 44.47934210748905, 99.19679305193291, 81.17029205710163], [614.0188279855441, 721.0096771415839, 1053.7203336276261, 1004.7421747256411, 961.1339043482665]], [[0.13086427142028656, 0.3057665914791859, 0.21750391763703067, 0.18287056383210487, 0.16299465563139212], [1308.476191477133, 522.1312422201704, 947.014289931687, 1309.639252533912, 684.0036631982734], [68.42562701990879, 64.86486685532708, 31.692127283862384, 100.94925695440301, 80.24443372885571], [614.0188279855441, 721.0096771415839, 1053.7203336276261, 1004.7421747256411, 961.1339043482665]], [[0.34808937743817475, 0.26108506827737576, 0.20272468341517258, 0.09376093895284118, 0.09433993191643571], [600.7524925840178, 1040.367805783707, 1229.8889277678647, 859.6263261591208, 1317.850869066263], [93.0842351753198, 45.428309947555086, 102.04409472989357, 46.25393038698155, 103.70524962540819], [614.0188279855441, 721.0096771415839, 1053.7203336276261, 1004.7421747256411, 961.1339043482665]], [[0.19752141116735963, 0.25118577505155104, 0.17879493251353237, 0.1279580370283157, 0.24453984423924124], [602.6824814496804, 730.5183385344841, 1035.5212720207662, 988.2070719483407, 967.0742764224854], [64.36357848052684, 63.21527107876988, 55.54159902505032, 86.90804747741427, 82.97203528181433], [614.0188279855441, 721.0096771415839, 1053.7203336276261, 1004.7421747256411, 961.1339043482665]]]]\n"
     ]
    }
   ],
   "source": [
    "print(regimeCycle3);"
   ]
  },
  {
   "cell_type": "code",
   "execution_count": null,
   "metadata": {
    "collapsed": false
   },
   "outputs": [],
   "source": []
  },
  {
   "cell_type": "code",
   "execution_count": null,
   "metadata": {
    "collapsed": false
   },
   "outputs": [],
   "source": []
  },
  {
   "cell_type": "code",
   "execution_count": null,
   "metadata": {
    "collapsed": false
   },
   "outputs": [],
   "source": []
  },
  {
   "cell_type": "code",
   "execution_count": null,
   "metadata": {
    "collapsed": false
   },
   "outputs": [],
   "source": []
  },
  {
   "cell_type": "code",
   "execution_count": null,
   "metadata": {
    "collapsed": true
   },
   "outputs": [],
   "source": []
  }
 ],
 "metadata": {
  "anaconda-cloud": {},
  "kernelspec": {
   "display_name": "Python [default]",
   "language": "python",
   "name": "python3"
  },
  "language_info": {
   "codemirror_mode": {
    "name": "ipython",
    "version": 3
   },
   "file_extension": ".py",
   "mimetype": "text/x-python",
   "name": "python",
   "nbconvert_exporter": "python",
   "pygments_lexer": "ipython3",
   "version": "3.5.2"
  }
 },
 "nbformat": 4,
 "nbformat_minor": 1
}
