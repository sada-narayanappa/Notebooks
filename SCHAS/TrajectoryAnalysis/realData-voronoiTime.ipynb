{
 "cells": [
  {
   "cell_type": "code",
   "execution_count": 2,
   "metadata": {
    "collapsed": false
   },
   "outputs": [
    {
     "name": "stdout",
     "output_type": "stream",
     "text": [
      "Path Mean Times in seconds: \n",
      "[960, 900, 960, 900, 1080]\n",
      "\n",
      "Path Standard Deviation of Times in seconds: \n",
      "[56, 55, 57, 52, 62]\n",
      "\n",
      "Path Distances in miles:\n",
      "[7.5, 7.1, 7.0, 7.8, 8.5]\n",
      "\n",
      "Path Percent in each Region: \n",
      "[[0.17, 0, 0, 0.32, 0.21, 0, 0.3], [0.24, 0, 0, 0, 0.45, 0, 0.31], [0.24, 0, 0, 0, 0.17, 0.26, 0.33], [0.22, 0.26, 0.23, 0, 0, 0, 0.29], [0.26, 0.23, 0, 0, 0.27, 0, 0.24]]\n",
      "\n",
      "P_I(x):\n",
      "[0, 0, 0, 0, 0]\n"
     ]
    }
   ],
   "source": [
    "pathMeanTimes = [];\n",
    "pathStdOfTimes = [];\n",
    "pathDistances = [];\n",
    "percentOfTimeInEachRegion = [];\n",
    "P_I = [];\n",
    "\n",
    "\n",
    "# Wade's home to work in WI\n",
    "\n",
    "# path1 T = 16min. D=7.5 mi\n",
    "pathMeanTimes.append(960);\n",
    "pathStdOfTimes.append(56);\n",
    "pathDistances.append(7.5);\n",
    "P_I.append(0);#actual\n",
    "percentOfTimeInEachRegion.append([.17,0,0,.32,.21,0,.3]);\n",
    "\n",
    "# path2 T = 15 min. D = 7.1 mi\n",
    "pathMeanTimes.append(900);\n",
    "pathStdOfTimes.append(55);\n",
    "pathDistances.append(7.1);\n",
    "P_I.append(0);\n",
    "percentOfTimeInEachRegion.append([.24,0,0,0,.45,0,.31]);\n",
    "\n",
    "# path3 T = 16 min. D = 7 mi \n",
    "pathMeanTimes.append(960);\n",
    "pathStdOfTimes.append(57);\n",
    "pathDistances.append(7.0);\n",
    "P_I.append(0);\n",
    "percentOfTimeInEachRegion.append([.24,0,0,0,.17,.26,.33]);\n",
    "\n",
    "# path4 T  = 15 min. D = 7.8 mi\n",
    "pathMeanTimes.append(900);\n",
    "pathStdOfTimes.append(52);\n",
    "pathDistances.append(7.8);\n",
    "P_I.append(0);\n",
    "percentOfTimeInEachRegion.append([.22,.26,.23,0,0,0,.29]);\n",
    "\n",
    "# path5 T = 18 min D =8.5 mi\n",
    "pathMeanTimes.append(1080);\n",
    "pathStdOfTimes.append(62);\n",
    "pathDistances.append(8.5);\n",
    "P_I.append(0);\n",
    "percentOfTimeInEachRegion.append([.26,.23,0,0,.27,0,.24]);\n",
    "\n",
    "print(\"Path Mean Times in seconds: \");\n",
    "print(pathMeanTimes);\n",
    "print(\"\\nPath Standard Deviation of Times in seconds: \");\n",
    "print(pathStdOfTimes);\n",
    "print(\"\\nPath Distances in miles:\");\n",
    "print(pathDistances);\n",
    "print(\"\\nPath Percent in each Region: \");\n",
    "print(percentOfTimeInEachRegion);\n",
    "print(\"\\nP_I(x):\");\n",
    "print(P_I);"
   ]
  },
  {
   "cell_type": "code",
   "execution_count": 3,
   "metadata": {
    "collapsed": false
   },
   "outputs": [
    {
     "name": "stdout",
     "output_type": "stream",
     "text": [
      "Path Mean Times in seconds: \n",
      "[420, 660, 480, 600, 540]\n",
      "\n",
      "Path Standard Deviation of Times in seconds: \n",
      "[42, 66, 48, 60, 54]\n",
      "\n",
      "Path Distances in miles:\n",
      "[3.4, 6.6, 3.2, 4.2, 3.5]\n",
      "\n",
      "Path Percent in each Region: \n",
      "[[0, 0.44, 0, 0, 0.56], [0.28, 0.17, 0.33, 0.11, 0.1], [0, 0.19, 0, 0.23, 0.58], [0, 0.4, 0, 0.45, 0.15], [0, 0.18, 0, 0.65, 0.17]]\n",
      "\n",
      "P_I(x):\n",
      "[0, 0, 0, 0, 0]\n"
     ]
    }
   ],
   "source": [
    "pathMeanTimes = [];\n",
    "pathStdOfTimes = [];\n",
    "pathDistances = [];\n",
    "percentOfTimeInEachRegion = [];\n",
    "P_I = [];\n",
    "\n",
    "\n",
    "#from Sehjung's from work to home\n",
    "\n",
    "# path1 T = 7 min. D = 3.4 mi\n",
    "pathMeanTimes.append(420);\n",
    "pathStdOfTimes.append(42);\n",
    "pathDistances.append(3.4);\n",
    "P_I.append(0);#actual\n",
    "#guess\n",
    "percentOfTimeInEachRegion.append([0,.44,0,0,.56]);\n",
    "\n",
    "# path2 T=11 min. D=6.6 mi\n",
    "pathMeanTimes.append(660);\n",
    "pathStdOfTimes.append(66);\n",
    "pathDistances.append(6.6);\n",
    "P_I.append(0);\n",
    "percentOfTimeInEachRegion.append([.28,.17,.33,.11,.10]);\n",
    "\n",
    "# path3 T = 8min. D = 3.2 mi\n",
    "pathMeanTimes.append(480);\n",
    "pathStdOfTimes.append(48);\n",
    "pathDistances.append(3.2);\n",
    "P_I.append(0);\n",
    "percentOfTimeInEachRegion.append([0,.19,0,.23,.58]);\n",
    "\n",
    "# path4 T = 10min. D = 4.2 mi\n",
    "pathMeanTimes.append(600);\n",
    "pathStdOfTimes.append(60);\n",
    "pathDistances.append(4.2);\n",
    "P_I.append(0);\n",
    "percentOfTimeInEachRegion.append([0,.4,0,.45,.15]);\n",
    "\n",
    "# path5 T = 9 min D =3.5 mi\n",
    "pathMeanTimes.append(540);\n",
    "pathStdOfTimes.append(54);\n",
    "pathDistances.append(3.5);\n",
    "P_I.append(0);\n",
    "percentOfTimeInEachRegion.append([0,.18,0,.65,.17]);\n",
    "\n",
    "print(\"Path Mean Times in seconds: \");\n",
    "print(pathMeanTimes);\n",
    "print(\"\\nPath Standard Deviation of Times in seconds: \");\n",
    "print(pathStdOfTimes);\n",
    "print(\"\\nPath Distances in miles:\");\n",
    "print(pathDistances);\n",
    "print(\"\\nPath Percent in each Region: \");\n",
    "print(percentOfTimeInEachRegion);\n",
    "print(\"\\nP_I(x):\");\n",
    "print(P_I);"
   ]
  },
  {
   "cell_type": "code",
   "execution_count": null,
   "metadata": {
    "collapsed": true
   },
   "outputs": [],
   "source": []
  }
 ],
 "metadata": {
  "anaconda-cloud": {},
  "kernelspec": {
   "display_name": "Python [default]",
   "language": "python",
   "name": "python3"
  },
  "language_info": {
   "codemirror_mode": {
    "name": "ipython",
    "version": 3
   },
   "file_extension": ".py",
   "mimetype": "text/x-python",
   "name": "python",
   "nbconvert_exporter": "python",
   "pygments_lexer": "ipython3",
   "version": "3.5.2"
  }
 },
 "nbformat": 4,
 "nbformat_minor": 1
}
