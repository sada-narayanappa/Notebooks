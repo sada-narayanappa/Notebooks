{
 "cells": [
  {
   "cell_type": "code",
   "execution_count": 1,
   "metadata": {
    "collapsed": false
   },
   "outputs": [],
   "source": [
    "#Empirical MSE for changing environment\n",
    "#Uses new f_ave calculation weighting all times equally to new p(t) one.\n",
    "from scipy.stats import t\n",
    "from scipy.stats import norm;\n",
    "import matplotlib.pyplot as plt\n",
    "from PIL import Image\n",
    "import random;\n",
    "import numpy;\n",
    "import scipy.integrate as integrate;\n",
    "import scipy.special as special;\n",
    "low = -1000;\n",
    "high = 3000;"
   ]
  },
  {
   "cell_type": "markdown",
   "metadata": {},
   "source": [
    "# Load Path Data"
   ]
  },
  {
   "cell_type": "code",
   "execution_count": 2,
   "metadata": {
    "collapsed": false
   },
   "outputs": [
    {
     "name": "stdout",
     "output_type": "stream",
     "text": [
      "Path Mean Times in seconds: \n",
      "[1920, 1980, 2160, 2100, 2100]\n",
      "\n",
      "Path Standard Deviation of Times in seconds: \n",
      "[120, 125, 135, 125, 130]\n",
      "\n",
      "Path Distances in miles:\n",
      "[25.9, 23.2, 24.4, 26, 25.2]\n",
      "\n",
      "Path Percent in each Region: \n",
      "[[0.2, 0.06, 0.09, 0.09, 0.08, 0.12, 0.04, 0, 0, 0, 0.12, 0, 0, 0, 0.12, 0.08, 0, 0], [0.21, 0.05, 0.11, 0, 0, 0, 0, 0.03, 0.06, 0, 0, 0.12, 0.11, 0.16, 0.08, 0.07, 0, 0], [0.21, 0.05, 0.11, 0, 0, 0, 0, 0.03, 0.06, 0, 0, 0.12, 0.16, 0.11, 0.08, 0.07, 0, 0], [0.2, 0.06, 0.09, 0.09, 0.08, 0.12, 0.04, 0, 0, 0, 0.12, 0, 0, 0, 0.04, 0.02, 0.07, 0.07], [0.21, 0.05, 0.11, 0, 0, 0, 0, 0.03, 0.06, 0.1, 0.1, 0.12, 0, 0, 0.15, 0.07, 0, 0]]\n",
      "\n",
      "P_I(x):\n",
      "[0.2, 0.4, 0.1, 0.1, 0.2]\n"
     ]
    }
   ],
   "source": [
    "pathMeanTimes = [];\n",
    "pathStdOfTimes = [];\n",
    "pathDistances = [];\n",
    "percentOfTimeInEachRegion = [];\n",
    "P_I = [];\n",
    "\n",
    "\n",
    "#from 1202 Lexington Parkway North, Saint Paul, MN 55103 to 15051 70th Street South, Hastings, MN 55033\n",
    "\n",
    "#via I-94 E. #T = 32min. D = 25.9 mi\n",
    "#Get on I-94 E\n",
    "#6 min (2.1 mi)\n",
    "#Follow I-94 E to MN-95 S/Manning Ave S in Washington County. Take exit 253 from I-94 E\n",
    "#14 min (13.9 mi)\n",
    "#Continue on MN-95 S/Manning Ave S. Drive to 70th St S in Denmark Township\n",
    "#12 min (9.9 mi) \n",
    "pathMeanTimes.append(1920);\n",
    "pathStdOfTimes.append(120);\n",
    "pathDistances.append(25.9);\n",
    "P_I.append(0.2);#actual\n",
    "#guess\n",
    "percentOfTimeInEachRegion.append([.2,.06,.09,.09,.08,.12,.04,0,0,0,.12,0,0,0,.12,.08,0,0]);\n",
    "\n",
    "#via Military Road. T=33min. D=23.2 mi\n",
    "#Get on I-94 E\n",
    "#6 min (2.1 mi)\n",
    "#Follow I-94 E and US-10 E/US-61 S/U.S Hwy 61 S to Bailey Rd/Maxwell Ave. Take the Bailey Rd/Maxwell Ave exit from US-10 E/US-61 S/U.S Hwy 61 S\n",
    "#11 min (9.8 mi)\n",
    "#Follow Military Rd to 70th St S in Denmark Township\n",
    "#16 min (11.3 mi) \n",
    "pathMeanTimes.append(1980);\n",
    "pathStdOfTimes.append(125);\n",
    "pathDistances.append(23.2);\n",
    "P_I.append(0.4);\n",
    "percentOfTimeInEachRegion.append([.21,.05,.11,0,0,0,0,.03,.06,0,0,.12,.11,.16,.08,.07,0,0]);\n",
    "\n",
    "#via US-10. T = 36min. D = 24.4 mi\n",
    "#Head south on Lexington Pkwy N toward Como Ave\n",
    "#1.8 mi\n",
    "#Use the left 2 lanes to turn left onto Concordia Ave\n",
    "#184 ft\n",
    "#Take the ramp on the left onto I-94 E\n",
    "#1.6 mi\n",
    "#Use the right 2 lanes to take exit 241B for 5th St\n",
    "#0.7 mi\n",
    "#Continue onto W 5th St\n",
    "#226 ft\n",
    "#Turn right onto 7th St W/Fort Rd\n",
    "#0.1 mi\n",
    "#Turn left onto W Kellogg Blvd\n",
    "#148 ft\n",
    "#Slight right onto Eagle St\n",
    "#0.1 mi\n",
    "#Continue onto Eagle Pkwy\n",
    "#0.2 mi\n",
    "#Turn left onto Shepard Rd\n",
    "#1.4 mi\n",
    "#Continue onto Warner Rd\n",
    "#1.8 mi\n",
    "#Turn right onto US-10 E/U.S Hwy 61 S\n",
    "#6.9 mi\n",
    "#Take the Summit Ave exit toward WA-22/70th St\n",
    "#0.3 mi\n",
    "#Use the left 2 lanes to turn left onto 70th St S/Summit Ave\n",
    "#Continue to follow 70th St S\n",
    "#4.3 mi\n",
    "#At the traffic circle, take the 1st exit onto 70th St S/Washington County Hwy 22\n",
    "#Continue to follow 70th St S\n",
    "#5.1 mi\n",
    "\n",
    "pathMeanTimes.append(2160);\n",
    "pathStdOfTimes.append(135);\n",
    "pathDistances.append(24.4);\n",
    "P_I.append(0.1);\n",
    "percentOfTimeInEachRegion.append([.21,.05,.11,0,0,0,0,.03,.06,0,0,.12,.16,.11,.08,.07,0,0]);\n",
    "\n",
    "# T=35min. D = 26 mi\n",
    "#Get on I-94 E\n",
    "#6 min (2.1 mi)\n",
    "#Follow I-94 E to MN-95 S/Manning Ave S in Washington County. Take exit 253 from I-94 E\n",
    "#14 min (13.9 mi)\n",
    "#Continue on MN-95 S/Manning Ave S. Take 40th St S and St Croix Trail S to 70th St S/Washington County Hwy 22 in Denmark Township\n",
    "#15 min (10.0 mi) \n",
    "pathMeanTimes.append(2100);\n",
    "pathStdOfTimes.append(125);\n",
    "pathDistances.append(26);\n",
    "P_I.append(0.1);\n",
    "percentOfTimeInEachRegion.append([.2,.06,.09,.09,.08,.12,.04,0,0,0,.12,0,0,0,.04,.02,.07,.07]);\n",
    "\n",
    "#via T = 35 min D =25.2 mi\n",
    "#Get on I-94 E\n",
    "#6 min (2.1 mi)\n",
    "#Follow I-94 E and US-10 E/US-61 S/U.S Hwy 61 S to Bailey Rd/Maxwell Ave. Take the Bailey Rd/Maxwell Ave exit from US-10 E/US-61 S/U.S Hwy 61 S\n",
    "#11 min (9.8 mi)\n",
    "#Follow Bailey Rd and MN-95 S/Manning Ave S to 70th St S in Denmark Township\n",
    "#18 min (13.3 mi) \n",
    "pathMeanTimes.append(2100);\n",
    "pathStdOfTimes.append(130);\n",
    "pathDistances.append(25.2);\n",
    "P_I.append(0.2);\n",
    "percentOfTimeInEachRegion.append([.21,.05,.11,0,0,0,0,.03,.06,.1,.1,.12,0,0,.15,.07,0,0]);\n",
    "\n",
    "print(\"Path Mean Times in seconds: \");\n",
    "print(pathMeanTimes);\n",
    "print(\"\\nPath Standard Deviation of Times in seconds: \");\n",
    "print(pathStdOfTimes);\n",
    "print(\"\\nPath Distances in miles:\");\n",
    "print(pathDistances);\n",
    "print(\"\\nPath Percent in each Region: \");\n",
    "print(percentOfTimeInEachRegion);\n",
    "print(\"\\nP_I(x):\");\n",
    "print(P_I);"
   ]
  },
  {
   "cell_type": "code",
   "execution_count": 3,
   "metadata": {
    "collapsed": false
   },
   "outputs": [],
   "source": [
    "#Alternate Individual Data\n",
    "\n",
    "pathMeanTimes = [1920, 1980, 2160, 2100, 2100];\n",
    "\n",
    "pathStdOfTimes = [120, 125, 135, 125, 130];\n",
    "\n",
    "percentOfTimeInEachRegion = [[0.2, 0.06, 0.09, 0.09, 0.08, 0.12, 0.04, 0, 0, 0, 0.12, 0, 0, 0, 0.12, 0.08, 0, 0], [0.21, 0.05, 0.11, 0, 0, 0, 0, 0.03, 0.06, 0, 0, 0.12, 0.11, 0.16, 0.08, 0.07, 0, 0], [0.21, 0.05, 0.11, 0, 0, 0, 0, 0.03, 0.06, 0, 0, 0.12, 0.16, 0.11, 0.08, 0.07, 0, 0], [0.2, 0.06, 0.09, 0.09, 0.08, 0.12, 0.04, 0, 0, 0, 0.12, 0, 0, 0, 0.04, 0.02, 0.07, 0.07], [0.21, 0.05, 0.11, 0, 0, 0, 0, 0.03, 0.06, 0.1, 0.1, 0.12, 0, 0, 0.15, 0.07, 0, 0]];\n",
    "P_I = [0.2, 0.4, 0.1, 0.1, 0.2];\n",
    "\n",
    "\n",
    "\n"
   ]
  },
  {
   "cell_type": "markdown",
   "metadata": {},
   "source": [
    "# Simulation"
   ]
  },
  {
   "cell_type": "code",
   "execution_count": null,
   "metadata": {
    "collapsed": true
   },
   "outputs": [],
   "source": []
  },
  {
   "cell_type": "code",
   "execution_count": 4,
   "metadata": {
    "collapsed": false
   },
   "outputs": [],
   "source": [
    "def training(numberOfPaths,pathAndTime,trainingDays,mInit):#minit = list of initialization for m\n",
    "    m = mInit;\n",
    "    c=[];\n",
    "    tbarTotal=[];\n",
    "    tbar = [];\n",
    "    sumtijsquared = [];\n",
    "    numberOfTimesRouteTaken = [];\n",
    "    v=[];\n",
    "    a = [];\n",
    "    b = [];\n",
    "    px = [];\n",
    "    tloc = [];\n",
    "    tscale = [];\n",
    "    tdf = [];\n",
    "    for path in range(0,numberOfPaths):\n",
    "        c.append(0);\n",
    "        v.append(1);\n",
    "        a.append(0.01);\n",
    "        b.append(0.01);\n",
    "        c.append(0);\n",
    "        tbarTotal.append(0);\n",
    "        tbar.append(0);\n",
    "        sumtijsquared.append(0);\n",
    "        \n",
    "        #numberOfTimesRouteTaken.append(0);\n",
    "    for day in range(0,trainingDays):\n",
    "        path = pathAndTime[day][0];\n",
    "        c[path] = c[path]+1;\n",
    "        sumtijsquared[path] = sumtijsquared[path] + pathAndTime[day][1]**2;\n",
    "        tbarTotal[path] = tbarTotal[path] + pathAndTime[day][1];\n",
    "    for path in range(0,numberOfPaths):\n",
    "        if c[path]==0:\n",
    "            tbar[path]=0;\n",
    "        else:\n",
    "            tbar[path] = tbarTotal[path]/c[path];\n",
    "        \n",
    "\n",
    "    for path in range(0,numberOfPaths):\n",
    "        oldm = m[path];\n",
    "        oldv = v[path];\n",
    "        olda = a[path];\n",
    "        oldb = b[path];\n",
    "    \n",
    "    \n",
    "        v[path] = oldv/(1+c[path]*oldv);\n",
    "        m[path] = (oldm/oldv+c[path]*tbar[path])*v[path];\n",
    "        a[path] = olda+c[path]/2;\n",
    "        b[path] = oldb + (1/2)*(pow(oldm,2)/oldv+sumtijsquared[path]-pow(m[path],2)/v[path]);\n",
    "        tloc.append(m[path]);\n",
    "        tscale.append(numpy.sqrt(b[path]*(1+v[path])/(a[path])));\n",
    "        tdf.append(2*a[path]);\n",
    "        px.append(c[path]/trainingDays);\n",
    "        \n",
    "    return [px,tdf,tloc,tscale,trainingDays];"
   ]
  },
  {
   "cell_type": "code",
   "execution_count": 5,
   "metadata": {
    "collapsed": false
   },
   "outputs": [],
   "source": [
    "def pt(t,pind,indPathMeans,indPathStds): #calculates true probability of time t for:\n",
    "    #pind = list of individual true route selecction probabilities\n",
    "    #indPathMeans = list of individual's mean travel times on each path\n",
    "    #indPathStds = list of individual's standard deviations of travel times on each path\n",
    "    total = 0;\n",
    "    for i in range(0,len(pind)):\n",
    "        total = total + norm.pdf(t,indPathMeans[i],indPathStds[i])*pind[i];\n",
    "    return total\n",
    "\n",
    "def probtBel(time,trainedParam):#thIs is updated belief p_B(time)\n",
    "    result = 0.0;\n",
    "    for x in range(0,len(trainedParam[0])):\n",
    "        result = result + t.pdf(time, trainedParam[1][x], trainedParam[2][x], trainedParam[3][x])*trainedParam[0][x];\n",
    "    return result\n",
    "\n",
    "#print(str(probt(900)));\n",
    "\n",
    "def probxgiventBel(x,time,trainedParam):#this is updted belief p_B(x|time)\n",
    "    return t.pdf(time, trainedParam[1][x], trainedParam[2][x], trainedParam[3][x])*trainedParam[0][x]/probtBel(time,trainedParam)"
   ]
  },
  {
   "cell_type": "code",
   "execution_count": 6,
   "metadata": {
    "collapsed": false
   },
   "outputs": [],
   "source": [
    "#determining f(x,t) and average value\n",
    "\n",
    "\n",
    "#low = 200\n",
    "#high = 2650\n",
    "#These are the limits of integraton for time in the average value calculations for f_ave and for the MSE.\n",
    "#They must be carefully set so that you integrate over all significantly likely times, but not\n",
    "#so wide that you get division by 0 for times for which p(t) is indistinguishable from 0.\n",
    "\n",
    "\n",
    "\n",
    "def fexposure(path, time,concens):#path = path, time = time, concens = list of concentrations in each region\n",
    "    #requires global specification of percent of time in each reagion, percentOfTimeInEachRegion\n",
    "    #which is a list of lists.  There is one list for each path and that list is the list\n",
    "    #of percents of times that path spends in each region.  This list must be of length len(concens)\n",
    "    actualCITI = [];\n",
    "    actualTimeInEachRegion = [];    \n",
    "    for r in range(0,len(percentOfTimeInEachRegion[path])):\n",
    "        actualTimeInEachRegion.append(percentOfTimeInEachRegion[path][r]*time);\n",
    "    for regionNum in range(0,len(actualTimeInEachRegion)): #sum of atualCITI = f(x,t)\n",
    "        actualCITI.append(concens[regionNum]*actualTimeInEachRegion[regionNum]);\n",
    "    return sum(actualCITI);\n",
    "\n",
    "def avef(baseconcentrations,pind,indPathMeans,indPathStds): #average f_environ(x,t) over all routes \n",
    "    #times and environments\n",
    "    #baseconcentrations = list of base pollutant concentrations in each cell\n",
    "    #pind = list of individual true route selecction probabilities\n",
    "    #indPathMeans = list of individual's mean travel times on each path\n",
    "    #indPathStds = list of individual's standard deviations of travel times on each path\n",
    "    newvec = []\n",
    "    for i in range (0,len(P_I)):\n",
    "        pct_conc = sum(j[0] * j[1] for j in zip(percentOfTimeInEachRegion[i], baseconcentrations))\n",
    "        newvec.append(pct_conc*pind[i]*pathMeanTimes[i]);\n",
    "    return sum(newvec);\n",
    "\n",
    "\n",
    "\n",
    "def avefold(baseconcentrations,pind,indPathMeans,indPathStds): #Old, but accurate\n",
    "    #average f_environ(x,t) over all routes \n",
    "    #times and environments\n",
    "    #baseconcentrations = list of base pollutant concentrations in each cell\n",
    "    #pind = list of individual true route selecction probabilities\n",
    "    #indPathMeans = list of individual's mean travel times on each path\n",
    "    #indPathStds = list of individual's standard deviations of travel times on each path\n",
    "    total = 0;\n",
    "    #timeNormalization = integrate.quad(pt,low,high,args=(pind,indPathMeans,indPathStds))[0];\n",
    "    timeNormalization = 1;\n",
    "    for i in range(0,len(pind)):\n",
    "        def f(t):\n",
    "            #return fexposure(i,t,(baseconcentrations))*pt(t,pind,indPathMeans,indPathStds);\n",
    "            return fexposure(i,t,(baseconcentrations))*norm.pdf(t,indPathMeans[i],indPathStds[i])*pind[i];\n",
    "        total = total + integrate.quad(f,low,high,args=())[0];\n",
    "    return total/timeNormalization;\n"
   ]
  },
  {
   "cell_type": "code",
   "execution_count": 7,
   "metadata": {
    "collapsed": false
   },
   "outputs": [],
   "source": [
    "#Generating path and time list\n",
    "\n",
    "def pathAndTimeGen(days,pind,indPathMeans,indPathStds):\n",
    "    indPathAndTime = [];\n",
    "    #Pick a random path based on P_I = pind\n",
    "    for i in range(0,days):\n",
    "        randomNumber = random.uniform(0,1);\n",
    "        pathLimit=0;\n",
    "        for r in range(0,len(pind)):\n",
    "            pathLimit = pathLimit+pind[r];\n",
    "            if(randomNumber<pathLimit):\n",
    "                randomPath = r;\n",
    "                break;\n",
    "        #Find a random time that it took for that path based on normal distribution for that path\n",
    "        pathUserTime = random.normalvariate(indPathMeans[randomPath],indPathStds[randomPath]);\n",
    "        indPathAndTime.append([randomPath,pathUserTime]);\n",
    "    return indPathAndTime;\n",
    "\n",
    "def environGen(regions,base,variation,days):#makes a list of environmental conditions\n",
    "    #for days number of days\n",
    "    #regions = number of Voronoi cells\n",
    "    #base = base concentration list, a list of length = regions\n",
    "    #variation = plus/minus range of variation in the values\n",
    "    environment = [];\n",
    "    for i in range(0,days):\n",
    "        dailyConditions = [];\n",
    "        for region in range(0,regions):\n",
    "            dailyConditions.append(base[region]+random.uniform(-variation,variation));\n",
    "        environment.append(dailyConditions);\n",
    "    return [environment,base];\n",
    "\n",
    "\n",
    "#userData = pathAndTimeGen(150);\n",
    "#environment = environGen(7,[1.1,1.8,1.4,0.9,1.6,1.0,1.8],0.3,3);\n",
    "\n",
    "#print(environment);\n",
    "\n",
    "#print(environment[1]);\n"
   ]
  },
  {
   "cell_type": "code",
   "execution_count": 8,
   "metadata": {
    "collapsed": false
   },
   "outputs": [],
   "source": [
    "#########\n",
    "#EMPERICAL MSE START\n",
    "\n",
    "\n",
    "def gest(time,trainedParam, concens):#this is g(time)\n",
    "    total = 0;\n",
    "    for x in range(0,len(trainedParam[0])):\n",
    "        total = total + fexposure(x,time,concens)*probxgiventBel(x,time,trainedParam)\n",
    "    return total\n",
    "\n",
    "#print(\"g(960) = \"+str(gest(960)))\n",
    "\n",
    "\n",
    "def empAveSquareError(trainedParam,pathAndTime, environment, startDay, periodLength):#Returns\n",
    "    #empirically observed average square error\n",
    "    #trainedParam = individual's hyperparameters after most current training\n",
    "    #pathAndtime = list of [path,time] observations for the user on which we train and test\n",
    "    #environment = list of lists, each of which is daily conditions in the Voronoi cells\n",
    "    #startDay = first day on which to start testing.  Days start counting with 0 (!!!)\n",
    "    #periodLength = length (in days) of this testing perios\n",
    "    squaresum = 0;\n",
    "    dayContribution = 0;\n",
    "    for day in range(0,periodLength):\n",
    "        path = pathAndTime[startDay+day][0];\n",
    "        time = pathAndTime[startDay+day][1];\n",
    "        concens = environment[startDay+day];\n",
    "        dailyContribution = (fexposure(path,time,concens)-gest(time,trainedParam,concens))**2\n",
    "        squaresum = squaresum + dailyContribution;\n",
    "    return squaresum/periodLength;\n"
   ]
  },
  {
   "cell_type": "code",
   "execution_count": 9,
   "metadata": {
    "collapsed": false
   },
   "outputs": [],
   "source": [
    "#########\n",
    "#OLD AND SLOW THEORETICALLY MINIMAL MSE FOR CHANGING ENVIRONMENT BEGIN\n",
    "\n",
    "\n",
    "\n",
    "#low = 100\n",
    "#high = 2650\n",
    "#These are the limits of integraton for time in the average value calculations for f_ave and for the MSE.\n",
    "#They must be carefully set so that you integrate over all significantly likely times, but not\n",
    "#so wide that you get division by 0 for times for which p(t) is indistinguishable from 0.\n",
    "\n",
    "#########\n",
    "#THEORETICALLY MINIMAL MSE START\n",
    "\n",
    "\n",
    "def integrand(t, concens,pind,indPathMeans,indPathStds):#integrand in the MSE calculation\n",
    "    #concens = list of pollutant concentrations in the cells\n",
    "    #pind = list of individual true route selecction probabilities\n",
    "    #indPathMeans = list of individual's mean travel times on each path\n",
    "    #indPathStds = list of individual's standard deviations of travel times on each path\n",
    "    term1 = 0;\n",
    "    term2sum = 0;\n",
    "    term2 = 0;\n",
    "    for i in range(0,len(pathMeanTimes)):\n",
    "        term1 = term1 + ((fexposure(i,t,concens))**2)*norm.pdf(t,indPathMeans[i],indPathStds[i])*pind[i];\n",
    "    for i in range(0,len(pathMeanTimes)):\n",
    "        term2sum = term2sum + fexposure(i,t,concens)*norm.pdf(t,indPathMeans[i],indPathStds[i])*pind[i];\n",
    "    term2 = (term2sum**2)/pt(t,pind,indPathMeans,indPathStds);\n",
    "    return term1 - term2;\n",
    "\n",
    "\n",
    "def theoreticalmseold(M,baseconc,confidencepct,pind,indPathMeans,indPathStds,variation):#computes confidence interval\n",
    "    #for relative MSE with:\n",
    "    #M = number of runs (trials)\n",
    "    #baseconc = base concentration list\n",
    "    #confidencepct  = confidence level in percent\n",
    "    #pind = list of individual true route selecction probabilities\n",
    "    #indPathMeans = list of individual's mean travel times on each path\n",
    "    #indPathStds = list of individual's standard deviations of travel times on each path\n",
    "    sqrunErAve = 0.0; #running average mean squared error\n",
    "    frunAve =  0.0; # running average average value of f_epsilon(x,t)\n",
    "    sqErtotal = 0.0; # total running square error\n",
    "    relErrorList = [];\n",
    "    errorList = [];\n",
    "    averagefValue = avef(baseconc,pind,indPathMeans,indPathStds);\n",
    "    for trial in range(0,M):\n",
    "        concens = [0,0,0,0,0,0,0,0,0,0,0,0,0,0,0,0,0,0];\n",
    "        for region in range(len(baseconc)):\n",
    "            concens[region] = baseconc[region]+random.uniform(-variation,variation);#change environment\n",
    "        mse = integrate.quad(integrand,low,high,args=(concens,pind,indPathMeans,indPathStds))[0];\n",
    "        #integrate from low to high for about 6 standard deviations above and below mean times\n",
    "        errorList.append(mse);\n",
    "        relErrorList.append(mse/(averagefValue**2));\n",
    "        #print(str(trial), end=\"\");\n",
    "    #\n",
    "    std = numpy.std(relErrorList,ddof=1); #sample stdev of observed relative error\n",
    "    tcv = t.ppf((100-confidencepct)/200,df = M-1,loc = 0, scale = 1); #critical value for our confidence\n",
    "    mseest = numpy.mean(relErrorList);\n",
    "    mseSqrtest = numpy.sqrt(mseest);\n",
    "    confidence = [mseest - (-tcv*std)/numpy.sqrt(M), mseest +(-tcv*std)/numpy.sqrt(M)];\n",
    "    #\n",
    "    msePctest = mseest*100;\n",
    "    mseSqrtPctest = mseSqrtest*100;\n",
    "    msePctConfidence = [];\n",
    "    mseSqrtPctConfidence = [];\n",
    "    for i in range(0,len(confidence)):\n",
    "        msePctConfidence.append(100*confidence[i]);\n",
    "        mseSqrtPctConfidence.append(100*numpy.sqrt(confidence[i]));\n",
    "    \n",
    "    return [msePctest,msePctConfidence,mseSqrtPctest, mseSqrtPctConfidence,confidencepct];\n",
    "\n",
    "\n",
    "#########\n",
    "#THEORETICALLY MINIMAL MSE END\n",
    "\n"
   ]
  },
  {
   "cell_type": "code",
   "execution_count": 10,
   "metadata": {
    "collapsed": true
   },
   "outputs": [],
   "source": [
    "#########\n",
    "#NEW AND FASTER THEORETICALLY MINIMAL MSE FOR CHANGING ENVIRONMENT BEGIN\n",
    "\n",
    "\n",
    "\n",
    "\n",
    "def environExp(wvec, environBase, environVar):#component of expectation over the environment\n",
    "    #calculates the expected value of (environment \\cdot wvec)^2 where the environment in cell i\n",
    "    #fluctuates randomly with mean environBase[i] and fluctuation uniform in plus/minus environVar[i]\n",
    "    #in the theoretical MSE calculation, wvec = pct time in each region for the first term\n",
    "    #and a sum of percent time time probabilities in the second term\n",
    "    term1=0;\n",
    "    term2=0;\n",
    "    for region in range(0,len(wvec)):\n",
    "        term1 = term1 + ((wvec[region]**2)*((environBase[region])**2 + (1/3)*(environVar[region]**2)));\n",
    "    for region1 in range(0,len(wvec)):\n",
    "        for region2 in range(region1+1, len(wvec)):\n",
    "            term2 = term2+ 2*wvec[region1]*wvec[region2]*environBase[region1]*environBase[region2];\n",
    "    return term1 + term2;\n",
    "\n",
    "def wVector(t,pcts,muX,sigmaX,pX):#this is the vector dotted with the environment in the second term\n",
    "    #pcts = list of lists.\n",
    "    #pcts[i] = list of percent of time in each region for path i\n",
    "    #muX = person's true mean travel time for each path\n",
    "    #sigmaX = person's true time standard deviation for each path\n",
    "    #pX = person's true path probabilities\n",
    "    returnVector = [];\n",
    "    for region in range (0,len(pcts[0])):\n",
    "        returnVector.append(0);\n",
    "    ptGx = 0;#true p(t|x)\n",
    "    for i in range (0,len(pX)):\n",
    "        ptGx = norm.pdf(t,muX[i],sigmaX[i]);\n",
    "        #print(ptGx);\n",
    "        for region in range (0,len(pcts[0])):\n",
    "            returnVector[region] = returnVector[region]+(ptGx*pX[i]*pcts[i][region]);\n",
    "    return returnVector;\n",
    "\n",
    "def theMseTerm1(pX, muX, sigmaX, pcTime, environBase, environVar): #term 1 of the MSE calculation\n",
    "    total = 0;\n",
    "    for x in range(0,len(pX)):\n",
    "        total = total + pX[x]*(muX[x]**2 + sigmaX[x]**2)*environExp(pcTime[x],environBase,environVar);\n",
    "    return total;\n",
    "\n",
    "def theMseTerm2integrand(t,pcts,muX,sigmaX,pX,environBase,environVar): #integrnd for term 2\n",
    "    wVec = wVector(t,pcts,muX,sigmaX,pX);\n",
    "    return(((t**2)/pt(t,pX,muX,sigmaX))*environExp(wVec,environBase,environVar));\n",
    "\n",
    "def theoreticalmse(pctime,pX,muX,sigmaX,environBase,environVar): #MSE calculation\n",
    "    part1 = theMseTerm1(pX,muX,sigmaX,pctime,environBase,environVar)\n",
    "    part2 = integrate.quad(theMseTerm2integrand,low,high,args=(pctime,muX,sigmaX,pX,environBase,environVar))[0];\n",
    "    return 100*numpy.sqrt(part1-part2)/avef(environBase,pX,muX,sigmaX);\n"
   ]
  },
  {
   "cell_type": "code",
   "execution_count": 11,
   "metadata": {
    "collapsed": false
   },
   "outputs": [],
   "source": [
    "#Train-test regime for one person\n",
    "\n",
    "def regime(pathAndTime,environment,indData,variation):#Train-test regime\n",
    "    #pathAndTime = list of individual's (path,time) data\n",
    "    #environment = [list of lists environmental conditions, base conditions]\n",
    "        #that is, first entry in environment is a list of lists, each of which is a list of cell \n",
    "        #conditions and the second entry is the list of base cell conditions\n",
    "    #indData = true probabilities and hyperparameter m initialization\n",
    "        # [pind, indPathMeans, indPathStds, mInit] with\n",
    "        #pind = list of individual true route selecction probabilities\n",
    "        #indPathMeans = list of individual's mean travel times on each path\n",
    "        #indPathStds = list of individual's standard deviations of travel times on each path\n",
    "        #mInit = initialization of hyperparameter m\n",
    "    #mseRuns = number of runs with which to estimate theoretical MSE (does not use pathAndTime)\n",
    "    #variation = amount of variation on base conditions with respect to which to claculate theory MSE\n",
    "    empMSEList = [];\n",
    "    #TrainDuration = [7,14,22,32];#training duration in each cycle\n",
    "    #TestDays = [7,8,10,12]#number of test days in each cycye\n",
    "    #TrainDuration = [7,14,22,32,44,69];#training duration in each cycle\n",
    "    #TestDays = [7,8,10,12,15,18]#number of test days in each cycye\n",
    "    #TrainDuration = [20,30,45,65,90,120];#training duration in each cycle\n",
    "    #TestDays = [10,15,20,25,30,35]#number of test days in each cycye\n",
    "    #TrainDuration = [250,500,750];\n",
    "    #TestDays = [250,250,250];\n",
    "    TrainDuration = [5,10,20,30,40];\n",
    "    TestDays = [250,250,250,250,250];\n",
    "    numberOfPaths = len(indData[0]);\n",
    "    #theoryMse = 5.28832505349;#DEBUG MSE TO SAVE TIME\n",
    "    averagef  = avef(environment[1],indData[0],indData[1],indData[2]);\n",
    "    #thMseConf = theoreticalmse(mseRuns,environment[1],99.9,indData[0],indData[1],indData[2],variation);\n",
    "    theoryMse = theoreticalmse(percentOfTimeInEachRegion,indData[0],indData[1],indData[2],environment[1],variation);\n",
    "    #theoryMse = theoreticalmse(mseRuns,environment[1],50,indData[0],indData[1],indData[2],variation)[2];\n",
    "    for cycle in range(0,len(TrainDuration)):\n",
    "        cycleAveSqErr = 0;\n",
    "        trainedParam = [];\n",
    "        #startDay = TrainDuration[cycle];\n",
    "        startDay = (cycle+1)*250;\n",
    "        periodLength = TestDays[cycle];\n",
    "        trainedParam = training(numberOfPaths,pathAndTime,TrainDuration[cycle],indData[3]);\n",
    "        cycleAveSqErr = empAveSquareError(trainedParam,pathAndTime,environment[0],startDay,periodLength);\n",
    "        #print(\"\\n\"+\"cycle sqrt of mse = \"+str(numpy.sqrt(cycleAveSqErr)));\n",
    "        empMSEList.append(100*numpy.sqrt(cycleAveSqErr)/(averagef));\n",
    "        #empMSEList.append(round(numpy.sqrt(2),2));\n",
    "    #print(\"\\n\");\n",
    "    #print(\"Theory MSE pct = \"+str(theoryMse));\n",
    "    #print(\"Average f value =\"+str(averagef));\n",
    "    return [empMSEList,theoryMse];\n",
    "\n",
    "\n",
    "        \n",
    "    \n",
    "    \n",
    "    \n"
   ]
  },
  {
   "cell_type": "code",
   "execution_count": null,
   "metadata": {
    "collapsed": false
   },
   "outputs": [],
   "source": []
  },
  {
   "cell_type": "code",
   "execution_count": 12,
   "metadata": {
    "collapsed": false,
    "scrolled": true
   },
   "outputs": [],
   "source": [
    "\n",
    "def multipleRegime(noPeople,peopleBase,peopleVar,regimeBaseEnv,regimeVar,dataDays):#\n",
    "    #peopleBase = vector governing how to generate synthetic people profiles\n",
    "    #peopleBase[0] = base p(x) values\n",
    "    #peopleBase[1] = base mu_x values\n",
    "    #peopleBase[2] = base sigma_x values\n",
    "    #peopleBase[3] = hyperparameter m initialization\n",
    "    #peopleVar = variation for mu_x, sigma_x and p(x)\n",
    "    #regimeVar = variation for environment -- a vector\n",
    "    #theoryRuns = number of trials from which to estimate theoretical MSE\n",
    "    #noPeople = number of people doing the regime\n",
    "    #dataDays = number of days for which we have/want data\n",
    "    empMSElist = [];\n",
    "    theoryMSElist = [];\n",
    "    theoryMSEConflist = [];\n",
    "    environment = environGen(18,regimeBaseEnv,regimeVar[0],dataDays);#here for all people\n",
    "     #having the same environment\n",
    "    for people in range(0,noPeople):\n",
    "    #print(\"\\n\");\n",
    "        indPathMeans = [];\n",
    "        indPathStds = [];\n",
    "        pind = [];\n",
    "        pindTemp = [];\n",
    "        denominator = 0;\n",
    "        for path in range(0,len(peopleBase[0])):\n",
    "            pindTemp.append(peopleBase[0][path]+random.uniform(0,peopleVar[0]))\n",
    "            indPathMeans.append(peopleBase[1][path]+random.uniform(-peopleVar[1],peopleVar[1]));\n",
    "            indPathStds.append(peopleBase[2][path]+random.uniform(-peopleVar[2],peopleVar[2]));\n",
    "        for path in range(0,len(peopleBase[0])):\n",
    "            denominator = sum(pindTemp);\n",
    "            pind.append(pindTemp[path]/denominator);\n",
    "        #print(str(pind));\n",
    "        #indPathStds = peopleBase[1]+random.uniform(-peopleVar[1],peopleVar[1]);\n",
    "        userPathData = pathAndTimeGen(dataDays,pind,indPathMeans,indPathStds);\n",
    "        #environment = environGen(7,regimeBaseEnv,regimeVar,dataDays);#here for each person\n",
    "        #having a different environment\n",
    "        personTrueData = [pind,indPathMeans,indPathStds,peopleBase[3]];\n",
    "        personMSE = regime(userPathData,environment,personTrueData,regimeVar);\n",
    "        empMSElist.append(personMSE[0]);\n",
    "        theoryMSElist.append(personMSE[1]);\n",
    "        #theoryMSEConflist.append(personMSE[2]);\n",
    "        \n",
    "    return [empMSElist,theoryMSElist];\n",
    "\n",
    "#peopleBase = [P_I, pathMeanTimes, pathStdOfTimes];\n",
    "#peopleVar = [0.5,400,50];\n",
    "\n",
    "#regimeCycle = multipleRegime(10, peopleBase, peopleVar, regimeBase,regimeVariation,6000,40)\n",
    "\n",
    "#print(str(regimeCycle));\n",
    "    #print(str(MSElist));\n",
    "#    for i in range(0,len(MSElist)):\n",
    "#        print(str(MSElist[i])+\"  \", end=\"\");\n",
    "#        if i == len(MSElist)-1:\n",
    "#            print(\" \")\n",
    "\n",
    "    \n",
    "            "
   ]
  },
  {
   "cell_type": "code",
   "execution_count": 13,
   "metadata": {
    "collapsed": false
   },
   "outputs": [],
   "source": [
    "peopleBase = [P_I, pathMeanTimes, pathStdOfTimes,[0,0,0,0,0]];\n",
    "peopleVar = [0.5,800,80];\n",
    "regimeVariation1 = [1,1,1,1,1,1,1,1,1,1,1,1,1,1,1,1,1,1];\n",
    "regimeBase1 = [4,3,2,5,5,2,6,5,6,4,3,3,6,5,5,6,4,3];\n",
    "#environment = environGen(7,regimeBase1,regimeVariation1,100);\n",
    "#userTrueData = [P_I,pathMeanTimes,pathStdOfTimes,[0,0,0,0,0]];\n",
    "\n",
    "\n",
    "regimeCycle1 = multipleRegime(5, peopleBase, peopleVar, regimeBase1,regimeVariation1,6000);\n",
    "\n",
    "\n"
   ]
  },
  {
   "cell_type": "code",
   "execution_count": 14,
   "metadata": {
    "collapsed": false
   },
   "outputs": [
    {
     "name": "stdout",
     "output_type": "stream",
     "text": [
      "[[[8.0771154051064329, 7.9812622761232701, 7.0507416195682753, 5.8438849807019926, 4.7469066501487553], [8.8142593267336906, 6.3335971524591494, 3.8507547853686543, 3.9705503419676451, 4.4983365928834287], [6.703779852708287, 5.782275821938085, 3.8501730711659112, 2.763920951971818, 2.8186852973862111], [6.0174454654034397, 5.5774472677891973, 5.2643551990272961, 5.200262746343479, 5.9454292071179191], [6.2112860660207128, 5.4337239422046446, 3.2987959044741153, 2.4882244160662994, 2.5127852041364491]], [7.6714615837118973, 7.4414531435616489, 2.555323491060093, 5.2700168088634891, 5.0165810005846065]]\n"
     ]
    }
   ],
   "source": [
    "print(regimeCycle1);"
   ]
  },
  {
   "cell_type": "code",
   "execution_count": 15,
   "metadata": {
    "collapsed": false
   },
   "outputs": [],
   "source": [
    "peopleBase = [P_I, pathMeanTimes, pathStdOfTimes,[0,0,0,0,0]];\n",
    "peopleVar = [0.5,800,80];\n",
    "regimeVariation2 = 0.75;\n",
    "regimeBase2 = [3,2,3,4,3,4,4,4,3,3,4,2,4,3,3,4,3,2];\n",
    "#environment = environGen(7,regimeBase,regimeVariation,100);\n",
    "#userTrueData = [P_I,pathMeanTimes,pathStdOfTimes,[0,0,0,0,0]];\n",
    "\n",
    "\n",
    "#regimeCycle2 = multipleRegime(100, peopleBase, peopleVar, regimeBase2,regimeVariation2,6000,100)\n"
   ]
  },
  {
   "cell_type": "code",
   "execution_count": 16,
   "metadata": {
    "collapsed": false
   },
   "outputs": [],
   "source": [
    "peopleBase = [P_I, pathMeanTimes, pathStdOfTimes,[0,0,0,0,0]];\n",
    "peopleVar = [0.5,800,80];\n",
    "regimeVariation3 = 0.5;\n",
    "regimeBase3 = [2,2,3,2,3,2,3,2,3,3,2,2,3,3,3,2,2,3];\n",
    "#environment = environGen(7,regimeBase,regimeVariation,100);\n",
    "#userTrueData = [P_I,pathMeanTimes,pathStdOfTimes,[0,0,0,0,0]];\n",
    "\n",
    "\n",
    "#regimeCycle3 = multipleRegime(100, peopleBase, peopleVar, regimeBase3,regimeVariation3,6000,100)\n"
   ]
  },
  {
   "cell_type": "code",
   "execution_count": 17,
   "metadata": {
    "collapsed": false,
    "scrolled": false
   },
   "outputs": [
    {
     "name": "stdout",
     "output_type": "stream",
     "text": [
      "\n",
      "\n",
      "\n",
      "[5.5909672055563462, 7.1647772231945126, 6.2216612921028691, 4.6629641159208504, 4.0533686874102468, 4.1044285903345523]\n",
      "[2.555323491060093, 6.0174454654034397, 5.4337239422046446, 3.2987959044741153, 2.4882244160662994, 2.5127852041364491]\n",
      "[7.6714615837118973, 8.8142593267336906, 7.9812622761232701, 7.0507416195682753, 5.8438849807019926, 5.9454292071179191]\n"
     ]
    }
   ],
   "source": [
    "def sumarize(regimeResults):\n",
    "    rounds = [];\n",
    "    averages = [numpy.mean(regimeResults[1])];\n",
    "    high = [numpy.max(regimeResults[1])];\n",
    "    low = [numpy.min(regimeResults[1])];\n",
    "    for i in range(0,len(regimeResults[0][0])):\n",
    "        rounds.append([]);\n",
    "    for person in range(0,len(regimeResults[1])):\n",
    "        for i in range(0,len(rounds)):\n",
    "            rounds[i].append(regimeResults[0][person][i]);\n",
    "    for i in range(0,len(rounds)):\n",
    "        averages.append(numpy.mean(rounds[i]));\n",
    "        low.append(numpy.min(rounds[i]));\n",
    "        high.append(numpy.max(rounds[i]));\n",
    "    return [averages, low, high];\n",
    "\n",
    "\n",
    "summary = sumarize(regimeCycle1);\n",
    "\n",
    "#print(regimeCycle1[1]);\n",
    "#print(\"\\n\");\n",
    "#for i in range(0,len(regimeCycle1[0])):\n",
    "#    print(regimeCycle1[0][i]);\n",
    "\n",
    "print(\"\\n\\n\");\n",
    "print(summary[0]);\n",
    "print(summary[1]);\n",
    "print(summary[2]);"
   ]
  },
  {
   "cell_type": "code",
   "execution_count": 18,
   "metadata": {
    "collapsed": false
   },
   "outputs": [],
   "source": [
    "#print(regimeCycle1[2][0]);\n",
    "#print(regimeCycle2[2][0]);\n",
    "#print(regimeCycle3[2][0]);\n",
    "\n",
    "#for i in range (0,10):\n",
    "#    print(regimeCycle1[2][i]);\n",
    "\n",
    "#print(\"\\n\");\n",
    "\n",
    "#for i in range (0,10):\n",
    "#    print(regimeCycle2[2][i]);\n",
    "\n",
    "#print(\"\\n\");\n",
    "#for i in range (0,10):\n",
    "#    print(regimeCycle3[2][i]);\n",
    "\n",
    "#print(\"\\n\");"
   ]
  },
  {
   "cell_type": "code",
   "execution_count": 19,
   "metadata": {
    "collapsed": false
   },
   "outputs": [],
   "source": [
    "#summary = sumarize(regimeCycle1);\n",
    "\n",
    "\n",
    "\n",
    "#print(str(numpy.mean(regimeCycle1[1])));\n",
    "#print(\"\\n\");\n",
    "#for i in range(len(regimeCycle1[0])):\n",
    "#    print(str(regimeCycle1[0][i]));\n",
    "#print(\"\\n\");\n",
    "#print(str(summary));"
   ]
  },
  {
   "cell_type": "code",
   "execution_count": 20,
   "metadata": {
    "collapsed": false
   },
   "outputs": [],
   "source": [
    "#print(regimeCycle1[1][2]);"
   ]
  },
  {
   "cell_type": "code",
   "execution_count": 21,
   "metadata": {
    "collapsed": false,
    "scrolled": true
   },
   "outputs": [],
   "source": [
    "#print(regimeCycle1);"
   ]
  },
  {
   "cell_type": "code",
   "execution_count": 22,
   "metadata": {
    "collapsed": false
   },
   "outputs": [
    {
     "name": "stdout",
     "output_type": "stream",
     "text": [
      "[6.703779852708287, 5.782275821938085, 3.8501730711659112, 2.763920951971818, 2.8186852973862111] 2.55532349106\n"
     ]
    }
   ],
   "source": [
    "print(regimeCycle1[0][2],regimeCycle1[1][2]);"
   ]
  },
  {
   "cell_type": "code",
   "execution_count": 23,
   "metadata": {
    "collapsed": false
   },
   "outputs": [
    {
     "name": "stdout",
     "output_type": "stream",
     "text": [
      "[8.0771154051064329, 7.9812622761232701, 7.0507416195682753, 5.8438849807019926, 4.7469066501487553]\n",
      "7.67146158371\n",
      "[8.8142593267336906, 6.3335971524591494, 3.8507547853686543, 3.9705503419676451, 4.4983365928834287]\n",
      "7.44145314356\n",
      "[6.703779852708287, 5.782275821938085, 3.8501730711659112, 2.763920951971818, 2.8186852973862111]\n",
      "2.55532349106\n",
      "[6.0174454654034397, 5.5774472677891973, 5.2643551990272961, 5.200262746343479, 5.9454292071179191]\n",
      "5.27001680886\n",
      "[6.2112860660207128, 5.4337239422046446, 3.2987959044741153, 2.4882244160662994, 2.5127852041364491]\n",
      "5.01658100058\n"
     ]
    }
   ],
   "source": [
    "for k in range(0,5):\n",
    "    print(regimeCycle1[0][k]);\n",
    "    print(regimeCycle1[1][k]);"
   ]
  },
  {
   "cell_type": "code",
   "execution_count": 24,
   "metadata": {
    "collapsed": false
   },
   "outputs": [
    {
     "name": "stdout",
     "output_type": "stream",
     "text": [
      "High\n"
     ]
    },
    {
     "ename": "NameError",
     "evalue": "name 'regimeCycle3' is not defined",
     "output_type": "error",
     "traceback": [
      "\u001b[0;31m---------------------------------------------------------------------------\u001b[0m",
      "\u001b[0;31mNameError\u001b[0m                                 Traceback (most recent call last)",
      "\u001b[0;32m<ipython-input-24-7fe89e6f1deb>\u001b[0m in \u001b[0;36m<module>\u001b[0;34m()\u001b[0m\n\u001b[1;32m      3\u001b[0m \u001b[0mprint\u001b[0m\u001b[0;34m(\u001b[0m\u001b[0;34m\"High\"\u001b[0m\u001b[0;34m)\u001b[0m\u001b[0;34m;\u001b[0m\u001b[0;34m\u001b[0m\u001b[0m\n\u001b[1;32m      4\u001b[0m \u001b[0;32mfor\u001b[0m \u001b[0mk\u001b[0m \u001b[0;32min\u001b[0m \u001b[0mrange\u001b[0m\u001b[0;34m(\u001b[0m\u001b[0;36m0\u001b[0m\u001b[0;34m,\u001b[0m\u001b[0;36m10\u001b[0m\u001b[0;34m)\u001b[0m\u001b[0;34m:\u001b[0m\u001b[0;34m\u001b[0m\u001b[0m\n\u001b[0;32m----> 5\u001b[0;31m     \u001b[0mprint\u001b[0m\u001b[0;34m(\u001b[0m\u001b[0mregimeCycle3\u001b[0m\u001b[0;34m[\u001b[0m\u001b[0;36m2\u001b[0m\u001b[0;34m]\u001b[0m\u001b[0;34m[\u001b[0m\u001b[0mk\u001b[0m\u001b[0;34m]\u001b[0m\u001b[0;34m[\u001b[0m\u001b[0;36m3\u001b[0m\u001b[0;34m]\u001b[0m\u001b[0;34m)\u001b[0m\u001b[0;34m;\u001b[0m\u001b[0;34m\u001b[0m\u001b[0m\n\u001b[0m\u001b[1;32m      6\u001b[0m \u001b[0mprint\u001b[0m\u001b[0;34m(\u001b[0m\u001b[0;34m\" \"\u001b[0m\u001b[0;34m)\u001b[0m\u001b[0;34m;\u001b[0m\u001b[0;34m\u001b[0m\u001b[0m\n\u001b[1;32m      7\u001b[0m \u001b[0mprint\u001b[0m\u001b[0;34m(\u001b[0m\u001b[0;34m\"Medium\"\u001b[0m\u001b[0;34m)\u001b[0m\u001b[0;34m;\u001b[0m\u001b[0;34m\u001b[0m\u001b[0m\n",
      "\u001b[0;31mNameError\u001b[0m: name 'regimeCycle3' is not defined"
     ]
    }
   ],
   "source": [
    "#First 10 MSE 99.9% confidence intervals\n",
    "\n",
    "print(\"High\");\n",
    "for k in range(0,10):\n",
    "    print(regimeCycle3[2][k][3]);\n",
    "print(\" \");\n",
    "print(\"Medium\");\n",
    "for k in range(0,10):\n",
    "    print(regimeCycle3[2][k][3]);\n",
    "print(\" \");\n",
    "print(\"Low\");\n",
    "for k in range(0,10):\n",
    "    print(regimeCycle3[2][k][3]);\n",
    "print(\" \");\n",
    "    "
   ]
  },
  {
   "cell_type": "code",
   "execution_count": null,
   "metadata": {
    "collapsed": false
   },
   "outputs": [],
   "source": [
    "#Average 99.9% confidence interval width\n",
    "\n",
    "print(\"High\");\n",
    "high=0;\n",
    "for k in range(0,100):\n",
    "    high = high + (0.01)*(regimeCycle1[2][k][3][1]-regimeCycle1[2][k][3][0])\n",
    "print(high);\n",
    "print(\" \");\n",
    "medium = 0;\n",
    "print(\"Medium\");\n",
    "for k in range(0,100):\n",
    "    medium = medium + (0.01)*(regimeCycle2[2][k][3][1]-regimeCycle2[2][k][3][0])\n",
    "print(medium);\n",
    "print(\" \");\n",
    "print(\"Low\");\n",
    "low = 0;\n",
    "print(\"Medium\");\n",
    "for k in range(0,100):\n",
    "    low = low + (0.01)*(regimeCycle3[2][k][3][1]-regimeCycle3[2][k][3][0])\n",
    "print(low);"
   ]
  },
  {
   "cell_type": "code",
   "execution_count": null,
   "metadata": {
    "collapsed": true
   },
   "outputs": [],
   "source": []
  }
 ],
 "metadata": {
  "anaconda-cloud": {},
  "kernelspec": {
   "display_name": "Python [default]",
   "language": "python",
   "name": "python3"
  },
  "language_info": {
   "codemirror_mode": {
    "name": "ipython",
    "version": 3
   },
   "file_extension": ".py",
   "mimetype": "text/x-python",
   "name": "python",
   "nbconvert_exporter": "python",
   "pygments_lexer": "ipython3",
   "version": "3.5.2"
  }
 },
 "nbformat": 4,
 "nbformat_minor": 1
}
