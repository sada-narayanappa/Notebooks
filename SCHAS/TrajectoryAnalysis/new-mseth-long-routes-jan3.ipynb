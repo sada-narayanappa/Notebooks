{
 "cells": [
  {
   "cell_type": "code",
   "execution_count": 1,
   "metadata": {
    "collapsed": false
   },
   "outputs": [],
   "source": [
    "#Empirical MSE for changing environment\n",
    "#Uses new f_ave calculation weighting all times equally to new p(t) one.\n",
    "from scipy.stats import t\n",
    "from scipy.stats import norm;\n",
    "import matplotlib.pyplot as plt\n",
    "from PIL import Image\n",
    "import random;\n",
    "import numpy;\n",
    "import scipy.integrate as integrate;\n",
    "import scipy.special as special;\n",
    "low = -880;\n",
    "high = 5110;\n",
    "#These are the limits of integraton for time in the average value calculations for f_ave and for the MSE.\n",
    "#They must be carefully set so that you integrate over all significantly likely times, but not\n",
    "#so wide that you get division by 0 for times for which p(t) is indistinguishable from 0.\n",
    "\n"
   ]
  },
  {
   "cell_type": "markdown",
   "metadata": {},
   "source": [
    "# Load Path Data"
   ]
  },
  {
   "cell_type": "code",
   "execution_count": 2,
   "metadata": {
    "collapsed": false
   },
   "outputs": [
    {
     "name": "stdout",
     "output_type": "stream",
     "text": [
      "Path Mean Times in seconds: \n",
      "[1920, 1980, 2160, 2100, 2100]\n",
      "\n",
      "Path Standard Deviation of Times in seconds: \n",
      "[120, 125, 135, 125, 130]\n",
      "\n",
      "Path Distances in miles:\n",
      "[25.9, 23.2, 24.4, 26, 25.2]\n",
      "\n",
      "Path Percent in each Region: \n",
      "[[0.2, 0.06, 0.09, 0.09, 0.08, 0.12, 0.04, 0, 0, 0, 0.12, 0, 0, 0, 0.12, 0.08, 0, 0], [0.21, 0.05, 0.11, 0, 0, 0, 0, 0.03, 0.06, 0, 0, 0.12, 0.11, 0.16, 0.08, 0.07, 0, 0], [0.21, 0.05, 0.11, 0, 0, 0, 0, 0.03, 0.06, 0, 0, 0.12, 0.16, 0.11, 0.08, 0.07, 0, 0], [0.2, 0.06, 0.09, 0.09, 0.08, 0.12, 0.04, 0, 0, 0, 0.12, 0, 0, 0, 0.04, 0.02, 0.07, 0.07], [0.21, 0.05, 0.11, 0, 0, 0, 0, 0.03, 0.06, 0.1, 0.1, 0.12, 0, 0, 0.15, 0.07, 0, 0]]\n",
      "\n",
      "P_I(x):\n",
      "[0.2, 0.4, 0.1, 0.1, 0.2]\n"
     ]
    }
   ],
   "source": [
    "pathMeanTimes = [];\n",
    "pathStdOfTimes = [];\n",
    "pathDistances = [];\n",
    "percentOfTimeInEachRegion = [];\n",
    "P_I = [];\n",
    "\n",
    "\n",
    "#from 1202 Lexington Parkway North, Saint Paul, MN 55103 to 15051 70th Street South, Hastings, MN 55033\n",
    "\n",
    "#via I-94 E. #T = 32min. D = 25.9 mi\n",
    "#Get on I-94 E\n",
    "#6 min (2.1 mi)\n",
    "#Follow I-94 E to MN-95 S/Manning Ave S in Washington County. Take exit 253 from I-94 E\n",
    "#14 min (13.9 mi)\n",
    "#Continue on MN-95 S/Manning Ave S. Drive to 70th St S in Denmark Township\n",
    "#12 min (9.9 mi) \n",
    "pathMeanTimes.append(1920);\n",
    "pathStdOfTimes.append(120);\n",
    "pathDistances.append(25.9);\n",
    "P_I.append(0.2);#actual\n",
    "#guess\n",
    "percentOfTimeInEachRegion.append([.2,.06,.09,.09,.08,.12,.04,0,0,0,.12,0,0,0,.12,.08,0,0]);\n",
    "\n",
    "#via Military Road. T=33min. D=23.2 mi\n",
    "#Get on I-94 E\n",
    "#6 min (2.1 mi)\n",
    "#Follow I-94 E and US-10 E/US-61 S/U.S Hwy 61 S to Bailey Rd/Maxwell Ave. Take the Bailey Rd/Maxwell Ave exit from US-10 E/US-61 S/U.S Hwy 61 S\n",
    "#11 min (9.8 mi)\n",
    "#Follow Military Rd to 70th St S in Denmark Township\n",
    "#16 min (11.3 mi) \n",
    "pathMeanTimes.append(1980);\n",
    "pathStdOfTimes.append(125);\n",
    "pathDistances.append(23.2);\n",
    "P_I.append(0.4);\n",
    "percentOfTimeInEachRegion.append([.21,.05,.11,0,0,0,0,.03,.06,0,0,.12,.11,.16,.08,.07,0,0]);\n",
    "\n",
    "#via US-10. T = 36min. D = 24.4 mi\n",
    "#Head south on Lexington Pkwy N toward Como Ave\n",
    "#1.8 mi\n",
    "#Use the left 2 lanes to turn left onto Concordia Ave\n",
    "#184 ft\n",
    "#Take the ramp on the left onto I-94 E\n",
    "#1.6 mi\n",
    "#Use the right 2 lanes to take exit 241B for 5th St\n",
    "#0.7 mi\n",
    "#Continue onto W 5th St\n",
    "#226 ft\n",
    "#Turn right onto 7th St W/Fort Rd\n",
    "#0.1 mi\n",
    "#Turn left onto W Kellogg Blvd\n",
    "#148 ft\n",
    "#Slight right onto Eagle St\n",
    "#0.1 mi\n",
    "#Continue onto Eagle Pkwy\n",
    "#0.2 mi\n",
    "#Turn left onto Shepard Rd\n",
    "#1.4 mi\n",
    "#Continue onto Warner Rd\n",
    "#1.8 mi\n",
    "#Turn right onto US-10 E/U.S Hwy 61 S\n",
    "#6.9 mi\n",
    "#Take the Summit Ave exit toward WA-22/70th St\n",
    "#0.3 mi\n",
    "#Use the left 2 lanes to turn left onto 70th St S/Summit Ave\n",
    "#Continue to follow 70th St S\n",
    "#4.3 mi\n",
    "#At the traffic circle, take the 1st exit onto 70th St S/Washington County Hwy 22\n",
    "#Continue to follow 70th St S\n",
    "#5.1 mi\n",
    "\n",
    "pathMeanTimes.append(2160);\n",
    "pathStdOfTimes.append(135);\n",
    "pathDistances.append(24.4);\n",
    "P_I.append(0.1);\n",
    "percentOfTimeInEachRegion.append([.21,.05,.11,0,0,0,0,.03,.06,0,0,.12,.16,.11,.08,.07,0,0]);\n",
    "\n",
    "# T=35min. D = 26 mi\n",
    "#Get on I-94 E\n",
    "#6 min (2.1 mi)\n",
    "#Follow I-94 E to MN-95 S/Manning Ave S in Washington County. Take exit 253 from I-94 E\n",
    "#14 min (13.9 mi)\n",
    "#Continue on MN-95 S/Manning Ave S. Take 40th St S and St Croix Trail S to 70th St S/Washington County Hwy 22 in Denmark Township\n",
    "#15 min (10.0 mi) \n",
    "pathMeanTimes.append(2100);\n",
    "pathStdOfTimes.append(125);\n",
    "pathDistances.append(26);\n",
    "P_I.append(0.1);\n",
    "percentOfTimeInEachRegion.append([.2,.06,.09,.09,.08,.12,.04,0,0,0,.12,0,0,0,.04,.02,.07,.07]);\n",
    "\n",
    "#via T = 35 min D =25.2 mi\n",
    "#Get on I-94 E\n",
    "#6 min (2.1 mi)\n",
    "#Follow I-94 E and US-10 E/US-61 S/U.S Hwy 61 S to Bailey Rd/Maxwell Ave. Take the Bailey Rd/Maxwell Ave exit from US-10 E/US-61 S/U.S Hwy 61 S\n",
    "#11 min (9.8 mi)\n",
    "#Follow Bailey Rd and MN-95 S/Manning Ave S to 70th St S in Denmark Township\n",
    "#18 min (13.3 mi) \n",
    "pathMeanTimes.append(2100);\n",
    "pathStdOfTimes.append(130);\n",
    "pathDistances.append(25.2);\n",
    "P_I.append(0.2);\n",
    "percentOfTimeInEachRegion.append([.21,.05,.11,0,0,0,0,.03,.06,.1,.1,.12,0,0,.15,.07,0,0]);\n",
    "\n",
    "print(\"Path Mean Times in seconds: \");\n",
    "print(pathMeanTimes);\n",
    "print(\"\\nPath Standard Deviation of Times in seconds: \");\n",
    "print(pathStdOfTimes);\n",
    "print(\"\\nPath Distances in miles:\");\n",
    "print(pathDistances);\n",
    "print(\"\\nPath Percent in each Region: \");\n",
    "print(percentOfTimeInEachRegion);\n",
    "print(\"\\nP_I(x):\");\n",
    "print(P_I);"
   ]
  },
  {
   "cell_type": "code",
   "execution_count": 3,
   "metadata": {
    "collapsed": false
   },
   "outputs": [],
   "source": [
    "#Alternate Individual Data\n",
    "\n",
    "#pathMeanTimes = [1380, 1560, 1680, 1440, 1560];\n",
    "\n",
    "#pathStdOfTimes = [80, 95, 100, 85, 90];\n",
    "\n",
    "#percentOfTimeInEachRegion = [[0, 0, 0, 0.22, 0, 0.1, 0, 0.1, 0.26, 0, 0.22, 0.1], [0, 0, 0, 0.2, 0, 0, 0.03, 0.14, 0, 0.2, 0, 0.43], [0.12, 0.12, 0.16, 0.06, 0.04, 0.12, 0, 0, 0.17, 0, 0.13, 0.07], [0, 0, 0, 0.27, 0, 0.09, 0, 0.09, 0.25, 0, 0.21, 0.09], [0, 0, 0, 0.2, 0, 0, 0.03, 0.14, 0, 0.2, 0, 0.43]];\n",
    "#P_I = [0.2, 0.4, 0.1, 0.1, 0.2];\n",
    "\n",
    "\n",
    "\n"
   ]
  },
  {
   "cell_type": "markdown",
   "metadata": {},
   "source": [
    "# Simulation"
   ]
  },
  {
   "cell_type": "code",
   "execution_count": null,
   "metadata": {
    "collapsed": true
   },
   "outputs": [],
   "source": []
  },
  {
   "cell_type": "code",
   "execution_count": 4,
   "metadata": {
    "collapsed": false
   },
   "outputs": [],
   "source": [
    "def training(numberOfPaths,pathAndTime,trainingDays,mInit):#minit = list of initialization for m\n",
    "    m = mInit;\n",
    "    c=[];\n",
    "    tbarTotal=[];\n",
    "    tbar = [];\n",
    "    sumtijsquared = [];\n",
    "    numberOfTimesRouteTaken = [];\n",
    "    v=[];\n",
    "    a = [];\n",
    "    b = [];\n",
    "    px = [];\n",
    "    tloc = [];\n",
    "    tscale = [];\n",
    "    tdf = [];\n",
    "    for path in range(0,numberOfPaths):\n",
    "        c.append(0);\n",
    "        v.append(1);\n",
    "        a.append(0.01);\n",
    "        b.append(0.01);\n",
    "        c.append(0);\n",
    "        tbarTotal.append(0);\n",
    "        tbar.append(0);\n",
    "        sumtijsquared.append(0);\n",
    "        \n",
    "        #numberOfTimesRouteTaken.append(0);\n",
    "    for day in range(0,trainingDays):\n",
    "        path = pathAndTime[day][0];\n",
    "        c[path] = c[path]+1;\n",
    "        sumtijsquared[path] = sumtijsquared[path] + pathAndTime[day][1]**2;\n",
    "        tbarTotal[path] = tbarTotal[path] + pathAndTime[day][1];\n",
    "    for path in range(0,numberOfPaths):\n",
    "        if c[path]==0:\n",
    "            tbar[path]=0;\n",
    "        else:\n",
    "            tbar[path] = tbarTotal[path]/c[path];\n",
    "        \n",
    "\n",
    "    for path in range(0,numberOfPaths):\n",
    "        oldm = m[path];\n",
    "        oldv = v[path];\n",
    "        olda = a[path];\n",
    "        oldb = b[path];\n",
    "    \n",
    "    \n",
    "        v[path] = oldv/(1+c[path]*oldv);\n",
    "        m[path] = (oldm/oldv+c[path]*tbar[path])*v[path];\n",
    "        a[path] = olda+c[path]/2;\n",
    "        b[path] = oldb + (1/2)*(pow(oldm,2)/oldv+sumtijsquared[path]-pow(m[path],2)/v[path]);\n",
    "        tloc.append(m[path]);\n",
    "        tscale.append(numpy.sqrt(b[path]*(1+v[path])/(a[path])));\n",
    "        tdf.append(2*a[path]);\n",
    "        px.append(c[path]/trainingDays);\n",
    "        \n",
    "    return [px,tdf,tloc,tscale,trainingDays];"
   ]
  },
  {
   "cell_type": "code",
   "execution_count": 5,
   "metadata": {
    "collapsed": false
   },
   "outputs": [],
   "source": [
    "def pt(t,pind,indPathMeans,indPathStds): #calculates true probability of time t for:\n",
    "    #pind = list of individual true route selecction probabilities\n",
    "    #indPathMeans = list of individual's mean travel times on each path\n",
    "    #indPathStds = list of individual's standard deviations of travel times on each path\n",
    "    total = 0;\n",
    "    for i in range(0,len(pind)):\n",
    "        total = total + norm.pdf(t,indPathMeans[i],indPathStds[i])*pind[i];\n",
    "    return total\n",
    "\n",
    "def probtBel(time,trainedParam):#thIs is updated belief p_B(time)\n",
    "    result = 0.0;\n",
    "    for x in range(0,len(trainedParam[0])):\n",
    "        result = result + t.pdf(time, trainedParam[1][x], trainedParam[2][x], trainedParam[3][x])*trainedParam[0][x];\n",
    "    return result\n",
    "\n",
    "#print(str(probt(900)));\n",
    "\n",
    "def probxgiventBel(x,time,trainedParam):#this is updted belief p_B(x|time)\n",
    "    return t.pdf(time, trainedParam[1][x], trainedParam[2][x], trainedParam[3][x])*trainedParam[0][x]/probtBel(time,trainedParam)"
   ]
  },
  {
   "cell_type": "code",
   "execution_count": 6,
   "metadata": {
    "collapsed": false
   },
   "outputs": [],
   "source": [
    "#determining f(x,t) and average value\n",
    "\n",
    "\n",
    "\n",
    "def fexposure(path, time,concens):#path = path, time = time, concens = list of concentrations in each region\n",
    "    #requires global specification of percent of time in each reagion, percentOfTimeInEachRegion\n",
    "    #which is a list of lists.  There is one list for each path and that list is the list\n",
    "    #of percents of times that path spends in each region.  This list must be of length len(concens)\n",
    "    actualCITI = [];\n",
    "    actualTimeInEachRegion = [];    \n",
    "    for r in range(0,len(percentOfTimeInEachRegion[path])):\n",
    "        actualTimeInEachRegion.append(percentOfTimeInEachRegion[path][r]*time);\n",
    "    for regionNum in range(0,len(actualTimeInEachRegion)): #sum of atualCITI = f(x,t)\n",
    "        actualCITI.append(concens[regionNum]*actualTimeInEachRegion[regionNum]);\n",
    "    return sum(actualCITI);\n",
    "\n",
    "def avef(baseconcentrations,pind,indPathMeans,indPathStds): #average f_environ(x,t) over all routes \n",
    "    #times and environments\n",
    "    #baseconcentrations = list of base pollutant concentrations in each cell\n",
    "    #pind = list of individual true route selecction probabilities\n",
    "    #indPathMeans = list of individual's mean travel times on each path\n",
    "    #indPathStds = list of individual's standard deviations of travel times on each path\n",
    "    newvec = []\n",
    "    for i in range (0,len(P_I)):\n",
    "        pct_conc = sum(j[0] * j[1] for j in zip(percentOfTimeInEachRegion[i], baseconcentrations))\n",
    "        newvec.append(pct_conc*pind[i]*pathMeanTimes[i]);\n",
    "    return sum(newvec);\n",
    "\n",
    "\n",
    "\n",
    "def avefold(baseconcentrations,pind,indPathMeans,indPathStds): #Old, but accurate\n",
    "    #average f_environ(x,t) over all routes \n",
    "    #times and environments\n",
    "    #baseconcentrations = list of base pollutant concentrations in each cell\n",
    "    #pind = list of individual true route selecction probabilities\n",
    "    #indPathMeans = list of individual's mean travel times on each path\n",
    "    #indPathStds = list of individual's standard deviations of travel times on each path\n",
    "    total = 0;\n",
    "    #timeNormalization = integrate.quad(pt,low,high,args=(pind,indPathMeans,indPathStds))[0];\n",
    "    timeNormalization = 1;\n",
    "    for i in range(0,len(pind)):\n",
    "        def f(t):\n",
    "            #return fexposure(i,t,(baseconcentrations))*pt(t,pind,indPathMeans,indPathStds);\n",
    "            return fexposure(i,t,(baseconcentrations))*norm.pdf(t,indPathMeans[i],indPathStds[i])*pind[i];\n",
    "        total = total + integrate.quad(f,low,high,args=())[0];\n",
    "    return total/timeNormalization;\n"
   ]
  },
  {
   "cell_type": "code",
   "execution_count": 7,
   "metadata": {
    "collapsed": false
   },
   "outputs": [],
   "source": [
    "#Generating path and time list\n",
    "\n",
    "def pathAndTimeGen(days,pind,indPathMeans,indPathStds):\n",
    "    indPathAndTime = [];\n",
    "    #Pick a random path based on P_I = pind\n",
    "    for i in range(0,days):\n",
    "        randomNumber = random.uniform(0,1);\n",
    "        pathLimit=0;\n",
    "        for r in range(0,len(pind)):\n",
    "            pathLimit = pathLimit+pind[r];\n",
    "            if(randomNumber<pathLimit):\n",
    "                randomPath = r;\n",
    "                break;\n",
    "        #Find a random time that it took for that path based on normal distribution for that path\n",
    "        pathUserTime = random.normalvariate(indPathMeans[randomPath],indPathStds[randomPath]);\n",
    "        indPathAndTime.append([randomPath,pathUserTime]);\n",
    "    return indPathAndTime;\n",
    "\n",
    "def environGen(regions,base,variation,days):#makes a list of environmental conditions\n",
    "    #for days number of days\n",
    "    #regions = number of Voronoi cells\n",
    "    #base = base concentration list, a list of length = regions\n",
    "    #variation = plus/minus range of variation in the values\n",
    "    environment = [];\n",
    "    for i in range(0,days):\n",
    "        dailyConditions = [];\n",
    "        for region in range(0,regions):\n",
    "            dailyConditions.append(base[region]+random.uniform(-variation,variation));\n",
    "        environment.append(dailyConditions);\n",
    "    return [environment,base];\n",
    "\n",
    "\n",
    "#userData = pathAndTimeGen(150);\n",
    "#environment = environGen(7,[1.1,1.8,1.4,0.9,1.6,1.0,1.8],0.3,3);\n",
    "\n",
    "#print(environment);\n",
    "\n",
    "#print(environment[1]);\n"
   ]
  },
  {
   "cell_type": "code",
   "execution_count": 8,
   "metadata": {
    "collapsed": false
   },
   "outputs": [],
   "source": [
    "#########\n",
    "#EMPERICAL MSE START\n",
    "\n",
    "\n",
    "def gest(time,trainedParam, concens):#this is g(time)\n",
    "    total = 0;\n",
    "    for x in range(0,len(trainedParam[0])):\n",
    "        total = total + fexposure(x,time,concens)*probxgiventBel(x,time,trainedParam)\n",
    "    return total\n",
    "\n",
    "#print(\"g(960) = \"+str(gest(960)))\n",
    "\n",
    "\n",
    "def empAveSquareError(trainedParam,pathAndTime, environment, startDay, periodLength):#Returns\n",
    "    #empirically observed average square error\n",
    "    #trainedParam = individual's hyperparameters after most current training\n",
    "    #pathAndtime = list of [path,time] observations for the user on which we train and test\n",
    "    #environment = list of lists, each of which is daily conditions in the Voronoi cells\n",
    "    #startDay = first day on which to start testing.  Days start counting with 0 (!!!)\n",
    "    #periodLength = length (in days) of this testing perios\n",
    "    squaresum = 0;\n",
    "    dayContribution = 0;\n",
    "    for day in range(0,periodLength):\n",
    "        path = pathAndTime[startDay+day][0];\n",
    "        time = pathAndTime[startDay+day][1];\n",
    "        concens = environment[startDay+day];\n",
    "        dailyContribution = (fexposure(path,time,concens)-gest(time,trainedParam,concens))**2\n",
    "        squaresum = squaresum + dailyContribution;\n",
    "    return squaresum/periodLength;\n"
   ]
  },
  {
   "cell_type": "code",
   "execution_count": 9,
   "metadata": {
    "collapsed": false
   },
   "outputs": [],
   "source": [
    "#########\n",
    "#OLD AND SLOW THEORETICALLY MINIMAL MSE FOR CHANGING ENVIRONMENT BEGIN\n",
    "\n",
    "\n",
    "\n",
    "def integrand(t, concens,pind,indPathMeans,indPathStds):#integrand in the MSE calculation\n",
    "    #concens = list of pollutant concentrations in the cells\n",
    "    #pind = list of individual true route selecction probabilities\n",
    "    #indPathMeans = list of individual's mean travel times on each path\n",
    "    #indPathStds = list of individual's standard deviations of travel times on each path\n",
    "    term1 = 0;\n",
    "    term2sum = 0;\n",
    "    term2 = 0;\n",
    "    for i in range(0,len(pathMeanTimes)):\n",
    "        term1 = term1 + ((fexposure(i,t,concens))**2)*norm.pdf(t,indPathMeans[i],indPathStds[i])*pind[i];\n",
    "    for i in range(0,len(pathMeanTimes)):\n",
    "        term2sum = term2sum + fexposure(i,t,concens)*norm.pdf(t,indPathMeans[i],indPathStds[i])*pind[i];\n",
    "    term2 = (term2sum**2)/pt(t,pind,indPathMeans,indPathStds);\n",
    "    return term1 - term2;\n",
    "\n",
    "\n",
    "def theoreticalmse(M,baseconc,confidencepct,pind,indPathMeans,indPathStds,variation):#computes confidence interval\n",
    "    #for relative MSE with:\n",
    "    #M = number of runs (trials)\n",
    "    #baseconc = base concentration list\n",
    "    #confidencepct  = confidence level in percent\n",
    "    #pind = list of individual true route selecction probabilities\n",
    "    #indPathMeans = list of individual's mean travel times on each path\n",
    "    #indPathStds = list of individual's standard deviations of travel times on each path\n",
    "    sqrunErAve = 0.0; #running average mean squared error\n",
    "    frunAve =  0.0; # running average average value of f_epsilon(x,t)\n",
    "    sqErtotal = 0.0; # total running square error\n",
    "    relErrorList = [];\n",
    "    errorList = [];\n",
    "    averagefValue = avef(baseconc,pind,indPathMeans,indPathStds);\n",
    "    for trial in range(0,M):\n",
    "        concens = [0,0,0,0,0,0,0,0,0,0,0,0,0,0,0,0,0,0];\n",
    "        for region in range(len(baseconc)):\n",
    "            concens[region] = baseconc[region]+random.uniform(-variation,variation);#change environment\n",
    "        mse = integrate.quad(integrand,low,high,args=(concens,pind,indPathMeans,indPathStds))[0];\n",
    "        #integrate from low to high for about 6 standard deviations above and below mean times\n",
    "        errorList.append(mse);\n",
    "        relErrorList.append(mse/(averagefValue**2));\n",
    "        #print(str(trial), end=\"\");\n",
    "    #\n",
    "    std = numpy.std(relErrorList,ddof=1); #sample stdev of observed relative error\n",
    "    tcv = t.ppf((100-confidencepct)/200,df = M-1,loc = 0, scale = 1); #critical value for our confidence\n",
    "    mseest = numpy.mean(relErrorList);\n",
    "    mseSqrtest = numpy.sqrt(mseest);\n",
    "    confidence = [mseest - (-tcv*std)/numpy.sqrt(M), mseest +(-tcv*std)/numpy.sqrt(M)];\n",
    "    #\n",
    "    msePctest = mseest*100;\n",
    "    mseSqrtPctest = mseSqrtest*100;\n",
    "    msePctConfidence = [];\n",
    "    mseSqrtPctConfidence = [];\n",
    "    for i in range(0,len(confidence)):\n",
    "        msePctConfidence.append(100*confidence[i]);\n",
    "        mseSqrtPctConfidence.append(100*numpy.sqrt(confidence[i]));\n",
    "    \n",
    "    return [msePctest,msePctConfidence,mseSqrtPctest, mseSqrtPctConfidence,confidencepct];\n",
    "\n"
   ]
  },
  {
   "cell_type": "code",
   "execution_count": 10,
   "metadata": {
    "collapsed": true
   },
   "outputs": [],
   "source": [
    "#########\n",
    "#NEW AND FASTER THEORETICALLY MINIMAL MSE FOR CHANGING ENVIRONMENT BEGIN\n",
    "\n",
    "\n",
    "\n",
    "\n",
    "def environExp(wvec, environBase, environVar):#component of expectation over the environment\n",
    "    #calculates the expected value of (environment \\cdot wvec)^2 where the environment in cell i\n",
    "    #fluctuates randomly with mean environBase[i] and fluctuation uniform in plus/minus environVar[i]\n",
    "    #in the theoretical MSE calculation, wvec = pct time in each region for the first term\n",
    "    #and a sum of percent time time probabilities in the second term\n",
    "    term1=0;\n",
    "    term2=0;\n",
    "    for region in range(0,len(wvec)):\n",
    "        term1 = term1 + ((wvec[region]**2)*((environBase[region])**2 + (1/3)*(environVar[region]**2)));\n",
    "    for region1 in range(0,len(wvec)):\n",
    "        for region2 in range(region1+1, len(wvec)):\n",
    "            term2 = term2+ 2*wvec[region1]*wvec[region2]*environBase[region1]*environBase[region2];\n",
    "    return term1 + term2;\n",
    "\n",
    "def wVector(t,pcts,muX,sigmaX,pX):#this is the vector dotted with the environment in the second term\n",
    "    #pcts = list of lists.\n",
    "    #pcts[i] = list of percent of time in each region for path i\n",
    "    #muX = person's true mean travel time for each path\n",
    "    #sigmaX = person's true time standard deviation for each path\n",
    "    #pX = person's true path probabilities\n",
    "    returnVector = [];\n",
    "    for region in range (0,len(pcts[0])):\n",
    "        returnVector.append(0);\n",
    "    ptGx = 0;#true p(t|x)\n",
    "    for i in range (0,len(pX)):\n",
    "        ptGx = norm.pdf(t,muX[i],sigmaX[i]);\n",
    "        #print(ptGx);\n",
    "        for region in range (0,len(pcts[0])):\n",
    "            returnVector[region] = returnVector[region]+(ptGx*pX[i]*pcts[i][region]);\n",
    "    return returnVector;\n",
    "\n",
    "def theMseTerm1(pX, muX, sigmaX, pcTime, environBase, environVar): #term 1 of the MSE calculation\n",
    "    total = 0;\n",
    "    for x in range(0,len(pX)):\n",
    "        total = total + pX[x]*(muX[x]**2 + sigmaX[x]**2)*environExp(pcTime[x],environBase,environVar);\n",
    "    return total;\n",
    "\n",
    "def theMseTerm2integrand(t,pcts,muX,sigmaX,pX,environBase,environVar): #integrnd for term 2\n",
    "    wVec = wVector(t,pcts,muX,sigmaX,pX);\n",
    "    return(((t**2)/pt(t,pX,muX,sigmaX))*environExp(wVec,environBase,environVar));\n",
    "\n",
    "def theoreticalmsenew(pctime,pX,muX,sigmaX,environBase,environVar): #MSE calculation\n",
    "    part1 = theMseTerm1(pX,muX,sigmaX,pctime,environBase,environVar)\n",
    "    part2 = integrate.quad(theMseTerm2integrand,low,high,args=(pctime,muX,sigmaX,pX,environBase,environVar))[0];\n",
    "    return 100*numpy.sqrt(part1-part2)/avef(environBase,pX,muX,sigmaX);\n"
   ]
  },
  {
   "cell_type": "code",
   "execution_count": 11,
   "metadata": {
    "collapsed": false
   },
   "outputs": [],
   "source": [
    "#Train-test regime for one person\n",
    "\n",
    "def regime(pathAndTime,environment,indData,variation):#Train-test regime\n",
    "    #pathAndTime = list of individual's (path,time) data\n",
    "    #environment = [list of lists environmental conditions, base conditions]\n",
    "        #that is, first entry in environment is a list of lists, each of which is a list of cell \n",
    "        #conditions and the second entry is the list of base cell conditions\n",
    "    #indData = true probabilities and hyperparameter m initialization\n",
    "        # [pind, indPathMeans, indPathStds, mInit] with\n",
    "        #pind = list of individual true route selecction probabilities\n",
    "        #indPathMeans = list of individual's mean travel times on each path\n",
    "        #indPathStds = list of individual's standard deviations of travel times on each path\n",
    "        #mInit = initialization of hyperparameter m\n",
    "    #mseRuns = number of runs with which to estimate theoretical MSE (does not use pathAndTime)\n",
    "    #variation = amount of variation on base conditions with respect to which to estimate theory MSE\n",
    "    empMSEList = [];\n",
    "    varvector = [];\n",
    "    for region in range(0,len(environment[1])):\n",
    "        varvector.append(variation);\n",
    "    #varvector = [1,1,1,1,1,1,1,1,1,1,1,1,1,1,1,1,1,1];\n",
    "    #TrainDuration = [7,14,22,32];#training duration in each cycle\n",
    "    #TestDays = [7,8,10,12]#number of test days in each cycye\n",
    "    #TrainDuration = [7,14,22,32,44,69];#training duration in each cycle\n",
    "    #TestDays = [7,8,10,12,15,18]#number of test days in each cycye\n",
    "    #TrainDuration = [20,30,45,65,90,120];#training duration in each cycle\n",
    "    #TestDays = [10,15,20,25,30,35]#number of test days in each cycye\n",
    "    #TrainDuration = [250,500,750];\n",
    "    #TestDays = [250,250,250];\n",
    "    TrainDuration = [5,10,20,30,40];\n",
    "    TestDays = [250,250,250,250,250];\n",
    "    numberOfPaths = len(indData[0]);\n",
    "    averagef  = avef(environment[1],indData[0],indData[1],indData[2]);\n",
    "    newtheoryMse = theoreticalmsenew(percentOfTimeInEachRegion,indData[0],indData[1], indData[2], environment[1],varvector);\n",
    "    for cycle in range(0,len(TrainDuration)):\n",
    "        cycleAveSqErr = 0;\n",
    "        trainedParam = [];\n",
    "        #startDay = TrainDuration[cycle];\n",
    "        startDay = (cycle+1)*250;\n",
    "        periodLength = TestDays[cycle];\n",
    "        trainedParam = training(numberOfPaths,pathAndTime,TrainDuration[cycle],indData[3]);\n",
    "        cycleAveSqErr = empAveSquareError(trainedParam,pathAndTime,environment[0],startDay,periodLength);\n",
    "        #print(\"\\n\"+\"cycle sqrt of mse = \"+str(numpy.sqrt(cycleAveSqErr)));\n",
    "        empMSEList.append(100*numpy.sqrt(cycleAveSqErr)/(averagef));\n",
    "        #empMSEList.append(round(numpy.sqrt(2),2));\n",
    "    #print(\"\\n\");\n",
    "    #print(\"Theory MSE pct = \"+str(theoryMse));\n",
    "    #print(\"Average f value =\"+str(averagef));\n",
    "    return [empMSEList,newtheoryMse];\n",
    "\n",
    "\n",
    "        \n",
    "    \n",
    "    \n",
    "    \n"
   ]
  },
  {
   "cell_type": "code",
   "execution_count": 12,
   "metadata": {
    "collapsed": false
   },
   "outputs": [],
   "source": [
    "#regimeVariation = 0.9;\n",
    "#regimeBase = [1.1, 1.3, 0.9, 1.0, 1.2, 1.3, 0.9];\n",
    "#regimeVariation = 0.4;\n",
    "#regimeBase = [1.1,1.8,1.4,0.9,1.6,1.0,1.8];\n",
    "#environment = environGen(7,regimeBase,regimeVariation,100);\n",
    "#userTrueData = [P_I,pathMeanTimes,pathStdOfTimes,[0,0,0,0,0]];\n",
    "#userPathData = [[1,554,],[2,311,],[1,760,],[2,409,],[2,478,],[1,679,],[2,378,],[2,329,],[1,723,],[2,523,],[3,420,],[2,482,],[2,423,],[1,708,],[4,773,],[2,396,],[1,617,],[2,361,],[2,367,],[2,369,],[2,433,],[2,366,],[2,382,],[1,691,],[1,728,],[2,373,],[2,522,],[2,369,],[1,744,],[2,434,],[2,378,],[2,368,],[2,358,],[1,663,],[2,372,],[2,369,],[2,362,],[2,350,],[1,669,],[1,700,],[2,383,],[2,367,],[2,381,],[2,383,],[2,368,],[1,725,],[1,626,],[1,764,]]\n",
    "#\n",
    "#\n",
    "#TestMSE = regime(userPathData,environment,userTrueData,20,regimeVariation);\n",
    "\n",
    "##print(str(TestMSE));\n",
    "\n",
    "#for i in range(0,len(TestMSE[0])):\n",
    "#    print(str(TestMSE[0][i])+\"  \", end=\"\");\n",
    "#    #if i == len(MSElist)-1:\n",
    "##    print(\" \")\n",
    "#print(\"\\n\"+str(TestMSE[1]));"
   ]
  },
  {
   "cell_type": "code",
   "execution_count": 13,
   "metadata": {
    "collapsed": false,
    "scrolled": true
   },
   "outputs": [],
   "source": [
    "\n",
    "def multipleRegime(noPeople,peopleBase,peopleVar,regimeBaseEnv,regimeVar,dataDays):#\n",
    "    #noPeople = number of people doing the regime\n",
    "    #dataDays = number of days for which we have/want data\n",
    "    empMSElist = [];\n",
    "    newtheoryMSElist = [];\n",
    "    personlist = [];\n",
    "    noRegions = len(regimeBaseEnv);# number of regions in Voronoi diagram\n",
    "    environment = environGen(noRegions,regimeBaseEnv,regimeVar,dataDays);#here for all people\n",
    "     #having the same environment\n",
    "    for people in range(0,noPeople):\n",
    "    #print(\"\\n\");\n",
    "        indPathMeans = [];\n",
    "        indPathStds = [];\n",
    "        pind = [];\n",
    "        pindTemp = [];\n",
    "        denominator = 0;\n",
    "        for path in range(0,len(peopleBase[0])):\n",
    "            pindTemp.append(peopleBase[0][path]+random.uniform(0,peopleVar[0]))\n",
    "            indPathMeans.append(peopleBase[1][path]+random.uniform(-peopleVar[1],peopleVar[1]));\n",
    "            indPathStds.append(peopleBase[2][path]+random.uniform(-peopleVar[2],peopleVar[2]));\n",
    "        for path in range(0,len(peopleBase[0])):\n",
    "            denominator = sum(pindTemp);\n",
    "            pind.append(pindTemp[path]/denominator);\n",
    "        #print(str(pind));\n",
    "        userPathData = pathAndTimeGen(dataDays,pind,indPathMeans,indPathStds);\n",
    "        #environment = environGen(7,regimeBaseEnv,regimeVar,dataDays);#here for each person\n",
    "        #having a different environment\n",
    "        personTrueData = [pind,indPathMeans,indPathStds,peopleBase[3]];\n",
    "        personMSE = regime(userPathData,environment,personTrueData,regimeVar);\n",
    "        empMSElist.append(personMSE[0]);\n",
    "        newtheoryMSElist.append(personMSE[1]);\n",
    "        #theoryMSEConflist.append(personMSE[2]);\n",
    "        #newtheoryMSElist.append(personMSE[3]);\n",
    "        personlist.append(personTrueData);\n",
    "        \n",
    "    return [empMSElist,newtheoryMSElist,personlist];\n",
    "\n",
    "    \n",
    "            "
   ]
  },
  {
   "cell_type": "code",
   "execution_count": null,
   "metadata": {
    "collapsed": false
   },
   "outputs": [],
   "source": []
  },
  {
   "cell_type": "code",
   "execution_count": 14,
   "metadata": {
    "collapsed": false
   },
   "outputs": [],
   "source": [
    "peopleBase = [P_I, pathMeanTimes, pathStdOfTimes,[0,0,0,0,0]];\n",
    "peopleVar = [0.5,800,80];\n",
    "regimeVariation1 = 1;\n",
    "regimeBase1 = [4,3,2,5,5,2,6,5,6,4,3,3,6,5,5,6,4,3];\n",
    "#environment = environGen(7,regimeBase1,regimeVariation1,100);\n",
    "#userTrueData = [P_I,pathMeanTimes,pathStdOfTimes,[0,0,0,0,0]];\n",
    "\n",
    "\n",
    "regimeCycle1 = multipleRegime(100, peopleBase, peopleVar, regimeBase1,regimeVariation1,6000)\n",
    "\n",
    "#for k in range(0,5):\n",
    "#    print(regimeCycle1[0][k]);\n",
    "#    print(regimeCycle1[1][k]);\n",
    "#    print(\" \");\n"
   ]
  },
  {
   "cell_type": "code",
   "execution_count": 15,
   "metadata": {
    "collapsed": false
   },
   "outputs": [],
   "source": [
    "peopleBase = [P_I, pathMeanTimes, pathStdOfTimes,[0,0,0,0,0]];\n",
    "peopleVar = [0.5,800,80];\n",
    "regimeVariation2 = 0.75;\n",
    "regimeBase2 = [3,2,3,4,3,4,4,4,3,3,4,2,4,3,3,4,3,2];\n",
    "#environment = environGen(7,regimeBase,regimeVariation,100);\n",
    "#userTrueData = [P_I,pathMeanTimes,pathStdOfTimes,[0,0,0,0,0]];\n",
    "\n",
    "\n",
    "regimeCycle2 = multipleRegime(100, peopleBase, peopleVar, regimeBase2,regimeVariation2,6000)\n"
   ]
  },
  {
   "cell_type": "code",
   "execution_count": 16,
   "metadata": {
    "collapsed": false
   },
   "outputs": [],
   "source": [
    "peopleBase = [P_I, pathMeanTimes, pathStdOfTimes,[0,0,0,0,0]];\n",
    "peopleVar = [0.5,800,80];\n",
    "regimeVariation3 = 0.5;\n",
    "regimeBase3 = [2,2,3,2,3,2,3,2,3,3,2,2,3,3,3,2,2,3];\n",
    "#environment = environGen(7,regimeBase,regimeVariation,100);\n",
    "#userTrueData = [P_I,pathMeanTimes,pathStdOfTimes,[0,0,0,0,0]];\n",
    "\n",
    "\n",
    "regimeCycle3 = multipleRegime(100, peopleBase, peopleVar, regimeBase3,regimeVariation3,6000)\n"
   ]
  },
  {
   "cell_type": "code",
   "execution_count": 17,
   "metadata": {
    "collapsed": false,
    "scrolled": false
   },
   "outputs": [],
   "source": [
    "def sumarize(regimeResults):\n",
    "    rounds = [];\n",
    "    averages = [numpy.mean(regimeResults[1])];\n",
    "    highvec = [numpy.max(regimeResults[1])];\n",
    "    lowvec = [numpy.min(regimeResults[1])];\n",
    "    for i in range(0,len(regimeResults[0][0])):\n",
    "        rounds.append([]);\n",
    "    for person in range(0,len(regimeResults[1])):\n",
    "        for i in range(0,len(rounds)):\n",
    "            rounds[i].append(regimeResults[0][person][i]);\n",
    "    for i in range(0,len(rounds)):\n",
    "        averages.append(numpy.mean(rounds[i]));\n",
    "        lowvec.append(numpy.min(rounds[i]));\n",
    "        highvec.append(numpy.max(rounds[i]));\n",
    "    return [averages, lowvec, highvec];\n",
    "\n",
    "\n"
   ]
  },
  {
   "cell_type": "code",
   "execution_count": 18,
   "metadata": {
    "collapsed": false
   },
   "outputs": [
    {
     "name": "stdout",
     "output_type": "stream",
     "text": [
      "\n",
      "\n",
      "\n",
      "[4.773261624507481, 7.4264109007233916, 6.3828346651318473, 5.746647056782126, 5.3104265644838726, 5.107497400808124]\n",
      "[1.5622290423137422, 3.6558236941450017, 2.0688108105122915, 1.6235206973871203, 1.7557954954796142, 1.2008114286606095]\n",
      "[9.3248136990828971, 13.804307852805731, 12.779809746784489, 10.457362962238744, 9.5504329576970743, 9.0015075647494776]\n"
     ]
    }
   ],
   "source": [
    "summary = sumarize(regimeCycle1);\n",
    "\n",
    "print(\"\\n\\n\");\n",
    "print(summary[0]);\n",
    "print(summary[1]);\n",
    "print(summary[2]);"
   ]
  },
  {
   "cell_type": "code",
   "execution_count": 19,
   "metadata": {
    "collapsed": false,
    "scrolled": false
   },
   "outputs": [
    {
     "name": "stdout",
     "output_type": "stream",
     "text": [
      "\n",
      "\n",
      "\n",
      "[3.2648368036416686, 5.045387372246279, 4.4134968246666126, 3.9444111653545169, 3.7336326795444768, 3.5495050853615151]\n",
      "[0.81389639061040309, 2.1428472042069044, 1.7675221668629721, 1.045718037611209, 0.89310576688311838, 0.86631347235900591]\n",
      "[5.800768418418742, 8.275887717739618, 7.2929743292525018, 6.8098877284883299, 6.3056502929097311, 5.9977649552219061]\n"
     ]
    }
   ],
   "source": [
    "summary = sumarize(regimeCycle2);\n",
    "\n",
    "print(\"\\n\\n\");\n",
    "print(summary[0]);\n",
    "print(summary[1]);\n",
    "print(summary[2]);"
   ]
  },
  {
   "cell_type": "code",
   "execution_count": 20,
   "metadata": {
    "collapsed": false
   },
   "outputs": [
    {
     "name": "stdout",
     "output_type": "stream",
     "text": [
      "\n",
      "\n",
      "\n",
      "[2.6575995613791794, 3.9486994516080096, 3.5036104307769929, 2.9880109196278903, 2.9117406124129404, 2.8220624526606053]\n",
      "[1.1866691979054336, 2.0945258354994798, 1.6222654953567752, 1.3208386226134317, 1.2874799065841023, 1.0311865300859573]\n",
      "[4.9963070427307699, 6.6743540863926754, 6.1379912226051276, 5.4272111212142571, 5.2480100472874529, 5.1387652207203232]\n"
     ]
    }
   ],
   "source": [
    "summary = sumarize(regimeCycle3);\n",
    "\n",
    "print(\"\\n\\n\");\n",
    "print(summary[0]);\n",
    "print(summary[1]);\n",
    "print(summary[2]);"
   ]
  },
  {
   "cell_type": "code",
   "execution_count": 21,
   "metadata": {
    "collapsed": false,
    "scrolled": true
   },
   "outputs": [
    {
     "name": "stdout",
     "output_type": "stream",
     "text": [
      "[[[7.9893314757670568, 5.8051053304260005, 3.3484935067636958, 2.1639933574459276, 2.4286720698255588], [8.2789843011040052, 8.2120697235104334, 8.8429735408179475, 7.0763129168801449, 6.3606824788926186], [11.416428188393732, 10.495433856175556, 9.1926905101392773, 7.8488330514830924, 7.8057966724775127], [6.2626104486513512, 6.6060343087819566, 5.8961879305583844, 6.7755337827369875, 5.4298823199626414], [7.4677496806174659, 8.7648927055795252, 7.4655703909632036, 7.3119662077659626, 6.7021728157671214], [8.366441133904674, 6.5581970794439446, 4.2662950803753175, 4.2845826387354791, 3.8740716367735661], [6.3045899874388871, 7.2609000580742276, 7.7059833360137215, 6.415951041634858, 8.7274328173845799], [7.6156868043759154, 5.8141441810943455, 5.1594505387927159, 4.3817672691673186, 3.8792409522242126], [8.8015721716686723, 3.9369004744420901, 3.1278983941409635, 2.9437067057957651, 2.7170611150395843], [6.1928724524556218, 5.7849846449331563, 4.8943055035808101, 4.9823880404598242, 4.7464715363599703], [9.7200272270761001, 7.3288843281467164, 8.9705060413371029, 8.0664343086300523, 6.9690814767145683], [5.283893254921586, 2.235184112659435, 1.6235206973871203, 1.8144360322287567, 1.2008114286606095], [8.4579835922433801, 7.8684035087429312, 7.4766549226877332, 6.7919226396732819, 6.8499905827414906], [9.2966817768121839, 4.7534610155229995, 4.4553518830364194, 3.4151092627932749, 3.885467734368329], [4.4084715864785489, 4.9597516887167172, 4.2472696324814114, 3.4701315553373218, 2.6373312436918224], [7.5224795362728933, 5.7130678134707313, 5.1202903784724008, 4.9014235371395305, 4.7634955248374746], [6.5257105007864142, 7.1233812556041052, 4.4433190432321705, 3.7789237272403944, 4.1029992718418624], [8.1962822390827856, 6.7365843434581727, 6.1937203929700191, 6.1714301410715953, 6.2781611388255012], [6.6645983460224594, 5.3524184443511169, 4.3919790054643597, 3.9774921176412761, 4.158471442220451], [9.1007002222621214, 9.0160564116303075, 6.925524448312685, 6.1716790609472989, 6.6046515552729925], [5.9477245817510314, 6.5065301964690478, 5.0336363715890187, 5.2415004253113784, 5.3583559558608833], [4.0249579176942829, 3.2746997710066061, 2.2024475964046366, 1.8940330941313899, 1.6360108385521948], [13.804307852805731, 9.8600996339953184, 10.457362962238744, 4.5697406539579326, 4.2677188340319576], [8.5299780603466857, 6.8441833000178045, 6.8481107324198369, 5.9830410102253513, 5.8573293353398839], [7.9675803894787203, 7.5611244542318161, 6.3972360362030223, 6.3495563366695755, 6.1753041833032238], [8.9081722787494808, 9.3283615011843928, 8.4778439395466236, 8.3850081588220249, 8.1177860387606096], [4.7034446077945455, 5.2741137841301589, 4.544189496498718, 3.6639364256301699, 2.734972849122888], [7.6465461150359673, 6.1330336779033736, 3.8205919226373695, 3.5805560088989963, 3.5916631719776273], [11.516840704288859, 12.779809746784489, 7.9241329615314182, 8.6283533268348727, 8.4237369766746166], [6.3097594961421386, 6.8302000103714198, 4.9663097474898299, 4.7188383479036524, 4.6841728266254758], [5.0567318542778992, 5.3372616803545165, 4.4435902856589422, 5.62983129201106, 5.4288077724893506], [9.2542215403465438, 6.5457934377135691, 6.0601481724116617, 5.0863232896934081, 5.8107550206257921], [7.6239913489065438, 6.8513254004382551, 6.7420013621762074, 5.7616195947050883, 5.3314114764304179], [8.0207943039225995, 3.5276215729018037, 3.3465051026201222, 3.9705945320002995, 3.4335740326645139], [6.4866097214231697, 6.3957774948811066, 5.3129927988217958, 5.4663592877627245, 5.2872444564881445], [7.0598601849698657, 6.6926659777322124, 5.2038325344382983, 3.4830512901574289, 4.467627502571303], [6.3344758781997479, 5.0421282564025729, 5.2359671044604523, 5.0563546207108372, 4.976290452910515], [7.3184119920781612, 7.6982725593226506, 7.8164761622865662, 7.7310295647630358, 6.9588463435549013], [11.123581523720077, 8.6518017209035367, 7.8937240649570297, 8.0428945335419666, 8.907203929259623], [7.1077900367280646, 6.9155316166910898, 6.7851072691883223, 6.0511293596527969, 6.6147937552025589], [9.7239852062866241, 8.195580959303884, 6.7479948382359449, 5.9479360095389282, 5.3624948420715839], [8.9064372780044447, 10.019280495698363, 9.9232321207520613, 6.98830918359074, 7.3215688001015256], [6.3776911254402586, 7.0006984927880112, 5.0146855379298829, 5.8091684959595966, 5.2735508689195685], [7.3474965166393513, 8.2870462086513115, 7.13787758360934, 7.4187389697040222, 8.1060906219133688], [5.8073695464071706, 5.5772086525540256, 5.6192374321621994, 5.8570001688919247, 5.285237225511497], [9.4174077243265426, 9.4930681385184812, 8.6136757184670998, 7.5269637162259695, 7.8622576782597138], [8.8660748971834913, 6.9800322579041092, 6.4025193586192817, 7.8203467887495997, 6.6326842519988078], [5.6054459648298849, 3.5648667818734969, 3.4250695623610512, 3.5210994205703741, 3.1708802253045181], [11.019311892349391, 5.2325206647024691, 3.081357201322052, 3.2901817381079081, 2.5009616369727041], [5.2182610657424569, 5.9121604497745031, 6.0109257674311216, 4.67995468988296, 4.7982781930237159], [5.0292603621281291, 4.7991600517196709, 4.1490737583841835, 3.6040007192329684, 3.3367643493217964], [6.4084443508732987, 6.4421180139313279, 6.120381512924788, 5.6961470658181552, 4.7367775107235923], [3.6799465033728724, 2.7667529786093645, 2.8525182659994224, 2.2042118789905074, 2.4493039035247919], [7.1833250187719857, 6.3707125957257187, 5.2135632118529962, 4.9450632618527717, 5.0584213407919698], [10.734817398026719, 7.4535896047361714, 6.3363807555983582, 6.7822725805876773, 6.5517099672365235], [6.0724145505340728, 2.0688108105122915, 2.4731467845427755, 1.8511749213107476, 1.6451757082772127], [8.9393425252139824, 7.0261157896182755, 6.8319346300138326, 6.4663249295045606, 5.6792643964822931], [10.625133979798179, 8.5808662922132886, 7.2832097248557215, 6.4966552889326259, 6.3147794399642656], [8.3357178713337703, 6.6053815592925984, 8.5663868038068589, 8.739995542348769, 7.5646796166682151], [7.4588873432423357, 4.7856337512608373, 4.2183416383841887, 3.213616747679592, 3.6339243524298634], [8.862605016040364, 7.1269391695095576, 6.0548962851654693, 5.3592414203836611, 5.1427714323602558], [6.3129173620392001, 6.6274360008931374, 6.349573766550316, 6.7690703053432495, 5.7898431576822746], [3.6558236941450017, 2.3699926980688053, 1.9951525162136683, 1.7557954954796142, 1.5419078311698422], [6.8887090554188477, 5.8697056385418938, 5.4958474882078585, 3.7345131473687641, 3.6652472546598927], [11.098542273947613, 8.2843205382031417, 8.1607888245202478, 8.0054748988492079, 8.4183723866033429], [4.5168080743622632, 4.5645637849016145, 4.264429221231091, 4.7430892007234418, 4.2877496772941326], [6.8611729105753643, 4.5185635442936922, 4.630445401510781, 3.4683600955600724, 4.3941550541762071], [6.8807125100994169, 6.5354603514082354, 5.368122023614748, 4.6981525209339523, 5.108546395466929], [6.3739139370110935, 5.3107448243854636, 5.1845879507548975, 4.7963296957921298, 4.7889168748649507], [7.4700856911221383, 7.1874325584073073, 5.9543327019105901, 5.1161434898361939, 4.1598191037338736], [8.2556699109749871, 8.3898132105110452, 8.6197918233297823, 8.2667875201841277, 7.2512729579871591], [5.4252766442876812, 6.4314375764374274, 5.5348902586754996, 5.0153106399068426, 4.9142258115575954], [8.10306492179358, 7.804514720305308, 7.8115466279427261, 7.4114871601893206, 7.2094622072755188], [5.6589407761557808, 5.550075041798797, 4.9213987721008507, 5.0886163778363089, 4.5734306089520862], [5.4638345260941401, 4.8797543380322912, 5.1333274324581293, 3.8434713150568083, 3.48273545455605], [7.5689321123817956, 6.4941803721324733, 5.0919775858518861, 5.6185912015947244, 4.8177679040882024], [12.277569563859872, 9.6175735430279854, 10.408751294947137, 9.5504329576970743, 9.0015075647494776], [7.8627573045312156, 6.9751238839186565, 6.121731131725844, 5.3070317860771201, 5.4628481432290101], [10.396334092540831, 8.9822400602159114, 5.71618983275948, 5.1500531310263025, 4.116877827054072], [7.3887574927318216, 6.3216663126551254, 5.8302683578011445, 5.2753704996063213, 4.2814489322590008], [6.4936740512218618, 5.9096752163280089, 5.183270790557005, 4.7207547656571966, 4.6108543187917483], [9.7808154175438293, 6.4741897754139925, 7.0693219774281886, 5.5402369333852235, 5.4967289688101655], [4.806853834183844, 3.1708915072928785, 2.5474748345815001, 2.2364377496384482, 2.3239553313520132], [8.3047767261426397, 6.4512589763825288, 6.9196247652318181, 6.2723620852894317, 4.7037713661469427], [8.1008712753741499, 9.9113062014275819, 5.9560087832766895, 6.3026804873670041, 5.7193612918339571], [9.4441451058060384, 6.3789240270384973, 6.5955508081301533, 6.3414434287059924, 6.4600426674822753], [5.3574082614810763, 5.3048729652098503, 5.3405657902567167, 3.9544538542461938, 4.8655879064132899], [6.4039369222695699, 5.3960563288508707, 4.3330789503966622, 5.0235510409138975, 4.0576835930526034], [5.9977742148754132, 5.230537819422441, 4.9391094975508141, 4.739515241831139, 4.7621890101417472], [5.8435981641395891, 5.5052032371532631, 5.8446956764060634, 5.8344716990955883, 6.7432940452529229], [5.5404725543644719, 4.5018638665024975, 3.8075503728733651, 3.9260901159595498, 3.5895384635371488], [4.8511484994602441, 4.2741440825647814, 4.0477915647820915, 3.5127250951931344, 3.6403293728124448], [6.5246609800954234, 5.625488540292821, 6.5409381395390938, 6.2382569688219798, 5.7135496749800678], [5.435622752884167, 6.3561568570637439, 5.2452091301935386, 4.6974024953697811, 5.4901202650973344], [8.3412737785102102, 6.1301109568473153, 6.7368824698561713, 6.1860960971880461, 6.1119561492503465], [5.8349399036078688, 5.7716014784403944, 6.4421809765140869, 6.0717947695152867, 6.059236820825177], [7.5873014494196243, 7.3640768274166879, 8.5180894176866584, 8.7445715778789079, 7.3112777361024381], [6.3045063186664736, 3.3009373003386187, 2.5422781481183252, 2.4802609866363037, 2.0602604672752372], [6.9271889888923024, 6.2175291383592519, 4.9736936204583939, 5.0719212326902623, 4.7676237813979885], [6.0620465677863811, 3.6293076156023241, 3.151636658744045, 3.277376297886144, 2.3831157747101175]], [1.9199950728696655, 6.2790604393353719, 7.7644681061070999, 5.5027879587019637, 6.693349306955878, 4.1238827162071834, 4.6817619818330698, 4.1021877466516381, 2.6341088819978435, 5.1491471037403214, 7.0790721503394325, 1.7621904384953369, 6.8898030457984261, 3.13616807869577, 2.8367030823024448, 4.3100142709159748, 3.678014485167123, 6.2181302391376887, 3.8030434103842712, 6.4749848165870159, 4.8072779557428902, 1.695155897068116, 4.1330335259021851, 5.1232725820844838, 5.9229441706074137, 7.8277898261391758, 2.8948820230539827, 3.0810138969906822, 7.3420685881479963, 4.3797311366373535, 4.5994029400018954, 4.9746026910513539, 3.8330015323609503, 3.1420128099339912, 5.1468750742153588, 3.8761547639145419, 4.5250075762009372, 6.8869394507868087, 7.8221601895699013, 5.7610044194279775, 5.2057202022562441, 6.0769175442223844, 4.6185740178065107, 7.0144009763542483, 5.2026795761836695, 7.3527653188227653, 5.8745663222275795, 2.9808030986647225, 2.6095918025488536, 4.846710102702299, 3.4675826569712367, 4.3871709112235884, 1.6919478812928082, 4.6950634739789896, 6.1157553626426626, 1.5622290423137422, 5.3389961156081256, 6.388929278928198, 7.0495444302738957, 3.6119691696555889, 5.0292710686910143, 5.3966048105740612, 1.5634057037157136, 3.8075345651438788, 7.5882215334449139, 3.8435705444676422, 4.1147842621010353, 4.8317038625414384, 4.2426928178232846, 4.2127788405004454, 7.2558027529171323, 4.8202426370606037, 6.6066921064263653, 4.5816611331519175, 3.3677495031783589, 5.0591895667040285, 9.3248136990828971, 4.9614530752939787, 4.3732010402736927, 3.6268833010516883, 4.465817057158632, 5.1514752760585969, 2.0929414902516807, 4.5068247067925569, 5.4265687326338101, 5.6018519401984888, 3.9491235096240218, 4.0168510685078669, 4.6288908199752425, 5.2224474674553232, 3.7092914020996082, 3.5375792506491854, 5.3688202776451792, 4.7676676920589278, 6.12912640802704, 5.7722521868567753, 6.2587766224711645, 2.2111616375349192, 4.6687239629277073, 2.3265924509376363], [[[0.2461516227279458, 0.22463836235588325, 0.2572604310553376, 0.05555939167138269, 0.21639019218945063], [1788.9437357115403, 2153.58331488207, 2476.117679219847, 1779.3838300582863, 1466.9368479206023], [129.44176241747016, 81.0647265104358, 177.51441198687968, 68.9032111144825, 55.492401652206865], [2755.997913894503, 1531.6215303365466, 1687.9601503886527, 2098.8352151041445, 1366.1970516136867]], [[0.15743876688506941, 0.3363170091285652, 0.15006027946847464, 0.12570996589980152, 0.2304739786180894], [1520.039462051127, 2689.6129609352547, 2173.825472669253, 2820.3115356526923, 1670.186305146413], [128.78843981674325, 202.4432751417838, 55.28331142912627, 67.29668644051915, 123.60112124805457], [2755.997913894503, 1531.6215303365466, 1687.9601503886527, 2098.8352151041445, 1366.1970516136867]], [[0.15761643912857157, 0.30960154402582357, 0.2153470236766206, 0.12656124480748882, 0.19087374836149545], [1922.9987197760897, 2702.6089540159055, 1692.0974195269243, 2773.5899531329806, 2849.8934519570103], [58.43648474108161, 201.23590108049535, 165.673808546685, 155.55680712688132, 191.76661957203447], [2755.997913894503, 1531.6215303365466, 1687.9601503886527, 2098.8352151041445, 1366.1970516136867]], [[0.2188471411412111, 0.37922298169220653, 0.17579904352108275, 0.123059929794641, 0.10307090385085874], [1767.1197540403446, 1948.598984583412, 1437.4347645274456, 1905.6081757715626, 2555.9131879875254], [150.04806624036019, 58.47596752203907, 201.2670941052932, 85.1662009989156, 134.57899005678794], [2755.997913894503, 1531.6215303365466, 1687.9601503886527, 2098.8352151041445, 1366.1970516136867]], [[0.2872227539694135, 0.22781680882043973, 0.18715252088832823, 0.14184109881785917, 0.1559668175039593], [2548.5384129469003, 1264.1892161984506, 2384.825095679481, 2351.635243625113, 1954.1425800781117], [189.70199052534238, 60.53190818095311, 180.88113458125036, 191.50819646143134, 164.6233627644458], [2755.997913894503, 1531.6215303365466, 1687.9601503886527, 2098.8352151041445, 1366.1970516136867]], [[0.15694134228514076, 0.3561554552177204, 0.19070738928826889, 0.19619091170692962, 0.10000490150194039], [1912.8900790948458, 2295.342553520125, 2309.519863492519, 2891.799497463435, 2805.878735814886], [118.73906846774845, 196.10117987736095, 95.95521995463265, 71.26493712853816, 179.8966475285563], [2755.997913894503, 1531.6215303365466, 1687.9601503886527, 2098.8352151041445, 1366.1970516136867]], [[0.29436433424572334, 0.25847928778635343, 0.24563869038138442, 0.06040103717988461, 0.14111665040665428], [2683.493310301459, 2035.4668734786978, 2528.8851885328068, 2895.499723546388, 1640.2002556062585], [70.11535001310352, 139.98348830673183, 123.41085309225782, 66.20772721957836, 50.40204053045832], [2755.997913894503, 1531.6215303365466, 1687.9601503886527, 2098.8352151041445, 1366.1970516136867]], [[0.13003022963542782, 0.21297768642093853, 0.24320851201713947, 0.17821624439313052, 0.23556732753336365], [2239.816583397002, 2606.196208477424, 2517.5736895847426, 1983.0030090014884, 1560.932304246423], [138.33710821107667, 182.8755121213153, 201.80684548428127, 146.15122842462878, 57.095495389580606], [2755.997913894503, 1531.6215303365466, 1687.9601503886527, 2098.8352151041445, 1366.1970516136867]], [[0.13831757934135977, 0.35873757306563436, 0.16770436532132427, 0.06826089517119466, 0.26697958710048714], [1220.5650735804402, 2064.8118807910005, 2701.454505064236, 1793.3622242778147, 1799.6197645830148], [122.18372506068191, 102.466991971145, 100.02873226774567, 82.83947717237774, 73.56702405019477], [2755.997913894503, 1531.6215303365466, 1687.9601503886527, 2098.8352151041445, 1366.1970516136867]], [[0.2260163296163413, 0.24478423514803369, 0.24463363869234245, 0.14141871908059794, 0.1431470774626846], [2128.3787581796014, 2721.627833588007, 2619.782852712925, 2124.8735795687603, 2489.283572762224], [182.42187747354845, 63.59673923408984, 139.19527976401483, 179.93440386451067, 193.19659619004932], [2755.997913894503, 1531.6215303365466, 1687.9601503886527, 2098.8352151041445, 1366.1970516136867]], [[0.16788627493859426, 0.4012944276735363, 0.08131332110452974, 0.12057934464298478, 0.22892663164035484], [1619.6809374606937, 2319.2460561838725, 2872.5517890592614, 2385.01363497478, 2621.685086509441], [54.79514411246596, 177.39128815585389, 183.85341478367178, 172.95388020410047, 118.80846773465197], [2755.997913894503, 1531.6215303365466, 1687.9601503886527, 2098.8352151041445, 1366.1970516136867]], [[0.25165308562543565, 0.36024883012618847, 0.23029299636820882, 0.042894434312123204, 0.11491065356804404], [2672.40737966763, 1733.007954628912, 1364.4142450254421, 2427.980493581755, 2245.4610280770416], [67.49305593209165, 117.68404613803455, 133.0652983759239, 147.52744040379744, 120.2968748435118], [2755.997913894503, 1531.6215303365466, 1687.9601503886527, 2098.8352151041445, 1366.1970516136867]], [[0.25125037239581227, 0.23169177224461796, 0.25195545093642235, 0.08405537606345719, 0.18104702835969025], [2610.843132818628, 2714.474392394265, 2939.030100885272, 2073.8161914963275, 2755.6394328102206], [172.30324118676555, 114.95296021973121, 170.7276294805185, 168.0597995189474, 173.80174403299378], [2755.997913894503, 1531.6215303365466, 1687.9601503886527, 2098.8352151041445, 1366.1970516136867]], [[0.11385247834029912, 0.3350216498853259, 0.21209329332068405, 0.13409438090152154, 0.20493819755216938], [2388.335698871114, 1408.8437766954225, 2883.7247253151586, 2186.55227541813, 1646.7010000114242], [41.76325060201181, 195.20610956017433, 196.3996263487417, 160.39716287926103, 80.91384821700508], [2755.997913894503, 1531.6215303365466, 1687.9601503886527, 2098.8352151041445, 1366.1970516136867]], [[0.14423280791407614, 0.347682073429763, 0.24955842770500353, 0.04745675314832413, 0.21106993780283306], [1499.1057969816852, 1672.6484811940275, 1518.2159853905684, 2087.4697205495277, 2690.4625063329477], [78.61704256955178, 55.21539418554447, 143.58228565781394, 112.59975229832045, 208.65358353107138], [2755.997913894503, 1531.6215303365466, 1687.9601503886527, 2098.8352151041445, 1366.1970516136867]], [[0.2747760570504327, 0.2982950662992001, 0.13262279810035418, 0.05818984234672641, 0.2361162362032865], [2098.551015752048, 1977.9848658184605, 2696.603388147386, 1597.6507506401624, 1358.0764269234423], [141.4901573155406, 117.87937200705578, 68.0814204794232, 146.7568100473133, 130.92278464055613], [2755.997913894503, 1531.6215303365466, 1687.9601503886527, 2098.8352151041445, 1366.1970516136867]], [[0.12366613159336698, 0.2240904054797402, 0.2566702537539257, 0.06366558013626242, 0.3319076290367046], [1530.7183247228588, 1841.2169459468128, 1657.4278521626875, 2431.4008281801102, 1484.8524304635766], [188.40117965053003, 135.3938898201104, 92.05862742571412, 198.99974728300677, 144.87160303770963], [2755.997913894503, 1531.6215303365466, 1687.9601503886527, 2098.8352151041445, 1366.1970516136867]], [[0.27263913916687194, 0.2903339082519065, 0.17001164603457855, 0.12096522846244412, 0.14605007808419876], [2067.8869149329344, 2123.561036958838, 1728.2238645852817, 2096.0599734890384, 2126.6384976708864], [105.88280277083948, 169.69880070019093, 196.5011241354706, 86.38707849005174, 150.62251204039944], [2755.997913894503, 1531.6215303365466, 1687.9601503886527, 2098.8352151041445, 1366.1970516136867]], [[0.26082839282281556, 0.2085714167584009, 0.22068149010301627, 0.1516083901110617, 0.15831031020470548], [1445.0384416487427, 2337.6677924291607, 2228.633305529748, 1448.7069944173513, 2068.9574893480913], [58.9221066676688, 196.90035250478968, 195.31155817777736, 122.40289370620738, 123.66829449686433], [2755.997913894503, 1531.6215303365466, 1687.9601503886527, 2098.8352151041445, 1366.1970516136867]], [[0.2138440188000434, 0.29799927668883297, 0.19132339665636938, 0.186628009750307, 0.11020529810444715], [2610.422393188219, 1548.897240261717, 2785.7741934452706, 2590.513040654727, 1659.147719846932], [173.38237868841026, 159.09387068092207, 93.36316688376479, 87.78772987833469, 206.37320945733768], [2755.997913894503, 1531.6215303365466, 1687.9601503886527, 2098.8352151041445, 1366.1970516136867]], [[0.245081276402422, 0.2583586103078851, 0.11246862762724777, 0.20072951598901734, 0.18336196967342788], [2276.1567733641896, 1540.2374172609302, 2385.3422776161215, 1302.6474116915902, 2664.215497959646], [92.85126619863837, 129.26483198673282, 87.9618810269071, 105.75423033135449, 139.438050300587], [2755.997913894503, 1531.6215303365466, 1687.9601503886527, 2098.8352151041445, 1366.1970516136867]], [[0.1616702161236209, 0.30843825132223407, 0.23334676720137695, 0.08362572658327992, 0.21291903876948826], [1514.5226783190778, 2479.7905326393848, 2693.7914579670705, 1565.6148840456199, 1595.9563178336898], [133.43171436461967, 168.96195785689093, 69.91450053273101, 50.12431788329076, 75.9067000703554], [2755.997913894503, 1531.6215303365466, 1687.9601503886527, 2098.8352151041445, 1366.1970516136867]], [[0.13189144156529417, 0.24862803313924642, 0.08164901259981243, 0.2347810986806259, 0.30305041401502103], [1247.6387260727602, 1977.3544619333738, 1516.460093863137, 2689.4327124916736, 1982.7597590296627], [117.52049086023715, 142.4940924658012, 148.40166370373896, 104.90331666399106, 125.35123870735438], [2755.997913894503, 1531.6215303365466, 1687.9601503886527, 2098.8352151041445, 1366.1970516136867]], [[0.16477229587391604, 0.2659626296373059, 0.1976545653833425, 0.20578179563073976, 0.1658287134746959], [1952.4559603031507, 1666.4502457301987, 2367.99978466753, 2766.0481886308694, 2736.7589887731847], [175.95580444494487, 101.48006388071848, 69.84909790990267, 196.30844279744193, 167.11505351050027], [2755.997913894503, 1531.6215303365466, 1687.9601503886527, 2098.8352151041445, 1366.1970516136867]], [[0.13286611573540985, 0.2595138004856862, 0.22682978368972115, 0.21977529426560324, 0.16101500582357964], [1710.3079131524787, 1481.7705856734874, 2265.723522241642, 1567.1858123734296, 2364.850643226971], [189.71878236768094, 166.6387829819538, 208.58001475658585, 117.67486685434518, 86.40686251979302], [2755.997913894503, 1531.6215303365466, 1687.9601503886527, 2098.8352151041445, 1366.1970516136867]], [[0.17574471653164106, 0.3026236031079521, 0.13571626884121885, 0.170790037891506, 0.21512537362768194], [1964.526291802273, 2704.9402187383366, 1701.781532424105, 2610.7224340175844, 1826.0094733841165], [152.1624849049556, 192.5663602524479, 60.648007348616005, 159.33076440715277, 127.28053744147758], [2755.997913894503, 1531.6215303365466, 1687.9601503886527, 2098.8352151041445, 1366.1970516136867]], [[0.1463377218653329, 0.3619514660665013, 0.17381792921937958, 0.13817172056188395, 0.17972116228690224], [2208.139942574424, 1249.6092588876218, 1412.6005121774558, 1805.0085008038518, 2480.1800540011836], [139.4751168834008, 95.51124217587596, 193.02818745635446, 157.89052743382823, 182.27397956370984], [2755.997913894503, 1531.6215303365466, 1687.9601503886527, 2098.8352151041445, 1366.1970516136867]], [[0.1039135052249842, 0.2776339579152704, 0.2596981230625163, 0.24805726685593799, 0.11069714694129121], [1997.9190735594493, 2259.649673802799, 1418.1758924767428, 2774.0224604904843, 1466.1029270670606], [44.174803522952075, 76.48403833938738, 197.6703116143177, 187.8779612984467, 95.3634154157997], [2755.997913894503, 1531.6215303365466, 1687.9601503886527, 2098.8352151041445, 1366.1970516136867]], [[0.22311381701653568, 0.22294929376605643, 0.1080624703775959, 0.23539710981967296, 0.21047730902013911], [1799.7299147090218, 2588.600383341075, 1875.082738936771, 2462.0748446049556, 1519.1753626099867], [182.7336816356509, 108.81305061432704, 134.93792112601983, 115.3788352428164, 118.00684093801442], [2755.997913894503, 1531.6215303365466, 1687.9601503886527, 2098.8352151041445, 1366.1970516136867]], [[0.13770045005499584, 0.34785357525265453, 0.07818678020154446, 0.12571463859027307, 0.31054455590053204], [1165.113531155922, 2210.191044820036, 2781.1480002661838, 1507.3210832510722, 2113.014804162818], [166.2304808215673, 184.69963405306993, 100.5058073988474, 80.18028605510752, 141.3126502581784], [2755.997913894503, 1531.6215303365466, 1687.9601503886527, 2098.8352151041445, 1366.1970516136867]], [[0.21575155187321626, 0.3094431029515196, 0.1185070712265476, 0.14933158598239363, 0.20696668796632284], [2513.4272656238736, 2138.177376789114, 1662.762592324189, 1677.4888771993944, 1445.4988055378599], [154.92978896567408, 66.43356984510739, 150.82580588185877, 202.16368151839035, 180.92887434920536], [2755.997913894503, 1531.6215303365466, 1687.9601503886527, 2098.8352151041445, 1366.1970516136867]], [[0.3029580693464163, 0.21477995491879004, 0.22138105634425329, 0.10144884298278758, 0.15943207640775275], [1926.1121141488707, 2050.3723082677243, 2932.7330655739106, 1445.546345413346, 2778.2802380630483], [149.76901485324646, 49.434984370296434, 154.8708574327805, 177.64060362085513, 63.44703108875618], [2755.997913894503, 1531.6215303365466, 1687.9601503886527, 2098.8352151041445, 1366.1970516136867]], [[0.2731829441192673, 0.20711661708377135, 0.20083650526758856, 0.15926019676491027, 0.15960373676446246], [1656.7324797153524, 1589.7630783290715, 2775.580597599834, 2148.3366217439234, 1753.8522353774224], [106.47175347652535, 145.17177402974744, 166.25338434403392, 129.8967540999068, 172.25831770306672], [2755.997913894503, 1531.6215303365466, 1687.9601503886527, 2098.8352151041445, 1366.1970516136867]], [[0.3013933027872466, 0.2866279306317154, 0.20943195090752287, 0.08260076966327427, 0.11994604601024096], [2009.5803785477542, 1582.6809117510045, 1670.8519998492843, 2641.270475361255, 2629.550567900779], [46.45740890343107, 196.1236574599372, 181.03488623923204, 186.44362403509203, 156.76447970414733], [2755.997913894503, 1531.6215303365466, 1687.9601503886527, 2098.8352151041445, 1366.1970516136867]], [[0.1896556585868054, 0.34903436166096596, 0.26231037718903527, 0.048829862718790126, 0.15016973984440327], [2329.950098372662, 2400.501868382074, 1623.1492576182095, 2326.3836211966463, 1409.7213116363341], [139.4941083716344, 50.032779700173535, 197.59392500748, 175.80426337390165, 112.70269345315174], [2755.997913894503, 1531.6215303365466, 1687.9601503886527, 2098.8352151041445, 1366.1970516136867]], [[0.25694316776100407, 0.21813847459931476, 0.11632372621225463, 0.16998470580147, 0.23860992562595645], [2327.076948592053, 1250.4284369384459, 2882.714182766031, 2358.4686159067896, 2619.995415276785], [47.03675859494837, 203.18158474342243, 122.06865070104689, 176.28903133944138, 84.08327866027598], [2755.997913894503, 1531.6215303365466, 1687.9601503886527, 2098.8352151041445, 1366.1970516136867]], [[0.2924390094322319, 0.2358622692944304, 0.15296313743815063, 0.08180343912848655, 0.2369321447067005], [1161.9686598116987, 2072.604659922731, 2043.2650141233166, 1685.2895946872263, 2073.5807067199357], [122.28978889359954, 91.39241576717495, 67.53257391947673, 175.5568940982169, 122.97216824414464], [2755.997913894503, 1531.6215303365466, 1687.9601503886527, 2098.8352151041445, 1366.1970516136867]], [[0.21740472355741836, 0.2205694731506959, 0.08242981035598311, 0.2621234986715345, 0.21747249426436802], [2397.132901597777, 2204.697385242182, 1526.245256747012, 2068.1094428825054, 1343.93021152979], [165.56420182652658, 136.2961370610613, 180.45221381804447, 201.3762330533854, 136.9476829370825], [2755.997913894503, 1531.6215303365466, 1687.9601503886527, 2098.8352151041445, 1366.1970516136867]], [[0.12497852576514046, 0.4422956916417761, 0.08973473261531173, 0.21290477618915984, 0.13008627378861198], [2705.680503437581, 2316.1560281115617, 2201.155222030261, 2243.6631943998, 1660.3173513626225], [150.09786113486172, 115.93327994411224, 125.22899288197537, 98.71655492768699, 188.9497268048067], [2755.997913894503, 1531.6215303365466, 1687.9601503886527, 2098.8352151041445, 1366.1970516136867]], [[0.1527499120920503, 0.32643983410582805, 0.12101091418242006, 0.2064020785044923, 0.19339726111520936], [2187.129426889478, 2273.2980523726724, 2080.6093022319637, 2775.5365907116748, 1917.7216032017], [64.48092411022257, 142.05369462695393, 83.92964884060612, 202.12638359570593, 182.02640815161607], [2755.997913894503, 1531.6215303365466, 1687.9601503886527, 2098.8352151041445, 1366.1970516136867]], [[0.22322437553646418, 0.2634462593171275, 0.23016988917089487, 0.07735961272130386, 0.20579986325420954], [2424.7759899114644, 1500.3081919386718, 2359.2167100776737, 2782.4233664320996, 2898.1145417791913], [69.38291172645044, 83.10088450848835, 136.26092359582913, 72.94650840402346, 122.19153604103958], [2755.997913894503, 1531.6215303365466, 1687.9601503886527, 2098.8352151041445, 1366.1970516136867]], [[0.21302941986456606, 0.2851429695724379, 0.21077441549650927, 0.2116414996501699, 0.0794116954163169], [2125.3743391690364, 1376.4297512305432, 2766.9221666254966, 2481.526390917542, 2201.895241201744], [194.83754264821454, 105.64831073841222, 171.72190733509885, 157.75655494143345, 157.12153104542202], [2755.997913894503, 1531.6215303365466, 1687.9601503886527, 2098.8352151041445, 1366.1970516136867]], [[0.2749781873978549, 0.30161562683399834, 0.24681383146346345, 0.05565328885685775, 0.12093906544782536], [1899.5453765558634, 2329.2142947736734, 2385.4752596120798, 2528.9759829084614, 1934.1514947550618], [170.56392371320163, 81.49922150107733, 100.30981259763378, 168.9611672767456, 162.6809532484153], [2755.997913894503, 1531.6215303365466, 1687.9601503886527, 2098.8352151041445, 1366.1970516136867]], [[0.08935177673668779, 0.3710893563007241, 0.08912408147033823, 0.1861957050232405, 0.2642390804690093], [1693.0393937839704, 2397.5793940173976, 2519.23402619621, 2191.167546004854, 2742.6652213974276], [47.63166769070048, 146.13419737008377, 206.6775925635943, 146.33144738681568, 135.16608457751326], [2755.997913894503, 1531.6215303365466, 1687.9601503886527, 2098.8352151041445, 1366.1970516136867]], [[0.22553386281723867, 0.2780474659262659, 0.19664584101409402, 0.09181574531270112, 0.20795708492970041], [1748.6113004226672, 1658.387491540358, 1706.5011613606057, 1623.126738196338, 1595.4519888547834], [126.55985610710164, 90.55123854391296, 70.80951766145625, 108.32865431631424, 149.7666693959759], [2755.997913894503, 1531.6215303365466, 1687.9601503886527, 2098.8352151041445, 1366.1970516136867]], [[0.26770176002288393, 0.3311498296778127, 0.1826363704886691, 0.0892540332350396, 0.1292580065755948], [1995.7470627044881, 2585.6965317430613, 2032.4560287885708, 2820.2381507937034, 2477.933078392573], [120.84920378062938, 170.24400500443681, 211.7611868010697, 203.36743627260492, 85.93987106338494], [2755.997913894503, 1531.6215303365466, 1687.9601503886527, 2098.8352151041445, 1366.1970516136867]], [[0.17658243534079324, 0.3533729528551035, 0.08619679274826444, 0.12656920126136367, 0.2572786177944752], [2181.4602215111468, 1950.5677173107692, 2719.1540885022378, 2640.486575015754, 1603.599916725396], [45.67079198201178, 147.48719215817803, 79.2154394706351, 70.73283691444286, 109.30672714873094], [2755.997913894503, 1531.6215303365466, 1687.9601503886527, 2098.8352151041445, 1366.1970516136867]], [[0.2875127471814554, 0.36725466877798213, 0.05017005260980999, 0.06305188618274343, 0.23201064524800905], [2290.723268655168, 1241.9455514760464, 1898.692013152782, 2007.5427639844343, 1983.7036690764617], [128.12721190634431, 168.1681348401927, 56.15865926257585, 144.03005826329957, 53.484606252466946], [2755.997913894503, 1531.6215303365466, 1687.9601503886527, 2098.8352151041445, 1366.1970516136867]], [[0.1906139944135707, 0.27989673652476316, 0.20764050732982015, 0.11484010924137905, 0.207008652490467], [2269.151615248864, 1535.3229003820884, 1556.2375912454827, 2194.798795438258, 2642.8720166697167], [165.75686982748314, 153.97019948335378, 56.5066919625946, 188.83972467587787, 182.52953149153578], [2755.997913894503, 1531.6215303365466, 1687.9601503886527, 2098.8352151041445, 1366.1970516136867]], [[0.16078616229022089, 0.3396320065422595, 0.26322975628264517, 0.09486574606700027, 0.14148632881787412], [1197.1257571874419, 1698.8718804078878, 1895.5244128264328, 1854.4532248186467, 1690.9484112144842], [118.31207978350017, 66.53372320779386, 78.03782545934213, 202.67608627736115, 199.63278481202312], [2755.997913894503, 1531.6215303365466, 1687.9601503886527, 2098.8352151041445, 1366.1970516136867]], [[0.3211946758500611, 0.20456228986362118, 0.06986721200907063, 0.1037368152730787, 0.3006390070041683], [1690.3328957706872, 1183.933377207924, 1685.5811952651816, 2416.445068010403, 2225.5854400137996], [109.45117648336984, 187.30585003736854, 59.860165657010626, 107.98626057089044, 133.52622359268216], [2755.997913894503, 1531.6215303365466, 1687.9601503886527, 2098.8352151041445, 1366.1970516136867]], [[0.3078592138054437, 0.21756372474552346, 0.09290994030575563, 0.06357183675039838, 0.31809528439287865], [2216.0777121251776, 2060.1975955092516, 2387.1946231272022, 1642.4013658239458, 2830.059600638113], [55.42559620665949, 123.99055199078285, 93.82254224168312, 159.32244100168714, 183.3281227111268], [2755.997913894503, 1531.6215303365466, 1687.9601503886527, 2098.8352151041445, 1366.1970516136867]], [[0.29182702793949994, 0.23767710547379517, 0.06673431160730196, 0.21856512153159025, 0.18519643344781275], [1333.6985308105222, 2297.8821978271244, 2043.3356880518713, 1529.9436191120822, 1313.520611125255], [67.79176711919894, 71.83268411157539, 210.34834489408968, 59.02265505798205, 145.14321758958351], [2755.997913894503, 1531.6215303365466, 1687.9601503886527, 2098.8352151041445, 1366.1970516136867]], [[0.2300454349621533, 0.22718411528119525, 0.22303667864169974, 0.18335389121246873, 0.136379879902483], [2282.43762040995, 1703.9238513140608, 2737.252314396962, 1637.862126957728, 1423.019810544928], [63.92289443205934, 204.04247512102364, 129.26410039207352, 160.44140281569568, 205.70184805333173], [2755.997913894503, 1531.6215303365466, 1687.9601503886527, 2098.8352151041445, 1366.1970516136867]], [[0.19374775226527577, 0.4271067453887812, 0.06400534377350406, 0.14869721335642386, 0.16644294521601524], [2444.6845016395237, 2533.8248131179057, 1990.0509352410727, 2225.838861243533, 2231.858064607939], [175.97715344995117, 48.24635343067902, 85.74180866435327, 182.00879167675635, 193.67212622478087], [2755.997913894503, 1531.6215303365466, 1687.9601503886527, 2098.8352151041445, 1366.1970516136867]], [[0.23579654065823913, 0.20933883432560568, 0.12021596326359052, 0.09558845478168997, 0.33906020697087463], [1280.2968526378113, 2282.3644807279843, 2910.178339071782, 1371.8988443330347, 1351.9948375336712], [97.62173204456722, 101.32618953945052, 168.7279448795104, 60.578978623506316, 206.98671259939485], [2755.997913894503, 1531.6215303365466, 1687.9601503886527, 2098.8352151041445, 1366.1970516136867]], [[0.23164842297931346, 0.2575902990765474, 0.15499759168650457, 0.14663156807463587, 0.2091321181829987], [2085.1920665135412, 2423.4139680299604, 1830.8330957516573, 1890.9359018151727, 1387.2673757901719], [130.13145150041038, 192.11861000536567, 72.07790871984885, 178.85533086523458, 147.98138712160923], [2755.997913894503, 1531.6215303365466, 1687.9601503886527, 2098.8352151041445, 1366.1970516136867]], [[0.169526658379992, 0.22726494906375838, 0.23846298493945142, 0.13606679277073402, 0.22867861484606428], [1698.7329665278505, 1661.606521478388, 2403.20727140235, 2543.16126925499, 2243.714635054805], [125.74995298510665, 132.27916630103587, 73.04697743267783, 176.2380928124696, 123.6980613391278], [2755.997913894503, 1531.6215303365466, 1687.9601503886527, 2098.8352151041445, 1366.1970516136867]], [[0.2732779567555711, 0.30825553781884163, 0.05886832669098088, 0.1750163783626938, 0.1845818003719126], [1620.7453845719158, 2221.728460286311, 2196.086010778567, 2256.7151655450916, 2848.876800373734], [169.347116605885, 201.5833506541502, 75.11831872773556, 137.98453702260997, 70.23827096150617], [2755.997913894503, 1531.6215303365466, 1687.9601503886527, 2098.8352151041445, 1366.1970516136867]], [[0.20510544583674797, 0.2694992156980223, 0.10268662240958437, 0.20079280880731912, 0.22191590724832613], [1423.9091829166045, 2085.320435154735, 1970.0062154035368, 2600.3481492803817, 2600.3346234744517], [117.66251405125546, 128.02102327034112, 141.2331872014997, 83.09071579090705, 157.55611400788155], [2755.997913894503, 1531.6215303365466, 1687.9601503886527, 2098.8352151041445, 1366.1970516136867]], [[0.25231574179844035, 0.2874297050813785, 0.1800950650599948, 0.09908295043942712, 0.1810765376207593], [1655.9994451027515, 1790.5719212025551, 2484.0689191618876, 2102.191372718565, 1881.5736896085714], [131.6930488617772, 86.26984656237484, 194.33179881972626, 115.26363623476675, 86.96467465861096], [2755.997913894503, 1531.6215303365466, 1687.9601503886527, 2098.8352151041445, 1366.1970516136867]], [[0.21671920881159878, 0.20087494755034618, 0.1825077879634071, 0.19291575812078146, 0.2069822975538664], [2234.9443958816855, 1866.4681726050485, 2428.961318722836, 1635.4912013587075, 2254.7410051522825], [112.12824680046168, 112.82371960299142, 66.64147685936092, 120.32364847008782, 150.28420283645445], [2755.997913894503, 1531.6215303365466, 1687.9601503886527, 2098.8352151041445, 1366.1970516136867]], [[0.14056077346166532, 0.3570819693094419, 0.23320223929619954, 0.09636176372418376, 0.1727932542085095], [1590.6015290548326, 2632.349616162138, 2761.550199771853, 1354.14827661556, 1332.7299047389247], [174.15487298319482, 109.54258215098326, 172.67249097893915, 124.71276124794468, 126.89103499832642], [2755.997913894503, 1531.6215303365466, 1687.9601503886527, 2098.8352151041445, 1366.1970516136867]], [[0.14064886351384226, 0.2676184366363137, 0.29180211507825604, 0.13226187712144644, 0.16766870765014155], [2467.942561162778, 1571.9267641878505, 2887.884760007426, 2358.395566693653, 1973.86933352818], [186.25227858819835, 104.56398441679039, 145.6164737786266, 105.21468468326896, 198.6008045737679], [2755.997913894503, 1531.6215303365466, 1687.9601503886527, 2098.8352151041445, 1366.1970516136867]], [[0.1413395475736123, 0.20968667825062107, 0.2606003840087262, 0.1889355467419885, 0.199437843425052], [2649.063603027929, 2200.791676944716, 2274.401004083945, 2221.273511078074, 2897.19708390268], [111.41120859945087, 102.66169692382672, 160.36853550943732, 142.1389931636841, 201.02508095382578], [2755.997913894503, 1531.6215303365466, 1687.9601503886527, 2098.8352151041445, 1366.1970516136867]], [[0.26985918556964056, 0.27804158023271774, 0.2231498107445949, 0.07439662936766067, 0.1545527940853861], [2707.8068901135084, 1674.685772999684, 1752.7412579483048, 1729.2160053666391, 1404.143915619575], [128.49200271984517, 102.46445202274654, 80.29733676639674, 183.48728220769073, 136.0495392527708], [2755.997913894503, 1531.6215303365466, 1687.9601503886527, 2098.8352151041445, 1366.1970516136867]], [[0.28105217478816386, 0.291837079568127, 0.09768684565593826, 0.0913192242804253, 0.23810467570734556], [2664.74237457031, 2345.5578119192733, 1479.8607871822792, 1959.9944290283554, 1849.8513969336088], [62.77812042835777, 187.158006639206, 123.32733382306853, 73.99450385578339, 74.67999746007338], [2755.997913894503, 1531.6215303365466, 1687.9601503886527, 2098.8352151041445, 1366.1970516136867]], [[0.21814427136016498, 0.19174283398915945, 0.18482532743253238, 0.14866517621350755, 0.25662239100463574], [1176.860639043706, 1839.8230001908423, 2870.052157385703, 1999.1374095463243, 1904.4050152713342], [139.07701243791564, 198.28504829741198, 59.226946538242856, 164.12433934928484, 134.71178091184532], [2755.997913894503, 1531.6215303365466, 1687.9601503886527, 2098.8352151041445, 1366.1970516136867]], [[0.314809797280567, 0.38345776470711795, 0.11179979184031112, 0.08045148698352501, 0.1094811591884789], [1826.204384249512, 1638.6532698770295, 2010.8547684235195, 2868.7591044134697, 2534.4623730064914], [156.07643306282984, 79.86094830319836, 171.48345715133559, 49.3411548189855, 118.41934090913142], [2755.997913894503, 1531.6215303365466, 1687.9601503886527, 2098.8352151041445, 1366.1970516136867]], [[0.17508657299206787, 0.3656317371610973, 0.190080613051207, 0.07904256625754857, 0.19015851053807917], [1306.683832287954, 1611.8106966122118, 2664.940930738084, 2020.3267329589276, 2245.451098411156], [49.12251957814432, 197.97109195227654, 208.4285425199745, 81.68362757687134, 198.13319097718787], [2755.997913894503, 1531.6215303365466, 1687.9601503886527, 2098.8352151041445, 1366.1970516136867]], [[0.13548522049002892, 0.2859300178957254, 0.1475744876902626, 0.15780585548712647, 0.2732044184368565], [2658.787899396203, 1940.4247773208394, 2579.323963246061, 2104.34907272547, 2496.6663738060834], [139.77974215751277, 175.75855531054574, 182.59285055740372, 161.33945270314578, 62.71276626925852], [2755.997913894503, 1531.6215303365466, 1687.9601503886527, 2098.8352151041445, 1366.1970516136867]], [[0.20907654021537195, 0.1755726184829937, 0.16770503971854991, 0.18968545790556027, 0.25796034367752413], [1956.8054680438568, 1911.5345768485763, 2900.8394651933404, 1765.610669490855, 1541.5362673979805], [117.2748235938645, 94.08580312053397, 65.0811839704073, 162.32713838625597, 137.58623548937607], [2755.997913894503, 1531.6215303365466, 1687.9601503886527, 2098.8352151041445, 1366.1970516136867]], [[0.17915177082441958, 0.3488206139356106, 0.20308774422792802, 0.12361339760877643, 0.14532647340326543], [1806.4000752574239, 2370.831221665419, 1754.8455704610433, 2348.557473406996, 1506.2280260790203], [185.30863273367342, 204.15618158297835, 143.0989010935808, 72.47357329001112, 113.73734066486769], [2755.997913894503, 1531.6215303365466, 1687.9601503886527, 2098.8352151041445, 1366.1970516136867]], [[0.16721071302106075, 0.291921853257253, 0.18244798166494927, 0.08768305972598031, 0.27073639233075664], [2188.362047026866, 1878.1830888533086, 1580.439669342656, 1929.1836075020983, 2809.0374015137068], [161.06869727364824, 195.51471974458434, 157.4253768267188, 61.7143042554148, 153.6117050103435], [2755.997913894503, 1531.6215303365466, 1687.9601503886527, 2098.8352151041445, 1366.1970516136867]], [[0.14348687706125396, 0.440958135659507, 0.10492188914009282, 0.1269305732585278, 0.18370252488061856], [1384.7015675231814, 1475.8207916098427, 1789.1379677804953, 2487.0835984928563, 2263.051056608726], [129.7005376067608, 174.6548808630001, 148.44230479113492, 138.21552866051064, 126.58723263824285], [2755.997913894503, 1531.6215303365466, 1687.9601503886527, 2098.8352151041445, 1366.1970516136867]], [[0.19917684981908748, 0.235350837139247, 0.20583971427767614, 0.2346757822453709, 0.12495681651861858], [1608.6510891060452, 1374.0452163003638, 1802.5169410601375, 2080.688954970072, 1759.844908955372], [103.35799656908152, 68.32360990918917, 134.1202115590079, 153.38508273283026, 54.373420101474025], [2755.997913894503, 1531.6215303365466, 1687.9601503886527, 2098.8352151041445, 1366.1970516136867]], [[0.19808993323335455, 0.288081295421633, 0.20649234658036883, 0.2211775903526344, 0.08615883441200911], [2604.2180888521098, 2426.6465275233577, 2727.4356535522534, 2436.604847482193, 2703.533981999615], [172.0972001991023, 165.09308745423294, 85.3556652372028, 188.9259168297869, 82.89146898958548], [2755.997913894503, 1531.6215303365466, 1687.9601503886527, 2098.8352151041445, 1366.1970516136867]], [[0.1871502855297165, 0.3266079710537807, 0.07652842951493136, 0.15749202085518962, 0.25222129304638186], [2201.0031059323137, 2125.554787307936, 1462.2482610907255, 2752.3807595794324, 1995.4470435956869], [195.82725658195216, 119.52276203587489, 78.10741504255682, 155.89521929741022, 200.42776502455757], [2755.997913894503, 1531.6215303365466, 1687.9601503886527, 2098.8352151041445, 1366.1970516136867]], [[0.19427191063592866, 0.2432892720850466, 0.1455744581077882, 0.13330487033661664, 0.28355948883461995], [1683.3943097055062, 1993.149589122026, 2937.2003849787347, 2509.3919530975545, 2059.614598654389], [190.31161170414836, 49.10491238925306, 89.0666416320577, 165.17053441309122, 141.8403295309156], [2755.997913894503, 1531.6215303365466, 1687.9601503886527, 2098.8352151041445, 1366.1970516136867]], [[0.29520862721480656, 0.22787702952543504, 0.05589150188178697, 0.2514016924065391, 0.1696211489714322], [2122.977241531344, 2295.1133349847496, 1391.1559659799013, 2677.041384467747, 2866.0633384977914], [140.71148660713385, 49.07588239625882, 104.66561578520484, 63.46498085408781, 59.60942301517082], [2755.997913894503, 1531.6215303365466, 1687.9601503886527, 2098.8352151041445, 1366.1970516136867]], [[0.11258272687681284, 0.3730642014580957, 0.09620434096567983, 0.2738436574973257, 0.14430507320208602], [2092.7586591990553, 2454.773324484052, 1518.796901123982, 1455.4562864818263, 1716.605356607669], [132.98063048077745, 184.62212650586974, 134.27113329090648, 140.03370114867494, 87.56413389633789], [2755.997913894503, 1531.6215303365466, 1687.9601503886527, 2098.8352151041445, 1366.1970516136867]], [[0.12690616481026168, 0.3386875606295593, 0.14021682005531097, 0.26868817686607666, 0.1255012776387914], [2224.457749295944, 2361.322706916756, 2857.2369490578267, 1537.076954963377, 2733.42593364181], [165.68099874044273, 135.47535983410154, 197.88407322274912, 152.45341953605305, 97.99958706968278], [2755.997913894503, 1531.6215303365466, 1687.9601503886527, 2098.8352151041445, 1366.1970516136867]], [[0.14711050760098507, 0.4568187541821266, 0.2138476373809909, 0.05865660749322596, 0.12356649334267136], [2692.7803313130535, 1887.6956275506966, 1908.05842508323, 2797.343244399488, 1529.8896613693603], [183.82586670835678, 65.98549373023937, 84.56577583654709, 174.62974236675248, 116.47457461719986], [2755.997913894503, 1531.6215303365466, 1687.9601503886527, 2098.8352151041445, 1366.1970516136867]], [[0.23394467485469053, 0.4061034427625569, 0.08420813349264292, 0.17254353181373555, 0.10320021707637397], [1478.606878101945, 2204.3628764328073, 1477.7289646799177, 1895.364371546858, 1717.627908714017], [177.9518996859357, 96.67823409783593, 126.21052843257986, 146.6577966082616, 190.82259837156462], [2755.997913894503, 1531.6215303365466, 1687.9601503886527, 2098.8352151041445, 1366.1970516136867]], [[0.3001808983738135, 0.2993807529101764, 0.05017257772739743, 0.1851466704438761, 0.16511910054473672], [1639.3667280218847, 2720.350558797313, 2834.6634638328214, 2458.113823988429, 2483.314450366802], [42.7146797609515, 182.75636307272487, 187.75245663939222, 57.54338127365257, 90.41721209826206], [2755.997913894503, 1531.6215303365466, 1687.9601503886527, 2098.8352151041445, 1366.1970516136867]], [[0.2274535727836063, 0.3264843755338145, 0.12928597946529913, 0.11612503422007724, 0.20065103799720282], [2613.6871887783554, 2032.5579917854684, 2841.548157942192, 1881.8062666723526, 2529.469417997606], [107.26224462281368, 105.08736588624457, 142.39301762451225, 176.91558018653507, 70.7793395023097], [2755.997913894503, 1531.6215303365466, 1687.9601503886527, 2098.8352151041445, 1366.1970516136867]], [[0.26450160400174644, 0.31110094617311745, 0.10851850928009477, 0.08497347909334173, 0.2309054614516995], [2378.8207512387085, 1761.821402415114, 1977.8051575326294, 1590.7070294434584, 2203.262139609809], [82.9853927193878, 167.3898970848859, 180.565027447617, 71.74451333599329, 50.19596738910501], [2755.997913894503, 1531.6215303365466, 1687.9601503886527, 2098.8352151041445, 1366.1970516136867]], [[0.1291312338747791, 0.24030408673154333, 0.13742152201785882, 0.13157599891484642, 0.3615671584609723], [2002.8717457828207, 1864.466695491446, 1922.5534418195398, 2605.125140777016, 2721.4644579440414], [173.8477036994536, 77.80941299509112, 124.66340702783823, 57.393697122338025, 72.18622871981806], [2755.997913894503, 1531.6215303365466, 1687.9601503886527, 2098.8352151041445, 1366.1970516136867]], [[0.2061281950068257, 0.21793020281638426, 0.08975019628952835, 0.1789246669297396, 0.30726673895752205], [1688.9766421729723, 1522.181527493401, 1594.320517556786, 1443.1282925144328, 1815.6803023702391], [171.76311522960216, 50.348893656896806, 162.73811356550945, 77.00143970450463, 164.3699418003979], [2755.997913894503, 1531.6215303365466, 1687.9601503886527, 2098.8352151041445, 1366.1970516136867]], [[0.24795030268141768, 0.3040287703698813, 0.12479370249273741, 0.17922030159398633, 0.1440069228619772], [1292.478509329047, 1521.8083047814741, 1975.1203447966527, 1778.7645897349735, 1330.8901273009358], [153.68045690897765, 61.42057315852142, 131.16489197036537, 177.4667405258859, 91.88252049056423], [2755.997913894503, 1531.6215303365466, 1687.9601503886527, 2098.8352151041445, 1366.1970516136867]], [[0.12859990385305053, 0.27411926061271713, 0.11653862235279698, 0.2259867932845148, 0.2547554198969205], [1595.523250613859, 1690.2242675088514, 1888.2580654161263, 1332.8085087536856, 1537.2204857274448], [93.10977162508055, 171.1237458339482, 74.6783802913461, 90.91399187077721, 128.79050642987727], [2755.997913894503, 1531.6215303365466, 1687.9601503886527, 2098.8352151041445, 1366.1970516136867]], [[0.300893423393664, 0.26298603909144236, 0.20065413726896822, 0.06310327186127428, 0.17236312838465123], [1608.7831117909004, 1266.5294137762921, 2038.4841690755154, 1677.692300093595, 1760.7881854414059], [180.18995031925076, 77.81915005078007, 188.54048302196765, 51.29354751257017, 134.56510022507797], [2755.997913894503, 1531.6215303365466, 1687.9601503886527, 2098.8352151041445, 1366.1970516136867]], [[0.11087501289413909, 0.38512410825793786, 0.26741895787281256, 0.09953427658757685, 0.13704764438753356], [2567.2643639287103, 1885.385438554525, 2147.4289360576417, 1958.8125615598624, 2827.422091110144], [124.33558718300212, 102.49755595100663, 193.9990386041438, 77.35924366510675, 178.38501939372807], [2755.997913894503, 1531.6215303365466, 1687.9601503886527, 2098.8352151041445, 1366.1970516136867]], [[0.11518380934361311, 0.3437212770721205, 0.17372951664316513, 0.13955328036761147, 0.2278121165734898], [2709.6700247518975, 1647.9616301197007, 2159.172443874658, 2324.0325167085466, 1613.7500294616507], [49.47964382447245, 97.32417201015551, 96.84795951552712, 54.79498073503396, 201.23604744703823], [2755.997913894503, 1531.6215303365466, 1687.9601503886527, 2098.8352151041445, 1366.1970516136867]], [[0.23160921708101365, 0.1927808411188553, 0.13258060096216764, 0.16500259418179444, 0.27802674665616905], [2598.5021321745244, 1849.9724204672887, 2075.5514157132357, 2025.3024730486395, 2058.26156827064], [86.43755241654128, 159.22356017386278, 92.58201798763709, 87.54536443724702, 132.95487659697332], [2755.997913894503, 1531.6215303365466, 1687.9601503886527, 2098.8352151041445, 1366.1970516136867]], [[0.3369331304020511, 0.32372492675815595, 0.05858466819093914, 0.0716147091708125, 0.20914256547804136], [2434.526317451694, 2143.8475264758076, 2204.3046412403355, 2082.6949650018446, 2369.4024919763415], [136.39086554898006, 122.20195390107236, 79.8820413914445, 197.65933598997404, 187.56941007299804], [2755.997913894503, 1531.6215303365466, 1687.9601503886527, 2098.8352151041445, 1366.1970516136867]], [[0.1378650967178783, 0.22177640265351883, 0.22764404623247253, 0.0896860589921725, 0.32302839540395795], [1490.7507685439314, 2663.9230214796166, 1663.6727160004125, 2624.447489204459, 2885.038284065756], [63.48395105709278, 111.91643834901126, 103.15837253814979, 45.54016553707598, 111.57387642367888], [2755.997913894503, 1531.6215303365466, 1687.9601503886527, 2098.8352151041445, 1366.1970516136867]], [[0.1602953817572155, 0.2794612401510061, 0.07847386178256725, 0.2464227573447426, 0.23534675896446866], [1136.5121112273666, 2278.8166250665317, 1917.1685416985192, 1372.9400001490058, 1335.9459339748223], [96.9755690853505, 156.6735682562473, 166.96250777160668, 114.51028359194405, 130.68577910971308], [2755.997913894503, 1531.6215303365466, 1687.9601503886527, 2098.8352151041445, 1366.1970516136867]], [[0.20979682440673586, 0.20631106690080275, 0.06221957710771267, 0.281029415620137, 0.24064311596461177], [2244.7928263586678, 2057.0060651955896, 1862.4043012941338, 1531.711291892298, 2705.7545458013146], [134.5902305130801, 171.5861702502495, 79.64197523633527, 197.00579569586293, 98.10731938705722], [2755.997913894503, 1531.6215303365466, 1687.9601503886527, 2098.8352151041445, 1366.1970516136867]], [[0.23088843806283338, 0.3658635098803166, 0.12793216103456106, 0.0762237298780552, 0.19909216114423378], [2641.6553174485525, 1551.6775219978922, 1664.7614381412188, 2301.7260009598176, 1381.0771003591121], [197.50806001757343, 76.09680636158052, 57.533187422541644, 175.69772140426358, 81.85298864465318], [2755.997913894503, 1531.6215303365466, 1687.9601503886527, 2098.8352151041445, 1366.1970516136867]]]]\n"
     ]
    }
   ],
   "source": [
    "print(regimeCycle1);"
   ]
  },
  {
   "cell_type": "code",
   "execution_count": 22,
   "metadata": {
    "collapsed": false,
    "scrolled": true
   },
   "outputs": [
    {
     "name": "stdout",
     "output_type": "stream",
     "text": [
      "[[[6.0824871674713661, 5.018585914138546, 4.8765230096006249, 3.6830007060669323, 3.0394960737877459], [5.2915613848515362, 3.9655236390549957, 2.1690597814920691, 2.4128089968964104, 2.2052502235795988], [5.0255550619772862, 1.7675221668629721, 2.5602590448746172, 1.5530195122297388, 1.4257924066807608], [4.8280508196168652, 3.335228109354289, 3.0444655107664951, 2.1322308445035945, 2.5308419871884476], [4.9783797596995605, 4.0442691262440729, 3.1341262242815002, 2.6931375511562829, 2.1965599883522633], [7.5938475783071109, 7.2929743292525018, 4.7420027813237517, 4.2948715238102455, 4.9788646890589447], [4.3525689878748475, 3.1178158487448044, 3.0034779174697466, 3.2310583610802719, 2.5268739775719191], [4.1040963894525024, 4.1926187338281613, 3.8574193101644796, 3.8101846909748591, 3.9067717500328403], [6.2780614942627757, 6.7216798192280844, 3.251034361148148, 2.5001798623359224, 2.0037944195622823], [4.6839242577884974, 3.9596356136039033, 4.0782159324218643, 4.0014991884714393, 3.5803093800762018], [5.6826315989784231, 5.5563023415700208, 3.3155731048384145, 3.2478094627127714, 3.2019398433566795], [5.3037914294405759, 5.1325374114251536, 5.0146296472115708, 5.2315531464615841, 5.385829436094502], [7.4397475395614503, 6.3104727391074489, 6.3596036771495221, 6.2217936031864554, 5.7374610646759958], [5.327243385411613, 5.5668802134824578, 5.6267989561455938, 5.6867246097612094, 5.537569526505318], [4.2390731208306169, 3.3937261522081115, 2.5611250216353874, 2.8055081583960115, 2.8379023241594856], [4.210302509885909, 3.2811260084246339, 3.5184211287408673, 2.9359898872199404, 2.9171763488546754], [5.5867316615687255, 3.6637988297036181, 2.7459405079584269, 2.8531961365719214, 2.5985105924017553], [4.9985422786316276, 4.8476522309951662, 3.7070906685608409, 3.8878231726493206, 3.8021676249395764], [5.228459667982845, 5.0425819227252475, 5.631164908671348, 5.0185448678511975, 4.5331482116501851], [5.235147435915616, 5.0031641803120195, 4.6193839026973489, 5.6392823026983905, 5.1250981096731687], [6.2497775260696455, 4.1196680679606521, 3.8959488055886706, 2.684126138890838, 3.0004618847436637], [4.9800885462602622, 3.639633167609944, 3.6107013347131152, 3.76816597844623, 3.6759168628782315], [4.1104904262368152, 4.621937588008616, 4.1616689403341001, 4.4984551697140214, 4.0366106043493524], [2.3593910236543572, 2.728878509600698, 2.5181783686068093, 1.7838248754795665, 1.5147184670914979], [2.1428472042069044, 1.7856862419529671, 1.045718037611209, 0.89310576688311838, 0.86631347235900591], [4.006916664940805, 4.0071781082013471, 3.6885078148306611, 3.1095808083574399, 2.4087602629107723], [5.4882890746376258, 5.8330222491417247, 6.2706073027220679, 6.0618329870364693, 4.9054087118475289], [5.0808376977799803, 4.0850635680853129, 3.5943526798243779, 3.0096209729656223, 3.3212007638744669], [4.2765404093026547, 3.857395596538264, 3.5578970894229425, 3.5209823622171896, 3.5132757378381561], [6.5589416670786571, 4.9388601085759829, 3.7904605170429457, 3.4559277863668409, 3.1447938833634383], [4.6484543069349034, 4.4684341622227413, 4.136908334314727, 5.0911573661142588, 4.2429412080716862], [6.3082099522429251, 4.9088213570103294, 4.5012400823488496, 5.297309981335145, 4.9883749471255214], [6.5066356060262542, 5.9583753410807017, 5.8695635484773216, 5.8371264630167081, 5.4309486704798307], [5.6549706886798106, 5.5077992757711991, 5.9730295028001326, 6.1524292349167817, 5.4786811987543071], [6.2503805687577323, 5.4414904707645837, 5.5276252046472809, 5.714231449131904, 5.8459075472370898], [4.9812511322943047, 3.8213166724017409, 3.2201115587046929, 3.4667443397288831, 3.463754423876138], [4.4116486211924002, 4.2094223662084245, 3.4946482559645449, 3.7077780865696597, 3.2125661912190764], [4.5843874212009901, 4.2307564919348781, 4.3597178639433105, 4.6897815770950757, 3.5893862850339207], [3.2524315198432179, 3.1882166405669907, 2.6893689007259005, 3.1006873783517936, 2.7792020800332402], [5.5495292536929499, 5.0775945683370374, 4.8969449045125231, 4.8436568621136447, 4.1799146988650175], [5.3264257045161347, 4.842731604319118, 4.7073389763264979, 3.9333146204475757, 3.9478324971158938], [3.7905261324046413, 3.8685419344710592, 3.4264829825838898, 3.1086822030911567, 3.1541938784615029], [6.1839809894675435, 5.3955953768967584, 5.0945776341311513, 4.7539752501979402, 4.6798790460834079], [6.3390212958639216, 5.8921313292846218, 5.8500445438170177, 5.1056001588025133, 5.6675673482114286], [5.7348391292012213, 5.0479204241126734, 5.0214945544359288, 4.0465842767733751, 4.7986897393824615], [5.8907759527074903, 5.4312922833022723, 6.0231478729917471, 5.1868425021214639, 4.9957209057444389], [7.5088283989297055, 5.6810684826559861, 5.9461751619180152, 5.131047166704505, 5.004676485628619], [5.7274184738692941, 4.3749927360658791, 3.8449646106337201, 3.4179167549696916, 3.0452071129378835], [6.1845939379160901, 6.467895835232004, 6.8098877284883299, 6.3056502929097311, 5.9977649552219061], [4.6721768013429106, 4.7761967719806782, 3.5731386945759627, 3.1595111051198121, 2.9319327867958331], [5.3612247408325659, 5.2471513073322855, 3.7143758946552681, 3.9648364176849711, 3.2498036614032531], [3.6976591617605914, 3.3693838892194865, 3.3059150080747943, 3.1260874231111959, 2.9132770156440344], [4.4243576737660266, 2.1385390921967224, 1.8710197685223295, 2.4404468815301041, 1.8888836667219941], [6.0093272548656671, 5.4858009113611166, 4.9745428014550903, 4.9022705268810371, 5.3323235777688813], [3.088903140644681, 2.5163907383939832, 1.9705579572353111, 1.9929770148184058, 1.9060308139851101], [4.6914754567386261, 4.6348991716503729, 3.8380759999063621, 3.1574504642271077, 3.1497158585610197], [5.0800727493807063, 4.9072747373039514, 4.4257031957954673, 4.6802510692867285, 4.5604471946273177], [3.6249411405434757, 2.8286204278572638, 3.2264351815816195, 3.1732594192461581, 2.7905937992222216], [3.9169488371844041, 3.3066306684819056, 2.7065887732926051, 2.5634446180153354, 2.2300495851586457], [6.0429089992866318, 5.1566276425325732, 4.7208842291816948, 4.3890282582862703, 3.8361792605314351], [4.7309333142909162, 5.1898979873306192, 4.2298367097837746, 4.2902298198626472, 4.1437667863427157], [8.275887717739618, 3.0873456233515424, 3.6839376203550662, 3.0830435409011603, 3.5697383561165816], [4.8499207234181032, 4.5590053539310693, 3.5858274862220356, 3.6129910748414473, 3.5606674057862024], [5.2278127217449963, 4.1089980660043555, 3.9666165221862424, 3.5003984879147194, 3.8723503603730602], [3.6309805366297119, 2.9054137426327555, 3.7299688338095223, 2.6092653542035027, 2.6750938331290883], [3.3024382690566538, 2.2711253810750995, 2.1319208040994488, 2.1332701559888827, 2.1405235096046553], [4.8655395209822405, 4.614367501039867, 4.4927486638717697, 4.022248247844515, 4.2353139867633187], [6.5373475485692412, 5.995751254360254, 4.1345455633862107, 3.5014897606074324, 3.7742438687491608], [7.1419721921684891, 6.7333161860511686, 4.6945361080510972, 4.2543386858810557, 4.3422219165768627], [4.085412124150487, 2.8433962307352645, 2.1227250432678937, 1.9983963066108847, 2.866743766160639], [4.4629540766355928, 3.4230409329568809, 3.4578512960224477, 3.099118842870717, 2.9909585543799366], [4.6064422111231709, 3.7972664816084447, 2.2778786542776408, 2.484008654172543, 2.0103610989771288], [5.7777129243780223, 5.494718063701856, 5.8387162960149999, 4.4846184045230375, 4.5161126709877237], [3.2982555945230416, 2.8279908331021302, 1.9618548165817891, 1.461529766129569, 0.97115069090782302], [4.3878926453669562, 4.399624359433651, 4.0465754381614341, 4.3897190617627055, 4.1027367632639757], [4.217958501933281, 4.6864249667334983, 3.9004015187285273, 4.2656130044589675, 4.1126238658092227], [5.7002699877813869, 4.3482621598149116, 4.9316037380692608, 4.4531263081174144, 3.5818321092995822], [5.5826328205881888, 4.5552286739868793, 3.5899730527403246, 2.9198894165999314, 3.1165229362196447], [3.4347950044308799, 3.7466883936498481, 2.8716906186722251, 2.6947958209519411, 2.6769054082588255], [3.9455088579595876, 3.6536987250029349, 3.8407572638176517, 3.5165953193876174, 2.7796404934845631], [4.7385272628409059, 3.4893414867872194, 3.2534281864210719, 2.3493085099312134, 2.4068439244879452], [6.2995004977112616, 6.8547353743377437, 5.4869379632003881, 5.4189260207477616, 5.1599063581450269], [6.3754111230864279, 4.1027521857741958, 2.7375666822106401, 3.8924904723084035, 2.9107959726703183], [4.3216601824512866, 4.9071433752211169, 3.863072572136462, 3.7080547064216018, 2.8858406682666682], [6.261241117630532, 4.3681493848564497, 4.8925328129796943, 4.6457390572104096, 4.1038625134922402], [5.2929240320219746, 4.3283222744052772, 3.5758853659185919, 3.8617056811181287, 3.3594601072094674], [3.4109832993294242, 3.7561334494172121, 2.6758850848096558, 2.4132202952340194, 2.2959999070359833], [3.7725313983347024, 2.7115637208037215, 2.715653362957712, 2.7737215500374615, 3.0768796894969412], [4.0203643510014571, 3.5062998297084662, 3.3840791859315518, 3.410308534476659, 3.3733817991618813], [5.4908420826992614, 5.9953745300916044, 3.4908235021775922, 2.573710120504213, 2.4413113460922116], [3.4058336695153004, 3.1320289216442778, 3.1117822961078101, 3.5747851990448751, 2.5698124190401894], [6.3651835543751778, 5.3614329439555659, 4.8629452525237022, 5.3067434550758641, 5.0734652885195395], [3.9170744274494411, 4.2611281747148251, 3.9172530101557226, 3.4913498294902201, 3.3632082771153211], [5.2088845388400937, 3.7674210918127899, 3.2580778337649878, 2.5789719361624712, 2.7150344618231661], [6.1819680057206359, 6.668643494623212, 5.3509011200508487, 5.1734576198260998, 5.1884391065786568], [4.0537404177295908, 4.271159229213672, 4.2325421375189576, 3.420884071997174, 3.4599113434515441], [4.7904212343020269, 3.3412926450334681, 3.0742025898315375, 3.249472326191464, 2.5757015771951588], [2.6209641714179677, 2.8127650378300273, 2.827990473471877, 2.1889582353913317, 2.135506507033412], [5.9371749732838524, 6.1545594897294995, 5.1522956480376436, 4.289249972887986, 4.7304760440548339], [6.8422107796507161, 5.3045436633068652, 5.4164293932342398, 5.2016057327688454, 5.3338977747286291]], [2.7129357277758177, 2.2007184920927725, 1.1975903716249545, 2.4195088234269648, 2.6440787033817332, 4.5005252122028203, 2.5145611081715136, 3.6500850548170067, 1.7457689049647156, 3.3732662780793912, 3.0393985104039127, 4.6125484054230297, 5.6331982629187527, 4.8076228063315183, 2.4042357681319322, 2.7900247712806716, 2.2764743782368346, 3.3175049245056401, 3.8948671324210919, 4.5210451273369605, 2.4918827208615704, 3.447555562953613, 3.7662409449530037, 1.5421051563151291, 0.81389639061040309, 2.420067534011749, 4.869046922060984, 3.1751438931281779, 3.2202355968898679, 2.7777010948657299, 3.8656245789866333, 4.3804937559649177, 4.9553454416252611, 5.1798594943071503, 5.2553809854330122, 3.0809285307513137, 2.936978903530548, 3.7268484037491936, 2.7080479624072749, 3.9053893535931277, 3.7269818363949234, 3.1372364378706084, 4.1973487417825286, 5.3171096428074538, 3.9404848640705064, 4.7078699148897094, 4.6545683389431618, 2.5908625663682865, 5.800768418418742, 2.9201319879992584, 3.1162896253244661, 2.6855760565343805, 1.7342126952242631, 4.7577183351207291, 1.8302422522346222, 2.9641337146881508, 4.1132314399224441, 2.5788580716823453, 2.3173115143814922, 3.8488754360423787, 3.9869274866594129, 2.9328547840196943, 3.0128606699298754, 3.4236831292721557, 2.5548224784774431, 1.7063176530156965, 3.813650891887939, 3.2523776192643945, 4.114014859351645, 0.8604007814018988, 2.9281578883505031, 1.8539584618441205, 4.3828237555194862, 1.0099609940012964, 4.0100674885236902, 3.6409276715367538, 1.5980322686849422, 2.7487459439289301, 2.3832888084441195, 3.119622469688383, 2.2711718064153099, 5.2698765873094606, 2.89464400605039, 3.1017043179544896, 4.0907851309508363, 3.225346053829294, 2.2907763363700764, 2.2903058418692925, 3.1595287129712095, 2.5422246899593426, 2.3564577250976839, 4.7944451574603679, 3.3253667501691759, 2.7766442926944874, 5.0568863623536515, 3.276175713374704, 2.7908251506835557, 1.7007810174370686, 4.0459661724571507, 4.1757285537297664], [[[0.2536614147721182, 0.22142005582532615, 0.22198623527842756, 0.16314965098055453, 0.13978264314357355], [2053.3231564215007, 2705.7373328452936, 2350.4778223610074, 1659.1745761060542, 2864.7201456319344], [92.03289572010786, 93.91440310047474, 206.65413441262467, 124.22762909269615, 183.6523334767038], [2321.305909994275, 1713.9281672798652, 2577.1949752894525, 2371.6512152114888, 2470.3787855891374]], [[0.2745441771368726, 0.24731401295887362, 0.10973280753686526, 0.09160363461358434, 0.2768053677538043], [2658.057156056624, 1741.8212935494976, 1698.1099737830832, 1817.1481143882943, 1669.0176259906161], [93.99538547517906, 125.38180976057734, 69.91364144129679, 164.81289404585138, 105.83812512751722], [2321.305909994275, 1713.9281672798652, 2577.1949752894525, 2371.6512152114888, 2470.3787855891374]], [[0.24804148842553378, 0.2999952727859223, 0.08561833262323588, 0.12249722977562971, 0.24384767638967825], [1639.362412036878, 2688.3463182128235, 2936.289940030468, 1650.6219408937338, 2154.4910947152343], [116.88716310174593, 75.99335837125966, 56.1984307187858, 195.44342700276297, 59.842116837252206], [2321.305909994275, 1713.9281672798652, 2577.1949752894525, 2371.6512152114888, 2470.3787855891374]], [[0.2217400944555684, 0.34394152211679174, 0.19402586433210003, 0.04442610496779145, 0.1958664141277484], [1771.4346299308656, 2492.0673708901254, 2410.642282157704, 1319.2296482489191, 2185.7809608270677], [133.1192953503333, 133.9381000127966, 119.84330717218747, 54.694887726753706, 194.75724648386412], [2321.305909994275, 1713.9281672798652, 2577.1949752894525, 2371.6512152114888, 2470.3787855891374]], [[0.2659818147723963, 0.26051274505833355, 0.1929739296165869, 0.17485377529925336, 0.10567773525342972], [2307.340830363565, 1495.0247528190537, 1956.47839569785, 2116.34390286138, 2573.900320577413], [67.52869498973753, 54.7100175047148, 120.55984003706344, 63.346089593184075, 135.87295542795812], [2321.305909994275, 1713.9281672798652, 2577.1949752894525, 2371.6512152114888, 2470.3787855891374]], [[0.24856885225723435, 0.21268384959551867, 0.1743907815354544, 0.09837419351015253, 0.26598232310164016], [2291.1381707384244, 1764.1024370683533, 2907.317763090091, 1375.7525003979342, 2442.001226410478], [140.92730577106897, 50.726759841297564, 172.96243431747672, 77.74472797894644, 172.91481785992784], [2321.305909994275, 1713.9281672798652, 2577.1949752894525, 2371.6512152114888, 2470.3787855891374]], [[0.29891863076516845, 0.33867069156102214, 0.1166297129980534, 0.060517122271100586, 0.18526384240465538], [1925.8306766459905, 1407.0019341840339, 1614.006479823082, 2401.9319245203396, 1486.4818519284208], [117.80458946300902, 204.4363182344507, 198.18049332951577, 74.9851772298608, 149.31379874265838], [2321.305909994275, 1713.9281672798652, 2577.1949752894525, 2371.6512152114888, 2470.3787855891374]], [[0.1538755315197129, 0.3589587130098671, 0.08409774165173953, 0.10841409797141258, 0.29465391584726797], [1742.3987095860132, 1752.6110937109847, 1824.3165040274323, 1563.5526377738129, 2664.92904676378], [161.77190815296, 152.2129675025878, 157.37894341371242, 177.32977885838122, 202.45073668448904], [2321.305909994275, 1713.9281672798652, 2577.1949752894525, 2371.6512152114888, 2470.3787855891374]], [[0.2204271925600041, 0.31107002212211393, 0.10327840532930599, 0.14514629778864657, 0.2200780821999294], [2160.339063052275, 1750.4812701498445, 1784.7393841882504, 1547.6176185319418, 2663.9330750074814], [40.5705059539882, 112.89651771002228, 129.80642100133105, 105.76809972784572, 89.04639947613248], [2321.305909994275, 1713.9281672798652, 2577.1949752894525, 2371.6512152114888, 2470.3787855891374]], [[0.21359748803437523, 0.25920846786724305, 0.24782110203802013, 0.07038696021906132, 0.20898598184130027], [1460.7229259340495, 1625.4339400753731, 2722.8914257972438, 2097.976623675973, 1528.008592845597], [142.7974168551135, 129.61215835516234, 195.26789841895157, 154.76076410397383, 136.07991876802149], [2321.305909994275, 1713.9281672798652, 2577.1949752894525, 2371.6512152114888, 2470.3787855891374]], [[0.10646314277585467, 0.27967573119498074, 0.23228367742153766, 0.20916717943442506, 0.1724102691732017], [1398.159366986867, 1318.5334473638643, 2534.0388360284282, 2208.859151993452, 2724.703859727888], [126.15943090401925, 79.454781455946, 143.4329431563298, 189.99828661851177, 121.30648875693161], [2321.305909994275, 1713.9281672798652, 2577.1949752894525, 2371.6512152114888, 2470.3787855891374]], [[0.32149226109453743, 0.2612427499113467, 0.0686196190891527, 0.18329656191660718, 0.165348807988356], [2330.9941624534013, 1414.5121294533894, 1387.2222217729682, 2454.3336453446, 2331.904355987075], [149.31521805504806, 121.41339204896838, 170.71618768870925, 85.3151084697339, 149.9661576873001], [2321.305909994275, 1713.9281672798652, 2577.1949752894525, 2371.6512152114888, 2470.3787855891374]], [[0.20302709702192884, 0.167978624746193, 0.23194886728503628, 0.13804705439001486, 0.258998356556827], [2528.8620844713737, 2655.5505656093637, 1673.5523036346963, 1897.6511280012119, 2534.335302502214], [144.65041473060367, 64.8613847559655, 159.0063133434595, 94.42584899270287, 138.90060320881156], [2321.305909994275, 1713.9281672798652, 2577.1949752894525, 2371.6512152114888, 2470.3787855891374]], [[0.26430608926418747, 0.25474040949772786, 0.21739199117496016, 0.1485671054906138, 0.11499440457251064], [2114.8304629943195, 2240.679613067, 2494.069923763697, 1626.1142144640112, 1694.5216142299303], [182.22821894067144, 129.7083163459364, 129.48814134429384, 172.08239420759207, 127.11494383323745], [2321.305909994275, 1713.9281672798652, 2577.1949752894525, 2371.6512152114888, 2470.3787855891374]], [[0.23204686601114957, 0.25881231687953726, 0.28852004089394356, 0.057279882752887853, 0.16334089346248168], [2359.239400618604, 1325.1371805618014, 2092.4156505504625, 2248.8879644611025, 1883.6234549733695], [44.09573688013464, 150.06123838807054, 129.26176027454204, 115.44404198320302, 78.72844572252018], [2321.305909994275, 1713.9281672798652, 2577.1949752894525, 2371.6512152114888, 2470.3787855891374]], [[0.23539177433177455, 0.1859163219015325, 0.13971679726442382, 0.12429236758032408, 0.3146827389219449], [1216.2960264731519, 2230.2499236773447, 2713.3293048505, 2256.5713382446056, 2037.5253171833406], [50.7887412054846, 56.17064651928632, 74.2579944573774, 185.72681724789814, 184.71157728556796], [2321.305909994275, 1713.9281672798652, 2577.1949752894525, 2371.6512152114888, 2470.3787855891374]], [[0.10277399234874168, 0.3153628346702839, 0.22067897368736705, 0.11710546712678203, 0.24407873216682544], [1928.060603850799, 1535.3184536153638, 2295.774727249365, 2788.872759768389, 2282.470184247684], [40.53939960579726, 119.59907546958323, 128.9434477558426, 148.9900304671549, 153.3299815872934], [2321.305909994275, 1713.9281672798652, 2577.1949752894525, 2371.6512152114888, 2470.3787855891374]], [[0.15410566797153002, 0.28337331090468004, 0.12874275800868182, 0.2446462649598806, 0.18913199815522735], [1206.1377631464463, 2089.2829830815335, 2916.399084554179, 2269.8392855043253, 2691.7097570901665], [109.08871013858666, 149.43136974663855, 122.18050951889226, 140.49503583814632, 156.57456981031515], [2321.305909994275, 1713.9281672798652, 2577.1949752894525, 2371.6512152114888, 2470.3787855891374]], [[0.11944297491148433, 0.33785414181486056, 0.07574845171369027, 0.2480807832343259, 0.21887364832563908], [2576.5502791189, 2389.7738896328456, 1930.125957808565, 1305.4300534018994, 1873.6020223712533], [165.786611235285, 135.2090415880532, 122.22795626706895, 161.27557346104442, 182.32991319671095], [2321.305909994275, 1713.9281672798652, 2577.1949752894525, 2371.6512152114888, 2470.3787855891374]], [[0.11937309100082379, 0.25958215430981935, 0.2306021215741225, 0.21057981099862377, 0.17986282211661075], [2632.970329445968, 2040.9339402175206, 2716.633190823891, 1695.9830605954448, 2657.1450346070096], [93.09889014159336, 98.92335192837157, 108.3702364482426, 50.306051546316894, 115.99661305903976], [2321.305909994275, 1713.9281672798652, 2577.1949752894525, 2371.6512152114888, 2470.3787855891374]], [[0.24070810995661635, 0.3156447364342103, 0.10704593088182181, 0.2060485979867225, 0.13055262474062895], [2296.575690958587, 1855.8860746092187, 2488.7633377038087, 2716.3936335886947, 1508.1723230400673], [48.56986819458049, 110.88152214918665, 113.58673861948964, 123.13610417848392, 122.54266941514318], [2321.305909994275, 1713.9281672798652, 2577.1949752894525, 2371.6512152114888, 2470.3787855891374]], [[0.1253523101717151, 0.31886128523791946, 0.10871269068274979, 0.16569616451878982, 0.28137754938882586], [2320.513058021651, 1519.3775176022655, 1451.168319073272, 1814.9486815897824, 2522.2874215054553], [94.46467527994704, 100.09297924977076, 159.22206944817418, 57.22046988117732, 173.56900979058622], [2321.305909994275, 1713.9281672798652, 2577.1949752894525, 2371.6512152114888, 2470.3787855891374]], [[0.21294864821524903, 0.33802695499885305, 0.1374816642343567, 0.13593540281445832, 0.1756073297370829], [1307.8363592216701, 2743.7959026794333, 2501.5547858110413, 2741.4653806803253, 2388.5978649540966], [111.02814769135523, 198.69046004478167, 190.0015479803735, 130.44672408888982, 156.9015434060764], [2321.305909994275, 1713.9281672798652, 2577.1949752894525, 2371.6512152114888, 2470.3787855891374]], [[0.12015876725575259, 0.4406669583922469, 0.15470496756667268, 0.12648259809118878, 0.157986708694139], [1420.8764136982497, 2406.0330449179605, 2192.202045430455, 1517.9133806162185, 1880.9497618944638], [176.44244723082534, 157.4655064664746, 177.42849259942415, 134.83471141096902, 86.50541939354352], [2321.305909994275, 1713.9281672798652, 2577.1949752894525, 2371.6512152114888, 2470.3787855891374]], [[0.13669469676000676, 0.19830337646790858, 0.1909770956305252, 0.22518069544338343, 0.24884413569817615], [1123.1133786989876, 1848.0634926663045, 2136.569679407027, 1344.0040353358565, 2883.4698400205066], [98.58808679997313, 81.8773384002403, 203.77663198434425, 141.45483363605382, 70.62392773620894], [2321.305909994275, 1713.9281672798652, 2577.1949752894525, 2371.6512152114888, 2470.3787855891374]], [[0.19515386173863222, 0.3359220723882434, 0.0921833205174094, 0.2288354683723278, 0.14790527698338715], [1223.3918009761546, 1320.5771073118658, 2952.843428361679, 2564.1122745207913, 1425.1343811606262], [48.81122842333964, 195.27770265728324, 187.88470286376094, 73.33394703854364, 195.49967400143086], [2321.305909994275, 1713.9281672798652, 2577.1949752894525, 2371.6512152114888, 2470.3787855891374]], [[0.3020993488899606, 0.2987507551534935, 0.12003840544722963, 0.05185748697846977, 0.2272540035308464], [2135.0430675771368, 1750.8731806656492, 2109.590948856215, 2222.6322089842993, 1980.6678474232], [172.08009187252588, 201.41626179945004, 81.10353960676017, 164.2963462446358, 182.46260414259777], [2321.305909994275, 1713.9281672798652, 2577.1949752894525, 2371.6512152114888, 2470.3787855891374]], [[0.12311224982636752, 0.25042619262702326, 0.1917588286657671, 0.15428045725049291, 0.28042227163034916], [1428.2341255864135, 1452.2802853166243, 2412.916703553905, 1602.7873349802558, 1599.5262326636275], [59.43285840186558, 141.41028658516876, 185.99579567390134, 103.62253999964105, 134.68872130322703], [2321.305909994275, 1713.9281672798652, 2577.1949752894525, 2371.6512152114888, 2470.3787855891374]], [[0.1464467924187015, 0.20125127154949954, 0.08607965105546436, 0.28072424166195276, 0.2854980433143816], [1423.782887213647, 1402.7334767187808, 1842.1728783842175, 1890.368361031719, 1422.3918910706086], [48.69024463331988, 119.79496792501998, 138.1624042529856, 147.3541177617804, 184.49751351487666], [2321.305909994275, 1713.9281672798652, 2577.1949752894525, 2371.6512152114888, 2470.3787855891374]], [[0.3201917319989091, 0.2728038196292943, 0.13422579520147776, 0.051104079802500285, 0.22167457336781857], [1453.7270200619828, 2356.8325602403834, 1711.853451279193, 2415.320215210657, 2485.751547395329], [106.75662484484678, 202.17603684846918, 107.54857533272406, 80.36727698668095, 50.67687377694283], [2321.305909994275, 1713.9281672798652, 2577.1949752894525, 2371.6512152114888, 2470.3787855891374]], [[0.138575569568932, 0.3513093330692156, 0.136570502543794, 0.17289111620494885, 0.20065347861310967], [2122.496411679223, 2778.410508688996, 2125.826412971979, 1967.654302948677, 2420.5218133179387], [172.5165742780292, 132.6933751522144, 191.3835084540074, 186.30953927180042, 202.40926649115508], [2321.305909994275, 1713.9281672798652, 2577.1949752894525, 2371.6512152114888, 2470.3787855891374]], [[0.2940076497227704, 0.3365639154605031, 0.0628693326452854, 0.10516888697848545, 0.20139021519295566], [1971.7091683841472, 2101.1129743808856, 2570.503609489299, 2567.4329349198765, 2354.434117838901], [56.922512873717785, 124.61857198384783, 80.30529239306054, 84.40091231477103, 111.4952858588925], [2321.305909994275, 1713.9281672798652, 2577.1949752894525, 2371.6512152114888, 2470.3787855891374]], [[0.18145790292286026, 0.37162176872316505, 0.2234688784626675, 0.058701172975574166, 0.164750276915733], [2246.9161721792075, 2188.4252559951847, 2519.239799601564, 2515.2094813249178, 2146.4181305509687], [64.99524544408291, 150.80457388638112, 138.40801098610532, 129.40562930864098, 55.88916878064646], [2321.305909994275, 1713.9281672798652, 2577.1949752894525, 2371.6512152114888, 2470.3787855891374]], [[0.07854749225621509, 0.2550518614471053, 0.20537117132831822, 0.2072021564939328, 0.2538273184744287], [2555.5886549734187, 2408.369822452968, 2618.5772827736405, 2323.2813854474725, 2445.8584217663374], [138.14713273368523, 186.12469306175709, 212.85623217104478, 190.3830044978769, 161.50561384843007], [2321.305909994275, 1713.9281672798652, 2577.1949752894525, 2371.6512152114888, 2470.3787855891374]], [[0.27494284489686605, 0.25909921955336074, 0.28777215136388234, 0.05262816477972355, 0.12555761940616736], [2419.6879242055916, 2370.3710076225148, 2581.7220511245546, 2501.1569463186297, 1308.1932181774507], [66.14232654847797, 118.44419870357818, 87.17416849622074, 93.68243904847688, 113.24879490972124], [2321.305909994275, 1713.9281672798652, 2577.1949752894525, 2371.6512152114888, 2470.3787855891374]], [[0.16700544473601453, 0.3129581096055661, 0.1263251229492325, 0.21757518760836106, 0.17613613510082585], [2109.3891627587827, 2774.237490141468, 2143.2665053075125, 1455.4687157079313, 2790.667671581753], [169.94799132201237, 62.29392737110304, 63.778757634343904, 49.014437176632526, 178.03710812707385], [2321.305909994275, 1713.9281672798652, 2577.1949752894525, 2371.6512152114888, 2470.3787855891374]], [[0.19974608990217857, 0.34176641484769626, 0.2233748711087327, 0.10005041765658974, 0.13506220648480255], [1812.2657159666041, 2652.8842576296283, 1413.2632278094966, 2394.703768058728, 2008.1613016751376], [137.83337667629314, 121.6791562911878, 150.66938322647377, 46.70108164709133, 53.111372801876854], [2321.305909994275, 1713.9281672798652, 2577.1949752894525, 2371.6512152114888, 2470.3787855891374]], [[0.28663185185133266, 0.2505364291094066, 0.17197083047216058, 0.16273087627368452, 0.12813001229341578], [1642.9696994405613, 2438.0219412493207, 2379.787687194044, 2220.7593348607948, 1590.7636676324983], [149.77801382664293, 143.19803682543096, 121.13334150271174, 114.77010256394372, 139.44171819562996], [2321.305909994275, 1713.9281672798652, 2577.1949752894525, 2371.6512152114888, 2470.3787855891374]], [[0.24726796578241764, 0.17264490025532056, 0.2194036646312488, 0.20915136637251827, 0.15153210295849465], [1450.7705906607332, 2629.7871191643612, 2648.080413309074, 1390.8163472799233, 1428.9510403134875], [107.32832729757871, 167.6182201059063, 138.25329357200138, 116.18907759634894, 127.86139387429584], [2321.305909994275, 1713.9281672798652, 2577.1949752894525, 2371.6512152114888, 2470.3787855891374]], [[0.11688823435719099, 0.3257337447705047, 0.05207375980514593, 0.23213402673647696, 0.2731702343306814], [2339.0228614455045, 1863.8886013923916, 2794.4901676749505, 1828.2821756573962, 1818.3346942683377], [146.15179881290481, 202.9687046556652, 155.25348257405238, 94.89680003740865, 118.32879619353287], [2321.305909994275, 1713.9281672798652, 2577.1949752894525, 2371.6512152114888, 2470.3787855891374]], [[0.22968585079507556, 0.236877766384898, 0.17299350977193576, 0.22129798183557203, 0.1391448912125187], [1903.946146851104, 2375.7201126623972, 1458.8387913176794, 2403.731441996837, 2401.1994145351086], [84.99959466223709, 47.32757963895622, 137.25011229440278, 107.9456132002245, 131.7888445808157], [2321.305909994275, 1713.9281672798652, 2577.1949752894525, 2371.6512152114888, 2470.3787855891374]], [[0.17687597745738615, 0.1934540825549284, 0.22742986986029104, 0.22232731438610873, 0.17991275574128565], [1832.5113513100314, 2322.341093177454, 1643.6441926091088, 1524.5206521593275, 2546.6729302479425], [106.57720372948212, 194.0872352875667, 162.8493269124179, 98.10116783521325, 204.4282919727056], [2321.305909994275, 1713.9281672798652, 2577.1949752894525, 2371.6512152114888, 2470.3787855891374]], [[0.1415613859441418, 0.36709360182604717, 0.17052000599849584, 0.1147694193452535, 0.20605558688606157], [2292.364617601913, 2572.607861921747, 2643.7152154277655, 2333.324760478894, 1521.719072664575], [170.51285173267036, 199.27331813087784, 169.0541349534535, 153.1575366466834, 201.04010320505142], [2321.305909994275, 1713.9281672798652, 2577.1949752894525, 2371.6512152114888, 2470.3787855891374]], [[0.13592180015413807, 0.3506868024154708, 0.2277469581105082, 0.08208802272594704, 0.20355641659393572], [2671.025053367721, 2632.7193167811524, 1779.0399523014685, 2782.7041019377984, 1744.11144986968], [196.19109972318046, 204.3216555156795, 125.43635640503938, 87.51309571124833, 125.6902962956565], [2321.305909994275, 1713.9281672798652, 2577.1949752894525, 2371.6512152114888, 2470.3787855891374]], [[0.19402079106259, 0.29760284280859545, 0.1688491247687639, 0.190095243738253, 0.14943199762179768], [2522.005542841387, 1347.9130216798649, 2584.3525166712234, 1562.0192140720392, 2139.2290001800943], [55.55101889464281, 94.43622605958655, 59.62569141600616, 78.95650074834988, 203.10659720348886], [2321.305909994275, 1713.9281672798652, 2577.1949752894525, 2371.6512152114888, 2470.3787855891374]], [[0.15607651483428955, 0.20317018042021326, 0.22317320672937146, 0.24142946888667857, 0.17615062912944707], [1780.368917578906, 2530.3792776333285, 1878.438894885825, 2612.4697461864143, 2849.131461161575], [172.53122269343646, 76.48111373730457, 94.30413648783947, 195.56212942300527, 125.08196023433045], [2321.305909994275, 1713.9281672798652, 2577.1949752894525, 2371.6512152114888, 2470.3787855891374]], [[0.2506051039829165, 0.31279884443522327, 0.10729779612030745, 0.1185790686111161, 0.2107191868504367], [2082.781561460525, 2262.3575223597413, 2197.8854992756033, 1758.5706272725265, 2629.1158578463637], [188.92813670017247, 185.18888622966955, 94.18265947191645, 173.7675277261469, 181.02449801337963], [2321.305909994275, 1713.9281672798652, 2577.1949752894525, 2371.6512152114888, 2470.3787855891374]], [[0.12279378977136012, 0.39966029747623444, 0.20871139563478605, 0.10956231176838871, 0.15927220534923048], [1571.5907521773388, 2074.5416589262936, 2597.371403903168, 2738.926538602536, 1300.4837593622992], [104.6989921743314, 131.76791844399702, 55.98903802732505, 142.4301657464577, 198.19140955555815], [2321.305909994275, 1713.9281672798652, 2577.1949752894525, 2371.6512152114888, 2470.3787855891374]], [[0.2062206902181006, 0.21474097569890435, 0.08650339671527313, 0.15163205294816887, 0.340902884419553], [2608.0655581369097, 2541.539054269458, 2612.6180855252355, 2301.9927218411035, 2261.7113609290927], [132.99899345080263, 143.85345457669536, 125.0381301770542, 167.25319839438666, 72.1697043036117], [2321.305909994275, 1713.9281672798652, 2577.1949752894525, 2371.6512152114888, 2470.3787855891374]], [[0.11181057371684293, 0.4124618758150482, 0.16679338028905835, 0.15337689330197754, 0.15555727687707305], [1142.702782418587, 2409.2500685468885, 1631.5348098143074, 2684.2813408679413, 2503.139878173608], [54.95773917738819, 96.66344746200258, 200.3257270608923, 134.1358976568506, 125.34233193913269], [2321.305909994275, 1713.9281672798652, 2577.1949752894525, 2371.6512152114888, 2470.3787855891374]], [[0.2913101698104973, 0.34027515180341866, 0.2047319601348238, 0.05434015937231918, 0.1093425588789412], [1875.123994371892, 1602.5946263615608, 2280.317360529794, 1396.38773166036, 1555.230377603235], [164.48192122293796, 96.40077271745616, 62.44927051328864, 46.506236208982756, 102.79979573347256], [2321.305909994275, 1713.9281672798652, 2577.1949752894525, 2371.6512152114888, 2470.3787855891374]], [[0.2580059314891307, 0.3178449199819272, 0.14087560335039223, 0.09278074656978007, 0.19049279860876983], [1251.707352376971, 1499.6496959741355, 1850.49690204582, 2235.08853399541, 1501.4541805639492], [187.4558810691044, 80.95063348261866, 90.81329334190413, 132.90088879861426, 140.35291241509861], [2321.305909994275, 1713.9281672798652, 2577.1949752894525, 2371.6512152114888, 2470.3787855891374]], [[0.1797433744903747, 0.22237326457310802, 0.22265364961659467, 0.21946736564759112, 0.15576234567233158], [1381.6917647142295, 1874.2904916919815, 1983.8582297726932, 2613.8053896537604, 1963.794725564354], [115.38776161263955, 171.55339762570378, 189.88027695520285, 65.15293659122788, 139.6048502909903], [2321.305909994275, 1713.9281672798652, 2577.1949752894525, 2371.6512152114888, 2470.3787855891374]], [[0.29266853752096084, 0.3389485328586586, 0.06468835085771805, 0.1609209431680007, 0.14277363559466172], [2106.443026259424, 1840.9615832184395, 2856.7351084819093, 2579.335055022504, 2618.4381712389513], [153.3041887244925, 168.16184009664534, 97.5904306457039, 123.27986934802958, 137.89212943151563], [2321.305909994275, 1713.9281672798652, 2577.1949752894525, 2371.6512152114888, 2470.3787855891374]], [[0.2162177670940607, 0.24345830922295214, 0.10649335632492038, 0.09559134450134349, 0.33823922285672325], [1849.748893649571, 2567.9553732994323, 2865.5657694832557, 1842.652077829472, 2448.1780755303294], [97.30306706315511, 80.95912139042423, 144.8663654468445, 120.83145174611437, 112.82935076751588], [2321.305909994275, 1713.9281672798652, 2577.1949752894525, 2371.6512152114888, 2470.3787855891374]], [[0.11598297691255294, 0.30345761198304727, 0.16214679587411746, 0.2203788094605971, 0.19803380576968532], [2028.7770178277513, 2386.5366730943397, 1608.7978403689972, 1503.7337532855868, 1663.8584089167327], [138.53995755358585, 63.49682487193132, 110.88065730016125, 154.70127060362267, 160.5279116955938], [2321.305909994275, 1713.9281672798652, 2577.1949752894525, 2371.6512152114888, 2470.3787855891374]], [[0.16406856448310528, 0.2551482943614042, 0.2315795003079074, 0.13554976657216544, 0.2136538742754177], [1712.001312439933, 1928.810139000238, 1593.0847380057637, 1914.0497521473567, 1923.2807609438964], [162.01081639002206, 121.49143888274459, 206.05331797612712, 115.33614970637296, 155.27829207604725], [2321.305909994275, 1713.9281672798652, 2577.1949752894525, 2371.6512152114888, 2470.3787855891374]], [[0.21034856079911726, 0.31008147385621543, 0.18135122072209756, 0.15433643423575202, 0.14388231038681784], [1260.4827664297497, 1824.4735165972502, 1789.8306301161615, 2029.5990702135136, 2115.5978183469924], [91.81139927378825, 50.05633646174773, 118.73787608674611, 120.56194855163255, 76.62804288628557], [2321.305909994275, 1713.9281672798652, 2577.1949752894525, 2371.6512152114888, 2470.3787855891374]], [[0.2204089415710144, 0.21889898815323394, 0.21037388359334663, 0.11566579052306052, 0.23465239615934447], [1205.9789820563465, 2281.814783395983, 1612.6909881184636, 1735.2824475278896, 1796.9356047375038], [140.16163356803153, 182.65506265578384, 71.98677617613151, 96.04471943990055, 183.5308540478572], [2321.305909994275, 1713.9281672798652, 2577.1949752894525, 2371.6512152114888, 2470.3787855891374]], [[0.28646444214220784, 0.37194828306103783, 0.12066164523962139, 0.10300007233640648, 0.11792555722072649], [1912.131524724533, 1650.276705825921, 2294.2279966277865, 2265.896905427254, 2672.443099799907], [136.9588344964274, 131.12283822169044, 194.49325050984422, 140.3048205340668, 127.15522569685697], [2321.305909994275, 1713.9281672798652, 2577.1949752894525, 2371.6512152114888, 2470.3787855891374]], [[0.12497245090234703, 0.31441031156828947, 0.23265131862841476, 0.13267086095985067, 0.19529505794109805], [2532.248624776816, 2348.864578397036, 2032.1260236730068, 1477.4875888328404, 1693.8635890186445], [125.52858471312612, 157.88839283404835, 115.01502751819328, 166.54669427722945, 51.952894103411026], [2321.305909994275, 1713.9281672798652, 2577.1949752894525, 2371.6512152114888, 2470.3787855891374]], [[0.2152320572794883, 0.37100981704445546, 0.07720626180112929, 0.10921724132788008, 0.2273346225470469], [2691.9400674928097, 2356.83108986605, 1878.2895118387728, 2840.4908520052563, 2005.258004893129], [199.99707860680851, 47.10541526649345, 147.36440260023494, 57.35326475485459, 196.95262217834116], [2321.305909994275, 1713.9281672798652, 2577.1949752894525, 2371.6512152114888, 2470.3787855891374]], [[0.15947833426243174, 0.278305394368183, 0.24787641604632094, 0.20976964778213053, 0.1045702075409338], [2596.6903101337452, 1875.5261607477798, 1598.5685543302952, 2251.2577257652115, 2316.4208816697064], [45.91617252026961, 155.10838974990628, 104.74625204658852, 109.7922912767345, 143.42766079932267], [2321.305909994275, 1713.9281672798652, 2577.1949752894525, 2371.6512152114888, 2470.3787855891374]], [[0.16925550257395655, 0.2890140508106741, 0.11945962392952574, 0.13307141542588044, 0.2891994072599631], [1456.0152174139726, 2015.547442919662, 2648.642915297468, 2477.686716068637, 2562.2917624534293], [75.38850618246681, 176.13929182458432, 168.85070718553817, 132.78029979388378, 126.32276771143455], [2321.305909994275, 1713.9281672798652, 2577.1949752894525, 2371.6512152114888, 2470.3787855891374]], [[0.27655797880500504, 0.3756601374454684, 0.0813069622314399, 0.09175360503024176, 0.17472131648784495], [1771.8343993305832, 2646.1930400541924, 1972.3938437416027, 1901.8878658371036, 2535.032930718424], [125.44001726440098, 97.85550264215645, 164.7116888682576, 89.80666231403505, 116.57585893293484], [2321.305909994275, 1713.9281672798652, 2577.1949752894525, 2371.6512152114888, 2470.3787855891374]], [[0.2177548753821935, 0.2720633860422667, 0.14155012167424277, 0.06208247045576044, 0.30654914644553655], [1409.2188907485001, 2101.5788905834825, 2498.3929766106344, 1462.8513549074762, 2150.642216304442], [120.08853251757859, 123.65184223387621, 100.50593645484253, 61.86294534956318, 154.55377792193522], [2321.305909994275, 1713.9281672798652, 2577.1949752894525, 2371.6512152114888, 2470.3787855891374]], [[0.15837239516465512, 0.29761428357810327, 0.07123676162468243, 0.1964387703966751, 0.2763377892358841], [1907.6683355020525, 2464.962220020552, 1856.403131958121, 2405.2491720992075, 2889.920992185905], [64.22456418937563, 117.11733493193185, 119.91909130259225, 70.18569056673643, 170.2236811095267], [2321.305909994275, 1713.9281672798652, 2577.1949752894525, 2371.6512152114888, 2470.3787855891374]], [[0.21988561402442156, 0.19690311816759723, 0.2519383793016894, 0.2079767750470029, 0.12329611345928902], [2667.9224910749645, 1880.4194241481791, 2948.4770908031387, 2456.01233316444, 1962.2218104508363], [108.19482978604375, 126.91069553100687, 92.46486587529908, 191.6170925387582, 195.01586290947066], [2321.305909994275, 1713.9281672798652, 2577.1949752894525, 2371.6512152114888, 2470.3787855891374]], [[0.2152368255708751, 0.3522081901097258, 0.17466185434300033, 0.1431670889079846, 0.11472604106841415], [1910.7193491378596, 1733.4889968863172, 2049.8327839038957, 2402.268097477262, 2589.7232377102678], [46.437517054373075, 191.300152520994, 130.16639509601984, 181.07707557801206, 156.8946514384422], [2321.305909994275, 1713.9281672798652, 2577.1949752894525, 2371.6512152114888, 2470.3787855891374]], [[0.23503929433826376, 0.2491609990926998, 0.21994658480496312, 0.04569288536943939, 0.2501602363946338], [1227.7771592205681, 1904.4019529929815, 1665.107609558031, 2488.193268856593, 1559.0560089615583], [48.64891512440764, 64.84068004510311, 85.28164643392432, 121.86663554376808, 55.01465868573007], [2321.305909994275, 1713.9281672798652, 2577.1949752894525, 2371.6512152114888, 2470.3787855891374]], [[0.14927661111943252, 0.2993885973850198, 0.21399886660364087, 0.1941306682536104, 0.1432052566382964], [1852.153265951005, 2625.6131567321313, 2302.9601869819826, 1619.0504468360868, 1801.936423326535], [65.84117578516427, 106.65538795236458, 159.474493690678, 179.89482866865623, 144.6267199707687], [2321.305909994275, 1713.9281672798652, 2577.1949752894525, 2371.6512152114888, 2470.3787855891374]], [[0.19127522692319782, 0.29465507331565133, 0.08420443421448563, 0.3178016164634413, 0.11206364908322386], [2034.8506723231453, 1574.1441178952232, 2462.414464501187, 1867.706963294446, 1510.8836468274399], [72.44325937538206, 50.19141004671104, 173.0668584135933, 91.25659345930583, 199.3013673662436], [2321.305909994275, 1713.9281672798652, 2577.1949752894525, 2371.6512152114888, 2470.3787855891374]], [[0.19485018118775807, 0.3549011252882362, 0.1616190653565325, 0.19816366111247458, 0.09046596705499882], [2364.1624740159114, 1829.4052277090805, 2469.21809313258, 2237.2130639725146, 2757.569701612997], [183.599856063522, 167.6486172991839, 151.0573821290892, 127.1782299027454, 92.87542688997806], [2321.305909994275, 1713.9281672798652, 2577.1949752894525, 2371.6512152114888, 2470.3787855891374]], [[0.19684961931138664, 0.3726621188742196, 0.07412346079684144, 0.15422439248780373, 0.20214040852974866], [2627.057078929648, 1338.5880309891763, 1491.9426485177223, 2106.9169212428233, 1858.5181495877648], [105.44382600083156, 140.89490221134128, 70.06826537367465, 105.67229477542631, 51.35752954217401], [2321.305909994275, 1713.9281672798652, 2577.1949752894525, 2371.6512152114888, 2470.3787855891374]], [[0.2020760410892133, 0.264815376772909, 0.1169101474046344, 0.17118585137683137, 0.24501258335641193], [1611.2621385996256, 1565.3482098226466, 1759.8845433549886, 1753.0409758873534, 1760.946965766262], [122.69387782380915, 159.24578320434682, 108.02559535293076, 193.7070860357465, 66.54261670572001], [2321.305909994275, 1713.9281672798652, 2577.1949752894525, 2371.6512152114888, 2470.3787855891374]], [[0.18184540899255083, 0.20878938036808645, 0.14271862411816888, 0.15576611516182612, 0.3108804713593677], [1243.4773531422848, 1717.4983034807947, 1617.1712623031299, 2608.985021517486, 2581.00918519748], [198.40727920982457, 149.52647339292372, 97.85854605991861, 106.51248602661269, 80.04910469225106], [2321.305909994275, 1713.9281672798652, 2577.1949752894525, 2371.6512152114888, 2470.3787855891374]], [[0.23805966407682186, 0.36927290006400965, 0.13834806073509873, 0.13945219816793095, 0.1148671769561388], [2226.2367602563436, 1361.4567753534475, 1587.6262196500493, 1782.5588724209174, 2890.5688323184386], [167.42667484756166, 66.77146524890176, 60.70353492514488, 199.31432534214832, 114.62375710607311], [2321.305909994275, 1713.9281672798652, 2577.1949752894525, 2371.6512152114888, 2470.3787855891374]], [[0.2486745500836397, 0.33998675985337395, 0.13980785454014588, 0.13400528800794023, 0.13752554751490023], [2146.9964707334484, 1412.2568313904826, 2665.4695785271633, 2360.5446498877204, 1981.072094826914], [72.8697426441996, 90.19366714622336, 187.89754808496716, 94.4515843481876, 71.93768951991672], [2321.305909994275, 1713.9281672798652, 2577.1949752894525, 2371.6512152114888, 2470.3787855891374]], [[0.2563888179360892, 0.26967738116591455, 0.1294149472418631, 0.22191484698430525, 0.12260400667182793], [1156.1874704906945, 1414.1943727958676, 1628.7807057917557, 2432.759735374246, 1462.8722351280871], [161.06907564777043, 201.0160240583845, 119.50729601774205, 192.46692679634222, 113.40223891458419], [2321.305909994275, 1713.9281672798652, 2577.1949752894525, 2371.6512152114888, 2470.3787855891374]], [[0.18479076449625642, 0.38073782458481925, 0.15412461166021196, 0.10444652797470447, 0.17590027128400795], [1235.5247136952385, 1441.455219425943, 2242.885021738015, 2231.5252394550444, 2788.282816720385], [170.21738168137904, 160.9378931643502, 190.07063910212148, 131.7532734613001, 151.38124864809657], [2321.305909994275, 1713.9281672798652, 2577.1949752894525, 2371.6512152114888, 2470.3787855891374]], [[0.2238984872227578, 0.2621456412846538, 0.1455645545931706, 0.13161145028724439, 0.23677986661217335], [1135.1868002502235, 1301.0448967252469, 2315.2248225160706, 2201.9489438676173, 1436.622337925536], [71.42441115634236, 61.05505034037616, 167.43090804598864, 73.07465761599991, 79.76477870947818], [2321.305909994275, 1713.9281672798652, 2577.1949752894525, 2371.6512152114888, 2470.3787855891374]], [[0.2849991080521665, 0.3564763861371938, 0.10131606878414065, 0.06422222268030926, 0.19298621434618987], [2096.555053690196, 2092.4289209127987, 2295.274935213048, 2220.9311174898085, 1740.722536384037], [147.33422499932442, 171.08659284591604, 61.78232596004918, 115.57475058322608, 77.88779137212443], [2321.305909994275, 1713.9281672798652, 2577.1949752894525, 2371.6512152114888, 2470.3787855891374]], [[0.19185958781047457, 0.30058263760945025, 0.08060046938708772, 0.21064997401430105, 0.21630733117868647], [1985.5059932653094, 2174.2429079952126, 1463.2308105593559, 1601.3285288460706, 2578.502236499515], [106.09198250371986, 78.21315637415344, 70.62401593023563, 61.38242648736002, 95.07806746954344], [2321.305909994275, 1713.9281672798652, 2577.1949752894525, 2371.6512152114888, 2470.3787855891374]], [[0.2517090584729612, 0.34310039393534714, 0.059891406055696025, 0.11120417305494543, 0.2340949684810501], [2275.225640048666, 1831.027462216427, 2679.726543032154, 1764.0389806708326, 2606.5543678899185], [110.70011000444492, 99.76511184286052, 96.10150493245573, 185.2336825877722, 87.98320974014135], [2321.305909994275, 1713.9281672798652, 2577.1949752894525, 2371.6512152114888, 2470.3787855891374]], [[0.09509033665752031, 0.35992020231578287, 0.05043592532213057, 0.22782810952093874, 0.26672542618362766], [2165.8548711723856, 1620.2280037713747, 2473.828984728556, 2549.0676121446677, 2375.441597555302], [84.11560233551788, 101.89305938231456, 136.97421576820716, 145.8983853961393, 141.51867626567756], [2321.305909994275, 1713.9281672798652, 2577.1949752894525, 2371.6512152114888, 2470.3787855891374]], [[0.28579026316412715, 0.25287143889005786, 0.05742090291997802, 0.17799499542104621, 0.225922399604791], [1575.061002610059, 2514.304874924972, 2804.4502065569577, 2647.1939839870233, 2249.8946157039672], [110.06274458663029, 101.750689631497, 169.14631033483968, 114.86040451687437, 56.87127700434354], [2321.305909994275, 1713.9281672798652, 2577.1949752894525, 2371.6512152114888, 2470.3787855891374]], [[0.21013063055290168, 0.24237157962154765, 0.12090332064372673, 0.07158641693008044, 0.3550080522517435], [1703.7213838524845, 2066.623474415995, 2442.8070539546006, 1550.0577324970707, 2021.507482486674], [42.162212324719206, 59.874927673676325, 174.76424147231086, 126.25272679626656, 183.64555732372597], [2321.305909994275, 1713.9281672798652, 2577.1949752894525, 2371.6512152114888, 2470.3787855891374]], [[0.25906826073366523, 0.21426642141925678, 0.24706221768175993, 0.10317888009443496, 0.17642422007088307], [1169.2957059693604, 1662.444341093261, 2368.5595128937493, 2240.54718937325, 1540.3407955519529], [55.18728030323035, 69.32024689405628, 194.8725698266843, 169.26341362724253, 147.40445552762384], [2321.305909994275, 1713.9281672798652, 2577.1949752894525, 2371.6512152114888, 2470.3787855891374]], [[0.2773939713298101, 0.2500455756906244, 0.10521073945358553, 0.18853704649913236, 0.17881266702684756], [1267.3089191270526, 1390.5333713183136, 1715.2461162429604, 1982.302774844563, 1520.2294217716458], [173.38146862593013, 203.26365550909227, 115.77431928855117, 133.3873160302262, 87.95151843752367], [2321.305909994275, 1713.9281672798652, 2577.1949752894525, 2371.6512152114888, 2470.3787855891374]], [[0.25825242773700147, 0.3517339067489023, 0.058920734268889864, 0.1496668061613142, 0.1814261250838922], [1141.2382372506368, 1393.8179429632273, 2367.623732348233, 2880.6056786138124, 2228.3008073116207], [176.28315167556107, 135.0522312544129, 153.85685922420691, 191.74088318064807, 105.48587446011516], [2321.305909994275, 1713.9281672798652, 2577.1949752894525, 2371.6512152114888, 2470.3787855891374]], [[0.23235317417496273, 0.3242754807923514, 0.15375633094536978, 0.12494565625086416, 0.164669357836452], [1240.4550589576681, 2501.0343871153273, 1843.6316554271075, 2705.2465985339986, 1562.7093870292501], [74.75202548393031, 153.62079585429433, 108.83386179359002, 46.464927689304375, 52.432796179204274], [2321.305909994275, 1713.9281672798652, 2577.1949752894525, 2371.6512152114888, 2470.3787855891374]], [[0.11728037013760113, 0.24533922261933563, 0.057548727245476064, 0.2642883020152184, 0.3155433779823687], [2708.984953525259, 2776.770915539736, 2226.314071629531, 2282.71691263185, 1964.2267295443166], [64.77014727928483, 115.04118487566015, 160.63648307191738, 92.7435239730734, 181.01623999190284], [2321.305909994275, 1713.9281672798652, 2577.1949752894525, 2371.6512152114888, 2470.3787855891374]], [[0.13786524873902728, 0.38932555389030193, 0.2133062609394785, 0.14506240563554118, 0.11444053079565117], [2294.0576568705433, 1224.750801686224, 2193.8573613238163, 2388.157217480269, 1414.027175811004], [105.47253786839403, 193.8342883547632, 102.39815030392586, 195.47838734729476, 148.3774447374343], [2321.305909994275, 1713.9281672798652, 2577.1949752894525, 2371.6512152114888, 2470.3787855891374]], [[0.28943763378003257, 0.30841747658212776, 0.07177863583116972, 0.09413792152377753, 0.23622833228289244], [1956.4772480825875, 1599.1067107974336, 1573.8810970560685, 2131.910875584989, 2582.3392092307813], [155.3000135847259, 115.49166780274734, 199.57060575067564, 138.51824553447915, 135.28906023120817], [2321.305909994275, 1713.9281672798652, 2577.1949752894525, 2371.6512152114888, 2470.3787855891374]], [[0.21419243411503827, 0.3385995954021796, 0.16904071560461642, 0.13111218058587693, 0.1470550742922888], [2191.730274943493, 2375.7605680111064, 2086.4197374893006, 2448.2776929489614, 2083.777951004017], [53.35722691069593, 115.52964000566674, 142.17788065281664, 75.7208970464126, 64.85607571029576], [2321.305909994275, 1713.9281672798652, 2577.1949752894525, 2371.6512152114888, 2470.3787855891374]], [[0.1664785288882625, 0.34434999006675826, 0.09666770258930303, 0.23952108109930792, 0.15298269735636813], [1172.1235873789265, 1896.2130061273228, 2623.0037759032343, 2011.9769752680436, 1555.0908557745097], [199.13209652128853, 155.42373779242718, 84.63124273531866, 137.89066326863332, 150.2861482479849], [2321.305909994275, 1713.9281672798652, 2577.1949752894525, 2371.6512152114888, 2470.3787855891374]], [[0.31523661197443453, 0.24019768343757492, 0.12379148150530939, 0.15227896159626614, 0.16849526148641494], [1186.4328321285782, 2184.3908347426586, 1807.7942853107584, 2620.7950301728806, 2529.502126114041], [172.04113779830868, 84.67807937347735, 190.5025038657735, 67.19724250968474, 120.69493152307766], [2321.305909994275, 1713.9281672798652, 2577.1949752894525, 2371.6512152114888, 2470.3787855891374]], [[0.2979287792813732, 0.2021264668896867, 0.2444821253477223, 0.09752217455212696, 0.15794045392909073], [1464.2855046318793, 2593.7311046801015, 1961.998439874616, 1611.6284380027475, 2440.609356537495], [124.74502127240106, 72.55802879715488, 190.39245449963425, 70.37812631772063, 67.90159983925767], [2321.305909994275, 1713.9281672798652, 2577.1949752894525, 2371.6512152114888, 2470.3787855891374]], [[0.18718717560430587, 0.2993117139705371, 0.16376947594721641, 0.09867192848352531, 0.2510597059944154], [2377.0358522884894, 2205.995185316045, 1847.940948026289, 1711.571597805924, 2830.602854825469], [175.62214761459555, 97.5411940417254, 100.70664355221442, 73.36131866185936, 53.1044229221113], [2321.305909994275, 1713.9281672798652, 2577.1949752894525, 2371.6512152114888, 2470.3787855891374]], [[0.1758230003794273, 0.35705656545289555, 0.05389087732896932, 0.1740375943552156, 0.23919196248349217], [2218.752157200065, 1711.27861031783, 2783.87837792555, 2480.5187850946004, 2452.38541726444], [149.92395356772866, 171.992936870766, 191.47410408829472, 204.73465676794885, 67.23450440068832], [2321.305909994275, 1713.9281672798652, 2577.1949752894525, 2371.6512152114888, 2470.3787855891374]]]]\n"
     ]
    }
   ],
   "source": [
    "print(regimeCycle2);"
   ]
  },
  {
   "cell_type": "code",
   "execution_count": 23,
   "metadata": {
    "collapsed": false
   },
   "outputs": [
    {
     "name": "stdout",
     "output_type": "stream",
     "text": [
      "[[[3.7263078709716018, 3.9663721229802298, 4.1507185895725334, 3.3825261027622062, 4.3073153380900573], [2.9166659554561973, 2.3640115549573788, 1.9774287456839537, 1.4357592660451601, 1.2207400895674034], [4.4134062716236473, 2.9024648705017841, 2.3016632352155435, 2.2891234328044243, 2.463313205139523], [4.0676336223139931, 3.6421805451811928, 4.0138631565741436, 2.9310824765088253, 3.2876884654083485], [3.3019579795373777, 3.321749663028295, 3.0680044578245131, 3.1467603774787292, 2.8848660756058648], [3.2029123496651635, 3.1035535741050611, 2.1545485482627287, 2.5987822527824092, 2.5432458586760656], [5.5488584946713946, 5.9971219389899613, 4.8796723905759931, 5.2480100472874529, 4.844429110204528], [2.739179287673283, 2.7793000343300158, 2.3343657732118692, 1.9677558348231294, 2.2045460244986868], [4.6588054359481115, 5.0278346457660064, 4.6808659298528941, 4.3259272895416476, 4.41057219650994], [2.8049394072258345, 2.7343175609262831, 2.4653356474093724, 2.5788522136162064, 2.7082627494551681], [4.4804496288329316, 4.1996175398707756, 4.4153967023864382, 4.5840349325440393, 3.7529411467988845], [4.4043453686877498, 5.0505980283247505, 4.2086313110275775, 4.0536601646733912, 4.3112202022132076], [4.5902134646884205, 3.9102579800072119, 3.3906465458408435, 2.6750639815325075, 2.7218464148551567], [4.7778623514903655, 2.323681678204057, 2.0482596936075432, 1.9961899410110746, 2.2137250200909198], [3.6569846134496418, 3.1652034155143687, 3.3732378439505766, 3.993656233524979, 3.1997557337864206], [4.7343760629277165, 2.3018594534828161, 1.7291546736560217, 1.5598187976398863, 2.090644939842913], [4.1471615667297792, 3.0278081507936578, 2.8963430886533104, 3.2674183573752624, 3.4409532025964671], [5.3344233878177807, 5.7595175038728472, 4.5446585250191989, 4.6233600694366883, 4.7657324634391234], [3.9279360629962712, 3.1301530926840835, 3.0246500322704879, 2.8714423092084651, 2.772048721809576], [2.5627768619845486, 3.2555628983543747, 2.6818107785642802, 2.7532607223290868, 2.5968407857631779], [2.2651847261700144, 1.6222654953567752, 1.3208386226134317, 1.4978111865882886, 1.070127905480831], [4.8332680173354099, 3.4736453555374296, 3.6452541915402641, 3.5893443602903599, 3.818438977115068], [4.8985688920314061, 5.21412931940137, 4.3298314565371419, 4.3110219618580601, 4.0089366960072317], [2.9732672362996491, 4.855029923740136, 3.5489633081764733, 3.4896063256755672, 3.6305243799755376], [2.0945258354994798, 2.2603719146404693, 1.4743686426357061, 1.2874799065841023, 1.0311865300859573], [3.6508891610774783, 3.5756721322481342, 2.1481639869110012, 2.6292740821927616, 2.2119803085349643], [4.3628788387051252, 3.8234256067600141, 3.4381249980820661, 2.6115016537089328, 2.826463593712333], [3.9385047790689276, 2.415462127061033, 2.296110129751094, 2.3223038782858327, 2.2412410367377271], [4.7912763497950612, 4.6014083957356409, 4.5028818169856333, 4.2704054397073303, 4.4328594037352165], [5.5436260943704179, 5.8047161285989324, 5.4272111212142571, 4.0723109503603148, 4.2522820772911887], [4.9198991753769752, 4.3263332415324722, 4.5623896335836092, 4.1166865452275099, 4.0948326719011616], [5.4825437244239721, 3.538674702345169, 2.963899665316061, 2.8420433852451819, 3.2885658722154969], [3.2433502255036486, 2.8499862256822888, 2.8984985973798807, 2.2401620164849247, 2.1502799578891083], [4.714975203771516, 4.3221079710948169, 2.5679948390603187, 2.6219476194946543, 2.6666066089270686], [3.6813022192455631, 2.7116583179404552, 2.5812663728305512, 2.6017854916944727, 2.3892124960459058], [3.6705080710881588, 4.5159834016294038, 3.5159031899366249, 2.7540901127972917, 2.8382705322440183], [3.6334689184283646, 3.442219558183143, 2.9466563160526045, 2.7646872252010488, 2.6483042616904822], [4.2594317819170335, 4.1796209267308129, 3.3697857680338514, 2.7253206673377881, 2.7292424975153984], [3.9097292586970074, 3.2119166546693654, 3.018814155527108, 3.0823022403700535, 3.0117827659271761], [4.2491636262195929, 4.4546807857012896, 3.5712295024734684, 3.463654997295647, 3.9849707841472015], [3.9984382969707153, 4.4765517169167559, 3.6733325413379614, 3.481559677019769, 3.1889243990677394], [5.1786972671415326, 5.5097682987650831, 4.8270112789624191, 4.9061483949767863, 5.1387652207203232], [3.4403976226769646, 3.8089676243331851, 2.7211664489843277, 2.8353244136813629, 2.7180819706905339], [4.269615384838664, 4.6014756413706568, 3.6367103969840064, 3.8040097309219756, 3.2526968032163692], [3.5838842481504924, 4.1356247995507589, 2.6388347037876869, 2.2682126712200898, 2.2102415843916448], [5.3297696398788661, 4.6989902434986996, 3.7095680318700048, 3.6956488713322808, 3.5324254364140364], [3.2483200544240174, 2.7546021550757156, 1.7183067447252873, 1.7719713764389149, 1.4763299782241051], [2.4117843945966375, 2.1973529790004824, 2.3383737048885642, 2.9704865181412106, 2.3607699898971282], [4.9616611063738914, 4.6098061996951012, 3.4142795816834375, 3.4761415844012791, 3.2961643002948025], [4.2769439635466799, 3.4958505151253885, 3.1274280217743113, 3.2134402190660412, 3.1302541717510213], [3.4402933121011996, 2.5144473849098765, 2.5186327148429224, 2.4681642154033967, 2.3377967525252155], [3.2825941691864364, 2.9752147280649881, 2.540754579563091, 2.9833163171066821, 2.8739092456714053], [3.2796732175024688, 2.3025548257748207, 1.7405503681508392, 1.4644028992552318, 1.292319401747744], [3.4240463730516097, 3.5527596754563335, 2.2970869145121404, 2.2593687657599708, 2.5254607028374676], [3.6000980160521965, 3.3259351816235956, 2.8327253142547217, 3.2149303780970002, 2.9144485714361359], [3.9018110912124775, 3.0139141723310163, 2.1331187902905899, 2.99837138603091, 2.8239616064996418], [5.5220091702519856, 4.639890519114295, 3.5034256609230976, 2.6344674518545017, 2.3850438765941067], [2.5572373383897586, 2.550049780637333, 2.4141904366214209, 1.7517445354019114, 1.8405647897629895], [3.9061248825614268, 2.622692802082037, 1.4180236962119179, 1.4835581104312678, 1.3090397495172093], [4.929055775074997, 4.4770537158474379, 4.5510799137129441, 4.343932873113169, 4.2455865183239947], [3.6014760590902455, 3.2860678832365426, 2.9524019608427219, 2.8791042082206122, 2.3217941093404333], [3.8026319941968536, 3.3168904649052871, 2.8554752965211305, 2.3293816671665244, 2.5502828786008336], [6.152680254576981, 2.6794397369066325, 2.3527357837464922, 1.9014308854953228, 2.0302864451595051], [3.4891495804899724, 3.7474927179629089, 3.303854535780113, 3.3315432869472672, 3.3079343484970862], [4.5193744846232669, 2.7053649856157707, 2.2191854262037261, 2.6568026900515789, 2.4344612936785084], [3.6900995182979575, 2.9691652276150067, 2.8223079939220614, 2.8855902011172634, 2.6398256091945576], [2.7437213586550286, 2.3661073682168428, 1.6177412972944301, 1.6099042588033485, 1.6155362987264497], [2.2936309050267258, 2.1145497682679535, 1.6552351446761615, 1.6677749079591868, 1.5282825833792901], [2.9113813783833997, 3.2752590480824715, 2.9960142885636758, 2.9002809412727206, 2.4175823291282472], [3.271480601253105, 3.0179328350818166, 3.0841729695962345, 2.6360469362610766, 2.6413039297041365], [3.8063194988467393, 2.6464185266286795, 1.8598821043273259, 2.0501712542692681, 1.9441570197745062], [2.8566575238349681, 2.7382544889434888, 3.1536540685245305, 3.6536241164347505, 2.920851970553235], [4.8638195956818286, 3.6639338168136795, 3.0298745716815003, 3.0006698515642727, 2.8080738302210171], [3.8896758379351564, 2.9652362501083487, 2.620055504040717, 2.5609175635089056, 2.624811611298755], [4.8688083254250527, 3.4208370277004629, 3.5119728159196049, 3.4241918190461722, 3.2048889835130021], [4.7141568701608181, 4.2539396033328902, 4.1688751860934428, 4.7149325487785871, 4.5825813280346548], [2.8304485788672333, 2.4834118175350484, 1.9222091291751247, 1.6610412672662125, 1.4319239586424388], [3.4103442034506366, 2.7980473652687552, 2.8475246913958672, 3.7742899969227079, 2.5928932954325181], [3.6232008040333521, 2.933471868224502, 2.4769923123487279, 2.8980838527273969, 2.455411899917312], [4.9664681885193174, 2.906048278015787, 2.752690811854503, 2.7095652701025403, 2.3411716385757684], [2.7373022501486255, 2.4940258664431663, 2.3306624664136764, 2.2147017801148499, 2.2480483368420661], [2.8695740933352751, 2.9349272535176758, 1.8218862113119318, 1.6142807285880405, 1.8764531593350604], [4.5356510024388941, 4.7975123624149267, 3.900490919239902, 4.6154830514071161, 4.228861948397892], [3.3727785815002811, 3.0448885335238871, 3.0016884458450099, 2.7744643772611464, 2.441367934916955], [2.5745655201418782, 2.7447396648711142, 2.436789409644915, 1.8935246484993649, 2.4117477390412585], [6.4225459336956119, 6.1379912226051276, 4.656717410526432, 4.7236114624813732, 4.8850496811183843], [3.4366749529733953, 3.2751680945246395, 3.145067884350583, 3.1339959066780572, 3.0595441142233573], [3.9736154382126139, 3.8832672027699289, 3.5196723900676474, 3.4328136421604758, 3.3681040305160606], [3.3166751425120982, 2.8292866080038559, 1.9053672981823719, 2.2364186819332526, 2.3835446987995468], [3.9418697969229632, 5.0962034357959247, 4.1167493843723522, 3.7317016728756673, 3.2184174943983814], [4.2662461604978157, 3.5734756689565632, 2.660434866896904, 2.6180056164242465, 2.7290593087487243], [2.9187354318397651, 2.7038228202074426, 2.1518154384480743, 2.2659823105979657, 1.7493270933256448], [3.7127407623040303, 3.4521657865578352, 2.3238783575172666, 1.9011509141273837, 1.7855685084177724], [4.0686057293454239, 3.4639117566767408, 3.2099642599406164, 3.6938177508443952, 3.1190360944187359], [6.0158541030448172, 2.88146874808755, 2.771138680177446, 2.8451988565355393, 2.3904117625947032], [3.6062896771482551, 4.0933378815138841, 3.1607945542953289, 2.8748742675669758, 3.2825873698630366], [3.2976811529194077, 2.7331862063720993, 2.5567660394915976, 2.5708038668203987, 2.4875699335766654], [3.3562650069392985, 2.9383793871667816, 3.1988125177291034, 2.5198480601177198, 2.4803390700764729], [6.6743540863926754, 4.8596147550565041, 3.0559367824232133, 2.2482150695212368, 2.4703211900247806], [3.8103812734396585, 2.7098233485328533, 2.4515609255239443, 2.4183958138436861, 2.2772482649387196]], [3.2351504275803378, 1.2817080015393501, 2.2134880088599611, 3.1471293861857128, 2.7534388578700879, 1.9290039425084593, 4.7404838554183533, 2.086844572492581, 4.2154112507081285, 2.2316066665293368, 3.530235242041706, 3.4319110600955667, 2.5366524421894008, 2.0152371429895206, 3.3000156005896066, 1.7315588025296205, 2.7138676195550095, 4.6267573198150949, 2.9183325472580526, 2.5044512981022926, 1.3596823049173712, 3.5346938012350919, 3.9714529832974725, 3.1186715084039887, 1.3882091699798651, 1.7905630543368531, 2.8339988544655585, 2.0660041423042914, 4.1189250034185587, 3.6483409610828517, 4.1348525970708314, 2.7643307967244648, 2.1287736064696032, 2.4219161235406048, 2.4796173173280818, 2.9415190277205445, 2.7379530389487203, 2.8038368629417088, 2.9364984858604504, 3.5309859327866326, 3.2053524983103165, 4.9963070427307699, 2.5061047605669335, 3.4012674075295788, 2.2192654896252311, 3.2826231998603119, 1.7503652179500826, 2.0248782656297428, 3.2374963079348156, 2.9810497797755735, 2.2620310919555005, 2.4489057665223699, 1.3351767525973877, 2.3236293044528029, 2.9916137539930485, 2.221360747508617, 2.25793776358337, 1.7986663266023677, 1.1866691979054336, 4.2611385124650427, 2.3703768863732821, 2.6710512849992836, 1.8629761915286815, 3.0559581557109676, 2.4994047374868473, 2.5635332474791581, 1.219979004147125, 1.5238287084173576, 2.3457823328449368, 2.6775065457637961, 1.8954553648313304, 2.6726319889889285, 2.289000700566421, 2.3084129288709803, 3.3018162819505159, 4.0560884999437992, 1.3527909787341832, 2.8268019042449231, 2.1208992405752163, 2.3447526701109367, 2.0759836096797466, 1.6807823407878177, 3.8164623759082108, 2.5452821517926454, 1.8553415343699291, 4.5495427983972379, 2.9512864388055409, 3.1194992396017054, 2.0172115591540769, 3.3120456397069882, 2.5537696385445803, 1.9573467914328071, 1.7437748226540351, 3.0060715438306738, 2.4025367046229538, 2.7868341785170068, 2.3048279929159294, 2.2112436968013651, 2.2089805432703713, 2.1561360783646011], [[[0.18261167998824984, 0.36868862025788746, 0.1507575344306953, 0.1467776508596414, 0.15116451446352588], [1622.4111180891884, 1331.8435954946851, 2533.034611331516, 2509.7513848960816, 2163.210709504733], [103.31332544749493, 188.17155095780302, 131.80500975736058, 55.3357337950122, 122.94916918703935], [1306.0909567853853, 1348.623114160234, 1623.0158991830353, 2548.252539817583, 1585.9394860696893]], [[0.21753863132232967, 0.34384087261332963, 0.19256086272835268, 0.050362965837001894, 0.19569666749898618], [2279.450131464505, 1397.5018383979711, 1450.8168931734883, 2356.02526401212, 1969.0306422944946], [147.7449923200098, 137.7133860508778, 95.05578485834104, 89.90645343666138, 173.85313347284833], [1306.0909567853853, 1348.623114160234, 1623.0158991830353, 2548.252539817583, 1585.9394860696893]], [[0.09259054021616436, 0.2839610589403978, 0.26983622141784785, 0.13859311616931747, 0.21501906325627257], [1236.679155502673, 1498.3666445691697, 2850.5128073212654, 1548.5804831245546, 2153.6447095549697], [199.8127139580997, 173.54886358368967, 68.02987680695004, 90.03552199872206, 135.7536649237741], [1306.0909567853853, 1348.623114160234, 1623.0158991830353, 2548.252539817583, 1585.9394860696893]], [[0.18465726762441187, 0.302151233095561, 0.17299482238850705, 0.13710517650918658, 0.20309150038233356], [1910.1510011651792, 2227.6436152164742, 1858.462050177778, 2835.0989777931654, 1685.983355326395], [180.63889179255688, 172.2263160763192, 174.8902199754209, 175.75721100988454, 189.04248162072517], [1306.0909567853853, 1348.623114160234, 1623.0158991830353, 2548.252539817583, 1585.9394860696893]], [[0.21067980517727417, 0.37854622998858745, 0.1415534946409747, 0.183852761103986, 0.08536770908917761], [2590.1448972025514, 1609.766524338487, 1662.5270665614544, 1681.0391941830544, 2058.7177743355446], [55.97406946937997, 184.8161710624458, 93.48978492898631, 93.65006555348248, 97.72431840299645], [1306.0909567853853, 1348.623114160234, 1623.0158991830353, 2548.252539817583, 1585.9394860696893]], [[0.2670664708029249, 0.2299587068765973, 0.08360812151647828, 0.2546337805806905, 0.16473292022330902], [1853.5887253412493, 1189.6187850094614, 2660.6073313189027, 2368.4602155308767, 1374.3040768335482], [158.42502905859808, 182.16591983179833, 87.71968995218374, 117.71472599765629, 177.68868385255763], [1306.0909567853853, 1348.623114160234, 1623.0158991830353, 2548.252539817583, 1585.9394860696893]], [[0.24007281913761636, 0.289364861424864, 0.04917191767415104, 0.18924924547996325, 0.2321411562834052], [2530.805426888797, 2454.233955560512, 2079.2249496759428, 2423.4195802412114, 2495.886442567844], [130.3252755965737, 97.67765937087324, 121.45082381038574, 174.53940998757218, 197.76487514225275], [1306.0909567853853, 1348.623114160234, 1623.0158991830353, 2548.252539817583, 1585.9394860696893]], [[0.26002637814935137, 0.32370906950515127, 0.12911526562547546, 0.12874504083854693, 0.1584042458814751], [1145.0814163703935, 1442.9936338680745, 1637.6186768000084, 1347.3924396999942, 2551.536996314552], [160.03580284859459, 112.10869703537072, 57.06405039209642, 201.509721565908, 135.56022619905931], [1306.0909567853853, 1348.623114160234, 1623.0158991830353, 2548.252539817583, 1585.9394860696893]], [[0.14041929849461673, 0.39842754859087526, 0.09232878179436582, 0.13376530766522363, 0.23505906345491862], [2655.2119944874858, 2640.365151237832, 1836.4756956527312, 1944.7182646632941, 2485.3125954864827], [124.53761956154752, 122.50914273617434, 116.55794085104861, 50.17928081502282, 206.80374635237027], [1306.0909567853853, 1348.623114160234, 1623.0158991830353, 2548.252539817583, 1585.9394860696893]], [[0.15481125137025525, 0.34169813692538786, 0.13749451712211824, 0.12434466246602889, 0.2416514321162098], [1653.1446552403286, 2325.5359840450055, 2080.789558538867, 1450.632224667297, 2272.767054959335], [136.9087503591177, 65.21187256666444, 76.10254667528119, 199.8189862441845, 73.46042168747012], [1306.0909567853853, 1348.623114160234, 1623.0158991830353, 2548.252539817583, 1585.9394860696893]], [[0.31850954016313443, 0.24885793498431927, 0.10510493873922394, 0.12780356398396583, 0.1997240221293564], [2437.2273846845137, 2183.602247927833, 2403.2545864069275, 1579.39035377053, 1966.7597649518966], [106.09989865551272, 76.4242216383586, 74.74413307776109, 161.33916281850173, 204.83165667692376], [1306.0909567853853, 1348.623114160234, 1623.0158991830353, 2548.252539817583, 1585.9394860696893]], [[0.1546718819889985, 0.1989762170633424, 0.20946414653375472, 0.24153741981398932, 0.19535033459991505], [2515.103225282335, 2492.3278222722884, 2315.46822501077, 1463.2666779826902, 2534.082199031992], [116.4359414575823, 54.82251942788622, 96.97558072977145, 123.37267127212709, 109.946168422518], [1306.0909567853853, 1348.623114160234, 1623.0158991830353, 2548.252539817583, 1585.9394860696893]], [[0.20165608096752644, 0.23550552963597202, 0.1781125702531209, 0.06829053872964391, 0.3164352804137369], [1893.146099542465, 2213.3918907372854, 2014.4654938498118, 1850.7100253341773, 2413.4307737104045], [49.44787323256281, 92.07262208811626, 98.38545865274176, 49.8792483425089, 204.67071446231847], [1306.0909567853853, 1348.623114160234, 1623.0158991830353, 2548.252539817583, 1585.9394860696893]], [[0.09352120996014072, 0.2796365971130432, 0.058181712534102994, 0.263701595892802, 0.30495888449991126], [2429.632305308119, 1234.8484875177323, 1553.0624362845629, 1998.9709246810276, 2117.711325776215], [63.83101435175212, 181.1493203113439, 204.16898634463527, 123.33921260605794, 92.90959040743863], [1306.0909567853853, 1348.623114160234, 1623.0158991830353, 2548.252539817583, 1585.9394860696893]], [[0.16666522235716277, 0.2066866902701089, 0.21070876095738686, 0.20167157482798453, 0.21426775158735686], [2686.0120645456527, 1460.8524572316946, 2184.254695113122, 2221.8019274177377, 2397.5660526514157], [50.02514440418577, 50.16425608463203, 192.92346057010505, 169.60511319796217, 62.44718807728876], [1306.0909567853853, 1348.623114160234, 1623.0158991830353, 2548.252539817583, 1585.9394860696893]], [[0.14823898244335737, 0.39161251627780785, 0.1497090237101209, 0.08949351930963399, 0.22094595825907973], [1561.90059230496, 2452.2613621393357, 2053.6751173705493, 1418.4332274965182, 2744.530402688918], [72.57049397903252, 186.71016731142123, 159.78701385660315, 198.34288534834184, 70.58576395457047], [1306.0909567853853, 1348.623114160234, 1623.0158991830353, 2548.252539817583, 1585.9394860696893]], [[0.2904881413277475, 0.24641681847558602, 0.1429359608416129, 0.09601692250355573, 0.22414215685149805], [2589.878085821001, 1732.372543476765, 2102.44220274538, 2217.400008222794, 1676.986056123133], [157.08801925985912, 86.14562237737496, 161.8053919970485, 139.23702482435692, 194.8139312202536], [1306.0909567853853, 1348.623114160234, 1623.0158991830353, 2548.252539817583, 1585.9394860696893]], [[0.26652825232322963, 0.3765456659542715, 0.08870694718375143, 0.15407204883953682, 0.11414708569921059], [2111.9298811612034, 2250.2702381614768, 2241.8983893148743, 2283.087444920932, 2439.4295313067087], [133.26258324242866, 195.32410244507756, 184.2229806140116, 192.93923629981538, 90.8168875646293], [1306.0909567853853, 1348.623114160234, 1623.0158991830353, 2548.252539817583, 1585.9394860696893]], [[0.19095361243791634, 0.32560905280906194, 0.15645694068953356, 0.1883719635894341, 0.1386084304740541], [1887.5945603535229, 1680.3233094941909, 1788.520343666407, 2153.1290682070826, 2295.797552740236], [195.3636387292017, 148.5060790868127, 73.83008383660277, 150.0959360014695, 75.81411156206951], [1306.0909567853853, 1348.623114160234, 1623.0158991830353, 2548.252539817583, 1585.9394860696893]], [[0.10357575246435913, 0.2706959549345411, 0.17064443271167049, 0.19026543016092226, 0.264818429728507], [1453.522608928928, 1321.255684061371, 1703.175978767203, 2071.1911272903853, 1523.6540402462647], [76.65928678266914, 188.68840045119043, 181.9614810703981, 159.4124679387127, 196.81491069236438], [1306.0909567853853, 1348.623114160234, 1623.0158991830353, 2548.252539817583, 1585.9394860696893]], [[0.2108125182622994, 0.2466827760834591, 0.07803321081253176, 0.2803705599088285, 0.1841009349328812], [1271.7009179390238, 2612.1169248065517, 2512.2740551995216, 1868.2751149002154, 1703.3661697933235], [120.71896239516506, 62.34812723577047, 75.75781785462199, 82.05858469831271, 160.40733550622178], [1306.0909567853853, 1348.623114160234, 1623.0158991830353, 2548.252539817583, 1585.9394860696893]], [[0.16309061396866573, 0.4780921168322095, 0.10675258375764446, 0.10419094316908019, 0.14787374227240024], [1713.493674962791, 2581.1335231232088, 1869.650543429213, 2770.756364476729, 1803.5751575232125], [146.0009545047815, 166.28832572447854, 56.69360102949733, 65.63315903694232, 146.72669912489954], [1306.0909567853853, 1348.623114160234, 1623.0158991830353, 2548.252539817583, 1585.9394860696893]], [[0.24912819698929436, 0.2487965063993161, 0.055767468019567945, 0.20581270882276742, 0.24049511976905408], [2571.9421177928343, 2285.392011091596, 1949.6979497550187, 2088.647557506434, 1538.2523752506077], [191.53056599057481, 157.20078023147005, 205.7986590874283, 185.8788454541028, 175.8301688060369], [1306.0909567853853, 1348.623114160234, 1623.0158991830353, 2548.252539817583, 1585.9394860696893]], [[0.2033392573360457, 0.3443286979502334, 0.0875224423676073, 0.23375946560767832, 0.13105013673843524], [2410.437910019754, 2090.0440798996815, 2611.3323742523676, 2848.4540340664307, 2316.3115711577575], [117.98479834703818, 69.85609148280156, 144.20152046151196, 45.031646630396864, 119.41376874329876], [1306.0909567853853, 1348.623114160234, 1623.0158991830353, 2548.252539817583, 1585.9394860696893]], [[0.19894855424119495, 0.42412434268878363, 0.09216049642615685, 0.13532887123614007, 0.14943773540772445], [2060.5925263906465, 1183.0631433886504, 1668.6996478202066, 2367.680205237608, 1643.531711460725], [100.67237664614238, 52.342411430678766, 177.88436653104412, 137.12226076203282, 164.89230838538523], [1306.0909567853853, 1348.623114160234, 1623.0158991830353, 2548.252539817583, 1585.9394860696893]], [[0.1928046295790884, 0.20445687699245052, 0.21874203237563156, 0.1672956220761853, 0.21670083897664408], [2431.5036019246804, 1193.7605313334425, 2125.6343387658026, 1681.903953726277, 1517.5744808585491], [43.00589206171652, 131.82735105637767, 109.51269783087139, 137.45525815766342, 160.22671864115122], [1306.0909567853853, 1348.623114160234, 1623.0158991830353, 2548.252539817583, 1585.9394860696893]], [[0.19296099052801233, 0.2747685782615026, 0.11683450279520521, 0.21878744850106233, 0.19664847991421758], [2467.699443149849, 2041.9192778050556, 2261.8170530303196, 2656.364213650013, 1792.5189838130268], [131.37796314162736, 166.25540777230276, 166.72334761488997, 89.4293613697961, 197.25124448318348], [1306.0909567853853, 1348.623114160234, 1623.0158991830353, 2548.252539817583, 1585.9394860696893]], [[0.21184345445827066, 0.23506931480852047, 0.1832658952431601, 0.25405370158681617, 0.11576763390323264], [2006.0908994486344, 1665.5721610469086, 1510.8948027596794, 2280.278074720899, 2064.6685505375026], [143.00611368012935, 118.57023365769712, 168.84141304380404, 201.97728588408805, 62.364101403796866], [1306.0909567853853, 1348.623114160234, 1623.0158991830353, 2548.252539817583, 1585.9394860696893]], [[0.24363556989083418, 0.23241753730904624, 0.1988396367607374, 0.22137709814983647, 0.10373015788954569], [2447.984585064806, 1562.0441129690478, 2453.0477448411075, 1517.2488587412972, 1306.939514130066], [132.1617452732259, 143.59118399855168, 88.22069612150722, 161.091252747826, 184.28681637900047], [1306.0909567853853, 1348.623114160234, 1623.0158991830353, 2548.252539817583, 1585.9394860696893]], [[0.2535952419867564, 0.261420447835083, 0.14472118552462215, 0.19779202567783796, 0.14247109897570043], [1778.7333347837855, 2432.0019514168425, 1721.639783629098, 2695.7843391933916, 1850.2392686332369], [138.02243640944596, 129.4839493326981, 113.77858731226434, 159.661404001872, 127.36735216171333], [1306.0909567853853, 1348.623114160234, 1623.0158991830353, 2548.252539817583, 1585.9394860696893]], [[0.2774085450270706, 0.2957576549334521, 0.1537169495959464, 0.05145863894454925, 0.22165821149898174], [2370.47010824136, 2360.2881793260512, 2213.843554178493, 2798.7941354580935, 1619.881346217079], [112.91734579824728, 70.20948800761703, 214.9457212142767, 53.68301721632071, 206.93692300366632], [1306.0909567853853, 1348.623114160234, 1623.0158991830353, 2548.252539817583, 1585.9394860696893]], [[0.17019305393582357, 0.27276502233687666, 0.15460567975119907, 0.20405730869379657, 0.19837893528230402], [2023.7333613706278, 2697.963301632298, 2908.2884780838162, 2319.6842356359557, 2592.3095592224736], [142.82039267340775, 173.33218952427836, 117.55718020199076, 103.86731184429165, 120.96499935052725], [1306.0909567853853, 1348.623114160234, 1623.0158991830353, 2548.252539817583, 1585.9394860696893]], [[0.1560392119373716, 0.4118525806879204, 0.07569627625365194, 0.1798321034302313, 0.1765798276908248], [1188.4159552153164, 2539.321083259977, 1734.4917537619476, 1927.9535468959743, 2829.315290899426], [45.23702446498075, 96.80634368952204, 65.76892459998416, 181.0425430142789, 175.98846872672493], [1306.0909567853853, 1348.623114160234, 1623.0158991830353, 2548.252539817583, 1585.9394860696893]], [[0.18848155814603834, 0.3989819613361663, 0.06102013424854165, 0.12445605898568289, 0.22706028728357078], [1911.6426370060233, 1700.7882112510065, 2452.502765414376, 1957.4267110618207, 1534.128669573387], [197.09808731255316, 72.96155852409548, 86.73686841538742, 157.36920370901728, 70.00759969756555], [1306.0909567853853, 1348.623114160234, 1623.0158991830353, 2548.252539817583, 1585.9394860696893]], [[0.20809266333251716, 0.2653183985265335, 0.15626868849492473, 0.11511094795338034, 0.2552093016926443], [2229.419377157143, 1816.1812039716701, 1480.6451452925808, 2176.1348761767103, 2217.191125276441], [159.0766059936168, 138.43186660630204, 143.69303893266044, 93.89845385347785, 101.91350556753655], [1306.0909567853853, 1348.623114160234, 1623.0158991830353, 2548.252539817583, 1585.9394860696893]], [[0.1092705919477696, 0.2227850695057537, 0.18020533863229013, 0.18587373559373974, 0.3018652643204468], [2248.0071614768694, 2510.3293277176867, 1564.1111589625316, 2615.7662412504214, 2045.5798344529974], [51.20833264194698, 82.29093707928975, 108.05231243473946, 49.95580305796946, 59.45159113571958], [1306.0909567853853, 1348.623114160234, 1623.0158991830353, 2548.252539817583, 1585.9394860696893]], [[0.12173794294199038, 0.2778274736261923, 0.15703238545750978, 0.21283853463065378, 0.23056366334365386], [1930.155361537043, 2006.762594369528, 1378.0082638029935, 1770.9409834815694, 2687.311092693005], [184.25143508057656, 122.3132661324797, 158.51592638522683, 75.59717602192589, 97.97972440645573], [1306.0909567853853, 1348.623114160234, 1623.0158991830353, 2548.252539817583, 1585.9394860696893]], [[0.2946313705539197, 0.2276994336576485, 0.14777051559137536, 0.12347188917067192, 0.20642679102638462], [1431.4693275821514, 2086.538400180175, 2811.3843855312352, 2374.8369884050626, 2748.1538677763315], [181.20755863158388, 53.05638669157568, 131.9512891493771, 191.71220200423738, 132.0071203010683], [1306.0909567853853, 1348.623114160234, 1623.0158991830353, 2548.252539817583, 1585.9394860696893]], [[0.21722659151193663, 0.29301608690096703, 0.1832453409847798, 0.12627552162640954, 0.18023645897590718], [2268.3877473080793, 2099.1719501937205, 1953.6288529039239, 2616.0240056235425, 2039.2649627152098], [109.24224442385592, 79.8304939940666, 132.633686236392, 178.28541748261614, 182.4201229782205], [1306.0909567853853, 1348.623114160234, 1623.0158991830353, 2548.252539817583, 1585.9394860696893]], [[0.2080016259907952, 0.272801877967108, 0.24827261352464847, 0.15167872806362925, 0.11924515445381922], [1144.9015013306653, 2035.0927608319216, 2434.6106801692927, 2428.474692331216, 2347.43063768787], [100.42941553152099, 85.32699925085785, 209.33217290374395, 196.9068235279692, 90.28315739462256], [1306.0909567853853, 1348.623114160234, 1623.0158991830353, 2548.252539817583, 1585.9394860696893]], [[0.26901744708133163, 0.1658515657245196, 0.24813926124875946, 0.11503161815662713, 0.20196010778876222], [1915.663074381804, 2512.1007464556233, 2282.248968651557, 2352.878519771782, 1720.0406102239203], [57.970863858557834, 179.27641668516625, 58.586437010352284, 174.9876843020548, 170.17061001062214], [1306.0909567853853, 1348.623114160234, 1623.0158991830353, 2548.252539817583, 1585.9394860696893]], [[0.23944545541520812, 0.15620985852577876, 0.15452197274974974, 0.20663546610729602, 0.24318724720196735], [2612.132116332496, 2774.385349102138, 2571.7187440633047, 2615.53432659365, 2076.649550298086], [138.5714589082429, 164.26430289865152, 135.2361030137468, 203.64335476040188, 195.46114626670385], [1306.0909567853853, 1348.623114160234, 1623.0158991830353, 2548.252539817583, 1585.9394860696893]], [[0.14128176036807524, 0.255856894280632, 0.21294296492044318, 0.1776251200362742, 0.2122932603945753], [1496.2833965254824, 1837.753758258596, 2179.425864449866, 1777.6205349751235, 2742.876802337738], [88.50514726661666, 118.80221061098595, 81.25216645333622, 86.2328091150232, 70.1208694961222], [1306.0909567853853, 1348.623114160234, 1623.0158991830353, 2548.252539817583, 1585.9394860696893]], [[0.18880739846846634, 0.3601507945057635, 0.07570417560018015, 0.22223982577245618, 0.15309780565313377], [1861.8133039378672, 1807.839740793328, 2620.7090604750583, 2008.1066702745456, 1361.1620002896652], [64.82984089322852, 160.38650803488292, 77.21338075647238, 190.77550917940127, 94.88303649490001], [1306.0909567853853, 1348.623114160234, 1623.0158991830353, 2548.252539817583, 1585.9394860696893]], [[0.16848255061394404, 0.28579374943733116, 0.2872127907785251, 0.06369643406150567, 0.194814475108694], [1562.3545930815612, 1416.8905080783036, 1643.488562045723, 2231.587932841371, 1340.1037740165148], [55.170033108603945, 48.29042413571038, 100.33496714565656, 175.10479298220105, 190.56990864929074], [1306.0909567853853, 1348.623114160234, 1623.0158991830353, 2548.252539817583, 1585.9394860696893]], [[0.29018883680480434, 0.2774082469147136, 0.1755005320485018, 0.12893151123566937, 0.127970872996311], [1834.3118655052708, 2133.372613434652, 1960.3332528495202, 2468.7385427505483, 2133.5007038905624], [171.03367731131485, 113.63353834024386, 171.3140690051882, 54.396637370176705, 50.77795650772299], [1306.0909567853853, 1348.623114160234, 1623.0158991830353, 2548.252539817583, 1585.9394860696893]], [[0.19756702535892162, 0.2044133593780425, 0.2261702543487978, 0.10298819822305677, 0.2688611626911813], [1539.9152530012057, 2151.578992402867, 2133.9626861748025, 1797.1728258093221, 1949.3759433987477], [156.78204263816696, 122.23056335700194, 67.85390616998305, 143.3745524655343, 67.85357456236383], [1306.0909567853853, 1348.623114160234, 1623.0158991830353, 2548.252539817583, 1585.9394860696893]], [[0.1810688737107449, 0.2254632804177997, 0.10292167071548011, 0.21108426148267773, 0.2794619136732975], [1657.4833613431756, 2148.9845528905757, 2580.1625384542895, 1489.8694508672818, 2511.753654281299], [45.207521897731255, 157.541809768805, 59.07789968424706, 59.73649277767882, 196.11889494593595], [1306.0909567853853, 1348.623114160234, 1623.0158991830353, 2548.252539817583, 1585.9394860696893]], [[0.17855024272307302, 0.25411698696578616, 0.15060759374646066, 0.2717198497603415, 0.14500532680433872], [2584.9553026378444, 1329.7358688789368, 2516.430807007293, 2067.247457557827, 1406.423577318408], [198.7317720943088, 142.2565143547793, 154.15532439112275, 85.0057293700448, 174.28076503652449], [1306.0909567853853, 1348.623114160234, 1623.0158991830353, 2548.252539817583, 1585.9394860696893]], [[0.2813893482826946, 0.2379432726218743, 0.2215928513308084, 0.09975102088951956, 0.15932350687510322], [1644.3965429197792, 1541.8919307183023, 2091.1918374851, 1512.4063846199774, 2198.9496029721004], [69.73851033980567, 139.23344359391905, 190.61363298413386, 77.82039454795417, 184.55100099392604], [1306.0909567853853, 1348.623114160234, 1623.0158991830353, 2548.252539817583, 1585.9394860696893]], [[0.20350180368501455, 0.2902426213472772, 0.31471085128161974, 0.06319393276841306, 0.12835079091767543], [1509.0865727166752, 1310.6794134674135, 2657.0551803739436, 2226.4555662770445, 1845.0949325214988], [174.56655604715004, 197.22489925503007, 121.31535039434388, 159.8383125070883, 87.9008080490776], [1306.0909567853853, 1348.623114160234, 1623.0158991830353, 2548.252539817583, 1585.9394860696893]], [[0.193584963362515, 0.1955765160466079, 0.17870323804830238, 0.1978003436547997, 0.23433493888777493], [1433.344910319473, 1290.4949258598972, 1729.9252156270832, 1883.5411386782596, 2227.7823387163476], [96.43005336276903, 168.57576808092895, 102.44403920939838, 54.12300536362076, 121.00725321301468], [1306.0909567853853, 1348.623114160234, 1623.0158991830353, 2548.252539817583, 1585.9394860696893]], [[0.20691868880871797, 0.2643492461300435, 0.2537939140238025, 0.08934316981267802, 0.18559498122475798], [1487.873484322841, 1803.3627362966354, 2828.5894433973763, 1331.074059226591, 2503.903317291234], [66.84759231568341, 121.5942102986777, 167.33498602064734, 46.1635327687231, 64.07641488083202], [1306.0909567853853, 1348.623114160234, 1623.0158991830353, 2548.252539817583, 1585.9394860696893]], [[0.125453825142606, 0.4002822589317275, 0.1097083342098732, 0.2639105065519491, 0.10064507516384429], [1190.074819644291, 1802.961640210302, 2119.4526914906455, 2409.6838835138396, 2818.1503979275712], [63.787320959927456, 110.88906265068444, 148.75560349582707, 167.35113442335427, 148.9621382915951], [1306.0909567853853, 1348.623114160234, 1623.0158991830353, 2548.252539817583, 1585.9394860696893]], [[0.20559503357540915, 0.2531445634498135, 0.12194810872113453, 0.1602924193399495, 0.2590198749136933], [2046.7479670519497, 1851.0184456685874, 1535.0322773908715, 1834.3737251942184, 2415.929884509153], [139.51692784645104, 61.69206188270234, 111.39872224106368, 82.0195807609469, 120.97106510826825], [1306.0909567853853, 1348.623114160234, 1623.0158991830353, 2548.252539817583, 1585.9394860696893]], [[0.20211930532018307, 0.4094073912558874, 0.19661107853022136, 0.08246224084421705, 0.10939998404949114], [1126.2909192332513, 2547.806917917034, 2424.559435194353, 2003.49688393728, 2418.334933570934], [84.6747446343964, 196.59180523393766, 149.0918033783076, 164.9209291321053, 64.36315229055096], [1306.0909567853853, 1348.623114160234, 1623.0158991830353, 2548.252539817583, 1585.9394860696893]], [[0.23504343178308268, 0.2967300655491855, 0.21931848024329773, 0.15714711691340952, 0.0917609055110246], [2271.887169802524, 2008.8706098476757, 1795.6902645872035, 2197.951284976505, 2156.0264235299537], [45.72147492133176, 54.26728011891426, 207.87473704540506, 88.66006212444267, 80.31347445766013], [1306.0909567853853, 1348.623114160234, 1623.0158991830353, 2548.252539817583, 1585.9394860696893]], [[0.11483283466032856, 0.27308626204927816, 0.25945573791093246, 0.16023342346695132, 0.1923917419125095], [2043.7071018973525, 1558.734088297745, 1476.0033743425797, 2446.813131913372, 2409.9214461808374], [152.0904410758223, 92.86060219427398, 143.99819679411343, 164.97614089570374, 70.94495283514185], [1306.0909567853853, 1348.623114160234, 1623.0158991830353, 2548.252539817583, 1585.9394860696893]], [[0.20710929929167737, 0.2992540012396717, 0.18305070150919603, 0.1638210839550438, 0.14676491400441097], [1375.5942328463434, 2508.0303908585, 2465.882794786739, 1310.0979908828913, 2209.059800890796], [160.41542089565547, 55.753596959258275, 159.83666758108504, 204.72463000610867, 96.12887767038606], [1306.0909567853853, 1348.623114160234, 1623.0158991830353, 2548.252539817583, 1585.9394860696893]], [[0.26898183358884115, 0.3429313864346163, 0.14796744412074167, 0.06676055366938972, 0.17335878218641118], [2391.9631949804607, 2464.1857383089264, 2512.8403207936235, 2612.4110390581195, 1700.125778592625], [54.44492328311131, 173.97103884091737, 62.5981884763066, 169.26316432371672, 160.07446302524474], [1306.0909567853853, 1348.623114160234, 1623.0158991830353, 2548.252539817583, 1585.9394860696893]], [[0.22811716513304175, 0.25838826828487355, 0.13025172193013196, 0.15853386399439573, 0.22470898065755704], [1853.1215099093615, 2710.864878579119, 2125.6870310144323, 2390.3346320603328, 1342.1784260885822], [76.21455157451288, 92.55240529289834, 197.95131863639966, 63.77828401723587, 63.83939758338856], [1306.0909567853853, 1348.623114160234, 1623.0158991830353, 2548.252539817583, 1585.9394860696893]], [[0.15773594199272914, 0.3195694895300602, 0.18001150351084994, 0.16932857021137854, 0.17335449475498235], [2108.6102653569314, 1885.5568949119056, 1673.117336004081, 2083.396436143084, 2852.4957301602763], [110.02894342899914, 177.58892710196113, 88.70720811309252, 50.864941650749245, 183.0995388891589], [1306.0909567853853, 1348.623114160234, 1623.0158991830353, 2548.252539817583, 1585.9394860696893]], [[0.12343939713656514, 0.27711755534452026, 0.26761267913914943, 0.17534160155691517, 0.15648876682284996], [1278.265594124663, 1252.8752566562625, 1636.6888254040464, 2712.853638951787, 2386.2556758229757], [137.8273679898329, 195.88082173062125, 101.64719274230946, 196.04070603573143, 69.42951905179132], [1306.0909567853853, 1348.623114160234, 1623.0158991830353, 2548.252539817583, 1585.9394860696893]], [[0.2694797915755244, 0.3342072056997077, 0.07515378246355975, 0.19476199303195044, 0.12639722722925775], [1727.290442551699, 1748.77205517526, 1495.1298740428374, 2667.8121275036974, 2037.1549091770353], [175.73544589354648, 120.25045610443746, 171.44877182863877, 178.50034811262924, 134.1198274971936], [1306.0909567853853, 1348.623114160234, 1623.0158991830353, 2548.252539817583, 1585.9394860696893]], [[0.12796549309296182, 0.28750097341486797, 0.15594866588286266, 0.09420986380994417, 0.33437500379936336], [2618.700833067185, 2234.0964892281045, 1760.767477166207, 2645.206548615433, 1750.6910880074713], [124.67482436752448, 175.5942028801761, 160.57457402653785, 111.21013088056556, 116.65486181595253], [1306.0909567853853, 1348.623114160234, 1623.0158991830353, 2548.252539817583, 1585.9394860696893]], [[0.2814646991099012, 0.30661491009389485, 0.05497897419456411, 0.14699935549097348, 0.20994206111066652], [1322.3955950366922, 1535.8749987045503, 1453.9009697323495, 1305.7419302106264, 1374.0609725700883], [183.79163927139703, 134.73238924349454, 87.16430508609926, 171.41639025881625, 177.748606117243], [1306.0909567853853, 1348.623114160234, 1623.0158991830353, 2548.252539817583, 1585.9394860696893]], [[0.12317879783262974, 0.32032574826202587, 0.2150322992905406, 0.093049522725975, 0.24841363188882878], [1587.3169328004346, 1238.1854303031175, 1923.5294931482517, 1617.156976927366, 2441.781126281726], [135.10420676208474, 97.4558901970131, 67.2434198162129, 61.33345688352307, 191.58645209712765], [1306.0909567853853, 1348.623114160234, 1623.0158991830353, 2548.252539817583, 1585.9394860696893]], [[0.14992457760165245, 0.26647866489333627, 0.2333711922586274, 0.12306205340264746, 0.22716351184373632], [1744.3105916363138, 1207.233672154743, 1372.5836282583232, 2048.434113045632, 1781.1605421889756], [54.76967869420194, 106.82060449772911, 157.90289191774738, 169.60968686601674, 86.42410958530078], [1306.0909567853853, 1348.623114160234, 1623.0158991830353, 2548.252539817583, 1585.9394860696893]], [[0.20937871586572881, 0.3336710252417153, 0.07218667195734076, 0.11807088134988618, 0.2666927055853289], [2418.3773977914043, 1423.7431601682608, 1584.9857524952433, 1790.5375446968146, 2309.713096176326], [149.44410899033764, 122.0157208513259, 130.88512336238156, 135.91139026648327, 169.0263248131244], [1306.0909567853853, 1348.623114160234, 1623.0158991830353, 2548.252539817583, 1585.9394860696893]], [[0.16340543825037906, 0.23740676695253232, 0.19574892872957927, 0.2023307703426962, 0.2011080957248132], [1808.402828373229, 1254.6638985210366, 1638.501217053844, 1691.3893743692, 1708.7107455100295], [58.96092087386762, 181.42656666945197, 181.70633612260804, 124.42600700639511, 69.40583170759325], [1306.0909567853853, 1348.623114160234, 1623.0158991830353, 2548.252539817583, 1585.9394860696893]], [[0.2225478469499565, 0.27896959843930663, 0.1466884278459182, 0.14629370342363057, 0.2055004233411882], [1271.2214428056445, 2399.439574017057, 1481.8461134411368, 1704.197072656777, 2123.903369209879], [183.11763742368737, 45.86321807074059, 90.10446478949066, 204.0922024979922, 63.877738604375764], [1306.0909567853853, 1348.623114160234, 1623.0158991830353, 2548.252539817583, 1585.9394860696893]], [[0.2182297403495671, 0.3239235842213589, 0.2432971694815062, 0.049287066782888814, 0.16526243916467892], [1375.3711366305417, 2519.2893483836588, 1684.9958460079188, 2658.719275938648, 1474.7585857142644], [42.97080775012216, 176.4121808519928, 169.74331580174305, 168.562179674478, 87.19855235236379], [1306.0909567853853, 1348.623114160234, 1623.0158991830353, 2548.252539817583, 1585.9394860696893]], [[0.21505417139894895, 0.2840187142253077, 0.06222895468729737, 0.22649600896808064, 0.21220215072036533], [2279.2321859383865, 1658.8758842884845, 2742.8810151000034, 1408.2560080283415, 1906.6459221738876], [125.65905934511845, 108.9565911943543, 214.71921297930993, 142.2239342383359, 97.59085808347118], [1306.0909567853853, 1348.623114160234, 1623.0158991830353, 2548.252539817583, 1585.9394860696893]], [[0.21429448914016752, 0.23528648560743107, 0.1988885526773753, 0.09954957961357785, 0.25198089296144816], [1680.8683623200272, 2210.918142347602, 2609.8056204032473, 1443.4703045618144, 2652.5346613563665], [78.94267621413874, 160.19276013344552, 144.27849642871868, 119.12740288128988, 170.60855120342427], [1306.0909567853853, 1348.623114160234, 1623.0158991830353, 2548.252539817583, 1585.9394860696893]], [[0.16643737364907887, 0.340050175544688, 0.06997683551927407, 0.223617209396047, 0.19991840589091206], [1841.4377170789758, 1795.588698413379, 2079.59712316632, 2232.760053894861, 2150.1575732267147], [42.99683681946091, 86.03145599830887, 61.97166636137963, 108.6145680068487, 86.85290096725137], [1306.0909567853853, 1348.623114160234, 1623.0158991830353, 2548.252539817583, 1585.9394860696893]], [[0.1833202306939337, 0.18866645583935354, 0.24418797246194104, 0.1234506364786229, 0.26037470452614875], [1208.9511597643768, 2718.225144407429, 2738.646078187672, 2771.1243319636897, 2516.8525066643742], [70.53000876298269, 101.72066184450298, 140.04669330998792, 81.72641415501262, 136.75967220255262], [1306.0909567853853, 1348.623114160234, 1623.0158991830353, 2548.252539817583, 1585.9394860696893]], [[0.2802776277001494, 0.21294025451557688, 0.18888849134219665, 0.16121356766740993, 0.15668005877466715], [1781.304205139019, 2065.4443439515157, 2101.6455617211127, 1312.2976898471275, 1461.299702780986], [59.06554030152586, 58.442151057671, 108.34643509327529, 131.60147540045122, 178.18135555385754], [1306.0909567853853, 1348.623114160234, 1623.0158991830353, 2548.252539817583, 1585.9394860696893]], [[0.16128929018929758, 0.3762421235430587, 0.07905918183203584, 0.2750424875758416, 0.10836691685976632], [2502.403489226689, 1778.021902613776, 2477.175756311667, 2798.8144108624656, 1505.4068312624102], [156.92292105331478, 184.71826858258314, 154.84460712073925, 112.67479674848686, 118.7431078130121], [1306.0909567853853, 1348.623114160234, 1623.0158991830353, 2548.252539817583, 1585.9394860696893]], [[0.21128798539414392, 0.17740029480953437, 0.2130304367668579, 0.16338616162621744, 0.23489512140324634], [1629.041552570576, 2086.0880577825233, 1392.3420516208398, 2326.8417775580983, 2810.307882670861], [43.788007708994115, 94.26071332806029, 143.53758505050956, 116.26301293923719, 115.06605467836408], [1306.0909567853853, 1348.623114160234, 1623.0158991830353, 2548.252539817583, 1585.9394860696893]], [[0.17179855610741984, 0.24273134945435565, 0.16797630050002132, 0.28497561669514276, 0.13251817724306042], [2304.717892947823, 1438.6557500323897, 2636.2984850139023, 2086.278865305604, 2163.8237997265387], [184.26395817900845, 74.53690820237084, 71.80010915707871, 61.425010102816145, 75.79822480306838], [1306.0909567853853, 1348.623114160234, 1623.0158991830353, 2548.252539817583, 1585.9394860696893]], [[0.28598013167130204, 0.2849248696699226, 0.05443639550279981, 0.24734193522819864, 0.12731666792777682], [1972.0598434557778, 1697.3986073528908, 1722.337641145537, 2621.457060952366, 2819.0925883976042], [84.3056573737997, 56.91220956064814, 177.92436105186522, 101.55853990477085, 206.1026690011135], [1306.0909567853853, 1348.623114160234, 1623.0158991830353, 2548.252539817583, 1585.9394860696893]], [[0.20342449390315603, 0.35680862408498715, 0.11628455069865481, 0.12795408062796537, 0.19552825068523663], [1821.8323917065443, 1210.977205994066, 2520.3128569868545, 1568.2555411093767, 2015.2925025134232], [181.76933384967123, 144.17763805654346, 69.55317405931319, 125.66930715724014, 103.50208894830503], [1306.0909567853853, 1348.623114160234, 1623.0158991830353, 2548.252539817583, 1585.9394860696893]], [[0.1864218038957281, 0.28446566697819414, 0.09357416747564888, 0.15105420064510922, 0.28448416100531965], [1922.0171939451602, 2592.328298098377, 1929.3378704732563, 2783.1128561959167, 1505.2574683721373], [77.90755715347822, 171.7856361720681, 213.89920954295968, 148.91368086336092, 193.60016154039397], [1306.0909567853853, 1348.623114160234, 1623.0158991830353, 2548.252539817583, 1585.9394860696893]], [[0.1640420070516498, 0.36221095589724617, 0.09480969679246344, 0.1667634617267682, 0.21217387853187245], [1524.8436615924581, 1190.8062430242765, 1649.131022344276, 2623.5318699267154, 2360.3276423882003], [145.79487440429526, 175.84380633982803, 98.04148853048629, 158.72530333464755, 199.56581664448993], [1306.0909567853853, 1348.623114160234, 1623.0158991830353, 2548.252539817583, 1585.9394860696893]], [[0.2936469376443058, 0.306732549761633, 0.05408468423739195, 0.1567589901140302, 0.1887768382426391], [1122.813859217776, 1248.932759034244, 2296.588646823557, 2534.71144896455, 1895.204458619347], [69.0236452637812, 137.67127837674536, 105.91843270266487, 46.987732664771926, 115.01787229329827], [1306.0909567853853, 1348.623114160234, 1623.0158991830353, 2548.252539817583, 1585.9394860696893]], [[0.21793367481005377, 0.24955362130496264, 0.06737516160137112, 0.3327445594756793, 0.1323929828079331], [1601.677466667995, 2585.0103183597244, 1892.759222076648, 2677.292723459716, 2037.7196766795332], [159.59101824778753, 152.53527670845403, 71.71242862439227, 135.70423565700312, 179.8404366808561], [1306.0909567853853, 1348.623114160234, 1623.0158991830353, 2548.252539817583, 1585.9394860696893]], [[0.1972313793495697, 0.2899470631982199, 0.14940313854594642, 0.11575574274335448, 0.24766267616290935], [1921.3752403691296, 1447.7621982861078, 1914.4250436642392, 2583.2297009180147, 2509.5732524657046], [172.22391911389326, 114.05389997496157, 213.25940787878017, 50.0882217664313, 141.42008123391463], [1306.0909567853853, 1348.623114160234, 1623.0158991830353, 2548.252539817583, 1585.9394860696893]], [[0.24632941597546607, 0.3045970229091876, 0.11878531715829044, 0.2094855984287586, 0.12080264552829727], [1597.6876066573423, 1616.2712833057883, 1611.8316098029695, 1484.8628664936007, 2228.3743159179376], [91.35658356451594, 89.88951900744308, 162.42871293921198, 84.91644985250406, 149.12307309692977], [1306.0909567853853, 1348.623114160234, 1623.0158991830353, 2548.252539817583, 1585.9394860696893]], [[0.1382983609132556, 0.21545701932737135, 0.2231347348780258, 0.16803138999249548, 0.2550784948888516], [1800.8660655844108, 1706.4747047089477, 1411.0703084609786, 2881.949456144705, 2269.370974976593], [149.08666135208762, 83.64713236219727, 58.989036541899566, 83.19164583462023, 177.93502460886145], [1306.0909567853853, 1348.623114160234, 1623.0158991830353, 2548.252539817583, 1585.9394860696893]], [[0.16155463704889167, 0.24739934153788062, 0.23051079525792972, 0.12761107819838036, 0.23292414795691757], [2156.3221356369095, 1491.8660476846228, 2151.865759229154, 2858.619518119782, 2647.4176614375733], [140.82227070389442, 124.65276558784687, 105.43867674027182, 192.28650059636064, 173.25476729151748], [1306.0909567853853, 1348.623114160234, 1623.0158991830353, 2548.252539817583, 1585.9394860696893]], [[0.2660194047429278, 0.27782557711967415, 0.21346130469933314, 0.07847511174697773, 0.16421860169108718], [1512.959631020283, 1834.0782888563044, 2743.0666265490545, 1810.855052698676, 1726.3857144679325], [167.06200540938707, 125.9427013543526, 178.12002872757705, 53.78891845702098, 143.15569748849532], [1306.0909567853853, 1348.623114160234, 1623.0158991830353, 2548.252539817583, 1585.9394860696893]], [[0.16049693760905084, 0.2636509319181053, 0.17057653717740756, 0.05272859020136107, 0.3525470030940752], [1974.600724557918, 1657.9114914277047, 1554.5844066537304, 1969.07224384224, 2186.901154963506], [66.31581568804292, 133.2793908849677, 184.055660992335, 202.6316553211404, 127.12551775883753], [1306.0909567853853, 1348.623114160234, 1623.0158991830353, 2548.252539817583, 1585.9394860696893]], [[0.1839828773408032, 0.35534803873527293, 0.09746201085155812, 0.22596299493349917, 0.13724407813886655], [1732.8495661162378, 2621.2356817335894, 1400.1679605714905, 1586.7264080143398, 1965.6842115031893], [123.57796707860798, 115.66720896797861, 82.86703651911493, 133.34532911141122, 192.63095782984726], [1306.0909567853853, 1348.623114160234, 1623.0158991830353, 2548.252539817583, 1585.9394860696893]], [[0.17088044563434115, 0.2679551971437911, 0.23725485616157194, 0.1167605846119082, 0.20714891644838748], [1823.195231236113, 1987.393385937705, 2020.3527948088297, 2232.2646609585436, 2530.4171436041406], [42.41647890928118, 154.03892921191894, 139.58480192146985, 51.6493569444344, 170.80525303506693], [1306.0909567853853, 1348.623114160234, 1623.0158991830353, 2548.252539817583, 1585.9394860696893]], [[0.3200239648663632, 0.3102132591922389, 0.06764272385357693, 0.04894981290438622, 0.25317023918343456], [1935.6542759492008, 2610.1497540135933, 2733.5604028755515, 2111.780922446888, 2596.032851021833], [84.72506543338832, 175.0324331595346, 66.65661130623981, 160.24016201163192, 55.09431318311306], [1306.0909567853853, 1348.623114160234, 1623.0158991830353, 2548.252539817583, 1585.9394860696893]], [[0.2562419415375685, 0.34100816284438845, 0.13739236162930527, 0.08485172607980533, 0.1805058079089325], [1226.7488992688886, 2237.782275121388, 2138.6471743997295, 2465.308318672435, 2185.64484833911], [77.57021167111435, 101.84399090370015, 186.48058488363483, 137.75469874597127, 68.69041491382383], [1306.0909567853853, 1348.623114160234, 1623.0158991830353, 2548.252539817583, 1585.9394860696893]], [[0.22374644184336104, 0.3033472469163554, 0.14313752598443738, 0.19447809032223787, 0.13529069493360837], [1556.335232995244, 2323.283579868454, 1888.0556527205786, 2752.4030655178212, 2089.411918746577], [114.64609263552543, 123.85338252527748, 69.29721677488155, 159.61656547216234, 108.72984771511219], [1306.0909567853853, 1348.623114160234, 1623.0158991830353, 2548.252539817583, 1585.9394860696893]], [[0.2797759638112049, 0.18858335462540163, 0.08165816006928837, 0.16889820130681693, 0.2810843201872882], [1648.6058249651521, 1297.5583007793466, 2176.773787428925, 2087.9390563964625, 2734.193953001216], [171.29376373750918, 53.59241445775257, 170.0656084290335, 83.2783649024838, 109.90552691716857], [1306.0909567853853, 1348.623114160234, 1623.0158991830353, 2548.252539817583, 1585.9394860696893]], [[0.33434897166187677, 0.23949409269192273, 0.15957327025428697, 0.09001495046496127, 0.17656871492695228], [2631.902824174381, 1296.8747979080993, 2300.888237021232, 1768.708803164895, 1752.161906468918], [165.0902186387556, 129.5251373970927, 82.93407504436021, 98.25587574591958, 68.52827751139586], [1306.0909567853853, 1348.623114160234, 1623.0158991830353, 2548.252539817583, 1585.9394860696893]], [[0.2108320578285435, 0.32485789917362057, 0.13982022117041423, 0.19867345843945974, 0.12581636338796195], [1267.1752890060006, 1458.7335009383157, 1554.105799293742, 2492.6244738849273, 1644.6334973305661], [118.83776574308163, 200.18063552133427, 178.55125613356708, 193.39118735965104, 89.10343352798148], [1306.0909567853853, 1348.623114160234, 1623.0158991830353, 2548.252539817583, 1585.9394860696893]]]]\n"
     ]
    }
   ],
   "source": [
    "print(regimeCycle3);"
   ]
  },
  {
   "cell_type": "code",
   "execution_count": null,
   "metadata": {
    "collapsed": false
   },
   "outputs": [],
   "source": []
  },
  {
   "cell_type": "code",
   "execution_count": null,
   "metadata": {
    "collapsed": false
   },
   "outputs": [],
   "source": []
  },
  {
   "cell_type": "code",
   "execution_count": null,
   "metadata": {
    "collapsed": false
   },
   "outputs": [],
   "source": []
  },
  {
   "cell_type": "code",
   "execution_count": null,
   "metadata": {
    "collapsed": false
   },
   "outputs": [],
   "source": []
  },
  {
   "cell_type": "code",
   "execution_count": null,
   "metadata": {
    "collapsed": true
   },
   "outputs": [],
   "source": []
  }
 ],
 "metadata": {
  "anaconda-cloud": {},
  "kernelspec": {
   "display_name": "Python [default]",
   "language": "python",
   "name": "python3"
  },
  "language_info": {
   "codemirror_mode": {
    "name": "ipython",
    "version": 3
   },
   "file_extension": ".py",
   "mimetype": "text/x-python",
   "name": "python",
   "nbconvert_exporter": "python",
   "pygments_lexer": "ipython3",
   "version": "3.5.2"
  }
 },
 "nbformat": 4,
 "nbformat_minor": 1
}
