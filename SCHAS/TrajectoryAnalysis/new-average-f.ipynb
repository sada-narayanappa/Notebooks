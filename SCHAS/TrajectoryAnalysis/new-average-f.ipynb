{
 "cells": [
  {
   "cell_type": "code",
   "execution_count": 1,
   "metadata": {
    "collapsed": false
   },
   "outputs": [],
   "source": [
    "#Empirical MSE for changing environment\n",
    "#Uses new f_ave calculation weighting all times equally to new p(t) one.\n",
    "from scipy.stats import t\n",
    "from scipy.stats import norm;\n",
    "import matplotlib.pyplot as plt\n",
    "from PIL import Image\n",
    "import random;\n",
    "import numpy;\n",
    "import scipy.integrate as integrate;\n",
    "import scipy.special as special;\n",
    "low = -1000;\n",
    "high = 3000;"
   ]
  },
  {
   "cell_type": "markdown",
   "metadata": {},
   "source": [
    "# Load Path Data"
   ]
  },
  {
   "cell_type": "code",
   "execution_count": 2,
   "metadata": {
    "collapsed": false
   },
   "outputs": [
    {
     "name": "stdout",
     "output_type": "stream",
     "text": [
      "Path Mean Times in seconds: \n",
      "[1920, 1980, 2160, 2100, 2100]\n",
      "\n",
      "Path Standard Deviation of Times in seconds: \n",
      "[120, 125, 135, 125, 130]\n",
      "\n",
      "Path Distances in miles:\n",
      "[25.9, 23.2, 24.4, 26, 25.2]\n",
      "\n",
      "Path Percent in each Region: \n",
      "[[0.2, 0.06, 0.09, 0.09, 0.08, 0.12, 0.04, 0, 0, 0, 0.12, 0, 0, 0, 0.12, 0.08, 0, 0], [0.21, 0.05, 0.11, 0, 0, 0, 0, 0.03, 0.06, 0, 0, 0.12, 0.11, 0.16, 0.08, 0.07, 0, 0], [0.21, 0.05, 0.11, 0, 0, 0, 0, 0.03, 0.06, 0, 0, 0.12, 0.16, 0.11, 0.08, 0.07, 0, 0], [0.2, 0.06, 0.09, 0.09, 0.08, 0.12, 0.04, 0, 0, 0, 0.12, 0, 0, 0, 0.04, 0.02, 0.07, 0.07], [0.21, 0.05, 0.11, 0, 0, 0, 0, 0.03, 0.06, 0.1, 0.1, 0.12, 0, 0, 0.15, 0.07, 0, 0]]\n",
      "\n",
      "P_I(x):\n",
      "[0.2, 0.4, 0.1, 0.1, 0.2]\n"
     ]
    }
   ],
   "source": [
    "pathMeanTimes = [];\n",
    "pathStdOfTimes = [];\n",
    "pathDistances = [];\n",
    "percentOfTimeInEachRegion = [];\n",
    "P_I = [];\n",
    "\n",
    "\n",
    "#from 1202 Lexington Parkway North, Saint Paul, MN 55103 to 15051 70th Street South, Hastings, MN 55033\n",
    "\n",
    "#via I-94 E. #T = 32min. D = 25.9 mi\n",
    "#Get on I-94 E\n",
    "#6 min (2.1 mi)\n",
    "#Follow I-94 E to MN-95 S/Manning Ave S in Washington County. Take exit 253 from I-94 E\n",
    "#14 min (13.9 mi)\n",
    "#Continue on MN-95 S/Manning Ave S. Drive to 70th St S in Denmark Township\n",
    "#12 min (9.9 mi) \n",
    "pathMeanTimes.append(1920);\n",
    "pathStdOfTimes.append(120);\n",
    "pathDistances.append(25.9);\n",
    "P_I.append(0.2);#actual\n",
    "#guess\n",
    "percentOfTimeInEachRegion.append([.2,.06,.09,.09,.08,.12,.04,0,0,0,.12,0,0,0,.12,.08,0,0]);\n",
    "\n",
    "#via Military Road. T=33min. D=23.2 mi\n",
    "#Get on I-94 E\n",
    "#6 min (2.1 mi)\n",
    "#Follow I-94 E and US-10 E/US-61 S/U.S Hwy 61 S to Bailey Rd/Maxwell Ave. Take the Bailey Rd/Maxwell Ave exit from US-10 E/US-61 S/U.S Hwy 61 S\n",
    "#11 min (9.8 mi)\n",
    "#Follow Military Rd to 70th St S in Denmark Township\n",
    "#16 min (11.3 mi) \n",
    "pathMeanTimes.append(1980);\n",
    "pathStdOfTimes.append(125);\n",
    "pathDistances.append(23.2);\n",
    "P_I.append(0.4);\n",
    "percentOfTimeInEachRegion.append([.21,.05,.11,0,0,0,0,.03,.06,0,0,.12,.11,.16,.08,.07,0,0]);\n",
    "\n",
    "#via US-10. T = 36min. D = 24.4 mi\n",
    "#Head south on Lexington Pkwy N toward Como Ave\n",
    "#1.8 mi\n",
    "#Use the left 2 lanes to turn left onto Concordia Ave\n",
    "#184 ft\n",
    "#Take the ramp on the left onto I-94 E\n",
    "#1.6 mi\n",
    "#Use the right 2 lanes to take exit 241B for 5th St\n",
    "#0.7 mi\n",
    "#Continue onto W 5th St\n",
    "#226 ft\n",
    "#Turn right onto 7th St W/Fort Rd\n",
    "#0.1 mi\n",
    "#Turn left onto W Kellogg Blvd\n",
    "#148 ft\n",
    "#Slight right onto Eagle St\n",
    "#0.1 mi\n",
    "#Continue onto Eagle Pkwy\n",
    "#0.2 mi\n",
    "#Turn left onto Shepard Rd\n",
    "#1.4 mi\n",
    "#Continue onto Warner Rd\n",
    "#1.8 mi\n",
    "#Turn right onto US-10 E/U.S Hwy 61 S\n",
    "#6.9 mi\n",
    "#Take the Summit Ave exit toward WA-22/70th St\n",
    "#0.3 mi\n",
    "#Use the left 2 lanes to turn left onto 70th St S/Summit Ave\n",
    "#Continue to follow 70th St S\n",
    "#4.3 mi\n",
    "#At the traffic circle, take the 1st exit onto 70th St S/Washington County Hwy 22\n",
    "#Continue to follow 70th St S\n",
    "#5.1 mi\n",
    "\n",
    "pathMeanTimes.append(2160);\n",
    "pathStdOfTimes.append(135);\n",
    "pathDistances.append(24.4);\n",
    "P_I.append(0.1);\n",
    "percentOfTimeInEachRegion.append([.21,.05,.11,0,0,0,0,.03,.06,0,0,.12,.16,.11,.08,.07,0,0]);\n",
    "\n",
    "# T=35min. D = 26 mi\n",
    "#Get on I-94 E\n",
    "#6 min (2.1 mi)\n",
    "#Follow I-94 E to MN-95 S/Manning Ave S in Washington County. Take exit 253 from I-94 E\n",
    "#14 min (13.9 mi)\n",
    "#Continue on MN-95 S/Manning Ave S. Take 40th St S and St Croix Trail S to 70th St S/Washington County Hwy 22 in Denmark Township\n",
    "#15 min (10.0 mi) \n",
    "pathMeanTimes.append(2100);\n",
    "pathStdOfTimes.append(125);\n",
    "pathDistances.append(26);\n",
    "P_I.append(0.1);\n",
    "percentOfTimeInEachRegion.append([.2,.06,.09,.09,.08,.12,.04,0,0,0,.12,0,0,0,.04,.02,.07,.07]);\n",
    "\n",
    "#via T = 35 min D =25.2 mi\n",
    "#Get on I-94 E\n",
    "#6 min (2.1 mi)\n",
    "#Follow I-94 E and US-10 E/US-61 S/U.S Hwy 61 S to Bailey Rd/Maxwell Ave. Take the Bailey Rd/Maxwell Ave exit from US-10 E/US-61 S/U.S Hwy 61 S\n",
    "#11 min (9.8 mi)\n",
    "#Follow Bailey Rd and MN-95 S/Manning Ave S to 70th St S in Denmark Township\n",
    "#18 min (13.3 mi) \n",
    "pathMeanTimes.append(2100);\n",
    "pathStdOfTimes.append(130);\n",
    "pathDistances.append(25.2);\n",
    "P_I.append(0.2);\n",
    "percentOfTimeInEachRegion.append([.21,.05,.11,0,0,0,0,.03,.06,.1,.1,.12,0,0,.15,.07,0,0]);\n",
    "\n",
    "print(\"Path Mean Times in seconds: \");\n",
    "print(pathMeanTimes);\n",
    "print(\"\\nPath Standard Deviation of Times in seconds: \");\n",
    "print(pathStdOfTimes);\n",
    "print(\"\\nPath Distances in miles:\");\n",
    "print(pathDistances);\n",
    "print(\"\\nPath Percent in each Region: \");\n",
    "print(percentOfTimeInEachRegion);\n",
    "print(\"\\nP_I(x):\");\n",
    "print(P_I);"
   ]
  },
  {
   "cell_type": "markdown",
   "metadata": {},
   "source": [
    "# Simulation"
   ]
  },
  {
   "cell_type": "code",
   "execution_count": null,
   "metadata": {
    "collapsed": true
   },
   "outputs": [],
   "source": []
  },
  {
   "cell_type": "code",
   "execution_count": 5,
   "metadata": {
    "collapsed": false
   },
   "outputs": [],
   "source": [
    "def pt(t,pind,indPathMeans,indPathStds): #calculates true probability of time t for:\n",
    "    #pind = list of individual true route selecction probabilities\n",
    "    #indPathMeans = list of individual's mean travel times on each path\n",
    "    #indPathStds = list of individual's standard deviations of travel times on each path\n",
    "    total = 0;\n",
    "    for i in range(0,len(pind)):\n",
    "        total = total + norm.pdf(t,indPathMeans[i],indPathStds[i])*pind[i];\n",
    "    return total\n",
    "\n",
    "def probtBel(time,trainedParam):#thIs is updated belief p_B(time)\n",
    "    result = 0.0;\n",
    "    for x in range(0,len(trainedParam[0])):\n",
    "        result = result + t.pdf(time, trainedParam[1][x], trainedParam[2][x], trainedParam[3][x])*trainedParam[0][x];\n",
    "    return result\n",
    "\n",
    "#print(str(probt(900)));\n",
    "\n",
    "def probxgiventBel(x,time,trainedParam):#this is updted belief p_B(x|time)\n",
    "    return t.pdf(time, trainedParam[1][x], trainedParam[2][x], trainedParam[3][x])*trainedParam[0][x]/probtBel(time,trainedParam)"
   ]
  },
  {
   "cell_type": "code",
   "execution_count": 6,
   "metadata": {
    "collapsed": false
   },
   "outputs": [],
   "source": [
    "#determining f(x,t) and average value\n",
    "\n",
    "\n",
    "#low = 200\n",
    "#high = 2650\n",
    "#These are the limits of integraton for time in the average value calculations for f_ave and for the MSE.\n",
    "#They must be carefully set so that you integrate over all significantly likely times, but not\n",
    "#so wide that you get division by 0 for times for which p(t) is indistinguishable from 0.\n",
    "\n",
    "\n",
    "\n",
    "def fexposure(path, time,concens):#path = path, time = time, concens = list of concentrations in each region\n",
    "    #requires global specification of percent of time in each reagion, percentOfTimeInEachRegion\n",
    "    #which is a list of lists.  There is one list for each path and that list is the list\n",
    "    #of percents of times that path spends in each region.  This list must be of length len(concens)\n",
    "    actualCITI = [];\n",
    "    actualTimeInEachRegion = [];    \n",
    "    for r in range(0,len(percentOfTimeInEachRegion[path])):\n",
    "        actualTimeInEachRegion.append(percentOfTimeInEachRegion[path][r]*time);\n",
    "    for regionNum in range(0,len(actualTimeInEachRegion)): #sum of atualCITI = f(x,t)\n",
    "        actualCITI.append(concens[regionNum]*actualTimeInEachRegion[regionNum]);\n",
    "    return sum(actualCITI);\n",
    "\n",
    "def avef(baseconcentrations,pind,indPathMeans,indPathStds): #average f_environ(x,t) over all routes \n",
    "    #times and environments\n",
    "    #baseconcentrations = list of base pollutant concentrations in each cell\n",
    "    #pind = list of individual true route selecction probabilities\n",
    "    #indPathMeans = list of individual's mean travel times on each path\n",
    "    #indPathStds = list of individual's standard deviations of travel times on each path\n",
    "    newvec = []\n",
    "    for i in range (0,len(P_I)):\n",
    "        pct_conc = sum(j[0] * j[1] for j in zip(percentOfTimeInEachRegion[i], baseconcentrations))\n",
    "        newvec.append(pct_conc*pind[i]*pathMeanTimes[i]);\n",
    "    return sum(newvec);\n",
    "\n"
   ]
  },
  {
   "cell_type": "code",
   "execution_count": null,
   "metadata": {
    "collapsed": true
   },
   "outputs": [],
   "source": []
  }
 ],
 "metadata": {
  "anaconda-cloud": {},
  "kernelspec": {
   "display_name": "Python [default]",
   "language": "python",
   "name": "python3"
  },
  "language_info": {
   "codemirror_mode": {
    "name": "ipython",
    "version": 3
   },
   "file_extension": ".py",
   "mimetype": "text/x-python",
   "name": "python",
   "nbconvert_exporter": "python",
   "pygments_lexer": "ipython3",
   "version": "3.5.2"
  }
 },
 "nbformat": 4,
 "nbformat_minor": 1
}
