{
 "cells": [
  {
   "cell_type": "code",
   "execution_count": 12,
   "metadata": {
    "collapsed": true
   },
   "outputs": [],
   "source": [
    "import random;"
   ]
  },
  {
   "cell_type": "markdown",
   "metadata": {},
   "source": [
    "# Load Path Data"
   ]
  },
  {
   "cell_type": "code",
   "execution_count": 40,
   "metadata": {
    "collapsed": false
   },
   "outputs": [
    {
     "name": "stdout",
     "output_type": "stream",
     "text": [
      "Path Mean Times in seconds: \n",
      "[960, 900, 1020, 1140, 1050]\n",
      "\n",
      "Path Standard Deviation of Times in seconds: \n",
      "[60, 45, 70, 75, 65]\n",
      "\n",
      "Path Distances in miles:\n",
      "[8.9, 10.2, 8.4, 8.6, 8.9]\n",
      "\n",
      "Path Percent in each Region: \n",
      "[[0.33, 0.12, 0.3, 0, 0, 0.25, 0], [0, 0.18, 0, 0.07, 0.12, 0.32, 0.31], [0.23, 0.22, 0.3, 0, 0, 0.25, 0], [0.07, 0.22, 0.17, 19, 0, 0.35, 0], [0, 0.18, 0, 0.07, 0.11, 0.33, 0.31]]\n",
      "\n",
      "P_I(x):\n",
      "[0.2, 0.3, 0.3, 0.1, 0.1]\n",
      "\n",
      "P_p(x):\n",
      "[0.25, 0.2, 0.4, 0.05, 0.1]\n"
     ]
    }
   ],
   "source": [
    "pathMeanTimes = [];\n",
    "pathStdOfTimes = [];\n",
    "pathDistances = [];\n",
    "percentOfTimeInEachRegion = [];\n",
    "P_I = [];\n",
    "P_p = [];\n",
    "\n",
    "#1801 Fry Street Falcon Heights, MN 55113 to 163 Bridge Street, Saint Paul, MN 55126 \n",
    "\n",
    "#via Snelling Ave and Highway 96W. #T = 16min. D = 8.9 mi\n",
    "#Follow Garden Ave to Snelling Ave\n",
    "#1 min (0.2 mi)\n",
    "#Turn left at the 2nd cross street onto Snelling Ave\n",
    "#8 min (4.9 mi)\n",
    "#Follow Hamline Ave N and Hwy 96 W to Bridge St in Shoreview\n",
    "#7 min (3.8 mi)\n",
    "pathMeanTimes.append(960);\n",
    "pathStdOfTimes.append(60);\n",
    "pathDistances.append(8.9);\n",
    "P_I.append(0.2);\n",
    "P_p.append(.25);\n",
    "percentOfTimeInEachRegion.append([.33,.12,.3,0,0,.25,0]);\n",
    "\n",
    "#via MN 36-E. T=15min. D=10.2 mi\n",
    "#Get on MN-36 E in Roseville from Snelling Ave\n",
    "#4 min (1.3 mi)\n",
    "#Continue on MN-36 E. Take Exit 113 to Rice St. Take exit 45 from I-694 W/US-10 W\n",
    "#8 min (6.7 mi)\n",
    "#Follow Rice St to Bridge St\n",
    "#4 min (2.2 mi)\n",
    "pathMeanTimes.append(900);\n",
    "pathStdOfTimes.append(45);\n",
    "pathDistances.append(10.2);\n",
    "P_I.append(0.3);\n",
    "P_p.append(.20);\n",
    "percentOfTimeInEachRegion.append([0,.18,0,.07,.12,.32,.31]);\n",
    "\n",
    "#via Snelling Ave and County Rd F. T = 17min. D = 8.4 mi\n",
    "#Follow Garden Ave to Snelling Ave\n",
    "#1 min (0.2 mi)\n",
    "#Turn left at the 2nd cross street onto Snelling Ave\n",
    "#8 min (4.9 mi)\n",
    "#Follow County Rd F West and Snail Lake Blvd to Bridge St in Shoreview\n",
    "#8 min (3.3 mi)\n",
    "pathMeanTimes.append(1020);\n",
    "pathStdOfTimes.append(70);\n",
    "pathDistances.append(8.4);\n",
    "P_I.append(0.3);\n",
    "P_p.append(.4);\n",
    "percentOfTimeInEachRegion.append([.23,.22,.3,0,0,.25,0]);\n",
    "\n",
    "#via Victorian T=19min. D = 8.6 mi\n",
    "#Follow Garden Ave to Snelling Ave\n",
    "#1 min (0.2 mi)\n",
    "#Take Victoria St N to Snail Lake Rd in Shoreview\n",
    "#16 min (7.6 mi)\n",
    "#Turn right onto Snail Lake Rd\n",
    "#2 min (0.6 mi)\n",
    "#Turn left onto Rice St\n",
    "#22 s (0.2 mi)\n",
    "#Turn left onto Bridge St\n",
    "#18 s (167 ft)\n",
    "pathMeanTimes.append(1140);\n",
    "pathStdOfTimes.append(75);\n",
    "pathDistances.append(8.6);\n",
    "P_I.append(0.1);\n",
    "P_p.append(.05);\n",
    "percentOfTimeInEachRegion.append([.07,.22,.17,19,0,.35,0]);\n",
    "\n",
    "#via MN 36 and Rice ST. T = 17.5 min D =8.9 mi\n",
    "#Follow Garden Ave to Snelling Ave\n",
    "#1 min (0.2 mi)\n",
    "#Take MN-36 E and Rice St to Bridge St\n",
    "#16 min (8.7 mi)\n",
    "#Turn left onto Bridge St\n",
    "#18 s (167 ft)\n",
    "pathMeanTimes.append(1050);\n",
    "pathStdOfTimes.append(65);\n",
    "pathDistances.append(8.9);\n",
    "P_I.append(0.1);\n",
    "P_p.append(.1);\n",
    "percentOfTimeInEachRegion.append([0,.18,0,.07,.11,.33,.31]);\n",
    "\n",
    "print(\"Path Mean Times in seconds: \");\n",
    "print(pathMeanTimes);\n",
    "print(\"\\nPath Standard Deviation of Times in seconds: \");\n",
    "print(pathStdOfTimes);\n",
    "print(\"\\nPath Distances in miles:\");\n",
    "print(pathDistances);\n",
    "print(\"\\nPath Percent in each Region: \");\n",
    "print(percentOfTimeInEachRegion);\n",
    "print(\"\\nP_I(x):\");\n",
    "print(P_I);\n",
    "print(\"\\nP_p(x):\")\n",
    "print(P_p);"
   ]
  },
  {
   "cell_type": "markdown",
   "metadata": {},
   "source": [
    "# Simulation"
   ]
  },
  {
   "cell_type": "code",
   "execution_count": 61,
   "metadata": {
    "collapsed": false
   },
   "outputs": [
    {
     "name": "stdout",
     "output_type": "stream",
     "text": [
      "\n",
      "Path: 2\n",
      "User Time in Seconds: 1041.5464707808198\n",
      "Time in each region: \n",
      "[239.55568827958857, 229.14022357178035, 312.46394123424597, 0.0, 0.0, 260.38661769520496, 0.0]\n",
      "\n",
      "Path: 1\n",
      "User Time in Seconds: 931.8150457265083\n",
      "Time in each region: \n",
      "[0.0, 167.7267082307715, 0.0, 65.2270532008556, 111.81780548718099, 298.1808146324827, 288.86266417521756]\n",
      "\n",
      "Path: 2\n",
      "User Time in Seconds: 995.8131559752186\n",
      "Time in each region: \n",
      "[229.0370258743003, 219.07889431454808, 298.74394679256557, 0.0, 0.0, 248.95328899380465, 0.0]\n",
      "\n",
      "Path: 4\n",
      "User Time in Seconds: 1040.5494479027905\n",
      "Time in each region: \n",
      "[0.0, 187.2989006225023, 0.0, 72.83846135319534, 114.46043926930695, 343.3813178079209, 322.57032884986506]\n",
      "\n",
      "Path: 1\n",
      "User Time in Seconds: 931.6428186374214\n",
      "Time in each region: \n",
      "[0.0, 167.69570735473584, 0.0, 65.2149973046195, 111.79713823649057, 298.12570196397485, 288.80927377760065]\n"
     ]
    }
   ],
   "source": [
    "N = 5;\n",
    "pi_m = [];\n",
    "pi_s = [];\n",
    "routeTravelTimes=[[],[],[],[],[]];\n",
    "\n",
    "m_0s = [950,930,1000,1090,1100];\n",
    "ns=[[1],[1],[1],[1],[1]];\n",
    "nus=[[1],[1],[1],[1],[1]];\n",
    "alphas = [[1],[1],[1],[1],[1]];\n",
    "betas = [[1],[1],[1],[1],[1]];\n",
    "\n",
    "\n",
    "\n",
    "for x in range(0,N):\n",
    "    \n",
    "    #Pick a random path based on P_I\n",
    "    randomNumber = random.uniform(0,1);\n",
    "    pathLimit=0;\n",
    "    for r in range(0,len(P_I)):\n",
    "        pathLimit = pathLimit+P_I[r];\n",
    "        if(randomNumber<pathLimit):\n",
    "            randomPath = r;\n",
    "            break;\n",
    "    print(\"\\nPath: \"+str(randomPath));\n",
    "    \n",
    "    #Find a random time that it took for that path based on normal distribution for that path\n",
    "    pathUserTime = random.normalvariate(pathMeanTimes[randomPath],pathStdOfTimes[randomPath]);\n",
    "    print(\"User Time in Seconds: \"+str(pathUserTime));\n",
    "    routeTravelTimes[randomPath].append(pathUserTime);\n",
    "    \n",
    "    #Calculate actual time in each weather region\n",
    "    actualTimeInEachRegion = [];    \n",
    "    for r in range(0,len(percentOfTimeInEachRegion[randomPath])):\n",
    "        actualTimeInEachRegion.append(percentOfTimeInEachRegion[randomPath][r]*pathUserTime);\n",
    "        \n",
    "    print(\"Time in each region: \");\n",
    "    print(actualTimeInEachRegion);\n",
    "    \n",
    "    #Update prior hyperparameters\n",
    "    \n",
    "    #mu_0[randomPath] = (nu*mu_0+n*xbar)/(nu+n)\n",
    "    #nu = nu+n;\n",
    "    #alpha = alpha+n/2;\n",
    "    #beta = beta + (1/2)\n",
    "    \n",
    "    \n",
    "    "
   ]
  },
  {
   "cell_type": "code",
   "execution_count": 55,
   "metadata": {
    "collapsed": false
   },
   "outputs": [
    {
     "name": "stdout",
     "output_type": "stream",
     "text": [
      "[[1], [], [], [], [3]]\n"
     ]
    }
   ],
   "source": [
    "re = [[],[],[],[],[]];\n",
    "re[0].append(1)\n",
    "re[4].append(3)\n",
    "print(re);"
   ]
  },
  {
   "cell_type": "code",
   "execution_count": null,
   "metadata": {
    "collapsed": true
   },
   "outputs": [],
   "source": []
  }
 ],
 "metadata": {
  "anaconda-cloud": {},
  "kernelspec": {
   "display_name": "Python [default]",
   "language": "python",
   "name": "python3"
  },
  "language_info": {
   "codemirror_mode": {
    "name": "ipython",
    "version": 3
   },
   "file_extension": ".py",
   "mimetype": "text/x-python",
   "name": "python",
   "nbconvert_exporter": "python",
   "pygments_lexer": "ipython3",
   "version": "3.5.2"
  }
 },
 "nbformat": 4,
 "nbformat_minor": 1
}
