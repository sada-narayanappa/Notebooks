{
 "cells": [
  {
   "cell_type": "code",
   "execution_count": 1,
   "metadata": {
    "collapsed": false
   },
   "outputs": [],
   "source": [
    "#New MSE_the non-Monte Carlo approach. \n",
    "#Uses new new f_ave calculation with no integal\n",
    "from scipy.stats import t\n",
    "from scipy.stats import norm;\n",
    "import matplotlib.pyplot as plt\n",
    "from PIL import Image\n",
    "import random;\n",
    "import numpy;\n",
    "import scipy.integrate as integrate;\n",
    "import scipy.special as special;\n",
    "low = -1500;\n",
    "high = 7500;\n",
    "#high = numpy.inf;"
   ]
  },
  {
   "cell_type": "markdown",
   "metadata": {},
   "source": [
    "# Load Path Data"
   ]
  },
  {
   "cell_type": "code",
   "execution_count": 2,
   "metadata": {
    "collapsed": false
   },
   "outputs": [
    {
     "name": "stdout",
     "output_type": "stream",
     "text": [
      "Path Mean Times in seconds: \n",
      "[1380, 1560, 1680, 1440, 1560]\n",
      "\n",
      "Path Standard Deviation of Times in seconds: \n",
      "[80, 95, 100, 85, 90]\n",
      "\n",
      "Path Distances in miles:\n",
      "[16.6, 19.5, 22, 17.1, 19.4]\n",
      "\n",
      "Path Percent in each Region: \n",
      "[[0, 0, 0, 0.22, 0, 0.1, 0, 0.1, 0.26, 0, 0.22, 0.1], [0, 0, 0, 0.2, 0, 0, 0.03, 0.14, 0, 0.2, 0, 0.43], [0.12, 0.12, 0.16, 0.06, 0.04, 0.12, 0, 0, 0.17, 0, 0.13, 0.07], [0, 0, 0, 0.27, 0, 0.09, 0, 0.09, 0.25, 0, 0.21, 0.09], [0, 0, 0, 0.2, 0, 0, 0.03, 0.14, 0, 0.2, 0, 0.43]]\n",
      "\n",
      "P_I(x):\n",
      "[0.2, 0.4, 0.1, 0.1, 0.2]\n"
     ]
    }
   ],
   "source": [
    "pathMeanTimes = [];\n",
    "pathStdOfTimes = [];\n",
    "pathDistances = [];\n",
    "percentOfTimeInEachRegion = [];\n",
    "P_I = [];\n",
    "\n",
    "\n",
    "#from 1340 Como Avenue, Saint Paul, MN 55108 to 7501-7549 Noble Avenue North, Brooklyn Park, MN 55443\n",
    "\n",
    "#via MN-36 and I-694 W. #T = 23min. D = 16.6 mi\n",
    "#Get on MN-36 W in Roseville from Snelling Ave\n",
    "#7 min (2.9 mi)\n",
    "#Take I-35W N and I-694 W to County Rd 152/Brooklyn Blvd in Brooklyn Center. Take exit 33 from I-694 W\n",
    "#13 min (12.5 mi)\n",
    "#Continue on County Rd 152/Brooklyn Blvd. Drive to Noble Ave N in Brooklyn Park\n",
    "#3 min (1.2 mi) \n",
    "pathMeanTimes.append(1380);\n",
    "pathStdOfTimes.append(80);\n",
    "pathDistances.append(16.6);\n",
    "P_I.append(0.2);#actual\n",
    "percentOfTimeInEachRegion.append([0,0,0,.22,0,.1,0,.1,.26,0,.22,.1]);\n",
    "\n",
    "#via I-94. T=26min. D=19.5 mi\n",
    "#Get on I-94 W in Union Park from Como Ave and Snelling Ave\n",
    "#7 min (2.5 mi)\n",
    "#Follow I-94 W to County Rd 152/Brooklyn Blvd in Brooklyn Center. Take exit 33 from I-94 W\n",
    "#16 min (15.8 mi)\n",
    "#Continue on County Rd 152/Brooklyn Blvd. Drive to Noble Ave N in Brooklyn Park\n",
    "#3 min (1.2 mi) \n",
    "pathMeanTimes.append(1560);\n",
    "pathStdOfTimes.append(95);\n",
    "pathDistances.append(19.5);\n",
    "P_I.append(0.4);\n",
    "percentOfTimeInEachRegion.append([0,0,0,.2,0,0,.03,.14,0,.2,0,.43]);\n",
    "\n",
    "#via I-35. T = 28min. D = 22 mi\n",
    "#Get on MN-36 W in Roseville from Snelling Ave\n",
    "#7 min (2.9 mi)\n",
    "#Take I-35W N, US-10 W and MN-610 to Noble Pkwy in Brooklyn Park. Take the Noble Pkwy exit from MN-610 W\n",
    "#16 min (16.7 mi)\n",
    "#Drive to Noble Ave N\n",
    "#5 min (2.4 mi) \n",
    "pathMeanTimes.append(1680);\n",
    "pathStdOfTimes.append(100);\n",
    "pathDistances.append(22);\n",
    "P_I.append(0.1);\n",
    "percentOfTimeInEachRegion.append([.12,.12,.16,.06,.04,.12,0,0,.17,0,.13,.07]);\n",
    "\n",
    "# T=24min. D = 17.1 mi\n",
    "#Get on MN-36 W in Roseville from Snelling Ave\n",
    "#6 min (2.9 mi)\n",
    "#Take I-35W N and I-694 W to Shingle Creek Pkwy in Brooklyn Center. Take exit 34 from I-694 W\n",
    "#12 min (11.3 mi)\n",
    "#Continue on Shingle Creek Pkwy. Take 69th Ave N to Noble Ave N in Brooklyn Park\n",
    "#6 min (2.9 mi) \n",
    "pathMeanTimes.append(1440);\n",
    "pathStdOfTimes.append(85);\n",
    "pathDistances.append(17.1);\n",
    "P_I.append(0.1);\n",
    "percentOfTimeInEachRegion.append([0,0,0,.27,0,.09,0,.09,.25,0,.21,.09]);\n",
    "\n",
    "#via T = 26 min D =19.4 mi\n",
    "#Get on MN-280 S from Como Ave and Energy Park Dr\n",
    "#7 min (3.1 mi)\n",
    "#Take I-94 W to County Rd 152/Brooklyn Blvd in Brooklyn Center. Take exit 33 from I-94 W\n",
    "#16 min (15.1 mi)\n",
    "#Continue on County Rd 152/Brooklyn Blvd. Drive to Noble Ave N in Brooklyn Park\n",
    "#3 min (1.2 mi) \n",
    "pathMeanTimes.append(1560);\n",
    "pathStdOfTimes.append(90);\n",
    "pathDistances.append(19.4);\n",
    "P_I.append(0.2);\n",
    "percentOfTimeInEachRegion.append([0,0,0,.2,0,0,.03,.14,0,.2,0,.43]);\n",
    "\n",
    "print(\"Path Mean Times in seconds: \");\n",
    "print(pathMeanTimes);\n",
    "print(\"\\nPath Standard Deviation of Times in seconds: \");\n",
    "print(pathStdOfTimes);\n",
    "print(\"\\nPath Distances in miles:\");\n",
    "print(pathDistances);\n",
    "print(\"\\nPath Percent in each Region: \");\n",
    "print(percentOfTimeInEachRegion);\n",
    "print(\"\\nP_I(x):\");\n",
    "print(P_I);"
   ]
  },
  {
   "cell_type": "code",
   "execution_count": 3,
   "metadata": {
    "collapsed": false
   },
   "outputs": [],
   "source": [
    "#Alternate Individual Data\n",
    "\n",
    "pathMeanTimes = [1920, 1980, 2160, 2100, 2100];\n",
    "\n",
    "pathStdOfTimes = [120, 125, 135, 125, 130];\n",
    "\n",
    "percentOfTimeInEachRegion = [[0.2, 0.06, 0.09, 0.09, 0.08, 0.12, 0.04, 0, 0, 0, 0.12, 0, 0, 0, 0.12, 0.08, 0, 0], [0.21, 0.05, 0.11, 0, 0, 0, 0, 0.03, 0.06, 0, 0, 0.12, 0.11, 0.16, 0.08, 0.07, 0, 0], [0.21, 0.05, 0.11, 0, 0, 0, 0, 0.03, 0.06, 0, 0, 0.12, 0.16, 0.11, 0.08, 0.07, 0, 0], [0.2, 0.06, 0.09, 0.09, 0.08, 0.12, 0.04, 0, 0, 0, 0.12, 0, 0, 0, 0.04, 0.02, 0.07, 0.07], [0.21, 0.05, 0.11, 0, 0, 0, 0, 0.03, 0.06, 0.1, 0.1, 0.12, 0, 0, 0.15, 0.07, 0, 0]];\n",
    "P_I = [0.2, 0.4, 0.1, 0.1, 0.2];\n",
    "\n",
    "\n",
    "\n"
   ]
  },
  {
   "cell_type": "markdown",
   "metadata": {},
   "source": [
    "# Simulation"
   ]
  },
  {
   "cell_type": "code",
   "execution_count": null,
   "metadata": {
    "collapsed": true
   },
   "outputs": [],
   "source": []
  },
  {
   "cell_type": "code",
   "execution_count": 4,
   "metadata": {
    "collapsed": false
   },
   "outputs": [],
   "source": [
    "def pt(t,pind,indPathMeans,indPathStds): #calculates true probability of time t for:\n",
    "    #pind = list of individual true route selecction probabilities\n",
    "    #indPathMeans = list of individual's mean travel times on each path\n",
    "    #indPathStds = list of individual's standard deviations of travel times on each path\n",
    "    total = 0;\n",
    "    for i in range(0,len(pind)):\n",
    "        total = total + norm.pdf(t,indPathMeans[i],indPathStds[i])*pind[i];\n",
    "    return total\n",
    "\n",
    "def probtBel(time,trainedParam):#thIs is updated belief p_B(time)\n",
    "    result = 0.0;\n",
    "    for x in range(0,len(trainedParam[0])):\n",
    "        result = result + t.pdf(time, trainedParam[1][x], trainedParam[2][x], trainedParam[3][x])*trainedParam[0][x];\n",
    "    return result\n",
    "\n",
    "#print(str(probt(900)));\n",
    "\n",
    "def probxgiventBel(x,time,trainedParam):#this is updted belief p_B(x|time)\n",
    "    return t.pdf(time, trainedParam[1][x], trainedParam[2][x], trainedParam[3][x])*trainedParam[0][x]/probtBel(time,trainedParam)"
   ]
  },
  {
   "cell_type": "code",
   "execution_count": 5,
   "metadata": {
    "collapsed": false
   },
   "outputs": [],
   "source": [
    "#determining f(x,t) and average value\n",
    "\n",
    "\n",
    "#low = 200\n",
    "#high = 2650\n",
    "#These are the limits of integraton for time in the average value calculations for f_ave and for the MSE.\n",
    "#They must be carefully set so that you integrate over all significantly likely times, but not\n",
    "#so wide that you get division by 0 for times for which p(t) is indistinguishable from 0.\n",
    "\n",
    "\n",
    "\n",
    "def fexposure(path, time,concens):#path = path, time = time, concens = list of concentrations in each region\n",
    "    #requires global specification of percent of time in each reagion, percentOfTimeInEachRegion\n",
    "    #which is a list of lists.  There is one list for each path and that list is the list\n",
    "    #of percents of times that path spends in each region.  This list must be of length len(concens)\n",
    "    actualCITI = [];\n",
    "    actualTimeInEachRegion = [];    \n",
    "    for r in range(0,len(percentOfTimeInEachRegion[path])):\n",
    "        actualTimeInEachRegion.append(percentOfTimeInEachRegion[path][r]*time);\n",
    "    for regionNum in range(0,len(actualTimeInEachRegion)): #sum of atualCITI = f(x,t)\n",
    "        actualCITI.append(concens[regionNum]*actualTimeInEachRegion[regionNum]);\n",
    "    return sum(actualCITI);\n",
    "\n",
    "def avef(baseconcentrations,pind,indPathMeans,indPathStds): #average f_environ(x,t) over all routes \n",
    "    #times and environments\n",
    "    #baseconcentrations = list of base pollutant concentrations in each cell\n",
    "    #pind = list of individual true route selecction probabilities\n",
    "    #indPathMeans = list of individual's mean travel times on each path\n",
    "    #indPathStds = list of individual's standard deviations of travel times on each path\n",
    "    newvec = []\n",
    "    for i in range (0,len(P_I)):\n",
    "        pct_conc = sum(j[0] * j[1] for j in zip(percentOfTimeInEachRegion[i], baseconcentrations))\n",
    "        newvec.append(pct_conc*pind[i]*pathMeanTimes[i]);\n",
    "    return sum(newvec);\n",
    "\n",
    "\n",
    "\n",
    "def avefold(baseconcentrations,pind,indPathMeans,indPathStds): #Old, but accurate\n",
    "    #average f_environ(x,t) over all routes \n",
    "    #times and environments\n",
    "    #baseconcentrations = list of base pollutant concentrations in each cell\n",
    "    #pind = list of individual true route selecction probabilities\n",
    "    #indPathMeans = list of individual's mean travel times on each path\n",
    "    #indPathStds = list of individual's standard deviations of travel times on each path\n",
    "    total = 0;\n",
    "    #timeNormalization = integrate.quad(pt,low,high,args=(pind,indPathMeans,indPathStds))[0];\n",
    "    timeNormalization = 1;\n",
    "    for i in range(0,len(pind)):\n",
    "        def f(t):\n",
    "            #return fexposure(i,t,(baseconcentrations))*pt(t,pind,indPathMeans,indPathStds);\n",
    "            return fexposure(i,t,(baseconcentrations))*norm.pdf(t,indPathMeans[i],indPathStds[i])*pind[i];\n",
    "        total = total + integrate.quad(f,low,high,args=())[0];\n",
    "    return total/timeNormalization;\n",
    "    #return total;\n"
   ]
  },
  {
   "cell_type": "code",
   "execution_count": 6,
   "metadata": {
    "collapsed": false
   },
   "outputs": [],
   "source": [
    "#########\n",
    "#OLD AND SLOW THEORETICALLY MINIMAL MSE FOR CHANGING ENVIRONMENT BEGIN\n",
    "\n",
    "\n",
    "\n",
    "#low = 100\n",
    "#high = 2650\n",
    "#These are the limits of integraton for time in the average value calculations for f_ave and for the MSE.\n",
    "#They must be carefully set so that you integrate over all significantly likely times, but not\n",
    "#so wide that you get division by 0 for times for which p(t) is indistinguishable from 0.\n",
    "\n",
    "\n",
    "def integrand(t, concens,pind,indPathMeans,indPathStds):#integrand in the MSE calculation\n",
    "    #concens = list of pollutant concentrations in the cells\n",
    "    #pind = list of individual true route selecction probabilities\n",
    "    #indPathMeans = list of individual's mean travel times on each path\n",
    "    #indPathStds = list of individual's standard deviations of travel times on each path\n",
    "    term1 = 0;\n",
    "    term2sum = 0;\n",
    "    term2 = 0;\n",
    "    for i in range(0,len(pathMeanTimes)):\n",
    "        term1 = term1 + ((fexposure(i,t,concens))**2)*norm.pdf(t,indPathMeans[i],indPathStds[i])*pind[i];\n",
    "    for i in range(0,len(pathMeanTimes)):\n",
    "        term2sum = term2sum + fexposure(i,t,concens)*norm.pdf(t,indPathMeans[i],indPathStds[i])*pind[i];\n",
    "    term2 = (term2sum**2)/pt(t,pind,indPathMeans,indPathStds);\n",
    "    return term1 - term2;\n",
    "\n",
    "\n",
    "def theoreticalmse(M,baseconc,confidencepct,pind,indPathMeans,indPathStds,variation):#computes confidence interval\n",
    "    #for relative MSE with:\n",
    "    #M = number of runs (trials)\n",
    "    #baseconc = base concentration list\n",
    "    #confidencepct  = confidence level in percent\n",
    "    #pind = list of individual true route selecction probabilities\n",
    "    #indPathMeans = list of individual's mean travel times on each path\n",
    "    #indPathStds = list of individual's standard deviations of travel times on each path\n",
    "    sqrunErAve = 0.0; #running average mean squared error\n",
    "    frunAve =  0.0; # running average average value of f_epsilon(x,t)\n",
    "    sqErtotal = 0.0; # total running square error\n",
    "    relErrorList = [];\n",
    "    errorList = [];\n",
    "    averagefValue = avef(baseconc,pind,indPathMeans,indPathStds);\n",
    "    for trial in range(0,M):\n",
    "        concens = [0,0,0,0,0,0,0,0,0,0,0,0,0,0,0,0,0,0];\n",
    "        for region in range(len(baseconc)):\n",
    "            concens[region] = baseconc[region]+random.uniform(-variation,variation);#change environment\n",
    "        mse = integrate.quad(integrand,low,high,args=(concens,pind,indPathMeans,indPathStds))[0];\n",
    "        #integrate from low to high for about 6 standard deviations above and below mean times\n",
    "        errorList.append(mse);\n",
    "        relErrorList.append(mse/(averagefValue**2));\n",
    "        #print(str(trial), end=\"\");\n",
    "    #\n",
    "    std = numpy.std(relErrorList,ddof=1); #sample stdev of observed relative error\n",
    "    tcv = t.ppf((100-confidencepct)/200,df = M-1,loc = 0, scale = 1); #critical value for our confidence\n",
    "    mseest = numpy.mean(relErrorList);\n",
    "    mseSqrtest = numpy.sqrt(mseest);\n",
    "    confidence = [mseest - (-tcv*std)/numpy.sqrt(M), mseest +(-tcv*std)/numpy.sqrt(M)];\n",
    "    #\n",
    "    msePctest = mseest*100;\n",
    "    mseSqrtPctest = mseSqrtest*100;\n",
    "    msePctConfidence = [];\n",
    "    mseSqrtPctConfidence = [];\n",
    "    for i in range(0,len(confidence)):\n",
    "        msePctConfidence.append(100*confidence[i]);\n",
    "        mseSqrtPctConfidence.append(100*numpy.sqrt(confidence[i]));\n",
    "    \n",
    "    return [msePctest,msePctConfidence,mseSqrtPctest, mseSqrtPctConfidence,confidencepct];\n",
    "\n",
    "\n",
    "#########\n",
    "#OLD THEORETICALLY MINIMAL MSE END\n",
    "\n"
   ]
  },
  {
   "cell_type": "code",
   "execution_count": 7,
   "metadata": {
    "collapsed": false
   },
   "outputs": [],
   "source": [
    "#########\n",
    "#NEW AND FASTER THEORETICALLY MINIMAL MSE FOR CHANGING ENVIRONMENT BEGIN\n",
    "\n",
    "\n",
    "\n",
    "\n",
    "def environExp(wvec, environBase, environVar):#component of expectation over the environment\n",
    "    #calculates the expected value of (environment \\cdot wvec)^2 where the environment in cell i\n",
    "    #fluctuates randomly with mean environBase[i] and fluctuation uniform in plus/minus environVar[i]\n",
    "    #in the theoretical MSE calculation, wvec = pct time in each region for the first term\n",
    "    #and a sum of percent time time probabilities in the second term\n",
    "    term1=0;\n",
    "    term2=0;\n",
    "    for region in range(0,len(wvec)):\n",
    "        term1 = term1 + ((wvec[region]**2)*((environBase[region])**2 + (1/3)*(environVar[region]**2)));\n",
    "    for region1 in range(0,len(wvec)):\n",
    "        for region2 in range(region1+1, len(wvec)):\n",
    "            term2 = term2+ 2*wvec[region1]*wvec[region2]*environBase[region1]*environBase[region2];\n",
    "    return term1 + term2;\n",
    "\n",
    "def wVector(t,pcts,muX,sigmaX,pX):#this is the vector dotted with the environment in the second term\n",
    "    #pcts = list of lists.\n",
    "    #pcts[i] = list of percent of time in each region for path i\n",
    "    #muX = person's true mean travel time for each path\n",
    "    #sigmaX = person's true time standard deviation for each path\n",
    "    #pX = person's true path probabilities\n",
    "    returnVector = [];\n",
    "    for region in range (0,len(pcts[0])):\n",
    "        returnVector.append(0);\n",
    "    ptGx = 0;#true p(t|x)\n",
    "    for i in range (0,len(pX)):\n",
    "        ptGx = norm.pdf(t,muX[i],sigmaX[i]);\n",
    "        #print(ptGx);\n",
    "        for region in range (0,len(pcts[0])):\n",
    "            returnVector[region] = returnVector[region]+(ptGx*pX[i]*pcts[i][region]);\n",
    "    return returnVector;\n",
    "\n",
    "def theMseTerm1(pX, muX, sigmaX, pcTime, environBase, environVar): #term 1 of the MSE calculation\n",
    "    total = 0;\n",
    "    for x in range(0,len(pX)):\n",
    "        total = total + pX[x]*(muX[x]**2 + sigmaX[x]**2)*environExp(pcTime[x],environBase,environVar);\n",
    "    return total;\n",
    "\n",
    "def theMseTerm2integrand(t,pcts,muX,sigmaX,pX,environBase,environVar): #integrnd for term 2\n",
    "    wVec = wVector(t,pcts,muX,sigmaX,pX);\n",
    "    return(((t**2)/pt(t,pX,muX,sigmaX))*environExp(wVec,environBase,environVar));\n",
    "\n",
    "def theoreticalmsenew(pctime,pX,muX,sigmaX,environBase,environVar): #term 2 of the MSE calculation\n",
    "    part1 = theMseTerm1(pX,muX,sigmaX,pctime,environBase,environVar)\n",
    "    part2 = integrate.quad(theMseTerm2integrand,low,high,args=(pctime,muX,sigmaX,pX,environBase,environVar))[0];\n",
    "    return 100*numpy.sqrt(part1-part2)/avef(environBase,pX,muX,sigmaX);\n",
    "\n",
    "base = [4,12,11,7,8,9,8,10,12,9,18,15];\n",
    "variation = [3,3,3,3,3,3,3,3,3,3,3,3]\n",
    "#print(theoreticalmsenew(percentOfTimeInEachRegion,P_I,pathMeanTimes,pathStdOfTimes,base,variation));\n",
    "#print(theoreticalmse(100,base,99,P_I,pathMeanTimes,pathStdOfTimes,3));\n",
    "\n",
    "\n",
    "\n",
    "\n",
    "#pathMeanTimes = [1380, 1560, 1680, 1440, 1560];\n",
    "\n",
    "#pathStdOfTimes = [80, 95, 100, 85, 90];\n",
    "\n",
    "#percentOfTimeInEachRegion = [[0, 0, 0, 0.22, 0, 0.1, 0, 0.1, 0.26, 0, 0.22, 0.1], [0, 0, 0, 0.2, 0, 0, 0.03, 0.14, 0, 0.2, 0, 0.43], [0.12, 0.12, 0.16, 0.06, 0.04, 0.12, 0, 0, 0.17, 0, 0.13, 0.07], [0, 0, 0, 0.27, 0, 0.09, 0, 0.09, 0.25, 0, 0.21, 0.09], [0, 0, 0, 0.2, 0, 0, 0.03, 0.14, 0, 0.2, 0, 0.43]];\n",
    "#P_I = [0.2, 0.4, 0.1, 0.1, 0.2];"
   ]
  },
  {
   "cell_type": "code",
   "execution_count": 8,
   "metadata": {
    "collapsed": true
   },
   "outputs": [],
   "source": [
    "#COMPARING THE NEW AND OLD THEORETICAL MSE CALCS\n",
    "\n",
    "def environGen(regions,base,variation,days):#makes a list of environmental conditions\n",
    "    #for days number of days\n",
    "    #regions = number of Voronoi cells\n",
    "    #base = base concentration list, a list of length = regions\n",
    "    #variation = plus/minus range of variation in the values\n",
    "    environment = [];\n",
    "    for i in range(0,days):\n",
    "        dailyConditions = [];\n",
    "        for region in range(0,regions):\n",
    "            dailyConditions.append(base[region]+random.uniform(-variation,variation));\n",
    "        environment.append(dailyConditions);\n",
    "    return [environment,base];\n",
    "\n",
    "def compare(indData,environment,mseRuns,variation):#old/new comparison cycle\n",
    "    #pathAndTime = list of individual's (path,time) data\n",
    "    #environment = [list of lists environmental conditions, base conditions]\n",
    "        #that is, first entry in environment is a list of lists, each of which is a list of cell \n",
    "        #conditions and the second entry is the list of base cell conditions\n",
    "    #indData = true probabilities and hyperparameter m initialization\n",
    "        # [pind, indPathMeans, indPathStds, mInit] with\n",
    "        #pind = list of individual true route selecction probabilities\n",
    "        #indPathMeans = list of individual's mean travel times on each path\n",
    "        #indPathStds = list of individual's standard deviations of travel times on each path\n",
    "        #mInit = initialization of hyperparameter m\n",
    "    #mseRuns = number of runs with which to estimate theoretical MSE (does not use pathAndTime)\n",
    "    #variation = amount of variation on base conditions with respect to which to estimate theory MSE\n",
    "    varvector = [];\n",
    "    for region in range(0,len(environment[1])):\n",
    "        varvector.append(variation);\n",
    "    numberOfPaths = len(indData[0]);\n",
    "    #theoryMse = 5.28832505349;#DEBUG MSE TO SAVE TIME\n",
    "    averagef  = avef(environment[1],indData[0],indData[1],indData[2]);\n",
    "    thMseConf = theoreticalmse(mseRuns,environment[1],99.9,indData[0],indData[1],indData[2],variation);\n",
    "    theoryMse = thMseConf[2];\n",
    "    newtheoryMse = theoreticalmsenew(percentOfTimeInEachRegion,indData[0],indData[1], indData[2], environment[1],varvector);\n",
    "    #theoryMse = theoreticalmse(mseRuns,environment[1],50,indData[0],indData[1],indData[2],variation)[2];\n",
    "    #print(\"\\n\");\n",
    "    #print(\"Theory MSE pct = \"+str(theoryMse));\n",
    "    #print(\"Average f value =\"+str(averagef));\n",
    "    return [theoryMse,thMseConf,newtheoryMse];\n",
    "\n",
    "\n",
    "def multipleCompare(noPeople,peopleBase,peopleVar,regimeBaseEnv,regimeVar,dataDays,theoryRuns):#\n",
    "    #noPeople = number of people doing the regime\n",
    "    #dataDays = number of days for which we have/want data\n",
    "    empMSElist = [];\n",
    "    theoryMSElist = [];\n",
    "    theoryMSEConflist = [];\n",
    "    newtheoryMSElist = [];\n",
    "    peopledata = [];\n",
    "    environment = environGen(18,regimeBaseEnv,regimeVar,dataDays);#here for all people\n",
    "     #having the same environment\n",
    "    for people in range(0,noPeople):\n",
    "    #print(\"\\n\");\n",
    "        indPathMeans = [];\n",
    "        indPathStds = [];\n",
    "        pind = [];\n",
    "        pindTemp = [];\n",
    "        denominator = 0;\n",
    "        for path in range(0,len(peopleBase[0])):\n",
    "            pindTemp.append(peopleBase[0][path]+random.uniform(0,peopleVar[0]))\n",
    "            indPathMeans.append(peopleBase[1][path]+random.uniform(-peopleVar[1],peopleVar[1]));\n",
    "            indPathStds.append(peopleBase[2][path]+random.uniform(-peopleVar[2],peopleVar[2]));\n",
    "        for path in range(0,len(peopleBase[0])):\n",
    "            denominator = sum(pindTemp);\n",
    "            pind.append(pindTemp[path]/denominator);\n",
    "        #print(str(pind));\n",
    "        #indPathStds = peopleBase[1]+random.uniform(-peopleVar[1],peopleVar[1]);\n",
    "        #environment = environGen(7,regimeBaseEnv,regimeVar,dataDays);#here for each person\n",
    "        #having a different environment\n",
    "        personTrueData = [pind,indPathMeans,indPathStds];\n",
    "        personMSE = compare(personTrueData,environment,theoryRuns,regimeVar);\n",
    "        theoryMSElist.append(personMSE[0]);\n",
    "        theoryMSEConflist.append(personMSE[1]);\n",
    "        newtheoryMSElist.append(personMSE[2]);\n",
    "        peopledata.append(personTrueData);\n",
    "        \n",
    "    return [theoryMSElist,theoryMSEConflist,newtheoryMSElist,peopledata];\n"
   ]
  },
  {
   "cell_type": "code",
   "execution_count": 9,
   "metadata": {
    "collapsed": false
   },
   "outputs": [
    {
     "name": "stdout",
     "output_type": "stream",
     "text": [
      "6.65538817117\n",
      "[0.4429419170896895, [0.33745770738200775, 0.54842612679737124], 6.6553881711714569, [5.809111011006828, 7.4055798341343344], 99.9]\n",
      "6.3695809503\n",
      " \n",
      "5.80360124483\n",
      "[0.33681787408974118, [0.24343131219459763, 0.43020443598488473], 5.8036012448284318, [4.9338758820484898, 6.5589971488397891], 99.9]\n",
      "6.07701552836\n",
      " \n",
      "6.18557789117\n",
      "[0.38261373847760655, [0.28218239791129845, 0.48304507904391464], 6.1855778911723887, [5.3120843170200009, 6.9501444520521636], 99.9]\n",
      "6.1751337983\n",
      " \n",
      "2.7981710392\n",
      "[0.078297611646138243, [0.057691766055485649, 0.098903457236790851], 2.7981710391993242, [2.4019110319802781, 3.1448920050900138], 99.9]\n",
      "2.76727139564\n",
      " \n",
      "3.12178483256\n",
      "[0.097455405407802717, [0.070063858338374294, 0.12484695247723114], 3.1217848325565734, [2.6469578451190774, 3.533368824185088], 99.9]\n",
      "3.10282148291\n",
      " \n"
     ]
    }
   ],
   "source": [
    "peopleBase = [P_I, pathMeanTimes, pathStdOfTimes,[0,0,0,0,0]];\n",
    "peopleVar = [0.5,800,80];\n",
    "regimeVariation1 = 1;\n",
    "regimeBase1 = [4,3,2,5,5,2,6,5,6,4,3,3,6,5,5,6,4,3];\n",
    "#environment = environGen(7,regimeBase1,regimeVariation1,100);\n",
    "#userTrueData = [P_I,pathMeanTimes,pathStdOfTimes,[0,0,0,0,0]];\n",
    "\n",
    "\n",
    "comparison1 = multipleCompare(5, peopleBase, peopleVar, regimeBase1,regimeVariation1,100,50)\n",
    "\n",
    "for k in range(0,5):\n",
    "    print(comparison1[0][k]);\n",
    "    print(comparison1[1][k]);\n",
    "    print(comparison1[2][k]);\n",
    "    print(\" \");\n",
    "    \n"
   ]
  },
  {
   "cell_type": "code",
   "execution_count": 10,
   "metadata": {
    "collapsed": false
   },
   "outputs": [],
   "source": [
    "\n",
    "#(M,baseconc,confidencepct,pind,indPathMeans,indPathStds,variation"
   ]
  },
  {
   "cell_type": "code",
   "execution_count": 11,
   "metadata": {
    "collapsed": false
   },
   "outputs": [],
   "source": [
    "#Alternate Individual Data\n",
    "\n",
    "#pathMeanTimes = [1380, 1560, 1680, 1440, 1560];\n",
    "\n",
    "#pathStdOfTimes = [80, 95, 100, 85, 90];\n",
    "\n",
    "#percentOfTimeInEachRegion = [[0, 0, 0, 0.22, 0, 0.1, 0, 0.1, 0.26, 0, 0.22, 0.1], [0, 0, 0, 0.2, 0, 0, 0.03, 0.14, 0, 0.2, 0, 0.43], [0.12, 0.12, 0.16, 0.06, 0.04, 0.12, 0, 0, 0.17, 0, 0.13, 0.07], [0, 0, 0, 0.27, 0, 0.09, 0, 0.09, 0.25, 0, 0.21, 0.09], [0, 0, 0, 0.2, 0, 0, 0.03, 0.14, 0, 0.2, 0, 0.43]];\n",
    "#P_I = [0.2, 0.4, 0.1, 0.1, 0.2];\n",
    "\n"
   ]
  },
  {
   "cell_type": "code",
   "execution_count": 12,
   "metadata": {
    "collapsed": false
   },
   "outputs": [],
   "source": [
    "#def environExp(wvec, environBase, environVar):#expectation over the environment\n",
    "#    term1=0;\n",
    "#    term2=0;\n",
    "#    for region in range(0,len(wvec)):\n",
    "#        term1 = term1 + ((wvec[region]**2)*((environBase[region])**2 + (1/3)*(environVar[region]**2)));\n",
    "#    for region1 in range(0,len(wvec)):\n",
    "#        for region2 in range(region1+1, len(wvec)):\n",
    "#            term2 = term2+ 2*wvec[region1]*wvec[region2]*environBase[region1]*environBase[region2];\n",
    "#    return term1 + term2;\n",
    "\n",
    "#print(environExp([1,1],[.5,.5],[.5,.5]));\n"
   ]
  },
  {
   "cell_type": "code",
   "execution_count": 13,
   "metadata": {
    "collapsed": false
   },
   "outputs": [],
   "source": [
    "#a = [1,2,3,4,5];\n",
    "#b = [6,7,8,9,0];\n",
    "#for i in range(0,len(a)):\n",
    "#    for j in range(i+1,len(a)):\n",
    "#        print(str(a[i])+str(b[j]));\n"
   ]
  },
  {
   "cell_type": "code",
   "execution_count": 14,
   "metadata": {
    "collapsed": false
   },
   "outputs": [
    {
     "name": "stdout",
     "output_type": "stream",
     "text": [
      "2.81257145781\n",
      "[0.097776415654927132, [0.0037303369478816498, 0.1918224943619726], 3.1269220593888667, [0.61076484409972798, 4.3797544949685543], 99]\n"
     ]
    }
   ],
   "source": [
    "base = [4,12,11,7,8,9,8,10,12,9,18,15,8,7,9,10,5,15];\n",
    "variation = 3\n",
    "varvector = [];\n",
    "P_I = [0.2320884035221132, 0.22604109377910847, 0.2303974279783529, 0.1992638385437508, 0.1122092361766746];\n",
    "pathMeanTimes = [1494.3741351947333, 1389.8536818265084, 1712.0231846655838, 1817.2756478939336, 2774.3428893441405];\n",
    "#pathMeanTimes = [1920, 1980, 2160, 2100, 2100];\n",
    "pathStdOfTimes = [130.46893743076475, 170.67399695686657, 59.72398144837493, 121.21402594534294, 144.76060210136166];\n",
    "#pathStdOfTimes = [120, 125, 135, 125, 130];\n",
    "for region in range(0,len(base)):\n",
    "    varvector.append(variation);\n",
    "print(theoreticalmsenew(percentOfTimeInEachRegion,P_I,pathMeanTimes,pathStdOfTimes,base,varvector));\n",
    "print(theoreticalmse(20,base,99,P_I,pathMeanTimes,pathStdOfTimes,variation));"
   ]
  },
  {
   "cell_type": "code",
   "execution_count": 15,
   "metadata": {
    "collapsed": false
   },
   "outputs": [
    {
     "name": "stdout",
     "output_type": "stream",
     "text": [
      "6.05914530892\n"
     ]
    }
   ],
   "source": [
    "regimeCycle1 = [[[8.9752337547145817, 6.7442020819493766, 6.5222174615470312, 5.3156769886159854, 5.3919787521572422], [5.9530161403723856, 4.6779242061333353, 4.4224746102299228, 4.4929720755346958, 5.176005750450198], [6.7359083190562279, 6.3809286818081299, 6.7108915844958901, 7.0489161852525228, 6.865089824331573], [7.4566010388238961, 6.5858560193338729, 5.0007607642513037, 5.2228611549925885, 4.9286770427584186], [6.7347301660270187, 5.3815451348650267, 4.4849130083313886, 4.6516630679638951, 5.1910089362670915]], [5.1499038829280712, 4.1783188517291503, 2.8866338696554674, 4.7779966577007009, 4.4705452151918639], [[0.26521510003397625, [0.14278582413224181, 0.38764437593571072], 5.1499038829280712, [3.7787011542624245, 6.2261093464194053], 99.9], [0.17458348426715206, [0.097340702024948503, 0.25182626650935558], 4.1783188517291503, [3.1199471473880531, 5.0182294338676421], 99.9], [0.083326550974420974, [0.050106851557321405, 0.11654625039152056], 2.8866338696554674, [2.2384559758306928, 3.4138870864678657], 99.9], [0.2282925206099907, [0.14309272406213169, 0.3134923171578497], 4.7779966577007009, [3.7827598927520065, 5.5990384635029047], 99.9], [0.19985774521074864, [0.13189077254030937, 0.26782471788118795], 4.4705452151918639, [3.6316769203814014, 5.1751784305585824], 99.9]], [12.891347491112105, 11.985858805711647, 5.6699472129641073, 4.7781713346973786, 5.9206001059110207], [[[0.2320884035221132, 0.22604109377910847, 0.2303974279783529, 0.1992638385437508, 0.1122092361766746], [1494.3741351947333, 1389.8536818265084, 1712.0231846655838, 1817.2756478939336, 2774.3428893441405], [130.46893743076475, 170.67399695686657, 59.72398144837493, 121.21402594534294, 144.76060210136166], [2587.611590013056, 1280.662917236042, 2354.7342379058687, 1535.0019883202606, 2445.5216138523747]], [[0.11469623647109961, 0.4155409052876683, 0.23457642530929126, 0.08629670468887457, 0.14888972824306634], [1625.563621238041, 1356.8588454880637, 2564.321995162987, 1768.9228006338808, 2804.0094940155877], [128.10278019920787, 195.63512518277517, 117.70463968202682, 194.35539367029696, 113.78907994649474], [2587.611590013056, 1280.662917236042, 2354.7342379058687, 1535.0019883202606, 2445.5216138523747]], [[0.2522609589522804, 0.27131654180087905, 0.07846539917905239, 0.27438428002894444, 0.12357282003884355], [1804.2621553638835, 1181.7020892803164, 2560.655093972999, 1967.95522617778, 1474.7176214512288], [55.57430102522676, 110.1942987534172, 190.05611271335746, 188.4657504022272, 54.732477052692445], [2587.611590013056, 1280.662917236042, 2354.7342379058687, 1535.0019883202606, 2445.5216138523747]], [[0.23364807817807434, 0.21299645240698326, 0.1784514771796205, 0.15387578697660406, 0.22102820525871772], [1271.4101097449634, 1851.3439739819785, 1949.116714816264, 1667.6877010620506, 2397.537817972385], [92.31988751948745, 180.874127215169, 210.05807816311136, 169.91582010924776, 53.24723926067087], [2587.611590013056, 1280.662917236042, 2354.7342379058687, 1535.0019883202606, 2445.5216138523747]], [[0.11823665176117328, 0.31854132605203295, 0.17222027072695606, 0.09099057716427367, 0.3000111742955641], [2567.044231829088, 1316.3900122711277, 2373.1291781950927, 1716.63521684778, 2410.880257076892], [69.48811792912382, 118.08356018217461, 68.09805799682815, 190.38580381703412, 209.04445259728934], [2587.611590013056, 1280.662917236042, 2354.7342379058687, 1535.0019883202606, 2445.5216138523747]]]];\n",
    "\n",
    "base = [4,3,2,5,5,2,6,5,6,4,3,3,6,5,5,6,4,3];\n",
    "variation = 1;\n",
    "varvector = [];\n",
    "for region in range(0,len(base)):\n",
    "    varvector.append(variation);\n",
    "testp = regimeCycle1[4][0][0];\n",
    "testmu = regimeCycle1[4][0][1];\n",
    "testsigma = regimeCycle1[4][0][2];\n",
    "print(theoreticalmsenew(percentOfTimeInEachRegion,testp,testmu,testsigma,base,varvector));"
   ]
  },
  {
   "cell_type": "code",
   "execution_count": 16,
   "metadata": {
    "collapsed": false
   },
   "outputs": [
    {
     "name": "stdout",
     "output_type": "stream",
     "text": [
      "[0.2320884035221132, 0.22604109377910847, 0.2303974279783529, 0.1992638385437508, 0.1122092361766746]\n",
      "[1494.3741351947333, 1389.8536818265084, 1712.0231846655838, 1817.2756478939336, 2774.3428893441405]\n",
      "[130.46893743076475, 170.67399695686657, 59.72398144837493, 121.21402594534294, 144.76060210136166]\n"
     ]
    }
   ],
   "source": [
    "print(regimeCycle1[4][0][0]);\n",
    "print(regimeCycle1[4][0][1]);\n",
    "print(regimeCycle1[4][0][2]);"
   ]
  },
  {
   "cell_type": "code",
   "execution_count": null,
   "metadata": {
    "collapsed": true
   },
   "outputs": [],
   "source": []
  }
 ],
 "metadata": {
  "anaconda-cloud": {},
  "kernelspec": {
   "display_name": "Python [default]",
   "language": "python",
   "name": "python3"
  },
  "language_info": {
   "codemirror_mode": {
    "name": "ipython",
    "version": 3
   },
   "file_extension": ".py",
   "mimetype": "text/x-python",
   "name": "python",
   "nbconvert_exporter": "python",
   "pygments_lexer": "ipython3",
   "version": "3.5.2"
  }
 },
 "nbformat": 4,
 "nbformat_minor": 1
}
