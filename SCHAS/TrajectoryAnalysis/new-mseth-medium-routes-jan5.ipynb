{
 "cells": [
  {
   "cell_type": "code",
   "execution_count": 1,
   "metadata": {
    "collapsed": false
   },
   "outputs": [],
   "source": [
    "#Empirical MSE for changing environment\n",
    "#Uses new f_ave calculation weighting all times equally to new p(t) one.\n",
    "from scipy.stats import t\n",
    "from scipy.stats import norm;\n",
    "import matplotlib.pyplot as plt\n",
    "from PIL import Image\n",
    "import random;\n",
    "import numpy;\n",
    "import scipy.integrate as integrate;\n",
    "import scipy.special as special;\n",
    "low = -620;\n",
    "high = 3880;\n",
    "#These are the limits of integraton for time in the average value calculations for f_ave and for the MSE.\n",
    "#They must be carefully set so that you integrate over all significantly likely times, but not\n",
    "#so wide that you get division by 0 for times for which p(t) is indistinguishable from 0.\n",
    "\n"
   ]
  },
  {
   "cell_type": "markdown",
   "metadata": {},
   "source": [
    "# Load Path Data"
   ]
  },
  {
   "cell_type": "code",
   "execution_count": 2,
   "metadata": {
    "collapsed": false
   },
   "outputs": [
    {
     "name": "stdout",
     "output_type": "stream",
     "text": [
      "Path Mean Times in seconds: \n",
      "[1380, 1560, 1680, 1440, 1560]\n",
      "\n",
      "Path Standard Deviation of Times in seconds: \n",
      "[80, 95, 100, 85, 90]\n",
      "\n",
      "Path Distances in miles:\n",
      "[16.6, 19.5, 22, 17.1, 19.4]\n",
      "\n",
      "Path Percent in each Region: \n",
      "[[0, 0, 0, 0.22, 0, 0.1, 0, 0.1, 0.26, 0, 0.22, 0.1], [0, 0, 0, 0.2, 0, 0, 0.03, 0.14, 0, 0.2, 0, 0.43], [0.12, 0.12, 0.16, 0.06, 0.04, 0.12, 0, 0, 0.17, 0, 0.13, 0.07], [0, 0, 0, 0.27, 0, 0.09, 0, 0.09, 0.25, 0, 0.21, 0.09], [0, 0, 0, 0.2, 0, 0, 0.03, 0.14, 0, 0.2, 0, 0.43]]\n",
      "\n",
      "P_I(x):\n",
      "[0.2, 0.4, 0.1, 0.1, 0.2]\n"
     ]
    }
   ],
   "source": [
    "pathMeanTimes = [];\n",
    "pathStdOfTimes = [];\n",
    "pathDistances = [];\n",
    "percentOfTimeInEachRegion = [];\n",
    "P_I = [];\n",
    "\n",
    "\n",
    "#from 1340 Como Avenue, Saint Paul, MN 55108 to 7501-7549 Noble Avenue North, Brooklyn Park, MN 55443\n",
    "\n",
    "#via MN-36 and I-694 W. #T = 23min. D = 16.6 mi\n",
    "#Get on MN-36 W in Roseville from Snelling Ave\n",
    "#7 min (2.9 mi)\n",
    "#Take I-35W N and I-694 W to County Rd 152/Brooklyn Blvd in Brooklyn Center. Take exit 33 from I-694 W\n",
    "#13 min (12.5 mi)\n",
    "#Continue on County Rd 152/Brooklyn Blvd. Drive to Noble Ave N in Brooklyn Park\n",
    "#3 min (1.2 mi) \n",
    "pathMeanTimes.append(1380);\n",
    "pathStdOfTimes.append(80);\n",
    "pathDistances.append(16.6);\n",
    "P_I.append(0.2);#actual\n",
    "percentOfTimeInEachRegion.append([0,0,0,.22,0,.1,0,.1,.26,0,.22,.1]);\n",
    "\n",
    "#via I-94. T=26min. D=19.5 mi\n",
    "#Get on I-94 W in Union Park from Como Ave and Snelling Ave\n",
    "#7 min (2.5 mi)\n",
    "#Follow I-94 W to County Rd 152/Brooklyn Blvd in Brooklyn Center. Take exit 33 from I-94 W\n",
    "#16 min (15.8 mi)\n",
    "#Continue on County Rd 152/Brooklyn Blvd. Drive to Noble Ave N in Brooklyn Park\n",
    "#3 min (1.2 mi) \n",
    "pathMeanTimes.append(1560);\n",
    "pathStdOfTimes.append(95);\n",
    "pathDistances.append(19.5);\n",
    "P_I.append(0.4);\n",
    "percentOfTimeInEachRegion.append([0,0,0,.2,0,0,.03,.14,0,.2,0,.43]);\n",
    "\n",
    "#via I-35. T = 28min. D = 22 mi\n",
    "#Get on MN-36 W in Roseville from Snelling Ave\n",
    "#7 min (2.9 mi)\n",
    "#Take I-35W N, US-10 W and MN-610 to Noble Pkwy in Brooklyn Park. Take the Noble Pkwy exit from MN-610 W\n",
    "#16 min (16.7 mi)\n",
    "#Drive to Noble Ave N\n",
    "#5 min (2.4 mi) \n",
    "pathMeanTimes.append(1680);\n",
    "pathStdOfTimes.append(100);\n",
    "pathDistances.append(22);\n",
    "P_I.append(0.1);\n",
    "percentOfTimeInEachRegion.append([.12,.12,.16,.06,.04,.12,0,0,.17,0,.13,.07]);\n",
    "\n",
    "# T=24min. D = 17.1 mi\n",
    "#Get on MN-36 W in Roseville from Snelling Ave\n",
    "#6 min (2.9 mi)\n",
    "#Take I-35W N and I-694 W to Shingle Creek Pkwy in Brooklyn Center. Take exit 34 from I-694 W\n",
    "#12 min (11.3 mi)\n",
    "#Continue on Shingle Creek Pkwy. Take 69th Ave N to Noble Ave N in Brooklyn Park\n",
    "#6 min (2.9 mi) \n",
    "pathMeanTimes.append(1440);\n",
    "pathStdOfTimes.append(85);\n",
    "pathDistances.append(17.1);\n",
    "P_I.append(0.1);\n",
    "percentOfTimeInEachRegion.append([0,0,0,.27,0,.09,0,.09,.25,0,.21,.09]);\n",
    "\n",
    "#via T = 26 min D =19.4 mi\n",
    "#Get on MN-280 S from Como Ave and Energy Park Dr\n",
    "#7 min (3.1 mi)\n",
    "#Take I-94 W to County Rd 152/Brooklyn Blvd in Brooklyn Center. Take exit 33 from I-94 W\n",
    "#16 min (15.1 mi)\n",
    "#Continue on County Rd 152/Brooklyn Blvd. Drive to Noble Ave N in Brooklyn Park\n",
    "#3 min (1.2 mi) \n",
    "pathMeanTimes.append(1560);\n",
    "pathStdOfTimes.append(90);\n",
    "pathDistances.append(19.4);\n",
    "P_I.append(0.2);\n",
    "percentOfTimeInEachRegion.append([0,0,0,.2,0,0,.03,.14,0,.2,0,.43]);\n",
    "\n",
    "print(\"Path Mean Times in seconds: \");\n",
    "print(pathMeanTimes);\n",
    "print(\"\\nPath Standard Deviation of Times in seconds: \");\n",
    "print(pathStdOfTimes);\n",
    "print(\"\\nPath Distances in miles:\");\n",
    "print(pathDistances);\n",
    "print(\"\\nPath Percent in each Region: \");\n",
    "print(percentOfTimeInEachRegion);\n",
    "print(\"\\nP_I(x):\");\n",
    "print(P_I);"
   ]
  },
  {
   "cell_type": "code",
   "execution_count": 3,
   "metadata": {
    "collapsed": false
   },
   "outputs": [],
   "source": [
    "#Alternate Individual Data\n",
    "\n",
    "#pathMeanTimes = [1380, 1560, 1680, 1440, 1560];\n",
    "\n",
    "#pathStdOfTimes = [80, 95, 100, 85, 90];\n",
    "\n",
    "#percentOfTimeInEachRegion = [[0, 0, 0, 0.22, 0, 0.1, 0, 0.1, 0.26, 0, 0.22, 0.1], [0, 0, 0, 0.2, 0, 0, 0.03, 0.14, 0, 0.2, 0, 0.43], [0.12, 0.12, 0.16, 0.06, 0.04, 0.12, 0, 0, 0.17, 0, 0.13, 0.07], [0, 0, 0, 0.27, 0, 0.09, 0, 0.09, 0.25, 0, 0.21, 0.09], [0, 0, 0, 0.2, 0, 0, 0.03, 0.14, 0, 0.2, 0, 0.43]];\n",
    "#P_I = [0.2, 0.4, 0.1, 0.1, 0.2];\n",
    "\n",
    "\n",
    "\n"
   ]
  },
  {
   "cell_type": "markdown",
   "metadata": {},
   "source": [
    "# Simulation"
   ]
  },
  {
   "cell_type": "code",
   "execution_count": null,
   "metadata": {
    "collapsed": true
   },
   "outputs": [],
   "source": []
  },
  {
   "cell_type": "code",
   "execution_count": 4,
   "metadata": {
    "collapsed": false
   },
   "outputs": [],
   "source": [
    "def training(numberOfPaths,pathAndTime,trainingDays,mInit):#minit = list of initialization for m\n",
    "    m = mInit;\n",
    "    c=[];\n",
    "    tbarTotal=[];\n",
    "    tbar = [];\n",
    "    sumtijsquared = [];\n",
    "    numberOfTimesRouteTaken = [];\n",
    "    v=[];\n",
    "    a = [];\n",
    "    b = [];\n",
    "    px = [];\n",
    "    tloc = [];\n",
    "    tscale = [];\n",
    "    tdf = [];\n",
    "    for path in range(0,numberOfPaths):\n",
    "        c.append(0);\n",
    "        v.append(1);\n",
    "        a.append(0.01);\n",
    "        b.append(0.01);\n",
    "        c.append(0);\n",
    "        tbarTotal.append(0);\n",
    "        tbar.append(0);\n",
    "        sumtijsquared.append(0);\n",
    "        \n",
    "        #numberOfTimesRouteTaken.append(0);\n",
    "    for day in range(0,trainingDays):\n",
    "        path = pathAndTime[day][0];\n",
    "        c[path] = c[path]+1;\n",
    "        sumtijsquared[path] = sumtijsquared[path] + pathAndTime[day][1]**2;\n",
    "        tbarTotal[path] = tbarTotal[path] + pathAndTime[day][1];\n",
    "    for path in range(0,numberOfPaths):\n",
    "        if c[path]==0:\n",
    "            tbar[path]=0;\n",
    "        else:\n",
    "            tbar[path] = tbarTotal[path]/c[path];\n",
    "        \n",
    "\n",
    "    for path in range(0,numberOfPaths):\n",
    "        oldm = m[path];\n",
    "        oldv = v[path];\n",
    "        olda = a[path];\n",
    "        oldb = b[path];\n",
    "    \n",
    "    \n",
    "        v[path] = oldv/(1+c[path]*oldv);\n",
    "        m[path] = (oldm/oldv+c[path]*tbar[path])*v[path];\n",
    "        a[path] = olda+c[path]/2;\n",
    "        b[path] = oldb + (1/2)*(pow(oldm,2)/oldv+sumtijsquared[path]-pow(m[path],2)/v[path]);\n",
    "        tloc.append(m[path]);\n",
    "        tscale.append(numpy.sqrt(b[path]*(1+v[path])/(a[path])));\n",
    "        tdf.append(2*a[path]);\n",
    "        px.append(c[path]/trainingDays);\n",
    "        \n",
    "    return [px,tdf,tloc,tscale,trainingDays];"
   ]
  },
  {
   "cell_type": "code",
   "execution_count": 5,
   "metadata": {
    "collapsed": false
   },
   "outputs": [],
   "source": [
    "def pt(t,pind,indPathMeans,indPathStds): #calculates true probability of time t for:\n",
    "    #pind = list of individual true route selecction probabilities\n",
    "    #indPathMeans = list of individual's mean travel times on each path\n",
    "    #indPathStds = list of individual's standard deviations of travel times on each path\n",
    "    total = 0;\n",
    "    for i in range(0,len(pind)):\n",
    "        total = total + norm.pdf(t,indPathMeans[i],indPathStds[i])*pind[i];\n",
    "    return total\n",
    "\n",
    "def probtBel(time,trainedParam):#thIs is updated belief p_B(time)\n",
    "    result = 0.0;\n",
    "    for x in range(0,len(trainedParam[0])):\n",
    "        result = result + t.pdf(time, trainedParam[1][x], trainedParam[2][x], trainedParam[3][x])*trainedParam[0][x];\n",
    "    return result\n",
    "\n",
    "#print(str(probt(900)));\n",
    "\n",
    "def probxgiventBel(x,time,trainedParam):#this is updted belief p_B(x|time)\n",
    "    return t.pdf(time, trainedParam[1][x], trainedParam[2][x], trainedParam[3][x])*trainedParam[0][x]/probtBel(time,trainedParam)"
   ]
  },
  {
   "cell_type": "code",
   "execution_count": 6,
   "metadata": {
    "collapsed": false
   },
   "outputs": [],
   "source": [
    "#determining f(x,t) and average value\n",
    "\n",
    "\n",
    "\n",
    "def fexposure(path, time,concens):#path = path, time = time, concens = list of concentrations in each region\n",
    "    #requires global specification of percent of time in each reagion, percentOfTimeInEachRegion\n",
    "    #which is a list of lists.  There is one list for each path and that list is the list\n",
    "    #of percents of times that path spends in each region.  This list must be of length len(concens)\n",
    "    actualCITI = [];\n",
    "    actualTimeInEachRegion = [];    \n",
    "    for r in range(0,len(percentOfTimeInEachRegion[path])):\n",
    "        actualTimeInEachRegion.append(percentOfTimeInEachRegion[path][r]*time);\n",
    "    for regionNum in range(0,len(actualTimeInEachRegion)): #sum of atualCITI = f(x,t)\n",
    "        actualCITI.append(concens[regionNum]*actualTimeInEachRegion[regionNum]);\n",
    "    return sum(actualCITI);\n",
    "\n",
    "def avef(baseconcentrations,pind,indPathMeans,indPathStds): #average f_environ(x,t) over all routes \n",
    "    #times and environments\n",
    "    #baseconcentrations = list of base pollutant concentrations in each cell\n",
    "    #pind = list of individual true route selecction probabilities\n",
    "    #indPathMeans = list of individual's mean travel times on each path\n",
    "    #indPathStds = list of individual's standard deviations of travel times on each path\n",
    "    newvec = []\n",
    "    for i in range (0,len(P_I)):\n",
    "        pct_conc = sum(j[0] * j[1] for j in zip(percentOfTimeInEachRegion[i], baseconcentrations))\n",
    "        newvec.append(pct_conc*pind[i]*pathMeanTimes[i]);\n",
    "    return sum(newvec);\n",
    "\n",
    "\n",
    "\n",
    "def avefold(baseconcentrations,pind,indPathMeans,indPathStds): #Old, but accurate\n",
    "    #average f_environ(x,t) over all routes \n",
    "    #times and environments\n",
    "    #baseconcentrations = list of base pollutant concentrations in each cell\n",
    "    #pind = list of individual true route selecction probabilities\n",
    "    #indPathMeans = list of individual's mean travel times on each path\n",
    "    #indPathStds = list of individual's standard deviations of travel times on each path\n",
    "    total = 0;\n",
    "    #timeNormalization = integrate.quad(pt,low,high,args=(pind,indPathMeans,indPathStds))[0];\n",
    "    timeNormalization = 1;\n",
    "    for i in range(0,len(pind)):\n",
    "        def f(t):\n",
    "            #return fexposure(i,t,(baseconcentrations))*pt(t,pind,indPathMeans,indPathStds);\n",
    "            return fexposure(i,t,(baseconcentrations))*norm.pdf(t,indPathMeans[i],indPathStds[i])*pind[i];\n",
    "        total = total + integrate.quad(f,low,high,args=())[0];\n",
    "    return total/timeNormalization;\n"
   ]
  },
  {
   "cell_type": "code",
   "execution_count": 7,
   "metadata": {
    "collapsed": false
   },
   "outputs": [],
   "source": [
    "#Generating path and time list\n",
    "\n",
    "def pathAndTimeGen(days,pind,indPathMeans,indPathStds):\n",
    "    indPathAndTime = [];\n",
    "    #Pick a random path based on P_I = pind\n",
    "    for i in range(0,days):\n",
    "        randomNumber = random.uniform(0,1);\n",
    "        pathLimit=0;\n",
    "        for r in range(0,len(pind)):\n",
    "            pathLimit = pathLimit+pind[r];\n",
    "            if(randomNumber<pathLimit):\n",
    "                randomPath = r;\n",
    "                break;\n",
    "        #Find a random time that it took for that path based on normal distribution for that path\n",
    "        pathUserTime = random.normalvariate(indPathMeans[randomPath],indPathStds[randomPath]);\n",
    "        indPathAndTime.append([randomPath,pathUserTime]);\n",
    "    return indPathAndTime;\n",
    "\n",
    "def environGen(regions,base,variation,days):#makes a list of environmental conditions\n",
    "    #for days number of days\n",
    "    #regions = number of Voronoi cells\n",
    "    #base = base concentration list, a list of length = regions\n",
    "    #variation = plus/minus range of variation in the values\n",
    "    environment = [];\n",
    "    for i in range(0,days):\n",
    "        dailyConditions = [];\n",
    "        for region in range(0,regions):\n",
    "            dailyConditions.append(base[region]+random.uniform(-variation,variation));\n",
    "        environment.append(dailyConditions);\n",
    "    return [environment,base];\n",
    "\n",
    "\n",
    "#userData = pathAndTimeGen(150);\n",
    "#environment = environGen(7,[1.1,1.8,1.4,0.9,1.6,1.0,1.8],0.3,3);\n",
    "\n",
    "#print(environment);\n",
    "\n",
    "#print(environment[1]);\n"
   ]
  },
  {
   "cell_type": "code",
   "execution_count": 8,
   "metadata": {
    "collapsed": false
   },
   "outputs": [],
   "source": [
    "#########\n",
    "#EMPERICAL MSE START\n",
    "\n",
    "\n",
    "def gest(time,trainedParam, concens):#this is g(time)\n",
    "    total = 0;\n",
    "    for x in range(0,len(trainedParam[0])):\n",
    "        total = total + fexposure(x,time,concens)*probxgiventBel(x,time,trainedParam)\n",
    "    return total\n",
    "\n",
    "#print(\"g(960) = \"+str(gest(960)))\n",
    "\n",
    "\n",
    "def empAveSquareError(trainedParam,pathAndTime, environment, startDay, periodLength):#Returns\n",
    "    #empirically observed average square error\n",
    "    #trainedParam = individual's hyperparameters after most current training\n",
    "    #pathAndtime = list of [path,time] observations for the user on which we train and test\n",
    "    #environment = list of lists, each of which is daily conditions in the Voronoi cells\n",
    "    #startDay = first day on which to start testing.  Days start counting with 0 (!!!)\n",
    "    #periodLength = length (in days) of this testing perios\n",
    "    squaresum = 0;\n",
    "    dayContribution = 0;\n",
    "    for day in range(0,periodLength):\n",
    "        path = pathAndTime[startDay+day][0];\n",
    "        time = pathAndTime[startDay+day][1];\n",
    "        concens = environment[startDay+day];\n",
    "        dailyContribution = (fexposure(path,time,concens)-gest(time,trainedParam,concens))**2\n",
    "        squaresum = squaresum + dailyContribution;\n",
    "    return squaresum/periodLength;\n"
   ]
  },
  {
   "cell_type": "code",
   "execution_count": 9,
   "metadata": {
    "collapsed": false
   },
   "outputs": [],
   "source": [
    "#########\n",
    "#OLD AND SLOW THEORETICALLY MINIMAL MSE FOR CHANGING ENVIRONMENT BEGIN\n",
    "\n",
    "\n",
    "\n",
    "def integrand(t, concens,pind,indPathMeans,indPathStds):#integrand in the MSE calculation\n",
    "    #concens = list of pollutant concentrations in the cells\n",
    "    #pind = list of individual true route selecction probabilities\n",
    "    #indPathMeans = list of individual's mean travel times on each path\n",
    "    #indPathStds = list of individual's standard deviations of travel times on each path\n",
    "    term1 = 0;\n",
    "    term2sum = 0;\n",
    "    term2 = 0;\n",
    "    for i in range(0,len(pathMeanTimes)):\n",
    "        term1 = term1 + ((fexposure(i,t,concens))**2)*norm.pdf(t,indPathMeans[i],indPathStds[i])*pind[i];\n",
    "    for i in range(0,len(pathMeanTimes)):\n",
    "        term2sum = term2sum + fexposure(i,t,concens)*norm.pdf(t,indPathMeans[i],indPathStds[i])*pind[i];\n",
    "    term2 = (term2sum**2)/pt(t,pind,indPathMeans,indPathStds);\n",
    "    return term1 - term2;\n",
    "\n",
    "\n",
    "def theoreticalmse(M,baseconc,confidencepct,pind,indPathMeans,indPathStds,variation):#computes confidence interval\n",
    "    #for relative MSE with:\n",
    "    #M = number of runs (trials)\n",
    "    #baseconc = base concentration list\n",
    "    #confidencepct  = confidence level in percent\n",
    "    #pind = list of individual true route selecction probabilities\n",
    "    #indPathMeans = list of individual's mean travel times on each path\n",
    "    #indPathStds = list of individual's standard deviations of travel times on each path\n",
    "    sqrunErAve = 0.0; #running average mean squared error\n",
    "    frunAve =  0.0; # running average average value of f_epsilon(x,t)\n",
    "    sqErtotal = 0.0; # total running square error\n",
    "    relErrorList = [];\n",
    "    errorList = [];\n",
    "    averagefValue = avef(baseconc,pind,indPathMeans,indPathStds);\n",
    "    for trial in range(0,M):\n",
    "        concens = [0,0,0,0,0,0,0,0,0,0,0,0,0,0,0,0,0,0];\n",
    "        for region in range(len(baseconc)):\n",
    "            concens[region] = baseconc[region]+random.uniform(-variation,variation);#change environment\n",
    "        mse = integrate.quad(integrand,low,high,args=(concens,pind,indPathMeans,indPathStds))[0];\n",
    "        #integrate from low to high for about 6 standard deviations above and below mean times\n",
    "        errorList.append(mse);\n",
    "        relErrorList.append(mse/(averagefValue**2));\n",
    "        #print(str(trial), end=\"\");\n",
    "    #\n",
    "    std = numpy.std(relErrorList,ddof=1); #sample stdev of observed relative error\n",
    "    tcv = t.ppf((100-confidencepct)/200,df = M-1,loc = 0, scale = 1); #critical value for our confidence\n",
    "    mseest = numpy.mean(relErrorList);\n",
    "    mseSqrtest = numpy.sqrt(mseest);\n",
    "    confidence = [mseest - (-tcv*std)/numpy.sqrt(M), mseest +(-tcv*std)/numpy.sqrt(M)];\n",
    "    #\n",
    "    msePctest = mseest*100;\n",
    "    mseSqrtPctest = mseSqrtest*100;\n",
    "    msePctConfidence = [];\n",
    "    mseSqrtPctConfidence = [];\n",
    "    for i in range(0,len(confidence)):\n",
    "        msePctConfidence.append(100*confidence[i]);\n",
    "        mseSqrtPctConfidence.append(100*numpy.sqrt(confidence[i]));\n",
    "    \n",
    "    return [msePctest,msePctConfidence,mseSqrtPctest, mseSqrtPctConfidence,confidencepct];\n",
    "\n"
   ]
  },
  {
   "cell_type": "code",
   "execution_count": 10,
   "metadata": {
    "collapsed": true
   },
   "outputs": [],
   "source": [
    "#########\n",
    "#NEW AND FASTER THEORETICALLY MINIMAL MSE FOR CHANGING ENVIRONMENT BEGIN\n",
    "\n",
    "\n",
    "\n",
    "\n",
    "def environExp(wvec, environBase, environVar):#component of expectation over the environment\n",
    "    #calculates the expected value of (environment \\cdot wvec)^2 where the environment in cell i\n",
    "    #fluctuates randomly with mean environBase[i] and fluctuation uniform in plus/minus environVar[i]\n",
    "    #in the theoretical MSE calculation, wvec = pct time in each region for the first term\n",
    "    #and a sum of percent time time probabilities in the second term\n",
    "    term1=0;\n",
    "    term2=0;\n",
    "    for region in range(0,len(wvec)):\n",
    "        term1 = term1 + ((wvec[region]**2)*((environBase[region])**2 + (1/3)*(environVar[region]**2)));\n",
    "    for region1 in range(0,len(wvec)):\n",
    "        for region2 in range(region1+1, len(wvec)):\n",
    "            term2 = term2+ 2*wvec[region1]*wvec[region2]*environBase[region1]*environBase[region2];\n",
    "    return term1 + term2;\n",
    "\n",
    "def wVector(t,pcts,muX,sigmaX,pX):#this is the vector dotted with the environment in the second term\n",
    "    #pcts = list of lists.\n",
    "    #pcts[i] = list of percent of time in each region for path i\n",
    "    #muX = person's true mean travel time for each path\n",
    "    #sigmaX = person's true time standard deviation for each path\n",
    "    #pX = person's true path probabilities\n",
    "    returnVector = [];\n",
    "    for region in range (0,len(pcts[0])):\n",
    "        returnVector.append(0);\n",
    "    ptGx = 0;#true p(t|x)\n",
    "    for i in range (0,len(pX)):\n",
    "        ptGx = norm.pdf(t,muX[i],sigmaX[i]);\n",
    "        #print(ptGx);\n",
    "        for region in range (0,len(pcts[0])):\n",
    "            returnVector[region] = returnVector[region]+(ptGx*pX[i]*pcts[i][region]);\n",
    "    return returnVector;\n",
    "\n",
    "def theMseTerm1(pX, muX, sigmaX, pcTime, environBase, environVar): #term 1 of the MSE calculation\n",
    "    total = 0;\n",
    "    for x in range(0,len(pX)):\n",
    "        total = total + pX[x]*(muX[x]**2 + sigmaX[x]**2)*environExp(pcTime[x],environBase,environVar);\n",
    "    return total;\n",
    "\n",
    "def theMseTerm2integrand(t,pcts,muX,sigmaX,pX,environBase,environVar): #integrnd for term 2\n",
    "    wVec = wVector(t,pcts,muX,sigmaX,pX);\n",
    "    return(((t**2)/pt(t,pX,muX,sigmaX))*environExp(wVec,environBase,environVar));\n",
    "\n",
    "def theoreticalmsenew(pctime,pX,muX,sigmaX,environBase,environVar): #MSE calculation\n",
    "    part1 = theMseTerm1(pX,muX,sigmaX,pctime,environBase,environVar)\n",
    "    part2 = integrate.quad(theMseTerm2integrand,low,high,args=(pctime,muX,sigmaX,pX,environBase,environVar))[0];\n",
    "    return 100*numpy.sqrt(part1-part2)/avef(environBase,pX,muX,sigmaX);\n"
   ]
  },
  {
   "cell_type": "code",
   "execution_count": 11,
   "metadata": {
    "collapsed": false
   },
   "outputs": [],
   "source": [
    "#Train-test regime for one person\n",
    "\n",
    "def regime(pathAndTime,environment,indData,variation):#Train-test regime\n",
    "    #pathAndTime = list of individual's (path,time) data\n",
    "    #environment = [list of lists environmental conditions, base conditions]\n",
    "        #that is, first entry in environment is a list of lists, each of which is a list of cell \n",
    "        #conditions and the second entry is the list of base cell conditions\n",
    "    #indData = true probabilities and hyperparameter m initialization\n",
    "        # [pind, indPathMeans, indPathStds, mInit] with\n",
    "        #pind = list of individual true route selecction probabilities\n",
    "        #indPathMeans = list of individual's mean travel times on each path\n",
    "        #indPathStds = list of individual's standard deviations of travel times on each path\n",
    "        #mInit = initialization of hyperparameter m\n",
    "    #mseRuns = number of runs with which to estimate theoretical MSE (does not use pathAndTime)\n",
    "    #variation = amount of variation on base conditions with respect to which to estimate theory MSE\n",
    "    empMSEList = [];\n",
    "    varvector = [];\n",
    "    for region in range(0,len(environment[1])):\n",
    "        varvector.append(variation);\n",
    "    #varvector = [1,1,1,1,1,1,1,1,1,1,1,1,1,1,1,1,1,1];\n",
    "    #TrainDuration = [7,14,22,32];#training duration in each cycle\n",
    "    #TestDays = [7,8,10,12]#number of test days in each cycye\n",
    "    #TrainDuration = [7,14,22,32,44,69];#training duration in each cycle\n",
    "    #TestDays = [7,8,10,12,15,18]#number of test days in each cycye\n",
    "    #TrainDuration = [20,30,45,65,90,120];#training duration in each cycle\n",
    "    #TestDays = [10,15,20,25,30,35]#number of test days in each cycye\n",
    "    #TrainDuration = [250,500,750];\n",
    "    #TestDays = [250,250,250];\n",
    "    TrainDuration = [5,10,20,30,40];\n",
    "    TestDays = [250,250,250,250,250];\n",
    "    numberOfPaths = len(indData[0]);\n",
    "    averagef  = avef(environment[1],indData[0],indData[1],indData[2]);\n",
    "    newtheoryMse = theoreticalmsenew(percentOfTimeInEachRegion,indData[0],indData[1], indData[2], environment[1],varvector);\n",
    "    for cycle in range(0,len(TrainDuration)):\n",
    "        cycleAveSqErr = 0;\n",
    "        trainedParam = [];\n",
    "        #startDay = TrainDuration[cycle];\n",
    "        startDay = (cycle+1)*250;\n",
    "        periodLength = TestDays[cycle];\n",
    "        trainedParam = training(numberOfPaths,pathAndTime,TrainDuration[cycle],indData[3]);\n",
    "        cycleAveSqErr = empAveSquareError(trainedParam,pathAndTime,environment[0],startDay,periodLength);\n",
    "        #print(\"\\n\"+\"cycle sqrt of mse = \"+str(numpy.sqrt(cycleAveSqErr)));\n",
    "        empMSEList.append(100*numpy.sqrt(cycleAveSqErr)/(averagef));\n",
    "        #empMSEList.append(round(numpy.sqrt(2),2));\n",
    "    #print(\"\\n\");\n",
    "    #print(\"Theory MSE pct = \"+str(theoryMse));\n",
    "    #print(\"Average f value =\"+str(averagef));\n",
    "    return [empMSEList,newtheoryMse];\n",
    "\n",
    "\n",
    "        \n",
    "    \n",
    "    \n",
    "    \n"
   ]
  },
  {
   "cell_type": "code",
   "execution_count": 12,
   "metadata": {
    "collapsed": false
   },
   "outputs": [],
   "source": [
    "#regimeVariation = 0.9;\n",
    "#regimeBase = [1.1, 1.3, 0.9, 1.0, 1.2, 1.3, 0.9];\n",
    "#regimeVariation = 0.4;\n",
    "#regimeBase = [1.1,1.8,1.4,0.9,1.6,1.0,1.8];\n",
    "#environment = environGen(7,regimeBase,regimeVariation,100);\n",
    "#userTrueData = [P_I,pathMeanTimes,pathStdOfTimes,[0,0,0,0,0]];\n",
    "#userPathData = [[1,554,],[2,311,],[1,760,],[2,409,],[2,478,],[1,679,],[2,378,],[2,329,],[1,723,],[2,523,],[3,420,],[2,482,],[2,423,],[1,708,],[4,773,],[2,396,],[1,617,],[2,361,],[2,367,],[2,369,],[2,433,],[2,366,],[2,382,],[1,691,],[1,728,],[2,373,],[2,522,],[2,369,],[1,744,],[2,434,],[2,378,],[2,368,],[2,358,],[1,663,],[2,372,],[2,369,],[2,362,],[2,350,],[1,669,],[1,700,],[2,383,],[2,367,],[2,381,],[2,383,],[2,368,],[1,725,],[1,626,],[1,764,]]\n",
    "#\n",
    "#\n",
    "#TestMSE = regime(userPathData,environment,userTrueData,20,regimeVariation);\n",
    "\n",
    "##print(str(TestMSE));\n",
    "\n",
    "#for i in range(0,len(TestMSE[0])):\n",
    "#    print(str(TestMSE[0][i])+\"  \", end=\"\");\n",
    "#    #if i == len(MSElist)-1:\n",
    "##    print(\" \")\n",
    "#print(\"\\n\"+str(TestMSE[1]));"
   ]
  },
  {
   "cell_type": "code",
   "execution_count": 13,
   "metadata": {
    "collapsed": false,
    "scrolled": true
   },
   "outputs": [],
   "source": [
    "\n",
    "def multipleRegime(noPeople,peopleBase,peopleVar,regimeBaseEnv,regimeVar,dataDays):#\n",
    "    #noPeople = number of people doing the regime\n",
    "    #dataDays = number of days for which we have/want data\n",
    "    empMSElist = [];\n",
    "    newtheoryMSElist = [];\n",
    "    personlist = [];\n",
    "    noRegions = len(regimeBaseEnv);# number of regions in Voronoi diagram\n",
    "    environment = environGen(noRegions,regimeBaseEnv,regimeVar,dataDays);#here for all people\n",
    "     #having the same environment\n",
    "    for people in range(0,noPeople):\n",
    "    #print(\"\\n\");\n",
    "        indPathMeans = [];\n",
    "        indPathStds = [];\n",
    "        pind = [];\n",
    "        pindTemp = [];\n",
    "        denominator = 0;\n",
    "        for path in range(0,len(peopleBase[0])):\n",
    "            pindTemp.append(peopleBase[0][path]+random.uniform(0,peopleVar[0]))\n",
    "            indPathMeans.append(peopleBase[1][path]+random.uniform(-peopleVar[1],peopleVar[1]));\n",
    "            indPathStds.append(peopleBase[2][path]+random.uniform(-peopleVar[2],peopleVar[2]));\n",
    "        for path in range(0,len(peopleBase[0])):\n",
    "            denominator = sum(pindTemp);\n",
    "            pind.append(pindTemp[path]/denominator);\n",
    "        #print(str(pind));\n",
    "        userPathData = pathAndTimeGen(dataDays,pind,indPathMeans,indPathStds);\n",
    "        #environment = environGen(7,regimeBaseEnv,regimeVar,dataDays);#here for each person\n",
    "        #having a different environment\n",
    "        personTrueData = [pind,indPathMeans,indPathStds,peopleBase[3]];\n",
    "        personMSE = regime(userPathData,environment,personTrueData,regimeVar);\n",
    "        empMSElist.append(personMSE[0]);\n",
    "        newtheoryMSElist.append(personMSE[1]);\n",
    "        #theoryMSEConflist.append(personMSE[2]);\n",
    "        #newtheoryMSElist.append(personMSE[3]);\n",
    "        personlist.append(personTrueData);\n",
    "        \n",
    "    return [empMSElist,newtheoryMSElist,personlist];\n",
    "\n",
    "    \n",
    "            "
   ]
  },
  {
   "cell_type": "code",
   "execution_count": null,
   "metadata": {
    "collapsed": false
   },
   "outputs": [],
   "source": []
  },
  {
   "cell_type": "code",
   "execution_count": 14,
   "metadata": {
    "collapsed": false
   },
   "outputs": [],
   "source": [
    "peopleBase = [P_I, pathMeanTimes, pathStdOfTimes,[0,0,0,0,0]];\n",
    "peopleVar = [0.5,600,60];\n",
    "regimeVariation1 = 1;\n",
    "regimeBase1 = [4,3,2,5,5,2,6,5,6,4,3,3];\n",
    "#environment = environGen(7,regimeBase1,regimeVariation1,100);\n",
    "#userTrueData = [P_I,pathMeanTimes,pathStdOfTimes,[0,0,0,0,0]];\n",
    "\n",
    "\n",
    "regimeCycle1 = multipleRegime(100, peopleBase, peopleVar, regimeBase1,regimeVariation1,6000)\n",
    "\n",
    "#for k in range(0,5):\n",
    "#    print(regimeCycle1[0][k]);\n",
    "#    print(regimeCycle1[1][k]);\n",
    "#    print(\" \");\n"
   ]
  },
  {
   "cell_type": "code",
   "execution_count": 15,
   "metadata": {
    "collapsed": false
   },
   "outputs": [],
   "source": [
    "peopleBase = [P_I, pathMeanTimes, pathStdOfTimes,[0,0,0,0,0]];\n",
    "peopleVar = [0.5,600,60];\n",
    "regimeVariation2 = 0.75;\n",
    "regimeBase2 = [3,2,3,4,3,4,4,4,3,3,4,2];\n",
    "#environment = environGen(7,regimeBase,regimeVariation,100);\n",
    "#userTrueData = [P_I,pathMeanTimes,pathStdOfTimes,[0,0,0,0,0]];\n",
    "\n",
    "\n",
    "regimeCycle2 = multipleRegime(100, peopleBase, peopleVar, regimeBase2,regimeVariation2,6000)\n"
   ]
  },
  {
   "cell_type": "code",
   "execution_count": 16,
   "metadata": {
    "collapsed": false
   },
   "outputs": [],
   "source": [
    "peopleBase = [P_I, pathMeanTimes, pathStdOfTimes,[0,0,0,0,0]];\n",
    "peopleVar = [0.5,600,60];\n",
    "regimeVariation3 = 0.5;\n",
    "regimeBase3 = [2,2,3,2,3,2,3,2,3,3,2,2];\n",
    "#environment = environGen(7,regimeBase,regimeVariation,100);\n",
    "#userTrueData = [P_I,pathMeanTimes,pathStdOfTimes,[0,0,0,0,0]];\n",
    "\n",
    "\n",
    "regimeCycle3 = multipleRegime(100, peopleBase, peopleVar, regimeBase3,regimeVariation3,6000)\n"
   ]
  },
  {
   "cell_type": "code",
   "execution_count": 17,
   "metadata": {
    "collapsed": false,
    "scrolled": false
   },
   "outputs": [],
   "source": [
    "def sumarize(regimeResults):\n",
    "    rounds = [];\n",
    "    averages = [numpy.mean(regimeResults[1])];\n",
    "    highvec = [numpy.max(regimeResults[1])];\n",
    "    lowvec = [numpy.min(regimeResults[1])];\n",
    "    for i in range(0,len(regimeResults[0][0])):\n",
    "        rounds.append([]);\n",
    "    for person in range(0,len(regimeResults[1])):\n",
    "        for i in range(0,len(rounds)):\n",
    "            rounds[i].append(regimeResults[0][person][i]);\n",
    "    for i in range(0,len(rounds)):\n",
    "        averages.append(numpy.mean(rounds[i]));\n",
    "        lowvec.append(numpy.min(rounds[i]));\n",
    "        highvec.append(numpy.max(rounds[i]));\n",
    "    return [averages, lowvec, highvec];\n",
    "\n",
    "\n"
   ]
  },
  {
   "cell_type": "code",
   "execution_count": 18,
   "metadata": {
    "collapsed": false,
    "scrolled": true
   },
   "outputs": [
    {
     "name": "stdout",
     "output_type": "stream",
     "text": [
      "\n",
      "\n",
      "\n",
      "[5.2085221640580661, 8.7391743554021719, 7.4469255040055895, 6.1799540968302225, 5.7265803140977667, 5.6649229717684815]\n",
      "[1.5080736460087985, 4.5962449795718427, 3.5858248359319087, 1.9466271386012099, 1.5828273321486468, 1.2881975543261526]\n",
      "[10.029109387976854, 14.746513220781694, 14.269921224275224, 11.730553088485381, 12.739526333482223, 11.88654730959883]\n"
     ]
    }
   ],
   "source": [
    "summary = sumarize(regimeCycle1);\n",
    "\n",
    "print(\"\\n\\n\");\n",
    "print(summary[0]);\n",
    "print(summary[1]);\n",
    "print(summary[2]);"
   ]
  },
  {
   "cell_type": "code",
   "execution_count": 19,
   "metadata": {
    "collapsed": false
   },
   "outputs": [
    {
     "name": "stdout",
     "output_type": "stream",
     "text": [
      "\n",
      "\n",
      "\n",
      "[6.0065236853657504, 9.3375551247465758, 8.2296187341151867, 6.8839388457837005, 6.7064659422797446, 6.2037132090448042]\n",
      "[2.0383517817244483, 4.2914409427183848, 3.8516890106027231, 1.6333129239613335, 2.1488617501924443, 2.1930231807334506]\n",
      "[10.479113613949876, 16.700057898846183, 13.374865292005557, 11.988232304880306, 12.232714452591999, 10.77664910062936]\n"
     ]
    }
   ],
   "source": [
    "summary = sumarize(regimeCycle2);\n",
    "\n",
    "print(\"\\n\\n\");\n",
    "print(summary[0]);\n",
    "print(summary[1]);\n",
    "print(summary[2]);"
   ]
  },
  {
   "cell_type": "code",
   "execution_count": 20,
   "metadata": {
    "collapsed": false,
    "scrolled": true
   },
   "outputs": [
    {
     "name": "stdout",
     "output_type": "stream",
     "text": [
      "\n",
      "\n",
      "\n",
      "[2.7537011606986175, 4.4884054839313503, 3.7335233762844187, 3.2669839829023379, 3.1109014326421738, 3.0502081733255051]\n",
      "[0.93637560376032014, 2.8913890518033312, 1.9309158829141462, 1.6744218295420377, 0.94853858431707927, 0.9295761340712978]\n",
      "[4.6279142313190587, 6.9922912845641019, 6.053595955542173, 5.3251916859273978, 5.5572497449758673, 5.5199807835848436]\n"
     ]
    }
   ],
   "source": [
    "summary = sumarize(regimeCycle3);\n",
    "\n",
    "print(\"\\n\\n\");\n",
    "print(summary[0]);\n",
    "print(summary[1]);\n",
    "print(summary[2]);"
   ]
  },
  {
   "cell_type": "code",
   "execution_count": 21,
   "metadata": {
    "collapsed": false
   },
   "outputs": [
    {
     "name": "stdout",
     "output_type": "stream",
     "text": [
      "[[[9.0220521791074262, 9.4773342215331997, 8.3386204960671257, 8.3916196665877258, 8.0833038083538948], [6.367349856155859, 6.115013135325972, 4.8884774054813924, 4.1910490723243257, 4.7190989502974743], [8.708843355101596, 9.0060359536289578, 6.8164344640817776, 7.3838416202132855, 5.9046112393199612], [7.7299029137938513, 6.7437869757750475, 4.6321842179910453, 4.1577164765686829, 4.3806978779504044], [9.6421862964978935, 9.3886218949349534, 7.016560071866059, 6.0674536501675407, 5.9224272757733276], [14.568449886717922, 7.209767120302268, 7.4676978915210013, 6.2139454803070828, 5.6432663111866725], [13.782291602601493, 11.744738881662849, 8.2643033224269793, 8.4083089840415308, 7.6491104147341087], [6.8535132562802978, 5.7924950206819519, 6.1008101111312794, 4.9605010830529555, 6.0641970288512361], [10.719904579297026, 7.5880546318194213, 6.401185060050917, 4.7524887630313062, 4.6196906023408983], [9.3237406559429292, 6.2043791421014109, 6.5096226237134109, 7.1707175045190663, 5.963340897945419], [8.1910947077158873, 7.2831226795383248, 6.1464995081657277, 4.6508849253031359, 5.3939374170060157], [14.746513220781694, 14.269921224275224, 9.5550171718786014, 8.6353911039802771, 9.1682669584308485], [5.4748781966119493, 5.9868037686055668, 4.8857872919168814, 2.7070608673808834, 2.6637442331758741], [11.179436843525794, 6.8645364849340202, 5.4037316119953136, 3.9616447271462953, 4.0780102792258113], [7.9800722125383627, 6.2836765993482633, 6.0062430473396216, 4.5073345906089353, 5.0779047116140932], [12.128677286398498, 10.33584210366995, 10.303899287404757, 9.1670485653361204, 9.9110069528497657], [4.733708612511915, 4.4799639737608281, 3.4916247673978709, 2.8754785975897308, 3.5408680964252972], [9.8200186114185666, 5.8980189433658872, 5.1122002294504609, 4.1117787384735189, 4.1237970469287735], [9.7681216072490127, 6.9692126312257665, 6.7019515616013559, 5.8678650050967178, 6.5087689852885173], [10.265902202735614, 4.661024298084258, 3.6388240914486092, 3.3569130624625427, 4.3524490409096028], [9.3639096768504935, 6.5298775742367985, 9.0861049217161085, 6.3742954880581948, 7.3952263346344873], [7.9345451548284123, 7.8874555875639363, 6.1508362497939588, 5.7929520467742721, 6.7387568219905685], [7.9052537576014688, 7.5526090338552345, 6.3332512804897734, 5.333457264091102, 6.054808168293115], [10.951457672037924, 10.199959592757494, 7.3740033228124258, 7.0731520808701349, 6.8947498029233873], [7.4461686528281401, 6.6380109803462775, 6.3836936148014303, 8.337438158691505, 6.1610981949476571], [9.5743939982815931, 8.0965252182266845, 6.96921917712364, 8.4900756362899248, 9.0245527722940562], [6.0069789970904113, 5.3931619030266535, 4.649407338514064, 4.0985004208328171, 4.5898355878958963], [7.1132928325654996, 7.1467296065996386, 6.2644505999567688, 6.3438628013302978, 6.0091912653354482], [6.7709424810599677, 5.8552653693406542, 4.5757910848040693, 4.5011506940653039, 4.7485341819541125], [10.167887623708193, 7.3583273336744135, 5.7633959849402503, 5.2033804219379123, 7.0433485007927237], [7.2105663105799431, 5.9525700734140088, 4.4189533376033552, 4.1204302985090662, 5.0571416193273331], [8.2366032454826303, 8.0498718022109799, 7.6009708131834319, 7.5985424239196897, 7.4426627658397662], [6.9405779852059686, 7.9318298797098779, 5.295760319319248, 4.3547445428714928, 6.001134025274685], [9.3908663432509289, 7.7034804977794122, 5.7847989573588494, 7.0043420084440235, 6.7295269584840209], [6.773706173963987, 7.0534778138802174, 5.8855930502165563, 6.2429703935837102, 5.9456807722387381], [9.4362238120066557, 7.5849204293471288, 6.9962997748389668, 7.3149655821216939, 7.3860709323841798], [8.1893993970262198, 6.3276541746873702, 5.9782238225712865, 5.3218778528053239, 5.3469810360675627], [8.0797513757812389, 6.0246021447465763, 5.4045241770317141, 4.9481759771062812, 4.557398860324394], [10.178671853804582, 8.4769002036375909, 6.7326757110310691, 6.028630870481031, 5.2851093344187081], [8.3259562562331233, 6.9703605730963201, 6.4884809662758336, 6.1518692422101999, 6.3633729643768726], [5.889501030295488, 5.8163226275333688, 5.0929812025828101, 6.4075886595417826, 5.4815612903149331], [9.5075020011895592, 12.555709765274887, 9.7168336652820777, 8.3291104483035383, 9.7679496709324951], [10.476142662852199, 6.8383546318680608, 5.6754260970893418, 6.29478003621439, 6.0840176187299502], [7.6816528259703833, 5.8865634882307711, 4.6190335173950725, 5.1453883151241415, 5.0297999348203346], [11.763942657982421, 12.655942287371801, 11.730553088485381, 10.72975025057605, 10.176113213878027], [7.9619832619591095, 6.8860896896492543, 5.299227637607526, 5.0463075044922512, 4.8888590574779682], [10.421743071649233, 6.5685055947139181, 5.6806916140640249, 5.3597092830099351, 5.7417082483763382], [7.5153586500594596, 6.8945868024597621, 5.1684610565111129, 5.4301646615316308, 5.0531215414973394], [6.6624189121845454, 6.6485595187381312, 6.9369198809466521, 5.9571929189696577, 4.4651283598972515], [8.4772534416311718, 6.8295369951529539, 6.036803597303269, 6.5524000008087491, 6.1261883418503116], [8.7120011570109703, 8.2498324687884992, 6.5635220068640487, 4.2717821788645187, 4.208615112867256], [8.6012453818705605, 7.1028315225716048, 5.0034859545991779, 3.7659420707321072, 4.1160697229449861], [6.14747978712614, 5.9867121604900868, 5.63986742431966, 4.9362559248549784, 5.2078892096753782], [8.9917708752841214, 10.231018463186155, 5.8587166874490713, 5.7083793975853832, 5.9411888652440243], [9.7196746642820706, 8.7599274038131387, 6.7949025227604816, 6.15663234790998, 6.3395293056177664], [9.6087013139313715, 8.1147778615984389, 6.9051176692751808, 9.1045991954199046, 7.7169152332527693], [11.057221810574639, 13.089444859641223, 5.4368312004660053, 4.1999414714858956, 4.7531716193580378], [14.47391847508559, 8.9065456075916565, 6.1920436163518024, 7.0437825193476113, 5.3927117519049421], [7.3104771230059455, 8.7544242497197473, 6.5125205172988245, 5.7903746936126819, 5.343883926080383], [8.7781830362142124, 7.3626780728095289, 8.1894162543965034, 4.8889312298380263, 4.2977293202811468], [8.3802055478071509, 7.214813824625633, 6.0030133200384022, 5.7824896491525291, 6.0478343922341917], [6.6908014329850634, 5.7258506753089238, 5.3194150622322134, 3.9713882295932934, 3.9159076094380105], [13.784664280763403, 6.2464073188385196, 1.9466271386012099, 1.5828273321486468, 1.2881975543261526], [8.0650721774983598, 7.599568117926947, 6.5598445167305872, 6.7569922305291277, 6.143489426865921], [8.1403006827178022, 7.4904117363044058, 6.6782200787640749, 6.7339045935439543, 6.2779626885529041], [6.4137137369743877, 5.7363144022001959, 4.1400926117503829, 5.2799455500486161, 4.8280964192317191], [9.5641885959877104, 7.2249464601465716, 4.3782983003558051, 5.3486805342366175, 4.5389100650128746], [4.5962449795718427, 3.5858248359319087, 3.2291728116813898, 3.2260739529251254, 3.1664891291616319], [11.063276443650736, 10.83151934795492, 9.8129414713175453, 9.3854684720586778, 8.7156890274612753], [5.8422545352473279, 4.7660731560280931, 4.3329922188635281, 4.4688014866216088, 4.4993332467781864], [7.0263704280471693, 9.1899813591533341, 6.3900460386650373, 4.1350014690375962, 4.2553581498695179], [6.679550565470362, 7.9188769144243123, 3.8435906458337588, 3.1015663265190696, 3.0603554604947778], [8.9288128703102991, 8.7680043632178624, 8.8764425171824008, 8.1973043527136689, 7.7961169901289189], [8.9411123745277106, 6.5477420765709935, 3.7651926514825451, 3.2813976105205609, 3.582782475693957], [11.418073477844388, 6.4268380084556389, 4.5380296417144352, 4.3105988465787837, 4.0890489251740272], [6.4991415012258802, 6.6329722724937614, 4.0443882633559385, 3.1432761767973916, 3.1314269880727488], [10.559730243763314, 11.584358268854436, 5.6134550503909422, 3.2577286112482158, 3.4790476632527487], [7.6573632573327384, 6.7957063469059475, 6.1421486135622816, 5.4945230206741131, 5.9666235048676866], [4.7607719745597139, 4.5982493167856822, 4.37117335923688, 4.4902083177960863, 3.7595035711380285], [11.000689836076381, 9.5928955090508072, 7.8142567795693454, 8.6220221190157744, 9.186164295710018], [6.0152308463733304, 4.4253015903041417, 3.726723751750153, 3.6281118680876934, 2.1012334975536282], [14.457847135383076, 11.137746555897142, 11.593859397901824, 12.739526333482223, 5.1094352892806993], [10.793140975091028, 10.854360053829485, 9.7289685428122201, 9.2611660308879138, 11.88654730959883], [6.9181242421083819, 7.4470969906530113, 9.060314845069616, 7.3084817204305468, 7.9376546623964641], [8.0628639003530473, 5.9021915109401295, 5.5098827967832795, 5.1836031212155067, 4.092540259269593], [10.210974530263183, 6.383063302169707, 4.6241745044874705, 4.5966088686241884, 5.1465254028489849], [10.801654140721396, 7.5326462196046755, 7.4843050965277351, 4.9211513420919966, 5.6145061139896715], [7.4441684446697254, 5.0914526223912286, 4.992116754433809, 4.1851373052023479, 3.3756558801539551], [7.3329858621358337, 6.3846750637572933, 5.9934969932306252, 5.2784005820797377, 5.8053803305797596], [6.1989786667968536, 5.593834073352868, 4.6192734388968306, 4.5500724780796205, 4.735196370268457], [9.4599224730518401, 6.3927151095221397, 5.8919656271710652, 5.1408384474704132, 5.6980914554513999], [7.8541346167059007, 6.7561496206275944, 8.2183549164056942, 5.9069358956201548, 7.0238179810240746], [5.434932369476698, 5.5964979348231276, 5.2746424135973662, 5.0221434615421039, 4.379861398401121], [7.0271808876535031, 6.2087799026952402, 5.8695153982930606, 6.15698511136703, 6.2865524925762823], [8.9143403811985262, 6.2604985281210324, 4.4855454825845653, 4.5617055596556657, 4.8242716175787761], [6.0494015721446219, 4.7142608839668059, 2.3383704700954677, 2.1231234339820988, 1.6366621221366831], [5.5132408141477471, 5.1043989974663084, 4.412105028981113, 4.2203534769813729, 3.7374005201176295], [10.683823588155633, 8.9843477736146067, 7.9301450921909442, 8.2682922897508249, 8.3500520764157891], [11.453492264692914, 10.151107707962161, 9.1709943238408975, 8.7341755407640758, 8.9487342459050048], [10.516675063401925, 8.1197680997670911, 8.3998497682786759, 7.0081498632928199, 7.3980101944288652]], [7.9825100928040422, 3.7172770314548642, 6.7665840160562949, 3.5870125243931725, 5.5694417341196294, 4.8878669889234203, 7.5748856600922272, 4.8717422681533602, 3.7925471456531401, 5.4840801052782675, 5.4054051177883711, 7.7923929233652993, 2.8139499144106894, 3.1368385617180383, 4.6133007757141149, 9.4117831094941486, 3.3923822502784122, 4.1608428055939228, 6.4930905720449257, 3.5110429279406272, 5.7320667798263019, 5.8757353348397983, 5.0611331049627468, 7.2465081720565827, 5.2672317818654761, 7.1907531255788921, 4.3408060747700512, 5.5962299473072905, 4.584026415262338, 5.9279238697988497, 4.1303609877023471, 7.4756305654599995, 5.1118601634566785, 6.6576874329428373, 5.4964327271258879, 6.8012688135100472, 5.2445393187984832, 4.2135002041860963, 5.8671538175263631, 5.9654947355068169, 5.1033860389172627, 8.3232437365102463, 5.5179392634227424, 5.1750120599541249, 10.029109387976854, 4.5640871808026953, 4.6397708646463567, 4.9088570375302707, 1.8593634574878286, 5.7658243606178035, 3.7890620921420868, 3.956309649148944, 4.9450647623214481, 4.765907513709144, 6.279233172781705, 7.0308799871297403, 4.9656501526639119, 5.411551684264496, 5.5458181462799319, 3.2378475355960838, 6.1024923488802916, 4.0430336787831722, 1.5080736460087985, 5.7845392960086022, 6.4251448200042445, 4.4087851532042164, 4.3059364009480747, 2.6408503403100037, 8.8956843602418498, 4.4708816178814592, 3.6777366741623978, 3.0185548393431589, 7.4121541498104841, 3.0096387062249712, 4.3206075574333012, 3.2294145637632736, 2.9597345178990344, 5.6447660046277823, 3.1018773915380287, 7.6095233352264362, 2.7588247489464304, 4.0825114578199448, 8.378410683847882, 7.0834897695843297, 4.5376634273797558, 4.4648630842109513, 4.8156215180190243, 2.8229726522384913, 5.5383695118353504, 4.017540874120975, 4.9829798704785881, 6.4019234102570293, 4.0071840880886844, 5.7311347239215857, 4.481887269079242, 2.2297693502658995, 3.8155206604884118, 7.6724054011238696, 8.6058026694238787, 7.2886738507122812], [[[0.19629221903173608, 0.27734720527966206, 0.2286816419043746, 0.08823510842980192, 0.20944382535442516], [836.9557971458545, 1558.0492766704701, 1950.8937260490304, 1837.4856807542485, 2035.0184058039206], [120.4033950996744, 142.0395788629553, 116.88694081345687, 88.77561450098403, 134.58304639098358], [914.8802611022282, 1471.959710904721, 1680.3639238302962, 1712.9073006962976, 1736.101391648328]], [[0.15117560578180492, 0.3488450138719832, 0.1853555904522394, 0.11796155212749408, 0.1966622377664784], [1558.5080301588246, 1034.519921050532, 2180.349095146424, 1219.2134993695881, 1899.6036826060572], [24.402701177068387, 79.2395965691083, 62.42879033618024, 118.28176834364285, 149.12133391844588], [914.8802611022282, 1471.959710904721, 1680.3639238302962, 1712.9073006962976, 1736.101391648328]], [[0.1413817198392257, 0.4207763820094879, 0.18901724254882435, 0.07076047216688686, 0.17806418343557517], [1460.9782938138364, 1520.4916400333132, 1940.544770549658, 1781.914396932107, 1822.7562266137957], [109.4179704640294, 129.32629281252935, 141.05756712515756, 83.595943162439, 35.98093946805975], [914.8802611022282, 1471.959710904721, 1680.3639238302962, 1712.9073006962976, 1736.101391648328]], [[0.11325468864137835, 0.3539488418522218, 0.24553740726340093, 0.19814086213972434, 0.0891182001032746], [1152.1739227863761, 1913.9054838534787, 1309.7782281720463, 871.7690535930681, 1678.3781587173034], [90.5492152093478, 97.64742200254418, 104.55575937460723, 74.4808920543359, 38.20458146247569], [914.8802611022282, 1471.959710904721, 1680.3639238302962, 1712.9073006962976, 1736.101391648328]], [[0.09883661472510726, 0.28880254338261735, 0.1543621370086419, 0.24809089064477768, 0.20990781423885582], [1906.7889893439562, 1363.7931809727338, 1382.492881967532, 1911.771107964471, 1778.9375298092828], [57.821517852609766, 118.49182773321951, 159.23994060012507, 30.42239176209418, 127.23076245673343], [914.8802611022282, 1471.959710904721, 1680.3639238302962, 1712.9073006962976, 1736.101391648328]], [[0.10073018899003035, 0.2643130377241212, 0.2037757765514143, 0.19873202292879263, 0.23244897380564156], [1255.338684724336, 1263.047825153115, 2171.4228525019435, 1624.8402902389726, 1582.2703291178166], [44.32819115759093, 127.65751856109765, 41.91671986039466, 97.62303787144737, 141.65306440636107], [914.8802611022282, 1471.959710904721, 1680.3639238302962, 1712.9073006962976, 1736.101391648328]], [[0.15851495371849214, 0.22602762111244643, 0.19268600321487755, 0.20390261444623822, 0.21886880750794557], [1772.4482414520385, 1224.622421754083, 1871.0897967782403, 1698.1234152246861, 1220.3063754784853], [127.71987311997256, 106.47496409943176, 72.79942106612621, 120.62843388535502, 34.403736697212], [914.8802611022282, 1471.959710904721, 1680.3639238302962, 1712.9073006962976, 1736.101391648328]], [[0.22364067114837852, 0.2795354669816914, 0.10929699372695882, 0.24428626958518881, 0.14324059855778246], [827.270134462269, 1061.3488478137424, 1647.5380520471904, 1690.1917847063814, 2078.6971429590794], [118.7360027839884, 41.02396501196452, 107.47623572798189, 26.086251088457388, 35.11068705039613], [914.8802611022282, 1471.959710904721, 1680.3639238302962, 1712.9073006962976, 1736.101391648328]], [[0.1897760466947863, 0.19372695912750434, 0.23350894326690938, 0.13902467834437265, 0.24396337256642736], [1384.0497947997192, 1195.2866156986465, 2042.8908913047676, 1033.5488884669858, 1776.8476012058072], [27.26232196842364, 72.12877700850373, 95.59412434761248, 28.714568069149834, 124.52439580561705], [914.8802611022282, 1471.959710904721, 1680.3639238302962, 1712.9073006962976, 1736.101391648328]], [[0.1612578818301453, 0.3219908432040506, 0.16151646847295387, 0.15001516888714106, 0.2052196376057093], [1002.6015340902989, 2145.8841175720877, 1831.4822494551854, 1520.535293545378, 2010.4903348891248], [62.980437943117074, 64.71881850039385, 131.6955363910824, 105.51877945857318, 121.77711066910598], [914.8802611022282, 1471.959710904721, 1680.3639238302962, 1712.9073006962976, 1736.101391648328]], [[0.11913660574400152, 0.35614712327810777, 0.22441554214419962, 0.08487322885006597, 0.21542749998362504], [1792.0556114332212, 1391.0226230813305, 1923.4523706964255, 1160.7992843667803, 1150.8323961499873], [78.04800909463283, 146.39262537150444, 51.67144960212997, 136.89651137366064, 52.14124417255357], [914.8802611022282, 1471.959710904721, 1680.3639238302962, 1712.9073006962976, 1736.101391648328]], [[0.09640636457785583, 0.3008089015509545, 0.1351752185666236, 0.2106956869730851, 0.2569138283314809], [959.6170375691097, 1855.480017301145, 2166.7410852807407, 1982.9081723124204, 2142.284446540144], [102.05436210924921, 39.85375919283623, 65.69098784151825, 70.85180398114883, 71.70920313775008], [914.8802611022282, 1471.959710904721, 1680.3639238302962, 1712.9073006962976, 1736.101391648328]], [[0.11548981449005948, 0.4188975414411409, 0.05248459261909773, 0.1687533322045362, 0.24437471924516577], [1075.2175046680345, 1776.3759268183612, 2046.075757378228, 1252.3497546613735, 1380.0432563248855], [74.38405976451709, 91.7877036408764, 49.4461650595281, 123.09952638529246, 31.066304007682618], [914.8802611022282, 1471.959710904721, 1680.3639238302962, 1712.9073006962976, 1736.101391648328]], [[0.0977547250326393, 0.2632757837633793, 0.22949569288373678, 0.1382110987868287, 0.27126269953341586], [1355.7943162780048, 1830.5951798229962, 1228.7629185336748, 1464.3776670428265, 2015.2259308791497], [39.72550306538453, 127.01831107838892, 57.93966647640107, 76.22409359407511, 98.57259227931155], [914.8802611022282, 1471.959710904721, 1680.3639238302962, 1712.9073006962976, 1736.101391648328]], [[0.23348324728858194, 0.19265899275037274, 0.2436240249324692, 0.048441680110556676, 0.2817920549180195], [1148.9890195046776, 2006.2514605290373, 1585.3090432451884, 1088.6117501503063, 1636.2102999706883], [23.520580791273822, 129.41288070453592, 88.54021050984042, 96.7010206468864, 33.991411377857695], [914.8802611022282, 1471.959710904721, 1680.3639238302962, 1712.9073006962976, 1736.101391648328]], [[0.17956318229951188, 0.23459219923849697, 0.2606778320404954, 0.20563396801955358, 0.11953281840194231], [1533.5409674472826, 1644.3793560876118, 1640.8963197350085, 1628.044284475799, 2056.9136579752753], [70.95659068778792, 112.10787887349211, 125.6736920146483, 112.07738714230476, 89.90009823446377], [914.8802611022282, 1471.959710904721, 1680.3639238302962, 1712.9073006962976, 1736.101391648328]], [[0.16831304585269916, 0.22911570666724485, 0.12780932298832604, 0.1669879381083299, 0.30777398638340003], [1776.1486674902046, 1934.4939930815472, 1260.8692002338298, 1637.5815115444593, 2136.2986598305224], [72.45033020246696, 98.19600911222892, 45.6363602395015, 89.76043294123662, 149.4705285838169], [914.8802611022282, 1471.959710904721, 1680.3639238302962, 1712.9073006962976, 1736.101391648328]], [[0.11629230166740318, 0.21068001394281435, 0.17828508460720757, 0.2349579290840235, 0.2597846706985514], [1664.5055068859067, 980.6649935562072, 2265.070721556788, 1738.1537781321351, 1553.878548488507], [96.43016613137031, 82.97012144457887, 158.56304712448974, 69.67935487342552, 114.79302716826726], [914.8802611022282, 1471.959710904721, 1680.3639238302962, 1712.9073006962976, 1736.101391648328]], [[0.24654243582574825, 0.2896009852203225, 0.07949402467224988, 0.15884617387202676, 0.2255163804096524], [1266.4824854327794, 1135.5931485439264, 1598.248252710025, 1578.061142005402, 1679.1847904568667], [131.220113343817, 150.33049348175993, 51.83523449683529, 100.51776726741261, 85.49956535567185], [914.8802611022282, 1471.959710904721, 1680.3639238302962, 1712.9073006962976, 1736.101391648328]], [[0.3127365487922768, 0.3055879522858354, 0.16694572612870412, 0.11201290595707367, 0.10271686683610998], [1289.6778741179228, 1023.5006606091355, 2068.4212391597994, 1353.2252717775102, 1316.8862995234808], [102.01719917320077, 134.81379646407967, 133.24782843680245, 82.56714276194144, 45.42952268776183], [914.8802611022282, 1471.959710904721, 1680.3639238302962, 1712.9073006962976, 1736.101391648328]], [[0.2762316706051059, 0.2840442078322415, 0.11915325652969136, 0.08579229858855295, 0.23477856644440825], [1865.8172499741752, 1374.5669523849874, 1624.146473938779, 914.7644799707689, 1571.8289921224991], [102.21627488730503, 67.01636209881693, 145.8888162157885, 137.65482557960922, 65.6741185093027], [914.8802611022282, 1471.959710904721, 1680.3639238302962, 1712.9073006962976, 1736.101391648328]], [[0.30903676613078795, 0.19133933756915925, 0.1552502073650241, 0.23612299370048376, 0.10825069523454493], [1072.7587636769827, 1696.2773401947888, 1236.9085036354606, 1575.0556782090202, 1173.126186939549], [41.746286681330425, 138.76941379796284, 92.18641464416066, 123.10709848631328, 98.48976254331009], [914.8802611022282, 1471.959710904721, 1680.3639238302962, 1712.9073006962976, 1736.101391648328]], [[0.13704695783987594, 0.19239647172301527, 0.15065528997173958, 0.19362739245467922, 0.32627388801069], [1746.701063037041, 2049.9901334588603, 1777.295911911644, 1056.339290872545, 1417.28385327859], [22.821669208766792, 69.12973465988513, 129.06594561120255, 101.79918435406242, 34.30760855144528], [914.8802611022282, 1471.959710904721, 1680.3639238302962, 1712.9073006962976, 1736.101391648328]], [[0.1598424882002314, 0.3250665042991015, 0.15607572680105944, 0.18423779407615917, 0.1747774866234484], [1461.2975886961844, 1620.982424408072, 1499.3173719014842, 1814.6802757698294, 1848.0691061178738], [60.253915856308815, 135.69337970472571, 124.62800885106581, 31.39390173645645, 134.58782244433056], [914.8802611022282, 1471.959710904721, 1680.3639238302962, 1712.9073006962976, 1736.101391648328]], [[0.15137341495562276, 0.2823131244907263, 0.16104895695485055, 0.17229184514682275, 0.23297265845197757], [1556.530460199987, 1172.946771868293, 1129.0810255071633, 1998.9474175577568, 1961.6098672889373], [31.065207024814796, 137.9098435112568, 152.26522083963968, 137.50037942729574, 38.41961138383092], [914.8802611022282, 1471.959710904721, 1680.3639238302962, 1712.9073006962976, 1736.101391648328]], [[0.09606637274234378, 0.2498886502370452, 0.2306604000071857, 0.15723094589190176, 0.26615363112152346], [917.7199978764036, 1225.119519284553, 1752.5804958039166, 1678.2104348605599, 1155.909451871111], [28.788712337033246, 96.64467296018137, 97.84221115846351, 121.26623617036668, 32.94747227560403], [914.8802611022282, 1471.959710904721, 1680.3639238302962, 1712.9073006962976, 1736.101391648328]], [[0.15380228696704143, 0.20075490166141005, 0.18827711169074487, 0.20356747282861368, 0.2535982268521901], [1830.4803649852422, 2035.662057753343, 1202.9702324100217, 1821.211277171788, 1110.9442063686574], [30.502225117885708, 101.9945534332075, 70.77706044970516, 80.61278523876516, 106.00938882693282], [914.8802611022282, 1471.959710904721, 1680.3639238302962, 1712.9073006962976, 1736.101391648328]], [[0.17981993865178186, 0.19404995333753805, 0.19481814454209542, 0.171177639449359, 0.26013432401922565], [1537.5246906026046, 1558.365144191714, 1195.3834531798843, 1607.9077797565187, 1024.7817240767658], [93.0703934077352, 75.08780777442067, 158.5662916647452, 114.72796175521697, 43.218576196536844], [914.8802611022282, 1471.959710904721, 1680.3639238302962, 1712.9073006962976, 1736.101391648328]], [[0.35179138635407675, 0.23842706638446845, 0.21068315625137135, 0.07551198836110509, 0.12358640264897836], [1643.5214013878128, 1459.331400265762, 1275.533506765339, 1585.202808527254, 1066.9284261743283], [44.77079421909271, 136.47754854051118, 73.6564351817726, 44.85165467228014, 109.9230471596716], [914.8802611022282, 1471.959710904721, 1680.3639238302962, 1712.9073006962976, 1736.101391648328]], [[0.18643595457260662, 0.3822546140722573, 0.09877722361896384, 0.16348695353691906, 0.16904525419925306], [1664.2384360070469, 1941.7574985386786, 1431.7285733207325, 1488.0111061873654, 1385.6112519736023], [72.4080108816672, 115.15029213852542, 152.5373947976246, 39.58185303783198, 118.94358060242776], [914.8802611022282, 1471.959710904721, 1680.3639238302962, 1712.9073006962976, 1736.101391648328]], [[0.13305364200056852, 0.3634208875973253, 0.07845546483402552, 0.24349667065810804, 0.18157333490997268], [1544.0876193998147, 1048.5307978448616, 1654.596018181916, 905.4354095944078, 2098.986458142264], [36.779496926391566, 115.94324093719749, 105.92444299022904, 122.04859286427597, 36.606682078360556], [914.8802611022282, 1471.959710904721, 1680.3639238302962, 1712.9073006962976, 1736.101391648328]], [[0.12612531157095755, 0.2886599784163654, 0.1415562279294991, 0.2396022569762892, 0.20405622510688876], [1582.0154325469302, 1637.678071136047, 1638.8332153612137, 1493.5857527121257, 1562.1773859356567], [116.96409172047517, 77.84091410368207, 61.76552516445109, 68.84890379826898, 148.45891728758124], [914.8802611022282, 1471.959710904721, 1680.3639238302962, 1712.9073006962976, 1736.101391648328]], [[0.10139874793835768, 0.36600866827238443, 0.23624979200282173, 0.13237618713321392, 0.16396660465322227], [918.6862162967718, 1374.9481099163033, 1413.7583240758574, 1103.9148738132412, 2013.2353672984127], [53.197186800237176, 80.02328882849558, 133.00896422450091, 110.2870373285745, 80.75878366430139], [914.8802611022282, 1471.959710904721, 1680.3639238302962, 1712.9073006962976, 1736.101391648328]], [[0.2008983800077539, 0.27411905407996534, 0.05684044638392218, 0.22454185107193134, 0.24360026845642727], [1775.3739439841988, 1300.3537429786566, 1828.6866830804574, 1707.8835487932897, 1727.8693817627652], [27.68427018947736, 124.62148990721069, 145.5407223507258, 82.97319775031698, 92.83923180971271], [914.8802611022282, 1471.959710904721, 1680.3639238302962, 1712.9073006962976, 1736.101391648328]], [[0.2185761987423607, 0.3168674415803262, 0.1975003228018269, 0.05459186247739076, 0.21246417439809548], [1231.8648701354737, 1425.6058812427057, 1105.137830549269, 1475.7979701622448, 1702.1993978153478], [136.01571993921158, 139.10351507116877, 85.40323110157311, 78.89586510117307, 75.05234839023677], [914.8802611022282, 1471.959710904721, 1680.3639238302962, 1712.9073006962976, 1736.101391648328]], [[0.16292833685842706, 0.35701353763025956, 0.1947950202578306, 0.12063663157772148, 0.16462647367576125], [1609.3139773146806, 1294.6183591936606, 1523.9268676442532, 1325.9942788017306, 1288.1634227278555], [41.05077475002086, 111.40862455602044, 87.51092711713403, 42.68416398546854, 142.10727880087995], [914.8802611022282, 1471.959710904721, 1680.3639238302962, 1712.9073006962976, 1736.101391648328]], [[0.14444211714814958, 0.2927499584358452, 0.23484599970965897, 0.10254782514886386, 0.22541409955748246], [1842.8772170874204, 1932.9788983318012, 1220.8830063559667, 1734.1253485347497, 1754.4778755483826], [28.00672140772894, 66.64198227936691, 112.26742913722939, 107.5462090133261, 120.38135903841179], [914.8802611022282, 1471.959710904721, 1680.3639238302962, 1712.9073006962976, 1736.101391648328]], [[0.20566210288924291, 0.22534397351107371, 0.14730921127238117, 0.2575836667335603, 0.164101045593742], [892.3621842864864, 1977.8189591692756, 2181.3398717586133, 1476.4766981812754, 1198.7223209390618], [133.28806870398952, 116.01776287280775, 49.20627094301193, 93.47044815806187, 128.99275062146182], [914.8802611022282, 1471.959710904721, 1680.3639238302962, 1712.9073006962976, 1736.101391648328]], [[0.16877230579747554, 0.2879175865582562, 0.05858165546092199, 0.19324468713505086, 0.2914837650482954], [1899.710183073695, 1551.4556940817286, 1337.5944174069105, 1289.0609736338229, 2017.3766363330537], [108.05380109100385, 53.93570499581618, 45.42702366300876, 139.65617051151665, 96.3479342002062], [914.8802611022282, 1471.959710904721, 1680.3639238302962, 1712.9073006962976, 1736.101391648328]], [[0.19343530265434028, 0.22456050791718007, 0.21398429230696767, 0.13369970199800893, 0.234320195123503], [1189.6002142063396, 1370.00719714241, 1427.7337062244758, 1228.8857975411322, 1117.213598870428], [68.25248332397827, 94.84909309258849, 84.35940257698115, 110.95001071709505, 123.7601746307388], [914.8802611022282, 1471.959710904721, 1680.3639238302962, 1712.9073006962976, 1736.101391648328]], [[0.08633173809155775, 0.37825626738636553, 0.08558593941762768, 0.2335603754944542, 0.21626567960999474], [1673.8609546555194, 1492.1594549731203, 1599.6533805420395, 955.4174543112356, 1299.128712453502], [124.51605695499912, 136.41793738520124, 107.55849453785662, 112.31845434238757, 51.27074864852075], [914.8802611022282, 1471.959710904721, 1680.3639238302962, 1712.9073006962976, 1736.101391648328]], [[0.319147911341349, 0.21171032170054635, 0.13117943806905877, 0.11174047283636745, 0.22622185605267855], [1777.8954126595413, 1396.6699202079449, 1749.454595316371, 1482.6441029495174, 1928.8795575917516], [80.91421520297102, 41.6331121453597, 112.93805548489492, 117.89174701073505, 143.84121516313138], [914.8802611022282, 1471.959710904721, 1680.3639238302962, 1712.9073006962976, 1736.101391648328]], [[0.13149222700408353, 0.4220976070564363, 0.13010476434603638, 0.11505049103655374, 0.20125491055689007], [1420.5797928370748, 1631.692640793632, 1254.8270843115201, 1641.5590419174714, 2153.307755383311], [124.11531804729063, 114.04212364561836, 76.16838570297276, 42.52076377287666, 92.92866950461287], [914.8802611022282, 1471.959710904721, 1680.3639238302962, 1712.9073006962976, 1736.101391648328]], [[0.17100119530930827, 0.3995794163494975, 0.10695649072810774, 0.15729251577776357, 0.16517038183532293], [1917.418101189054, 1141.8621215864982, 1284.8427720829254, 1424.0038369217239, 1483.3987175327388], [24.73874646071353, 123.91519327978367, 60.09524169363526, 136.217277367086, 109.37537007819323], [914.8802611022282, 1471.959710904721, 1680.3639238302962, 1712.9073006962976, 1736.101391648328]], [[0.3102498978031331, 0.21542642031949608, 0.2493389290035678, 0.07483697498493878, 0.15014777788886424], [1970.6153959424644, 1960.3731138975922, 2008.4154041919892, 841.5263629715486, 1074.7182744638287], [82.03909816186102, 64.90863370531261, 148.36429675077258, 42.67713506111587, 107.49846715223298], [914.8802611022282, 1471.959710904721, 1680.3639238302962, 1712.9073006962976, 1736.101391648328]], [[0.2716289973528779, 0.18129211404625348, 0.22877920484211536, 0.047188832319844665, 0.2711108514389087], [1582.7793186270064, 1240.5313110100665, 1896.6555552749032, 1472.1235545903999, 1457.5109336605676], [71.04629282546472, 59.426112084767816, 128.71293879508957, 39.40439904567337, 39.06836020080533], [914.8802611022282, 1471.959710904721, 1680.3639238302962, 1712.9073006962976, 1736.101391648328]], [[0.18239566922334483, 0.2980172219289428, 0.2205804819436673, 0.08769223638726245, 0.2113143905167826], [1605.7218108646832, 1077.164725700545, 1105.3625910691103, 1056.4920393370867, 1849.3864887800269], [60.3585344236473, 82.70280452747357, 51.6106807060185, 34.43687516195785, 72.65285010880078], [914.8802611022282, 1471.959710904721, 1680.3639238302962, 1712.9073006962976, 1736.101391648328]], [[0.25167271655274986, 0.31719800782948926, 0.12349552390676932, 0.1180776830735277, 0.18955606863746385], [1137.7098393198794, 1011.4268481767219, 1594.6975065607726, 1041.987013315907, 1543.32794292377], [48.729351717156185, 136.72010832847985, 114.41159251168271, 82.5159513647871, 109.00158868961981], [914.8802611022282, 1471.959710904721, 1680.3639238302962, 1712.9073006962976, 1736.101391648328]], [[0.19293165093668765, 0.23351629659024314, 0.1123611761714298, 0.19428142401584358, 0.2669094522857957], [931.9742463421708, 1835.3169283296731, 2241.7436725619277, 1085.9032359051785, 1432.6755333090346], [113.99302736017171, 106.43806922487641, 128.5676157479413, 94.9472263232374, 30.695038839924436], [914.8802611022282, 1471.959710904721, 1680.3639238302962, 1712.9073006962976, 1736.101391648328]], [[0.1404505604546165, 0.2625332594272362, 0.14626659637756467, 0.19766750975149183, 0.25308207398909055], [1561.9742799759556, 1701.9370240260832, 1183.1589762272736, 1191.9951103273372, 2095.9791642986393], [105.06878175303112, 117.27720110025126, 151.85619965152756, 69.11021577921686, 149.2890640404516], [914.8802611022282, 1471.959710904721, 1680.3639238302962, 1712.9073006962976, 1736.101391648328]], [[0.26008433628541644, 0.23460253178087462, 0.1160360639462442, 0.19398708401378448, 0.19528998397368033], [1471.9948614063173, 980.7476555688875, 1976.1707969400363, 1048.392873713205, 1123.9591779172806], [133.5190963970701, 41.852617328805664, 125.49965676606178, 122.34958497492035, 94.6468706413011], [914.8802611022282, 1471.959710904721, 1680.3639238302962, 1712.9073006962976, 1736.101391648328]], [[0.21335104848510458, 0.31807450167397133, 0.13057260046944108, 0.18441068716190234, 0.15359116220958055], [1355.2836587800753, 2020.9087883952573, 1157.6407866788497, 1337.7082348916451, 2124.178476921774], [62.20790702434539, 118.82602231550939, 105.0594104075594, 122.5496008153202, 133.70206542370346], [914.8802611022282, 1471.959710904721, 1680.3639238302962, 1712.9073006962976, 1736.101391648328]], [[0.19944462555558418, 0.2699072199901311, 0.15509283160638063, 0.17117394086011306, 0.20438138198779096], [1336.5323888910984, 1138.8884632472327, 1207.9973065387228, 1817.8476853899701, 1244.4147268860777], [138.50688510909097, 53.15507342303359, 52.41644649845083, 50.42660034534443, 118.210455314358], [914.8802611022282, 1471.959710904721, 1680.3639238302962, 1712.9073006962976, 1736.101391648328]], [[0.13992205883394326, 0.24768364227538794, 0.19580011031225816, 0.19589175962430397, 0.22070242895410655], [972.0770467899454, 1520.4056494790864, 1377.822801558148, 988.559467738956, 1577.9083750234101], [79.67015903747617, 69.4566731377029, 157.6251151235458, 136.5670063054032, 97.94163342439904], [914.8802611022282, 1471.959710904721, 1680.3639238302962, 1712.9073006962976, 1736.101391648328]], [[0.24238670665683185, 0.26805334851453777, 0.2155899193241876, 0.03829054134131367, 0.235679484163129], [1209.4401794635849, 1209.3330415323965, 1873.2913188303328, 1174.93201764609, 1882.141100670426], [56.23662149460761, 76.13169050408081, 144.14180705187331, 95.5621010283232, 69.2019765209616], [914.8802611022282, 1471.959710904721, 1680.3639238302962, 1712.9073006962976, 1736.101391648328]], [[0.2595304031504464, 0.3426783247929735, 0.058730445869467615, 0.2438884478199737, 0.09517237836713886], [1773.4944169576715, 1598.3903493906769, 1892.5493527399535, 1851.6677620628748, 1442.5742579944003], [108.10519649411907, 115.52693128030519, 43.061449286547045, 93.87211270779196, 63.97859760179956], [914.8802611022282, 1471.959710904721, 1680.3639238302962, 1712.9073006962976, 1736.101391648328]], [[0.11557137378120161, 0.19209114103897726, 0.22251494755059611, 0.20683137011297947, 0.2629911675162455], [1820.1291391661887, 2083.2705481554412, 2276.1697617546733, 1007.6231122746822, 1281.919696148977], [105.95715372067396, 85.11261286933482, 125.09098835209213, 39.37102755143657, 82.58790905009526], [914.8802611022282, 1471.959710904721, 1680.3639238302962, 1712.9073006962976, 1736.101391648328]], [[0.19631148101671186, 0.2957472176184707, 0.18200261450684255, 0.18275992996089221, 0.1431787568970825], [1763.1772427847056, 1575.9779106999629, 2262.5332368771133, 1613.7622845409926, 1697.4870574290667], [20.964061769321404, 137.81994114169143, 82.68908393792846, 86.53667297645258, 59.96865653906893], [914.8802611022282, 1471.959710904721, 1680.3639238302962, 1712.9073006962976, 1736.101391648328]], [[0.1772896682083223, 0.3552896610593606, 0.14972195403093777, 0.10804133371718591, 0.2096573829841934], [1469.4038608609303, 1742.0258604124574, 2001.565983153167, 1571.732268059734, 1284.8519111780276], [71.88033287111142, 128.58257585603718, 139.94850709083437, 70.72904444232316, 119.8572519637533], [914.8802611022282, 1471.959710904721, 1680.3639238302962, 1712.9073006962976, 1736.101391648328]], [[0.3305692906039135, 0.276855047894975, 0.07149503278543383, 0.19317309163121926, 0.12790753708445843], [1598.5534038854391, 1346.1140071941397, 2136.380509997643, 1870.848397138957, 1382.8174372539556], [66.61161305083408, 74.0739158924043, 150.66061989296065, 46.669423138064275, 52.20470931603241], [914.8802611022282, 1471.959710904721, 1680.3639238302962, 1712.9073006962976, 1736.101391648328]], [[0.24481128275680367, 0.20311629999026085, 0.23682174855687127, 0.23098345147660584, 0.08426721721945844], [1958.1201564661412, 1905.4568472430706, 1114.9743964905306, 1832.803009711884, 1886.1979827772557], [60.13165938481561, 139.76170189105613, 114.96654216620104, 52.70161866694284, 109.42544475415438], [914.8802611022282, 1471.959710904721, 1680.3639238302962, 1712.9073006962976, 1736.101391648328]], [[0.3078422477618201, 0.3686945883378772, 0.061511734401779816, 0.09412565483763623, 0.1678257746608867], [1831.7621460693204, 1531.4178939048898, 1261.8476601625346, 1330.4789189774042, 2148.887070060926], [47.86389161920866, 81.92370838015052, 73.54818787217965, 117.09978220263494, 96.4163788706904], [914.8802611022282, 1471.959710904721, 1680.3639238302962, 1712.9073006962976, 1736.101391648328]], [[0.1246769596939961, 0.32816359710902326, 0.11848766074373808, 0.11724165809103984, 0.31143012436220263], [929.7936507637701, 1577.3980942838484, 2245.8738774659105, 1284.5094955757581, 1509.5077597362474], [30.41690980680937, 37.608277113606626, 101.82909336924764, 44.349173331108844, 98.80745236437834], [914.8802611022282, 1471.959710904721, 1680.3639238302962, 1712.9073006962976, 1736.101391648328]], [[0.21979622717938097, 0.26337071588055183, 0.06340984741182243, 0.20034268008434025, 0.2530805294439046], [962.5028481370821, 1187.3042892496487, 1796.9417424649273, 1819.1478303769816, 2023.4288782763622], [68.05247124750083, 125.36867851775592, 136.7746593161105, 46.134150354344854, 147.78212757220862], [914.8802611022282, 1471.959710904721, 1680.3639238302962, 1712.9073006962976, 1736.101391648328]], [[0.1329464699062748, 0.22753442971155022, 0.07939234809535803, 0.21646961089670486, 0.34365714139011205], [1587.4351534217903, 1840.0499260882812, 1299.7620715481512, 1936.379064282442, 1774.103492292375], [112.71558033016382, 114.65339864711079, 45.774528598352056, 118.0107755118951, 124.72348492740426], [914.8802611022282, 1471.959710904721, 1680.3639238302962, 1712.9073006962976, 1736.101391648328]], [[0.25081806745830754, 0.29704424068451707, 0.0777347741978238, 0.16393861478671132, 0.21046430287264037], [800.7194806078172, 2023.7987636499922, 1246.1458130527403, 1736.7303177815156, 1695.8673111822345], [111.12322964898459, 54.261757588548576, 50.61242337276922, 100.08082904738254, 75.00956082478312], [914.8802611022282, 1471.959710904721, 1680.3639238302962, 1712.9073006962976, 1736.101391648328]], [[0.15328375164452848, 0.3001703762164877, 0.19771712415096526, 0.1966534760280317, 0.1521752719599868], [1131.383881174395, 1638.7259855985515, 1965.1933865298233, 1191.387781135865, 1394.198840912154], [54.033016763589494, 147.49966494053717, 139.64090921744258, 130.3501999492074, 102.94569207273518], [914.8802611022282, 1471.959710904721, 1680.3639238302962, 1712.9073006962976, 1736.101391648328]], [[0.23176349056879644, 0.3193842419230689, 0.05798633671863386, 0.1315121534507929, 0.2593537773387078], [1121.09954045205, 2125.1470311311323, 1594.4998872574536, 1063.1134009494751, 1261.8086986218739], [123.73568657214898, 149.6709440620668, 68.887113148261, 49.32308696783267, 55.335766531198075], [914.8802611022282, 1471.959710904721, 1680.3639238302962, 1712.9073006962976, 1736.101391648328]], [[0.15373774642929994, 0.23017512324879788, 0.14283082974588615, 0.25822626790285297, 0.21503003267316312], [1885.4293905267434, 1743.0279582962553, 1830.7313374874639, 1641.7607372340567, 1920.6395205674817], [93.81889172258889, 60.9020617669764, 135.6719011616786, 65.7455268776335, 128.12235508839444], [914.8802611022282, 1471.959710904721, 1680.3639238302962, 1712.9073006962976, 1736.101391648328]], [[0.19014493312614197, 0.3396387264589756, 0.0899029001916239, 0.14168995621863645, 0.23862348400462205], [824.1896168475828, 1051.9396134663107, 1219.263219340062, 1114.456735129829, 1118.1551413700222], [83.821298631235, 120.56768384714957, 85.05381373016795, 50.34852986584343, 108.36134507768779], [914.8802611022282, 1471.959710904721, 1680.3639238302962, 1712.9073006962976, 1736.101391648328]], [[0.21563883649094542, 0.3482331315131729, 0.09718962172148846, 0.10157550252854743, 0.23736290774584567], [1115.8279501078518, 1306.3220655710993, 1454.0941914394582, 2023.560151743302, 1173.291258112336], [78.59125476069423, 57.275268149622136, 64.99606734073546, 75.6308504733523, 149.88069604789354], [914.8802611022282, 1471.959710904721, 1680.3639238302962, 1712.9073006962976, 1736.101391648328]], [[0.14173465088674975, 0.5362932750581548, 0.10382302579076019, 0.0670041638687233, 0.151144884395612], [1249.1486385380515, 1773.46892169225, 2149.1489108856645, 1011.766241511727, 1331.4933081631207], [122.21500520971294, 59.64038597844264, 159.37398109700348, 58.17540858103936, 128.15562665222006], [914.8802611022282, 1471.959710904721, 1680.3639238302962, 1712.9073006962976, 1736.101391648328]], [[0.11726978830017394, 0.3134742929147607, 0.2776551548646126, 0.1311251136190268, 0.16047565030142605], [796.1418044145214, 1435.568093881768, 1571.9955541333952, 1552.3852065576712, 2121.8278208509637], [74.07979831008541, 123.32171841474565, 109.0072940812269, 140.5594339720377, 62.719009661836466], [914.8802611022282, 1471.959710904721, 1680.3639238302962, 1712.9073006962976, 1736.101391648328]], [[0.3148958661922314, 0.22807637161848643, 0.12215018997916993, 0.11827785919399193, 0.21659971301612022], [1299.4828950879062, 1114.2131705602542, 1930.370972258565, 1137.1201427330734, 996.2069758036133], [99.54156009457635, 50.508630918312804, 139.27177618107024, 38.677942698067255, 85.09650184893849], [914.8802611022282, 1471.959710904721, 1680.3639238302962, 1712.9073006962976, 1736.101391648328]], [[0.1707329577687733, 0.24494528087545248, 0.27204278487348565, 0.19114026032589226, 0.1211387161563964], [1313.0649783044305, 2155.819630129391, 1093.5103469981873, 1464.2618419022551, 1963.55070980427], [98.03701780655652, 149.15209683434978, 152.5491837266195, 73.90699746925108, 145.48836385728274], [914.8802611022282, 1471.959710904721, 1680.3639238302962, 1712.9073006962976, 1736.101391648328]], [[0.25117358437633064, 0.3476677186215059, 0.06540053814162027, 0.17267868455398425, 0.16307947430655895], [864.4407374735503, 1694.2985241440804, 2132.238964180735, 1321.396718518638, 1414.0507730739123], [100.72396902872505, 100.50384367355545, 122.38533074379454, 142.5509395627463, 43.115662812598885], [914.8802611022282, 1471.959710904721, 1680.3639238302962, 1712.9073006962976, 1736.101391648328]], [[0.23932542783485916, 0.3150829619141909, 0.14036074275401964, 0.15792441043925623, 0.147306457057674], [1059.4820034794755, 1075.7175958736852, 2142.761224086407, 1741.6100306639728, 1483.3850682324035], [104.30973346355904, 40.94464449254493, 110.72771446749302, 61.36287727110776, 51.77265556597416], [914.8802611022282, 1471.959710904721, 1680.3639238302962, 1712.9073006962976, 1736.101391648328]], [[0.13378641614706155, 0.2912703133313789, 0.192054166785662, 0.18614827917981275, 0.1967408245560849], [1545.9670085059684, 1065.5052193745178, 1165.7951331183226, 1113.403866061409, 1210.136633144004], [24.381750181820962, 91.06964685959878, 96.30157081329683, 118.5898942878794, 75.32824670813848], [914.8802611022282, 1471.959710904721, 1680.3639238302962, 1712.9073006962976, 1736.101391648328]], [[0.16338593054906123, 0.45674566746553646, 0.06285945001311177, 0.06241096347338958, 0.2545979884989009], [863.1165184801351, 1654.3219548055658, 1313.185766310647, 1349.0717291466178, 1871.451801165078], [102.55616549892459, 112.80925833014273, 69.50719663320108, 30.58259905330692, 64.2824008360752], [914.8802611022282, 1471.959710904721, 1680.3639238302962, 1712.9073006962976, 1736.101391648328]], [[0.09815347521465351, 0.2878823541451912, 0.1596775058462087, 0.19516560025512011, 0.2591210645388264], [1683.2902332552371, 2138.961686970665, 1760.2869047055829, 1583.0255860786738, 1943.2924946962964], [132.6378376854137, 135.1742882114434, 154.10948840992435, 128.63162424695366, 111.96160087003967], [914.8802611022282, 1471.959710904721, 1680.3639238302962, 1712.9073006962976, 1736.101391648328]], [[0.1655823684669142, 0.3592876341816904, 0.1311079972971627, 0.11155305479593612, 0.23246894525829656], [834.339228319139, 1259.36384855027, 1637.3464195326812, 1000.5497939798013, 2113.2640621537284], [119.17036521638238, 122.03068934459559, 128.0372257285747, 39.16814873920203, 128.30684299693175], [914.8802611022282, 1471.959710904721, 1680.3639238302962, 1712.9073006962976, 1736.101391648328]], [[0.22824256351634833, 0.2825187423003475, 0.20656110074111542, 0.1660875746571782, 0.1165900187850105], [1650.8218998973384, 1444.309472077942, 2159.6502670872715, 1198.8367821794081, 1218.5603284511099], [97.09001656446048, 59.68558009412457, 148.54428906118576, 130.017736671185, 124.72387117808253], [914.8802611022282, 1471.959710904721, 1680.3639238302962, 1712.9073006962976, 1736.101391648328]], [[0.12550557906799456, 0.29894402848218143, 0.12934458326144388, 0.20104064107084862, 0.2451651681175314], [1197.6500272154133, 1879.5540064227284, 2117.2863430471925, 1986.9112083865816, 1205.8654372892588], [86.56544208515352, 101.82785536516809, 159.88965092810776, 98.31604309821849, 115.53528583067158], [914.8802611022282, 1471.959710904721, 1680.3639238302962, 1712.9073006962976, 1736.101391648328]], [[0.2484846723719226, 0.25148723878911067, 0.11727987443778765, 0.08801390923845909, 0.29473430516272003], [1836.593849407567, 1374.2611506077246, 1738.752005985837, 1424.4175954141774, 1210.3804773311456], [77.35771365959565, 145.37288575760843, 150.83633683091895, 121.68568198318303, 122.23094709329527], [914.8802611022282, 1471.959710904721, 1680.3639238302962, 1712.9073006962976, 1736.101391648328]], [[0.22134937716102268, 0.3034058403207804, 0.2051571378834647, 0.05100840470689359, 0.21907923992783856], [867.6113213896856, 1932.6622242747262, 2177.618565020765, 1202.2259871585893, 1364.9652866764995], [126.40507960772351, 115.5730096402121, 105.45833929667731, 65.75265642048463, 132.00979104677594], [914.8802611022282, 1471.959710904721, 1680.3639238302962, 1712.9073006962976, 1736.101391648328]], [[0.09557327038770251, 0.31760888006689025, 0.15528569396954434, 0.18832451529739389, 0.2432076402784691], [1978.3140340589564, 1389.032681153648, 1534.1000664571218, 1987.9477815108219, 1467.058596146695], [134.40995118465747, 137.17564331186446, 93.02959423872058, 35.975828764033494, 41.58081891138656], [914.8802611022282, 1471.959710904721, 1680.3639238302962, 1712.9073006962976, 1736.101391648328]], [[0.20273217697030907, 0.3724205248552841, 0.15490754471894985, 0.15437876850368, 0.11556098495177697], [830.9170667054594, 2109.267815886543, 1839.5274231265867, 1562.6561059271958, 1321.538125116451], [96.40742176477545, 86.8772545002662, 90.65969732002563, 115.20127572050016, 102.51035704925219], [914.8802611022282, 1471.959710904721, 1680.3639238302962, 1712.9073006962976, 1736.101391648328]], [[0.11671394002315809, 0.43063204502687485, 0.19471336555554056, 0.11849608819324939, 0.1394445612011771], [852.404961871286, 1386.922313286224, 1944.2380111587772, 1696.1702541915456, 1117.5217932559526], [128.72798991152513, 111.12442052712359, 94.36108364912043, 41.46405923297452, 82.00099583098321], [914.8802611022282, 1471.959710904721, 1680.3639238302962, 1712.9073006962976, 1736.101391648328]], [[0.20952686200950077, 0.2232040909588814, 0.11300155478021978, 0.23515514206585875, 0.21911235018553937], [1674.4997069139297, 1342.338923120685, 1567.7426055785213, 935.6350621213537, 1231.0809708194536], [93.22830113584077, 47.22928679325358, 133.77306845332518, 83.82393530219346, 53.53635652766529], [914.8802611022282, 1471.959710904721, 1680.3639238302962, 1712.9073006962976, 1736.101391648328]], [[0.19309939809196275, 0.38284066242083703, 0.17510403515210524, 0.09812654793078285, 0.15082935640431208], [1292.3862025202911, 2120.589985935727, 1511.152574540562, 1033.4490953761317, 981.6135792971706], [112.55463877643388, 152.80604396947336, 70.45498814843775, 78.33162781182078, 87.87009150410786], [914.8802611022282, 1471.959710904721, 1680.3639238302962, 1712.9073006962976, 1736.101391648328]], [[0.23331892299804582, 0.2362225757600872, 0.1745038056737271, 0.2099216629053411, 0.1460330326627988], [1385.7286928737255, 2035.6793867452461, 2250.6515165442197, 1287.0643952436997, 1548.8650675376866], [87.08373817003921, 123.66359000377277, 86.94935291923868, 74.66189753357435, 129.46642896374019], [914.8802611022282, 1471.959710904721, 1680.3639238302962, 1712.9073006962976, 1736.101391648328]], [[0.22289266989839265, 0.2574518825445997, 0.0957559970468672, 0.17803489509378936, 0.24586455541635102], [1887.3623932459, 2079.563143751534, 2208.1774367770213, 1714.753127861743, 1206.1596651815375], [116.90447556480835, 112.33401009996932, 146.53235347920568, 144.6397287460208, 35.23053826267356], [914.8802611022282, 1471.959710904721, 1680.3639238302962, 1712.9073006962976, 1736.101391648328]], [[0.1738364732511457, 0.22358769945073728, 0.10703430027049281, 0.19867344456998728, 0.29686808245763696], [1114.9835869391177, 2058.6045556201534, 1116.693473545411, 932.0753933733113, 1456.0071737250748], [88.29934415492512, 154.70421584244184, 70.18443537227422, 39.585137357679514, 132.0371213775498], [914.8802611022282, 1471.959710904721, 1680.3639238302962, 1712.9073006962976, 1736.101391648328]], [[0.16045456210084902, 0.2704629833738931, 0.21508697915037495, 0.05823924836033044, 0.2957562270145526], [1500.1334073311677, 1432.1858491760113, 1224.1217217073518, 1205.7958986959184, 1285.2030209001891], [82.78781308196268, 138.34512874745042, 40.23335628567105, 79.32315773787656, 87.69451648696511], [914.8802611022282, 1471.959710904721, 1680.3639238302962, 1712.9073006962976, 1736.101391648328]], [[0.25184978105455647, 0.2851938872957714, 0.18999489827447916, 0.057586346565025426, 0.21537508681016762], [1365.6460549242124, 1324.7762991354762, 1468.5038045860747, 1778.1534466077258, 1160.2733619173732], [25.05504874678266, 68.41019369748027, 43.61721015336884, 26.116018919654763, 142.15890448661239], [914.8802611022282, 1471.959710904721, 1680.3639238302962, 1712.9073006962976, 1736.101391648328]], [[0.2199421002992614, 0.2923205408079903, 0.14148195495870242, 0.08712855421277248, 0.2591268497212734], [943.4557335453379, 1544.127302907727, 1248.2087029231154, 1001.047993340004, 1786.0677614122433], [112.9814333713436, 112.14585960443343, 62.505482615073646, 35.11004323604002, 137.88645318506238], [914.8802611022282, 1471.959710904721, 1680.3639238302962, 1712.9073006962976, 1736.101391648328]], [[0.24903416301406847, 0.3396624858592234, 0.14380157122508358, 0.06120819512623004, 0.2062935847753945], [1120.2082583287465, 2142.166405593499, 1481.4096444905801, 1187.6381664262235, 1257.8775253880044], [85.86468924479772, 129.5853726381979, 78.34725774908621, 81.81006440561092, 139.91886785682357], [914.8802611022282, 1471.959710904721, 1680.3639238302962, 1712.9073006962976, 1736.101391648328]], [[0.14834923324901217, 0.216593571006153, 0.2678005334874386, 0.1362255843773587, 0.23103107788003746], [1482.6508933024709, 1216.0886012976787, 1561.1794845061522, 1606.3947193591846, 1057.4560382363577], [96.79510427706782, 92.60309467781423, 56.978277263247115, 25.347564778194368, 146.30092662121027], [914.8802611022282, 1471.959710904721, 1680.3639238302962, 1712.9073006962976, 1736.101391648328]], [[0.27557177985663317, 0.20298282236326795, 0.22311721695071032, 0.1117471921435841, 0.1865809886858045], [1677.7111561402348, 1406.9013014141728, 1717.8365206028573, 1868.7368200068452, 1530.2014578050912], [66.95625690584029, 146.5666045390563, 64.47686168030475, 64.37258485968391, 31.063169656238443], [914.8802611022282, 1471.959710904721, 1680.3639238302962, 1712.9073006962976, 1736.101391648328]], [[0.2304201137848757, 0.20489597682745908, 0.2103923838447906, 0.09499508625006574, 0.2592964392928088], [877.9118174987827, 1416.120440311816, 1722.2278989830756, 1715.0945905737062, 1761.391041744831], [71.68098968365774, 91.57551352802687, 103.71377335830556, 38.18327796112169, 108.67847551105406], [914.8802611022282, 1471.959710904721, 1680.3639238302962, 1712.9073006962976, 1736.101391648328]]]]\n"
     ]
    }
   ],
   "source": [
    "print(regimeCycle1);"
   ]
  },
  {
   "cell_type": "code",
   "execution_count": 22,
   "metadata": {
    "collapsed": false,
    "scrolled": true
   },
   "outputs": [
    {
     "name": "stdout",
     "output_type": "stream",
     "text": [
      "[[[9.477234530690291, 8.9442840741141936, 6.4581880264820741, 6.6961968412459125, 6.0341271201359099], [6.9146483586184324, 6.4689707235605676, 6.0585026993235092, 5.4217781511868894, 5.316577391409977], [7.3819578723389041, 6.4687476643685438, 6.0294818336675053, 5.742036725983457, 5.4484511711842183], [9.9653641710326148, 9.7252089129141286, 8.1383898726083874, 8.8039204832006988, 7.8340437112990697], [7.2048941440430854, 7.8689667413948632, 6.9131530459182438, 6.1959586691956288, 5.8813991065479936], [10.467679940159913, 10.252844219610608, 9.6906639506987133, 9.0677026287108475, 8.6337106901171268], [9.0438241899888592, 4.1092369881939836, 2.6104372795919857, 3.2037089969063293, 2.3724058691233854], [9.9305044982352424, 10.015990277796426, 7.853834838667618, 8.7790630646516519, 8.2937477908839963], [7.6291220662737071, 7.6713192247183732, 5.2167043921356964, 4.3503424880083417, 4.8251353469611518], [8.7334335013071769, 7.3858071023590819, 7.2660922955744489, 7.7276569099320795, 6.4683008490423601], [7.7525502009955778, 6.4251615398099675, 6.2408049080751384, 7.5910562704909363, 5.5380371762349769], [7.5732985681748257, 7.5743276128240513, 6.4922799585345334, 5.957948132341282, 6.4262048372550939], [7.6621894399481221, 6.9627681340283569, 4.6903608569976019, 4.6124082898690615, 4.7714751237748292], [7.7358452070167276, 8.4812141269891885, 7.2747123265680349, 7.911448123559528, 8.3274006558669402], [8.8024126719656017, 7.0839062010018372, 7.9903728510358931, 8.0214449530367116, 7.5935141453476271], [11.226859879512977, 11.573879012095821, 10.076998379410506, 9.8372996373305046, 9.9829878168752213], [6.9510411272242347, 5.6775104519957402, 5.6057313466240295, 5.830027999570782, 5.4145843947686316], [9.8321800207646959, 10.294673734066913, 8.2496428925931617, 7.920448449313465, 8.0274970164377351], [8.6009334319102724, 8.0249577350110801, 7.2520694613636509, 6.8810751454402759, 5.8388769942397767], [8.0923303666256992, 7.0146797234847682, 5.8277934334265877, 6.0034935215271048, 6.1179688572350042], [8.7300654007720127, 8.339737585694829, 7.4602136617294947, 5.545792284138761, 5.3377731288889283], [11.885198641128506, 12.225419184474125, 11.526092711039885, 9.3655331107831294, 8.6870373998263428], [10.514301234382327, 9.3124192681459856, 9.3653357260039254, 9.3213262094324776, 8.7543713838553927], [7.4605752893866271, 6.6664967365662289, 6.0542322217241358, 6.1029547336698409, 5.5728357013687289], [10.671546999286935, 12.475388785390194, 8.1643710825318951, 11.370985967162602, 10.77664910062936], [10.517396070025555, 9.7301100977556807, 9.0795554934006848, 9.770923145186492, 7.6035790313465164], [16.700057898846183, 6.330502242529823, 5.4032492177293765, 5.5137101232413661, 5.8299906172773328], [9.6495562353727991, 8.6908501170745662, 6.2708671475165207, 5.9971397472931436, 7.0858049841106761], [8.166990747675257, 4.9572465688781717, 3.5566452401200497, 3.7368282989347836, 3.506629065439876], [11.314144316894875, 8.2719964105938271, 4.8446345176935282, 4.5381547131138973, 3.3830215828474861], [7.0359905882154878, 6.451899876889498, 5.2985474924593152, 5.0052455093938093, 5.2461035716211715], [8.10804279968103, 7.1885535765725663, 4.857476999855181, 3.8261541688605978, 3.6950322862667915], [11.2464738830824, 8.8880159803461769, 6.8316286665764405, 7.0789429960505572, 6.1804131732296179], [9.4977624452555034, 8.5539205512113181, 6.3608521695704754, 6.1420451689734463, 6.251197882151609], [9.3685750953879161, 7.177697992862476, 6.2128791293278915, 6.0109698957082882, 6.1161670662378294], [11.779612984105167, 11.728725597185223, 11.979749462164193, 12.232714452591999, 10.707452583122967], [9.5945807976500355, 6.6577099893674392, 6.3603598719048042, 5.9683126415271071, 5.7994479879454222], [9.8597789278612247, 8.5711360506338732, 6.7969555945743529, 6.7902216639540001, 6.1689715443474675], [4.9541954893989351, 5.6171917846427268, 3.2405283319999141, 3.9521173917489034, 3.0478539632850481], [9.4062086713588613, 12.744571756068677, 9.5422619034143068, 8.4287403318439971, 7.3789790934511528], [11.194681371318266, 12.056550220453971, 8.7242033148403308, 9.2056135424113812, 8.3471658183758475], [10.374829451279409, 10.489032713260976, 9.3984895174343741, 10.865068490852575, 9.8521210241388459], [7.5650497783569319, 6.9486384624155884, 6.207269299176188, 4.5542949120861929, 2.963369449764766], [8.7059538619094159, 6.7702503582201006, 6.1852536699926262, 6.712660258278504, 4.9255224202658887], [5.1289267916481949, 5.0238548762137301, 4.5279987050131734, 3.4484893491428914, 3.3575342051581534], [8.4834066043856939, 8.7217598892805643, 8.2960745647485847, 6.9254506808274865, 6.8088603658806965], [9.7318169950579669, 6.0408699926618281, 5.0313980997117227, 4.851622864217962, 4.2219645196047555], [7.1843138495984782, 3.8829482834466056, 3.2083564359665537, 3.4699984771795869, 4.0741730022296752], [9.8997328787013377, 10.499958031685967, 10.672198017534139, 9.9666936395343271, 9.5795118700486181], [9.2986683655813582, 7.9222569823016107, 6.350458042945184, 6.6863739725517446, 6.2516485344598038], [4.4954273976573029, 5.0144756443429239, 2.1794714401160915, 3.4413684661394788, 2.1930231807334506], [9.7643316045226403, 9.3984983771276962, 5.5276139320953472, 5.0860675861571343, 4.6103470976408509], [10.914826679743598, 10.903956056586022, 8.9879682643839924, 10.087680587999833, 10.533744647796551], [10.763200088833671, 10.857596658950836, 9.33292925048314, 8.6046215636555168, 8.2796989391007259], [8.7541873263130743, 6.9695425143869238, 5.6736673146512242, 6.1475144172944765, 4.9317789259630258], [10.474680254990448, 11.546653299057654, 10.086823621033499, 7.7954749806849168, 8.1421828029056584], [8.7014332544679416, 9.4939949177358312, 9.2087658091419105, 7.7620833331708283, 6.6067404652229369], [9.4689863152308256, 8.5036465128075172, 8.2701647073906415, 7.8693091306707723, 7.9222580543969645], [10.914504394088565, 10.343310620557089, 9.5858396271630166, 7.0639548491623785, 7.2507506898332474], [9.1781789188593148, 9.7390492937567252, 6.3004368783361633, 7.128765562138657, 5.4095572954746682], [10.555325899969302, 7.9988272372942602, 6.0185859501004764, 5.7806995492592144, 6.1114606174690174], [8.5723394503706576, 5.0949465275222776, 4.7467337847640385, 4.4157649129412073, 5.1755297968316727], [11.02954766093827, 11.548632540901606, 11.50713756022944, 10.331209272764323, 8.5640189773418314], [7.4309538779333701, 8.9339399007673244, 6.0692353314205922, 4.148305335518895, 4.3223944832246524], [4.2914409427183848, 4.4641258502120511, 1.6333129239613335, 2.1488617501924443, 2.2578504837705062], [7.8625141077763274, 8.0925303208835011, 7.4765433871011426, 7.0410059342759421, 7.3035804738715893], [8.5280880401770887, 7.0559346080913388, 7.9153292864502696, 5.8464760079851663, 5.6606178764982733], [10.302321152360701, 6.5630431936674212, 4.6397886274940534, 4.4793391097359549, 4.2733341293561438], [9.21426258412626, 11.379887599829489, 9.2218145022028306, 8.12212124807977, 7.0112764191649708], [15.198600236117084, 13.374865292005557, 8.8265829014295534, 8.0581649361037329, 7.1534436787893743], [10.612459436940604, 11.963932203513043, 8.6473987793165836, 9.0451620884192234, 8.4943761249817626], [6.0417162915231772, 7.4243723248489868, 3.0566555650713441, 4.9976786712346968, 3.2424611469212952], [8.2300895942121883, 8.0601824458865625, 8.077405705470472, 8.125920243515063, 7.7001136660581233], [9.1854927386053777, 3.8516890106027231, 2.7793829617487451, 3.4912315596169279, 3.9210136103729867], [7.4506891707198672, 4.8174426893664837, 4.6352244228312642, 5.2009135551067383, 4.08596084476493], [8.4082484700137154, 6.1876580380315795, 6.9011238600902018, 5.7446157100872313, 5.9311901101373987], [8.2036902602755983, 5.229703866728685, 4.2761249972997586, 3.7656512744338722, 3.7261534182775105], [10.83589789795189, 7.8489640223797297, 9.155474410875815, 8.0721533750786971, 6.913771705915603], [13.188416921860323, 11.83561408437137, 11.988232304880306, 11.462464145955446, 9.5551208610853742], [10.075332919054194, 9.5750599856156189, 9.2649808050951847, 7.6943616914651356, 6.9558886508467195], [7.2766579864545156, 5.105841155220487, 6.2652698254309787, 5.2417386493896778, 5.9021831064489527], [11.167276970687274, 9.1871994279761555, 6.6278645633059945, 6.3587881146842165, 6.7280680975613851], [10.224209155761351, 10.711204629490304, 10.538328208492235, 10.556740198710635, 9.375141245242018], [10.638565791810658, 5.4284630613081539, 2.6747884239072302, 4.0299519288656205, 2.7170023670179253], [7.7421319984362018, 8.7071714788148498, 6.3803383926218462, 6.4789820770796851, 6.8802959328426905], [9.0166126941852234, 8.5134555293884251, 8.4860816561860286, 8.2479577593198439, 7.9108410707563888], [4.6058208202793551, 4.8262789058165545, 3.2954032407626128, 3.3410230629641728, 2.9542849335964316], [12.004744909913301, 7.4230758163464046, 6.4316605820627633, 8.4537745085472285, 6.9072533480717544], [13.54985887853983, 9.8128724399069807, 4.2733248427045103, 3.8984159375158627, 4.4970420209029784], [15.210344649682552, 9.0279553914433084, 8.266682677696549, 9.1461720030951543, 8.0823969209584057], [9.7680250245153264, 8.8797831405044469, 8.4207265146539161, 9.1522437415579034, 8.3205658813187462], [10.346754287732541, 7.4756612599562242, 6.8078483652404564, 5.7971454232526689, 5.354840971157822], [11.953375012706386, 10.69822900535976, 9.1736408874703201, 7.3154891180617723, 7.8264214027137458], [9.9842005793919295, 7.6729974471942208, 6.6049725540914901, 7.1740691794345848, 4.7512816882836022], [9.3510027523319117, 8.5971643667399356, 4.4454600205163732, 4.3799128474727276, 3.2143382473553936], [10.432166066588815, 5.7669270223211777, 4.8419872388265111, 5.1176061034669171, 4.0135771446664563], [7.4532201122845132, 8.3254439297262497, 6.4875772012094766, 6.3519430964843222, 5.9315987773215451], [9.0590089757759404, 9.2167395341581937, 8.5142884380953383, 8.555991360236515, 7.6046450223730773], [11.692143243408998, 10.622515540044127, 9.563892466661013, 7.0634453620724864, 5.9272511189828707], [8.6254700253877203, 5.9306545288110142, 4.5586486078092445, 5.0861686847255703, 4.5750240102423447]], [5.9745628930768033, 4.7780732769736085, 5.2411309677229916, 7.9764975874132249, 5.4453885618652, 8.4203531933818514, 2.7844393391244138, 8.0161488403033268, 4.4672329828171549, 6.9509677139895816, 5.9741162343329997, 5.5790402978575697, 4.3072592242897443, 7.7616114293183394, 6.7117447217510078, 9.9508898564911519, 5.0582829122117152, 7.5651096072824506, 5.3646686600474371, 5.8373821950248548, 5.9963769424795084, 8.0818526564521793, 8.1501405102095958, 5.3854105304595246, 7.9043506521568672, 7.7951132255542221, 5.1609227352747373, 6.7678052229453023, 3.1024391606194222, 3.4958494276134093, 5.4465791058311428, 3.3959460187810788, 6.7634076641262464, 5.8036030865673025, 5.8958645795732156, 9.4587523131042364, 5.5961691560802773, 5.6491465183964831, 3.1769928895757218, 7.1858187778625524, 8.4637097171992881, 9.8950268370781185, 2.9778524361502461, 5.4881507949664332, 3.1593614470411491, 6.5901953863150657, 4.2702316036911903, 3.336935470263191, 9.1416599350292937, 5.9831005007515836, 2.5452254858771308, 5.0403203785200246, 7.2764100014644466, 8.0861133908164646, 5.952291967416131, 7.5060055457697628, 5.8673900141155721, 8.0902159061568462, 6.7648550760393107, 5.8768509615046582, 5.9140972406607046, 3.8688108509388921, 9.5132443629580301, 4.5887883058663705, 2.0383517817244483, 6.9837005359119697, 5.7627829148977057, 4.1779762964017797, 7.1683782437824135, 7.6179377211625798, 7.6680994061161352, 3.1710615380374971, 7.5269057279588125, 2.4084395161707017, 4.3421429568440324, 5.7488110741372953, 3.7204157720737214, 7.2974993415869989, 10.479113613949876, 7.3270931104656762, 5.059494061476661, 6.2227509505050884, 9.3774308188531865, 3.1141321929492993, 6.150780653048928, 7.4209741652886008, 2.8416158074388691, 6.4733357223157464, 3.2455917958747187, 8.1340950468121154, 8.3241100500904803, 5.9245085294839051, 7.2098372546838618, 4.7936940222552318, 3.3560071774276574, 4.1738176140973531, 6.3147775533771053, 8.0945525944336154, 6.1470218218492434, 4.2608458675634511], [[[0.22744718805235686, 0.28794255457549817, 0.12008406069915911, 0.19126684120348597, 0.1732593554695], [890.8426664056094, 1382.273783274556, 1817.0599020116165, 1256.597869852418, 1769.6618371564882], [113.76804901974175, 121.9712910916321, 128.48048874129387, 89.84626202234185, 120.91541956241163], [1242.811321534442, 1864.299926648259, 1838.3172741249412, 1109.1710755569084, 1360.7787786604276]], [[0.2435210797649903, 0.1827793090890756, 0.23460051702944792, 0.17192814970322481, 0.1671709444132614], [1308.2157333451032, 1887.1579912188981, 1670.7205959271018, 1333.6307908381123, 1180.8101684463904], [139.13824492765582, 73.26991021905252, 114.66409727045323, 55.76485947694782, 33.72809920402864], [1242.811321534442, 1864.299926648259, 1838.3172741249412, 1109.1710755569084, 1360.7787786604276]], [[0.1932672103419104, 0.22020498213180198, 0.15029737168241322, 0.23424063344318713, 0.20198980240068734], [1404.3972262650818, 1550.2713659200035, 1513.0131024343568, 1368.7556090313765, 1108.8285630504934], [55.122594861440355, 68.9870482220863, 101.12022882519625, 54.08528461787931, 37.680032042236455], [1242.811321534442, 1864.299926648259, 1838.3172741249412, 1109.1710755569084, 1360.7787786604276]], [[0.2774531129040663, 0.35206228239475246, 0.0736022064297151, 0.07468432896385911, 0.22219806930760708], [1391.5804165412655, 1352.140686525923, 1292.1445411662112, 993.2286742356483, 1546.847514755064], [96.84064415503212, 108.12350125411857, 57.46627520713602, 78.06667940393379, 42.36831567784478], [1242.811321534442, 1864.299926648259, 1838.3172741249412, 1109.1710755569084, 1360.7787786604276]], [[0.17516670507102924, 0.3987709409048633, 0.12115295686293345, 0.17090874746311496, 0.13400064969805894], [947.571568650145, 1277.8198745163504, 1951.3342080146365, 1512.4043579677482, 1566.2033334595053], [125.21131177273041, 35.5386331658987, 133.48887417429444, 67.28187963143232, 144.54725891406156], [1242.811321534442, 1864.299926648259, 1838.3172741249412, 1109.1710755569084, 1360.7787786604276]], [[0.22393454324148795, 0.26714164684487124, 0.10659072226323155, 0.1726597889285498, 0.22967329872185951], [1164.7464009400824, 1511.066384909464, 1687.4963549873892, 1520.618571590875, 1116.7000861109348], [51.572703365220505, 76.96591327737211, 137.32201712063846, 102.1434661863507, 97.36505660876163], [1242.811321534442, 1864.299926648259, 1838.3172741249412, 1109.1710755569084, 1360.7787786604276]], [[0.10895877244041202, 0.32861645916282434, 0.22157989855260624, 0.17486980495319057, 0.16597506489096686], [897.6331305196231, 1658.0392769035, 2171.17464286379, 1463.9531383043536, 1050.4576075257196], [55.4024920511143, 58.80371665359717, 60.91207412800506, 26.616878673402034, 132.0607095790318], [1242.811321534442, 1864.299926648259, 1838.3172741249412, 1109.1710755569084, 1360.7787786604276]], [[0.17869786743601224, 0.21447751799055234, 0.27783803210391317, 0.10800161338289704, 0.22098496908662527], [1925.674034659427, 1268.919226187539, 1105.9747851303348, 1932.9467805965028, 1911.553322332203], [123.25946694958864, 89.9675268178612, 45.692248117654636, 143.99386173322162, 50.12761733620101], [1242.811321534442, 1864.299926648259, 1838.3172741249412, 1109.1710755569084, 1360.7787786604276]], [[0.24753657693309805, 0.2275188580050887, 0.17631164498801602, 0.12854674373391284, 0.2200861763398844], [961.2138695043209, 1706.4108314464113, 1255.1549650673896, 1456.748812205788, 1544.6027614295456], [126.3210920191037, 120.02144999166514, 53.23271609057815, 39.134608661403504, 44.42592167084271], [1242.811321534442, 1864.299926648259, 1838.3172741249412, 1109.1710755569084, 1360.7787786604276]], [[0.21231584616098725, 0.2684556235072691, 0.19758415412325675, 0.10338596736752341, 0.21825840884096354], [1505.8515610948227, 1342.6547839760528, 2000.445319901995, 930.5437712186917, 1451.6653117357441], [118.36742506796607, 90.74074406868671, 68.97211258382458, 99.82683516553676, 122.35796308023723], [1242.811321534442, 1864.299926648259, 1838.3172741249412, 1109.1710755569084, 1360.7787786604276]], [[0.2587636641655411, 0.30618873368327826, 0.09372938285953554, 0.06403737984122172, 0.2772808394504233], [1635.052882640696, 1392.2409238590276, 1547.2261174468515, 1997.0477944873176, 1328.3009474942303], [76.6714430653119, 147.3911171334213, 153.7323626639227, 107.40766569280002, 41.17476658943916], [1242.811321534442, 1864.299926648259, 1838.3172741249412, 1109.1710755569084, 1360.7787786604276]], [[0.15228771714166592, 0.2080810662164153, 0.2581506268160528, 0.2524684802095412, 0.1290121096163248], [1249.3353692697956, 1060.7044925721584, 1791.2437874387479, 1039.3212327376525, 2027.0312617160214], [93.38617738413988, 152.01740551215767, 90.9049499408192, 58.88931920558737, 149.6842291878348], [1242.811321534442, 1864.299926648259, 1838.3172741249412, 1109.1710755569084, 1360.7787786604276]], [[0.26747623721171015, 0.26003211913290303, 0.083598539495464, 0.1986684614209564, 0.1902246427389665], [1101.1579728019126, 1936.8571265009612, 2184.363267241742, 1443.3263549727458, 1039.8286682272546], [80.25135890700075, 63.02567669967632, 134.0676569060786, 82.39553232511378, 41.045557350149], [1242.811321534442, 1864.299926648259, 1838.3172741249412, 1109.1710755569084, 1360.7787786604276]], [[0.2607904897779433, 0.2634640699236315, 0.1250283871124948, 0.19387413629401046, 0.15684291689191987], [1580.4864593026468, 1939.9290486656248, 2246.606448850002, 1384.6073712265456, 1445.2786447270278], [137.0405622768678, 111.09171770971017, 63.110529525451234, 108.7490855510183, 123.32272724495795], [1242.811321534442, 1864.299926648259, 1838.3172741249412, 1109.1710755569084, 1360.7787786604276]], [[0.2575313162386387, 0.18472141158493255, 0.06576108111315901, 0.2597582175639877, 0.2322279734992821], [1305.6138293500394, 1882.8680439583013, 2266.361572249948, 1496.8525966613076, 1603.9587190284835], [127.41146084540851, 75.72727287748702, 62.10480340151902, 128.1664759213781, 57.934741932904785], [1242.811321534442, 1864.299926648259, 1838.3172741249412, 1109.1710755569084, 1360.7787786604276]], [[0.2263680437041468, 0.23704892083236226, 0.16833733503401266, 0.11277396628579237, 0.25547173414368607], [1867.0127734071375, 2082.487638226373, 1935.8474946383403, 1707.922380972584, 1731.7871585832766], [77.34976155504047, 56.62633038540734, 125.86635027249187, 44.155228618525165, 76.08905694575418], [1242.811321534442, 1864.299926648259, 1838.3172741249412, 1109.1710755569084, 1360.7787786604276]], [[0.1914183329095588, 0.41603598047519796, 0.07683686002412653, 0.18012029790464, 0.13558852868647664], [1770.5118849167684, 974.6959063301002, 1750.1364000842523, 1556.7147666802273, 1200.8662393723525], [51.908778304721565, 88.4106402759297, 77.31721533894853, 132.0956637478304, 130.71835823053135], [1242.811321534442, 1864.299926648259, 1838.3172741249412, 1109.1710755569084, 1360.7787786604276]], [[0.12082109765464139, 0.26952441830640567, 0.22446445441531235, 0.24836662234864554, 0.136823407274995], [1357.9912220742026, 2158.322121373784, 1667.8268907868255, 1885.9157975975238, 1081.1784520849285], [114.7705001317758, 116.65456112709205, 114.62250343263386, 104.78231253949752, 110.08525358273904], [1242.811321534442, 1864.299926648259, 1838.3172741249412, 1109.1710755569084, 1360.7787786604276]], [[0.19737327226863263, 0.20002713756694926, 0.18171227081553987, 0.23254034665514026, 0.18834697269373807], [835.7868515531956, 1340.9181015599972, 2195.5077027070693, 1269.8837779058208, 1205.9106665451454], [82.24222263134669, 120.09737358442081, 55.86362795131785, 33.241462164228295, 138.4508761043681], [1242.811321534442, 1864.299926648259, 1838.3172741249412, 1109.1710755569084, 1360.7787786604276]], [[0.11065638320005487, 0.24895952039447106, 0.1968862974663604, 0.21230046241133216, 0.23119733652778154], [1752.0143142790828, 1072.1671371948742, 1176.8305950768995, 1082.4612375401855, 1009.4098865717482], [31.487790806550876, 107.95310925892582, 150.7810971548236, 91.2752358095491, 101.4635401891667], [1242.811321534442, 1864.299926648259, 1838.3172741249412, 1109.1710755569084, 1360.7787786604276]], [[0.18411689899777012, 0.3837658353632091, 0.2067514297034953, 0.08389048565146488, 0.14147535028406058], [1625.7749325685154, 969.2703726787429, 1531.3922859417232, 1857.162442784564, 1912.0375729476598], [46.095572555822976, 38.54235205033327, 80.94795784724064, 140.08270175148877, 37.76247924189525], [1242.811321534442, 1864.299926648259, 1838.3172741249412, 1109.1710755569084, 1360.7787786604276]], [[0.19238917574055056, 0.24022564853424536, 0.14356839487066433, 0.21299064296032216, 0.21082613789421759], [1576.4310523788786, 1960.0428232307358, 1102.810056496718, 1736.5598887015449, 1751.6945958621961], [53.183587440571586, 36.63842010355524, 59.650414032172876, 71.90540112619097, 75.61856873894789], [1242.811321534442, 1864.299926648259, 1838.3172741249412, 1109.1710755569084, 1360.7787786604276]], [[0.21111532857878026, 0.31967873417372766, 0.1105521376381413, 0.20128229526882008, 0.15737150434053065], [1500.5826190427688, 1164.506390268478, 1974.1242230061673, 1158.6743249769777, 1466.2750964385332], [81.02161364019717, 125.1908442065148, 72.10960188375734, 109.89115763460643, 91.64500423040542], [1242.811321534442, 1864.299926648259, 1838.3172741249412, 1109.1710755569084, 1360.7787786604276]], [[0.10902644946930101, 0.30202378548360065, 0.22594109872890392, 0.15274310937355617, 0.21026555694463822], [856.8700308883929, 1190.5535889285984, 1904.0690164783575, 2017.5403147423622, 1598.4284041085052], [94.05892708525992, 110.2631928262403, 68.83423515242484, 81.40166949814241, 143.50131975836746], [1242.811321534442, 1864.299926648259, 1838.3172741249412, 1109.1710755569084, 1360.7787786604276]], [[0.23080655976957493, 0.31978721199318155, 0.2087150573179186, 0.1381995984346793, 0.10249157248464542], [1481.4317811323529, 1708.1610476216692, 1588.8572035505872, 1960.9334059175737, 1920.493922324093], [21.764025915018152, 101.81999504685041, 49.934153082871234, 108.40057659637796, 104.15382392975974], [1242.811321534442, 1864.299926648259, 1838.3172741249412, 1109.1710755569084, 1360.7787786604276]], [[0.12117214813018154, 0.29035390438314496, 0.17693429666595953, 0.1876282401668758, 0.2239114106538382], [916.1737615147791, 1878.3992115007222, 1193.9775644142414, 1703.365089068664, 1763.9535461901432], [62.28687508439582, 78.9188920620989, 77.01345219571957, 107.39153199984808, 77.5039113846133], [1242.811321534442, 1864.299926648259, 1838.3172741249412, 1109.1710755569084, 1360.7787786604276]], [[0.14657107694430543, 0.28058323606173163, 0.2003359873548046, 0.23039902700575998, 0.14211067263339847], [890.8710067021664, 2153.6761734456113, 1201.16897019616, 1271.3583980149324, 1417.989173079436], [132.26730685355392, 51.716012639531456, 148.9557924873726, 94.97379355708637, 30.613778947639517], [1242.811321534442, 1864.299926648259, 1838.3172741249412, 1109.1710755569084, 1360.7787786604276]], [[0.248354493164602, 0.29710141936465934, 0.18976948075252975, 0.10354039057019736, 0.16123421614801167], [1664.841987531241, 1522.0406931711686, 1468.2499818644408, 1065.150650132974, 1920.1538689493264], [47.62301808417467, 143.85698420368635, 135.15112744590846, 91.53386556789019, 38.33841998115235], [1242.811321534442, 1864.299926648259, 1838.3172741249412, 1109.1710755569084, 1360.7787786604276]], [[0.27908858011058485, 0.2695985144855789, 0.15073511673976153, 0.17428033249333938, 0.12629745617073537], [1461.74963252105, 2043.3481726421412, 1146.7473768697296, 1311.862654262191, 971.3671539480227], [21.928767647948675, 59.10030243457205, 113.92562824710058, 96.30209526847311, 87.38637053898002], [1242.811321534442, 1864.299926648259, 1838.3172741249412, 1109.1710755569084, 1360.7787786604276]], [[0.2763092142571705, 0.3010261244863911, 0.060117040758435415, 0.1897880729085024, 0.17275954758950074], [980.0267286318274, 1308.476827162407, 1156.901169597922, 1896.6866507741966, 1558.2195434451974], [78.63033107550038, 137.3741176732101, 141.28097615466692, 111.69898371376853, 56.47718899609084], [1242.811321534442, 1864.299926648259, 1838.3172741249412, 1109.1710755569084, 1360.7787786604276]], [[0.3177377585097329, 0.29484842606548406, 0.11521520329276991, 0.06608402629894934, 0.2061145858330638], [1283.947203279862, 1645.7788692721729, 1343.4363454302015, 1056.0695489280085, 1005.4524870188759], [63.99132408318189, 134.05583003885135, 127.99326668035593, 87.18232820794512, 149.73180136178993], [1242.811321534442, 1864.299926648259, 1838.3172741249412, 1109.1710755569084, 1360.7787786604276]], [[0.16268226216469014, 0.24665717089973302, 0.15550002943623004, 0.22820647772711425, 0.2069540597722325], [1770.2757551361367, 1252.3451947691017, 1102.5692835470245, 1876.5720026377865, 1622.2328415279662], [49.64426212824534, 39.218760934573126, 63.941485208473686, 59.821148641115236, 52.98664001063452], [1242.811321534442, 1864.299926648259, 1838.3172741249412, 1109.1710755569084, 1360.7787786604276]], [[0.16250847854103304, 0.2959526084401903, 0.14478893772070822, 0.1445666695368263, 0.25218330576124215], [1660.158845059621, 981.0081240506393, 1734.9058150082487, 952.8978444581014, 1740.6732713303245], [35.437040825870376, 44.44599956997776, 145.52954560141325, 82.57252168992721, 40.74707183372034], [1242.811321534442, 1864.299926648259, 1838.3172741249412, 1109.1710755569084, 1360.7787786604276]], [[0.21485529934445696, 0.4112399727392495, 0.10206203496816496, 0.14124431681106786, 0.1305983761370607], [1358.88192009853, 1557.0001948367571, 2135.9496402338855, 1174.8513429957975, 1906.6319986989702], [106.40032246319825, 144.01447391397613, 47.597806429502036, 118.74629289948108, 33.524947443401516], [1242.811321534442, 1864.299926648259, 1838.3172741249412, 1109.1710755569084, 1360.7787786604276]], [[0.12541758596662944, 0.3676236901942834, 0.13650484207123043, 0.09989491323044677, 0.2705589685374099], [1810.9817990551746, 2154.831095719689, 1325.2106960314081, 1434.6087933706872, 1329.398295765714], [67.18890331956169, 114.79533362963427, 120.65059466810982, 81.66321803948986, 101.04026915335164], [1242.811321534442, 1864.299926648259, 1838.3172741249412, 1109.1710755569084, 1360.7787786604276]], [[0.2125717993884193, 0.28427680847159464, 0.20574774237865512, 0.0661946565107099, 0.231208993250621], [1977.0445028131192, 1799.8687915006456, 2074.55770607892, 1672.5722439357564, 2051.493206872544], [81.40952108429971, 35.10301072019582, 133.0362047310388, 65.71199891445954, 41.11877063540693], [1242.811321534442, 1864.299926648259, 1838.3172741249412, 1109.1710755569084, 1360.7787786604276]], [[0.17429516544688772, 0.2843729210189545, 0.18334156028929224, 0.24414018737066964, 0.11385016587419602], [1291.5870361740256, 1169.9751813433872, 1256.340995276679, 1537.1465804936397, 1123.2514106183414], [116.61522404553939, 126.12045077200996, 62.37304948606227, 108.20311922916943, 62.8293703537216], [1242.811321534442, 1864.299926648259, 1838.3172741249412, 1109.1710755569084, 1360.7787786604276]], [[0.16764367558732157, 0.25884284487774756, 0.10760236688862695, 0.2142967796396586, 0.2516143330066454], [1690.9785277972087, 998.6596028109252, 1984.8293662636543, 1981.0715622148969, 1461.52016810127], [37.53760914230125, 35.93166623256228, 88.45469969063166, 69.64605213485426, 63.29440981302274], [1242.811321534442, 1864.299926648259, 1838.3172741249412, 1109.1710755569084, 1360.7787786604276]], [[0.14168576776066955, 0.23461984835802968, 0.19101571007391172, 0.16583530890160145, 0.26684336490578753], [904.4026220168803, 1387.5159166252174, 1424.8911710558477, 958.5224818119311, 1972.4645249173377], [120.49849424877834, 126.84135386470994, 67.88789916765259, 122.51779015920141, 77.36792959210545], [1242.811321534442, 1864.299926648259, 1838.3172741249412, 1109.1710755569084, 1360.7787786604276]], [[0.10554535519547213, 0.3329382755024765, 0.1773923108173113, 0.1730260839991379, 0.21109797448560216], [1795.1126001082619, 1553.8580458100955, 1322.866217486206, 1348.3771814436668, 2087.630137538601], [59.80763877219131, 117.28280442508333, 57.81140917353001, 90.08923457865735, 123.71037575490105], [1242.811321534442, 1864.299926648259, 1838.3172741249412, 1109.1710755569084, 1360.7787786604276]], [[0.1494232283227787, 0.206585165693289, 0.16805656555553472, 0.24195838143080312, 0.2339766589975944], [1616.2335790259076, 978.4813642376658, 1154.0726273530179, 1910.8450821141373, 1828.4234431818486], [105.71503269397108, 121.41497849754506, 80.77551289639133, 107.55487332998857, 72.13527447939543], [1242.811321534442, 1864.299926648259, 1838.3172741249412, 1109.1710755569084, 1360.7787786604276]], [[0.23098790225750954, 0.15666662486336205, 0.20533452430000515, 0.16451199408385653, 0.24249895449526668], [1688.364954181167, 1639.7955976479525, 1348.0883888568085, 1676.7361352147186, 1750.834829057605], [123.90260448402879, 72.50488796715729, 100.57866627396804, 135.08694869961653, 55.46201506759604], [1242.811321534442, 1864.299926648259, 1838.3172741249412, 1109.1710755569084, 1360.7787786604276]], [[0.1801638069918792, 0.24496352206470426, 0.1614224608435259, 0.22490504674695938, 0.18854516335293126], [877.2161066053518, 1426.4974212483007, 1130.6249369651566, 1058.5005783241331, 1306.9822440349037], [129.0779909193182, 108.08916809214537, 69.1934900354514, 36.46261082117654, 31.133668706725103], [1242.811321534442, 1864.299926648259, 1838.3172741249412, 1109.1710755569084, 1360.7787786604276]], [[0.13608536286999606, 0.31515302741184975, 0.13558078352252817, 0.1801454650277227, 0.23303536116790322], [1160.0554162954936, 2097.1141881893154, 1468.25577327993, 1452.9421600130245, 1371.1483005156028], [97.53058937237216, 78.4399030001812, 87.87821289942998, 45.412673206915564, 31.456238640411577], [1242.811321534442, 1864.299926648259, 1838.3172741249412, 1109.1710755569084, 1360.7787786604276]], [[0.20848516784829135, 0.32442205230783105, 0.1775117477630988, 0.060813310313280425, 0.22876772176749838], [794.6170385386924, 2087.6646663470883, 1362.4987887016468, 978.4112124966858, 1216.475915577927], [46.07705709041605, 94.5420446153777, 127.194855562316, 74.19620121281278, 146.18319864162024], [1242.811321534442, 1864.299926648259, 1838.3172741249412, 1109.1710755569084, 1360.7787786604276]], [[0.14541638935956727, 0.21846773261461513, 0.16378194463492443, 0.21235425618255016, 0.25997967720834303], [1597.9769337628077, 1759.729366306649, 1881.6596495494955, 908.6790104667572, 984.2196092204325], [64.3375289676754, 82.5415788891638, 147.11674867757782, 142.10965631046022, 119.90806626106934], [1242.811321534442, 1864.299926648259, 1838.3172741249412, 1109.1710755569084, 1360.7787786604276]], [[0.2125039791454347, 0.2345744517835297, 0.2241023737459335, 0.17886750339900206, 0.1499516919261001], [1174.1101487149142, 1390.3799264883417, 1161.8408611580371, 2025.3400514578382, 1442.1177856206232], [86.17918874709531, 47.917260821562735, 68.80452099816428, 117.09740851347776, 67.31763662916529], [1242.811321534442, 1864.299926648259, 1838.3172741249412, 1109.1710755569084, 1360.7787786604276]], [[0.1823605775101945, 0.28228423151646553, 0.19156590647204783, 0.17980955128791526, 0.16397973321337694], [1024.282901434583, 1924.2533050553227, 1680.1058617732078, 1119.106649095805, 1685.4991150441244], [56.04690567086304, 111.2988827619674, 118.1849381220547, 37.605595007067976, 80.40875118048253], [1242.811321534442, 1864.299926648259, 1838.3172741249412, 1109.1710755569084, 1360.7787786604276]], [[0.10568487481181128, 0.2541284426972778, 0.21661898625687195, 0.19100961229731078, 0.2325580839367282], [1802.5406941908564, 1713.8377983596688, 1651.762021850147, 1613.2320732363137, 1921.4759742658396], [98.83676899261694, 60.61078650712642, 106.92970497226923, 41.64277647399699, 54.00581902107236], [1242.811321534442, 1864.299926648259, 1838.3172741249412, 1109.1710755569084, 1360.7787786604276]], [[0.2041395719863089, 0.3272217068613049, 0.13025036733518489, 0.04695629467304796, 0.2914320591441533], [1296.3937556596225, 1257.9283549152665, 1830.0928882349474, 1600.5286295479777, 1026.5438543165255], [37.834398329793814, 146.56045372890372, 131.76227982151565, 90.45461882316407, 105.0865636322094], [1242.811321534442, 1864.299926648259, 1838.3172741249412, 1109.1710755569084, 1360.7787786604276]], [[0.17672048514506242, 0.49559949483949606, 0.09218090586203571, 0.10585637036900564, 0.12964274378440016], [1009.9211202515789, 1424.0121882194085, 1858.369750135529, 912.7877461783456, 1341.5297709704607], [133.18704520204375, 57.7046195613685, 144.28433499551406, 80.18825742266021, 128.18783152510497], [1242.811321534442, 1864.299926648259, 1838.3172741249412, 1109.1710755569084, 1360.7787786604276]], [[0.33431706875970113, 0.3223816641459542, 0.04938532622638844, 0.19447317906554318, 0.09944276180241315], [1824.8885368063227, 1511.5464986874458, 2220.156825070715, 2035.012061669546, 970.8936695935088], [93.32021595122252, 87.7749406107561, 109.16761903730217, 140.91540627312781, 88.76992329337483], [1242.811321534442, 1864.299926648259, 1838.3172741249412, 1109.1710755569084, 1360.7787786604276]], [[0.1343552187365937, 0.31366552630798955, 0.12979540717288257, 0.18022583702095413, 0.24195801076158005], [1930.8491166428785, 1314.0026731464998, 1154.7109561398197, 1378.602395948687, 1657.427620972364], [60.98052839776853, 124.50701879819532, 136.25401584534688, 50.35946057741536, 142.00038537858072], [1242.811321534442, 1864.299926648259, 1838.3172741249412, 1109.1710755569084, 1360.7787786604276]], [[0.2605846068609306, 0.230757420719154, 0.20542554056953988, 0.20721447356870934, 0.0960179582816663], [1605.9350843746124, 1177.8479690761806, 1828.7687383111079, 1945.834388451547, 2047.9481776721361], [78.24191401924315, 120.85944223848584, 56.98920777087014, 129.52566810491274, 119.77073469561493], [1242.811321534442, 1864.299926648259, 1838.3172741249412, 1109.1710755569084, 1360.7787786604276]], [[0.29349642564149586, 0.2625954542308786, 0.06473715520241817, 0.06692379924915808, 0.31224716567604915], [1282.4707974302846, 2063.824508095271, 1206.721598065255, 1260.2981625334162, 1384.134809584124], [75.97804273281017, 80.182503543025, 96.0345059473766, 77.63694572406129, 42.076891758542985], [1242.811321534442, 1864.299926648259, 1838.3172741249412, 1109.1710755569084, 1360.7787786604276]], [[0.1035962592755488, 0.2615191307560893, 0.2152854974950052, 0.15324853932534496, 0.2663505731480118], [1494.0866289090518, 1659.1048428575868, 1521.6433417975445, 1868.102295182498, 2021.0102987438675], [83.64187605653854, 46.68247033472624, 46.777791237803726, 61.45893457589103, 93.5737482644592], [1242.811321534442, 1864.299926648259, 1838.3172741249412, 1109.1710755569084, 1360.7787786604276]], [[0.18269221260080434, 0.24720352330785814, 0.13231979028349283, 0.15914264458728344, 0.2786418292205611], [1789.3743358390554, 1000.2458321215622, 1770.2977781363431, 1215.5333740567512, 1140.9900011112481], [26.991925510634353, 87.2976581183404, 121.46947879531334, 47.31526324260181, 86.16307852182742], [1242.811321534442, 1864.299926648259, 1838.3172741249412, 1109.1710755569084, 1360.7787786604276]], [[0.1473634239371881, 0.34941062124679445, 0.17919414326008032, 0.060852510490004265, 0.26317930106593274], [1716.9436957591652, 1696.2006104819836, 1643.9883865130096, 1386.0856439175955, 1395.1898681045225], [117.02527258564126, 49.22952881463395, 79.09166079861711, 99.7179232013534, 48.41502381513287], [1242.811321534442, 1864.299926648259, 1838.3172741249412, 1109.1710755569084, 1360.7787786604276]], [[0.2006697570565297, 0.29378828633107373, 0.13571102244426897, 0.21978124551980324, 0.15004968864832444], [1680.0995718139975, 1040.47070547653, 1797.7569436876197, 1232.347122018348, 1288.712472975643], [27.78001530095362, 121.23436286977909, 126.47778847093774, 142.1432143378283, 103.53220231059605], [1242.811321534442, 1864.299926648259, 1838.3172741249412, 1109.1710755569084, 1360.7787786604276]], [[0.33763053193076287, 0.254248870010281, 0.10433330907916202, 0.09457849391481445, 0.20920879506497958], [1646.4059170038422, 1774.3872257978792, 2187.8963873933544, 1136.069876072926, 1226.9553023544654], [24.632530605638607, 102.8089090988801, 100.06879533305568, 41.71145320702698, 89.51974916351153], [1242.811321534442, 1864.299926648259, 1838.3172741249412, 1109.1710755569084, 1360.7787786604276]], [[0.1936982803857375, 0.23431291382797786, 0.20922470902386764, 0.1872462611304305, 0.17551783563198642], [1718.9683165510128, 1204.3912295276796, 1172.0196855826948, 1318.5135365378624, 1964.387371707708], [22.397289466911424, 148.04351503768527, 71.25434873832769, 83.11315335790144, 131.1837776678775], [1242.811321534442, 1864.299926648259, 1838.3172741249412, 1109.1710755569084, 1360.7787786604276]], [[0.17898869105770857, 0.3541583257647548, 0.13239483051144743, 0.2330634961797743, 0.10139465648631485], [1310.1631917158156, 2060.557723349073, 1574.3261650454144, 1366.176454882213, 1503.085804790228], [106.39906954401349, 134.396103680971, 111.94430976503892, 28.34748109409295, 53.98581345237106], [1242.811321534442, 1864.299926648259, 1838.3172741249412, 1109.1710755569084, 1360.7787786604276]], [[0.3543239201717324, 0.22204655284022948, 0.06617039504323066, 0.1533794518472133, 0.20407968009759409], [1761.6928440849674, 1671.157993817867, 1214.0879532021945, 1531.2467339674217, 1440.9864379155938], [69.31789188344781, 123.69791003864736, 125.13747731451804, 121.83234202539725, 57.948430616126224], [1242.811321534442, 1864.299926648259, 1838.3172741249412, 1109.1710755569084, 1360.7787786604276]], [[0.28614785283410166, 0.27409704729072715, 0.07742218201842949, 0.2054291725094679, 0.15690374534727397], [1690.804225309512, 1023.1012863368333, 2217.4394495056313, 1268.3034142563774, 1144.695028910965], [132.40220304334696, 87.6907579418477, 131.02818427267619, 72.40275674452009, 119.70275721512644], [1242.811321534442, 1864.299926648259, 1838.3172741249412, 1109.1710755569084, 1360.7787786604276]], [[0.1917265802305188, 0.3599191663482912, 0.12580098146608515, 0.21666097904946321, 0.10589229290564169], [1183.2406399265815, 1785.2030501528802, 1555.9038655717084, 1048.781358496715, 1693.716127482263], [55.35796551794393, 37.15395420771452, 104.80473539585748, 140.52188638450156, 49.04281864570815], [1242.811321534442, 1864.299926648259, 1838.3172741249412, 1109.1710755569084, 1360.7787786604276]], [[0.3045310388144379, 0.21896817448414876, 0.06954434179879472, 0.1789867847783436, 0.22796966012427491], [1366.3049954274106, 2123.3636094685194, 1888.5258159986063, 1072.941444696518, 1280.4747474755275], [118.16190544226453, 149.16075130544243, 154.31235327728865, 68.53072459378967, 131.72811231169908], [1242.811321534442, 1864.299926648259, 1838.3172741249412, 1109.1710755569084, 1360.7787786604276]], [[0.10936466110607437, 0.34883148778127887, 0.12544926556728292, 0.2211239406995101, 0.19523064484585373], [1229.7143148845714, 1100.3602998363926, 1862.3551764709755, 1604.2935418667107, 1330.3545248449366], [135.457090674605, 83.68485305603059, 148.2116890527658, 55.92793169521792, 97.51945505631849], [1242.811321534442, 1864.299926648259, 1838.3172741249412, 1109.1710755569084, 1360.7787786604276]], [[0.2254723368451274, 0.3173064350371184, 0.1356984401518745, 0.20903196547249328, 0.11249082249338638], [1354.2122512766528, 1575.3039518822218, 1863.077056159761, 1027.0394264826782, 2004.2143326670111], [65.92687796956582, 103.31051805776403, 50.06796400632966, 144.81149770767203, 67.21088847319947], [1242.811321534442, 1864.299926648259, 1838.3172741249412, 1109.1710755569084, 1360.7787786604276]], [[0.17509759546651554, 0.40159160201295974, 0.21403497156836065, 0.05132881617067505, 0.15794701478148912], [1762.6552541779472, 1533.5252277863572, 1752.476039047754, 1784.8888913181067, 1025.465934875891], [66.5179099693494, 137.57196062684838, 139.6660535466583, 78.1164167960732, 119.87496576269692], [1242.811321534442, 1864.299926648259, 1838.3172741249412, 1109.1710755569084, 1360.7787786604276]], [[0.19625162102026147, 0.2918070619752519, 0.1454684998220525, 0.22098139399716857, 0.14549142318526556], [1719.019785336239, 1762.2429658021738, 1988.2880359793116, 1354.1349093333383, 1810.2100637820085], [65.39387940523505, 37.65850295097031, 151.79826202463713, 74.1151137719868, 56.799218684016495], [1242.811321534442, 1864.299926648259, 1838.3172741249412, 1109.1710755569084, 1360.7787786604276]], [[0.1836752773105092, 0.2106778271081987, 0.15972780138782963, 0.11094471615006064, 0.3349743780434019], [1959.63804824901, 2113.769070958269, 2184.570949068895, 1350.647066530687, 1272.7855588536238], [75.44269375750721, 48.12129026669592, 63.13359460821384, 119.14585314446403, 133.33213851100862], [1242.811321534442, 1864.299926648259, 1838.3172741249412, 1109.1710755569084, 1360.7787786604276]], [[0.24269065080879326, 0.3015308128332517, 0.12541882357674664, 0.07958314527463636, 0.25077656750657196], [1649.705030650702, 1319.8443855796722, 2094.9982666843634, 865.6678929927577, 1211.1246225114428], [128.55247571243206, 82.54291541737803, 40.591065014084975, 65.72337422558914, 96.46228780206847], [1242.811321534442, 1864.299926648259, 1838.3172741249412, 1109.1710755569084, 1360.7787786604276]], [[0.25437628659506384, 0.2694201157980436, 0.07311628289284611, 0.12776371751584223, 0.2753235971982041], [1415.0334871725727, 1225.8263632573664, 1853.7713155690803, 1698.8331254034524, 1363.9491354303593], [97.73844544969035, 124.29354604218676, 55.17771179185196, 118.60277434610292, 67.95505570566368], [1242.811321534442, 1864.299926648259, 1838.3172741249412, 1109.1710755569084, 1360.7787786604276]], [[0.17474652075613303, 0.32919956770114156, 0.23391731000992513, 0.0960014725432852, 0.16613512898951516], [1103.9603600730227, 2154.690629262468, 1691.9074447926623, 1017.7187038018972, 1934.903202955808], [101.99664300054062, 86.16551128459845, 151.15470477666943, 71.8246280517521, 74.01221964731728], [1242.811321534442, 1864.299926648259, 1838.3172741249412, 1109.1710755569084, 1360.7787786604276]], [[0.17575345738228124, 0.2569186496646351, 0.14532886694330435, 0.2352363709787052, 0.18676265503107403], [1259.1813074454824, 1421.949870747558, 1425.8552788683594, 1247.2180916222371, 1870.5318175423913], [59.613248689234645, 83.54249799657538, 56.277879121651964, 27.04770175394423, 145.1565695862348], [1242.811321534442, 1864.299926648259, 1838.3172741249412, 1109.1710755569084, 1360.7787786604276]], [[0.17327688663471963, 0.37005919412515403, 0.18884715950424885, 0.07606539309929972, 0.19175136663657769], [1767.0139758035016, 1082.478247686479, 1536.5055401367283, 989.5747954860857, 2125.288044582065], [133.65159972310718, 78.24674734419216, 109.91218474792755, 106.76398037417984, 96.43705219415288], [1242.811321534442, 1864.299926648259, 1838.3172741249412, 1109.1710755569084, 1360.7787786604276]], [[0.17798512890711957, 0.24335395099799745, 0.16867813211318403, 0.20517629226435524, 0.20480649571734372], [905.0529878269933, 2025.824546620123, 1106.4863229648536, 1139.5273841133471, 1605.3758909343237], [138.51981744074035, 77.6255885691034, 105.00270649811401, 101.51023548120146, 36.80093488692816], [1242.811321534442, 1864.299926648259, 1838.3172741249412, 1109.1710755569084, 1360.7787786604276]], [[0.1261344287078599, 0.3924673443983704, 0.07424797784165633, 0.08300117881776727, 0.324149070234346], [1649.6799150908105, 1663.896318058192, 1973.2363015300161, 1457.4425135694155, 1791.6022764604963], [87.74986629499958, 45.82226267595169, 131.4802873614762, 112.02616498145468, 35.675930859227584], [1242.811321534442, 1864.299926648259, 1838.3172741249412, 1109.1710755569084, 1360.7787786604276]], [[0.2439954015716978, 0.28220902924460295, 0.10263357601092016, 0.26471763768135886, 0.10644435549142033], [1798.8284795986779, 1961.7461599826947, 1664.9092978608837, 1978.5888377238969, 1486.520396055445], [30.001734709784472, 98.66485009197979, 51.54397481380755, 58.26489660278644, 58.40451852465832], [1242.811321534442, 1864.299926648259, 1838.3172741249412, 1109.1710755569084, 1360.7787786604276]], [[0.22190987403443166, 0.1953930903772699, 0.09970436477853559, 0.23039036416001252, 0.25260230664975025], [1508.8049558434025, 1418.7746296825949, 1561.4715879878504, 1422.5231591415522, 2039.1425661345063], [38.41253380751651, 96.57475252749337, 115.3864303071725, 68.56157655831524, 114.92199777611506], [1242.811321534442, 1864.299926648259, 1838.3172741249412, 1109.1710755569084, 1360.7787786604276]], [[0.24791635180306648, 0.2550359241052565, 0.15513580804214963, 0.09121039912461693, 0.25070151692491044], [1838.463681398452, 1572.7205557181865, 1381.9329784581878, 1703.1292366093603, 1083.0688265120637], [25.738345329538824, 88.3522118359536, 41.24327856357035, 131.32853179401866, 45.64495805359901], [1242.811321534442, 1864.299926648259, 1838.3172741249412, 1109.1710755569084, 1360.7787786604276]], [[0.16560671216697212, 0.17986784290474783, 0.2078655172422605, 0.22969296504852743, 0.21696696263749216], [1431.8141596603073, 1434.3345476050506, 2158.5522305340587, 1469.345289717735, 1765.3112619154754], [61.57303479269572, 128.11116937920073, 104.12732093476362, 57.105988673053226, 70.20705353163973], [1242.811321534442, 1864.299926648259, 1838.3172741249412, 1109.1710755569084, 1360.7787786604276]], [[0.1044267269000337, 0.3347516365075598, 0.10140513328938479, 0.22349757553506402, 0.2359189277679577], [1026.2288803242645, 1013.1529100024319, 1511.2275589175388, 1836.2295154845638, 1835.7386692370096], [50.30596160468225, 108.78196819641465, 55.753911269978616, 77.90121823571917, 65.53892192459935], [1242.811321534442, 1864.299926648259, 1838.3172741249412, 1109.1710755569084, 1360.7787786604276]], [[0.12121200870502481, 0.2719334891189521, 0.09682505334796844, 0.30102703713361634, 0.2090024116944383], [1272.9310036262266, 1817.950446810746, 1756.8292933809703, 1146.2583877399163, 1480.696758174698], [77.6839325207161, 63.63934926954396, 109.05288948026731, 36.7343021676737, 38.296279357025966], [1242.811321534442, 1864.299926648259, 1838.3172741249412, 1109.1710755569084, 1360.7787786604276]], [[0.4008903619513594, 0.2631602931382749, 0.0587736430958481, 0.06998245862195063, 0.20719324319256688], [1219.5183156778567, 1228.8466656514695, 1596.4110082980446, 1138.2048429682532, 1895.0010341866273], [136.1107636059254, 51.28292434632321, 53.65439763887191, 99.0562657169778, 37.53932069510409], [1242.811321534442, 1864.299926648259, 1838.3172741249412, 1109.1710755569084, 1360.7787786604276]], [[0.2222953417383723, 0.25712415920643983, 0.16946622890372784, 0.2063895621541524, 0.14472470799730752], [1043.2426511335802, 1492.4630737910138, 1887.3322178841936, 1494.4661104134616, 2092.944133069978], [46.959300227971774, 69.65780003144317, 148.1437500102005, 78.38037046956748, 83.13441914184082], [1242.811321534442, 1864.299926648259, 1838.3172741249412, 1109.1710755569084, 1360.7787786604276]], [[0.11946397695229685, 0.35473995464822927, 0.19114884433339444, 0.13659550644211896, 0.1980517176239606], [1029.5986263905236, 2118.9678812583156, 1086.3886671621974, 1359.9225812177292, 2029.6254256465402], [86.45042938606885, 55.56061504222867, 62.55526026985499, 115.27359480333811, 38.14256665546331], [1242.811321534442, 1864.299926648259, 1838.3172741249412, 1109.1710755569084, 1360.7787786604276]], [[0.286447599659896, 0.2976523958083523, 0.07023504010341619, 0.2102821770146256, 0.1353827874137099], [1515.2333071111593, 1742.1886033266444, 2195.2132222477167, 1485.5604708571882, 1473.1629818323804], [45.989386246176, 45.87915192993253, 96.4840862629554, 76.28367253418025, 91.75209357554259], [1242.811321534442, 1864.299926648259, 1838.3172741249412, 1109.1710755569084, 1360.7787786604276]], [[0.2620185670201057, 0.3817209692316625, 0.0950014249835328, 0.051879666001151035, 0.20937937276354784], [1853.4614044166917, 1544.4371308556924, 2133.9521115906978, 862.5805920410079, 1110.5088449242503], [58.51024759519017, 68.45141157186343, 145.7634823171378, 75.29277264579363, 143.16122809503244], [1242.811321534442, 1864.299926648259, 1838.3172741249412, 1109.1710755569084, 1360.7787786604276]], [[0.2918016868257689, 0.33229162376398536, 0.14331840967726392, 0.056751398635876506, 0.17583688109710527], [1908.308626109724, 2093.13983521037, 1959.828206767501, 1297.8773726796305, 1411.781123558646], [66.43432046687474, 79.41122909332826, 101.786450301647, 38.810638809221054, 147.38674954367158], [1242.811321534442, 1864.299926648259, 1838.3172741249412, 1109.1710755569084, 1360.7787786604276]], [[0.28563935870568224, 0.2893664518106123, 0.14007712845392528, 0.1666150676247793, 0.11830199340500094], [1418.3101821941818, 1445.3818505723848, 1286.4158222747533, 1363.1952600860673, 1052.5696133231681], [133.4832335161707, 107.45873521542521, 104.5892586189016, 43.180840411366205, 89.66654794950534], [1242.811321534442, 1864.299926648259, 1838.3172741249412, 1109.1710755569084, 1360.7787786604276]], [[0.17107634315687847, 0.22925120593691264, 0.13211774548976918, 0.2887491425265849, 0.17880556288985472], [1805.8586614816768, 1692.5470979372085, 2133.1913936831443, 951.8432295020207, 1057.1911063184707], [47.08577324357491, 66.9166507583293, 43.43237648364591, 61.984126698450055, 43.685617755913974], [1242.811321534442, 1864.299926648259, 1838.3172741249412, 1109.1710755569084, 1360.7787786604276]], [[0.12009557627177103, 0.3406418273039276, 0.07175355059609823, 0.24978269203221376, 0.21772635379598934], [1955.0113845493256, 1785.7567688684157, 1638.2453765434175, 1454.1344966077597, 2032.235909615371], [46.91418795016887, 49.145955188650106, 73.90440622226352, 141.76350792825713, 37.90983172299557], [1242.811321534442, 1864.299926648259, 1838.3172741249412, 1109.1710755569084, 1360.7787786604276]], [[0.21672165682134142, 0.27794732676750206, 0.19324288074528048, 0.2117011237046745, 0.10038701196120156], [1732.4993405031237, 1279.4689376257083, 1463.059330652238, 1849.6158789274482, 1989.649317376628], [75.43659833152336, 51.86728890998616, 58.58073352274873, 61.370278880790934, 71.57844109407388], [1242.811321534442, 1864.299926648259, 1838.3172741249412, 1109.1710755569084, 1360.7787786604276]], [[0.1883145246495694, 0.28345394129295004, 0.08057096374223156, 0.12662276576251527, 0.32103780455273373], [1045.2406745611388, 1911.8865914833466, 1668.5025782021876, 1328.471287293918, 1476.7849082717182], [126.2728799840406, 58.39647416910326, 66.59703486405296, 80.51223685632027, 38.041217860180524], [1242.811321534442, 1864.299926648259, 1838.3172741249412, 1109.1710755569084, 1360.7787786604276]], [[0.3024086722720021, 0.2249901055332582, 0.09213228004553302, 0.11790642488744874, 0.26256251726175805], [1433.8534953294225, 1916.0143124211663, 1287.1294381491075, 1389.384703441961, 1078.324717617959], [98.2169517275887, 82.0081538891477, 129.46833701403443, 91.16838131401282, 117.8767941695207], [1242.811321534442, 1864.299926648259, 1838.3172741249412, 1109.1710755569084, 1360.7787786604276]], [[0.27226167625649766, 0.22508916972366388, 0.045975234405359576, 0.20464828309177782, 0.252025636522701], [1527.7505548845304, 1741.7250305052705, 1793.7238349879408, 942.366429365872, 1701.117595669757], [97.68565171968571, 107.23400703283949, 142.60537824824598, 129.17495053599202, 75.39910589315261], [1242.811321534442, 1864.299926648259, 1838.3172741249412, 1109.1710755569084, 1360.7787786604276]], [[0.12787543042838206, 0.3187259312775638, 0.11537029527955117, 0.1688120631170534, 0.26921627989744956], [1279.3570312500901, 1354.2181802832813, 1741.1675237696963, 1370.0265358602064, 1364.377372905805], [71.84762693178772, 75.48204468469024, 138.2579142075446, 52.227159623871856, 121.12995141786121], [1242.811321534442, 1864.299926648259, 1838.3172741249412, 1109.1710755569084, 1360.7787786604276]], [[0.22241866219254258, 0.4187949156763794, 0.11149119822375102, 0.09535733878442613, 0.1519378851229009], [1328.3560132979712, 1499.94785989805, 2201.7719737378525, 1924.9945894646542, 1260.631184241771], [65.46800434002272, 96.45131614139807, 52.11840544438754, 27.191324429063407, 64.70435113341087], [1242.811321534442, 1864.299926648259, 1838.3172741249412, 1109.1710755569084, 1360.7787786604276]], [[0.1524639005525039, 0.46470137976714176, 0.07038680011442791, 0.1719175796365511, 0.14053033992937528], [1252.239662091291, 1843.4352262663485, 1815.0360197317477, 1094.028941635818, 1375.9973758768624], [57.22870736307093, 58.54478499201967, 77.56233739417696, 69.53814515911793, 75.41333416684652], [1242.811321534442, 1864.299926648259, 1838.3172741249412, 1109.1710755569084, 1360.7787786604276]]]]\n"
     ]
    }
   ],
   "source": [
    "print(regimeCycle2);"
   ]
  },
  {
   "cell_type": "code",
   "execution_count": 23,
   "metadata": {
    "collapsed": false
   },
   "outputs": [
    {
     "name": "stdout",
     "output_type": "stream",
     "text": [
      "[[[5.0545698819504761, 4.4570569763335994, 3.8309271492660097, 3.8412018449857253, 4.2882677470528217], [4.7968460025211765, 4.1060391473853572, 4.9978204706058804, 4.383217153742029, 4.5013489117982317], [3.7586320248949066, 2.749306035260906, 2.3932042504151578, 2.0893053632814018, 2.1061692456300118], [3.2612759015262371, 3.6388147112310691, 3.0119746009977479, 3.3305357979752146, 2.4807945689212336], [4.2098981691950987, 3.5409100675350618, 3.7073971827162091, 3.2822628696275848, 3.576533710599556], [4.3067622912045165, 3.385021736468818, 3.048344729387674, 3.4647969109269554, 2.582514063366236], [3.8536074677568437, 2.6581509867059321, 2.4469936109251935, 2.4755491265513876, 2.9285245560699011], [4.1313466901457359, 3.5563064716452573, 3.3128886994396325, 3.161365830338565, 2.7190347557436625], [6.9922912845641019, 2.1408872177878067, 1.8934630974868611, 1.9476615366594903, 1.2705130281246217], [6.007454103053731, 3.6829332884068204, 3.1058284760669963, 3.5970766795441671, 3.064609733510101], [3.7066720397494732, 3.6806277385577388, 2.0899411793591143, 1.8777079667336436, 1.8212480159047515], [3.5685420403482881, 2.7039434303953187, 1.6744218295420377, 1.151917885785158, 0.9295761340712978], [3.6938084620261757, 2.9401154558237055, 3.3281105241260787, 2.8058636606926304, 2.6620128748527341], [4.7595682358577758, 3.9409171322426104, 3.9153896871705838, 3.7760895635649852, 3.7921608415841543], [3.7453873284119656, 3.2657305123728935, 4.2289391706676778, 3.6343129391787872, 3.9564858664707132], [5.2500899076606142, 4.098650728685814, 3.5677205887784895, 3.3750577438826075, 3.5420844072355471], [2.8957519885276888, 1.9309158829141462, 1.7410149967707624, 2.2006542336015693, 1.6249308274972001], [3.749538821276345, 4.953361008035186, 2.716850051831408, 1.1480280307737929, 1.0160845567799501], [2.8913890518033312, 2.4183930217564926, 1.7866818828102311, 2.165935529483062, 3.1997573238283015], [3.167403875271932, 3.0307643507303834, 1.6909189383760523, 1.9270122569561998, 1.5505964941577117], [4.1258399763983142, 3.954169105891173, 2.9518585761505456, 2.5375458128434696, 2.6697776130918762], [6.1145136392323813, 4.4897510678391024, 3.2410793238790983, 2.2285577941051105, 3.0797525325909949], [5.037831102470486, 4.0735946891201813, 4.3804285300318568, 3.571990583834538, 3.8674258554104886], [4.5867532289182309, 2.3672994954146303, 2.5369034534201691, 2.3184661251102381, 2.9422082995072882], [4.0928472069075523, 3.1436981409704297, 2.5918117747736793, 2.4336177035153872, 2.0827738129313986], [4.354113640178273, 3.132778979856917, 2.8945205168778561, 1.9288131599351204, 2.6789446201378255], [3.7066753344939358, 2.6550824025310695, 2.7366493215660825, 2.3715874155771011, 2.1754328245196457], [4.764015215994954, 4.4381251539007973, 4.3601705776879651, 4.203792596483777, 3.5479169556720054], [4.5472810381779096, 4.6040623186047558, 2.8188144402379498, 2.056171432561249, 2.0992883712698029], [5.4533655977270463, 4.3312909755421716, 2.6695505057237932, 3.4347376065422082, 2.6736030307491836], [4.5120935946618976, 4.7578150241867911, 4.2821159040866368, 3.8054669801291268, 3.8187586593343963], [5.5673950313098715, 4.834166258567401, 4.5490170624383266, 4.0357159691774287, 4.0849564162801713], [6.1604270312071225, 5.5227184429684479, 3.0413385513754201, 2.9888639504623811, 2.7833049083181107], [5.3881951552941638, 5.2182628120138803, 4.3983687508985847, 4.3212382220662251, 2.8290499784213097], [3.5274206824234962, 3.6996148804969629, 3.5501574813224805, 3.3763115703873101, 3.2032895247580733], [4.3521905544861896, 3.985965897080753, 3.8487487369921234, 3.4583610408584038, 3.3095459436930739], [3.4758667749351853, 3.9480562800048493, 2.702141252779708, 2.5429791527854841, 3.055945700190914], [4.5834828514470685, 3.8615220052133932, 4.1955977936362876, 3.6343671862090634, 4.1973581725567879], [5.1257882272590862, 2.402381673323347, 2.2476144604679074, 3.4119074403650438, 4.3286998173812554], [3.9423279557139086, 3.4842159296473039, 4.361809340330824, 3.1972210515966371, 3.5405920375841964], [4.4278554256681311, 3.9674390568125877, 3.8861574531180425, 3.5259022129793376, 4.027614969271931], [4.7679928525068274, 4.3880822936382158, 3.6888656330834335, 3.5513301381675184, 4.1730089048882402], [4.7439983687776035, 3.7729461409119849, 3.1604012358690379, 2.70867882612069, 3.0284302862242058], [4.721700125487776, 4.2397988549650156, 4.1001137733593485, 4.5804653220769822, 4.6562038593355606], [3.6688763209238182, 3.5052816272086869, 3.5223687236010219, 3.3310749261968287, 2.9949798477550074], [3.9644537978476913, 4.1490193039792915, 3.7819167821920687, 3.2917537706748647, 3.6367579703148603], [3.3783396180709637, 1.9787174707312496, 2.040860624997114, 2.068040823913301, 1.7117959162679957], [3.6946021685880148, 3.2444871293007465, 3.1377171003511539, 3.562629700762014, 3.0629386155271758], [5.6201539543816201, 4.5746476299929242, 3.3316002159563611, 3.0632335791240419, 3.7202894768620656], [3.9556117094141263, 2.5521808993688477, 2.4816848086642165, 1.9418455220265582, 2.0755472872318097], [3.5527558565485187, 2.9795669412725068, 2.0076749456858383, 2.0745456337912991, 2.1651328491614676], [5.1535473270734409, 3.99443322205394, 2.3699195052553796, 2.0003922147732935, 2.0039376451885946], [3.9415204451680022, 3.0691787328300619, 3.1007615722446227, 2.778117847836199, 2.3256913427007193], [5.5833291627273551, 4.1706989537266033, 4.0325492676513734, 3.9541621132775879, 3.9244415293539396], [5.3969980261588617, 5.708052740801409, 5.3251916859273978, 5.0978394836071637, 5.0179391676100709], [5.1732255048271574, 4.3898906989666724, 3.688764126302118, 4.48652253025449, 4.4975857107730057], [4.6723351596950593, 4.8939907819562096, 4.095102936409539, 4.3011990370463211, 3.6385373930717999], [5.4491821374488314, 3.9109886991153404, 2.9758540980897954, 2.824621935032265, 2.562324376464105], [4.0136403538979195, 3.907419271688878, 3.5296645734876386, 3.8773975779006804, 3.7202417582683145], [4.0061498516914433, 3.8049203581973048, 3.6881211038362314, 3.9158824983306579, 3.244773401750884], [3.7026595538171043, 3.0075052611838187, 2.4276268216552785, 0.94853858431707927, 0.954170071022725], [3.890757551898385, 2.9099296785325519, 2.4665804953931829, 2.0414553851800457, 1.8209413381476676], [6.3453541233773336, 3.9506443671872034, 3.4307646719039897, 3.0856731864177664, 2.9226055578529211], [4.8034154364485646, 3.7986236565457432, 3.9382561967107135, 3.9453147653030474, 3.6783033911949059], [4.7345444365673526, 4.6548166220252112, 2.3838974813429052, 2.0755080612387236, 2.1893192889981989], [5.1169690348523895, 3.7403701993450258, 2.1514365958601274, 2.9906027414406671, 2.0095555762497974], [5.0389482694701035, 4.1473148631545111, 4.2074510550127204, 3.970564895765909, 4.090902299720625], [4.9842363603133855, 3.6618926388482369, 4.5856333740697135, 2.9748043264966659, 2.4030236739773478], [4.1543965695165834, 3.4546068646425616, 3.2071572031321782, 3.0187381472482659, 3.201367807259881], [3.6358019024381298, 3.4865960015409878, 2.8492049269631852, 2.9666692053887109, 2.6741227612789418], [4.7793182564331937, 4.4866187945831459, 4.5360294219207367, 4.368894699525149, 4.1563152477402232], [3.5591798466144278, 3.0976114942596298, 3.1345694064953649, 2.8337940137817297, 3.1860147924333164], [3.3187210241580418, 2.8793740414679703, 2.3062224859579401, 2.577809053097484, 2.4257721754490715], [6.7127702947307304, 3.8406608609506763, 1.7099542714268641, 2.0449371584608409, 1.1636046838548291], [4.2390070953960102, 3.6230965351499198, 3.390699049698874, 3.4986933122531223, 3.2288618179171817], [5.6389641548971801, 6.053595955542173, 4.5888051156231828, 4.2708569675795411, 3.0000102606578691], [3.245660887466864, 3.050307725592436, 2.0893824645615178, 2.5233200749455009, 2.372635736949285], [4.1910595962297776, 4.0227070529712465, 3.294064678844892, 3.5579600274209815, 3.5261419079927707], [4.5054094210411542, 3.948445760613855, 4.0652967662263171, 4.2915114494535072, 3.9606185983183213], [4.1501987961346751, 3.6618618384595711, 3.2629417418970648, 2.9909940730646598, 3.3974696321786051], [2.9569456829007037, 2.6844286916648037, 2.6658464022669617, 1.2653286277139479, 1.8456666564342146], [4.9750973201670163, 5.3986215197816554, 4.1550576175886995, 3.7981297758619652, 4.0423490886320277], [6.4796318149630219, 5.4103966977756253, 5.1475199922380499, 5.5572497449758673, 5.5199807835848436], [3.9664728445530653, 3.1609666509917194, 2.3964590524821596, 2.9412855923075059, 3.0855793073568591], [3.4308628672792514, 3.5319608889745089, 3.4376597264154669, 3.0734619929973199, 3.0676448934523814], [4.6364162006438923, 4.2804976645022679, 3.5484175580611046, 3.5675276419217172, 3.6191752077351067], [4.085790929762271, 2.4726455758487562, 2.0238321224954388, 2.5869390741587477, 2.6953563869558312], [4.4168701469333609, 4.1552691556351524, 3.723251111125697, 3.8925030031564791, 3.7629647098777403], [4.5211392238198895, 3.7353128879561206, 3.5577685211825871, 3.7686175242647337, 3.5656328445266738], [4.4635880341704439, 3.3637051459915344, 2.3929192954453744, 2.2058097084461288, 1.9480668336687139], [4.5626326135842792, 3.4802540663983184, 4.2630266505557977, 3.735842728890971, 2.8726184366266869], [5.3637684611267309, 4.2913347128744501, 3.7647737668603121, 2.9175036753930961, 3.3061304793083761], [3.994238089711752, 3.3049949973318946, 2.9051247220777752, 2.8636384194662785, 2.2101840260396344], [5.5812083375438499, 4.5079489426889561, 4.2154455943372557, 3.9758615343153108, 4.6463717199014063], [6.420384785592713, 3.3157781288564832, 2.4833812273074525, 1.9274212520414029, 2.3226103810408505], [3.7256921044143247, 2.9712888685525849, 3.2189736897687209, 3.1690921711163713, 3.1349658381972456], [4.3288972812086612, 3.6884460844981435, 3.7114317624464408, 3.5635093998875127, 3.8053015329202351], [4.6181153448603487, 4.205647323244964, 3.0784078022324968, 4.2933834638542523, 3.6021765758489264], [4.688090839475227, 3.8145894005394561, 3.5994545812402565, 3.7719129390930735, 4.3818033083394612], [3.7718052847362102, 3.1165117707702921, 3.5908552319101621, 2.809583453252976, 2.4544366572895147]], [3.531047697499675, 4.1306502629320789, 2.10456458507403, 2.6869626142162044, 2.9747005751681583, 2.6341798800674754, 2.4069407804685059, 2.7142459872947193, 1.4611043248170628, 2.855577811270642, 1.8580171460610722, 0.93637560376032014, 2.4229224391861592, 3.4158025510963106, 3.2491350525320208, 2.8021659977552922, 1.6339502178991383, 1.0322994710337006, 1.2723045273024622, 1.463128125822921, 2.5170762896571088, 2.6748490653954078, 3.2413184183814967, 2.2594215677861578, 2.1441692299567912, 2.544031686784253, 2.3526799534915761, 3.4432798486346838, 1.9873455801064634, 2.5812106992122921, 3.4905097053631393, 3.6842085023187616, 2.8325747023390155, 2.5040724170349207, 2.7759865050968702, 3.2080144765541956, 2.6797596545668552, 3.6990661411597219, 3.0302487651257879, 2.6869317500523486, 3.5454554227234563, 3.549592965483888, 2.8022936692360649, 4.2059363635586413, 2.9525014584372014, 3.2737700445774123, 1.9504808676507577, 3.1073343156796187, 3.1288727979743136, 1.8366409537650568, 1.9085418024853196, 1.6546138502472809, 2.4119456530476326, 3.540062637973127, 4.5195387881935227, 3.435829748491396, 3.7763028162342516, 2.4032085840996253, 3.1744505357456023, 3.3056804329664096, 1.0726287335451357, 1.7998331657337392, 2.67610866986116, 3.3869547865479075, 2.1387117722115114, 2.2179714780311, 3.5393991593952281, 2.3032101927524709, 3.0956275413485232, 2.6593407547052932, 3.8956605776681381, 2.8232764962437331, 2.1588750957445511, 1.1427441974002768, 3.1221411544373718, 2.9503716940034197, 1.9732784289398588, 3.146539660342242, 3.7469325216035725, 2.7187843157230107, 1.4605873271180609, 3.4836211220807467, 4.6279142313190587, 2.5267860768308363, 2.8718557660380024, 3.4375582711326569, 2.4514132729759215, 3.519321033398211, 3.2681228557470039, 2.1288823826998042, 3.0199448071752748, 2.7804129632768539, 2.3246287844968321, 3.3518511526885213, 1.9550207103303185, 2.7516515825357653, 3.6349434511163317, 3.1990580434177871, 3.0916539247585679, 2.5106135956405451], [[[0.26077106418756396, 0.20917731822472255, 0.16891695403235332, 0.20130108248711578, 0.15983358106824438], [1558.4432969011173, 1634.3938495622422, 1778.1043916763508, 1243.8234030714123, 1586.0135912985884], [104.89342001057017, 38.78645604381279, 148.27436237360425, 135.7015327340989, 137.43107310706955], [892.7087145501984, 1460.771233389641, 1321.1351702689105, 1433.0366013861526, 1617.7418820097353]], [[0.21862521474978286, 0.35112071158061253, 0.15536360889699236, 0.08968584453056004, 0.1852046202420521], [1520.0522337171717, 2132.5434924451492, 1972.3867783414048, 1619.9444142054895, 1874.7174438909346], [128.58286744629245, 128.81172748273687, 139.6288181305743, 69.48769771511111, 126.94110920218935], [892.7087145501984, 1460.771233389641, 1321.1351702689105, 1433.0366013861526, 1617.7418820097353]], [[0.18918776626424608, 0.2569451435022556, 0.13660235678606522, 0.14328697912650654, 0.27397775432092647], [1652.886208186665, 1568.082806529782, 2017.222063621618, 1845.2229465983792, 995.5400702067751], [39.76392085451003, 73.1248684118538, 58.80782855710157, 48.629318232693585, 130.5321096329451], [892.7087145501984, 1460.771233389641, 1321.1351702689105, 1433.0366013861526, 1617.7418820097353]], [[0.3346430813210667, 0.32738846339867733, 0.08128392520071846, 0.08821791188640943, 0.16846661819312814], [967.847255027832, 1692.118886419089, 1718.474533662807, 880.3397608415214, 1907.8674621335126], [20.115646843697775, 122.885249572802, 108.74808332486187, 50.35801267593296, 45.37223614051362], [892.7087145501984, 1460.771233389641, 1321.1351702689105, 1433.0366013861526, 1617.7418820097353]], [[0.17807341649390218, 0.19733185621844304, 0.2277754824031183, 0.24457539775465695, 0.1522438471298795], [1958.7600594728842, 1291.2978016976283, 1354.8263986591107, 1544.2031458288764, 1282.1367636685416], [122.28529260231231, 118.12524958978642, 125.91922674268493, 30.710067212419943, 114.95545493582082], [892.7087145501984, 1460.771233389641, 1321.1351702689105, 1433.0366013861526, 1617.7418820097353]], [[0.1977399406004785, 0.2016093151886882, 0.18747685074545797, 0.2186245722915404, 0.19454932117383494], [1563.8212658233665, 1538.1802603512192, 1242.3910082469895, 1907.680528816601, 1485.6948818893366], [77.3972988213057, 59.492920311476084, 79.31621794470851, 91.02460097997795, 83.2661854404313], [892.7087145501984, 1460.771233389641, 1321.1351702689105, 1433.0366013861526, 1617.7418820097353]], [[0.1694236185222297, 0.2890459531143034, 0.09260250459438402, 0.17236170343983725, 0.27656622032924555], [1359.8529434171285, 1853.3708009940237, 1574.4440693304823, 1554.941930029852, 995.7684596859448], [86.54475714468614, 152.75294695697184, 140.7173683871264, 67.83013288014624, 37.33764395190304], [892.7087145501984, 1460.771233389641, 1321.1351702689105, 1433.0366013861526, 1617.7418820097353]], [[0.20800805418799626, 0.32206414920045695, 0.12139443668419926, 0.20096959837741046, 0.147563761549937], [1464.3350402608785, 1266.0769300264756, 1296.252562770338, 1063.3668685096507, 1800.484932944182], [27.85979346819039, 110.20013372645761, 141.5040649846067, 117.2659695053909, 107.36457553099353], [892.7087145501984, 1460.771233389641, 1321.1351702689105, 1433.0366013861526, 1617.7418820097353]], [[0.2312149748258755, 0.30078719782959784, 0.06359088647492729, 0.18840164355015052, 0.21600529731944904], [1732.9557818488686, 1367.3200811302793, 1720.8617691454724, 2003.4376183180875, 1247.542204155989], [38.53613845525734, 39.72126160534514, 137.8486197759148, 72.49605774063481, 59.66133232621692], [892.7087145501984, 1460.771233389641, 1321.1351702689105, 1433.0366013861526, 1617.7418820097353]], [[0.23711942485130155, 0.2450873835862115, 0.14395528547083758, 0.18696136969209046, 0.18687653639955906], [1536.6785486075687, 1584.91027400245, 1315.2047202992508, 1790.5431819309767, 2140.3853131286996], [73.41788571681124, 95.99072570689407, 63.40018123824928, 98.93056524110857, 54.44283489112139], [892.7087145501984, 1460.771233389641, 1321.1351702689105, 1433.0366013861526, 1617.7418820097353]], [[0.27210889592266235, 0.2673179638839466, 0.06487231963957493, 0.18439764725046143, 0.21130317330335469], [1807.3797361908746, 1314.3165869581667, 1635.6531268775966, 948.5565680087891, 1277.2585477371586], [69.30317018069692, 107.46264687562287, 150.55266106575982, 72.54374560566212, 145.1275547567556], [892.7087145501984, 1460.771233389641, 1321.1351702689105, 1433.0366013861526, 1617.7418820097353]], [[0.2538133631296342, 0.3171885620436762, 0.055702040306617254, 0.14839662977716964, 0.22489940474290276], [832.4852923967776, 1086.291246792777, 2108.929036329514, 1769.9834634822957, 1201.552915076935], [106.4165948245808, 85.08311951529728, 120.57366344737474, 33.781268509364125, 106.94139708923746], [892.7087145501984, 1460.771233389641, 1321.1351702689105, 1433.0366013861526, 1617.7418820097353]], [[0.14089421148995054, 0.321593898878728, 0.11128031934184048, 0.14329064434251956, 0.2829409259469613], [1115.9814793860373, 1545.4556241200708, 1083.3045601610527, 1543.7153432309867, 1971.6073439304978], [104.89800948166642, 76.78566869681521, 98.40206773660674, 79.90802603918429, 106.73004856065516], [892.7087145501984, 1460.771233389641, 1321.1351702689105, 1433.0366013861526, 1617.7418820097353]], [[0.13590444848678115, 0.33147792022399497, 0.19756629303012738, 0.08726859559411483, 0.24778274266498163], [1435.684774705549, 1421.2923774495123, 1445.1223626036237, 1495.1375831190358, 1269.1802964614733], [75.3306721352482, 57.97444128838835, 131.13720746518473, 69.00021084446877, 57.107591865106116], [892.7087145501984, 1460.771233389641, 1321.1351702689105, 1433.0366013861526, 1617.7418820097353]], [[0.17923100227907385, 0.4473776022933328, 0.05937972846982595, 0.17290217722340392, 0.1411094897343635], [1778.5939219398542, 1724.4563756296166, 1354.4428289362509, 1004.6034940152125, 1551.1414755059777], [131.76137887723087, 146.3269750801624, 100.18396024233098, 116.31494967576104, 143.14723983434814], [892.7087145501984, 1460.771233389641, 1321.1351702689105, 1433.0366013861526, 1617.7418820097353]], [[0.2718384567304751, 0.30816898115999514, 0.07093549948131098, 0.07750435780100608, 0.2715527048272128], [1959.6395327296354, 1342.8413634128913, 2124.0088401758985, 1700.7374524328593, 1814.9883737711618], [101.60477352205828, 117.75112755818753, 133.6631611481706, 123.98981908201536, 37.046323784924724], [892.7087145501984, 1460.771233389641, 1321.1351702689105, 1433.0366013861526, 1617.7418820097353]], [[0.2045054745340166, 0.3211944706793704, 0.17447450411757634, 0.08791489045782348, 0.2119106602112132], [1040.7161397846037, 1532.9071936073153, 1886.697104181495, 1053.2283256158535, 1004.4485963359047], [97.33260151631713, 69.86190323700873, 67.25463739379826, 72.84045811974468, 91.95605490582514], [892.7087145501984, 1460.771233389641, 1321.1351702689105, 1433.0366013861526, 1617.7418820097353]], [[0.23925718817293248, 0.23070913945511384, 0.06888671546187362, 0.212063811953858, 0.24908314495622197], [908.563311100241, 1843.8039500646423, 2100.6547293424233, 1289.7248701350952, 1593.725303816358], [92.18644362046182, 38.04412250586267, 116.0265125579517, 77.26056935255085, 69.58362147376889], [892.7087145501984, 1460.771233389641, 1321.1351702689105, 1433.0366013861526, 1617.7418820097353]], [[0.23341138700252978, 0.40843666959892677, 0.09664528287222829, 0.1577423546664138, 0.10376430585990143], [780.6085650322445, 1024.2970951034902, 2253.637548789305, 1944.0216098479618, 1171.4940583361474], [87.56395292976445, 119.11548844991037, 59.82972871460781, 126.20693658673146, 85.08647417915738], [892.7087145501984, 1460.771233389641, 1321.1351702689105, 1433.0366013861526, 1617.7418820097353]], [[0.27184187576197155, 0.2788833624660294, 0.06924860035247078, 0.25616518820783396, 0.12386097321169424], [996.4740571042831, 1501.7839267457275, 2053.144129201727, 1013.0941772339223, 1072.2600621634438], [100.42040705362945, 147.73510021652405, 53.38707891377865, 34.31274901635062, 113.71441104663423], [892.7087145501984, 1460.771233389641, 1321.1351702689105, 1433.0366013861526, 1617.7418820097353]], [[0.2332473336485589, 0.15995096298476316, 0.13468241496217637, 0.21778801420087351, 0.25433127420362817], [1037.4865361534373, 1104.5395501730663, 1646.1407565005775, 1723.5642556539967, 2076.25322614134], [110.77048386145646, 113.02763917785612, 145.5472763847481, 109.4209494942791, 34.41089052749186], [892.7087145501984, 1460.771233389641, 1321.1351702689105, 1433.0366013861526, 1617.7418820097353]], [[0.12167582605202551, 0.3835632282625708, 0.1808311674926215, 0.0803980374912791, 0.2335317407015031], [1535.0880483915053, 1941.0053037403623, 2184.651358401553, 1435.184406370227, 2021.540818183344], [97.31415089700724, 67.62328667229457, 145.646862662491, 116.97150635844474, 41.284984592229065], [892.7087145501984, 1460.771233389641, 1321.1351702689105, 1433.0366013861526, 1617.7418820097353]], [[0.15179018467069275, 0.3348223538234702, 0.06636000844929166, 0.2609291662924699, 0.18609828676407564], [1634.1953962472098, 1570.9014785066545, 1883.7534953069658, 1446.9769514675504, 2121.854140958767], [70.69603993318717, 87.74264796295583, 40.56468127830467, 105.94167321868798, 130.13741552641855], [892.7087145501984, 1460.771233389641, 1321.1351702689105, 1433.0366013861526, 1617.7418820097353]], [[0.22058611854753185, 0.29266291075335077, 0.2844868226531438, 0.05386315524626002, 0.14840099279971367], [1545.2168742222048, 1835.7676171629041, 1427.0311778551416, 1272.609459769531, 2032.625907590881], [135.6776233450469, 66.10196116774021, 101.1024741404708, 135.66079265133027, 129.13843787264784], [892.7087145501984, 1460.771233389641, 1321.1351702689105, 1433.0366013861526, 1617.7418820097353]], [[0.22673815776257142, 0.33741316646230046, 0.17355407715283513, 0.17458858637945254, 0.08770601224284053], [1450.8678577027595, 1303.7614490347753, 2183.881454570753, 1975.662341840091, 1072.2329329555405], [26.152318398084716, 62.48703426409055, 159.3394961679987, 112.3423164137303, 124.91156107090042], [892.7087145501984, 1460.771233389641, 1321.1351702689105, 1433.0366013861526, 1617.7418820097353]], [[0.2845194956453365, 0.26985332860101324, 0.06020236610759279, 0.243669877534585, 0.14175493211147255], [1501.781409301348, 1747.9496768377453, 1897.2494970053986, 1225.193339377676, 1603.2946504070478], [70.0648422366894, 66.30521473356868, 140.84036137951642, 70.3552393113039, 62.53265247918065], [892.7087145501984, 1460.771233389641, 1321.1351702689105, 1433.0366013861526, 1617.7418820097353]], [[0.12923935996483935, 0.2594902600718063, 0.22514751335079014, 0.18136547429529948, 0.2047573923172646], [1848.7984654825523, 1361.8643975864616, 1972.2195809244267, 1302.6829661398715, 1119.1713764606172], [22.73539523564211, 63.112372009499936, 118.57449686229464, 93.82908188237793, 149.89049584985105], [892.7087145501984, 1460.771233389641, 1321.1351702689105, 1433.0366013861526, 1617.7418820097353]], [[0.23919764861605597, 0.2371152210790694, 0.10542586938418148, 0.2502315927167703, 0.16802966820392287], [1096.099841531056, 1722.152387389953, 1577.645203313482, 1758.8929902571722, 1018.6497355081215], [90.69263007852973, 70.11849529681163, 148.96437766270657, 42.72512196235964, 70.01137099488935], [892.7087145501984, 1460.771233389641, 1321.1351702689105, 1433.0366013861526, 1617.7418820097353]], [[0.2733992371178914, 0.3995129239408589, 0.09989663947885688, 0.09307200870584371, 0.13411919075654904], [1113.6004396443368, 1060.1828251498987, 1485.1926249887636, 2001.4536919451175, 1250.7581119194276], [57.117214133724296, 119.5575151952138, 59.430044708977974, 117.81236978192321, 55.421810249392784], [892.7087145501984, 1460.771233389641, 1321.1351702689105, 1433.0366013861526, 1617.7418820097353]], [[0.165859472323852, 0.27648341747661054, 0.12695426070262045, 0.2930150235456628, 0.13768782595125417], [1238.135823587372, 1956.3185266043183, 2103.762861845291, 1628.9953961864187, 1901.941997231841], [130.6889816093411, 43.599795298708536, 74.99792671300699, 77.20931801942166, 112.88394873450476], [892.7087145501984, 1460.771233389641, 1321.1351702689105, 1433.0366013861526, 1617.7418820097353]], [[0.2023764185306633, 0.3847218030317597, 0.08940198582062452, 0.15871586395842202, 0.16478392865853048], [1237.0299341317777, 1748.8067005039338, 1870.6835038138788, 2010.2477467117983, 1149.2412814524382], [23.97254634431355, 148.58314208677007, 158.91208228477512, 129.43943158887691, 50.5112663021398], [892.7087145501984, 1460.771233389641, 1321.1351702689105, 1433.0366013861526, 1617.7418820097353]], [[0.209682341782083, 0.29777920411583697, 0.2667542947544218, 0.07078626716454363, 0.15499789218311444], [1272.8849862765119, 1740.195669319487, 1753.1519300620712, 1419.886623505048, 1954.131515026084], [44.32638008685322, 100.20634085509187, 50.16217503937391, 71.46631211344675, 137.2619471521636], [892.7087145501984, 1460.771233389641, 1321.1351702689105, 1433.0366013861526, 1617.7418820097353]], [[0.26447764820325764, 0.280017505723194, 0.12025663934551262, 0.217771053539394, 0.11747715318864176], [1217.0548397888417, 2021.553411237739, 1084.9955506540507, 1919.3429722340554, 1859.9579586584296], [117.2778302739017, 137.9900435106892, 41.419033639761984, 38.692402221628384, 55.9608194228138], [892.7087145501984, 1460.771233389641, 1321.1351702689105, 1433.0366013861526, 1617.7418820097353]], [[0.11119662999078346, 0.25923405507871944, 0.10783987893250808, 0.25651630748833826, 0.26521312850965084], [934.2300898190331, 1862.8619450250105, 2112.462843371188, 1658.893051146716, 1329.5155786733726], [93.74601234802508, 151.42377550357867, 40.15270881997739, 40.21993047450253, 84.08508784240644], [892.7087145501984, 1460.771233389641, 1321.1351702689105, 1433.0366013861526, 1617.7418820097353]], [[0.12366535389205727, 0.3153239122839153, 0.1843972889132316, 0.10644476822992001, 0.27016867668087574], [895.1528889293693, 1311.2411919991334, 1176.201280107111, 1390.3108044277974, 1009.9027596406845], [87.04485317207576, 137.8950871398306, 88.70725045865011, 78.23248758745221, 37.62450242924698], [892.7087145501984, 1460.771233389641, 1321.1351702689105, 1433.0366013861526, 1617.7418820097353]], [[0.20034803726621342, 0.2533738032987172, 0.2063417672028512, 0.12745748688711397, 0.21247890534510425], [1917.3777961036226, 1050.0355472881843, 1490.9512790607073, 1273.5963103969034, 1487.7355646321448], [77.31654853399527, 141.69980061396194, 112.13329614460618, 120.20648693943933, 115.68892477806304], [892.7087145501984, 1460.771233389641, 1321.1351702689105, 1433.0366013861526, 1617.7418820097353]], [[0.18417464928597915, 0.25586167823613726, 0.15166374882777883, 0.22001821483559728, 0.1882817088145075], [1286.809837913546, 1935.437428867392, 1396.6594453549124, 1441.262592013967, 1550.6423874960797], [44.76671955560625, 132.5343987404083, 138.01414109788578, 46.79099655719784, 79.79518983504141], [892.7087145501984, 1460.771233389641, 1321.1351702689105, 1433.0366013861526, 1617.7418820097353]], [[0.15583726068444323, 0.28165436617110307, 0.24754464109129323, 0.10093721597287848, 0.21402651608028198], [1113.2153829073775, 1143.039303494972, 1829.2225977066203, 1006.4698322390416, 1771.627008442887], [119.29635412053153, 81.27971276536422, 73.69190533968532, 131.4569610052365, 119.45055929985189], [892.7087145501984, 1460.771233389641, 1321.1351702689105, 1433.0366013861526, 1617.7418820097353]], [[0.1778328886463397, 0.21230627573359445, 0.06681796721076563, 0.2646803145162935, 0.27836255389300674], [942.6624761767099, 2133.003857154459, 2156.4940355840527, 1356.2015091399792, 1593.7466466967053], [22.336338935399034, 141.87898490014396, 147.05547555159032, 84.34141675269449, 46.514747657891256], [892.7087145501984, 1460.771233389641, 1321.1351702689105, 1433.0366013861526, 1617.7418820097353]], [[0.1996928894629051, 0.34072874661914965, 0.14791880353385858, 0.1780375987188836, 0.13362196166520293], [1907.3586724869565, 1187.329810643877, 2105.2968747364575, 1688.646751738299, 1762.1675595486001], [55.74853116403873, 35.97878223987439, 101.57774368766658, 90.93789145708122, 104.33926199086665], [892.7087145501984, 1460.771233389641, 1321.1351702689105, 1433.0366013861526, 1617.7418820097353]], [[0.2061910586502227, 0.3294862216680382, 0.11224284373317309, 0.10533282930060137, 0.24674704664796462], [1260.2842953622837, 1683.1825255099498, 1539.3554880204347, 1688.7659931456703, 1526.9742739591388], [128.8048456294993, 105.78696604901404, 126.19656819840255, 64.98273913726668, 100.4624708593657], [892.7087145501984, 1460.771233389641, 1321.1351702689105, 1433.0366013861526, 1617.7418820097353]], [[0.24565856957892318, 0.17665115339016227, 0.21459825679890993, 0.2109212269098603, 0.15217079332214437], [1763.3710351639834, 1873.0256352520473, 1799.497081231765, 1135.2469724843406, 1390.5542805247685], [51.98269631965964, 50.77371237438335, 84.35007069035393, 25.022815282741398, 50.097130857522714], [892.7087145501984, 1460.771233389641, 1321.1351702689105, 1433.0366013861526, 1617.7418820097353]], [[0.2167257634971558, 0.26827867346711215, 0.14341686910422952, 0.1660723022836651, 0.2055063916478374], [1979.307036138236, 1647.023839837321, 2235.330490142873, 1413.2297525568215, 1795.8788198400766], [86.24102977991157, 146.81359677254767, 128.60869418509907, 117.13028219383838, 73.61215576528213], [892.7087145501984, 1460.771233389641, 1321.1351702689105, 1433.0366013861526, 1617.7418820097353]], [[0.14166153730984216, 0.35005062670319725, 0.2319705394206474, 0.15664003253265982, 0.11967726403365335], [1046.1762236881189, 1984.5873984863865, 2135.6511233031288, 1680.3146965761753, 2157.573616408078], [74.77511809837235, 44.0120795459173, 125.74696417975323, 68.58768358924115, 94.40162970757795], [892.7087145501984, 1460.771233389641, 1321.1351702689105, 1433.0366013861526, 1617.7418820097353]], [[0.29771097947448344, 0.2661144315221141, 0.0998869170097261, 0.2372809938180575, 0.09900667817561892], [1527.533483863749, 1463.6310753100186, 1347.101379391001, 1179.2359674534996, 2059.509501324405], [48.92463606489487, 131.97880178659994, 123.10089837405127, 37.798637055600075, 96.60481295241523], [892.7087145501984, 1460.771233389641, 1321.1351702689105, 1433.0366013861526, 1617.7418820097353]], [[0.24895406152398067, 0.2732539072299688, 0.1455808679929542, 0.08741122905837437, 0.24479993419472199], [1591.6674238172536, 1574.6068974787547, 1660.6920861336118, 850.0455611016974, 1028.99144820139], [60.9854424019056, 145.64964860992177, 52.07217303838621, 111.84609833570187, 49.83090927529952], [892.7087145501984, 1460.771233389641, 1321.1351702689105, 1433.0366013861526, 1617.7418820097353]], [[0.1919132644209886, 0.289172315485526, 0.12756503800359376, 0.24449894152264576, 0.14685044056724583], [854.7444375982839, 1798.8344154384195, 1615.6022109749824, 1353.6121784520994, 1027.6699029906458], [127.5927144029109, 75.72225404407685, 57.959499374644025, 57.021485783141735, 108.54808948182739], [892.7087145501984, 1460.771233389641, 1321.1351702689105, 1433.0366013861526, 1617.7418820097353]], [[0.27291407542846374, 0.3559657487000782, 0.08964255307982785, 0.134898099670522, 0.14657952312110822], [1441.9236679389069, 1395.6461587198824, 1104.8384699826609, 1325.0324780390524, 1138.9923711850358], [103.38314172037906, 81.56736002773505, 60.07855623883117, 27.28610114831796, 100.71727548671632], [892.7087145501984, 1460.771233389641, 1321.1351702689105, 1433.0366013861526, 1617.7418820097353]], [[0.17949536644433117, 0.3751014956093493, 0.24139484790922708, 0.08506651885256328, 0.11894177118452923], [1505.9633976235227, 1747.98048640866, 1509.2817399833611, 1983.8692823587785, 1097.8507489156423], [32.42034391556332, 101.4417899662232, 133.0576044937202, 57.52752153891376, 137.81040195511127], [892.7087145501984, 1460.771233389641, 1321.1351702689105, 1433.0366013861526, 1617.7418820097353]], [[0.29546572434437096, 0.3326712391970029, 0.1284512109371011, 0.13730032974015433, 0.10611149578137061], [1456.7107643747142, 1976.156414027981, 1326.565489304301, 1749.925387448157, 1056.1836842434407], [94.25698387704358, 50.82024630614471, 154.00315547154707, 37.30199521390215, 132.68966008694542], [892.7087145501984, 1460.771233389641, 1321.1351702689105, 1433.0366013861526, 1617.7418820097353]], [[0.33571037609986876, 0.33612116861468977, 0.0808112541714407, 0.08265960786731141, 0.16469759324668942], [1033.4531848423255, 1232.3523866540413, 1384.72456573331, 1040.2364127501855, 1073.3321999249854], [49.44353559461037, 41.73623012786605, 86.96630985286055, 34.86911244004996, 55.39773325032604], [892.7087145501984, 1460.771233389641, 1321.1351702689105, 1433.0366013861526, 1617.7418820097353]], [[0.25143646773162176, 0.25535801683374426, 0.210881365694354, 0.06126645610462123, 0.22105769363565878], [1483.13827465036, 968.4451792504894, 1597.3765381145477, 1438.2246391976396, 2003.159920626428], [95.06290454587489, 112.33455726672216, 51.05897892062988, 97.40943078454431, 43.40100623017273], [892.7087145501984, 1460.771233389641, 1321.1351702689105, 1433.0366013861526, 1617.7418820097353]], [[0.24291725301275544, 0.235052158509331, 0.2140193831872739, 0.10649736675683064, 0.201513838533809], [1942.3940492454954, 1144.2942516847563, 1122.0663083485733, 1714.741654927528, 1035.0479871782768], [111.61509976542675, 56.57598410722942, 53.51864512393277, 48.508306638295444, 71.67494372404664], [892.7087145501984, 1460.771233389641, 1321.1351702689105, 1433.0366013861526, 1617.7418820097353]], [[0.13270526073901767, 0.2771192238986036, 0.158185582579545, 0.183774372041542, 0.24821556074129167], [1363.9700729777808, 1576.4305948097713, 1683.1280289362664, 1760.1960365493514, 1294.9204096960905], [86.956103288778, 96.23424791354518, 74.06271287105798, 59.97632841038556, 46.54838590873232], [892.7087145501984, 1460.771233389641, 1321.1351702689105, 1433.0366013861526, 1617.7418820097353]], [[0.19762384415483025, 0.25350840188347856, 0.18830509861848868, 0.13099271132337006, 0.2295699440198325], [1701.4861835647534, 1823.0905879887841, 1948.1092605610947, 1415.0226387863297, 1984.967962980566], [51.00928486562393, 116.77043206226638, 149.36932539027, 90.17409966340384, 118.42818706670468], [892.7087145501984, 1460.771233389641, 1321.1351702689105, 1433.0366013861526, 1617.7418820097353]], [[0.20184097483386224, 0.25061161842542123, 0.21496110546363134, 0.13608001755481994, 0.19650628372226528], [1263.5690454124656, 2074.35300468671, 1506.281420074117, 1965.849970302241, 1522.36495356397], [28.26023890069402, 141.17564633039382, 124.65259100960196, 29.31584849515729, 91.44124884815812], [892.7087145501984, 1460.771233389641, 1321.1351702689105, 1433.0366013861526, 1617.7418820097353]], [[0.10712158517714528, 0.28318500476831915, 0.17147064280257737, 0.1755321371182557, 0.2626906301337026], [901.1814590983513, 2019.877986006906, 1872.9610813121453, 1951.8430846963533, 1166.0436458975391], [43.09726883633262, 137.67548486428237, 51.15673617159695, 126.8677728861653, 79.1156754271275], [892.7087145501984, 1460.771233389641, 1321.1351702689105, 1433.0366013861526, 1617.7418820097353]], [[0.27384529915171846, 0.23034212420718322, 0.1737918019657413, 0.24001259474798978, 0.0820081799273672], [1035.9222130322892, 1187.392154630847, 1325.6286780841838, 1555.4568345772532, 1909.9894579027316], [49.727913120406, 132.878068562468, 41.77559886867853, 103.13262587435317, 115.2084936508399], [892.7087145501984, 1460.771233389641, 1321.1351702689105, 1433.0366013861526, 1617.7418820097353]], [[0.17791698869877687, 0.199876822814866, 0.07065519514577578, 0.27834032069598325, 0.2732106726445979], [1706.4937965984045, 1544.0169715043269, 1123.6761715234632, 1457.447518691459, 1193.80512221889], [104.03387820563233, 138.81782513339238, 119.58674656251898, 113.36986289857231, 99.2483290560366], [892.7087145501984, 1460.771233389641, 1321.1351702689105, 1433.0366013861526, 1617.7418820097353]], [[0.1300768856456641, 0.2995590721416549, 0.2296064271850227, 0.1265690174987558, 0.2141885975289026], [1452.7117317547472, 1029.1359478789936, 1622.4695769349285, 1025.2667286617564, 1578.9862206845874], [92.93503349882315, 132.84661345818012, 128.19003674658387, 52.11526960133802, 64.34730788137965], [892.7087145501984, 1460.771233389641, 1321.1351702689105, 1433.0366013861526, 1617.7418820097353]], [[0.12356220871999962, 0.36025892861077335, 0.1958025255829411, 0.06050130171176585, 0.2598750353745201], [1876.0791665082786, 1632.5204499656456, 1140.2964680982388, 1421.359262917651, 2095.600155451246], [25.86146828778019, 63.76459422906401, 143.22657839412722, 71.45873351240373, 36.32799514629956], [892.7087145501984, 1460.771233389641, 1321.1351702689105, 1433.0366013861526, 1617.7418820097353]], [[0.18821606543582914, 0.33240347833723694, 0.17904726504742352, 0.20142287975180992, 0.09891031142770053], [1409.5316079009572, 1978.3664606192049, 1427.1343852799023, 1550.2516927838797, 992.2917037837444], [137.94217647653699, 98.75387332311496, 68.6258018892429, 41.619904725423005, 82.27856624371616], [892.7087145501984, 1460.771233389641, 1321.1351702689105, 1433.0366013861526, 1617.7418820097353]], [[0.2560132530975042, 0.26960529003092826, 0.12478544244966064, 0.08396752517751489, 0.26562848924439203], [1953.50487583937, 1641.8374212252807, 1994.052603556761, 1508.5937669695995, 1123.658304315272], [75.90084237967564, 63.69712197504626, 134.3709971240732, 139.6159945855797, 120.8032143685291], [892.7087145501984, 1460.771233389641, 1321.1351702689105, 1433.0366013861526, 1617.7418820097353]], [[0.20813559076058996, 0.23439879428297072, 0.20573481457628998, 0.08256939710910137, 0.2691614032710479], [1251.840305940627, 1458.4480796337448, 1426.9865810903805, 1543.5402742163812, 1056.3847433362037], [98.40793448746206, 76.97860454427352, 105.43193284251535, 73.49910501977392, 119.95738147140426], [892.7087145501984, 1460.771233389641, 1321.1351702689105, 1433.0366013861526, 1617.7418820097353]], [[0.1447721927541248, 0.29040457109065165, 0.19339339314050058, 0.2118151410361903, 0.15961470197853259], [1471.4570714792512, 1639.5513030341554, 2042.9690603353024, 1501.5136865064173, 1198.3467002665627], [100.5055655999772, 81.11468485384137, 69.91157416908763, 63.20421096144561, 86.46645697770104], [892.7087145501984, 1460.771233389641, 1321.1351702689105, 1433.0366013861526, 1617.7418820097353]], [[0.30156750954010436, 0.26653744287295206, 0.17248518589653447, 0.12384402501614403, 0.13556583667426506], [1960.9819117050254, 2108.4446155341684, 1537.8994532423794, 1901.2775763193363, 1053.1192350080426], [47.600164521343004, 62.48437014768959, 66.38434201593822, 134.17385767957595, 107.69521701385658], [892.7087145501984, 1460.771233389641, 1321.1351702689105, 1433.0366013861526, 1617.7418820097353]], [[0.23576886388086452, 0.2819977089191711, 0.08992797779206105, 0.0881760507755595, 0.3041293986323439], [1502.1284948334085, 1449.3299785768172, 1590.8392534625095, 1325.0619403727953, 1466.5459235114374], [93.52349165861106, 144.06695563275747, 60.56803391717104, 25.696003991591326, 78.28103089819557], [892.7087145501984, 1460.771233389641, 1321.1351702689105, 1433.0366013861526, 1617.7418820097353]], [[0.22129388148038132, 0.29470862265187875, 0.1708140008476423, 0.1010536666094699, 0.21212982841062772], [1188.5502258865172, 1257.832851913743, 1686.675086564775, 1328.994002076748, 1458.815337877153], [46.4695642792451, 104.26109453725968, 43.65676356350238, 104.57825317472481, 61.478696269944294], [892.7087145501984, 1460.771233389641, 1321.1351702689105, 1433.0366013861526, 1617.7418820097353]], [[0.18808855686186138, 0.3020067520342071, 0.09201140027013785, 0.15365432928143133, 0.2642389615523624], [1635.9224727381413, 1749.2021474678304, 1251.76742009309, 1462.4971151565373, 1540.3654449212509], [57.45519552128308, 57.28611621506537, 62.689153227800674, 119.32838141117146, 107.33646155547883], [892.7087145501984, 1460.771233389641, 1321.1351702689105, 1433.0366013861526, 1617.7418820097353]], [[0.28245550485286175, 0.24624759010361721, 0.07588214992300764, 0.08981705470291461, 0.30559770041759865], [1239.4538882156803, 1403.004679127883, 1383.1529259584695, 1466.2872510248503, 1864.1223649433714], [57.675226723178284, 131.95777866224813, 64.56460759964824, 70.62887020356155, 62.71602929938065], [892.7087145501984, 1460.771233389641, 1321.1351702689105, 1433.0366013861526, 1617.7418820097353]], [[0.17875925618504077, 0.3557386174934643, 0.0869255878734126, 0.11556313346117268, 0.26301340498690967], [1580.0716502577711, 1433.8657253764054, 1809.2496709706688, 1795.6026919794385, 1834.3884613918467], [78.0523853240723, 135.06866297806027, 99.55362355052424, 99.4939770596545, 130.295961548565], [892.7087145501984, 1460.771233389641, 1321.1351702689105, 1433.0366013861526, 1617.7418820097353]], [[0.19779384686051432, 0.2330649748357716, 0.19741868963220496, 0.14220403132793144, 0.22951845734357762], [1544.2753144509898, 1418.4700630062425, 2067.4238595275515, 1701.6381818375216, 1533.0034315795824], [95.22177469166994, 108.78662631111324, 158.98438594440574, 91.70868849768881, 87.32109882469442], [892.7087145501984, 1460.771233389641, 1321.1351702689105, 1433.0366013861526, 1617.7418820097353]], [[0.18540809167831365, 0.3427947293695168, 0.16549655143604117, 0.07298222086384083, 0.23331840665228745], [1562.8563740729169, 2115.563594772301, 1157.8212598932187, 1162.9547385902474, 1063.6196117775164], [127.0864083124352, 98.94285644162, 107.54675047697168, 142.29041382913218, 106.85140822254161], [892.7087145501984, 1460.771233389641, 1321.1351702689105, 1433.0366013861526, 1617.7418820097353]], [[0.1844196620574924, 0.2560407155893509, 0.23245458952250272, 0.09694410695172326, 0.2301409258789307], [1884.529055671617, 1107.1995016382682, 2129.3197697163023, 1162.0235024136166, 1574.1739738624296], [29.697666588030415, 119.32167442237348, 72.09687604846012, 27.811732255270663, 48.17286621120323], [892.7087145501984, 1460.771233389641, 1321.1351702689105, 1433.0366013861526, 1617.7418820097353]], [[0.24319104858764246, 0.18901752550110312, 0.1907765363511226, 0.11693450389775079, 0.260080385662381], [1566.1015139872682, 996.2743649172891, 1937.2081137300772, 941.2141676277971, 1623.0798327041598], [52.423387536763805, 107.61681842125549, 131.243392227451, 84.51203915689163, 134.24702665368227], [892.7087145501984, 1460.771233389641, 1321.1351702689105, 1433.0366013861526, 1617.7418820097353]], [[0.12261054561014495, 0.2687113666493154, 0.23862146447604612, 0.08382780517823296, 0.28622881808626066], [1367.523272381381, 1933.1329186491912, 1848.6260110278072, 1204.3742093135015, 1060.9250068963513], [125.45478817448154, 43.83212447002249, 44.25457944792397, 80.83553577836538, 111.961033771135], [892.7087145501984, 1460.771233389641, 1321.1351702689105, 1433.0366013861526, 1617.7418820097353]], [[0.1885258621766429, 0.29512563936170016, 0.052734430016186176, 0.24364827966885141, 0.21996578877661943], [1791.3621559404373, 2136.3418032652867, 1104.218708875029, 1018.8928203757256, 1021.1649035250547], [52.30973688826931, 89.51167977441563, 74.65183905878143, 132.4808608114015, 142.8309940639622], [892.7087145501984, 1460.771233389641, 1321.1351702689105, 1433.0366013861526, 1617.7418820097353]], [[0.2040379085594928, 0.2668343273436021, 0.12103746048517831, 0.2524865378082278, 0.15560376580349894], [1849.9426163950516, 1984.860220670261, 1420.0153533561943, 1941.8661692955602, 967.2331327270441], [64.91534265136599, 75.55082243335525, 114.93096875157319, 46.8835601110424, 95.56378607324356], [892.7087145501984, 1460.771233389641, 1321.1351702689105, 1433.0366013861526, 1617.7418820097353]], [[0.3063635966462623, 0.327064403911678, 0.12051952777116723, 0.10433249450002628, 0.14171997717086623], [1653.3247178056763, 1661.7536354765398, 1490.2112106738452, 1069.684427300917, 1200.9352825735375], [134.64168461769444, 144.28098093476052, 60.2932538873377, 135.6617831469897, 131.53006829827086], [892.7087145501984, 1460.771233389641, 1321.1351702689105, 1433.0366013861526, 1617.7418820097353]], [[0.1372041651683469, 0.2394502088801172, 0.21642360060635132, 0.2086386048038805, 0.198283420541304], [985.446337325843, 1175.3881288712412, 1656.856644725574, 1071.9929744216756, 1519.8715128433391], [136.81441662291985, 122.65135080751189, 132.33863275756914, 66.45456557368765, 56.88499057193269], [892.7087145501984, 1460.771233389641, 1321.1351702689105, 1433.0366013861526, 1617.7418820097353]], [[0.21822540464268536, 0.22514027096024306, 0.15255104754784352, 0.16948700700008523, 0.2345962698491428], [1051.8859844703063, 1668.0582422296193, 1443.4962771768708, 1094.2269763101904, 1970.0618447433958], [129.99250340778423, 91.18963629346825, 71.88818034056624, 41.76774028189702, 122.92581199246642], [892.7087145501984, 1460.771233389641, 1321.1351702689105, 1433.0366013861526, 1617.7418820097353]], [[0.2524631257235415, 0.26835349902609845, 0.20658734220864777, 0.09658026433816247, 0.17601576870354968], [1078.7639112016032, 1877.4797659254652, 1689.0470259721008, 1578.2769831632766, 1580.1375416519327], [40.07149636899122, 90.27122503971621, 105.61073227259263, 68.12695612863561, 31.28107065949174], [892.7087145501984, 1460.771233389641, 1321.1351702689105, 1433.0366013861526, 1617.7418820097353]], [[0.13796768023614103, 0.3051931394590878, 0.18597922961285643, 0.14144138405567508, 0.22941856663623986], [1810.2855035131984, 1855.3400185536602, 2064.1793773238346, 1377.6080062892565, 2020.3893811356652], [64.64095520205257, 70.67608867900225, 135.76067467029378, 139.02514172526108, 149.4480812265051], [892.7087145501984, 1460.771233389641, 1321.1351702689105, 1433.0366013861526, 1617.7418820097353]], [[0.1961802712484986, 0.284374003150281, 0.09216014683682816, 0.15355651261595749, 0.27372906614843473], [1876.5015717721901, 1702.4047316517767, 1199.5078389786052, 1351.6158243491914, 1006.236400447555], [91.26478384152996, 85.27329041496131, 116.93952696662235, 66.2554245302453, 117.72681090419766], [892.7087145501984, 1460.771233389641, 1321.1351702689105, 1433.0366013861526, 1617.7418820097353]], [[0.23604162010460486, 0.19393722427674107, 0.1752485049387989, 0.1866145327027894, 0.20815811797706574], [1386.8357608262888, 997.8864475739523, 1147.3261127986514, 933.5514295590772, 1346.222739850878], [106.26889784388032, 87.70115142951124, 66.34438432956793, 116.5780996639187, 92.65430661495358], [892.7087145501984, 1460.771233389641, 1321.1351702689105, 1433.0366013861526, 1617.7418820097353]], [[0.13561210848362779, 0.37763383502673836, 0.17412110633758365, 0.20509161774923326, 0.10754133240281709], [1508.3171695214469, 1365.4102655865436, 1573.8112866801553, 1369.2470450555886, 1862.4090693707699], [116.36744192218227, 92.84454655181588, 126.03050327256071, 124.63175693616185, 77.84793066267932], [892.7087145501984, 1460.771233389641, 1321.1351702689105, 1433.0366013861526, 1617.7418820097353]], [[0.12250370566256732, 0.3969769967024192, 0.08437114290164871, 0.05912872235294088, 0.3370194323804239], [1906.895862350263, 1410.7202100577435, 1336.426111955659, 1232.6837830132342, 1500.7108096004558], [110.02849280438338, 79.97218282527798, 45.89401479188283, 124.5839599772021, 146.26034334226193], [892.7087145501984, 1460.771233389641, 1321.1351702689105, 1433.0366013861526, 1617.7418820097353]], [[0.1893649494239698, 0.19632344925649037, 0.26678746742217996, 0.06460696266107685, 0.2829171712362831], [1724.9117545377135, 1304.0233764384475, 1282.2018236780598, 969.5506579680202, 1669.5469792785525], [49.55195196098519, 154.5910633973391, 156.6874783329075, 73.56077109039407, 135.85268975573473], [892.7087145501984, 1460.771233389641, 1321.1351702689105, 1433.0366013861526, 1617.7418820097353]], [[0.23504022060706994, 0.2476264330816071, 0.1337519666046314, 0.15483201680721775, 0.2287493628994737], [1369.8285959461045, 1448.038146737463, 1513.921547197668, 1422.6311589586421, 1120.2823893546306], [82.95055246564144, 150.02707632149253, 144.73851870434203, 37.555981366507545, 132.76017985731374], [892.7087145501984, 1460.771233389641, 1321.1351702689105, 1433.0366013861526, 1617.7418820097353]], [[0.1996909565290131, 0.46156907398861075, 0.07541646109401354, 0.1109118304491216, 0.152411677939241], [1912.2987078585656, 1459.405628265998, 2009.6775770824356, 2025.2425248386623, 1635.4970587163698], [106.79370866308966, 141.4308471447067, 60.304499567238565, 135.7161177765387, 33.77291101680611], [892.7087145501984, 1460.771233389641, 1321.1351702689105, 1433.0366013861526, 1617.7418820097353]], [[0.18488386184033073, 0.38372462884643693, 0.18293027844554552, 0.1278420947848755, 0.12061913608281134], [993.6976003616278, 1980.7624337745096, 2259.979857672288, 2005.6789993063605, 1563.0713724433317], [38.77159395126162, 100.70636717266649, 70.19301791686419, 30.439079892493574, 79.40575807562483], [892.7087145501984, 1460.771233389641, 1321.1351702689105, 1433.0366013861526, 1617.7418820097353]], [[0.1597893804651692, 0.37918441384898227, 0.1638668598913461, 0.07376742742743674, 0.22339191836706562], [1818.2282519691205, 1651.8531231538147, 1423.5207291079578, 1232.3313541718564, 2156.7370726142], [67.17272014224446, 105.55010067328188, 85.46257586791509, 118.02334993868077, 37.42200118567659], [892.7087145501984, 1460.771233389641, 1321.1351702689105, 1433.0366013861526, 1617.7418820097353]], [[0.2651854015855823, 0.26939247722234927, 0.06770120471898622, 0.19543518384782585, 0.2022857326252563], [1390.7414777511617, 1267.2022895570904, 1355.1323951723018, 1007.1077555811947, 1733.8557697478527], [75.88631852709429, 64.73943613012469, 117.1508333065645, 32.954481038911894, 92.77347673568327], [892.7087145501984, 1460.771233389641, 1321.1351702689105, 1433.0366013861526, 1617.7418820097353]], [[0.2231767518261274, 0.3091557541732583, 0.1746520992231612, 0.14397121947014052, 0.14904417530731262], [1592.4586511095167, 2122.677030451083, 1984.1119064261948, 1833.240961356742, 2091.378561824575], [101.3470537782723, 86.27318280820347, 50.462468082784795, 39.91311226790748, 111.0074561110196], [892.7087145501984, 1460.771233389641, 1321.1351702689105, 1433.0366013861526, 1617.7418820097353]], [[0.17047379381386887, 0.35331020466900287, 0.15837186081713742, 0.10392879631876258, 0.21391534438122817], [1001.6200617655538, 1381.5119719693641, 2263.2086460113524, 1587.5261497492138, 1632.1112315916084], [103.11080041567054, 98.70011805283626, 50.77319799056328, 52.00933231481095, 61.13609182087764], [892.7087145501984, 1460.771233389641, 1321.1351702689105, 1433.0366013861526, 1617.7418820097353]], [[0.08584949555157868, 0.36176154676345573, 0.12632366989507063, 0.17120512661244874, 0.25486016117744614], [1152.9967198798306, 1393.1441950427127, 1641.3007344938062, 1908.8175575787786, 1246.9628177527866], [123.24298703326131, 144.7163891900409, 121.65570136737959, 137.07206098207465, 122.39913957334643], [892.7087145501984, 1460.771233389641, 1321.1351702689105, 1433.0366013861526, 1617.7418820097353]], [[0.19904304449849763, 0.29359208663046954, 0.16763852091091308, 0.1394386475484777, 0.20028770041164198], [1715.014959789397, 1810.9249395803522, 1507.367692185274, 1457.1121050217203, 1790.5377393501099], [81.73654913234336, 146.7401320275273, 148.705792510938, 103.78238552792202, 130.6745584948516], [892.7087145501984, 1460.771233389641, 1321.1351702689105, 1433.0366013861526, 1617.7418820097353]], [[0.1620153854425537, 0.21573450275462444, 0.18148150040030123, 0.19903938203938018, 0.24172922936314037], [1684.5431405378854, 1906.583736515209, 1337.7264092621442, 1830.3063053020269, 1252.8498983204784], [57.06116756500707, 134.53807859426132, 92.75866340949956, 76.99949879431894, 46.96723909386121], [892.7087145501984, 1460.771233389641, 1321.1351702689105, 1433.0366013861526, 1617.7418820097353]], [[0.2483248037308695, 0.31227643476440986, 0.20961480091778648, 0.11183540663171362, 0.11794855395522055], [1608.6911084482672, 1595.8447941289196, 2089.9502856374174, 1223.3384363426692, 1633.486684213815], [127.40585323095301, 146.7061872225289, 106.99244469211496, 68.12288608474458, 80.16700939584862], [892.7087145501984, 1460.771233389641, 1321.1351702689105, 1433.0366013861526, 1617.7418820097353]], [[0.1700115040902483, 0.3030101300989202, 0.16634176864707176, 0.1450175693343682, 0.21561902782939146], [962.3898760690829, 1497.894994447943, 1338.600216933731, 1419.0047146864013, 1627.8252408057554], [137.94086990576432, 112.33247553263946, 47.28611174303353, 70.45181084902536, 45.70425214330331], [892.7087145501984, 1460.771233389641, 1321.1351702689105, 1433.0366013861526, 1617.7418820097353]]]]\n"
     ]
    }
   ],
   "source": [
    "print(regimeCycle3);"
   ]
  },
  {
   "cell_type": "code",
   "execution_count": null,
   "metadata": {
    "collapsed": false
   },
   "outputs": [],
   "source": []
  },
  {
   "cell_type": "code",
   "execution_count": null,
   "metadata": {
    "collapsed": false
   },
   "outputs": [],
   "source": []
  },
  {
   "cell_type": "code",
   "execution_count": null,
   "metadata": {
    "collapsed": false
   },
   "outputs": [],
   "source": []
  },
  {
   "cell_type": "code",
   "execution_count": null,
   "metadata": {
    "collapsed": false
   },
   "outputs": [],
   "source": []
  },
  {
   "cell_type": "code",
   "execution_count": null,
   "metadata": {
    "collapsed": true
   },
   "outputs": [],
   "source": []
  }
 ],
 "metadata": {
  "anaconda-cloud": {},
  "kernelspec": {
   "display_name": "Python [default]",
   "language": "python",
   "name": "python3"
  },
  "language_info": {
   "codemirror_mode": {
    "name": "ipython",
    "version": 3
   },
   "file_extension": ".py",
   "mimetype": "text/x-python",
   "name": "python",
   "nbconvert_exporter": "python",
   "pygments_lexer": "ipython3",
   "version": "3.5.2"
  }
 },
 "nbformat": 4,
 "nbformat_minor": 1
}
