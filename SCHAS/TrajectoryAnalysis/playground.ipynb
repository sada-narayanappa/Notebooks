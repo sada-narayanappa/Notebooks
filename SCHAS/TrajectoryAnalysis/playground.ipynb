{
 "cells": [
  {
   "cell_type": "code",
   "execution_count": 1,
   "metadata": {
    "collapsed": true
   },
   "outputs": [],
   "source": [
    "from scipy.stats import t\n",
    "import matplotlib.pyplot as plt\n",
    "from PIL import Image\n",
    "import random;\n",
    "import numpy;\n",
    "import math;"
   ]
  },
  {
   "cell_type": "markdown",
   "metadata": {},
   "source": [
    "# Load Path Data"
   ]
  },
  {
   "cell_type": "code",
   "execution_count": 2,
   "metadata": {
    "collapsed": false
   },
   "outputs": [
    {
     "name": "stdout",
     "output_type": "stream",
     "text": [
      "-2.10092204024\n"
     ]
    }
   ],
   "source": [
    "print(t.ppf(0.025,df=18, loc=0,scale=1));"
   ]
  },
  {
   "cell_type": "code",
   "execution_count": 3,
   "metadata": {
    "collapsed": false
   },
   "outputs": [
    {
     "name": "stdout",
     "output_type": "stream",
     "text": [
      "Path Mean Times in seconds: \n",
      "[960, 900, 1020, 1140, 1050]\n",
      "\n",
      "Path Standard Deviation of Times in seconds: \n",
      "[60, 45, 70, 75, 65]\n",
      "\n",
      "Path Distances in miles:\n",
      "[8.9, 10.2, 8.4, 8.6, 8.9]\n",
      "\n",
      "Path Percent in each Region: \n",
      "[[0.33, 0.12, 0.3, 0, 0, 0.25, 0], [0, 0.18, 0, 0.07, 0.12, 0.32, 0.31], [0.23, 0.22, 0.3, 0, 0, 0.25, 0], [0.07, 0.22, 0.17, 0.19, 0, 0.35, 0], [0, 0.18, 0, 0.07, 0.11, 0.33, 0.31]]\n",
      "\n",
      "P_I(x):\n",
      "[0.2, 0.3, 0.3, 0.1, 0.1]\n",
      "\n",
      "P_p(x):\n",
      "[0.25, 0.2, 0.4, 0.05, 0.1]\n"
     ]
    }
   ],
   "source": [
    "pathMeanTimes = [];\n",
    "pathStdOfTimes = [];\n",
    "pathDistances = [];\n",
    "percentOfTimeInEachRegion = [];\n",
    "P_I = [];\n",
    "P_p = [];\n",
    "regionConcent = [120,110,80,200,230,100,150];\n",
    "\n",
    "#1801 Fry Street Falcon Heights, MN 55113 to 163 Bridge Street, Saint Paul, MN 55126 \n",
    "\n",
    "#via Snelling Ave and Highway 96W. #T = 16min. D = 8.9 mi\n",
    "#Follow Garden Ave to Snelling Ave\n",
    "#1 min (0.2 mi)\n",
    "#Turn left at the 2nd cross street onto Snelling Ave\n",
    "#8 min (4.9 mi)\n",
    "#Follow Hamline Ave N and Hwy 96 W to Bridge St in Shoreview\n",
    "#7 min (3.8 mi)\n",
    "pathMeanTimes.append(960);\n",
    "pathStdOfTimes.append(60);\n",
    "pathDistances.append(8.9);\n",
    "P_I.append(0.2);\n",
    "P_p.append(.25);\n",
    "percentOfTimeInEachRegion.append([.33,.12,.3,0,0,.25,0]);\n",
    "\n",
    "#via MN 36-E. T=15min. D=10.2 mi\n",
    "#Get on MN-36 E in Roseville from Snelling Ave\n",
    "#4 min (1.3 mi)\n",
    "#Continue on MN-36 E. Take Exit 113 to Rice St. Take exit 45 from I-694 W/US-10 W\n",
    "#8 min (6.7 mi)\n",
    "#Follow Rice St to Bridge St\n",
    "#4 min (2.2 mi)\n",
    "pathMeanTimes.append(900);\n",
    "pathStdOfTimes.append(45);\n",
    "pathDistances.append(10.2);\n",
    "P_I.append(0.3);\n",
    "P_p.append(.20);\n",
    "percentOfTimeInEachRegion.append([0,.18,0,.07,.12,.32,.31]);\n",
    "\n",
    "#via Snelling Ave and County Rd F. T = 17min. D = 8.4 mi\n",
    "#Follow Garden Ave to Snelling Ave\n",
    "#1 min (0.2 mi)\n",
    "#Turn left at the 2nd cross street onto Snelling Ave\n",
    "#8 min (4.9 mi)\n",
    "#Follow County Rd F West and Snail Lake Blvd to Bridge St in Shoreview\n",
    "#8 min (3.3 mi)\n",
    "pathMeanTimes.append(1020);\n",
    "pathStdOfTimes.append(70);\n",
    "pathDistances.append(8.4);\n",
    "P_I.append(0.3);\n",
    "P_p.append(.4);\n",
    "percentOfTimeInEachRegion.append([.23,.22,.3,0,0,.25,0]);\n",
    "\n",
    "#via Victorian T=19min. D = 8.6 mi\n",
    "#Follow Garden Ave to Snelling Ave\n",
    "#1 min (0.2 mi)\n",
    "#Take Victoria St N to Snail Lake Rd in Shoreview\n",
    "#16 min (7.6 mi)\n",
    "#Turn right onto Snail Lake Rd\n",
    "#2 min (0.6 mi)\n",
    "#Turn left onto Rice St\n",
    "#22 s (0.2 mi)\n",
    "#Turn left onto Bridge St\n",
    "#18 s (167 ft)\n",
    "pathMeanTimes.append(1140);\n",
    "pathStdOfTimes.append(75);\n",
    "pathDistances.append(8.6);\n",
    "P_I.append(0.1);\n",
    "P_p.append(.05);\n",
    "percentOfTimeInEachRegion.append([.07,.22,.17,.19,0,.35,0]);\n",
    "\n",
    "#via MN 36 and Rice ST. T = 17.5 min D =8.9 mi\n",
    "#Follow Garden Ave to Snelling Ave\n",
    "#1 min (0.2 mi)\n",
    "#Take MN-36 E and Rice St to Bridge St\n",
    "#16 min (8.7 mi)\n",
    "#Turn left onto Bridge St\n",
    "#18 s (167 ft)\n",
    "pathMeanTimes.append(1050);\n",
    "pathStdOfTimes.append(65);\n",
    "pathDistances.append(8.9);\n",
    "P_I.append(0.1);\n",
    "P_p.append(.1);\n",
    "percentOfTimeInEachRegion.append([0,.18,0,.07,.11,.33,.31]);\n",
    "\n",
    "print(\"Path Mean Times in seconds: \");\n",
    "print(pathMeanTimes);\n",
    "print(\"\\nPath Standard Deviation of Times in seconds: \");\n",
    "print(pathStdOfTimes);\n",
    "print(\"\\nPath Distances in miles:\");\n",
    "print(pathDistances);\n",
    "print(\"\\nPath Percent in each Region: \");\n",
    "print(percentOfTimeInEachRegion);\n",
    "print(\"\\nP_I(x):\");\n",
    "print(P_I);\n",
    "print(\"\\nP_p(x):\")\n",
    "print(P_p);"
   ]
  },
  {
   "cell_type": "markdown",
   "metadata": {},
   "source": [
    "# Simulation"
   ]
  },
  {
   "cell_type": "markdown",
   "metadata": {},
   "source": [
    "# Initialize Variables"
   ]
  },
  {
   "cell_type": "code",
   "execution_count": 4,
   "metadata": {
    "collapsed": false
   },
   "outputs": [
    {
     "name": "stdout",
     "output_type": "stream",
     "text": [
      "[7.1364201947975907, 1.8835798052024093]\n"
     ]
    }
   ],
   "source": [
    "a = [10,2,3,4,3,5,4,6,7,1.1]\n",
    "std = numpy.std(a,ddof=1);\n",
    "n = len(a);\n",
    "tcv = t.ppf(0.005,df = n,loc = 0, scale = 1);\n",
    "est = numpy.mean(a);\n",
    "confidence = [est - (tcv*std)/numpy.sqrt(n), est +(tcv*std)/numpy.sqrt(n)];\n",
    "print(str(confidence));\n"
   ]
  },
  {
   "cell_type": "markdown",
   "metadata": {},
   "source": [
    "# Training"
   ]
  },
  {
   "cell_type": "code",
   "execution_count": 5,
   "metadata": {
    "collapsed": false
   },
   "outputs": [
    {
     "name": "stdout",
     "output_type": "stream",
     "text": [
      "[6.15, 10, 15, 20, 25]\n"
     ]
    }
   ],
   "source": [
    "my_list = [1.23, 2, 3, 4, 5]\n",
    "my_new_list = [i * 5 for i in my_list]\n",
    "print(str(my_new_list));"
   ]
  },
  {
   "cell_type": "markdown",
   "metadata": {},
   "source": [
    "# Testing"
   ]
  },
  {
   "cell_type": "code",
   "execution_count": 17,
   "metadata": {
    "collapsed": false
   },
   "outputs": [
    {
     "name": "stdout",
     "output_type": "stream",
     "text": [
      "[[1.0, 2.0, 3.0, 4.0], [1.0, 2.0, 3.0, 4.0], [1.0, 2.0, 3.0, 4.0], [1.0, 2.0, 3.0, 4.0], [1.0, 2.0, 3.0, 4.0], [1.0, 2.0, 3.0, 4.0], [1.0, 2.0, 3.0, 4.0], [1.0, 2.0, 3.0, 4.0], [1.0, 2.0, 3.0, 4.0], [1.0, 2.0, 3.0, 4.0], [1.0, 2.0, 3.0, 4.0], [1.0, 2.0, 3.0, 4.0], [1.0, 2.0, 3.0, 4.0], [1.0, 2.0, 3.0, 4.0], [1.0, 2.0, 3.0, 4.0], [1.0, 2.0, 3.0, 4.0], [1.0, 2.0, 3.0, 4.0], [1.0, 2.0, 3.0, 4.0], [1.0, 2.0, 3.0, 4.0], [1.0, 2.0, 3.0, 4.0]]\n",
      "\n",
      "\n",
      "\n",
      "\n",
      "[[0, 932.0542978382953], [1, 866.9820136692213], [2, 1028.5809237542403], [4, 1042.6626993666607], [3, 989.8245146170908], [0, 1072.6763558385635], [1, 923.6507965894907], [2, 1028.4384384441782], [2, 1075.69033391749], [1, 924.0396207420301]]\n"
     ]
    }
   ],
   "source": [
    "#Generating path and time list\n",
    "\n",
    "runs = 60;\n",
    "\n",
    "\n",
    "def pathAndTimeGen(days):\n",
    "    indPathAndTime = [];\n",
    "    #Pick a random path based on P_I\n",
    "    for i in range(0,days):\n",
    "        randomNumber = random.uniform(0,1);\n",
    "        pathLimit=0;\n",
    "        for r in range(0,len(P_I)):\n",
    "            pathLimit = pathLimit+P_I[r];\n",
    "            if(randomNumber<pathLimit):\n",
    "                randomPath = r;\n",
    "                break;\n",
    "        #Find a random time that it took for that path based on normal distribution for that path\n",
    "        pathUserTime = random.normalvariate(pathMeanTimes[randomPath],pathStdOfTimes[randomPath]);\n",
    "        indPathAndTime.append([randomPath,pathUserTime]);\n",
    "    return indPathAndTime;\n",
    "\n",
    "    \n",
    "\n",
    "def environGen(regions,base,variation,days):#makes a list of environmental conditions\n",
    "    #for days number of days\n",
    "    #regions = number of Voronoi cells\n",
    "    #base = base concentration list, a list of length = regions\n",
    "    #variation = plus/minus range of variation in the values\n",
    "    environment = [];\n",
    "    for i in range(0,days):\n",
    "        dailyConditions = [];\n",
    "        for region in range(0,regions):\n",
    "            dailyConditions.append(base[region]+random.uniform(-variation,variation));\n",
    "        environment.append(dailyConditions);\n",
    "    return environment;\n",
    "\n",
    "print(environGen(4,[1,2,3,4],0,20));\n",
    "\n",
    "\n",
    "print(\"\\n\\n\\n\");\n",
    "\n",
    "\n",
    "\n",
    "\n",
    "print(pathAndTimeGen(10));\n"
   ]
  },
  {
   "cell_type": "code",
   "execution_count": 20,
   "metadata": {
    "collapsed": false
   },
   "outputs": [
    {
     "name": "stdout",
     "output_type": "stream",
     "text": [
      "5\n",
      "3.02\n"
     ]
    }
   ],
   "source": [
    "a = [1.1,2,3,4,5];\n",
    "print(len(a));\n",
    "print(numpy.mean(a));\n"
   ]
  },
  {
   "cell_type": "code",
   "execution_count": null,
   "metadata": {
    "collapsed": true
   },
   "outputs": [],
   "source": []
  }
 ],
 "metadata": {
  "anaconda-cloud": {},
  "kernelspec": {
   "display_name": "Python [default]",
   "language": "python",
   "name": "python3"
  },
  "language_info": {
   "codemirror_mode": {
    "name": "ipython",
    "version": 3
   },
   "file_extension": ".py",
   "mimetype": "text/x-python",
   "name": "python",
   "nbconvert_exporter": "python",
   "pygments_lexer": "ipython3",
   "version": "3.5.2"
  }
 },
 "nbformat": 4,
 "nbformat_minor": 1
}
