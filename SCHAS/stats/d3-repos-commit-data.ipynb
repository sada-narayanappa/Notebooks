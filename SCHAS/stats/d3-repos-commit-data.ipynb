{
 "cells": [
  {
   "cell_type": "code",
   "execution_count": 2,
   "metadata": {
    "collapsed": false
   },
   "outputs": [
    {
     "name": "stdout",
     "output_type": "stream",
     "text": [
      "/opt/SCHAS/git/Notebooks/SCHAS/stats\r\n"
     ]
    }
   ],
   "source": [
    "!pwd"
   ]
  },
  {
   "cell_type": "code",
   "execution_count": 2,
   "metadata": {
    "collapsed": false
   },
   "outputs": [
    {
     "name": "stdout",
     "output_type": "stream",
     "text": [
      "  % Total    % Received % Xferd  Average Speed   Time    Time     Time  Current\n",
      "                                 Dload  Upload   Total   Spent    Left  Speed\n",
      "100  6815  100  6815    0     0  46366      0 --:--:-- --:--:-- --:--:-- 52423\n"
     ]
    }
   ],
   "source": [
    "!(curl https://api.github.com/repos/d3/d3/stats/commit_activity) >> d3only11pm.txt"
   ]
  },
  {
   "cell_type": "code",
   "execution_count": 24,
   "metadata": {
    "collapsed": false
   },
   "outputs": [
    {
     "name": "stdout",
     "output_type": "stream",
     "text": [
      "  % Total    % Received % Xferd  Average Speed   Time    Time     Time  Current\n",
      "                                 Dload  Upload   Total   Spent    Left  Speed\n",
      "100  6815  100  6815    0     0  50776      0 --:--:-- --:--:-- --:--:-- 51628\n",
      "  % Total    % Received % Xferd  Average Speed   Time    Time     Time  Current\n",
      "                                 Dload  Upload   Total   Spent    Left  Speed\n",
      "100  6818  100  6818    0     0  25880      0 --:--:-- --:--:-- --:--:-- 26022\n",
      "  % Total    % Received % Xferd  Average Speed   Time    Time     Time  Current\n",
      "                                 Dload  Upload   Total   Spent    Left  Speed\n",
      "100  6815  100  6815    0     0  53521      0 --:--:-- --:--:-- --:--:-- 54087\n"
     ]
    }
   ],
   "source": [
    "!(curl https://api.github.com/repos/d3/d3/stats/commit_activity) >> a.txt\n",
    "!(curl https://api.github.com/repos/d3/d3-hierarchy/stats/commit_activity) >> a.txt\n",
    "!(curl https://api.github.com/repos/d3/d3-time-format/stats/commit_activity) >> a.txt"
   ]
  },
  {
   "cell_type": "code",
   "execution_count": 43,
   "metadata": {
    "collapsed": false
   },
   "outputs": [
    {
     "name": "stdout",
     "output_type": "stream",
     "text": [
      "{\r\n",
      "  \"message\": \"API rate limit exceeded for 35.160.219.141. (But here's the good news: Authenticated requests get a higher rate limit. Check out the documentation for more details.)\",\r\n",
      "  \"documentation_url\": \"https://developer.github.com/v3/#rate-limiting\"\r\n",
      "}\r\n"
     ]
    }
   ],
   "source": [
    "!(curl https://api.github.com/orgs/d3/repos) "
   ]
  },
  {
   "cell_type": "code",
   "execution_count": 7,
   "metadata": {
    "collapsed": false
   },
   "outputs": [
    {
     "name": "stdout",
     "output_type": "stream",
     "text": [
      "d3\n"
     ]
    }
   ],
   "source": [
    "import requests\n",
    "import json\n",
    "\n",
    "manyrepos = ['d3-hierarchy', 'd3-time-format', 'd3-delaunay', 'd3-scale-chromatic', 'd3-transition',\n",
    "         'd3-color', 'd3-interpolate', 'd3-format', 'd3-collection', 'd3',\n",
    "         'd3-geo-polygon', 'd3-fetch', 'd3.github.com', 'd3-geo-projection', 'd3-require',\n",
    "         'd3-geo', 'd3-selection', 'd3-contour', 'd3-cam16', 'd3-shape',\n",
    "         'd3-scale', 'd3-zoom', 'd3-drag', 'd3-force', 'd3-request',\n",
    "         'd3-array', 'd3-plugins', 'd3-sankey', 'd3-timer', 'd3-time',\n",
    "         'd3-3.x-api-reference', 'd3-brush', 'd3-tile', 'd3-dsv', 'd3-scripts',\n",
    "         'd3-axis', 'd3-random', 'd3-queue', 'd3-selection-multi', 'd3-hsv',\n",
    "         'd3-chord', 'd3-hexbin', 'd3-voronoi', 'd3-dispatch', 'd3-ease',\n",
    "         'd3-path', 'd3-polygon', 'd3-quadtree', 'd3-hcg', 'd3-hull', \n",
    "         'd3-logo', 'd3-bundler'\n",
    "        ]\n",
    "\n",
    "repos = ['d3']\n",
    "\n",
    "for repo in repos:\n",
    "    print(repo)\n",
    "    url = 'https://api.github.com/repos/d3/' + repo + '/stats/commit_activity'\n",
    "    r = requests.get(url)\n",
    "    data = r.json() \n",
    "    #print(data)\n",
    "\n",
    "    with open('singled3-1130pm.txt', 'a') as outfile:\n",
    "        json.dump(data, outfile)"
   ]
  },
  {
   "cell_type": "code",
   "execution_count": 40,
   "metadata": {
    "collapsed": false
   },
   "outputs": [
    {
     "data": {
      "text/plain": [
       "'/opt/SCHAS/git/Notebooks/SCHAS/stats'"
      ]
     },
     "execution_count": 40,
     "metadata": {},
     "output_type": "execute_result"
    }
   ],
   "source": [
    "pwd"
   ]
  }
 ],
 "metadata": {
  "anaconda-cloud": {},
  "kernelspec": {
   "display_name": "Python [default]",
   "language": "python",
   "name": "python3"
  },
  "language_info": {
   "codemirror_mode": {
    "name": "ipython",
    "version": 3
   },
   "file_extension": ".py",
   "mimetype": "text/x-python",
   "name": "python",
   "nbconvert_exporter": "python",
   "pygments_lexer": "ipython3",
   "version": "3.5.2"
  }
 },
 "nbformat": 4,
 "nbformat_minor": 1
}
