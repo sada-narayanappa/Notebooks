{
 "cells": [
  {
   "cell_type": "markdown",
   "metadata": {},
   "source": [
    "# Linear Regressions"
   ]
  },
  {
   "cell_type": "markdown",
   "metadata": {},
   "source": [
    "## Learning Objectives\n",
    "\n",
    "- Use the **pandas library** to read data into Python.\n",
    "- Use the **display library** to visualize data.\n",
    "- Understand **linear regression**, and how does it work.\n",
    "- Understand **train and interpret** a linear regression model in scikit-learn.\n",
    "- Learn some **evaluation metrics** for regression problems.\n",
    "- How do I choose **which features to include** in my model?"
   ]
  },
  {
   "cell_type": "markdown",
   "metadata": {},
   "source": [
    "## Types of supervised learning\n",
    "\n",
    "- **Classification:** Predict a categorical response\n",
    "- **Regression:** Predict a continuous response"
   ]
  },
  {
   "cell_type": "markdown",
   "metadata": {},
   "source": [
    "## Reading data using pandas\n",
    "\n",
    "**Pandas:** popular Python library for data exploration, manipulation, and analysis"
   ]
  },
  {
   "cell_type": "code",
   "execution_count": 161,
   "metadata": {
    "collapsed": false
   },
   "outputs": [],
   "source": [
    "# import libraries\n",
    "import pandas as pd\n",
    "import matplotlib.pyplot as plt\n",
    "import numpy as np\n",
    "from sklearn import datasets, linear_model\n",
    "from IPython.display import display\n",
    "from sklearn import metrics"
   ]
  },
  {
   "cell_type": "code",
   "execution_count": 162,
   "metadata": {
    "collapsed": false
   },
   "outputs": [
    {
     "data": {
      "text/html": [
       "<div>\n",
       "<table border=\"1\" class=\"dataframe\">\n",
       "  <thead>\n",
       "    <tr style=\"text-align: right;\">\n",
       "      <th></th>\n",
       "      <th>moisture</th>\n",
       "      <th>knot</th>\n",
       "      <th>treering</th>\n",
       "      <th>edyn</th>\n",
       "      <th>density</th>\n",
       "      <th>bheight</th>\n",
       "      <th>estat</th>\n",
       "      <th>bstrength</th>\n",
       "    </tr>\n",
       "  </thead>\n",
       "  <tbody>\n",
       "    <tr>\n",
       "      <th>DO1</th>\n",
       "      <td>13.3</td>\n",
       "      <td>0.04</td>\n",
       "      <td>3.00</td>\n",
       "      <td>14053</td>\n",
       "      <td>675</td>\n",
       "      <td>101</td>\n",
       "      <td>15452</td>\n",
       "      <td>58.40</td>\n",
       "    </tr>\n",
       "    <tr>\n",
       "      <th>DO2</th>\n",
       "      <td>12.0</td>\n",
       "      <td>0.16</td>\n",
       "      <td>2.50</td>\n",
       "      <td>20611</td>\n",
       "      <td>474</td>\n",
       "      <td>100</td>\n",
       "      <td>17272</td>\n",
       "      <td>74.35</td>\n",
       "    </tr>\n",
       "    <tr>\n",
       "      <th>DO3</th>\n",
       "      <td>12.8</td>\n",
       "      <td>0.14</td>\n",
       "      <td>3.88</td>\n",
       "      <td>18846</td>\n",
       "      <td>596</td>\n",
       "      <td>99</td>\n",
       "      <td>18456</td>\n",
       "      <td>49.82</td>\n",
       "    </tr>\n",
       "    <tr>\n",
       "      <th>DO4</th>\n",
       "      <td>11.7</td>\n",
       "      <td>0.13</td>\n",
       "      <td>2.02</td>\n",
       "      <td>18587</td>\n",
       "      <td>582</td>\n",
       "      <td>100</td>\n",
       "      <td>18940</td>\n",
       "      <td>78.52</td>\n",
       "    </tr>\n",
       "    <tr>\n",
       "      <th>DO5</th>\n",
       "      <td>12.0</td>\n",
       "      <td>0.16</td>\n",
       "      <td>2.13</td>\n",
       "      <td>19299</td>\n",
       "      <td>678</td>\n",
       "      <td>100</td>\n",
       "      <td>16864</td>\n",
       "      <td>79.31</td>\n",
       "    </tr>\n",
       "  </tbody>\n",
       "</table>\n",
       "</div>"
      ],
      "text/plain": [
       "     moisture  knot  treering   edyn  density  bheight  estat  bstrength\n",
       "DO1      13.3  0.04      3.00  14053      675      101  15452      58.40\n",
       "DO2      12.0  0.16      2.50  20611      474      100  17272      74.35\n",
       "DO3      12.8  0.14      3.88  18846      596       99  18456      49.82\n",
       "DO4      11.7  0.13      2.02  18587      582      100  18940      78.52\n",
       "DO5      12.0  0.16      2.13  19299      678      100  16864      79.31"
      ]
     },
     "execution_count": 162,
     "metadata": {},
     "output_type": "execute_result"
    }
   ],
   "source": [
    "# read CSV file directly from a URL and save the results\n",
    "import pandas as pd\n",
    "#data = pd.read_csv('http://www-bcf.usc.edu/~gareth/ISL/Advertising.csv', index_col=0)\n",
    "data = pd.read_csv('douglas_data.csv', skipinitialspace=True, index_col=0)\n",
    "\n",
    "# display the first 5 rows\n",
    "data.head()"
   ]
  },
  {
   "cell_type": "code",
   "execution_count": 163,
   "metadata": {
    "collapsed": false
   },
   "outputs": [
    {
     "data": {
      "text/html": [
       "<div>\n",
       "<table border=\"1\" class=\"dataframe\">\n",
       "  <thead>\n",
       "    <tr style=\"text-align: right;\">\n",
       "      <th></th>\n",
       "      <th>moisture</th>\n",
       "      <th>knot</th>\n",
       "      <th>treering</th>\n",
       "      <th>edyn</th>\n",
       "      <th>density</th>\n",
       "      <th>bheight</th>\n",
       "      <th>estat</th>\n",
       "      <th>bstrength</th>\n",
       "    </tr>\n",
       "  </thead>\n",
       "  <tbody>\n",
       "    <tr>\n",
       "      <th>DO1</th>\n",
       "      <td>13.3</td>\n",
       "      <td>0.04</td>\n",
       "      <td>3.00</td>\n",
       "      <td>14053</td>\n",
       "      <td>675</td>\n",
       "      <td>101</td>\n",
       "      <td>15452</td>\n",
       "      <td>58.40</td>\n",
       "    </tr>\n",
       "    <tr>\n",
       "      <th>DO2</th>\n",
       "      <td>12.0</td>\n",
       "      <td>0.16</td>\n",
       "      <td>2.50</td>\n",
       "      <td>20611</td>\n",
       "      <td>474</td>\n",
       "      <td>100</td>\n",
       "      <td>17272</td>\n",
       "      <td>74.35</td>\n",
       "    </tr>\n",
       "    <tr>\n",
       "      <th>DO3</th>\n",
       "      <td>12.8</td>\n",
       "      <td>0.14</td>\n",
       "      <td>3.88</td>\n",
       "      <td>18846</td>\n",
       "      <td>596</td>\n",
       "      <td>99</td>\n",
       "      <td>18456</td>\n",
       "      <td>49.82</td>\n",
       "    </tr>\n",
       "    <tr>\n",
       "      <th>DO4</th>\n",
       "      <td>11.7</td>\n",
       "      <td>0.13</td>\n",
       "      <td>2.02</td>\n",
       "      <td>18587</td>\n",
       "      <td>582</td>\n",
       "      <td>100</td>\n",
       "      <td>18940</td>\n",
       "      <td>78.52</td>\n",
       "    </tr>\n",
       "    <tr>\n",
       "      <th>DO5</th>\n",
       "      <td>12.0</td>\n",
       "      <td>0.16</td>\n",
       "      <td>2.13</td>\n",
       "      <td>19299</td>\n",
       "      <td>678</td>\n",
       "      <td>100</td>\n",
       "      <td>16864</td>\n",
       "      <td>79.31</td>\n",
       "    </tr>\n",
       "    <tr>\n",
       "      <th>DO6</th>\n",
       "      <td>12.4</td>\n",
       "      <td>0.04</td>\n",
       "      <td>2.98</td>\n",
       "      <td>21695</td>\n",
       "      <td>595</td>\n",
       "      <td>100</td>\n",
       "      <td>19440</td>\n",
       "      <td>64.34</td>\n",
       "    </tr>\n",
       "    <tr>\n",
       "      <th>DO7</th>\n",
       "      <td>12.5</td>\n",
       "      <td>0.32</td>\n",
       "      <td>3.67</td>\n",
       "      <td>16523</td>\n",
       "      <td>592</td>\n",
       "      <td>100</td>\n",
       "      <td>16152</td>\n",
       "      <td>58.19</td>\n",
       "    </tr>\n",
       "    <tr>\n",
       "      <th>DO8</th>\n",
       "      <td>11.5</td>\n",
       "      <td>0.07</td>\n",
       "      <td>3.67</td>\n",
       "      <td>18333</td>\n",
       "      <td>634</td>\n",
       "      <td>101</td>\n",
       "      <td>18480</td>\n",
       "      <td>88.39</td>\n",
       "    </tr>\n",
       "    <tr>\n",
       "      <th>DO9</th>\n",
       "      <td>13.1</td>\n",
       "      <td>0.19</td>\n",
       "      <td>2.44</td>\n",
       "      <td>18628</td>\n",
       "      <td>592</td>\n",
       "      <td>101</td>\n",
       "      <td>14604</td>\n",
       "      <td>33.02</td>\n",
       "    </tr>\n",
       "    <tr>\n",
       "      <th>DO10</th>\n",
       "      <td>11.7</td>\n",
       "      <td>0.25</td>\n",
       "      <td>3.00</td>\n",
       "      <td>15683</td>\n",
       "      <td>540</td>\n",
       "      <td>101</td>\n",
       "      <td>16628</td>\n",
       "      <td>60.28</td>\n",
       "    </tr>\n",
       "    <tr>\n",
       "      <th>DO11</th>\n",
       "      <td>13.2</td>\n",
       "      <td>0.20</td>\n",
       "      <td>3.75</td>\n",
       "      <td>18496</td>\n",
       "      <td>605</td>\n",
       "      <td>100</td>\n",
       "      <td>18476</td>\n",
       "      <td>91.86</td>\n",
       "    </tr>\n",
       "    <tr>\n",
       "      <th>DO12</th>\n",
       "      <td>11.9</td>\n",
       "      <td>0.11</td>\n",
       "      <td>1.96</td>\n",
       "      <td>19792</td>\n",
       "      <td>646</td>\n",
       "      <td>101</td>\n",
       "      <td>19212</td>\n",
       "      <td>81.88</td>\n",
       "    </tr>\n",
       "    <tr>\n",
       "      <th>DO13</th>\n",
       "      <td>12.3</td>\n",
       "      <td>0.03</td>\n",
       "      <td>2.40</td>\n",
       "      <td>20098</td>\n",
       "      <td>618</td>\n",
       "      <td>101</td>\n",
       "      <td>19608</td>\n",
       "      <td>91.02</td>\n",
       "    </tr>\n",
       "    <tr>\n",
       "      <th>DO14</th>\n",
       "      <td>12.4</td>\n",
       "      <td>0.06</td>\n",
       "      <td>2.39</td>\n",
       "      <td>15600</td>\n",
       "      <td>624</td>\n",
       "      <td>101</td>\n",
       "      <td>17316</td>\n",
       "      <td>81.30</td>\n",
       "    </tr>\n",
       "    <tr>\n",
       "      <th>DO15</th>\n",
       "      <td>13.1</td>\n",
       "      <td>0.03</td>\n",
       "      <td>2.23</td>\n",
       "      <td>18065</td>\n",
       "      <td>589</td>\n",
       "      <td>101</td>\n",
       "      <td>17428</td>\n",
       "      <td>67.08</td>\n",
       "    </tr>\n",
       "    <tr>\n",
       "      <th>DO16</th>\n",
       "      <td>14.0</td>\n",
       "      <td>0.04</td>\n",
       "      <td>4.28</td>\n",
       "      <td>14883</td>\n",
       "      <td>610</td>\n",
       "      <td>100</td>\n",
       "      <td>14132</td>\n",
       "      <td>48.41</td>\n",
       "    </tr>\n",
       "    <tr>\n",
       "      <th>DO17</th>\n",
       "      <td>12.6</td>\n",
       "      <td>0.07</td>\n",
       "      <td>2.81</td>\n",
       "      <td>11282</td>\n",
       "      <td>614</td>\n",
       "      <td>102</td>\n",
       "      <td>10132</td>\n",
       "      <td>55.54</td>\n",
       "    </tr>\n",
       "    <tr>\n",
       "      <th>DO18</th>\n",
       "      <td>12.0</td>\n",
       "      <td>0.20</td>\n",
       "      <td>3.18</td>\n",
       "      <td>15731</td>\n",
       "      <td>620</td>\n",
       "      <td>100</td>\n",
       "      <td>16576</td>\n",
       "      <td>75.55</td>\n",
       "    </tr>\n",
       "    <tr>\n",
       "      <th>DO19</th>\n",
       "      <td>12.1</td>\n",
       "      <td>0.05</td>\n",
       "      <td>2.02</td>\n",
       "      <td>18878</td>\n",
       "      <td>581</td>\n",
       "      <td>98</td>\n",
       "      <td>18832</td>\n",
       "      <td>79.67</td>\n",
       "    </tr>\n",
       "    <tr>\n",
       "      <th>DO20</th>\n",
       "      <td>12.3</td>\n",
       "      <td>0.07</td>\n",
       "      <td>2.39</td>\n",
       "      <td>14199</td>\n",
       "      <td>642</td>\n",
       "      <td>101</td>\n",
       "      <td>14096</td>\n",
       "      <td>70.49</td>\n",
       "    </tr>\n",
       "    <tr>\n",
       "      <th>DO21</th>\n",
       "      <td>12.5</td>\n",
       "      <td>0.15</td>\n",
       "      <td>2.41</td>\n",
       "      <td>19119</td>\n",
       "      <td>549</td>\n",
       "      <td>100</td>\n",
       "      <td>15640</td>\n",
       "      <td>80.37</td>\n",
       "    </tr>\n",
       "    <tr>\n",
       "      <th>DO22</th>\n",
       "      <td>12.5</td>\n",
       "      <td>0.18</td>\n",
       "      <td>2.06</td>\n",
       "      <td>19467</td>\n",
       "      <td>670</td>\n",
       "      <td>100</td>\n",
       "      <td>17352</td>\n",
       "      <td>86.85</td>\n",
       "    </tr>\n",
       "    <tr>\n",
       "      <th>DO23</th>\n",
       "      <td>13.1</td>\n",
       "      <td>0.14</td>\n",
       "      <td>2.77</td>\n",
       "      <td>17343</td>\n",
       "      <td>597</td>\n",
       "      <td>101</td>\n",
       "      <td>16488</td>\n",
       "      <td>60.01</td>\n",
       "    </tr>\n",
       "    <tr>\n",
       "      <th>DO24</th>\n",
       "      <td>13.1</td>\n",
       "      <td>0.28</td>\n",
       "      <td>3.65</td>\n",
       "      <td>15069</td>\n",
       "      <td>564</td>\n",
       "      <td>100</td>\n",
       "      <td>14744</td>\n",
       "      <td>55.27</td>\n",
       "    </tr>\n",
       "    <tr>\n",
       "      <th>DO25</th>\n",
       "      <td>12.2</td>\n",
       "      <td>0.31</td>\n",
       "      <td>3.06</td>\n",
       "      <td>14728</td>\n",
       "      <td>592</td>\n",
       "      <td>99</td>\n",
       "      <td>15984</td>\n",
       "      <td>74.97</td>\n",
       "    </tr>\n",
       "    <tr>\n",
       "      <th>DO26</th>\n",
       "      <td>12.3</td>\n",
       "      <td>0.16</td>\n",
       "      <td>3.48</td>\n",
       "      <td>14707</td>\n",
       "      <td>543</td>\n",
       "      <td>100</td>\n",
       "      <td>13896</td>\n",
       "      <td>59.03</td>\n",
       "    </tr>\n",
       "    <tr>\n",
       "      <th>DO27</th>\n",
       "      <td>12.6</td>\n",
       "      <td>0.06</td>\n",
       "      <td>1.64</td>\n",
       "      <td>17602</td>\n",
       "      <td>612</td>\n",
       "      <td>100</td>\n",
       "      <td>17228</td>\n",
       "      <td>77.99</td>\n",
       "    </tr>\n",
       "    <tr>\n",
       "      <th>DO28</th>\n",
       "      <td>12.5</td>\n",
       "      <td>0.15</td>\n",
       "      <td>2.41</td>\n",
       "      <td>19119</td>\n",
       "      <td>549</td>\n",
       "      <td>100</td>\n",
       "      <td>15640</td>\n",
       "      <td>80.37</td>\n",
       "    </tr>\n",
       "    <tr>\n",
       "      <th>DO29</th>\n",
       "      <td>12.6</td>\n",
       "      <td>0.13</td>\n",
       "      <td>2.18</td>\n",
       "      <td>18700</td>\n",
       "      <td>656</td>\n",
       "      <td>100</td>\n",
       "      <td>16672</td>\n",
       "      <td>65.20</td>\n",
       "    </tr>\n",
       "    <tr>\n",
       "      <th>DO30</th>\n",
       "      <td>12.5</td>\n",
       "      <td>0.10</td>\n",
       "      <td>3.92</td>\n",
       "      <td>15469</td>\n",
       "      <td>787</td>\n",
       "      <td>100</td>\n",
       "      <td>12052</td>\n",
       "      <td>60.97</td>\n",
       "    </tr>\n",
       "    <tr>\n",
       "      <th>...</th>\n",
       "      <td>...</td>\n",
       "      <td>...</td>\n",
       "      <td>...</td>\n",
       "      <td>...</td>\n",
       "      <td>...</td>\n",
       "      <td>...</td>\n",
       "      <td>...</td>\n",
       "      <td>...</td>\n",
       "    </tr>\n",
       "    <tr>\n",
       "      <th>DO331</th>\n",
       "      <td>14.1</td>\n",
       "      <td>0.40</td>\n",
       "      <td>3.91</td>\n",
       "      <td>9556</td>\n",
       "      <td>491</td>\n",
       "      <td>192</td>\n",
       "      <td>9932</td>\n",
       "      <td>33.00</td>\n",
       "    </tr>\n",
       "    <tr>\n",
       "      <th>DO332</th>\n",
       "      <td>14.2</td>\n",
       "      <td>0.21</td>\n",
       "      <td>4.54</td>\n",
       "      <td>11461</td>\n",
       "      <td>497</td>\n",
       "      <td>192</td>\n",
       "      <td>10684</td>\n",
       "      <td>36.30</td>\n",
       "    </tr>\n",
       "    <tr>\n",
       "      <th>DO333</th>\n",
       "      <td>13.7</td>\n",
       "      <td>0.14</td>\n",
       "      <td>7.58</td>\n",
       "      <td>11228</td>\n",
       "      <td>512</td>\n",
       "      <td>191</td>\n",
       "      <td>10584</td>\n",
       "      <td>46.30</td>\n",
       "    </tr>\n",
       "    <tr>\n",
       "      <th>DO334</th>\n",
       "      <td>13.5</td>\n",
       "      <td>0.52</td>\n",
       "      <td>3.93</td>\n",
       "      <td>12075</td>\n",
       "      <td>505</td>\n",
       "      <td>193</td>\n",
       "      <td>10128</td>\n",
       "      <td>33.00</td>\n",
       "    </tr>\n",
       "    <tr>\n",
       "      <th>DO335</th>\n",
       "      <td>13.6</td>\n",
       "      <td>0.43</td>\n",
       "      <td>5.82</td>\n",
       "      <td>9469</td>\n",
       "      <td>457</td>\n",
       "      <td>192</td>\n",
       "      <td>10396</td>\n",
       "      <td>29.40</td>\n",
       "    </tr>\n",
       "    <tr>\n",
       "      <th>DO336</th>\n",
       "      <td>11.5</td>\n",
       "      <td>0.15</td>\n",
       "      <td>5.06</td>\n",
       "      <td>12456</td>\n",
       "      <td>589</td>\n",
       "      <td>173</td>\n",
       "      <td>12752</td>\n",
       "      <td>40.60</td>\n",
       "    </tr>\n",
       "    <tr>\n",
       "      <th>DO337</th>\n",
       "      <td>12.7</td>\n",
       "      <td>0.27</td>\n",
       "      <td>6.43</td>\n",
       "      <td>9706</td>\n",
       "      <td>467</td>\n",
       "      <td>197</td>\n",
       "      <td>8316</td>\n",
       "      <td>36.70</td>\n",
       "    </tr>\n",
       "    <tr>\n",
       "      <th>DO338</th>\n",
       "      <td>13.9</td>\n",
       "      <td>0.33</td>\n",
       "      <td>5.28</td>\n",
       "      <td>10721</td>\n",
       "      <td>534</td>\n",
       "      <td>174</td>\n",
       "      <td>8368</td>\n",
       "      <td>28.80</td>\n",
       "    </tr>\n",
       "    <tr>\n",
       "      <th>DO339</th>\n",
       "      <td>13.6</td>\n",
       "      <td>0.18</td>\n",
       "      <td>5.88</td>\n",
       "      <td>9449</td>\n",
       "      <td>457</td>\n",
       "      <td>197</td>\n",
       "      <td>9484</td>\n",
       "      <td>26.80</td>\n",
       "    </tr>\n",
       "    <tr>\n",
       "      <th>DO340</th>\n",
       "      <td>14.1</td>\n",
       "      <td>0.22</td>\n",
       "      <td>6.17</td>\n",
       "      <td>12908</td>\n",
       "      <td>593</td>\n",
       "      <td>197</td>\n",
       "      <td>15136</td>\n",
       "      <td>35.60</td>\n",
       "    </tr>\n",
       "    <tr>\n",
       "      <th>DO341</th>\n",
       "      <td>13.8</td>\n",
       "      <td>0.21</td>\n",
       "      <td>2.90</td>\n",
       "      <td>12572</td>\n",
       "      <td>589</td>\n",
       "      <td>192</td>\n",
       "      <td>14428</td>\n",
       "      <td>55.40</td>\n",
       "    </tr>\n",
       "    <tr>\n",
       "      <th>DO342</th>\n",
       "      <td>14.5</td>\n",
       "      <td>0.34</td>\n",
       "      <td>5.72</td>\n",
       "      <td>11753</td>\n",
       "      <td>491</td>\n",
       "      <td>196</td>\n",
       "      <td>10488</td>\n",
       "      <td>37.50</td>\n",
       "    </tr>\n",
       "    <tr>\n",
       "      <th>DO343</th>\n",
       "      <td>14.9</td>\n",
       "      <td>0.32</td>\n",
       "      <td>6.61</td>\n",
       "      <td>12879</td>\n",
       "      <td>592</td>\n",
       "      <td>197</td>\n",
       "      <td>11008</td>\n",
       "      <td>26.20</td>\n",
       "    </tr>\n",
       "    <tr>\n",
       "      <th>DO344</th>\n",
       "      <td>13.7</td>\n",
       "      <td>0.24</td>\n",
       "      <td>8.20</td>\n",
       "      <td>9296</td>\n",
       "      <td>507</td>\n",
       "      <td>197</td>\n",
       "      <td>8408</td>\n",
       "      <td>25.00</td>\n",
       "    </tr>\n",
       "    <tr>\n",
       "      <th>DO345</th>\n",
       "      <td>13.4</td>\n",
       "      <td>0.25</td>\n",
       "      <td>7.13</td>\n",
       "      <td>9576</td>\n",
       "      <td>489</td>\n",
       "      <td>197</td>\n",
       "      <td>8116</td>\n",
       "      <td>17.10</td>\n",
       "    </tr>\n",
       "    <tr>\n",
       "      <th>DO346</th>\n",
       "      <td>14.4</td>\n",
       "      <td>0.19</td>\n",
       "      <td>3.39</td>\n",
       "      <td>13413</td>\n",
       "      <td>580</td>\n",
       "      <td>196</td>\n",
       "      <td>13012</td>\n",
       "      <td>50.90</td>\n",
       "    </tr>\n",
       "    <tr>\n",
       "      <th>DO347</th>\n",
       "      <td>13.8</td>\n",
       "      <td>0.62</td>\n",
       "      <td>4.57</td>\n",
       "      <td>13734</td>\n",
       "      <td>553</td>\n",
       "      <td>196</td>\n",
       "      <td>11864</td>\n",
       "      <td>30.20</td>\n",
       "    </tr>\n",
       "    <tr>\n",
       "      <th>DO348</th>\n",
       "      <td>14.8</td>\n",
       "      <td>0.37</td>\n",
       "      <td>3.43</td>\n",
       "      <td>12455</td>\n",
       "      <td>539</td>\n",
       "      <td>198</td>\n",
       "      <td>11228</td>\n",
       "      <td>32.70</td>\n",
       "    </tr>\n",
       "    <tr>\n",
       "      <th>DO349</th>\n",
       "      <td>13.9</td>\n",
       "      <td>0.26</td>\n",
       "      <td>5.57</td>\n",
       "      <td>12128</td>\n",
       "      <td>521</td>\n",
       "      <td>198</td>\n",
       "      <td>11612</td>\n",
       "      <td>33.40</td>\n",
       "    </tr>\n",
       "    <tr>\n",
       "      <th>DO350</th>\n",
       "      <td>13.6</td>\n",
       "      <td>0.14</td>\n",
       "      <td>5.71</td>\n",
       "      <td>11296</td>\n",
       "      <td>506</td>\n",
       "      <td>175</td>\n",
       "      <td>11788</td>\n",
       "      <td>29.30</td>\n",
       "    </tr>\n",
       "    <tr>\n",
       "      <th>DO351</th>\n",
       "      <td>13.8</td>\n",
       "      <td>0.33</td>\n",
       "      <td>6.73</td>\n",
       "      <td>11302</td>\n",
       "      <td>506</td>\n",
       "      <td>175</td>\n",
       "      <td>10552</td>\n",
       "      <td>32.80</td>\n",
       "    </tr>\n",
       "    <tr>\n",
       "      <th>DO352</th>\n",
       "      <td>14.1</td>\n",
       "      <td>0.26</td>\n",
       "      <td>9.00</td>\n",
       "      <td>7166</td>\n",
       "      <td>448</td>\n",
       "      <td>175</td>\n",
       "      <td>7260</td>\n",
       "      <td>18.70</td>\n",
       "    </tr>\n",
       "    <tr>\n",
       "      <th>DO353</th>\n",
       "      <td>12.2</td>\n",
       "      <td>0.19</td>\n",
       "      <td>4.42</td>\n",
       "      <td>10936</td>\n",
       "      <td>547</td>\n",
       "      <td>197</td>\n",
       "      <td>11576</td>\n",
       "      <td>19.90</td>\n",
       "    </tr>\n",
       "    <tr>\n",
       "      <th>DO354</th>\n",
       "      <td>12.6</td>\n",
       "      <td>0.25</td>\n",
       "      <td>5.29</td>\n",
       "      <td>10041</td>\n",
       "      <td>532</td>\n",
       "      <td>175</td>\n",
       "      <td>7924</td>\n",
       "      <td>22.30</td>\n",
       "    </tr>\n",
       "    <tr>\n",
       "      <th>DO355</th>\n",
       "      <td>12.8</td>\n",
       "      <td>0.29</td>\n",
       "      <td>6.70</td>\n",
       "      <td>10689</td>\n",
       "      <td>538</td>\n",
       "      <td>175</td>\n",
       "      <td>7980</td>\n",
       "      <td>28.60</td>\n",
       "    </tr>\n",
       "    <tr>\n",
       "      <th>DO356</th>\n",
       "      <td>14.1</td>\n",
       "      <td>0.18</td>\n",
       "      <td>5.56</td>\n",
       "      <td>13652</td>\n",
       "      <td>517</td>\n",
       "      <td>175</td>\n",
       "      <td>14572</td>\n",
       "      <td>47.40</td>\n",
       "    </tr>\n",
       "    <tr>\n",
       "      <th>DO357</th>\n",
       "      <td>12.7</td>\n",
       "      <td>0.45</td>\n",
       "      <td>7.38</td>\n",
       "      <td>9358</td>\n",
       "      <td>465</td>\n",
       "      <td>197</td>\n",
       "      <td>9768</td>\n",
       "      <td>23.10</td>\n",
       "    </tr>\n",
       "    <tr>\n",
       "      <th>DO358</th>\n",
       "      <td>13.1</td>\n",
       "      <td>0.45</td>\n",
       "      <td>4.90</td>\n",
       "      <td>12433</td>\n",
       "      <td>539</td>\n",
       "      <td>175</td>\n",
       "      <td>13380</td>\n",
       "      <td>31.90</td>\n",
       "    </tr>\n",
       "    <tr>\n",
       "      <th>DO359</th>\n",
       "      <td>13.9</td>\n",
       "      <td>0.33</td>\n",
       "      <td>5.28</td>\n",
       "      <td>10721</td>\n",
       "      <td>534</td>\n",
       "      <td>174</td>\n",
       "      <td>8368</td>\n",
       "      <td>28.80</td>\n",
       "    </tr>\n",
       "    <tr>\n",
       "      <th>DO360</th>\n",
       "      <td>12.9</td>\n",
       "      <td>0.19</td>\n",
       "      <td>5.16</td>\n",
       "      <td>14075</td>\n",
       "      <td>532</td>\n",
       "      <td>175</td>\n",
       "      <td>14124</td>\n",
       "      <td>48.70</td>\n",
       "    </tr>\n",
       "  </tbody>\n",
       "</table>\n",
       "<p>360 rows × 8 columns</p>\n",
       "</div>"
      ],
      "text/plain": [
       "       moisture  knot  treering   edyn  density  bheight  estat  bstrength\n",
       "DO1        13.3  0.04      3.00  14053      675      101  15452      58.40\n",
       "DO2        12.0  0.16      2.50  20611      474      100  17272      74.35\n",
       "DO3        12.8  0.14      3.88  18846      596       99  18456      49.82\n",
       "DO4        11.7  0.13      2.02  18587      582      100  18940      78.52\n",
       "DO5        12.0  0.16      2.13  19299      678      100  16864      79.31\n",
       "DO6        12.4  0.04      2.98  21695      595      100  19440      64.34\n",
       "DO7        12.5  0.32      3.67  16523      592      100  16152      58.19\n",
       "DO8        11.5  0.07      3.67  18333      634      101  18480      88.39\n",
       "DO9        13.1  0.19      2.44  18628      592      101  14604      33.02\n",
       "DO10       11.7  0.25      3.00  15683      540      101  16628      60.28\n",
       "DO11       13.2  0.20      3.75  18496      605      100  18476      91.86\n",
       "DO12       11.9  0.11      1.96  19792      646      101  19212      81.88\n",
       "DO13       12.3  0.03      2.40  20098      618      101  19608      91.02\n",
       "DO14       12.4  0.06      2.39  15600      624      101  17316      81.30\n",
       "DO15       13.1  0.03      2.23  18065      589      101  17428      67.08\n",
       "DO16       14.0  0.04      4.28  14883      610      100  14132      48.41\n",
       "DO17       12.6  0.07      2.81  11282      614      102  10132      55.54\n",
       "DO18       12.0  0.20      3.18  15731      620      100  16576      75.55\n",
       "DO19       12.1  0.05      2.02  18878      581       98  18832      79.67\n",
       "DO20       12.3  0.07      2.39  14199      642      101  14096      70.49\n",
       "DO21       12.5  0.15      2.41  19119      549      100  15640      80.37\n",
       "DO22       12.5  0.18      2.06  19467      670      100  17352      86.85\n",
       "DO23       13.1  0.14      2.77  17343      597      101  16488      60.01\n",
       "DO24       13.1  0.28      3.65  15069      564      100  14744      55.27\n",
       "DO25       12.2  0.31      3.06  14728      592       99  15984      74.97\n",
       "DO26       12.3  0.16      3.48  14707      543      100  13896      59.03\n",
       "DO27       12.6  0.06      1.64  17602      612      100  17228      77.99\n",
       "DO28       12.5  0.15      2.41  19119      549      100  15640      80.37\n",
       "DO29       12.6  0.13      2.18  18700      656      100  16672      65.20\n",
       "DO30       12.5  0.10      3.92  15469      787      100  12052      60.97\n",
       "...         ...   ...       ...    ...      ...      ...    ...        ...\n",
       "DO331      14.1  0.40      3.91   9556      491      192   9932      33.00\n",
       "DO332      14.2  0.21      4.54  11461      497      192  10684      36.30\n",
       "DO333      13.7  0.14      7.58  11228      512      191  10584      46.30\n",
       "DO334      13.5  0.52      3.93  12075      505      193  10128      33.00\n",
       "DO335      13.6  0.43      5.82   9469      457      192  10396      29.40\n",
       "DO336      11.5  0.15      5.06  12456      589      173  12752      40.60\n",
       "DO337      12.7  0.27      6.43   9706      467      197   8316      36.70\n",
       "DO338      13.9  0.33      5.28  10721      534      174   8368      28.80\n",
       "DO339      13.6  0.18      5.88   9449      457      197   9484      26.80\n",
       "DO340      14.1  0.22      6.17  12908      593      197  15136      35.60\n",
       "DO341      13.8  0.21      2.90  12572      589      192  14428      55.40\n",
       "DO342      14.5  0.34      5.72  11753      491      196  10488      37.50\n",
       "DO343      14.9  0.32      6.61  12879      592      197  11008      26.20\n",
       "DO344      13.7  0.24      8.20   9296      507      197   8408      25.00\n",
       "DO345      13.4  0.25      7.13   9576      489      197   8116      17.10\n",
       "DO346      14.4  0.19      3.39  13413      580      196  13012      50.90\n",
       "DO347      13.8  0.62      4.57  13734      553      196  11864      30.20\n",
       "DO348      14.8  0.37      3.43  12455      539      198  11228      32.70\n",
       "DO349      13.9  0.26      5.57  12128      521      198  11612      33.40\n",
       "DO350      13.6  0.14      5.71  11296      506      175  11788      29.30\n",
       "DO351      13.8  0.33      6.73  11302      506      175  10552      32.80\n",
       "DO352      14.1  0.26      9.00   7166      448      175   7260      18.70\n",
       "DO353      12.2  0.19      4.42  10936      547      197  11576      19.90\n",
       "DO354      12.6  0.25      5.29  10041      532      175   7924      22.30\n",
       "DO355      12.8  0.29      6.70  10689      538      175   7980      28.60\n",
       "DO356      14.1  0.18      5.56  13652      517      175  14572      47.40\n",
       "DO357      12.7  0.45      7.38   9358      465      197   9768      23.10\n",
       "DO358      13.1  0.45      4.90  12433      539      175  13380      31.90\n",
       "DO359      13.9  0.33      5.28  10721      534      174   8368      28.80\n",
       "DO360      12.9  0.19      5.16  14075      532      175  14124      48.70\n",
       "\n",
       "[360 rows x 8 columns]"
      ]
     },
     "metadata": {},
     "output_type": "display_data"
    }
   ],
   "source": [
    "display(data)\n",
    "\n"
   ]
  },
  {
   "cell_type": "markdown",
   "metadata": {},
   "source": [
    "Primary object types:\n",
    "\n",
    "- **DataFrame:** rows and columns (like a spreadsheet)\n",
    "- **Series:** a single column"
   ]
  },
  {
   "cell_type": "code",
   "execution_count": 164,
   "metadata": {
    "collapsed": false
   },
   "outputs": [
    {
     "data": {
      "text/html": [
       "<div>\n",
       "<table border=\"1\" class=\"dataframe\">\n",
       "  <thead>\n",
       "    <tr style=\"text-align: right;\">\n",
       "      <th></th>\n",
       "      <th>moisture</th>\n",
       "      <th>knot</th>\n",
       "      <th>treering</th>\n",
       "      <th>edyn</th>\n",
       "      <th>density</th>\n",
       "      <th>bheight</th>\n",
       "      <th>estat</th>\n",
       "      <th>bstrength</th>\n",
       "    </tr>\n",
       "  </thead>\n",
       "  <tbody>\n",
       "    <tr>\n",
       "      <th>DO356</th>\n",
       "      <td>14.1</td>\n",
       "      <td>0.18</td>\n",
       "      <td>5.56</td>\n",
       "      <td>13652</td>\n",
       "      <td>517</td>\n",
       "      <td>175</td>\n",
       "      <td>14572</td>\n",
       "      <td>47.4</td>\n",
       "    </tr>\n",
       "    <tr>\n",
       "      <th>DO357</th>\n",
       "      <td>12.7</td>\n",
       "      <td>0.45</td>\n",
       "      <td>7.38</td>\n",
       "      <td>9358</td>\n",
       "      <td>465</td>\n",
       "      <td>197</td>\n",
       "      <td>9768</td>\n",
       "      <td>23.1</td>\n",
       "    </tr>\n",
       "    <tr>\n",
       "      <th>DO358</th>\n",
       "      <td>13.1</td>\n",
       "      <td>0.45</td>\n",
       "      <td>4.90</td>\n",
       "      <td>12433</td>\n",
       "      <td>539</td>\n",
       "      <td>175</td>\n",
       "      <td>13380</td>\n",
       "      <td>31.9</td>\n",
       "    </tr>\n",
       "    <tr>\n",
       "      <th>DO359</th>\n",
       "      <td>13.9</td>\n",
       "      <td>0.33</td>\n",
       "      <td>5.28</td>\n",
       "      <td>10721</td>\n",
       "      <td>534</td>\n",
       "      <td>174</td>\n",
       "      <td>8368</td>\n",
       "      <td>28.8</td>\n",
       "    </tr>\n",
       "    <tr>\n",
       "      <th>DO360</th>\n",
       "      <td>12.9</td>\n",
       "      <td>0.19</td>\n",
       "      <td>5.16</td>\n",
       "      <td>14075</td>\n",
       "      <td>532</td>\n",
       "      <td>175</td>\n",
       "      <td>14124</td>\n",
       "      <td>48.7</td>\n",
       "    </tr>\n",
       "  </tbody>\n",
       "</table>\n",
       "</div>"
      ],
      "text/plain": [
       "       moisture  knot  treering   edyn  density  bheight  estat  bstrength\n",
       "DO356      14.1  0.18      5.56  13652      517      175  14572       47.4\n",
       "DO357      12.7  0.45      7.38   9358      465      197   9768       23.1\n",
       "DO358      13.1  0.45      4.90  12433      539      175  13380       31.9\n",
       "DO359      13.9  0.33      5.28  10721      534      174   8368       28.8\n",
       "DO360      12.9  0.19      5.16  14075      532      175  14124       48.7"
      ]
     },
     "execution_count": 164,
     "metadata": {},
     "output_type": "execute_result"
    }
   ],
   "source": [
    "# display the last 5 rows\n",
    "data.tail()"
   ]
  },
  {
   "cell_type": "code",
   "execution_count": 165,
   "metadata": {
    "collapsed": false
   },
   "outputs": [
    {
     "data": {
      "text/plain": [
       "(360, 8)"
      ]
     },
     "execution_count": 165,
     "metadata": {},
     "output_type": "execute_result"
    }
   ],
   "source": [
    "# check the shape of the DataFrame (rows, columns)\n",
    "data.shape"
   ]
  },
  {
   "cell_type": "markdown",
   "metadata": {},
   "source": [
    "What are the features?\n",
    "- **TV:** advertising dollars spent on TV for a single product in a given market (in thousands of dollars)\n",
    "- **Radio:** advertising dollars spent on Radio\n",
    "- **Newspaper:** advertising dollars spent on Newspaper\n",
    "\n",
    "What is the response?\n",
    "- **Sales:** sales of a single product in a given market (in thousands of items)\n",
    "\n",
    "What else do we know?\n",
    "- Because the response variable is continuous, this is a **regression** problem.\n",
    "- There are 200 **observations** (represented by the rows), and each observation is a single market."
   ]
  },
  {
   "cell_type": "markdown",
   "metadata": {},
   "source": [
    "## Visualizing data using seaborn\n",
    "\n",
    "**Seaborn:** Python library for statistical data visualization built on top of Matplotlib\n",
    "\n",
    "- Anaconda users: run **`conda install seaborn`** from the command line\n",
    "- Other users: [installation instructions](http://stanford.edu/~mwaskom/software/seaborn/installing.html)"
   ]
  },
  {
   "cell_type": "code",
   "execution_count": 166,
   "metadata": {
    "collapsed": false
   },
   "outputs": [],
   "source": [
    "# conventional way to import seaborn\n",
    "#import seaborn as sns\n",
    "\n",
    "# allow plots to appear within the notebook\n",
    "%matplotlib inline"
   ]
  },
  {
   "cell_type": "code",
   "execution_count": 167,
   "metadata": {
    "collapsed": false
   },
   "outputs": [],
   "source": [
    "# visualize the relationship between the features and the response using scatterplots\n",
    "#sns.pairplot(data, x_vars=['TV','Radio','Newspaper'], y_vars='Sales', size=7, aspect=0.7, kind='reg')"
   ]
  },
  {
   "cell_type": "code",
   "execution_count": 168,
   "metadata": {
    "collapsed": false
   },
   "outputs": [
    {
     "name": "stdout",
     "output_type": "stream",
     "text": [
      "Coefficients: \n",
      " [[-1.2782344]]\n",
      "Mean squared error: 283.39\n",
      "Variance score: 0.02\n"
     ]
    },
    {
     "name": "stderr",
     "output_type": "stream",
     "text": [
      "/home/centos/anaconda3/lib/python3.5/site-packages/matplotlib/axes/_axes.py:531: UserWarning: No labelled objects found. Use label='...' kwarg on individual plots.\n",
      "  warnings.warn(\"No labelled objects found. \"\n"
     ]
    },
    {
     "data": {
      "image/png": "[encoded data removed]",
      "text/plain": [
       "<matplotlib.figure.Figure at 0x7fb47cb04160>"
      ]
     },
     "metadata": {},
     "output_type": "display_data"
    }
   ],
   "source": [
    "# equivalent command to do this in one line\n",
    "X = data[['moisture']]\n",
    "\n",
    "# print the first 5 rows\n",
    "X.head()\n",
    "\n",
    "Y = data[['bstrength']]\n",
    "Y.head()\n",
    "\n",
    "# Use only one feature\n",
    "#data_X = data.data[:, np.newaxis, 2]\n",
    "#diabetes_Y = diabetes.target[:, np.newaxis, 2]\n",
    "\n",
    "# Split the data into training/testing sets\n",
    "#data_X_train = data_X[:-20]\n",
    "#data_X_test = data_X[-20:]\n",
    "\n",
    "# Split the targets into training/testing sets\n",
    "#diabetes_y_train = diabetes.target[:-20]\n",
    "#diabetes_y_test = diabetes.target[-20:]\n",
    "\n",
    "# Create linear regression object\n",
    "regr = linear_model.LinearRegression()\n",
    "\n",
    "# Train the model using the training sets\n",
    "regr.fit(X, Y)\n",
    "\n",
    "# The coefficients\n",
    "print('Coefficients: \\n', regr.coef_)\n",
    "\n",
    "# The mean squared error\n",
    "print(\"Mean squared error: %.2f\"\n",
    "      % np.mean((regr.predict(X) - Y) ** 2))\n",
    "\n",
    "# Explained variance score: 1 is perfect prediction\n",
    "print('Variance score: %.2f' % regr.score(X, Y))\n",
    "\n",
    "# Plot outputs\n",
    "plt.scatter(X, Y,  color='black')\n",
    "\n",
    "plt.plot(X, regr.predict(X), color='blue',\n",
    "         linewidth=3)\n",
    "\n",
    "\n",
    "\n",
    "\n",
    "\n",
    "\n",
    "plt.xlabel('moisture')\n",
    "plt.ylabel('bstrength')\n",
    "plt.title('Regression')\n",
    "plt.xlim([0,20])\n",
    "plt.ylim([0, 100])\n",
    "plt.legend()\n",
    "\n",
    "\n",
    "\n",
    "\n",
    "\n",
    "plt.show()"
   ]
  },
  {
   "cell_type": "markdown",
   "metadata": {},
   "source": [
    "## Linear regression\n",
    "\n",
    "**Pros:** fast, no tuning required, highly interpretable, well-understood\n",
    "\n",
    "**Cons:** unlikely to produce the best predictive accuracy (presumes a linear relationship between the features and response)"
   ]
  },
  {
   "cell_type": "markdown",
   "metadata": {},
   "source": [
    "### Form of linear regression\n",
    "\n",
    "$y = \\beta_0 + \\beta_1x_1 + \\beta_2x_2 + ... + \\beta_nx_n$\n",
    "\n",
    "- $y$ is the response\n",
    "- $\\beta_0$ is the intercept\n",
    "- $\\beta_1$ is the coefficient for $x_1$ (the first feature)\n",
    "- $\\beta_n$ is the coefficient for $x_n$ (the nth feature)\n",
    "\n",
    "In this case:\n",
    "\n",
    "$y = \\beta_0 + \\beta_1 \\times TV + \\beta_2 \\times Radio + \\beta_3 \\times Newspaper$\n",
    "\n",
    "The $\\beta$ values are called the **model coefficients**. These values are \"learned\" during the model fitting step using the \"least squares\" criterion. Then, the fitted model can be used to make predictions!"
   ]
  },
  {
   "cell_type": "markdown",
   "metadata": {},
   "source": [
    "## Preparing X and y using pandas\n",
    "\n",
    "- scikit-learn expects X (feature matrix) and y (response vector) to be NumPy arrays.\n",
    "- However, pandas is built on top of NumPy.\n",
    "- Thus, X can be a pandas DataFrame and y can be a pandas Series!"
   ]
  },
  {
   "cell_type": "code",
   "execution_count": 169,
   "metadata": {
    "collapsed": false
   },
   "outputs": [
    {
     "data": {
      "text/html": [
       "<div>\n",
       "<table border=\"1\" class=\"dataframe\">\n",
       "  <thead>\n",
       "    <tr style=\"text-align: right;\">\n",
       "      <th></th>\n",
       "      <th>moisture</th>\n",
       "      <th>knot</th>\n",
       "      <th>treering</th>\n",
       "      <th>density</th>\n",
       "      <th>bheight</th>\n",
       "      <th>estat</th>\n",
       "    </tr>\n",
       "  </thead>\n",
       "  <tbody>\n",
       "    <tr>\n",
       "      <th>DO1</th>\n",
       "      <td>13.3</td>\n",
       "      <td>0.04</td>\n",
       "      <td>3.00</td>\n",
       "      <td>675</td>\n",
       "      <td>101</td>\n",
       "      <td>15452</td>\n",
       "    </tr>\n",
       "    <tr>\n",
       "      <th>DO2</th>\n",
       "      <td>12.0</td>\n",
       "      <td>0.16</td>\n",
       "      <td>2.50</td>\n",
       "      <td>474</td>\n",
       "      <td>100</td>\n",
       "      <td>17272</td>\n",
       "    </tr>\n",
       "    <tr>\n",
       "      <th>DO3</th>\n",
       "      <td>12.8</td>\n",
       "      <td>0.14</td>\n",
       "      <td>3.88</td>\n",
       "      <td>596</td>\n",
       "      <td>99</td>\n",
       "      <td>18456</td>\n",
       "    </tr>\n",
       "    <tr>\n",
       "      <th>DO4</th>\n",
       "      <td>11.7</td>\n",
       "      <td>0.13</td>\n",
       "      <td>2.02</td>\n",
       "      <td>582</td>\n",
       "      <td>100</td>\n",
       "      <td>18940</td>\n",
       "    </tr>\n",
       "    <tr>\n",
       "      <th>DO5</th>\n",
       "      <td>12.0</td>\n",
       "      <td>0.16</td>\n",
       "      <td>2.13</td>\n",
       "      <td>678</td>\n",
       "      <td>100</td>\n",
       "      <td>16864</td>\n",
       "    </tr>\n",
       "  </tbody>\n",
       "</table>\n",
       "</div>"
      ],
      "text/plain": [
       "     moisture  knot  treering  density  bheight  estat\n",
       "DO1      13.3  0.04      3.00      675      101  15452\n",
       "DO2      12.0  0.16      2.50      474      100  17272\n",
       "DO3      12.8  0.14      3.88      596       99  18456\n",
       "DO4      11.7  0.13      2.02      582      100  18940\n",
       "DO5      12.0  0.16      2.13      678      100  16864"
      ]
     },
     "execution_count": 169,
     "metadata": {},
     "output_type": "execute_result"
    }
   ],
   "source": [
    "# create a Python list of feature names\n",
    "feature_cols = ['moisture', 'knot', 'treering', 'density', 'bheight', 'estat', 'bstrength']\n",
    "\n",
    "# use the list to select a subset of the original DataFrame\n",
    "X = data[feature_cols]\n",
    "\n",
    "# equivalent command to do this in one line\n",
    "X = data[['moisture', 'knot', 'treering', 'density', 'bheight', 'estat']]\n",
    "\n",
    "# print the first 5 rows\n",
    "X.head()"
   ]
  },
  {
   "cell_type": "code",
   "execution_count": 170,
   "metadata": {
    "collapsed": false
   },
   "outputs": [
    {
     "name": "stdout",
     "output_type": "stream",
     "text": [
      "<class 'pandas.core.frame.DataFrame'>\n",
      "(360, 6)\n"
     ]
    }
   ],
   "source": [
    "# check the type and shape of X\n",
    "print(type(X))\n",
    "print(X.shape)"
   ]
  },
  {
   "cell_type": "code",
   "execution_count": 171,
   "metadata": {
    "collapsed": false
   },
   "outputs": [
    {
     "data": {
      "text/plain": [
       "DO1    58.40\n",
       "DO2    74.35\n",
       "DO3    49.82\n",
       "DO4    78.52\n",
       "DO5    79.31\n",
       "Name: bstrength, dtype: float64"
      ]
     },
     "execution_count": 171,
     "metadata": {},
     "output_type": "execute_result"
    }
   ],
   "source": [
    "# select a Series from the DataFrame\n",
    "y = data['bstrength']\n",
    "\n",
    "# equivalent command that works if there are no spaces in the column name\n",
    "y = data.bstrength\n",
    "\n",
    "# print the first 5 values\n",
    "y.head()"
   ]
  },
  {
   "cell_type": "code",
   "execution_count": 172,
   "metadata": {
    "collapsed": false
   },
   "outputs": [
    {
     "name": "stdout",
     "output_type": "stream",
     "text": [
      "<class 'pandas.core.series.Series'>\n",
      "(360,)\n"
     ]
    }
   ],
   "source": [
    "# check the type and shape of y\n",
    "print(type(y))\n",
    "print(y.shape)"
   ]
  },
  {
   "cell_type": "markdown",
   "metadata": {},
   "source": [
    "## Splitting X and y into training and testing sets"
   ]
  },
  {
   "cell_type": "code",
   "execution_count": 173,
   "metadata": {
    "collapsed": false
   },
   "outputs": [],
   "source": [
    "from sklearn.cross_validation import train_test_split\n",
    "X_train, X_test, y_train, y_test = train_test_split(X, y, random_state=1)"
   ]
  },
  {
   "cell_type": "code",
   "execution_count": 174,
   "metadata": {
    "collapsed": false
   },
   "outputs": [
    {
     "name": "stdout",
     "output_type": "stream",
     "text": [
      "(270, 6)\n",
      "(270,)\n",
      "(90, 6)\n",
      "(90,)\n"
     ]
    }
   ],
   "source": [
    "# default split is 75% for training and 25% for testing\n",
    "print(X_train.shape)\n",
    "print(y_train.shape)\n",
    "print(X_test.shape)\n",
    "print(y_test.shape)"
   ]
  },
  {
   "cell_type": "markdown",
   "metadata": {},
   "source": [
    "## Linear regression in scikit-learn"
   ]
  },
  {
   "cell_type": "code",
   "execution_count": 175,
   "metadata": {
    "collapsed": false
   },
   "outputs": [
    {
     "data": {
      "text/plain": [
       "LinearRegression(copy_X=True, fit_intercept=True, n_jobs=1, normalize=False)"
      ]
     },
     "execution_count": 175,
     "metadata": {},
     "output_type": "execute_result"
    }
   ],
   "source": [
    "# import model\n",
    "from sklearn.linear_model import LinearRegression\n",
    "\n",
    "# instantiate\n",
    "linreg = LinearRegression()\n",
    "\n",
    "# fit the model to the training data (learn the coefficients)\n",
    "linreg.fit(X_train, y_train)"
   ]
  },
  {
   "cell_type": "markdown",
   "metadata": {},
   "source": [
    "### Interpreting model coefficients"
   ]
  },
  {
   "cell_type": "code",
   "execution_count": 176,
   "metadata": {
    "collapsed": false
   },
   "outputs": [
    {
     "name": "stdout",
     "output_type": "stream",
     "text": [
      "32.3595221704\n",
      "[ -4.17091677e-02  -2.77334039e+01  -8.52736495e-01   1.81922698e-02\n",
      "  -1.37385633e-01   2.81114139e-03]\n"
     ]
    }
   ],
   "source": [
    "# print the intercept and coefficients\n",
    "print(linreg.intercept_)\n",
    "print(linreg.coef_)"
   ]
  },
  {
   "cell_type": "code",
   "execution_count": 177,
   "metadata": {
    "collapsed": false
   },
   "outputs": [
    {
     "data": {
      "text/plain": [
       "[('moisture', -0.0417091677047772),\n",
       " ('knot', -27.733403941309465),\n",
       " ('treering', -0.85273649507661431),\n",
       " ('density', 0.018192269805966887),\n",
       " ('bheight', -0.13738563297861894),\n",
       " ('estat', 0.0028111413903531002)]"
      ]
     },
     "execution_count": 177,
     "metadata": {},
     "output_type": "execute_result"
    }
   ],
   "source": [
    "# pair the feature names with the coefficients\n",
    "list(zip(feature_cols, linreg.coef_))"
   ]
  },
  {
   "cell_type": "markdown",
   "metadata": {},
   "source": [
    "$$y = 2.88 + 0.0466 \\times TV + 0.179 \\times Radio + 0.00345 \\times Newspaper$$\n",
    "\n",
    "How do we interpret the **TV coefficient** (0.0466)?\n",
    "\n",
    "- For a given amount of Radio and Newspaper ad spending, **a \"unit\" increase in TV ad spending** is associated with a **0.0466 \"unit\" increase in Sales**.\n",
    "- Or more clearly: For a given amount of Radio and Newspaper ad spending, **an additional $1,000 spent on TV ads** is associated with an **increase in sales of 46.6 items**.\n",
    "\n",
    "Important notes:\n",
    "\n",
    "- This is a statement of **association**, not **causation**.\n",
    "- If an increase in TV ad spending was associated with a **decrease** in sales, $\\beta_1$ would be **negative**."
   ]
  },
  {
   "cell_type": "markdown",
   "metadata": {},
   "source": [
    "### Making predictions"
   ]
  },
  {
   "cell_type": "code",
   "execution_count": 178,
   "metadata": {
    "collapsed": false
   },
   "outputs": [],
   "source": [
    "# make predictions on the testing set\n",
    "y_pred = linreg.predict(X_test)"
   ]
  },
  {
   "cell_type": "markdown",
   "metadata": {},
   "source": [
    "We need an **evaluation metric** in order to compare our predictions with the actual values!"
   ]
  },
  {
   "cell_type": "markdown",
   "metadata": {},
   "source": [
    "## Model evaluation metrics for regression\n",
    "\n",
    "Evaluation metrics for classification problems, such as **accuracy**, are not useful for regression problems. Instead, we need evaluation metrics designed for comparing continuous values.\n",
    "\n",
    "Let's create some example numeric predictions, and calculate **three common evaluation metrics** for regression problems:"
   ]
  },
  {
   "cell_type": "code",
   "execution_count": 179,
   "metadata": {
    "collapsed": false
   },
   "outputs": [],
   "source": [
    "# define true and predicted response values\n",
    "true = [100, 50, 30, 20]\n",
    "pred = [90, 50, 50, 30]"
   ]
  },
  {
   "cell_type": "markdown",
   "metadata": {},
   "source": [
    "**Mean Absolute Error** (MAE) is the mean of the absolute value of the errors:\n",
    "\n",
    "$$\\frac 1n\\sum_{i=1}^n|y_i-\\hat{y}_i|$$"
   ]
  },
  {
   "cell_type": "code",
   "execution_count": 180,
   "metadata": {
    "collapsed": false
   },
   "outputs": [
    {
     "name": "stdout",
     "output_type": "stream",
     "text": [
      "10.0\n",
      "10.0\n"
     ]
    }
   ],
   "source": [
    "# calculate MAE by hand\n",
    "print((10 + 0 + 20 + 10)/4.)\n",
    "\n",
    "# calculate MAE using scikit-learn\n",
    "#from sklearn import metrics\n",
    "print(metrics.mean_absolute_error(true, pred))"
   ]
  },
  {
   "cell_type": "markdown",
   "metadata": {},
   "source": [
    "**Mean Squared Error** (MSE) is the mean of the squared errors:\n",
    "\n",
    "$$\\frac 1n\\sum_{i=1}^n(y_i-\\hat{y}_i)^2$$"
   ]
  },
  {
   "cell_type": "code",
   "execution_count": 181,
   "metadata": {
    "collapsed": false
   },
   "outputs": [
    {
     "name": "stdout",
     "output_type": "stream",
     "text": [
      "150.0\n",
      "150.0\n"
     ]
    }
   ],
   "source": [
    "# calculate MSE by hand\n",
    "print((10**2 + 0**2 + 20**2 + 10**2)/4.)\n",
    "\n",
    "# calculate MSE using scikit-learn\n",
    "print(metrics.mean_squared_error(true, pred))"
   ]
  },
  {
   "cell_type": "markdown",
   "metadata": {},
   "source": [
    "**Root Mean Squared Error** (RMSE) is the square root of the mean of the squared errors:\n",
    "\n",
    "$$\\sqrt{\\frac 1n\\sum_{i=1}^n(y_i-\\hat{y}_i)^2}$$"
   ]
  },
  {
   "cell_type": "code",
   "execution_count": 182,
   "metadata": {
    "collapsed": false
   },
   "outputs": [
    {
     "name": "stdout",
     "output_type": "stream",
     "text": [
      "12.2474487139\n",
      "12.2474487139\n"
     ]
    }
   ],
   "source": [
    "# calculate RMSE by hand\n",
    "#import numpy as np\n",
    "print(np.sqrt((10**2 + 0**2 + 20**2 + 10**2)/4.))\n",
    "\n",
    "# calculate RMSE using scikit-learn\n",
    "print(np.sqrt(metrics.mean_squared_error(true, pred)))"
   ]
  },
  {
   "cell_type": "markdown",
   "metadata": {},
   "source": [
    "Comparing these metrics:\n",
    "\n",
    "- **MAE** is the easiest to understand, because it's the average error.\n",
    "- **MSE** is more popular than MAE, because MSE \"punishes\" larger errors.\n",
    "- **RMSE** is even more popular than MSE, because RMSE is interpretable in the \"y\" units."
   ]
  },
  {
   "cell_type": "markdown",
   "metadata": {},
   "source": [
    "### Computing the RMSE for our Sales predictions"
   ]
  },
  {
   "cell_type": "code",
   "execution_count": 183,
   "metadata": {
    "collapsed": false
   },
   "outputs": [
    {
     "name": "stdout",
     "output_type": "stream",
     "text": [
      "9.87060713143\n"
     ]
    }
   ],
   "source": [
    "print(np.sqrt(metrics.mean_squared_error(y_test, y_pred)))"
   ]
  },
  {
   "cell_type": "markdown",
   "metadata": {},
   "source": [
    "## Feature selection\n",
    "\n",
    "Does **Newspaper** \"belong\" in our model? In other words, does it improve the quality of our predictions?\n",
    "\n",
    "Let's **remove it** from the model and check the RMSE!"
   ]
  },
  {
   "cell_type": "code",
   "execution_count": 184,
   "metadata": {
    "collapsed": false
   },
   "outputs": [
    {
     "name": "stdout",
     "output_type": "stream",
     "text": [
      "17.2566337619\n"
     ]
    }
   ],
   "source": [
    "# create a Python list of feature names\n",
    "feature_cols = ['moisture', 'bheight']\n",
    "\n",
    "# use the list to select a subset of the original DataFrame\n",
    "X = data[feature_cols]\n",
    "\n",
    "# select a Series from the DataFrame\n",
    "y = data.bstrength\n",
    "\n",
    "# split into training and testing sets\n",
    "X_train, X_test, y_train, y_test = train_test_split(X, y, random_state=1)\n",
    "\n",
    "# fit the model to the training data (learn the coefficients)\n",
    "linreg.fit(X_train, y_train)\n",
    "\n",
    "# make predictions on the testing set\n",
    "y_pred = linreg.predict(X_test)\n",
    "\n",
    "# compute the RMSE of our predictions\n",
    "print(np.sqrt(metrics.mean_squared_error(y_test, y_pred)))"
   ]
  },
  {
   "cell_type": "markdown",
   "metadata": {},
   "source": [
    "The RMSE **decreased** when we removed Newspaper from the model. (Error is something we want to minimize, so **a lower number for RMSE is better**.) Thus, it is unlikely that this feature is useful for predicting Sales, and should be removed from the model."
   ]
  },
  {
   "cell_type": "markdown",
   "metadata": {},
   "source": [
    "## Resources\n",
    "\n",
    "Linear regression:\n",
    "\n",
    "- [Longer notebook on linear regression](https://github.com/justmarkham/DAT5/blob/master/notebooks/09_linear_regression.ipynb) by me\n",
    "- Chapter 3 of [An Introduction to Statistical Learning](http://www-bcf.usc.edu/~gareth/ISL/) and [related videos](http://www.dataschool.io/15-hours-of-expert-machine-learning-videos/) by Hastie and Tibshirani (Stanford)\n",
    "- [Quick reference guide to applying and interpreting linear regression](http://www.dataschool.io/applying-and-interpreting-linear-regression/) by me\n",
    "- [Introduction to linear regression](http://people.duke.edu/~rnau/regintro.htm) by Robert Nau (Duke)\n",
    "\n",
    "Pandas:\n",
    "\n",
    "- [Three-part pandas tutorial](http://www.gregreda.com/2013/10/26/intro-to-pandas-data-structures/) by Greg Reda\n",
    "- [read_csv](http://pandas.pydata.org/pandas-docs/stable/generated/pandas.read_csv.html) and [read_table](http://pandas.pydata.org/pandas-docs/stable/generated/pandas.read_table.html) documentation"
   ]
  }
 ],
 "metadata": {
  "kernelspec": {
   "display_name": "Python [default]",
   "language": "python",
   "name": "python3"
  },
  "language_info": {
   "codemirror_mode": {
    "name": "ipython",
    "version": 3
   },
   "file_extension": ".py",
   "mimetype": "text/x-python",
   "name": "python",
   "nbconvert_exporter": "python",
   "pygments_lexer": "ipython3",
   "version": "3.5.2"
  }
 },
 "nbformat": 4,
 "nbformat_minor": 0
}
