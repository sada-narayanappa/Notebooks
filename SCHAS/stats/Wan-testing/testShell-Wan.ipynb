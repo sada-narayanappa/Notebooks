{
 "cells": [
  {
   "cell_type": "code",
   "execution_count": 2,
   "metadata": {
    "collapsed": false
   },
   "outputs": [
    {
     "name": "stdout",
     "output_type": "stream",
     "text": [
      "/opt/SCHAS/git/Notebooks/SCHAS/stats\r\n"
     ]
    }
   ],
   "source": [
    "!pwd"
   ]
  },
  {
   "cell_type": "code",
   "execution_count": 42,
   "metadata": {
    "collapsed": false
   },
   "outputs": [
    {
     "name": "stdout",
     "output_type": "stream",
     "text": [
      "  % Total    % Received % Xferd  Average Speed   Time    Time     Time  Current\n",
      "                                 Dload  Upload   Total   Spent    Left  Speed\n",
      "100   258  100   258    0     0   1066      0 --:--:-- --:--:-- --:--:--  1075\n"
     ]
    }
   ],
   "source": [
    "!(curl https://api.github.com/repos/d3/d3/stats/commit_activity) >> a.txt"
   ]
  },
  {
   "cell_type": "code",
   "execution_count": 24,
   "metadata": {
    "collapsed": false
   },
   "outputs": [
    {
     "name": "stdout",
     "output_type": "stream",
     "text": [
      "  % Total    % Received % Xferd  Average Speed   Time    Time     Time  Current\n",
      "                                 Dload  Upload   Total   Spent    Left  Speed\n",
      "100  6815  100  6815    0     0  50776      0 --:--:-- --:--:-- --:--:-- 51628\n",
      "  % Total    % Received % Xferd  Average Speed   Time    Time     Time  Current\n",
      "                                 Dload  Upload   Total   Spent    Left  Speed\n",
      "100  6818  100  6818    0     0  25880      0 --:--:-- --:--:-- --:--:-- 26022\n",
      "  % Total    % Received % Xferd  Average Speed   Time    Time     Time  Current\n",
      "                                 Dload  Upload   Total   Spent    Left  Speed\n",
      "100  6815  100  6815    0     0  53521      0 --:--:-- --:--:-- --:--:-- 54087\n"
     ]
    }
   ],
   "source": [
    "!(curl https://api.github.com/repos/d3/d3/stats/commit_activity) >> a.txt\n",
    "!(curl https://api.github.com/repos/d3/d3-hierarchy/stats/commit_activity) >> a.txt\n",
    "!(curl https://api.github.com/repos/d3/d3-time-format/stats/commit_activity) >> a.txt"
   ]
  },
  {
   "cell_type": "code",
   "execution_count": 43,
   "metadata": {
    "collapsed": false
   },
   "outputs": [
    {
     "name": "stdout",
     "output_type": "stream",
     "text": [
      "{\r\n",
      "  \"message\": \"API rate limit exceeded for 35.160.219.141. (But here's the good news: Authenticated requests get a higher rate limit. Check out the documentation for more details.)\",\r\n",
      "  \"documentation_url\": \"https://developer.github.com/v3/#rate-limiting\"\r\n",
      "}\r\n"
     ]
    }
   ],
   "source": [
    "!(curl https://api.github.com/orgs/d3/repos) "
   ]
  },
  {
   "cell_type": "markdown",
   "metadata": {},
   "source": [
    "# get json files for each repository \n",
    "(output files: dataxx.txt)"
   ]
  },
  {
   "cell_type": "code",
   "execution_count": 1,
   "metadata": {
    "collapsed": false
   },
   "outputs": [
    {
     "name": "stdout",
     "output_type": "stream",
     "text": [
      "d3-hierarchy\n",
      "d3-time-format\n",
      "d3-delaunay\n",
      "d3-scale-chromatic\n",
      "d3-transition\n",
      "d3-color\n",
      "d3-interpolate\n",
      "d3-format\n",
      "d3-collection\n",
      "d3\n",
      "d3-geo-polygon\n",
      "d3-fetch\n",
      "d3.github.com\n",
      "d3-geo-projection\n",
      "d3-require\n",
      "d3-geo\n",
      "d3-selection\n",
      "d3-contour\n",
      "d3-cam16\n",
      "d3-shape\n",
      "d3-scale\n",
      "d3-zoom\n",
      "d3-drag\n",
      "d3-force\n",
      "d3-request\n",
      "d3-array\n",
      "d3-plugins\n",
      "d3-sankey\n",
      "d3-timer\n",
      "d3-time\n",
      "d3-3.x-api-reference\n",
      "d3-brush\n",
      "d3-tile\n",
      "d3-dsv\n",
      "d3-scripts\n",
      "d3-axis\n",
      "d3-random\n",
      "d3-queue\n",
      "d3-selection-multi\n",
      "d3-hsv\n",
      "d3-chord\n",
      "d3-hexbin\n",
      "d3-voronoi\n",
      "d3-dispatch\n",
      "d3-ease\n",
      "d3-path\n",
      "d3-polygon\n",
      "d3-quadtree\n",
      "d3-hcg\n",
      "d3-hull\n",
      "d3-logo\n",
      "d3-bundler\n"
     ]
    }
   ],
   "source": [
    "import requests\n",
    "import json\n",
    "\n",
    "repos = ['d3-hierarchy', 'd3-time-format', 'd3-delaunay', 'd3-scale-chromatic', 'd3-transition',\n",
    "         'd3-color', 'd3-interpolate', 'd3-format', 'd3-collection', 'd3',\n",
    "         'd3-geo-polygon', 'd3-fetch', 'd3.github.com', 'd3-geo-projection', 'd3-require',\n",
    "         'd3-geo', 'd3-selection', 'd3-contour', 'd3-cam16', 'd3-shape',\n",
    "         'd3-scale', 'd3-zoom', 'd3-drag', 'd3-force', 'd3-request',\n",
    "         'd3-array', 'd3-plugins', 'd3-sankey', 'd3-timer', 'd3-time',\n",
    "         'd3-3.x-api-reference', 'd3-brush', 'd3-tile', 'd3-dsv', 'd3-scripts',\n",
    "         'd3-axis', 'd3-random', 'd3-queue', 'd3-selection-multi', 'd3-hsv',\n",
    "         'd3-chord', 'd3-hexbin', 'd3-voronoi', 'd3-dispatch', 'd3-ease',\n",
    "         'd3-path', 'd3-polygon', 'd3-quadtree', 'd3-hcg', 'd3-hull', \n",
    "         'd3-logo', 'd3-bundler'\n",
    "        ]\n",
    "\n",
    "x = 0\n",
    "for repo in repos:\n",
    "    x = x + 1\n",
    "    print(repo)\n",
    "    url = 'https://api.github.com/repos/d3/' + repo + '/stats/commit_activity'\n",
    "    r = requests.get(url)\n",
    "    data = r.json() \n",
    "    #print(data)\n",
    "    ofile = 'data' + str(x) + '.txt'\n",
    "    with open(ofile, 'a') as outfile:\n",
    "        json.dump(data, outfile)"
   ]
  },
  {
   "cell_type": "markdown",
   "metadata": {},
   "source": [
    "# week time adjust \n",
    "if 'week' == 1492297200, then it is updatd by adding 3600. \n",
    "(intput files: dataxx.txt --> output files: testxx.txt)"
   ]
  },
  {
   "cell_type": "code",
   "execution_count": 50,
   "metadata": {
    "collapsed": false
   },
   "outputs": [
    {
     "name": "stdout",
     "output_type": "stream",
     "text": [
      "data3.txt\n",
      "file will be modified\n",
      "data19.txt\n",
      "file will be modified\n"
     ]
    }
   ],
   "source": [
    "import json\n",
    "from pprint import pprint\n",
    "\n",
    "for i in range(1, 53):\n",
    "    dfile = 'data' + str(i) + '.txt'\n",
    "    ofile = 'test' + str(i) + '.txt'\n",
    "    \n",
    "    with open(dfile) as datafile:    \n",
    "        rdata = json.load(datafile)\n",
    "\n",
    "    if rdata[0]['week'] == 1492297200:\n",
    "        print (dfile)\n",
    "        print ('file will be modified')\n",
    "        for dit in rdata:\n",
    "            dit['week'] += 3600\n",
    "        \n",
    "    with open(ofile, 'w') as outfile:\n",
    "        json.dump(rdata, outfile)"
   ]
  },
  {
   "cell_type": "markdown",
   "metadata": {},
   "source": [
    "# weekly commits for all repositories \n",
    "(input files: testxx.txt)\n",
    "the result file: commits.txt"
   ]
  },
  {
   "cell_type": "code",
   "execution_count": 55,
   "metadata": {
    "collapsed": false
   },
   "outputs": [
    {
     "name": "stdout",
     "output_type": "stream",
     "text": [
      "[{'days': [0, 0, 0, 0, 0, 1, 0], 'total': 1, 'week': 1492300800},\n",
      " {'days': [0, 0, 0, 0, 0, 0, 0], 'total': 0, 'week': 1492905600},\n",
      " {'days': [0, 0, 0, 0, 0, 0, 0], 'total': 0, 'week': 1493510400},\n",
      " {'days': [0, 1, 0, 0, 0, 0, 0], 'total': 1, 'week': 1494115200},\n",
      " {'days': [0, 0, 0, 0, 0, 5, 0], 'total': 5, 'week': 1494720000},\n",
      " {'days': [1, 1, 0, 1, 8, 7, 1], 'total': 19, 'week': 1495324800},\n",
      " {'days': [0, 0, 0, 3, 2, 0, 0], 'total': 5, 'week': 1495929600},\n",
      " {'days': [0, 0, 0, 12, 0, 3, 0], 'total': 15, 'week': 1496534400},\n",
      " {'days': [0, 0, 0, 0, 0, 0, 0], 'total': 0, 'week': 1497139200},\n",
      " {'days': [0, 0, 0, 0, 0, 0, 0], 'total': 0, 'week': 1497744000},\n",
      " {'days': [0, 0, 0, 0, 0, 0, 0], 'total': 0, 'week': 1498348800},\n",
      " {'days': [0, 0, 0, 0, 0, 0, 0], 'total': 0, 'week': 1498953600},\n",
      " {'days': [0, 0, 0, 0, 0, 0, 0], 'total': 0, 'week': 1499558400},\n",
      " {'days': [0, 0, 0, 0, 0, 0, 0], 'total': 0, 'week': 1500163200},\n",
      " {'days': [0, 0, 0, 0, 0, 0, 0], 'total': 0, 'week': 1500768000},\n",
      " {'days': [0, 0, 0, 0, 0, 0, 0], 'total': 0, 'week': 1501372800},\n",
      " {'days': [0, 0, 0, 0, 0, 0, 0], 'total': 0, 'week': 1501977600},\n",
      " {'days': [0, 0, 0, 0, 0, 0, 0], 'total': 0, 'week': 1502582400},\n",
      " {'days': [0, 0, 0, 0, 0, 0, 0], 'total': 0, 'week': 1503187200},\n",
      " {'days': [0, 0, 0, 0, 0, 0, 0], 'total': 0, 'week': 1503792000},\n",
      " {'days': [0, 0, 0, 0, 0, 0, 0], 'total': 0, 'week': 1504396800},\n",
      " {'days': [0, 0, 0, 0, 0, 0, 0], 'total': 0, 'week': 1505001600},\n",
      " {'days': [0, 0, 0, 0, 0, 0, 0], 'total': 0, 'week': 1505606400},\n",
      " {'days': [0, 0, 0, 0, 0, 0, 0], 'total': 0, 'week': 1506211200},\n",
      " {'days': [0, 0, 0, 0, 0, 0, 0], 'total': 0, 'week': 1506816000},\n",
      " {'days': [0, 0, 0, 0, 0, 0, 0], 'total': 0, 'week': 1507420800},\n",
      " {'days': [0, 0, 0, 0, 0, 0, 0], 'total': 0, 'week': 1508025600},\n",
      " {'days': [0, 0, 0, 0, 0, 0, 0], 'total': 0, 'week': 1508630400},\n",
      " {'days': [0, 0, 0, 0, 0, 0, 0], 'total': 0, 'week': 1509235200},\n",
      " {'days': [0, 0, 0, 0, 0, 0, 0], 'total': 0, 'week': 1509840000},\n",
      " {'days': [0, 0, 0, 0, 0, 0, 0], 'total': 0, 'week': 1510444800},\n",
      " {'days': [0, 0, 0, 0, 0, 0, 0], 'total': 0, 'week': 1511049600},\n",
      " {'days': [0, 0, 0, 0, 0, 0, 0], 'total': 0, 'week': 1511654400},\n",
      " {'days': [0, 0, 0, 0, 0, 0, 0], 'total': 0, 'week': 1512259200},\n",
      " {'days': [0, 0, 0, 0, 0, 0, 0], 'total': 0, 'week': 1512864000},\n",
      " {'days': [0, 0, 0, 0, 0, 0, 0], 'total': 0, 'week': 1513468800},\n",
      " {'days': [0, 0, 0, 0, 0, 0, 0], 'total': 0, 'week': 1514073600},\n",
      " {'days': [0, 0, 0, 0, 0, 0, 0], 'total': 0, 'week': 1514678400},\n",
      " {'days': [0, 0, 0, 0, 0, 0, 0], 'total': 0, 'week': 1515283200},\n",
      " {'days': [0, 0, 0, 0, 0, 0, 0], 'total': 0, 'week': 1515888000},\n",
      " {'days': [0, 0, 0, 0, 0, 0, 0], 'total': 0, 'week': 1516492800},\n",
      " {'days': [0, 0, 0, 0, 0, 0, 0], 'total': 0, 'week': 1517097600},\n",
      " {'days': [0, 0, 0, 0, 0, 0, 0], 'total': 0, 'week': 1517702400},\n",
      " {'days': [0, 0, 0, 0, 0, 0, 0], 'total': 0, 'week': 1518307200},\n",
      " {'days': [0, 0, 0, 0, 0, 0, 0], 'total': 0, 'week': 1518912000},\n",
      " {'days': [0, 0, 0, 0, 0, 0, 0], 'total': 0, 'week': 1519516800},\n",
      " {'days': [0, 0, 0, 0, 0, 0, 0], 'total': 0, 'week': 1520121600},\n",
      " {'days': [0, 0, 0, 0, 0, 0, 0], 'total': 0, 'week': 1520726400},\n",
      " {'days': [0, 0, 0, 0, 0, 0, 0], 'total': 0, 'week': 1521331200},\n",
      " {'days': [0, 0, 0, 0, 0, 0, 0], 'total': 0, 'week': 1521936000},\n",
      " {'days': [0, 0, 0, 0, 0, 0, 0], 'total': 0, 'week': 1522540800},\n",
      " {'days': [0, 0, 0, 0, 0, 0, 0], 'total': 0, 'week': 1523145600}]\n",
      "[{'days': [0, 0, 0, 0, 1, 4, 0], 'total': 5, 'week': 1492300800},\n",
      " {'days': [4, 0, 7, 7, 1, 2, 0], 'total': 21, 'week': 1492905600},\n",
      " {'days': [2, 1, 7, 1, 13, 8, 2], 'total': 34, 'week': 1493510400},\n",
      " {'days': [0, 7, 4, 2, 12, 10, 0], 'total': 35, 'week': 1494115200},\n",
      " {'days': [5, 19, 21, 0, 0, 5, 0], 'total': 50, 'week': 1494720000},\n",
      " {'days': [1, 4, 4, 1, 24, 9, 1], 'total': 44, 'week': 1495324800},\n",
      " {'days': [0, 2, 8, 6, 2, 2, 0], 'total': 20, 'week': 1495929600},\n",
      " {'days': [0, 1, 0, 13, 2, 4, 0], 'total': 20, 'week': 1496534400},\n",
      " {'days': [0, 4, 7, 6, 1, 2, 0], 'total': 20, 'week': 1497139200},\n",
      " {'days': [0, 0, 0, 5, 0, 1, 5], 'total': 11, 'week': 1497744000},\n",
      " {'days': [0, 3, 0, 0, 1, 0, 0], 'total': 4, 'week': 1498348800},\n",
      " {'days': [0, 0, 1, 1, 0, 4, 1], 'total': 7, 'week': 1498953600},\n",
      " {'days': [0, 5, 0, 11, 1, 16, 0], 'total': 33, 'week': 1499558400},\n",
      " {'days': [0, 0, 0, 0, 0, 0, 1], 'total': 1, 'week': 1500163200},\n",
      " {'days': [1, 0, 1, 0, 0, 1, 0], 'total': 3, 'week': 1500768000},\n",
      " {'days': [0, 1, 0, 0, 0, 0, 0], 'total': 1, 'week': 1501372800},\n",
      " {'days': [0, 0, 0, 1, 0, 2, 0], 'total': 3, 'week': 1501977600},\n",
      " {'days': [0, 1, 1, 0, 0, 0, 0], 'total': 2, 'week': 1502582400},\n",
      " {'days': [0, 0, 1, 0, 4, 3, 1], 'total': 9, 'week': 1503187200},\n",
      " {'days': [4, 2, 2, 0, 1, 1, 8], 'total': 18, 'week': 1503792000},\n",
      " {'days': [4, 0, 0, 0, 0, 0, 0], 'total': 4, 'week': 1504396800},\n",
      " {'days': [0, 0, 11, 12, 2, 0, 2], 'total': 27, 'week': 1505001600},\n",
      " {'days': [0, 7, 0, 0, 2, 0, 6], 'total': 15, 'week': 1505606400},\n",
      " {'days': [0, 1, 0, 4, 0, 0, 13], 'total': 18, 'week': 1506211200},\n",
      " {'days': [4, 2, 22, 1, 7, 1, 4], 'total': 41, 'week': 1506816000},\n",
      " {'days': [0, 9, 1, 0, 0, 0, 0], 'total': 10, 'week': 1507420800},\n",
      " {'days': [0, 0, 0, 2, 0, 0, 0], 'total': 2, 'week': 1508025600},\n",
      " {'days': [0, 0, 0, 5, 0, 2, 0], 'total': 7, 'week': 1508630400},\n",
      " {'days': [0, 4, 0, 0, 0, 0, 0], 'total': 4, 'week': 1509235200},\n",
      " {'days': [3, 0, 0, 0, 0, 0, 0], 'total': 3, 'week': 1509840000},\n",
      " {'days': [0, 0, 1, 0, 0, 0, 1], 'total': 2, 'week': 1510444800},\n",
      " {'days': [0, 0, 20, 1, 0, 0, 0], 'total': 21, 'week': 1511049600},\n",
      " {'days': [0, 0, 5, 7, 7, 0, 0], 'total': 19, 'week': 1511654400},\n",
      " {'days': [0, 0, 0, 0, 0, 11, 0], 'total': 11, 'week': 1512259200},\n",
      " {'days': [0, 0, 0, 0, 0, 0, 0], 'total': 0, 'week': 1512864000},\n",
      " {'days': [0, 0, 0, 0, 0, 0, 0], 'total': 0, 'week': 1513468800},\n",
      " {'days': [0, 0, 6, 0, 0, 0, 1], 'total': 7, 'week': 1514073600},\n",
      " {'days': [0, 0, 0, 0, 0, 0, 0], 'total': 0, 'week': 1514678400},\n",
      " {'days': [0, 4, 4, 0, 4, 0, 0], 'total': 12, 'week': 1515283200},\n",
      " {'days': [0, 1, 0, 0, 2, 0, 0], 'total': 3, 'week': 1515888000},\n",
      " {'days': [0, 0, 2, 0, 0, 0, 0], 'total': 2, 'week': 1516492800},\n",
      " {'days': [31, 6, 0, 3, 0, 0, 0], 'total': 40, 'week': 1517097600},\n",
      " {'days': [0, 0, 0, 4, 1, 0, 0], 'total': 5, 'week': 1517702400},\n",
      " {'days': [0, 2, 0, 0, 0, 0, 1], 'total': 3, 'week': 1518307200},\n",
      " {'days': [0, 0, 0, 0, 2, 6, 3], 'total': 11, 'week': 1518912000},\n",
      " {'days': [1, 3, 6, 1, 0, 3, 0], 'total': 14, 'week': 1519516800},\n",
      " {'days': [9, 5, 0, 0, 5, 13, 1], 'total': 33, 'week': 1520121600},\n",
      " {'days': [6, 4, 0, 11, 4, 0, 0], 'total': 25, 'week': 1520726400},\n",
      " {'days': [0, 38, 33, 21, 30, 15, 0], 'total': 137, 'week': 1521331200},\n",
      " {'days': [4, 0, 0, 1, 0, 1, 0], 'total': 6, 'week': 1521936000},\n",
      " {'days': [0, 0, 0, 0, 1, 0, 0], 'total': 1, 'week': 1522540800},\n",
      " {'days': [0, 1, 9, 8, 0, 0, 0], 'total': 18, 'week': 1523145600}]\n"
     ]
    }
   ],
   "source": [
    "import json\n",
    "from pprint import pprint\n",
    "\n",
    "with open('test1.txt') as datafile:    \n",
    "    rdata = json.load(datafile)\n",
    "pprint(rdata)\n",
    "\n",
    "for i in range(2, 53):\n",
    "    dfile = 'test' + str(i) + '.txt'\n",
    "    \n",
    "    with open(dfile) as datafile:\n",
    "        ndata = json.load(datafile)\n",
    "        \n",
    "    for (dit, newdit) in zip(rdata, ndata):\n",
    "        dit['total'] += newdit['total']\n",
    "        \n",
    "        for day in range (0, 7):\n",
    "            dit['days'][day] += newdit['days'][day]\n",
    "            \n",
    "pprint(rdata)\n",
    "\n",
    "with open('commits.txt', 'w') as outfile:\n",
    "    json.dump(rdata, outfile)"
   ]
  },
  {
   "cell_type": "markdown",
   "metadata": {},
   "source": [
    "# The cell below is for testing!!!"
   ]
  },
  {
   "cell_type": "code",
   "execution_count": 54,
   "metadata": {
    "collapsed": false
   },
   "outputs": [
    {
     "name": "stdout",
     "output_type": "stream",
     "text": [
      "[{'days': [0, 0, 0, 0, 0, 1, 0], 'total': 1, 'week': 1492300800},\n",
      " {'days': [0, 0, 0, 0, 0, 0, 0], 'total': 0, 'week': 1492905600},\n",
      " {'days': [0, 0, 0, 0, 0, 0, 0], 'total': 0, 'week': 1493510400},\n",
      " {'days': [0, 1, 0, 0, 0, 0, 0], 'total': 1, 'week': 1494115200},\n",
      " {'days': [0, 0, 0, 0, 0, 5, 0], 'total': 5, 'week': 1494720000},\n",
      " {'days': [1, 1, 0, 1, 8, 7, 1], 'total': 19, 'week': 1495324800},\n",
      " {'days': [0, 0, 0, 3, 2, 0, 0], 'total': 5, 'week': 1495929600},\n",
      " {'days': [0, 0, 0, 12, 0, 3, 0], 'total': 15, 'week': 1496534400},\n",
      " {'days': [0, 0, 0, 0, 0, 0, 0], 'total': 0, 'week': 1497139200},\n",
      " {'days': [0, 0, 0, 0, 0, 0, 0], 'total': 0, 'week': 1497744000},\n",
      " {'days': [0, 0, 0, 0, 0, 0, 0], 'total': 0, 'week': 1498348800},\n",
      " {'days': [0, 0, 0, 0, 0, 0, 0], 'total': 0, 'week': 1498953600},\n",
      " {'days': [0, 0, 0, 0, 0, 0, 0], 'total': 0, 'week': 1499558400},\n",
      " {'days': [0, 0, 0, 0, 0, 0, 0], 'total': 0, 'week': 1500163200},\n",
      " {'days': [0, 0, 0, 0, 0, 0, 0], 'total': 0, 'week': 1500768000},\n",
      " {'days': [0, 0, 0, 0, 0, 0, 0], 'total': 0, 'week': 1501372800},\n",
      " {'days': [0, 0, 0, 0, 0, 0, 0], 'total': 0, 'week': 1501977600},\n",
      " {'days': [0, 0, 0, 0, 0, 0, 0], 'total': 0, 'week': 1502582400},\n",
      " {'days': [0, 0, 0, 0, 0, 0, 0], 'total': 0, 'week': 1503187200},\n",
      " {'days': [0, 0, 0, 0, 0, 0, 0], 'total': 0, 'week': 1503792000},\n",
      " {'days': [0, 0, 0, 0, 0, 0, 0], 'total': 0, 'week': 1504396800},\n",
      " {'days': [0, 0, 0, 0, 0, 0, 0], 'total': 0, 'week': 1505001600},\n",
      " {'days': [0, 0, 0, 0, 0, 0, 0], 'total': 0, 'week': 1505606400},\n",
      " {'days': [0, 0, 0, 0, 0, 0, 0], 'total': 0, 'week': 1506211200},\n",
      " {'days': [0, 0, 0, 0, 0, 0, 0], 'total': 0, 'week': 1506816000},\n",
      " {'days': [0, 0, 0, 0, 0, 0, 0], 'total': 0, 'week': 1507420800},\n",
      " {'days': [0, 0, 0, 0, 0, 0, 0], 'total': 0, 'week': 1508025600},\n",
      " {'days': [0, 0, 0, 0, 0, 0, 0], 'total': 0, 'week': 1508630400},\n",
      " {'days': [0, 0, 0, 0, 0, 0, 0], 'total': 0, 'week': 1509235200},\n",
      " {'days': [0, 0, 0, 0, 0, 0, 0], 'total': 0, 'week': 1509840000},\n",
      " {'days': [0, 0, 0, 0, 0, 0, 0], 'total': 0, 'week': 1510444800},\n",
      " {'days': [0, 0, 0, 0, 0, 0, 0], 'total': 0, 'week': 1511049600},\n",
      " {'days': [0, 0, 0, 0, 0, 0, 0], 'total': 0, 'week': 1511654400},\n",
      " {'days': [0, 0, 0, 0, 0, 0, 0], 'total': 0, 'week': 1512259200},\n",
      " {'days': [0, 0, 0, 0, 0, 0, 0], 'total': 0, 'week': 1512864000},\n",
      " {'days': [0, 0, 0, 0, 0, 0, 0], 'total': 0, 'week': 1513468800},\n",
      " {'days': [0, 0, 0, 0, 0, 0, 0], 'total': 0, 'week': 1514073600},\n",
      " {'days': [0, 0, 0, 0, 0, 0, 0], 'total': 0, 'week': 1514678400},\n",
      " {'days': [0, 0, 0, 0, 0, 0, 0], 'total': 0, 'week': 1515283200},\n",
      " {'days': [0, 0, 0, 0, 0, 0, 0], 'total': 0, 'week': 1515888000},\n",
      " {'days': [0, 0, 0, 0, 0, 0, 0], 'total': 0, 'week': 1516492800},\n",
      " {'days': [0, 0, 0, 0, 0, 0, 0], 'total': 0, 'week': 1517097600},\n",
      " {'days': [0, 0, 0, 0, 0, 0, 0], 'total': 0, 'week': 1517702400},\n",
      " {'days': [0, 0, 0, 0, 0, 0, 0], 'total': 0, 'week': 1518307200},\n",
      " {'days': [0, 0, 0, 0, 0, 0, 0], 'total': 0, 'week': 1518912000},\n",
      " {'days': [0, 0, 0, 0, 0, 0, 0], 'total': 0, 'week': 1519516800},\n",
      " {'days': [0, 0, 0, 0, 0, 0, 0], 'total': 0, 'week': 1520121600},\n",
      " {'days': [0, 0, 0, 0, 0, 0, 0], 'total': 0, 'week': 1520726400},\n",
      " {'days': [0, 0, 0, 0, 0, 0, 0], 'total': 0, 'week': 1521331200},\n",
      " {'days': [0, 0, 0, 0, 0, 0, 0], 'total': 0, 'week': 1521936000},\n",
      " {'days': [0, 0, 0, 0, 0, 0, 0], 'total': 0, 'week': 1522540800},\n",
      " {'days': [0, 0, 0, 0, 0, 0, 0], 'total': 0, 'week': 1523145600}]\n",
      "[{'days': [0, 0, 0, 0, 1, 4, 0], 'total': 5, 'week': 1492300800},\n",
      " {'days': [4, 0, 7, 7, 1, 2, 0], 'total': 21, 'week': 1492905600},\n",
      " {'days': [2, 1, 7, 1, 13, 8, 2], 'total': 34, 'week': 1493510400},\n",
      " {'days': [0, 7, 4, 2, 12, 10, 0], 'total': 35, 'week': 1494115200},\n",
      " {'days': [5, 19, 21, 0, 0, 5, 0], 'total': 50, 'week': 1494720000},\n",
      " {'days': [1, 4, 4, 1, 24, 9, 1], 'total': 44, 'week': 1495324800},\n",
      " {'days': [0, 2, 8, 6, 2, 2, 0], 'total': 20, 'week': 1495929600},\n",
      " {'days': [0, 1, 0, 13, 2, 4, 0], 'total': 20, 'week': 1496534400},\n",
      " {'days': [0, 4, 7, 6, 1, 2, 0], 'total': 20, 'week': 1497139200},\n",
      " {'days': [0, 0, 0, 5, 0, 1, 5], 'total': 11, 'week': 1497744000},\n",
      " {'days': [0, 3, 0, 0, 1, 0, 0], 'total': 4, 'week': 1498348800},\n",
      " {'days': [0, 0, 1, 1, 0, 4, 1], 'total': 7, 'week': 1498953600},\n",
      " {'days': [0, 5, 0, 11, 1, 16, 0], 'total': 33, 'week': 1499558400},\n",
      " {'days': [0, 0, 0, 0, 0, 0, 1], 'total': 1, 'week': 1500163200},\n",
      " {'days': [1, 0, 1, 0, 0, 1, 0], 'total': 3, 'week': 1500768000},\n",
      " {'days': [0, 1, 0, 0, 0, 0, 0], 'total': 1, 'week': 1501372800},\n",
      " {'days': [0, 0, 0, 1, 0, 2, 0], 'total': 3, 'week': 1501977600},\n",
      " {'days': [0, 1, 1, 0, 0, 0, 0], 'total': 2, 'week': 1502582400},\n",
      " {'days': [0, 0, 1, 0, 4, 3, 1], 'total': 9, 'week': 1503187200},\n",
      " {'days': [4, 2, 2, 0, 1, 1, 8], 'total': 18, 'week': 1503792000},\n",
      " {'days': [4, 0, 0, 0, 0, 0, 0], 'total': 4, 'week': 1504396800},\n",
      " {'days': [0, 0, 11, 12, 2, 0, 2], 'total': 27, 'week': 1505001600},\n",
      " {'days': [0, 7, 0, 0, 2, 0, 6], 'total': 15, 'week': 1505606400},\n",
      " {'days': [0, 1, 0, 4, 0, 0, 13], 'total': 18, 'week': 1506211200},\n",
      " {'days': [4, 2, 22, 1, 7, 1, 4], 'total': 41, 'week': 1506816000},\n",
      " {'days': [0, 9, 1, 0, 0, 0, 0], 'total': 10, 'week': 1507420800},\n",
      " {'days': [0, 0, 0, 2, 0, 0, 0], 'total': 2, 'week': 1508025600},\n",
      " {'days': [0, 0, 0, 5, 0, 2, 0], 'total': 7, 'week': 1508630400},\n",
      " {'days': [0, 4, 0, 0, 0, 0, 0], 'total': 4, 'week': 1509235200},\n",
      " {'days': [3, 0, 0, 0, 0, 0, 0], 'total': 3, 'week': 1509840000},\n",
      " {'days': [0, 0, 1, 0, 0, 0, 1], 'total': 2, 'week': 1510444800},\n",
      " {'days': [0, 0, 20, 1, 0, 0, 0], 'total': 21, 'week': 1511049600},\n",
      " {'days': [0, 0, 5, 7, 7, 0, 0], 'total': 19, 'week': 1511654400},\n",
      " {'days': [0, 0, 0, 0, 0, 11, 0], 'total': 11, 'week': 1512259200},\n",
      " {'days': [0, 0, 0, 0, 0, 0, 0], 'total': 0, 'week': 1512864000},\n",
      " {'days': [0, 0, 0, 0, 0, 0, 0], 'total': 0, 'week': 1513468800},\n",
      " {'days': [0, 0, 6, 0, 0, 0, 1], 'total': 7, 'week': 1514073600},\n",
      " {'days': [0, 0, 0, 0, 0, 0, 0], 'total': 0, 'week': 1514678400},\n",
      " {'days': [0, 4, 4, 0, 4, 0, 0], 'total': 12, 'week': 1515283200},\n",
      " {'days': [0, 1, 0, 0, 2, 0, 0], 'total': 3, 'week': 1515888000},\n",
      " {'days': [0, 0, 2, 0, 0, 0, 0], 'total': 2, 'week': 1516492800},\n",
      " {'days': [31, 6, 0, 3, 0, 0, 0], 'total': 40, 'week': 1517097600},\n",
      " {'days': [0, 0, 0, 4, 1, 0, 0], 'total': 5, 'week': 1517702400},\n",
      " {'days': [0, 2, 0, 0, 0, 0, 1], 'total': 3, 'week': 1518307200},\n",
      " {'days': [0, 0, 0, 0, 2, 6, 3], 'total': 11, 'week': 1518912000},\n",
      " {'days': [1, 3, 6, 1, 0, 3, 0], 'total': 14, 'week': 1519516800},\n",
      " {'days': [9, 5, 0, 0, 5, 13, 1], 'total': 33, 'week': 1520121600},\n",
      " {'days': [6, 4, 0, 11, 4, 0, 0], 'total': 25, 'week': 1520726400},\n",
      " {'days': [0, 38, 33, 21, 30, 15, 0], 'total': 137, 'week': 1521331200},\n",
      " {'days': [4, 0, 0, 1, 0, 1, 0], 'total': 6, 'week': 1521936000},\n",
      " {'days': [0, 0, 0, 0, 1, 0, 0], 'total': 1, 'week': 1522540800},\n",
      " {'days': [0, 1, 9, 8, 0, 0, 0], 'total': 18, 'week': 1523145600}]\n"
     ]
    }
   ],
   "source": [
    "import json\n",
    "from pprint import pprint\n",
    "\n",
    "with open('test1.txt') as data_file:    \n",
    "    rdata = json.load(data_file)\n",
    "pprint(rdata)\n",
    "\n",
    "for i in range(2, 53):     # you can change range(2, xx), xx between 3 and 53\n",
    "    dfile = 'test' + str(i) + '.txt'\n",
    "    \n",
    "    with open(dfile) as datafile:\n",
    "        ndata = json.load(datafile)\n",
    "        \n",
    "    for j in range(0, 52):  # you can change the range (0, xx), xx between 1 and 52\n",
    "        dit = rdata[j]\n",
    "        newdit = ndata[j]\n",
    "\n",
    "        dit['total'] += newdit['total']\n",
    "        for day in range (0, 7):\n",
    "            dit['days'][day] += newdit['days'][day]\n",
    "\n",
    "pprint(rdata)"
   ]
  },
  {
   "cell_type": "code",
   "execution_count": null,
   "metadata": {
    "collapsed": true
   },
   "outputs": [],
   "source": []
  }
 ],
 "metadata": {
  "anaconda-cloud": {},
  "kernelspec": {
   "display_name": "Python [default]",
   "language": "python",
   "name": "python3"
  },
  "language_info": {
   "codemirror_mode": {
    "name": "ipython",
    "version": 3
   },
   "file_extension": ".py",
   "mimetype": "text/x-python",
   "name": "python",
   "nbconvert_exporter": "python",
   "pygments_lexer": "ipython3",
   "version": "3.5.2"
  }
 },
 "nbformat": 4,
 "nbformat_minor": 1
}
