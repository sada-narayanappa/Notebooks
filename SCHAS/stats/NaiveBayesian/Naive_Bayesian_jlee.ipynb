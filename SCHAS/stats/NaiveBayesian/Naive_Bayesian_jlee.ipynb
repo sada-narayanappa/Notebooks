{
 "cells": [
  {
   "cell_type": "code",
   "execution_count": 2,
   "metadata": {
    "collapsed": false
   },
   "outputs": [
    {
     "name": "stdout",
     "output_type": "stream",
     "text": [
      "      RY_bound  YG_bound\n",
      "hand     185.0     296.0\n",
      "kuky     295.0     472.0\n",
      "[0, 0, 0, 1.2000000000000002, 216, 2.16, 1.44, 1920]\n"
     ]
    }
   ],
   "source": [
    "# Naive Bayesian / Jongwon Lee\n",
    "# 2017. 07. 21. -\n",
    "# Use five pollutant data exposure\n",
    "# , highest Temperature, highest Percipitation, and highest Air Pressure.\n",
    "%run  \"../../PyUtils/DataFrameUtils.py\"\n",
    "import pandas;\n",
    "\n",
    "PREV_PEF_POLL = 0;\n",
    "CLIMATE_POLL = 1;\n",
    "PREV_PEF_POLL_MAX = 2;\n",
    "\n",
    "ISCLASSICAL = 1;\n",
    "PATIENT = 'hand'; # 185, 296\n",
    "classic_bound = pandas.DataFrame(columns=('RY_bound','YG_bound'));\n",
    "classic_bound.loc['hand'] = [185, 296];\n",
    "classic_bound.loc['kuky'] = [295, 472];\n",
    "\n",
    "print(classic_bound)\n",
    "\n",
    "# PEF R0 <= 30, 30 < R1 <= 60, R2 > 60\n",
    "# SO2 -> 0~0.02, 0.021~0.05, 0.051~0.15, 0.151~\n",
    "# CO -> 0~2, 2.01~9, 9.01~15, 15.01~\n",
    "# O3 -> 0~0.03, 0.031~0.09, 0.091~0.15, 0.151~\n",
    "# NO2 -> 0~0.03, 0.031~0.06, 0.061~0.2, 0.201~\n",
    "# PM10 -> 0~30, 31~80, 81~150, 151~\n",
    "# SO2 0.05 | CO 9 | O3 0.09 | NO2 0.06 | PM10 80 - (*24) Bad boundary \n",
    "# SO2 0.15 | CO 15 | O3 0.15 | NO2 0.2 | PM10 150 - (*24) Very Bad boundary\n",
    "\n",
    "ISVERYBAD = 0;\n",
    "if ISVERYBAD == 1 :\n",
    "    so2_b = 0.15;\n",
    "    co_b = 15;\n",
    "    o3_b = 0.15;\n",
    "    no2_b = 0.2;\n",
    "    pm10_b = 150;\n",
    "else :\n",
    "    so2_b = 0.05;\n",
    "    co_b = 9;\n",
    "    o3_b = 0.09;\n",
    "    no2_b = 0.06;\n",
    "    pm10_b = 80;\n",
    "\n",
    "# Tmax, Amax, Pmax boundaries..? -> half and half\n",
    "tmax_b = 23.40;\n",
    "amax_b = 1013.30;\n",
    "pmax_b = 97;\n",
    "\n",
    "\n",
    "X_VARI_MODE = 0;\n",
    "\n",
    "if X_VARI_MODE == PREV_PEF_POLL :\n",
    "    X_variables = ['-3regi','-2regi','-1regi','so2','co','o3','no2','pm10'];\n",
    "    bound_env = [0, 0, 0, so2_b*24, co_b*24, o3_b*24, no2_b*24, pm10_b*24];\n",
    "elif X_VARI_MODE == CLIMATE_POLL :\n",
    "    X_variables = ['tmax','amax','pmax','so2','co','o3','no2','pm10'];\n",
    "    bound_env = [tmax_b, amax_b, pmax_b, so2_b*24, co_b*24, o3_b*24, no2_b*24, pm10_b*24];\n",
    "elif X_VARI_MODE == PREV_PEF_POLL_MAX :\n",
    "    X_variables = ['-3regi','-2regi','-1regi','so2max','comax','o3max','no2max','pm10max'];\n",
    "    bound_env = [0, 0, 0, so2_b, co_b, o3_b, no2_b, pm10_b];\n",
    "\n",
    "\n",
    "# bound_env = [0, 0, 0, 0.11, 13.10, 0.57, 0.61, 1150];\n",
    "# 문제점 2가지\n",
    "# t_max가 PEF 잴 때의 온도?\n",
    "# 계속 나쁨으로 유지 ㄴㄴ..\n",
    "print(bound_env);\n",
    "\n",
    "# 1. 파일을 읽고\n",
    "# 3. 베이지안을 써서 확률값을 구하고\n",
    "# 4. 가장 높은 확률 값을 선택하고\n",
    "# 5. 정확도를 구한다. \n",
    "# 0.196 19.900 0.077 1.176 1072.000  3.700 1023.900  96.000"
   ]
  },
  {
   "cell_type": "code",
   "execution_count": 3,
   "metadata": {
    "collapsed": false,
    "scrolled": true
   },
   "outputs": [],
   "source": [
    "# Load AM data and PM data seperately.\n",
    "\n",
    "data_AM = \"http://www.smartconnectedhealth.org/aura/webroot/db.jsp?q=SELECT%20*%20FROM%20\"+PATIENT+\"%20WHERE%20ampm=\\'am\\'%20ORDER%20BY%20dateofmeasure\";\n",
    "data_PM = \"http://www.smartconnectedhealth.org/aura/webroot/db.jsp?q=SELECT%20*%20FROM%20\"+PATIENT+\"%20WHERE%20ampm=\\'pm\\'%20ORDER%20BY%20dateofmeasure\";"
   ]
  },
  {
   "cell_type": "code",
   "execution_count": 4,
   "metadata": {
    "collapsed": false,
    "scrolled": false
   },
   "outputs": [
    {
     "ename": "NameError",
     "evalue": "name 'LoadDataSet' is not defined",
     "output_type": "error",
     "traceback": [
      "\u001b[0;31m---------------------------------------------------------------------------\u001b[0m",
      "\u001b[0;31mNameError\u001b[0m                                 Traceback (most recent call last)",
      "\u001b[0;32m<ipython-input-4-691a41880d7b>\u001b[0m in \u001b[0;36m<module>\u001b[0;34m()\u001b[0m\n\u001b[1;32m      1\u001b[0m \u001b[0;31m# Using pandas dataframe structure, store the data.\u001b[0m\u001b[0;34m\u001b[0m\u001b[0;34m\u001b[0m\u001b[0m\n\u001b[0;32m----> 2\u001b[0;31m \u001b[0mdfOriginal_AM\u001b[0m \u001b[0;34m=\u001b[0m \u001b[0mLoadDataSet\u001b[0m\u001b[0;34m(\u001b[0m\u001b[0mdata_AM\u001b[0m\u001b[0;34m,\u001b[0m \u001b[0mcheckForDateTime\u001b[0m \u001b[0;34m=\u001b[0m \u001b[0;32mFalse\u001b[0m\u001b[0;34m)\u001b[0m\u001b[0;34m;\u001b[0m\u001b[0;34m\u001b[0m\u001b[0m\n\u001b[0m\u001b[1;32m      3\u001b[0m \u001b[0mdfOriginal_PM\u001b[0m \u001b[0;34m=\u001b[0m \u001b[0mLoadDataSet\u001b[0m\u001b[0;34m(\u001b[0m\u001b[0mdata_PM\u001b[0m\u001b[0;34m,\u001b[0m \u001b[0mcheckForDateTime\u001b[0m \u001b[0;34m=\u001b[0m \u001b[0;32mFalse\u001b[0m\u001b[0;34m)\u001b[0m\u001b[0;34m;\u001b[0m\u001b[0;34m\u001b[0m\u001b[0m\n\u001b[1;32m      4\u001b[0m \u001b[0mdisplayDFs\u001b[0m \u001b[0;34m(\u001b[0m\u001b[0mdfOriginal_AM\u001b[0m\u001b[0;34m,\u001b[0m \u001b[0mmaxrows\u001b[0m \u001b[0;34m=\u001b[0m \u001b[0;36m3\u001b[0m\u001b[0;34m)\u001b[0m\u001b[0;34m;\u001b[0m\u001b[0;34m\u001b[0m\u001b[0m\n\u001b[1;32m      5\u001b[0m \u001b[0;31m#displayDFs (dfOriginal_PM, maxrows = 3);\u001b[0m\u001b[0;34m\u001b[0m\u001b[0;34m\u001b[0m\u001b[0m\n",
      "\u001b[0;31mNameError\u001b[0m: name 'LoadDataSet' is not defined"
     ]
    }
   ],
   "source": [
    "# Using pandas dataframe structure, store the data.\n",
    "dfOriginal_AM = LoadDataSet(data_AM, checkForDateTime = False);\n",
    "dfOriginal_PM = LoadDataSet(data_PM, checkForDateTime = False);\n",
    "displayDFs (dfOriginal_AM, maxrows = 3);\n",
    "#displayDFs (dfOriginal_PM, maxrows = 3);\n",
    "#print(dfOriginal_AM);"
   ]
  },
  {
   "cell_type": "code",
   "execution_count": 715,
   "metadata": {
    "collapsed": false,
    "scrolled": false
   },
   "outputs": [],
   "source": [
    "#print (dfOriginal_AM.count());\n",
    "#print (dfOriginal_PM.count());\n",
    "df_AM = dfOriginal_AM;\n",
    "df_PM = dfOriginal_PM;"
   ]
  },
  {
   "cell_type": "code",
   "execution_count": 716,
   "metadata": {
    "collapsed": false,
    "scrolled": false
   },
   "outputs": [],
   "source": [
    "#df_AM = df_AM[['dateofmeasure','pefmax','so2','co','o3','no2','pm10','tmax','amax','pmax']];\n",
    "#df_PM = df_PM[['dateofmeasure','pefmax','so2','co','o3','no2','pm10','tmax','amax','pmax']];\n",
    "#displayDFs (df_AM, maxrows = 3);\n",
    "#displayDFs (df_PM, maxrows = 3);\n",
    "#print(list(df_AM)[0])\n",
    "\n",
    "if ISCLASSICAL == 1 :\n",
    "    df_AM['-3regi'] = np.zeros(len(df_AM));\n",
    "    df_AM['-2regi'] = np.zeros(len(df_AM));\n",
    "    df_AM['-1regi'] = np.zeros(len(df_AM));\n",
    "    df_AM['regi'] = np.zeros(len(df_AM));\n",
    "elif ISCLASSICAL == 1 :\n",
    "    df_AM['-3regi'] = str(np.zeros(len(df_AM)));\n",
    "    df_AM['-2regi'] = str(np.zeros(len(df_AM)));\n",
    "    df_AM['-1regi'] = str(np.zeros(len(df_AM)));\n",
    "    df_AM['regi'] = str(np.zeros(len(df_AM)));"
   ]
  },
  {
   "cell_type": "code",
   "execution_count": 717,
   "metadata": {
    "collapsed": false
   },
   "outputs": [
    {
     "name": "stdout",
     "output_type": "stream",
     "text": [
      "    cname ampm timeofday dateofmeasure    pef1    pef2    pef3  pefmax indexpef   so2     co    o3   no2     pm10  temperaturec  rainfallmm  windspeedms  precipitationpercent  vaporpressurehpa  dewpointtemperaturec  airpressurehpa  sealevelpressurehpa  groundtemperaturec  winddirection   tmax     amax    pmax   tmin     amin   pmin  tmode    amode   pmode  tmaxlesstmin  amaxlessamin  pmaxlesspmin  so2max  so2maxtime  so2min  so2mintime  comax  comaxtime  comin  comintime  o3max  o3maxtime  o3min  o3mintime  no2max  no2maxtime  no2min  no2mintime  pm10max  pm10maxtime  pm10min  pm10mintime  -3regi  -2regi  -1regi  regi\n",
      "0    hand   am  07:40:00    2014-12-24 319.000 305.000 319.000 319.000        G 0.196 19.900 0.077 1.176 1072.000         1.900         nan        0.300                83.000             5.800                -0.600        1017.300             1021.600              -0.400          0.000  3.700 1023.900  96.000 -6.600 1000.000 56.000  1.900 1023.900  65.000        10.300        23.900        40.000   0.012      21.000   0.006       7.000  1.400     10.000  0.600     18.000  0.009      6.000  0.002      7.000   0.067      10.000   0.031       6.000   55.000       21.000   28.000        7.000   0.000   0.000   0.000 0.000\n",
      "1    hand   am  06:41:00    2014-12-25 326.000 300.000 307.000 326.000        G 0.180 18.400 0.378 0.750 1177.000        -3.600         nan        1.200                66.000             3.100                -9.000        1023.900             1028.300              -3.900        290.000  7.900 1023.800  86.000 -3.700 1000.000 55.000  5.600 1017.100  58.000        11.600        23.800        31.000   0.017      15.000   0.004      22.000  1.800      9.000  0.200     18.000  0.025      4.000  0.002      8.000   0.064       9.000   0.012       4.000  121.000       15.000   11.000       19.000   0.000   0.000   0.000 0.000\n",
      "2    hand   am  07:25:00    2014-12-26 311.000 300.000 273.000 311.000        G 0.115 12.900 0.484 0.436  709.000        -5.600         nan        1.100                54.000             2.200               -13.400        1027.100             1031.600              -5.300        320.000  3.100 1026.900  64.000 -5.000 1000.000 33.000 -3.900 1024.200  50.000         8.100        26.900        31.000   0.006      10.000   0.004       8.000  0.700     16.000  0.300     18.000  0.030     15.000  0.011      9.000   0.025       9.000   0.012      13.000   43.000       21.000   19.000       19.000   0.000   0.000   0.000 0.000\n",
      "3    hand   am  06:50:00    2014-12-27 286.000 311.000 324.000 324.000        G 0.136 17.000 0.173 0.914  867.000        -6.600         nan        0.100                84.000             3.100                -8.800        1027.700             1032.200              -5.000          0.000  2.300 1027.700  85.000 -6.800 1000.000 27.000 -5.800 1027.500  51.000         9.100        27.700        58.000   0.007      11.000   0.005       6.000  1.300     24.000  0.400     14.000  0.017     15.000  0.002     20.000   0.059       1.000   0.021       6.000   50.000        1.000   24.000       10.000   0.000   0.000   0.000 0.000\n",
      "..    ...  ...       ...           ...     ...     ...     ...     ...      ...   ...    ...   ...   ...      ...           ...         ...          ...                   ...               ...                   ...             ...                  ...                 ...            ...    ...      ...     ...    ...      ...    ...    ...      ...     ...           ...           ...           ...     ...         ...     ...         ...    ...        ...    ...        ...    ...        ...    ...        ...     ...         ...     ...         ...      ...          ...      ...          ...     ...     ...     ...   ...\n",
      "650  hand   am  06:27:00    2016-10-04 227.000 238.000 223.000 238.000        Y 0.065  9.500 0.527 0.449  420.000        14.200       1.485        0.200               100.000            16.100                14.100        1011.900             1016.000              16.500          0.000 27.700 1011.900 100.000 14.800 1000.000 54.000 23.400 1005.300 100.000        12.900        11.900        46.000   0.003       6.000   0.002      14.000  0.500     23.000  0.300     13.000  0.042     16.000  0.004     24.000   0.036      24.000   0.007       6.000   31.000        2.000    4.000       21.000   0.000   0.000   0.000 0.000\n",
      "651  hand   am  06:24:00    2016-10-05 275.000 277.000 238.000 277.000        Y 0.065 10.900 0.440 0.577  691.000        20.000       1.485        3.400                63.000            14.700                12.700        1005.500             1009.500              18.700         70.000 28.200 1012.700 100.000 14.200 1000.000 43.000 27.000 1009.400  67.000        14.000        12.700        57.000   0.003       6.000   0.002      13.000  0.600      7.000  0.400     11.000  0.039     17.000  0.002      7.000   0.038      20.000   0.008       3.000   44.000       11.000   10.000        2.000   0.000   0.000   0.000 0.000\n",
      "652  hand   am  06:00:00    2016-10-06 212.000 223.000 229.000 229.000        Y 0.067 10.500 0.632 0.407  804.000        14.400       1.485        1.700                83.000            13.600                11.500        1015.900             1020.000              15.000        320.000 26.500 1015.100  95.000 15.000 1000.000 53.000 19.500 1003.900  77.000        11.500        15.100        42.000   0.003      10.000   0.002       6.000  0.500      9.000  0.400      6.000  0.044     15.000  0.005      9.000   0.038      20.000   0.008       4.000   47.000       24.000   13.000        6.000   0.000   0.000   0.000 0.000\n",
      "653  hand   am  07:18:00    2016-10-07 265.000 268.000 271.000 271.000        Y 0.072 11.400 0.390 0.548  877.000        17.300       1.485        2.100                83.000            16.300                14.300        1018.500             1022.500              16.300        110.000 23.300 1019.200  88.000 13.800 1000.000 44.000 21.500 1017.800  84.000         9.500        19.200        44.000   0.004      20.000   0.002       3.000  0.600     16.000  0.300     18.000  0.045     16.000  0.002     22.000   0.036      22.000   0.013      11.000   48.000       15.000   20.000       19.000   0.000   0.000   0.000 0.000\n",
      "\n",
      "[602 rows x 60 columns]\n"
     ]
    }
   ],
   "source": [
    "import numpy as np;\n",
    "df_AM = df_AM[np.isfinite(df_AM['pefmax'])];\n",
    "for i in X_variables :\n",
    "    df_AM = df_AM[np.isfinite(df_AM[i])];\n",
    "if 'pmax' in X_variables :\n",
    "    df_AM = df_AM[np.not_equal(df_AM['pmax'], -1000.)];  # Percipitation data \n",
    "    \n",
    "#displayDFs (df_AM);\n",
    "print(df_AM);"
   ]
  },
  {
   "cell_type": "code",
   "execution_count": 718,
   "metadata": {
    "collapsed": false
   },
   "outputs": [],
   "source": [
    "df_AM = df_AM.reset_index(drop=True);\n",
    "#print(df_AM);"
   ]
  },
  {
   "cell_type": "code",
   "execution_count": 719,
   "metadata": {
    "collapsed": false
   },
   "outputs": [
    {
     "name": "stdout",
     "output_type": "stream",
     "text": [
      "185.0 296.0\n"
     ]
    }
   ],
   "source": [
    "#print(df_AM)\n",
    "if ISCLASSICAL == 0 :\n",
    "    bound_1 = df_AM.pefmax.quantile(.3);\n",
    "    bound_2 = df_AM.pefmax.quantile(.6);\n",
    "elif ISCLASSICAL == 1 :\n",
    "    bound_1 = classic_bound.loc[PATIENT]['RY_bound'];\n",
    "    bound_2 = classic_bound.loc[PATIENT]['YG_bound'];\n",
    "    \n",
    "for i in range(0, len(df_AM)):\n",
    "    if df_AM.loc[i]['pefmax'] < bound_1 :\n",
    "        df_AM.set_value(i, 'regi', 0);\n",
    "    elif df_AM.loc[i]['pefmax'] < bound_2 :\n",
    "        df_AM.set_value(i, 'regi', 1);\n",
    "    else :\n",
    "        df_AM.set_value(i, 'regi', 2);\n",
    "\n",
    "for i in range(3, len(df_AM)) :\n",
    "    for j in range(3, 0, -1) :\n",
    "        if df_AM.loc[i-j]['pefmax'] < bound_1 :\n",
    "            df_AM.set_value(i, '-'+str(j)+'regi', 0);\n",
    "        elif df_AM.loc[i-j]['pefmax'] < bound_2 :\n",
    "            df_AM.set_value(i, '-'+str(j)+'regi', 1);\n",
    "        else :\n",
    "            df_AM.set_value(i, '-'+str(j)+'regi', 2);\n",
    "        \n",
    "        \n",
    "print(bound_1, bound_2);\n",
    "#print(df_AM);\n",
    "#print('-'+str(j)+'regi');"
   ]
  },
  {
   "cell_type": "code",
   "execution_count": 720,
   "metadata": {
    "collapsed": false
   },
   "outputs": [
    {
     "name": "stdout",
     "output_type": "stream",
     "text": [
      "     -3regi  -2regi  -1regi   so2     co    o3   no2     pm10  regi\n",
      "0     2.000   2.000   2.000 0.136 17.000 0.173 0.914  867.000 2.000\n",
      "1     2.000   2.000   2.000 0.170 25.700 0.070 1.394 1359.000 2.000\n",
      "2     2.000   2.000   2.000 0.219 23.200 0.062 1.404 1251.000 2.000\n",
      "3     2.000   2.000   2.000 0.269 24.800 0.216 1.217 3064.000 1.000\n",
      "..      ...     ...     ...   ...    ...   ...   ...      ...   ...\n",
      "595   1.000   1.000   1.000 0.065  9.500 0.527 0.449  420.000 1.000\n",
      "596   1.000   1.000   1.000 0.065 10.900 0.440 0.577  691.000 1.000\n",
      "597   1.000   1.000   1.000 0.067 10.500 0.632 0.407  804.000 1.000\n",
      "598   1.000   1.000   1.000 0.072 11.400 0.390 0.548  877.000 1.000\n",
      "\n",
      "[599 rows x 9 columns]\n"
     ]
    }
   ],
   "source": [
    "df_AM = df_AM[X_variables+['regi']];\n",
    "df_AM = df_AM[3:len(df_AM)];\n",
    "df_AM = df_AM.reset_index(drop=True);\n",
    "print(df_AM);"
   ]
  },
  {
   "cell_type": "code",
   "execution_count": 723,
   "metadata": {
    "collapsed": false,
    "scrolled": false
   },
   "outputs": [
    {
     "name": "stdout",
     "output_type": "stream",
     "text": [
      "Sampling number:  100\n",
      "iscorrect   0.784\n",
      "dtype: float64\n",
      "            R0    R1    R2\n",
      "22200000 0.000 0.375 0.222\n",
      "22100001 0.000 1.000 0.000\n",
      "21100000 0.000 0.625 0.107\n",
      "11100000 0.000 0.872 0.060\n",
      "...        ...   ...   ...\n",
      "22100011 0.000 0.000 1.000\n",
      "21200001 0.000 1.000 0.000\n",
      "11100011 0.000 1.000 0.000\n",
      "22200001 0.000 1.000 0.000\n",
      "\n",
      "[23 rows x 3 columns]\n",
      "            R0    R1    R2\n",
      "22200000 0.000 0.540 0.460\n",
      "22100001 0.000 0.890 0.000\n",
      "21100000 0.000 0.758 0.242\n",
      "11100000 0.000 0.904 0.096\n",
      "...        ...   ...   ...\n",
      "22100011 0.000 0.000 0.640\n",
      "21200001 0.000 0.870 0.000\n",
      "11100011 0.000 0.850 0.000\n",
      "22200001 0.000 0.650 0.000\n",
      "\n",
      "[23 rows x 3 columns]\n",
      "            R0    R1    R2\n",
      "22200000 0.000 0.778 0.625\n",
      "22100001 0.000 1.000 0.000\n",
      "21100000 0.000 0.893 0.375\n",
      "11100000 0.000 0.940 0.128\n",
      "...        ...   ...   ...\n",
      "22100011 0.000 0.000 1.000\n",
      "21200001 0.000 1.000 0.000\n",
      "11100011 0.000 1.000 0.000\n",
      "22200001 0.000 1.000 0.000\n",
      "\n",
      "[23 rows x 3 columns]\n"
     ]
    }
   ],
   "source": [
    "sample_num = 100;\n",
    "avg_accuracy = 0.;\n",
    "df_Prob_avg = pandas.DataFrame(columns=('R0','R1','R2'));\n",
    "df_Prob_min = pandas.DataFrame(columns=('R0','R1','R2'));\n",
    "df_Prob_max = pandas.DataFrame(columns=('R0','R1','R2'));\n",
    "\n",
    "# Iterate sampling and calculate average of accuracy\n",
    "for sample_count in range(0, sample_num):\n",
    "    # Sampling\n",
    "    msk = np.random.rand(len(df_AM)) <= (2./3.)\n",
    "    df_AM_train = df_AM[msk];\n",
    "    df_AM_test = df_AM[~msk];\n",
    "    #df_AM_train = df_AM_train.drop('timeofday', axis = 1);\n",
    "    #df_AM_train = df_AM_train.drop('dateofmeasure', axis = 1);\n",
    "    df_AM_train = df_AM_train.reset_index(drop=True);\n",
    "    df_AM_test = df_AM_test.reset_index(drop=True);\n",
    "    #print(df_AM_train);\n",
    "    #print(df_AM_test);\n",
    "\n",
    "    df_Result = pandas.DataFrame(columns=('R0','R1','R2','Sum'));\n",
    "    df_Prob = pandas.DataFrame(columns=('R0','R1','R2'));\n",
    "    df_Correct = pandas.DataFrame(np.zeros((len(df_AM_test), 1)), columns = ['iscorrect']);\n",
    "\n",
    "    # Counting\n",
    "    for i in range(0, len(df_AM_train)) :\n",
    "        index_str = '';\n",
    "\n",
    "        for j in range(0,3) :\n",
    "            if X_VARI_MODE == PREV_PEF_POLL or X_VARI_MODE == PREV_PEF_POLL_MAX :\n",
    "                index_str = index_str + str(int(df_AM_train.loc[i][j]));\n",
    "            elif X_VARI_MODE == CLIMATE_POLL :\n",
    "                if df_AM_train.loc[i][j] <= bound_env[j] :\n",
    "                    index_str = index_str + '0';\n",
    "                else :\n",
    "                    index_str = index_str + '1';   \n",
    "\n",
    "        for j in range(3,8) :\n",
    "            if df_AM_train.loc[i][j] <= bound_env[j] :\n",
    "                index_str = index_str + '0';\n",
    "            else :\n",
    "                index_str = index_str + '1';\n",
    "\n",
    "        if index_str not in df_Result.index :\n",
    "            df_Result.loc[index_str] = [0, 0, 0, 0];\n",
    "            df_Prob.loc[index_str] = [0., 0., 0.];\n",
    "            \n",
    "        if index_str not in df_Prob_avg.index :\n",
    "            df_Prob_avg.loc[index_str] = [0, 0, 0];\n",
    "            df_Prob_min.loc[index_str] = [1, 1, 1];\n",
    "            df_Prob_max.loc[index_str] = [0, 0, 0];\n",
    "\n",
    "        df_Result.set_value(index_str, 'Sum', df_Result.loc[index_str]['Sum']+1);\n",
    "        if df_AM_train.loc[i]['regi'] == 0 :\n",
    "            df_Result.set_value(index_str, 'R0', df_Result.loc[index_str]['R0']+1);\n",
    "        elif df_AM_train.loc[i]['regi'] == 1 :\n",
    "            df_Result.set_value(index_str, 'R1', df_Result.loc[index_str]['R1']+1);\n",
    "        else :\n",
    "            df_Result.set_value(index_str, 'R2', df_Result.loc[index_str]['R2']+1);\n",
    "\n",
    "    # Calculate Prob\n",
    "    for i in df_Result.index :\n",
    "        df_Prob.set_value(i, 'R0', df_Result.loc[i]['R0']/df_Result.loc[i]['Sum']);\n",
    "        df_Prob.set_value(i, 'R1', df_Result.loc[i]['R1']/df_Result.loc[i]['Sum']);\n",
    "        df_Prob.set_value(i, 'R2', df_Result.loc[i]['R2']/df_Result.loc[i]['Sum']);\n",
    "        \n",
    "    # Store Prob\n",
    "    for i in df_Result.index :\n",
    "        for j in ['R0', 'R1', 'R2'] :\n",
    "            if df_Prob_min.loc[i][j] > df_Prob.loc[i][j] :\n",
    "                df_Prob_min.loc[i][j] = df_Prob.loc[i][j];\n",
    "            if df_Prob_max.loc[i][j] < df_Prob.loc[i][j] :\n",
    "                df_Prob_max.loc[i][j] = df_Prob.loc[i][j];\n",
    "            df_Prob_avg.loc[i][j] = df_Prob_avg.loc[i][j] + df_Prob.loc[i][j];\n",
    "\n",
    "    # Calculate Accuracy\n",
    "    for i in range(0, len(df_AM_test)) :\n",
    "        index_str = '';\n",
    "\n",
    "        for j in range(0,3) :\n",
    "            if X_VARI_MODE == PREV_PEF_POLL or X_VARI_MODE == PREV_PEF_POLL_MAX :\n",
    "                index_str = index_str + str(int(df_AM_test.loc[i][j]));\n",
    "            elif X_VARI_MODE == CLIMATE_POLL :\n",
    "                if df_AM_test.loc[i][j] <= bound_env[j] :\n",
    "                    index_str = index_str + '0';\n",
    "                else :\n",
    "                    index_str = index_str + '1'; \n",
    "\n",
    "        for j in range(3,8) :\n",
    "            if df_AM_test.loc[i][j] <= bound_env[j] :\n",
    "                index_str = index_str + '0';\n",
    "            else :\n",
    "                index_str = index_str + '1';\n",
    "\n",
    "        if index_str not in df_Result.index :\n",
    "            df_Correct.set_value(i, 'iscorrect' , NaN);\n",
    "        else :    \n",
    "            maxN = 0;\n",
    "            maxRegi = -1;\n",
    "\n",
    "            for j in range(0,3) :\n",
    "                if maxN < df_Result.loc[index_str][j] :\n",
    "                    maxN = df_Result.loc[index_str][j];\n",
    "                    maxRegi = j;\n",
    "\n",
    "            if df_AM_test.loc[i]['regi'] == maxRegi :\n",
    "                df_Correct.set_value(i, 'iscorrect' , 1);\n",
    "\n",
    "    avg_accuracy = avg_accuracy + sum(df_Correct)/len(df_Correct);\n",
    "    \n",
    "avg_accuracy = avg_accuracy / (sample_count + 1);\n",
    "df_Prob_avg = df_Prob_avg / (sample_count + 1);\n",
    "print('Sampling number: ', sample_count + 1);\n",
    "print(avg_accuracy);\n",
    "print(df_Prob_min);\n",
    "print(df_Prob_avg);\n",
    "print(df_Prob_max); \n",
    "#print(sum(df_Correct)/len(df_Correct));\n",
    "#print(len(df_Correct) - df_Correct.count());\n",
    "#print(df_Correct.to_string());\n",
    "\n",
    "        \n",
    "#print (index, 178 * 9)\n",
    "#print(df_AM_train)\n",
    "#print(df_Result)\n",
    "#print(df_Result.to_string())\n",
    "#print(df_Prob.to_string())\n",
    "# print(df_Result[[0,1,2]].max(axis=1))\n",
    "#print(sum(df_Result[['Sum']]));"
   ]
  },
  {
   "cell_type": "code",
   "execution_count": null,
   "metadata": {
    "collapsed": true
   },
   "outputs": [],
   "source": []
  }
 ],
 "metadata": {
  "anaconda-cloud": {},
  "kernelspec": {
   "display_name": "Python [default]",
   "language": "python",
   "name": "python3"
  },
  "language_info": {
   "codemirror_mode": {
    "name": "ipython",
    "version": 3
   },
   "file_extension": ".py",
   "mimetype": "text/x-python",
   "name": "python",
   "nbconvert_exporter": "python",
   "pygments_lexer": "ipython3",
   "version": "3.5.2"
  }
 },
 "nbformat": 4,
 "nbformat_minor": 1
}
