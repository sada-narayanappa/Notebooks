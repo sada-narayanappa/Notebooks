{
 "cells": [
  {
   "cell_type": "markdown",
   "metadata": {},
   "source": [
    "# Assignment 2\n",
    "### MAT2017\n",
    "<div style=\"text-align: right\">***Hanyang University, Seoul***</div>\n",
    "<div style=\"text-align: right\">***Department of Compurter Science and Engineering***</div><br/>\n",
    "<div style=\"text-align: right\">**2016025423 박주언**</div>\n",
    "<div style=\"text-align: right\">**2016025832 이정훈**</div>"
   ]
  },
  {
   "cell_type": "markdown",
   "metadata": {},
   "source": [
    "## 1. Questions Studied\n",
    "\n",
    "**The Population:** Woodens beams produced by a Canadian company  \n",
    "**The Variable:** Bending strength of wooden beams\n",
    "\n",
    "### 1.1. The Questions\n",
    "\n",
    "We are more likely to believe the **customer** reviews.<br/><br/>\n",
    "Therefore, our questions are as follows:  \n",
    "1. The average bending strength of the wooden beams produced by the company is below $ 50 N/mm^2 $.\n",
    "2. The average bending strength of wooden beams produced in Eastern Canada is lower than that of wooden beams produced in Western Canada.\n",
    "3. The variance of bending strength of wooden beams produced in Eastern Canada is greater than that of wooden beams produced in Western Canada.\n",
    "\n",
    "### 1.2. Sample Datasets\n",
    "\n",
    "Four sample datasets of different sample sizes were drawn from the population using the simple random sampling method:\n",
    "- **douglas_data_50.csv** - a sample of size 50 from the population of wooden beams produced in 360 locations, in Eastern and Western Canada.\n",
    "- **douglas_data_20.csv** - a sample of size 20 from the population of wooden beams produced in 360 locations, in Eastern and Western Canada.\n",
    "- **douglas_eastern_data_42.csv** - a sample of size 42 from the population of wooden beams produced in 210 locations in Eastern Canada.\n",
    "- **douglas_western_data_30.csv** - a sample of size 30 (rom the population of wooden beams produced in 150 locations in Western Canada.\n"
   ]
  },
  {
   "cell_type": "markdown",
   "metadata": {},
   "source": [
    "### 1.3. Sample Data Distribution"
   ]
  },
  {
   "cell_type": "code",
   "execution_count": 1,
   "metadata": {
    "collapsed": true
   },
   "outputs": [],
   "source": [
    "import numpy as np\n",
    "import matplotlib.pyplot as plt\n",
    "\n",
    "import scipy.special as sp\n",
    "import numpy.random as rnd\n",
    "\n",
    "from pandas import read_csv"
   ]
  },
  {
   "cell_type": "markdown",
   "metadata": {},
   "source": [
    "#### 1.3.1. A sample of size 50 from the population of wooden beams produced in 360 locations, in Eastern and Western Canada\n",
    "\n",
    "- Graphical Analysis of Sample Data"
   ]
  },
  {
   "cell_type": "code",
   "execution_count": 2,
   "metadata": {
    "collapsed": false
   },
   "outputs": [
    {
     "name": "stdout",
     "output_type": "stream",
     "text": [
      "Sample Mean:  49.03220000000001\n",
      "Standard Deviation of Sample:  14.222701211622987\n",
      "\n",
      "\n",
      "count    50.000000\n",
      "mean     49.032200\n",
      "std      14.222701\n",
      "min      16.330000\n",
      "25%      38.237500\n",
      "50%      50.250000\n",
      "75%      58.837500\n",
      "max      86.850000\n",
      "Name: bstrength, dtype: float64\n",
      "\n",
      "\n"
     ]
    },
    {
     "data": {
      "image/png": "[encoded data removed]",
      "text/plain": [
       "<matplotlib.figure.Figure at 0x8625850>"
      ]
     },
     "metadata": {},
     "output_type": "display_data"
    },
    {
     "data": {
      "image/png": "[encoded data removed]",
      "text/plain": [
       "<matplotlib.figure.Figure at 0x967d590>"
      ]
     },
     "metadata": {},
     "output_type": "display_data"
    }
   ],
   "source": [
    "data = read_csv('douglas_data_50.csv', skiprows=[1], skipinitialspace=True)\n",
    "N = len(data.bstrength)\n",
    "xbar = np.mean(data.bstrength)\n",
    "sig = np.std(data.bstrength, ddof=1)\n",
    "print('Sample Mean: ', xbar)\n",
    "print('Standard Deviation of Sample: ', sig)\n",
    "print('\\n')\n",
    "\n",
    "print(data.bstrength.describe())\n",
    "print('\\n')\n",
    "\n",
    "plt.figure()\n",
    "plt.boxplot(data.bstrength)\n",
    "plt.ylim(0, 100)\n",
    "plt.show()\n",
    "\n",
    "plt.figure()\n",
    "plt.hist(data.bstrength, normed=True)\n",
    "plt.xlim(0,100)\n",
    "plt.show()"
   ]
  },
  {
   "cell_type": "markdown",
   "metadata": {},
   "source": [
    "- Discussion of the Shape of Data\n",
    "\n",
    "Seeing the boxplot above, you can see that the median is close to 50, yet the distance between the median and the first quartile is bigger than the distance between the median and the third quartile, so we can approximatly guess the mean is smaller than 50.\n",
    "\n",
    "The histogram shown up is not really symmetric. It's left part to middle part goes up constantly, but the middle part to right part goes down quickly. To be short, it is skewed to left. Although the middle part of the histogram is big and other is small, there is no confidence that we can approximate it to normal distribution."
   ]
  },
  {
   "cell_type": "markdown",
   "metadata": {},
   "source": [
    "#### 1.3.2. A sample of size 20 from the population of wooden beams produced in 360 locations, in Eastern and Western Canada\n",
    "\n",
    "- Graphical Analysis of Sample Data"
   ]
  },
  {
   "cell_type": "code",
   "execution_count": 3,
   "metadata": {
    "collapsed": false
   },
   "outputs": [
    {
     "name": "stdout",
     "output_type": "stream",
     "text": [
      "Sample Mean:  49.3275\n",
      "Standard Deviation of Sample:  17.33832684060313\n",
      "\n",
      "\n",
      "count    20.000000\n",
      "mean     49.327500\n",
      "std      17.338327\n",
      "min      23.080000\n",
      "25%      35.205000\n",
      "50%      49.030000\n",
      "75%      64.492500\n",
      "max      74.240000\n",
      "Name: bstrength, dtype: float64\n",
      "\n",
      "\n"
     ]
    },
    {
     "data": {
      "image/png": "[encoded data removed]",
      "text/plain": [
       "<matplotlib.figure.Figure at 0x8625a50>"
      ]
     },
     "metadata": {},
     "output_type": "display_data"
    },
    {
     "data": {
      "image/png": "[encoded data removed]",
      "text/plain": [
       "<matplotlib.figure.Figure at 0x9796810>"
      ]
     },
     "metadata": {},
     "output_type": "display_data"
    }
   ],
   "source": [
    "data = read_csv('douglas_data_20.csv', skiprows=[1], skipinitialspace=True)\n",
    "N = len(data.bstrength)\n",
    "xbar = np.mean(data.bstrength)\n",
    "sig = np.std(data.bstrength, ddof=1)\n",
    "print('Sample Mean: ', xbar)\n",
    "print('Standard Deviation of Sample: ', sig)\n",
    "print('\\n')\n",
    "\n",
    "print(data.bstrength.describe())\n",
    "print('\\n')\n",
    "\n",
    "plt.figure()\n",
    "plt.boxplot(data.bstrength)\n",
    "plt.ylim(0, 100)\n",
    "plt.show()\n",
    "\n",
    "plt.figure()\n",
    "plt.hist(data.bstrength, normed=True)\n",
    "plt.xlim(0,100)\n",
    "plt.show()"
   ]
  },
  {
   "cell_type": "markdown",
   "metadata": {},
   "source": [
    "- Discussion of the Shape of Data\n",
    "\n",
    " Seeing the boxplot above, the median looks less than 50, and the first quartile and third quartile's distance between the median looks quite same.\n",
    "\n",
    " The histogram of the data shown above is not really symmetric.  \n",
    " Although the middle part of the histogram is big and other is small, there is no confidence that we can approximate it to normal distribution. "
   ]
  },
  {
   "cell_type": "markdown",
   "metadata": {},
   "source": [
    "#### 1.3.3. A sample of size 42 from the population of wooden beams produced in 210 locations in Eastern Canada\n",
    "\n",
    "- Graphical Analysis of Sample Data"
   ]
  },
  {
   "cell_type": "code",
   "execution_count": 4,
   "metadata": {
    "collapsed": false,
    "scrolled": false
   },
   "outputs": [
    {
     "name": "stdout",
     "output_type": "stream",
     "text": [
      "Sample Mean:  52.09357142857142\n",
      "Standard Deviation of Sample:  16.56484682538393\n",
      "\n",
      "\n",
      "count    42.000000\n",
      "mean     52.093571\n",
      "std      16.564847\n",
      "min      21.770000\n",
      "25%      37.972500\n",
      "50%      50.355000\n",
      "75%      64.295000\n",
      "max      86.850000\n",
      "Name: bstrength, dtype: float64\n",
      "\n",
      "\n"
     ]
    },
    {
     "data": {
      "image/png": "[encoded data removed]",
      "text/plain": [
       "<matplotlib.figure.Figure at 0x8616c10>"
      ]
     },
     "metadata": {},
     "output_type": "display_data"
    },
    {
     "data": {
      "image/png": "[encoded data removed]",
      "text/plain": [
       "<matplotlib.figure.Figure at 0x97131d0>"
      ]
     },
     "metadata": {},
     "output_type": "display_data"
    }
   ],
   "source": [
    "data = read_csv('douglas_eastern_data_42.csv', skiprows=[1], skipinitialspace=True)\n",
    "N = len(data.bstrength)\n",
    "xbar = np.mean(data.bstrength)\n",
    "sig = np.std(data.bstrength, ddof=1)\n",
    "print('Sample Mean: ', xbar)\n",
    "print('Standard Deviation of Sample: ', sig)\n",
    "print('\\n')\n",
    "\n",
    "print(data.bstrength.describe())\n",
    "print('\\n')\n",
    "\n",
    "plt.figure()\n",
    "plt.boxplot(data.bstrength)\n",
    "plt.ylim(0, 100)\n",
    "plt.show()\n",
    "\n",
    "plt.figure()\n",
    "plt.hist(data.bstrength, normed=True)\n",
    "plt.xlim(0,100)\n",
    "plt.show()"
   ]
  },
  {
   "cell_type": "markdown",
   "metadata": {},
   "source": [
    "- Discussion of the Shape of Data\n",
    "\n",
    "This shape of data shown up is not really symmetric, but it looks quite symmetric than the previous one: the middle part is big, and the left part goes up constantly and right part goes down constantly, yet the right end gets big. So there is a little possibility that we can approximate it to normal distribution."
   ]
  },
  {
   "cell_type": "markdown",
   "metadata": {},
   "source": [
    "#### 1.3.4. A sample of size 30 (rom the population of wooden beams produced in 150 locations in Western Canada\n",
    "\n",
    "- Graphical Analysis of Sample Data"
   ]
  },
  {
   "cell_type": "code",
   "execution_count": 5,
   "metadata": {
    "collapsed": false,
    "scrolled": false
   },
   "outputs": [
    {
     "name": "stdout",
     "output_type": "stream",
     "text": [
      "Sample Mean:  43.28166666666666\n",
      "Standard Deviation of Sample:  16.77620874587156\n",
      "\n",
      "\n",
      "count    30.000000\n",
      "mean     43.281667\n",
      "std      16.776209\n",
      "min      16.250000\n",
      "25%      32.065000\n",
      "50%      41.970000\n",
      "75%      50.900000\n",
      "max      91.800000\n",
      "Name: bstrength, dtype: float64\n",
      "\n",
      "\n"
     ]
    },
    {
     "data": {
      "image/png": "[encoded data removed]",
      "text/plain": [
       "<matplotlib.figure.Figure at 0x9652710>"
      ]
     },
     "metadata": {},
     "output_type": "display_data"
    },
    {
     "data": {
      "image/png": "[encoded data removed]",
      "text/plain": [
       "<matplotlib.figure.Figure at 0x980f530>"
      ]
     },
     "metadata": {},
     "output_type": "display_data"
    }
   ],
   "source": [
    "data = read_csv('douglas_western_data_30.csv', skiprows=[1], skipinitialspace=True)\n",
    "N = len(data.bstrength)\n",
    "xbar = np.mean(data.bstrength)\n",
    "sig = np.std(data.bstrength, ddof=1)\n",
    "print('Sample Mean: ', xbar)\n",
    "print('Standard Deviation of Sample: ', sig)\n",
    "print('\\n')\n",
    "\n",
    "print(data.bstrength.describe())\n",
    "print('\\n')\n",
    "\n",
    "plt.figure()\n",
    "plt.boxplot(data.bstrength)\n",
    "plt.ylim(0, 100)\n",
    "plt.show()\n",
    "\n",
    "plt.figure()\n",
    "plt.hist(data.bstrength, normed=True)\n",
    "plt.xlim(0,100)\n",
    "plt.show()"
   ]
  },
  {
   "cell_type": "markdown",
   "metadata": {},
   "source": [
    "- Discussion of the Shape of Data\n",
    "\n",
    "This shape of data shown up is not really symmetric.\n",
    "Although the middle part of the histogram is big and other is small, there is no confidence that we can approximate it to normal distribution."
   ]
  },
  {
   "cell_type": "markdown",
   "metadata": {},
   "source": [
    "## 2. Statistical Tests\n",
    "\n",
    "### *Significant Level*\n",
    "\n",
    "Significant Level: **$ \\alpha = 0.05 $.**\n",
    "\n",
    "### Q1. the average of bending strength of wooden beams"
   ]
  },
  {
   "cell_type": "markdown",
   "metadata": {},
   "source": [
    "#### (1) The null and alternative hypothesis\n",
    "\n",
    "$H_0 : \\mu = 50$  \n",
    "$H_a : \\mu < 50$\n",
    "\n",
    "#### (2) Performing the hypothesis test\n",
    "\n",
    "##### (2-1). z-test on large sample data (50 samples)"
   ]
  },
  {
   "cell_type": "code",
   "execution_count": 6,
   "metadata": {
    "collapsed": false
   },
   "outputs": [
    {
     "name": "stdout",
     "output_type": "stream",
     "text": [
      "z-statistic:  -0.481158911131\n",
      "p-value:  0.315201780584\n"
     ]
    },
    {
     "data": {
      "image/png": "[encoded data removed]",
      "text/plain": [
       "<matplotlib.figure.Figure at 0x9699a30>"
      ]
     },
     "metadata": {},
     "output_type": "display_data"
    }
   ],
   "source": [
    "from scipy.stats import norm\n",
    "\n",
    "data = read_csv('douglas_data_50.csv', skiprows=[1], skipinitialspace=True)\n",
    "N = len(data.bstrength)\n",
    "xbar = np.mean(data.bstrength)\n",
    "sig = np.std(data.bstrength, ddof=1)\n",
    "\n",
    "mu0 = 50\n",
    "alpha = 0.05\n",
    "\n",
    "zstat = (xbar - mu0) / (sig/np.sqrt(N))\n",
    "print('z-statistic: ', zstat)\n",
    "pval = norm.cdf(zstat)\n",
    "print('p-value: ', pval)\n",
    "\n",
    "x = np.linspace(0,100,100)\n",
    "y = norm.pdf(x, loc=mu0, scale=sig)\n",
    "plt.plot(x,y)\n",
    "\n",
    "perc05 = norm.ppf(alpha, loc=mu0, scale=sig)\n",
    "plt.axvline(perc05, color='r')\n",
    "plt.axvline(xbar, color='k', lw=2)\n",
    "\n",
    "if pval <= alpha:\n",
    "    plt.title('Enough evidence to reject H0')\n",
    "else:\n",
    "    plt.title('Not enough evidence to reject H0')\n",
    "    \n",
    "plt.show()"
   ]
  },
  {
   "cell_type": "markdown",
   "metadata": {},
   "source": [
    "##### (2-2). t-test on small sample data (20 samples)"
   ]
  },
  {
   "cell_type": "code",
   "execution_count": 7,
   "metadata": {
    "collapsed": false
   },
   "outputs": [
    {
     "name": "stdout",
     "output_type": "stream",
     "text": [
      "t-statistic:  -0.173460303141\n",
      "p-value:  0.432062148081\n",
      "This is the verificaton of alpha value:  0.05\n"
     ]
    },
    {
     "data": {
      "image/png": "[encoded data removed]",
      "text/plain": [
       "<matplotlib.figure.Figure at 0x9a55150>"
      ]
     },
     "metadata": {},
     "output_type": "display_data"
    }
   ],
   "source": [
    "from scipy.stats import t\n",
    "\n",
    "data = read_csv('douglas_data_20.csv', skiprows=[1], skipinitialspace=True)\n",
    "N = len(data.bstrength)\n",
    "xbar = np.mean(data.bstrength)\n",
    "sig = np.std(data.bstrength, ddof=1)\n",
    "\n",
    "mu0 = 50\n",
    "alpha = 0.05\n",
    "dof = N - 1\n",
    "\n",
    "tstat = (xbar - mu0) / (sig/np.sqrt(N))\n",
    "print('t-statistic: ', tstat)\n",
    "\n",
    "pval = t.sf(np.abs(tstat), N-1) \n",
    "print('p-value: ', pval)\n",
    "\n",
    "x = np.linspace(0,100,100)\n",
    "y = t.pdf(x, dof, loc=mu0, scale=sig)\n",
    "plt.plot(x,y)\n",
    "\n",
    "\n",
    "perc05 = t.ppf(alpha, dof, loc=mu0, scale=sig)\n",
    "calAlpha = t.cdf(perc05, dof, loc=mu0, scale=sig)\n",
    "print ('This is the verificaton of alpha value: ', calAlpha)\n",
    "\n",
    "plt.axvline(perc05, color='r')\n",
    "plt.axvline(xbar, color='k', lw=2)\n",
    "\n",
    "\n",
    "if pval < alpha:\n",
    "    plt.title('enough evidence to reject H0')\n",
    "else:\n",
    "    plt.title('Not enough evidence to reject H0')\n",
    "    \n",
    "plt.show()"
   ]
  },
  {
   "cell_type": "markdown",
   "metadata": {},
   "source": [
    "#### (3) Report findings\n",
    "\n",
    "1. As you see the Z-test above, you can find that the p-value is greater than the $\\alpha$ value. As a, result, this show you that there is not enough evidence to reject $H_0$.  \n",
    " We guess the reason why it did not give enought evidence to reject $H_0$ is because the data could not be approximated to normal distribution.\n",
    "\n",
    "2. Seeing the T-test above, since the p-value is lower than alpha value, it does not give the evidence to reject $H_0$.\n",
    " And we guess the reason why it did not give enought evidence to reject $H_0$ is because the data was not symmetric and it could not be approximated to normal distribution.\n",
    " So we could say that the sample mean is not different from the population mean."
   ]
  },
  {
   "cell_type": "markdown",
   "metadata": {},
   "source": [
    "### Q2. the difference between the averages of bending strength of Eastern wooden beams and Western wooden beams\n",
    "\n",
    "#### (1) The null and alternative hypothesis\n",
    "\n",
    "$H_0 : \\mu_E = \\mu_W$  \n",
    "$H_a : \\mu_E > \\mu_W$\n",
    "\n",
    "#### (2) Performing the hypothesis test\n",
    "\n",
    "##### (2-1) z-test on sample datasets from two populations"
   ]
  },
  {
   "cell_type": "code",
   "execution_count": 8,
   "metadata": {
    "collapsed": false
   },
   "outputs": [
    {
     "name": "stdout",
     "output_type": "stream",
     "text": [
      "z-statistic:  2.20888133315\n",
      "p-value:  0.986408552047\n"
     ]
    },
    {
     "data": {
      "image/png": "[encoded data removed]",
      "text/plain": [
       "<matplotlib.figure.Figure at 0x9ae5e90>"
      ]
     },
     "metadata": {},
     "output_type": "display_data"
    }
   ],
   "source": [
    "data1 = read_csv('douglas_eastern_data_42.csv', skiprows=[1], skipinitialspace=True)\n",
    "N1 = len(data1.bstrength)\n",
    "x1bar = np.mean(data1.bstrength)\n",
    "sig1 = np.std(data1.bstrength, ddof=1)\n",
    "\n",
    "data2 = read_csv('douglas_western_data_30.csv', skiprows=[1], skipinitialspace=True)\n",
    "N2 = len(data2.bstrength)\n",
    "x2bar = np.mean(data2.bstrength)\n",
    "sig2 = np.std(data2.bstrength, ddof=1)\n",
    "\n",
    "mu0 = 50\n",
    "delta = 0\n",
    "alpha = 1 - 0.05\n",
    "\n",
    "zstat = (x1bar - x2bar - delta) / np.sqrt((pow(sig1, 2)/N1) + (pow(sig2, 2)/N2))\n",
    "print('z-statistic: ', zstat)\n",
    "pval = norm.cdf(zstat)\n",
    "print('p-value: ', pval)\n",
    "\n",
    "x = np.linspace(0,100,100)\n",
    "y = norm.pdf(x, loc=mu0, scale=sig)\n",
    "plt.plot(x,y)\n",
    "\n",
    "perc05 = norm.ppf(alpha, loc=mu0, scale=sig)\n",
    "plt.axvline(perc05, color='r')\n",
    "plt.axvline(x1bar, color='k', lw=2)\n",
    "plt.axvline(x2bar, color='b', lw=2)\n",
    "\n",
    "if pval > alpha:\n",
    "    plt.title('Enough evidence to reject H0')\n",
    "else:\n",
    "    plt.title('Not enough evidence to reject H0')\n",
    "    \n",
    "plt.show()"
   ]
  },
  {
   "cell_type": "markdown",
   "metadata": {},
   "source": [
    "#### (3) Report findings\n",
    "\n",
    "The shape of data shown up in 1.3.3 looks quite symmetric and there are some possibilities that we can approximate it to normal distribution. And as seen above, since the p-value is bigger than alpha value there is enough evidence to reject null hypothesis.  \n",
    "As a result, we can say that the mean value of eastern wooden beams is bigger than the western one, since we can say the alternate hypothesis is more likely."
   ]
  },
  {
   "cell_type": "markdown",
   "metadata": {},
   "source": [
    "### Q3. the difference between the variances of bending strength of Eastern wooden beams and Western wooden beams\n",
    "\n",
    "#### (1) The null and alternative hypothesis\n",
    "\n",
    "$H_0 : \\sigma_E^2 = \\sigma_W^2$  \n",
    "$H_a : \\sigma_E^2 > \\sigma_W^2$\n",
    "\n",
    "#### (2) Performing the hypothesis test\n",
    "\n",
    "##### (2-1) F-test on sample datasets from two populations"
   ]
  },
  {
   "cell_type": "code",
   "execution_count": 9,
   "metadata": {
    "collapsed": false
   },
   "outputs": [
    {
     "name": "stdout",
     "output_type": "stream",
     "text": [
      "sample mean, standard deviation of sample mean for Population A:  52.09357142857142 16.56484682538393\n",
      "sample mean, standard deviation of sample mean for Population B:  43.28166666666666 16.77620874587156\n",
      "F-statistic:  0.9845664415755633\n",
      "p-value:  0.474201880616\n",
      "Not enough evidence to reject H\n"
     ]
    }
   ],
   "source": [
    "from scipy.stats import f\n",
    "\n",
    "data1 = read_csv('douglas_eastern_data_42.csv', skiprows=[1], skipinitialspace=True)\n",
    "N1 = len(data1.bstrength)\n",
    "xbar1 = np.mean(data1.bstrength)\n",
    "sig1 = np.std(data1.bstrength, ddof=1)\n",
    "\n",
    "data2 = read_csv('douglas_western_data_30.csv', skiprows=[1], skipinitialspace=True)\n",
    "N2 = len(data2.bstrength)\n",
    "xbar2 = np.mean(data2.bstrength)\n",
    "sig2 = np.std(data2.bstrength, ddof=1)\n",
    "\n",
    "print('sample mean, standard deviation of sample mean for Population A: ',xbar1, sig1)\n",
    "print('sample mean, standard deviation of sample mean for Population B: ', xbar2, sig2)\n",
    "\n",
    "alpha = 0.05\n",
    "dof1 = N1 - 1\n",
    "dof2 = N2 - 1\n",
    "\n",
    "Fstat = np.var(data1.bstrength) / np.var(data2.bstrength)\n",
    "\n",
    "single_tailed_pval = f.cdf(Fstat, dof1, dof2)\n",
    "\n",
    "print('F-statistic: ', Fstat)\n",
    "print('p-value: ', single_tailed_pval)\n",
    "\n",
    "if single_tailed_pval < 0.05:\n",
    "    print ('Enough evidence to reject H0')\n",
    "else:\n",
    "    print ('Not enough evidence to reject H')"
   ]
  },
  {
   "cell_type": "markdown",
   "metadata": {},
   "source": [
    "#### (3) Report findings\n",
    "\n",
    "The F-test show if there is a difference of standard deviations between two samples.\n",
    "\n",
    "The subtraction of two standard deviation from sample data is very small (about 0.2). It shows that the variance of populations would also has small differences.\n",
    "By doing F-test, we can see p-value is much greater than $\\alpha$ value.  \n",
    "\n",
    "Therefore, it is not enough to reject null hypothesis."
   ]
  }
 ],
 "metadata": {
  "kernelspec": {
   "display_name": "Python [default]",
   "language": "python",
   "name": "python3"
  },
  "language_info": {
   "codemirror_mode": {
    "name": "ipython",
    "version": 3
   },
   "file_extension": ".py",
   "mimetype": "text/x-python",
   "name": "python",
   "nbconvert_exporter": "python",
   "pygments_lexer": "ipython3",
   "version": "3.5.2"
  }
 },
 "nbformat": 4,
 "nbformat_minor": 2
}
