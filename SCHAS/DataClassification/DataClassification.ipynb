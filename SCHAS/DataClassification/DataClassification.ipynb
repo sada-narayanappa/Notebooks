{
 "cells": [
  {
   "cell_type": "code",
   "execution_count": 218,
   "metadata": {
    "collapsed": false
   },
   "outputs": [
    {
     "data": {
      "text/html": [
       "<style>\n",
       "body {\n",
       "    font-family: \"Lucida Grande\", \"Lucida Sans Unicode\", verdana, geneva, sans-serif;\n",
       "    font-size: 10pt;\n",
       "}\n",
       "\n",
       "CodeMirror-gutters {\n",
       "    border-right: 0px solid #ddd;\n",
       "    background-color: #f7f7f7;\n",
       "    white-space: nowrap;\n",
       "}\n",
       "\n",
       "div.output_subarea {\n",
       "    padding: 0.4em;\n",
       "    max-width: calc(100% - 0ex);\n",
       "    border: 0px black solid;\n",
       "}\n",
       "\n",
       "\n",
       "div#notebook{\n",
       "    font-size: 12px;    \n",
       "}\n",
       ".CodeMirror {\n",
       "    font-size: 12px;\n",
       "}    \n",
       "    \n",
       ".imgs {\n",
       "    width: 250px;\n",
       "    align: left;\n",
       "    float: left;\n",
       "    padding-right: 50px;\n",
       "    padding-top: 20px;\n",
       "    border: 0px gray;\n",
       "}\n",
       ".imgs1 {\n",
       "    align: left;\n",
       "    float: left;\n",
       "    padding-right: 50px;\n",
       "    padding-top: 20px;\n",
       "    border-top: 1px solid gray;\n",
       "    border-bottom: 1px solid gray;\n",
       "    margin-right: 50px;\n",
       "}\n",
       "hr {\n",
       "    height:3px;\n",
       "    border:none;\n",
       "    color:#333;\n",
       "    background-color:#333;\"\n",
       "}\n",
       "p {\n",
       "  margin: 10px auto;\n",
       "  padding: 6px 10px;\n",
       "  font-weight: 300;\n",
       "  font-size: 16px;\n",
       "  line-height: 1.4;\n",
       "}\n",
       "\n",
       "h1 {\n",
       "    margin: 20px auto 0px;\n",
       "    padding: 0 10px;\n",
       "    text-align: center;\n",
       "    font-size: 80px;\n",
       "    font-weight: 300;\n",
       "    mmax-width: 800px;\n",
       "}\n",
       "\n",
       "h4 {\n",
       "  max-width: 800px;\n",
       "  margin: 0 auto;\n",
       "  padding: 10px 10px;\n",
       "  font-family: sans-serif;\n",
       "}\n",
       "\n",
       "h5 {\n",
       "    padding-top: 8px;\n",
       "    padding-botton: 8px;\n",
       "    border-top:    1px solid gray;\n",
       "    border-bottom: 2px solid gray;\n",
       "}\n",
       "\n",
       "h6 {\n",
       "    padding-top: 14px;\n",
       "    padding-botton: 16px;\n",
       "    border-top:    2px solid #cccccc;\n",
       "    border-bottom: 2px solid #cccccc;\n",
       "}\n",
       "\n",
       ".thumbnail  {\n",
       "\tposition: relative;\n",
       "\tfloat: left;\n",
       "\tpadding: 0px;\n",
       "\tz-index: 3;\n",
       "}\n",
       "\n",
       ".thumbnail:hover {\n",
       "\tbackground-color: #e9e9e2;\n",
       "\tcolor: #335500;\n",
       "\ttext-decoration: none;\n",
       "}\n",
       "\n",
       ".thumbnail span { /*CSS for enlarged image*/\n",
       "\tposition: fixed;\n",
       "    opacity: 1.5;\n",
       "    background-color: #e5e5e5; \n",
       "\tpadding: 5px;\n",
       "\tborder: 1px solid #666;\n",
       "\tvisibility: hidden;\n",
       "\tcolor: black;\n",
       "\ttext-decoration: none;\n",
       "\ttop:  150px; /* use IF IE6 style to correct IE6 positions of larger image relative to thumb */\n",
       "\tright: 50px;/*position where enlarged image should offset horizontally */\n",
       "\tz-index: 9999;\n",
       "    filter: alpha(opacity=100); \n",
       "}\n",
       "\n",
       ".thumbnail:hover span { /*CSS for enlarged image on hover*/\n",
       "\tvisibility: visible; \n",
       "\twidth: 500px;\n",
       "}\n",
       "    \n",
       ".container { width: 100% !important; }\n",
       "    div.cell{\n",
       "        width:100%;\n",
       "        margin-left:0%;\n",
       "        margin-right:auto;\n",
       "}\n",
       "    \n",
       "div.prompt {display: none}\n",
       "\n",
       ".prompt {\n",
       "    min-width: 4ex;\n",
       "    height: 20%;\n",
       "}\n",
       "    \n",
       ".CodeMirror-gutters {\n",
       "    border-bottom-left-radius: 2px;\n",
       "    border-top-left-radius: 2px;\n",
       "    border-left: 5px solid #336699;\n",
       "}\n",
       "\n",
       "\n",
       "</style>\n",
       "\n",
       "<!--\n",
       "<script type=\"text/javascript\" src=\"http://ajax.googleapis.com/ajax/libs/jquery/1.3/jquery.min.js\"></script>\n",
       "<-->\n",
       "<script src=\"https://ajax.googleapis.com/ajax/libs/angularjs/1.5.7/angular.min.js\"></script>\n",
       "    \n",
       "<script>\n",
       "function log(e) {\n",
       "    console.log(e)\n",
       "    \n",
       "}\n",
       "\n",
       "function toggleDiv(divId) {\n",
       "   $(\"#\"+divId).toggle();\n",
       "\n",
       "}\n",
       "</script>"
      ],
      "text/plain": [
       "<IPython.core.display.HTML object>"
      ]
     },
     "metadata": {},
     "output_type": "display_data"
    },
    {
     "data": {
      "application/javascript": [
       "//IPython.notebook.execute_cell_and_select_below()\n",
       "\n",
       "IPython.keyboard_manager.edit_shortcuts.add_shortcut('alt-enter', {\n",
       "    help : \"run cell and keep focus\", //This is optional\n",
       "    handler : function (event) {\n",
       "        //console.log(\"sada\")\n",
       "        //IPython.notebook.execute_cell_and_select_below();\n",
       "        IPython.notebook.execute_cell();\n",
       "        //IPython.notebook.select_next();\n",
       "        \n",
       "        return false;\n",
       "    }}\n",
       ");\n",
       "IPython.keyboard_manager.edit_shortcuts.add_shortcut('ctrl-enter', {\n",
       "    help : \"run cell and keep focus\", //This is optional\n",
       "    handler : function (event) {\n",
       "        IPython.notebook.execute_cell();\n",
       "        IPython.notebook.edit_mode();\n",
       "        return false;\n",
       "    }}\n",
       ");\n",
       "\n",
       "function launch_first_cell (evt) {\n",
       "    $(\"div *\").attr('disabled', true);\n",
       "}\n",
       "\n",
       "if (window.location.href.indexOf(\"10000\") >=0 ) {\n",
       "    console.log(\"read only mode\")\n",
       "    $(\"#header\").css({\"display\": \"none\"})\n",
       "    //$(\"#menubar-container\").css({\"display\": \"none\"})\n",
       "    $(\"#notebook\").css({\"padding-top\": \"0\"})\n",
       "    $(\"#header-container\").html( \n",
       "        \"<div style={'background-color: gray; height: 40px; font-size:12px; font:100%'}> </div>\"\n",
       "    )\n",
       "    $(\"div.cell.selected *\").attr('border-color', 'None');\n",
       "    \n",
       "    $(\"div *\").attr('disabled', true);\n",
       "    //run_control.read_only = true \n",
       "    $( document ).ready(function() {\n",
       "        $(\"div *\").attr('disabled', true);\n",
       "    });\n",
       "    $([IPython.events]).on('kernel_ready.Kernel kernel_created.Session notebook_loaded.Notebook', launch_first_cell);\n",
       "}"
      ],
      "text/plain": [
       "<IPython.core.display.Javascript object>"
      ]
     },
     "metadata": {},
     "output_type": "display_data"
    }
   ],
   "source": [
    "%run \"../../PyUtils/common.ipynb\"\n",
    "import sklearn"
   ]
  },
  {
   "cell_type": "code",
   "execution_count": 219,
   "metadata": {
    "collapsed": false
   },
   "outputs": [
    {
     "name": "stdout",
     "output_type": "stream",
     "text": [
      "     cname ampm timeofday dateofmeasure    pef1    pef2    pef3  pefmax indexpef   so2     co    o3   no2     pm10  so2poi  copoi  o3poi  no2poi  pm10poi  temperaturec  rainfallmm  windspeedms  precipitationpercent  vaporpressurehpa  dewpointtemperaturec  airpressurehpa  sealevelpressurehpa  groundtemperaturec  temperaturecpoi  rainfallmmpoi  windspeedmspoi  precipitationpercentpoi  vaporpressurehpapoi  dewpointtemperaturecpoi  airpressurehpapoi  sealevelpressurehpapoi  groundtemperaturecpoi  winddirection  winddirectionpoi   tmax     amax    pmax    tmin     amin   pmin  tmode    amode   pmode  tmaxlesstmin  amaxlessamin  pmaxlesspmin  tmaxpoi  amaxpoi  pmaxpoi  tminpoi  aminpoi  pminpoi  tmodepoi  amodepoi  pmodepoi  tmaxlesstminpoi  amaxlessaminpoi  pmaxlesspminpoi  so2max  so2maxtime  so2min  so2mintime  comax  comaxtime  comin  comintime  o3max  o3maxtime  o3min  o3mintime  no2max  no2maxtime  no2min  no2mintime  pm10max  pm10maxtime  pm10min  pm10mintime  so2maxpoi  \\\n",
      "0     kimj   am  05:47:00    2015-02-05 121.000  98.000 112.000 121.000        R 0.216 29.800 0.407 1.264 2168.000   0.309 30.200  0.321   1.185 2490.000        -1.900       0.981        1.800                68.000             3.600                -7.000        1018.000             1022.400              -1.800           -1.900          1.008           2.500                   96.000                5.100                   -2.400           1013.500                1022.600                  0.000            320           340.000  5.100 1020.900  99.000  -4.400 1000.000 36.000  0.300 1017.900  98.000         9.500        20.900        63.000    4.200 1015.900   99.000   -2.300 1000.000   66.000     1.300  1015.700    99.000            6.500           15.900           33.000   0.014      13.000   0.004       5.000  1.800     22.000  0.900     15.000  0.037     17.000  0.002      4.000   0.084      10.000   0.020       2.000  141.000       21.000   62.000        7.000      0.019   \n",
      "1     kimj   am  06:09:00    2015-02-06  85.000  75.000  68.000  85.000        R 0.241 19.400 0.618 0.889 2127.000   0.279 22.100  0.395   1.087 2495.000        -4.700       0.981        0.500                93.000             4.000                -5.600        1021.900             1026.300              -2.800           -2.500          1.008           0.900                   79.000                4.000                   -5.600           1016.800                1026.000                 -0.600            110           290.000  4.700 1021.900  91.000  -4.400 1000.000 42.000  1.200 1021.500  45.000         9.100        21.900        49.000    3.500 1017.100   93.000   -2.600 1000.000   62.000    -2.200  1014.400    79.000            6.100           17.100           31.000   0.018      11.000   0.006      20.000  1.100     11.000  0.500      4.000  0.041     14.000  0.006      9.000   0.057       9.000   0.015       3.000  125.000       12.000   57.000        4.000      0.018   \n",
      "2     kimj   am  06:34:00    2015-02-07 113.000 123.000 114.000 123.000        R 0.168 17.600 0.275 1.166 1262.000   0.244 20.900  0.229   1.179 1720.918        -1.900       0.981        0.800                91.000             4.900                -3.100        1018.900             1023.300              -1.300            0.300          1.008           2.300                   97.000                6.100                   -0.100           1013.900                1023.000                  0.100            200           200.000  6.100 1023.000  94.000  -4.700 1000.000 44.000 -1.900 1021.400  92.000        10.800        23.000        50.000    4.200 1018.000   96.000   -2.800 1000.000   67.000     0.300  1016.700    81.000            7.000           18.000           29.000   0.012      10.000   0.004      19.000  1.300      9.000  0.400     14.000  0.033     15.000  0.002     22.000   0.069       9.000   0.019      15.000   81.000        9.000   34.000       17.000      0.015   \n",
      "3     kimj   am  09:26:00    2015-02-08  98.000 104.000 128.000 128.000        R 0.152 11.700 0.669 0.498 1683.000   0.223 14.000  0.455   0.703 1527.000        -9.800       0.981        4.600                33.000             1.000               -23.000        1022.700             1027.200              -4.100          -11.100          1.008           6.800                   48.000                1.300                  -19.900           1018.200                1027.700                 -3.100            320           360.000  5.100 1022.200  86.000 -10.400 1000.000 32.000  5.100 1015.600  32.000        15.500        22.200        54.000    5.700 1017.500   99.000  -11.200 1000.000   45.000     3.800  1010.800    96.000           16.900           17.500           54.000   0.012      11.000   0.002       7.000  1.300      9.000  0.200      2.000  0.040     17.000  0.003      9.000   0.072       9.000   0.002       3.000  174.000        8.000   30.000       12.000      0.014   \n",
      "...    ...  ...       ...           ...     ...     ...     ...     ...      ...   ...    ...   ...   ...      ...     ...    ...    ...     ...      ...           ...         ...          ...                   ...               ...                   ...             ...                  ...                 ...              ...            ...             ...                      ...                  ...                      ...                ...                     ...                    ...            ...               ...    ...      ...     ...     ...      ...    ...    ...      ...     ...           ...           ...           ...      ...      ...      ...      ...      ...      ...       ...       ...       ...              ...              ...              ...     ...         ...     ...         ...    ...        ...    ...        ...    ...        ...    ...        ...     ...         ...     ...         ...      ...          ...      ...          ...        ...   \n",
      "1218  kimj   pm  23:16:00    2016-10-03 139.000 196.000     nan 196.000        Y 0.070  8.800 0.620 0.379  398.000   0.125  9.300  0.256   0.696  455.000        18.400       1.485        0.700                98.000            20.600                18.000        1009.900             1013.900              19.500           21.000          1.409           2.600                   85.000               21.000                   18.300           1005.600                1013.900                 18.600            290           360.000 27.700 1009.600 100.000  19.600 1000.000 54.000 23.400 1005.300 100.000         8.100         9.600        46.000   25.800 1005.400   98.000   19.100  998.200   59.000    21.800  1001.800    98.000            6.700            7.200           39.000   0.003       1.000   0.002      23.000  0.400     23.000  0.300      3.000  0.046     16.000  0.011     23.000   0.024      19.000   0.005       5.000   29.000        2.000    4.000        8.000      0.007   \n",
      "1219  kimj   pm  21:56:00    2016-10-04     nan     nan     nan     nan      NaN 0.055 11.800 0.535 0.767  833.000   0.124 11.600  0.313   1.032  961.000        23.700       1.485        4.700                59.000            17.300                15.200        1010.200             1014.100              20.300           23.900          1.409           2.400                   71.000               21.000                   18.300           1005.600                1013.700                 19.600            110           110.000 28.200 1012.700 100.000  14.200 1000.000 43.000 27.000 1009.400 100.000        14.000        12.700        57.000   27.600 1008.200   98.000   16.800 1000.000   48.000    16.800  1008.200    98.000           10.800            8.200           50.000   0.003      21.000   0.002       1.000  0.700      8.000  0.400     21.000  0.051     16.000  0.003      8.000   0.059      20.000   0.020      16.000   42.000        8.000   22.000       22.000      0.006   \n",
      "1220  kimj   pm  21:45:00    2016-10-05 103.000  97.000 110.000 110.000        R 0.055 10.200 0.554 0.608  667.000   0.122 10.235  0.284   0.892  734.100        19.500       1.485        0.500                93.000            21.000                18.300        1009.900             1013.900              19.100           20.500          1.409           4.500                   91.000               21.800                   18.900           1005.700                1014.000                 18.000            200           360.000 26.500 1010.300  95.000  17.200 1000.000 53.000 19.900 1004.000  67.000         9.300        10.300        42.000   25.300 1006.000   92.000   18.300  999.900   65.000    18.700  1000.900    79.000            7.000            6.100           27.000   0.003      24.000   0.002      21.000  0.600     22.000  0.400     23.000  0.050     15.000  0.003     22.000   0.053      22.000   0.010       3.000   46.000       19.000    8.000        4.000      0.007   \n",
      "1221  kimj   pm  20:46:00    2016-10-06 113.000 123.000     nan 123.000        R 0.069 11.800 0.745 0.478  943.000   0.134 10.300  0.425   0.799 1000.000        16.300       1.485        0.000                71.000            13.100                11.000        1018.200             1022.300              16.800           18.500          1.409           3.300                   68.000               14.400                   12.400           1013.700                1022.100                 15.900              0            20.000 23.300 1017.900  93.000  13.800 1000.000 44.000 19.500 1017.800  84.000         9.500        17.900        49.000   21.500 1013.900   98.000   14.000 1000.000   59.000    16.100  1013.500    63.000            7.500           13.900           39.000   0.003      20.000   0.002       3.000  0.600      1.000  0.400     20.000  0.051     16.000  0.010      8.000   0.039      20.000   0.010       4.000   50.000        2.000   26.000        9.000      0.008   \n",
      "\n",
      "      so2maxtimepoi  so2minpoi  so2mintimepoi  comaxpoi  comaxtimepoi  cominpoi  comintimepoi  o3maxpoi  o3maxtimepoi  o3minpoi  o3mintimepoi  no2maxpoi  no2maxtimepoi  no2minpoi  no2mintimepoi  pm10maxpoi  pm10maxtimepoi  pm10minpoi  pm10mintimepoi  \n",
      "0            12.000      0.007          5.000     1.700         7.000     0.900         3.000     0.030         3.000     0.002         5.000      0.069          7.000      0.022          3.000     128.000           1.000      77.000           5.000  \n",
      "1            14.000      0.007         23.000     1.200         9.000     0.700         2.000     0.031         3.000     0.004         6.000      0.064         18.000      0.019          3.000     127.000          14.000      77.000           5.000  \n",
      "2            12.000      0.007          5.000     1.200         9.000     0.500        14.000     0.031         3.000     0.010         5.000      0.069          1.000      0.019          3.000      92.000           9.000      47.459          19.000  \n",
      "3            14.000      0.006          7.000     0.900        22.000     0.400         2.000     0.028        18.000     0.002         9.000      0.053         11.000      0.008          5.000      94.000           8.000      37.000          22.000  \n",
      "...             ...        ...            ...       ...           ...       ...           ...       ...           ...       ...           ...        ...            ...        ...            ...         ...             ...         ...             ...  \n",
      "1218         12.000      0.004          5.000     0.400        23.000     0.300         3.000     0.019        13.000     0.029        22.000      0.052         16.000      0.005          3.000      36.000          16.000       5.000          11.000  \n",
      "1219         23.000      0.004         21.000     1.100         4.000     0.400        21.000     0.026         3.000     0.007        20.000      0.075         20.000      0.015          3.000      84.000           6.000      13.000          21.000  \n",
      "1220         15.000      0.004          4.000     0.618        15.000     0.300         4.000     0.024        14.000     0.020        20.000      0.060         22.000      0.011          4.000      52.000          23.000       4.000          17.000  \n",
      "1221         11.000      0.005         22.000     0.500        20.000     0.400        21.000     0.031         2.000     0.025        19.000      0.052         20.000      0.013          3.000      55.000          13.000      27.000          19.000  \n",
      "\n",
      "[1222 rows x 103 columns]\n"
     ]
    }
   ],
   "source": [
    "df = LoadDataSet(\"./kimj.csv\")\n",
    "print(df)\n",
    "df['previouspef'] = df.pefmax.shift(1)\n",
    "df['previouspef2'] = df.pefmax.shift(2)\n",
    "df['previouspef3'] = df.pefmax.shift(3)"
   ]
  },
  {
   "cell_type": "code",
   "execution_count": 220,
   "metadata": {
    "collapsed": false
   },
   "outputs": [
    {
     "name": "stdout",
     "output_type": "stream",
     "text": [
      "263\n",
      "263\n",
      "               datetime cname ampm timeofday dateofmeasure    pef1    pef2    pef3  pefmax indexpef   so2     co    o3   no2     pm10  so2poi  copoi  o3poi  no2poi  pm10poi  temperaturec  rainfallmm  windspeedms  precipitationpercent  vaporpressurehpa  dewpointtemperaturec  airpressurehpa  sealevelpressurehpa  groundtemperaturec  temperaturecpoi  rainfallmmpoi  windspeedmspoi  precipitationpercentpoi  vaporpressurehpapoi  dewpointtemperaturecpoi  airpressurehpapoi  sealevelpressurehpapoi  groundtemperaturecpoi  winddirection  winddirectionpoi   tmax     amax    pmax   tmin     amin   pmin  tmode    amode   pmode  tmaxlesstmin  amaxlessamin  pmaxlesspmin  tmaxpoi  amaxpoi  pmaxpoi  tminpoi  aminpoi  pminpoi  tmodepoi  amodepoi  pmodepoi  tmaxlesstminpoi  amaxlessaminpoi  pmaxlesspminpoi  so2max  so2maxtime  so2min  so2mintime  comax  comaxtime  comin  comintime  o3max  o3maxtime  o3min  o3mintime  no2max  no2maxtime  no2min  no2mintime  pm10max  pm10maxtime  pm10min  pm10mintime  \\\n",
      "704 2015-05-08 23:59:00  kimj   pm  23:59:00    2015-05-08  68.000  79.000  77.000  79.000        R 0.157 11.600 0.796 0.999 1240.000   0.201 12.800  0.536   0.972 1410.000        15.900       0.981        1.400                66.000            11.900                 9.500        1009.500             1013.500              15.500           14.400          1.008           0.600                   81.000               13.200                   11.100           1005.200                1013.700                 13.600            320           250.000 21.100 1011.000  94.000 11.600 1000.000 50.000 12.200 1010.500  50.000         9.500        11.000        44.000   19.100 1006.200   99.000   11.700 1000.000   74.000    14.700  1005.900    99.000            7.400            6.200           25.000   0.009      24.000   0.004       6.000  0.700     13.000  0.300      5.000  0.076     16.000  0.009     23.000   0.060      23.000   0.019       6.000   79.000       18.000   31.000        5.000   \n",
      "350 2016-01-21 10:08:00  kimj   am  10:08:00    2016-01-21  80.000  80.000  75.000  80.000        R 0.147 17.600 0.223 0.930 1178.000   0.184 18.735  0.193   0.995  714.100        -6.000       1.485        1.300                54.000             2.100               -13.800        1025.800             1030.300              -2.700           -7.400          1.409           3.000                   62.000                2.200                  -13.400           1021.000                1030.400                 -2.000            290            20.000 -5.700 1028.400  69.000 -9.500 1000.000 33.000 -8.200 1026.100  68.000         3.800        28.400        36.000   -6.400 1023.900   74.000  -11.000 1000.000   50.000    -7.600  1021.500    65.000            4.600           23.900           24.000   0.010       5.000   0.005      13.000  1.100      2.000  0.500     13.000  0.026     14.000  0.002      1.000   0.052       2.000   0.018      14.000   63.000       18.000   25.000       10.000   \n",
      "710 2015-05-14 22:25:00  kimj   pm  22:25:00    2015-05-14  64.000  80.000  75.000  80.000        R 0.128 10.300 1.395 0.568 1303.000   0.153 10.600  0.866   0.562 1239.000        19.000       0.981        1.900                86.000            18.800                16.500        1004.100             1008.000              18.500           16.100          1.008           2.200                   99.000               18.100                   15.900            999.600                1008.000                 15.600            230           270.000 26.800 1004.400  84.000 13.400 1000.000 48.000 13.400 1003.500  56.000        13.400         4.400        36.000   22.300  999.400   99.000   16.200  997.400   70.000    16.500   998.200    99.000            6.100            2.000           29.000   0.007       1.000   0.004      22.000  0.600      1.000  0.300     23.000  0.077     14.000  0.031      8.000   0.045       8.000   0.012      24.000   86.000       18.000   32.000        8.000   \n",
      "100 2015-05-16 05:39:00  kimj   am  05:39:00    2015-05-16  73.000  80.000  68.000  80.000        R 0.127 15.200 0.754 1.155 2370.000   0.173 16.200  0.446   1.079 2309.000        10.000       0.981        0.000               100.000            12.200                 9.900        1006.200             1010.300              11.100           13.200          1.008           3.100                   53.000                8.000                    3.800           1001.800                1010.300                  9.600              0            20.000 20.600 1006.800 100.000 10.700 1000.000 77.000 16.900 1005.700  96.000         9.900         6.800        23.000   21.200 1002.300   99.000   14.000  999.800   50.000    14.400  1001.400    99.000            7.200            2.500           49.000   0.009      12.000   0.003      23.000  0.900     12.000  0.400      2.000  0.076     15.000  0.004     24.000   0.067      24.000   0.022       5.000  200.000        8.000   48.000        2.000   \n",
      "..                  ...   ...  ...       ...           ...     ...     ...     ...     ...      ...   ...    ...   ...   ...      ...     ...    ...    ...     ...      ...           ...         ...          ...                   ...               ...                   ...             ...                  ...                 ...              ...            ...             ...                      ...                  ...                      ...                ...                     ...                    ...            ...               ...    ...      ...     ...    ...      ...    ...    ...      ...     ...           ...           ...           ...      ...      ...      ...      ...      ...      ...       ...       ...       ...              ...              ...              ...     ...         ...     ...         ...    ...        ...    ...        ...    ...        ...    ...        ...     ...         ...     ...         ...      ...          ...      ...          ...   \n",
      "891 2015-11-11 21:00:00  kimj   pm  21:00:00    2015-11-11 144.000 218.000 149.000 218.000        Y 0.102 25.300 0.114 1.280 1720.000   0.168 26.000  0.078   1.317 1139.011        10.100       0.981        0.000                94.000            11.600                 9.100        1024.700             1028.900               9.300           11.600          1.008           3.000                   93.000               12.700                   10.500           1020.300                1029.000                  9.700              0            20.000 16.400 1025.000 100.000  6.200 1000.000 56.000  7.100 1024.000 100.000        10.200        25.000        44.000   14.300 1020.500   98.000    7.100 1000.000   72.000     9.900  1019.600    98.000            7.200           20.500           26.000   0.008       9.000   0.003      21.000  1.500      9.000  0.600     16.000  0.016     16.000  0.002     22.000   0.072      19.000   0.042      13.000  114.000       23.000   38.000       13.000   \n",
      "230 2015-09-23 10:25:00  kimj   am  10:25:00    2015-09-23 233.000 195.000 185.000 233.000        Y 0.073 10.800 0.991 0.464 2286.000   0.206 19.600  0.672   1.361 1368.918        22.900       0.981        2.200                58.000            16.100                14.100        1008.600             1012.500              27.900           22.700          1.008           1.500                   79.000               21.700                   18.800           1004.000                1012.200                 26.900             90           140.000 29.700 1013.900  99.000 19.200 1000.000 30.000 20.200 1009.800  95.000        10.500        13.900        69.000   28.300 1009.300   98.000   20.600 1000.000   35.000    28.200  1005.900    98.000            7.700            9.300           63.000   0.005      20.000   0.002       1.000  0.600     22.000  0.300     13.000  0.084     20.000  0.007      5.000   0.038       8.000   0.009      13.000  154.000        9.000   36.000       16.000   \n",
      "720 2015-05-24 23:36:00  kimj   pm  23:36:00    2015-05-24 209.000 189.000 236.000 236.000        Y 0.141  8.900 0.997 0.727  797.000   0.190 11.400  0.714   0.838  856.000        15.700       0.981        0.800                59.000            10.400                 7.600        1005.000             1009.000              15.100           15.400          1.008           2.500                   92.000               16.100                   14.100           1000.600                1009.000                 13.800            360           230.000 26.600 1006.700  80.000 12.200 1000.000 17.000 24.600 1005.900  67.000        14.400         6.700        63.000   23.600 1002.400   99.000   14.800  999.100   36.000    19.000  1001.300    99.000            8.800            3.300           63.000   0.016       9.000   0.003      18.000  0.500      2.000  0.300     11.000  0.069     15.000  0.011      2.000   0.056       2.000   0.012      19.000   46.000        8.000   23.000       20.000   \n",
      "847 2015-09-28 23:18:00  kimj   pm  23:18:00    2015-09-28 217.000 227.000 269.000 269.000        Y 0.085  7.600 0.625 0.501 1176.590   0.193 15.000  0.270   1.096  810.000        20.900       0.981        0.500                46.000            11.300                 8.800        1017.000             1021.000              18.900           20.500          1.008           3.400                   60.000               14.400                   12.400           1013.400                1021.800                 17.700            290            20.000 29.600 1017.100  91.000 13.300 1000.000 22.000 14.600 1017.100  27.000        16.300        17.100        69.000   27.700 1013.000   94.000   17.500 1000.000   34.000    17.500  1008.800    62.000           10.200           13.000           60.000   0.004       9.000   0.003      23.000  0.400      7.000  0.300     23.000  0.058     14.000  0.005      7.000   0.030      23.000   0.008      15.000   49.025       23.000   49.025       23.000   \n",
      "\n",
      "     so2maxpoi  so2maxtimepoi  so2minpoi  so2mintimepoi  comaxpoi  comaxtimepoi  cominpoi  comintimepoi  o3maxpoi  o3maxtimepoi  o3minpoi  o3mintimepoi  no2maxpoi  no2maxtimepoi  no2minpoi  no2mintimepoi  pm10maxpoi  pm10maxtimepoi  pm10minpoi  pm10mintimepoi  previouspef  previouspef2  previouspef3  quantile  \n",
      "704      0.013         18.000      0.006         23.000     0.700        14.000     0.400        23.000     0.049        16.000     0.002         7.000      0.065         21.000      0.014          5.000     107.000          16.000      29.000           1.000      100.000       120.000       111.000         1  \n",
      "350      0.011         20.000      0.006          2.000     1.000         7.000     0.500        12.000     0.019        14.000     0.003        19.000      0.052         20.000      0.027         13.000      46.050          14.000      11.000          17.000      100.000        93.000        82.000         1  \n",
      "710      0.009          4.000      0.005          1.000     0.600        17.000     0.300         2.000     0.056        24.000     0.073        21.000      0.041         19.000      0.007          2.000      77.000          20.000      32.000           7.000       89.000        88.000        95.000         1  \n",
      "100      0.010         23.000      0.005          4.000     0.900        10.000     0.500         1.000     0.042         5.000     0.044         4.000      0.067         23.000      0.015          5.000     148.000           8.000      28.000           4.000      110.000        83.000        80.000         1  \n",
      "..         ...            ...        ...            ...       ...           ...       ...           ...       ...           ...       ...           ...        ...            ...        ...            ...         ...             ...         ...             ...          ...           ...           ...       ...  \n",
      "891      0.009         11.000      0.006         22.000     1.400        10.000     0.800        16.000     0.006         3.000     0.006        20.000      0.072         20.000      0.036          3.000      47.459          21.000      47.459          21.000      116.000       110.000       120.000         3  \n",
      "230      0.013          2.000      0.007         11.000     1.000         8.000     0.600        11.000     0.058        22.000     0.063         9.000      0.084         23.000      0.029          4.000      86.000           9.000      36.000          21.000      208.000       185.000       172.000         3  \n",
      "720      0.012         23.000      0.006          1.000     0.700         7.000     0.400         1.000     0.045        15.000     0.009         8.000      0.049          7.000      0.021          3.000      57.000          12.000      20.000          17.000      118.000       113.000        95.000         3  \n",
      "847      0.016         22.000      0.006          4.000     0.700        24.000     0.500         5.000     0.025        14.000     0.007        13.000      0.059         17.000      0.035          7.000      63.000          17.000      21.000          23.000      199.000       110.000       153.000         3  \n",
      "\n",
      "[263 rows x 108 columns]\n"
     ]
    }
   ],
   "source": [
    "df.loc[df.timeofday == 'null', 'timeofday'] = \"00:00:00\"\n",
    "datetime = df.dateofmeasure + \" \" + df.timeofday \n",
    "df.insert(0, 'datetime', datetime)\n",
    "df.datetime = pd.to_datetime(df.datetime)\n",
    "\n",
    "df.dropna(inplace=True)\n",
    "\n",
    "df.sort_values(by='pefmax', ascending=True, inplace=True)\n",
    "quantile=[]\n",
    "for k in range(len(df.index)):\n",
    "    nearestTenQuantile = floor((k/len(df.index))*10)*10\n",
    "    if(nearestTenQuantile <=40):\n",
    "        quantile.append(1)\n",
    "    elif(nearestTenQuantile >=80):\n",
    "        quantile.append(3)\n",
    "    else:\n",
    "        quantile.append(2)\n",
    "        \n",
    "\n",
    "quantileSeries = pd.Series(quantile)\n",
    "print(len(quantileSeries))\n",
    "print(len(df.index))\n",
    "df[\"quantile\"] = quantileSeries.values\n",
    "\n",
    "print(df)\n",
    "\n",
    "df.sort_values(by='datetime', ascending=True, inplace=True)"
   ]
  },
  {
   "cell_type": "code",
   "execution_count": 221,
   "metadata": {
    "collapsed": false
   },
   "outputs": [],
   "source": [
    "#toDrop  = \"cname, ampm, timeofday, dateofmeasure, so2, co, o3, no2, pm10, so2poi, copoi, o3poi, no2poi, pm10poi, temperaturec, rainfallmm, windspeedms, precipitationpercent, vaporpressurehpa, dewpointtemperaturec, airpressurehpa, sealevelpressurehpa, groundtemperaturec, temperaturecpoi, rainfallmmpoi, windspeedmspoi, precipitationpercentpoi, vaporpressurehpapoi, dewpointtemperaturecpoi, airpressurehpapoi, sealevelpressurehpapoi, groundtemperaturecpoi, winddirection, winddirectionpoi, tmax, amax, pmax, tmin, amin, pmin, tmode, amode, pmode, tmaxlesstmin, amaxlessamin, pmaxlesspmin, tmaxpoi, amaxpoi, pmaxpoi, tminpoi, aminpoi, pminpoi, tmodepoi, amodepoi, pmodepoi, tmaxlesstminpoi, amaxlessaminpoi, pmaxlesspminpoi, so2max, so2maxtime, so2min, so2mintime, comax, comaxtime, comin, comintime, o3max, o3maxtime, o3min, o3mintime, no2max, no2maxtime, no2min, no2mintime, pm10max, pm10maxtime, pm10min, pm10mintime, so2maxpoi, so2maxtimepoi, so2minpoi, so2mintimepoi, comaxpoi, comaxtimepoi, cominpoi, comintimepoi, o3maxpoi, o3maxtimepoi, o3minpoi, o3mintimepoi, no2maxpoi, no2maxtimepoi, no2minpoi, no2mintimepoi, pm10maxpoi, pm10maxtimepoi, pm10minpoi, pm10mintimepoi\".split(', ')\n",
    "toDrop  = \"cname, ampm, timeofday, dateofmeasure, so2, pm10, so2poi, copoi, o3poi, no2poi, pm10poi, temperaturec, rainfallmm, windspeedms, precipitationpercent, vaporpressurehpa, dewpointtemperaturec, airpressurehpa, sealevelpressurehpa, groundtemperaturec, temperaturecpoi, rainfallmmpoi, windspeedmspoi, precipitationpercentpoi, vaporpressurehpapoi, dewpointtemperaturecpoi, airpressurehpapoi, sealevelpressurehpapoi, groundtemperaturecpoi, winddirection, winddirectionpoi, tmax, amax, pmax, tmin, amin, pmin, tmode, amode, pmode, tmaxlesstmin, amaxlessamin, pmaxlesspmin, tmaxpoi, amaxpoi, pmaxpoi, tminpoi, aminpoi, pminpoi, tmodepoi, amodepoi, pmodepoi, tmaxlesstminpoi, amaxlessaminpoi, pmaxlesspminpoi, so2max, so2maxtime, so2min, so2mintime, comax, comaxtime, comin, comintime, o3max, o3maxtime, o3min, o3mintime, no2max, no2maxtime, no2min, no2mintime, pm10max, pm10maxtime, pm10min, pm10mintime, so2maxpoi, so2maxtimepoi, so2minpoi, so2mintimepoi, comaxpoi, comaxtimepoi, cominpoi, comintimepoi, o3maxpoi, o3maxtimepoi, o3minpoi, o3mintimepoi, no2maxpoi, no2maxtimepoi, no2minpoi, no2mintimepoi, pm10maxpoi, pm10maxtimepoi, pm10minpoi, pm10mintimepoi, datetime, pefmax, pef1, pef2, pef3, indexpef\".split(', ')\n",
    "df=df.drop(toDrop, axis=1)\n",
    "df=df.reset_index(drop=True)"
   ]
  },
  {
   "cell_type": "code",
   "execution_count": 222,
   "metadata": {
    "collapsed": false
   },
   "outputs": [
    {
     "name": "stdout",
     "output_type": "stream",
     "text": [
      "        co    o3   no2  previouspef  previouspef2  previouspef3  quantile\n",
      "0   19.100 0.342 1.127       92.000        89.000        98.000         1\n",
      "1   11.700 0.669 0.498      123.000        85.000       121.000         2\n",
      "2    7.400 0.711 0.147      100.000        92.000        89.000         1\n",
      "3   10.000 0.537 0.386      106.000       100.000        92.000         1\n",
      "..     ...   ...   ...          ...           ...           ...       ...\n",
      "259 12.600 0.601 0.821      154.000       113.000       118.000         2\n",
      "260 13.000 0.776 0.851      124.000       154.000       113.000         1\n",
      "261 14.500 0.829 0.673      110.000       107.000       124.000         3\n",
      "262  8.200 0.669 0.386      121.000       123.000       155.000         1\n",
      "\n",
      "[263 rows x 7 columns]\n"
     ]
    }
   ],
   "source": [
    "print(df)"
   ]
  },
  {
   "cell_type": "code",
   "execution_count": 223,
   "metadata": {
    "collapsed": false
   },
   "outputs": [
    {
     "name": "stdout",
     "output_type": "stream",
     "text": [
      "263\n"
     ]
    }
   ],
   "source": [
    "print(df.index.size)"
   ]
  },
  {
   "cell_type": "code",
   "execution_count": 224,
   "metadata": {
    "collapsed": false
   },
   "outputs": [
    {
     "name": "stdout",
     "output_type": "stream",
     "text": [
      "        co    o3   no2  previouspef  previouspef2  previouspef3  quantile\n",
      "0   19.100 0.342 1.127       92.000        89.000        98.000         1\n",
      "1   11.700 0.669 0.498      123.000        85.000       121.000         2\n",
      "2    7.400 0.711 0.147      100.000        92.000        89.000         1\n",
      "3   10.000 0.537 0.386      106.000       100.000        92.000         1\n",
      "..     ...   ...   ...          ...           ...           ...       ...\n",
      "259 12.600 0.601 0.821      154.000       113.000       118.000         2\n",
      "260 13.000 0.776 0.851      124.000       154.000       113.000         1\n",
      "261 14.500 0.829 0.673      110.000       107.000       124.000         3\n",
      "262  8.200 0.669 0.386      121.000       123.000       155.000         1\n",
      "\n",
      "[263 rows x 7 columns]\n",
      "Feature space holds 263 observations and 6 features\n",
      "Unique target labels: [1 2 3]\n",
      "* 0* 1* 2* 3* 4*\n",
      "   DecisionTree Gini accuracy: 0.414449 \n",
      "   DecisionTree Gini r^2 score: -1.035507\n",
      "* 0* 1* 2* 3* 4*\n",
      "   DecisionTree Entr accuracy: 0.353612 \n",
      "   DecisionTree Entr r^2 score: -1.154506\n",
      "* 0* 1* 2* 3* 4*\n",
      "       Random Forest accuracy: 0.475285 \n",
      "       Random Forest r^2 score: -0.615879\n",
      "* 0* 1* 2* 3* 4*\n",
      "    Logit Regression accuracy: 0.490494 \n",
      "    Logit Regression r^2 score: -0.478091\n"
     ]
    },
    {
     "data": {
      "image/png": "[encoded data removed]",
      "text/plain": [
       "<matplotlib.figure.Figure at 0x7f3ba3c5ac18>"
      ]
     },
     "metadata": {},
     "output_type": "display_data"
    },
    {
     "data": {
      "image/png": "[encoded data removed]",
      "text/plain": [
       "<matplotlib.figure.Figure at 0x7f3ba3a2f160>"
      ]
     },
     "metadata": {},
     "output_type": "display_data"
    }
   ],
   "source": [
    "from sklearn.naive_bayes import GaussianNB\n",
    "cls = [# Comment/uncomment out any classfiers according to your need \n",
    "       # DO NOT CHANGE\n",
    "        \"DecisionTree Gini\" , tree.DecisionTreeClassifier(max_depth=4, criterion=\"gini\", class_weight='balanced'),\n",
    "        \"DecisionTree Entr\" , tree.DecisionTreeClassifier(max_depth=4, criterion=\"entropy\", class_weight='balanced'), \n",
    "        #\"SVM\"               , sklearn.svm.SVC(), \n",
    "        \"Random Forest\"     , sklearn.ensemble.RandomForestClassifier(),\n",
    "        #\"K-NN\"              , sklearn.neighbors.KNeighborsClassifier(),\n",
    "        #\"Gradient Boosting\" , sklearn.ensemble.GradientBoostingClassifier(subsample=.85),\n",
    "        \"Logit Regression\"  , sklearn.linear_model.LogisticRegression(class_weight='balanced'),\n",
    "        #\"Naive Bayes\"       , GaussianNB(),\n",
    "];\n",
    "predictColumn=\"quantile\"\n",
    "df.replace(to_replace=\"am\", value=0, inplace=True, limit=None, regex=False, method='pad', axis=1)\n",
    "df.replace(to_replace=\"pm\", value=1, inplace=True, limit=None, regex=False, method='pad', axis=1)\n",
    "df.replace(to_replace=\"G\", value=0, inplace=True, limit=None, regex=False, method='pad', axis=1)\n",
    "df.replace(to_replace=\"Y\", value=1, inplace=True, limit=None, regex=False, method='pad', axis=1)\n",
    "df.replace(to_replace=\"R\", value=2, inplace=True, limit=None, regex=False, method='pad', axis=1)\n",
    "print(df)\n",
    "y = df[predictColumn]\n",
    "#y.drop(y.index[0],inplace=True)\n",
    "X = df.drop(predictColumn, axis=1)\n",
    "#X.drop(X.index[X.index.size-1],inplace=True)\n",
    "(X1,y1,ra,cls, y_preds, clfs) = Classify(X,y, True, drawConfusionMatrix=True, classifiers=cls, scale=True)"
   ]
  },
  {
   "cell_type": "code",
   "execution_count": 137,
   "metadata": {
    "collapsed": false
   },
   "outputs": [
    {
     "ename": "NameError",
     "evalue": "name 'class_names' is not defined",
     "output_type": "error",
     "traceback": [
      "\u001b[0;31m---------------------------------------------------------------------------\u001b[0m",
      "\u001b[0;31mNameError\u001b[0m                                 Traceback (most recent call last)",
      "\u001b[0;32m<ipython-input-137-55e9fbc6e29f>\u001b[0m in \u001b[0;36m<module>\u001b[0;34m()\u001b[0m\n\u001b[1;32m      8\u001b[0m         \u001b[0mdecisionTrees\u001b[0m\u001b[0;34m.\u001b[0m\u001b[0mappend\u001b[0m\u001b[0;34m(\u001b[0m\u001b[0mcls\u001b[0m\u001b[0;34m[\u001b[0m\u001b[0mk\u001b[0m\u001b[0;34m*\u001b[0m\u001b[0;36m2\u001b[0m\u001b[0;34m+\u001b[0m\u001b[0;36m1\u001b[0m\u001b[0;34m]\u001b[0m\u001b[0;34m)\u001b[0m\u001b[0;34m\u001b[0m\u001b[0m\n\u001b[1;32m      9\u001b[0m \u001b[0;34m\u001b[0m\u001b[0m\n\u001b[0;32m---> 10\u001b[0;31m \u001b[0md\u001b[0m \u001b[0;34m=\u001b[0m \u001b[0mDrawDecisionTree\u001b[0m\u001b[0;34m(\u001b[0m\u001b[0mX\u001b[0m\u001b[0;34m,\u001b[0m\u001b[0my\u001b[0m\u001b[0;34m,\u001b[0m \u001b[0mdecisionTrees\u001b[0m\u001b[0;34m,\u001b[0m \u001b[0mclass_names\u001b[0m\u001b[0;34m)\u001b[0m\u001b[0;34m;\u001b[0m\u001b[0;34m\u001b[0m\u001b[0m\n\u001b[0m",
      "\u001b[0;31mNameError\u001b[0m: name 'class_names' is not defined"
     ]
    }
   ],
   "source": [
    "#get_ipython().reset()\n",
    "decisionTrees = []\n",
    "\n",
    "for k in range( int (len(cls)/2)) :\n",
    "    d = cls[k*2+1];\n",
    "    if (str(type(d)).find('DecisionTreeClassifier') > 0):\n",
    "        decisionTrees.append(cls[k*2])\n",
    "        decisionTrees.append(cls[k*2+1])\n",
    "\n",
    "d = DrawDecisionTree(X,y, decisionTrees, class_names);"
   ]
  },
  {
   "cell_type": "code",
   "execution_count": null,
   "metadata": {
    "collapsed": true
   },
   "outputs": [],
   "source": []
  }
 ],
 "metadata": {
  "anaconda-cloud": {},
  "kernelspec": {
   "display_name": "Python [default]",
   "language": "python",
   "name": "python3"
  },
  "language_info": {
   "codemirror_mode": {
    "name": "ipython",
    "version": 3
   },
   "file_extension": ".py",
   "mimetype": "text/x-python",
   "name": "python",
   "nbconvert_exporter": "python",
   "pygments_lexer": "ipython3",
   "version": "3.5.2"
  }
 },
 "nbformat": 4,
 "nbformat_minor": 1
}
