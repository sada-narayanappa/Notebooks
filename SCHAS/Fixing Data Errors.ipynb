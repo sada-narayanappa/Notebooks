{
 "cells": [
  {
   "cell_type": "code",
   "execution_count": 2,
   "metadata": {
    "collapsed": false
   },
   "outputs": [
    {
     "data": {
      "text/html": [
       "<script type=\"text/javascript\" src=\"http://ajax.googleapis.com/ajax/libs/jquery/1.3/jquery.min.js\"></script>\n",
       "<style>\n",
       "body {\n",
       "    font-family: Times 'Merriweather', Georgia, serif;\n",
       "    font-size: 10pt;\n",
       "}\n",
       "\n",
       ".imgs {\n",
       "    width: 250px;\n",
       "    align: left;\n",
       "    float: left;\n",
       "    padding-right: 50px;\n",
       "    padding-top: 20px;\n",
       "    border: 0px gray;\n",
       "}\n",
       ".imgs1 {\n",
       "    align: left;\n",
       "    float: left;\n",
       "    padding-right: 50px;\n",
       "    padding-top: 20px;\n",
       "    border-top: 1px solid gray;\n",
       "    border-bottom: 1px solid gray;\n",
       "    margin-right: 50px;\n",
       "}\n",
       "hr {\n",
       "    height:3px;\n",
       "    border:none;\n",
       "    color:#333;\n",
       "    background-color:#333;\"\n",
       "}\n",
       "p {\n",
       "  margin: 10px auto;\n",
       "  padding: 6px 10px;\n",
       "  font-weight: 300;\n",
       "  font-size: 16px;\n",
       "  line-height: 1.4;\n",
       "}\n",
       "\n",
       "h1 {\n",
       "    margin: 20px auto 0px;\n",
       "    padding: 0 10px;\n",
       "    text-align: center;\n",
       "    font-size: 80px;\n",
       "    ffont-weight: 300;\n",
       "    mmax-width: 800px;\n",
       "}\n",
       "\n",
       "h4 {\n",
       "  max-width: 800px;\n",
       "  margin: 0 auto;\n",
       "  padding: 10px 10px;\n",
       "  font-family: sans-serif;\n",
       "}\n",
       "\n",
       "h5 {\n",
       "    padding-top: 8px;\n",
       "    padding-botton: 8px;\n",
       "    border-top:    1px solid gray;\n",
       "    border-bottom: 2px solid gray;\n",
       "}\n",
       "\n",
       "h6 {\n",
       "    padding-top: 14px;\n",
       "    padding-botton: 16px;\n",
       "    border-top:    2px solid #cccccc;\n",
       "    border-bottom: 2px solid #cccccc;\n",
       "}\n",
       "\n",
       ".thumbnail  {\n",
       "\tposition: relative;\n",
       "\tfloat: left;\n",
       "\tpadding: 0px;\n",
       "\tz-index: 3;\n",
       "}\n",
       "\n",
       ".thumbnail:hover {\n",
       "\tbackground-color: #e9e9e2;\n",
       "\tcolor: #335500;\n",
       "\ttext-decoration: none;\n",
       "}\n",
       "\n",
       ".thumbnail span { /*CSS for enlarged image*/\n",
       "\tposition: fixed;\n",
       "    opacity: 1.5;\n",
       "    background-color: #e5e5e5; \n",
       "\tpadding: 5px;\n",
       "\tborder: 1px solid #666;\n",
       "\tvisibility: hidden;\n",
       "\tcolor: black;\n",
       "\ttext-decoration: none;\n",
       "\ttop:  150px; /* use IF IE6 style to correct IE6 positions of larger image relative to thumb */\n",
       "\tright: 50px;/*position where enlarged image should offset horizontally */\n",
       "\tz-index: 9999;\n",
       "    filter: alpha(opacity=100); \n",
       "}\n",
       "\n",
       ".thumbnail:hover span { /*CSS for enlarged image on hover*/\n",
       "\tvisibility: visible; \n",
       "\twidth: 500px;\n",
       "}\n",
       "    \n",
       ".container { width: 100% !important; }\n",
       "    div.cell{\n",
       "        width:100%;\n",
       "        margin-left:0%;\n",
       "        margin-right:auto;\n",
       "}\n",
       "    \n",
       "div.prompt {display:none}\n",
       "    \n",
       "</style>\n",
       "\n",
       "<script type=\"text/javascript\" src=\"http://ajax.googleapis.com/ajax/libs/jquery/1.3/jquery.min.js\"></script>\n",
       "<script type=\"text/javascript\" src=\"http://d3js.org/d3.v3.min.js\"></script>\n",
       "<script type=\"text/javascript\" src=\"http://d3js.org/topojson.v1.min.js\"></script>\n",
       "<script type=\"text/javascript\" src=\"http://datamaps.github.io/scripts/0.4.0/datamaps.all.js\"></script>\n",
       "\n",
       "<script>\n",
       "function log(e) {\n",
       "    console.log(e)\n",
       "    \n",
       "}\n",
       "\n",
       "function toggleDiv(divId) {\n",
       "   $(\"#\"+divId).toggle();\n",
       "\n",
       "}\n",
       "</script>\n"
      ],
      "text/plain": [
       "<IPython.core.display.HTML object>"
      ]
     },
     "metadata": {},
     "output_type": "display_data"
    }
   ],
   "source": [
    "%run \"../common.ipynb\""
   ]
  },
  {
   "cell_type": "code",
   "execution_count": 3,
   "metadata": {
    "collapsed": false
   },
   "outputs": [],
   "source": [
    "filename = \"http://www.smartconnectedhealth.org/aura/webroot/db.jsp?q=SELECT%20*%20FROM%20loc%20WHERE%20measured_at%20%3E%20%2701-01-2017%27::timestamp%20ORDER%20BY%20id%20DESC%20LIMIT%2050&type=html\";\n",
    "dfErrorEntries = LoadDataSet(filename, columns=None, checkForDateTime=False);"
   ]
  },
  {
   "cell_type": "code",
   "execution_count": 4,
   "metadata": {
    "collapsed": false
   },
   "outputs": [
    {
     "name": "stdout",
     "output_type": "stream",
     "text": [
      "Entry ID: 51625\n",
      "Incorrect Date: 2747-03-08 00:20:53.0\n",
      "Corrected Date: 2016-08-18 08:20:27.0\n",
      "b\"\\n\\n\\n\\n\\n\\n\\n\\n\\n\\n\\n\\n\\n\\n\\n\\n\\n\\n\\n\\n\\n\\n\\n\\n\\n\\n\\n<pre>  Executing: null\\nUPDATE loc SET measured_at = '2016-08-18 08:20:27.0'::timestamp WHERE id = 51625\\n\\n1 row(s) affected\\n\"\n",
      "Entry ID: 51624\n",
      "Incorrect Date: 2747-03-07 23:42:29.0\n",
      "Corrected Date: 2016-08-18 08:18:08.0\n",
      "b\"\\n\\n\\n\\n\\n\\n\\n\\n\\n\\n\\n\\n\\n\\n\\n\\n\\n\\n\\n\\n\\n\\n\\n\\n\\n\\n\\n<pre>  Executing: null\\nUPDATE loc SET measured_at = '2016-08-18 08:18:08.0'::timestamp WHERE id = 51624\\n\\n1 row(s) affected\\n\"\n",
      "Entry ID: 51623\n",
      "Incorrect Date: 2747-03-07 17:03:57.0\n",
      "Corrected Date: 2016-08-18 07:54:14.0\n",
      "b\"\\n\\n\\n\\n\\n\\n\\n\\n\\n\\n\\n\\n\\n\\n\\n\\n\\n\\n\\n\\n\\n\\n\\n\\n\\n\\n\\n<pre>  Executing: null\\nUPDATE loc SET measured_at = '2016-08-18 07:54:14.0'::timestamp WHERE id = 51623\\n\\n1 row(s) affected\\n\"\n"
     ]
    }
   ],
   "source": [
    "import time\n",
    "import datetime\n",
    "import urllib.request\n",
    "\n",
    "\n",
    "for k in range(dfErrorEntries['measured_at'].count()):\n",
    "    print(\"Entry ID: \"+dfErrorEntries['id'][k])\n",
    "    print(\"Incorrect Date: \"+dfErrorEntries['measured_at'][k])\n",
    "    #DIVIDE time by 16.6666666666666666666666 since it was already divided by 60 and should have been divided by 1000\n",
    "    correctunix = time.mktime(datetime.datetime.strptime(dfErrorEntries['measured_at'][k], \"%Y-%m-%d %H:%M:%S.0\").timetuple())/16.666666666666666666666666666\n",
    "    #print(datetime.datetime.fromtimestamp(int(correctunix)).strftime('%Y-%m-%d %H:%M:%S.0'))\n",
    "    correctdate = datetime.datetime.fromtimestamp(int(correctunix)).strftime('%Y-%m-%d %H:%M:%S.0')\n",
    "    print(\"Corrected Date: \"+correctdate)\n",
    "    url = \"http://www.smartconnectedhealth.org/aura/webroot/db.jsp?q=UPDATE%20loc%20SET%20measured_at%20=%20'\"+correctdate.replace(\" \", \"%20\")+\"'::timestamp%20WHERE%20id%20=%20\"+dfErrorEntries['id'][k]+\"&type=html\"\n",
    "    #print(url)\n",
    "    response = urllib.request.urlopen(url)\n",
    "    html = response.read()\n",
    "    print(html)"
   ]
  },
  {
   "cell_type": "code",
   "execution_count": null,
   "metadata": {
    "collapsed": true
   },
   "outputs": [],
   "source": []
  }
 ],
 "metadata": {
  "kernelspec": {
   "display_name": "Python 3",
   "language": "python",
   "name": "python3"
  },
  "language_info": {
   "codemirror_mode": {
    "name": "ipython",
    "version": 3
   },
   "file_extension": ".py",
   "mimetype": "text/x-python",
   "name": "python",
   "nbconvert_exporter": "python",
   "pygments_lexer": "ipython3",
   "version": "3.5.1"
  },
  "widgets": {
   "state": {},
   "version": "1.1.1"
  }
 },
 "nbformat": 4,
 "nbformat_minor": 0
}
