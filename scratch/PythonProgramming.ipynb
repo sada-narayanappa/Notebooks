{
 "cells": [
  {
   "cell_type": "code",
   "execution_count": 2,
   "metadata": {
    "collapsed": false
   },
   "outputs": [
    {
     "data": {
      "text/html": [
       "<style>\n",
       "body {\n",
       "    font-family: \"Lucida Grande\", \"Lucida Sans Unicode\", verdana, geneva, sans-serif;\n",
       "    font-size: 10pt;\n",
       "}\n",
       "\n",
       "CodeMirror-gutters {\n",
       "    border-right: 0px solid #ddd;\n",
       "    background-color: #f7f7f7;\n",
       "    white-space: nowrap;\n",
       "}\n",
       "\n",
       "\n",
       "div#notebook{\n",
       "    font-size: 12px;    \n",
       "}\n",
       ".CodeMirror {\n",
       "    font-size: 12px;\n",
       "}    \n",
       "    \n",
       ".imgs {\n",
       "    width: 250px;\n",
       "    align: left;\n",
       "    float: left;\n",
       "    padding-right: 50px;\n",
       "    padding-top: 20px;\n",
       "    border: 0px gray;\n",
       "}\n",
       ".imgs1 {\n",
       "    align: left;\n",
       "    float: left;\n",
       "    padding-right: 50px;\n",
       "    padding-top: 20px;\n",
       "    border-top: 1px solid gray;\n",
       "    border-bottom: 1px solid gray;\n",
       "    margin-right: 50px;\n",
       "}\n",
       "hr {\n",
       "    height:3px;\n",
       "    border:none;\n",
       "    color:#333;\n",
       "    background-color:#333;\"\n",
       "}\n",
       "p {\n",
       "  margin: 10px auto;\n",
       "  padding: 6px 10px;\n",
       "  font-weight: 300;\n",
       "  font-size: 16px;\n",
       "  line-height: 1.4;\n",
       "}\n",
       "\n",
       "h1 {\n",
       "    margin: 20px auto 0px;\n",
       "    padding: 0 10px;\n",
       "    text-align: center;\n",
       "    font-size: 80px;\n",
       "    font-weight: 300;\n",
       "    mmax-width: 800px;\n",
       "}\n",
       "\n",
       "h4 {\n",
       "  max-width: 800px;\n",
       "  margin: 0 auto;\n",
       "  padding: 10px 10px;\n",
       "  font-family: sans-serif;\n",
       "}\n",
       "\n",
       "h5 {\n",
       "    padding-top: 8px;\n",
       "    padding-botton: 8px;\n",
       "    border-top:    1px solid gray;\n",
       "    border-bottom: 2px solid gray;\n",
       "}\n",
       "\n",
       "h6 {\n",
       "    padding-top: 14px;\n",
       "    padding-botton: 16px;\n",
       "    border-top:    2px solid #cccccc;\n",
       "    border-bottom: 2px solid #cccccc;\n",
       "}\n",
       "\n",
       ".thumbnail  {\n",
       "\tposition: relative;\n",
       "\tfloat: left;\n",
       "\tpadding: 0px;\n",
       "\tz-index: 3;\n",
       "}\n",
       "\n",
       ".thumbnail:hover {\n",
       "\tbackground-color: #e9e9e2;\n",
       "\tcolor: #335500;\n",
       "\ttext-decoration: none;\n",
       "}\n",
       "\n",
       ".thumbnail span { /*CSS for enlarged image*/\n",
       "\tposition: fixed;\n",
       "    opacity: 1.5;\n",
       "    background-color: #e5e5e5; \n",
       "\tpadding: 5px;\n",
       "\tborder: 1px solid #666;\n",
       "\tvisibility: hidden;\n",
       "\tcolor: black;\n",
       "\ttext-decoration: none;\n",
       "\ttop:  150px; /* use IF IE6 style to correct IE6 positions of larger image relative to thumb */\n",
       "\tright: 50px;/*position where enlarged image should offset horizontally */\n",
       "\tz-index: 9999;\n",
       "    filter: alpha(opacity=100); \n",
       "}\n",
       "\n",
       ".thumbnail:hover span { /*CSS for enlarged image on hover*/\n",
       "\tvisibility: visible; \n",
       "\twidth: 500px;\n",
       "}\n",
       "    \n",
       ".container { width: 100% !important; }\n",
       "    div.cell{\n",
       "        width:100%;\n",
       "        margin-left:0%;\n",
       "        margin-right:auto;\n",
       "}\n",
       "    \n",
       "div.prompt {display: none}\n",
       "\n",
       ".prompt {\n",
       "    min-width: 4ex;\n",
       "    height: 20%;\n",
       "}\n",
       "    \n",
       ".CodeMirror-gutters {\n",
       "    border-bottom-left-radius: 2px;\n",
       "    border-top-left-radius: 2px;\n",
       "    border-left: 5px solid #336699;\n",
       "}\n",
       "\n",
       "\n",
       "</style>\n",
       "\n",
       "<script type=\"text/javascript\" src=\"http://ajax.googleapis.com/ajax/libs/jquery/1.3/jquery.min.js\"></script>\n",
       "\n",
       "<script>\n",
       "function log(e) {\n",
       "    console.log(e)\n",
       "    \n",
       "}\n",
       "\n",
       "function toggleDiv(divId) {\n",
       "   $(\"#\"+divId).toggle();\n",
       "\n",
       "}\n",
       "</script>"
      ],
      "text/plain": [
       "<IPython.core.display.HTML object>"
      ]
     },
     "metadata": {},
     "output_type": "display_data"
    },
    {
     "data": {
      "application/javascript": [
       "//IPython.notebook.execute_cell_and_select_below()\n",
       "\n",
       "IPython.keyboard_manager.edit_shortcuts.add_shortcut('alt-enter', {\n",
       "    help : \"run cell and keep focus\", //This is optional\n",
       "    handler : function (event) {\n",
       "        //console.log(\"sada\")\n",
       "        IPython.notebook.execute_cell_and_select_below();\n",
       "        //IPython.notebook.execute_cell();\n",
       "        //IPython.notebook.select_next();\n",
       "        \n",
       "        return false;\n",
       "    }}\n",
       ");"
      ],
      "text/plain": [
       "<IPython.core.display.Javascript object>"
      ]
     },
     "metadata": {},
     "output_type": "display_data"
    },
    {
     "data": {
      "application/javascript": [
       "\n",
       "IPython.keyboard_manager.edit_shortcuts.add_shortcut('shift-enter', {\n",
       "    help : \"run cell and keep focus\", //This is optional\n",
       "    handler : function (event) {\n",
       "        IPython.notebook.execute_cell();\n",
       "        IPython.notebook.edit_mode();\n",
       "        return false;\n",
       "    }}\n",
       ");"
      ],
      "text/plain": [
       "<IPython.core.display.Javascript object>"
      ]
     },
     "metadata": {},
     "output_type": "display_data"
    },
    {
     "data": {
      "application/javascript": [
       "\n",
       "function launch_first_cell (evt) {\n",
       "    $(\"div *\").attr('disabled', true);\n",
       "}\n",
       "\n",
       "if (window.location.href.indexOf(\"10000\") >=0 ) {\n",
       "    console.log(\"read only mode\")\n",
       "    $(\"#header\").css({\"display\": \"none\"})\n",
       "    //$(\"#menubar-container\").css({\"display\": \"none\"})\n",
       "    $(\"#notebook\").css({\"padding-top\": \"0\"})\n",
       "    $(\"#header-container\").html( \n",
       "        \"<div style={'background-color: gray; height: 40px; font-size:12px; font:100%'}> </div>\"\n",
       "    )\n",
       "    $(\"div.cell.selected *\").attr('border-color', 'None');\n",
       "    \n",
       "    $(\"div *\").attr('disabled', true);\n",
       "    //run_control.read_only = true \n",
       "    $( document ).ready(function() {\n",
       "        $(\"div *\").attr('disabled', true);\n",
       "    });\n",
       "    $([IPython.events]).on('kernel_ready.Kernel kernel_created.Session notebook_loaded.Notebook', launch_first_cell);\n",
       "}\n"
      ],
      "text/plain": [
       "<IPython.core.display.Javascript object>"
      ]
     },
     "metadata": {},
     "output_type": "display_data"
    }
   ],
   "source": [
    "%run \"../PyUtils/common.ipynb\"\n"
   ]
  },
  {
   "cell_type": "code",
   "execution_count": 18,
   "metadata": {
    "collapsed": false
   },
   "outputs": [
    {
     "name": "stdout",
     "output_type": "stream",
     "text": [
      "dict_values([0, 0, 0, 0, 0, 0])\n",
      "True\n"
     ]
    }
   ],
   "source": [
    "class AreAnagrams:\n",
    "    @staticmethod\n",
    "    def are_anagrams(a, b):\n",
    "        if (len(a) != len(b)):\n",
    "            return False;\n",
    "        H=defaultdict(int);\n",
    "        for i in a:\n",
    "            H[i] += 1;\n",
    "        for j in b:\n",
    "            if (H[j] == 0):\n",
    "                return False;\n",
    "            H[j] -= 1;\n",
    "        print (any(H.values() ))\n",
    "        return True\n",
    "\n",
    "print(AreAnagrams.are_anagrams('neural', 'unreal'))"
   ]
  },
  {
   "cell_type": "code",
   "execution_count": 25,
   "metadata": {
    "collapsed": false
   },
   "outputs": [
    {
     "name": "stdout",
     "output_type": "stream",
     "text": [
      "==>  1 \n",
      "==>  2 arsst\n",
      "arst\n",
      "==>  3 arst\n",
      "==>  4 arst\n",
      "dgos\n",
      "==>  5 dgos\n",
      "==>  6 dgos\n",
      "estt\n"
     ]
    }
   ],
   "source": [
    "t = ['test', 'estt', 'dogs', 'gods', 'rats', 'stars', 'arts', '']\n",
    "t1 = sorted([ \"\".join(sorted(i.strip())) for i in t if i.strip() != '' ])\n",
    "d=\"\";\n",
    "L=[];\n",
    "for i in range(1,len(t1)):\n",
    "    print(\"==> \", i,  d)\n",
    "    if ( t1[i-1] == t1[i] and t1[i] !=d):\n",
    "        d = t1[i-1];\n",
    "        print (t[]);\n",
    "    else:\n",
    "        d = t1[i-1]\n",
    "\n",
    "        "
   ]
  },
  {
   "cell_type": "code",
   "execution_count": 29,
   "metadata": {
    "collapsed": false
   },
   "outputs": [
    {
     "data": {
      "text/plain": [
       "[(1, 6, 7), (2, 5, 8), (3, 4, 9)]"
      ]
     },
     "execution_count": 29,
     "metadata": {},
     "output_type": "execute_result"
    }
   ],
   "source": [
    "A = [1,2,3]\n",
    "B = [6,5,4]\n",
    "C = [7,8,9]\n",
    "X = [A] + [B] + [C]\n",
    "list(zip(*X))"
   ]
  },
  {
   "cell_type": "code",
   "execution_count": 40,
   "metadata": {
    "collapsed": false
   },
   "outputs": [
    {
     "data": {
      "text/plain": [
       "3"
      ]
     },
     "execution_count": 40,
     "metadata": {},
     "output_type": "execute_result"
    }
   ],
   "source": [
    "s = '''5 3\n",
    "89 90 78 93 80\n",
    "90 91 85 88 86  \n",
    "91 92 83 89 90.5'''\n",
    "inp = s.split('\\n')\n",
    "n,m=map(int,(inp[0].split()))\n"
   ]
  },
  {
   "cell_type": "code",
   "execution_count": 7,
   "metadata": {
    "collapsed": false,
    "scrolled": false
   },
   "outputs": [
    {
     "name": "stdout",
     "output_type": "stream",
     "text": [
      "2 1\n",
      "3 3\n",
      "4 3\n",
      "[0, 1, 1, 2, 3, 4, 4, 7, 8, 10, 12]\n"
     ]
    }
   ],
   "source": [
    "def Merge(A,B):\n",
    "    C =[];\n",
    "    i = 0\n",
    "    j = 0\n",
    "    while (i < len(A) and j < len(B)):\n",
    "        while ( i < len(A) and j < len(B) and A[i] <= B[j] ):\n",
    "            C.append(A[i])\n",
    "            i += 1;\n",
    "        while ( i < len(A) and j < len(B) and B[j] <= A[i] ):\n",
    "            C.append(B[j])\n",
    "            j += 1;\n",
    "        print (i,j)\n",
    "        \n",
    "    while ( i < len(A)):\n",
    "        C.append(A[i]);\n",
    "        i += 1\n",
    "    while (j < len(B)):\n",
    "        C.append(B[j])\n",
    "        j += 1\n",
    "    return C;\n",
    "\n",
    "A = [0,1,2,4]\n",
    "B = [1,3,4,7,8,10,12]\n",
    "c = Merge(A,B)\n",
    "print(c)"
   ]
  },
  {
   "cell_type": "code",
   "execution_count": null,
   "metadata": {
    "collapsed": true
   },
   "outputs": [],
   "source": []
  }
 ],
 "metadata": {
  "hide_input": false,
  "kernelspec": {
   "display_name": "Python 3",
   "language": "python",
   "name": "python3"
  },
  "language_info": {
   "codemirror_mode": {
    "name": "ipython",
    "version": 3
   },
   "file_extension": ".py",
   "mimetype": "text/x-python",
   "name": "python",
   "nbconvert_exporter": "python",
   "pygments_lexer": "ipython3",
   "version": "3.5.2"
  }
 },
 "nbformat": 4,
 "nbformat_minor": 0
}
