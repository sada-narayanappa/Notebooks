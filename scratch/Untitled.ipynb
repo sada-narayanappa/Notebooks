{
 "cells": [
  {
   "cell_type": "code",
   "execution_count": 37,
   "metadata": {},
   "outputs": [
    {
     "name": "stdout",
     "output_type": "stream",
     "text": [
      "=> {} 7\n",
      "=> {2: 0} 2\n"
     ]
    },
    {
     "data": {
      "text/plain": [
       "([0, 1], {2: 0})"
      ]
     },
     "execution_count": 37,
     "metadata": {},
     "output_type": "execute_result"
    }
   ],
   "source": [
    "def twoSum(nums: list, target: int) -> list:\n",
    "    t ={}\n",
    "    for i in range(len(nums)):\n",
    "        c = target - nums[i]\n",
    "        print(\"=>\",t,c)\n",
    "        if t.get(c,-1)>=0:\n",
    "            return [t[c], i],t\n",
    "        t[nums[i]] = i;\n",
    "\n",
    "    return [-1,-1],t\n",
    "\n",
    "\n",
    "a,t=twoSum([2,7,11,15],9)\n",
    "a,t"
   ]
  },
  {
   "cell_type": "markdown",
   "metadata": {},
   "source": [
    "## Merge Two lists"
   ]
  },
  {
   "cell_type": "code",
   "execution_count": 51,
   "metadata": {},
   "outputs": [],
   "source": [
    "# Definition for singly-linked list.\n",
    "class ListNode:\n",
    "    def __init__(self, val=0, next=None):\n",
    "        self.val = val\n",
    "        self.next = next\n",
    "\n",
    "def p(l):\n",
    "    while( l ):\n",
    "        print(l.val)\n",
    "        l = l.next\n",
    "    print('-------', l)\n",
    "            \n",
    "    \n",
    "def mergeTwoLists(l1: ListNode, l2: ListNode) -> ListNode:\n",
    "    if not l1 and not l2:\n",
    "        return l1\n",
    "    elif(not l1):\n",
    "        return l2\n",
    "    elif(not l2):\n",
    "        return l1\n",
    "\n",
    "    if ( l1.val < l2.val):\n",
    "        r = l1\n",
    "        l1= l1.next\n",
    "    else:\n",
    "        r = l2\n",
    "        l2= l2.next\n",
    "    l =r\n",
    "    #print(l.val)\n",
    "    while( l1 and l2):\n",
    "        if ( l1.val < l2.val):\n",
    "            l.next = l1\n",
    "            l = l1\n",
    "            l1= l1.next\n",
    "        else:\n",
    "            l.next = l2\n",
    "            l = l2\n",
    "            l2= l2.next\n",
    "        #print(l.val)\n",
    "    \n",
    "    #print(l.val, l2.val, l1, l2)\n",
    "    l.next = l1 if l1 else l2\n",
    "    #print(l.next, l.next.val)\n",
    "    return r\n",
    "\n"
   ]
  },
  {
   "cell_type": "code",
   "execution_count": 52,
   "metadata": {},
   "outputs": [
    {
     "name": "stdout",
     "output_type": "stream",
     "text": [
      "1\n",
      "2\n",
      "4\n",
      "------- None\n",
      "1\n",
      "3\n",
      "5\n",
      "------- None\n",
      "1\n",
      "1\n",
      "2\n",
      "3\n",
      "4\n",
      "5\n",
      "------- None\n"
     ]
    }
   ],
   "source": [
    "l1 = ListNode(1)\n",
    "l2 = ListNode(2)\n",
    "l3 = ListNode(4)\n",
    "l1.next = l2\n",
    "l2.next = l3\n",
    "\n",
    "r1 = ListNode(1)\n",
    "r2 = ListNode(3)\n",
    "r3 = ListNode(5)\n",
    "r1.next = r2\n",
    "r2.next = r3\n",
    "\n",
    "p(l1)\n",
    "p(r1)\n",
    "\n",
    "r = mergeTwoLists(l1, r1)\n",
    "p(r)"
   ]
  },
  {
   "cell_type": "markdown",
   "metadata": {},
   "source": [
    "## Longest Commons Prefix\n",
    "\n",
    "Write a function to find the longest common prefix string amongst an array of strings.\n",
    "\n",
    "If there is no common prefix, return an empty string \"\".\n",
    "\n",
    " \n",
    "\n",
    "Example 1:\n",
    "\n",
    "Input: strs = [\"flower\",\"flow\",\"flight\"]\n",
    "Output: \"fl\"\n",
    "Example 2:\n",
    "\n",
    "Input: strs = [\"dog\",\"racecar\",\"car\"]\n",
    "Output: \"\"\n",
    "Explanation: There is no common prefix among the input strings.\n",
    " "
   ]
  },
  {
   "cell_type": "code",
   "execution_count": 93,
   "metadata": {},
   "outputs": [
    {
     "name": "stdout",
     "output_type": "stream",
     "text": [
      "0 f f\n",
      "0 f f\n",
      "1 l l\n",
      "1 l l\n",
      "2 o o\n",
      "2 i o\n"
     ]
    },
    {
     "data": {
      "text/plain": [
       "'fl'"
      ]
     },
     "execution_count": 93,
     "metadata": {},
     "output_type": "execute_result"
    }
   ],
   "source": [
    "import numpy as np\n",
    "def longestCommonPrefix( strs ): # list[str]) -> str:\n",
    "    r, p = min([len(i) for i in strs]), 0\n",
    "    for i in range(r):\n",
    "        l = [s[i] for s in strs]\n",
    "        m = [l[0] == l[i] for i in range(len(l))]\n",
    "        print(l, m, p)\n",
    "        if (sum(m) == len(strs)):\n",
    "            p += 1\n",
    "        else:\n",
    "            break;\n",
    "        \n",
    "    return strs[0][0:p]\n",
    "\n",
    "def longestCommonPrefix( strs ): # list[str]) -> str:\n",
    "    for i in range(len(strs[0])):\n",
    "        for j in strs[1:]:\n",
    "            #print(i, j[i], strs[0][i])\n",
    "            if ( i >= len(j) or strs[0][i] != j[i]):\n",
    "                return strs[0][0:i]\n",
    "\n",
    "    return strs[0][0:i]\n",
    "\n",
    "strs = [\"flower\",\"flow\",\"flight\"] \n",
    "longestCommonPrefix(strs)"
   ]
  },
  {
   "cell_type": "code",
   "execution_count": 58,
   "metadata": {},
   "outputs": [],
   "source": [
    "import re\n",
    "l1='''\n",
    "Require not ip 107.23.255.32\n",
    "Require not ip 176.34.159.192\n",
    "Require not ip 177.71.207.128\n",
    "Require not ip 54.183.255.160\n",
    "Require not ip 54.228.16.32\n",
    "Require not ip 54.232.40.96\n",
    "Require not ip 54.241.32.64\n",
    "Require not ip 54.243.31.192\n",
    "Require not ip 54.245.168.0\n",
    "Require not ip 54.248.220.0\n",
    "Require not ip 54.251.31.160\n",
    "Require not ip 54.251.31.160\n",
    "Require not ip 54.252.254.224\n",
    "Require not ip 54.252.79.128\n",
    "Require not ip 54.255.254.192\n",
    "Require not ip 54.244.52.224\n",
    "Require not ip 54.250.253.192\n",
    "'''\n",
    "\n",
    "l2 = '''\n",
    "54.252.79.128 - \n",
    "176.34.159.192 -\n",
    "54.250.253.192 -\n",
    "54.251.31.160 - \n",
    "54.245.168.0 - -\n",
    "54.255.254.192 -\n",
    "54.248.220.0 - -\n",
    "54.244.52.224 - \n",
    "54.232.40.96 - -\n",
    "54.243.31.192 - \n",
    "54.241.32.64 - -\n",
    "54.252.254.224 -\n",
    "54.183.255.160 -\n",
    "54.228.16.32 - -\n",
    "107.23.255.32 - \n",
    "177.71.207.128 -\n",
    "54.252.79.128 - \n",
    "176.34.159.192 -\n",
    "54.250.253.192 -\n",
    "54.245.168.0 - -\n",
    "54.251.31.160 - \n",
    "54.255.254.192 -\n",
    "54.248.220.0 - -\n",
    "54.244.52.224 - \n",
    "54.232.40.96 - -\n",
    "'''\n",
    "\n",
    "f1 = sorted([c.strip()[re.search(r'\\d',  'Require not ip 54.232.40.96').span()[0]:] for c in l1.split(\"\\n\") if c])\n",
    "f2 = sorted(c.strip(' \\t-\\n') for c in l2.split(\"\\n\") if c.strip())"
   ]
  },
  {
   "cell_type": "code",
   "execution_count": 59,
   "metadata": {},
   "outputs": [
    {
     "name": "stdout",
     "output_type": "stream",
     "text": [
      "Require not ip 107.23.255.32\n",
      "Require not ip 176.34.159.192\n",
      "Require not ip 177.71.207.128\n",
      "Require not ip 54.183.255.160\n",
      "Require not ip 54.228.16.32\n",
      "Require not ip 54.232.40.96\n",
      "Require not ip 54.241.32.64\n",
      "Require not ip 54.243.31.192\n",
      "Require not ip 54.244.52.224\n",
      "Require not ip 54.245.168.0\n",
      "Require not ip 54.248.220.0\n",
      "Require not ip 54.250.253.192\n",
      "Require not ip 54.251.31.160\n",
      "Require not ip 54.251.31.160\n",
      "Require not ip 54.252.254.224\n",
      "Require not ip 54.252.79.128\n",
      "Require not ip 54.255.254.192\n"
     ]
    }
   ],
   "source": [
    "for i,e in enumerate(f2):\n",
    "    if e not in f1:\n",
    "        print(f\"{e}\")\n",
    "        f1.append(e)\n",
    "for e in f1:\n",
    "    print(f'Require not ip {e}')"
   ]
  },
  {
   "cell_type": "code",
   "execution_count": 63,
   "metadata": {},
   "outputs": [
    {
     "data": {
      "text/plain": [
       "4"
      ]
     },
     "execution_count": 63,
     "metadata": {},
     "output_type": "execute_result"
    }
   ],
   "source": [
    "lst = [23,4,5,6,5,232, 54, 10]\n",
    "\n",
    "def minList(lst):\n",
    "    if ( len(lst) <=0 ):\n",
    "        return None\n",
    "    min= lst[0]\n",
    "    for i in range(1, len(lst)):\n",
    "        if ( lst[i] < min):\n",
    "            min = lst[i]\n",
    "\n",
    "    return min\n",
    "\n",
    "minList(lst)"
   ]
  },
  {
   "cell_type": "code",
   "execution_count": 3,
   "metadata": {},
   "outputs": [
    {
     "ename": "ModuleNotFoundError",
     "evalue": "No module named 'urllib2'",
     "output_type": "error",
     "traceback": [
      "\u001b[0;31m---------------------------------------------------------------------------\u001b[0m",
      "\u001b[0;31mModuleNotFoundError\u001b[0m                       Traceback (most recent call last)",
      "\u001b[0;32m<ipython-input-3-44059c0e9862>\u001b[0m in \u001b[0;36m<module>\u001b[0;34m\u001b[0m\n\u001b[1;32m      1\u001b[0m \u001b[0;32mimport\u001b[0m \u001b[0murllib\u001b[0m\u001b[0;34m\u001b[0m\u001b[0;34m\u001b[0m\u001b[0m\n\u001b[0;32m----> 2\u001b[0;31m \u001b[0;32mimport\u001b[0m \u001b[0murllib2\u001b[0m\u001b[0;34m\u001b[0m\u001b[0;34m\u001b[0m\u001b[0m\n\u001b[0m\u001b[1;32m      3\u001b[0m \u001b[0;34m\u001b[0m\u001b[0m\n\u001b[1;32m      4\u001b[0m \u001b[0;32mdef\u001b[0m \u001b[0mlatex2svg\u001b[0m\u001b[0;34m(\u001b[0m\u001b[0mlatexcode\u001b[0m\u001b[0;34m)\u001b[0m\u001b[0;34m:\u001b[0m\u001b[0;34m\u001b[0m\u001b[0;34m\u001b[0m\u001b[0m\n\u001b[1;32m      5\u001b[0m     \"\"\"\n",
      "\u001b[0;31mModuleNotFoundError\u001b[0m: No module named 'urllib2'"
     ]
    }
   ],
   "source": [
    "import urllib\n",
    "import urllib2\n",
    "\n",
    "def latex2svg(latexcode):\n",
    "    \"\"\"\n",
    "    Turn LaTeX string to an SVG formatted string using the online SVGKit\n",
    "    found at: http://svgkit.sourceforge.net/tests/latex_tests.html\n",
    "    \"\"\"\n",
    "    txdata = urllib.urlencode({\"latex\": latexcode})\n",
    "    url = \"http://svgkit.sourceforge.net/cgi-bin/latex2svg.py\"\n",
    "    req = urllib2.Request(url, txdata)\n",
    "    return urllib2.urlopen(req).read()\n",
    "\n",
    "print (latex2svg(\"2+2=4\"))\n",
    "print (latex2svg(\"\\\\frac{1}{2\\\\pi}\"))\n"
   ]
  },
  {
   "cell_type": "code",
   "execution_count": null,
   "metadata": {},
   "outputs": [],
   "source": []
  }
 ],
 "metadata": {
  "anaconda-cloud": {},
  "hide_input": false,
  "kernelspec": {
   "display_name": "Python 3",
   "language": "python",
   "name": "python3"
  },
  "language_info": {
   "codemirror_mode": {
    "name": "ipython",
    "version": 3
   },
   "file_extension": ".py",
   "mimetype": "text/x-python",
   "name": "python",
   "nbconvert_exporter": "python",
   "pygments_lexer": "ipython3",
   "version": "3.8.3"
  },
  "toc": {
   "base_numbering": 1,
   "nav_menu": {},
   "number_sections": true,
   "sideBar": true,
   "skip_h1_title": false,
   "title_cell": "Table of Contents",
   "title_sidebar": "Contents",
   "toc_cell": false,
   "toc_position": {},
   "toc_section_display": true,
   "toc_window_display": false
  }
 },
 "nbformat": 4,
 "nbformat_minor": 1
}
