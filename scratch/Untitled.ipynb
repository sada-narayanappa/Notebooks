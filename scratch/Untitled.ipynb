{
 "cells": [
  {
   "cell_type": "code",
   "execution_count": 2,
   "metadata": {
    "collapsed": false
   },
   "outputs": [],
   "source": [
    "import pandas as pd\n",
    "from handsontablesjs import *\n",
    "\n",
    "data = np.random.randint(size=(3, 5), low=100, high=900) \n",
    "df = pd.DataFrame(data)\n",
    "\n",
    "ht = HandsonTable(value=df)"
   ]
  },
  {
   "cell_type": "code",
   "execution_count": 3,
   "metadata": {
    "collapsed": true
   },
   "outputs": [],
   "source": [
    "ht."
   ]
  },
  {
   "cell_type": "code",
   "execution_count": 4,
   "metadata": {
    "collapsed": false
   },
   "outputs": [
    {
     "data": {
      "text/html": [
       "\n",
       "<link  href=\"handsontable/dist/handsontable.full.min.css \" rel=\"stylesheet\" type=\"text/css\" />\n",
       "<script src=\"handsontable/dist/handsontable.full.min.js \" type=\"text/javascript\"></script>\n",
       "\n",
       " \n"
      ],
      "text/plain": [
       "<IPython.core.display.HTML object>"
      ]
     },
     "metadata": {},
     "output_type": "display_data"
    }
   ],
   "source": [
    "%%html\n",
    "\n",
    "<link  href=\"handsontable/dist/handsontable.full.min.css \" rel=\"stylesheet\" type=\"text/css\" />\n",
    "<script src=\"handsontable/dist/handsontable.full.min.js \" type=\"text/javascript\"></script>"
   ]
  }
 ],
 "metadata": {
  "anaconda-cloud": {},
  "hide_input": false,
  "kernelspec": {
   "display_name": "Python [default]",
   "language": "python",
   "name": "python3"
  },
  "language_info": {
   "codemirror_mode": {
    "name": "ipython",
    "version": 3
   },
   "file_extension": ".py",
   "mimetype": "text/x-python",
   "name": "python",
   "nbconvert_exporter": "python",
   "pygments_lexer": "ipython3",
   "version": "3.5.2"
  }
 },
 "nbformat": 4,
 "nbformat_minor": 1
}
