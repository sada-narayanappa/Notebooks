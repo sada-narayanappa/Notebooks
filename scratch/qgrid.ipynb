{
 "cells": [
  {
   "cell_type": "code",
   "execution_count": 1,
   "metadata": {
    "collapsed": false,
    "jupyter": {
     "outputs_hidden": false
    }
   },
   "outputs": [
    {
     "data": {
      "text/html": [
       "<style>\n",
       "body {\n",
       "    font-family: \"Lucida Grande\", \"Lucida Sans Unicode\", verdana, geneva, sans-serif;\n",
       "    font-size: 10pt;\n",
       "}\n",
       "\n",
       "CodeMirror-gutters {\n",
       "    border-right: 0px solid #ddd;\n",
       "    background-color: #f7f7f7;\n",
       "    white-space: nowrap;\n",
       "}\n",
       "\n",
       "\n",
       "div#notebook{\n",
       "    font-size: 12px;    \n",
       "}\n",
       ".CodeMirror {\n",
       "    font-size: 12px;\n",
       "}    \n",
       "    \n",
       ".imgs {\n",
       "    width: 250px;\n",
       "    align: left;\n",
       "    float: left;\n",
       "    padding-right: 50px;\n",
       "    padding-top: 20px;\n",
       "    border: 0px gray;\n",
       "}\n",
       ".imgs1 {\n",
       "    align: left;\n",
       "    float: left;\n",
       "    padding-right: 50px;\n",
       "    padding-top: 20px;\n",
       "    border-top: 1px solid gray;\n",
       "    border-bottom: 1px solid gray;\n",
       "    margin-right: 50px;\n",
       "}\n",
       "hr {\n",
       "    height:3px;\n",
       "    border:none;\n",
       "    color:#333;\n",
       "    background-color:#333;\"\n",
       "}\n",
       "p {\n",
       "  margin: 10px auto;\n",
       "  padding: 6px 10px;\n",
       "  font-weight: 300;\n",
       "  font-size: 16px;\n",
       "  line-height: 1.4;\n",
       "}\n",
       "\n",
       "h1 {\n",
       "    margin: 20px auto 0px;\n",
       "    padding: 0 10px;\n",
       "    text-align: center;\n",
       "    font-size: 80px;\n",
       "    font-weight: 300;\n",
       "    mmax-width: 800px;\n",
       "}\n",
       "\n",
       "h4 {\n",
       "  max-width: 800px;\n",
       "  margin: 0 auto;\n",
       "  padding: 10px 10px;\n",
       "  font-family: sans-serif;\n",
       "}\n",
       "\n",
       "h5 {\n",
       "    padding-top: 8px;\n",
       "    padding-botton: 8px;\n",
       "    border-top:    1px solid gray;\n",
       "    border-bottom: 2px solid gray;\n",
       "}\n",
       "\n",
       "h6 {\n",
       "    padding-top: 14px;\n",
       "    padding-botton: 16px;\n",
       "    border-top:    2px solid #cccccc;\n",
       "    border-bottom: 2px solid #cccccc;\n",
       "}\n",
       "\n",
       ".thumbnail  {\n",
       "\tposition: relative;\n",
       "\tfloat: left;\n",
       "\tpadding: 0px;\n",
       "\tz-index: 3;\n",
       "}\n",
       "\n",
       ".thumbnail:hover {\n",
       "\tbackground-color: #e9e9e2;\n",
       "\tcolor: #335500;\n",
       "\ttext-decoration: none;\n",
       "}\n",
       "\n",
       ".thumbnail span { /*CSS for enlarged image*/\n",
       "\tposition: fixed;\n",
       "    opacity: 1.5;\n",
       "    background-color: #e5e5e5; \n",
       "\tpadding: 5px;\n",
       "\tborder: 1px solid #666;\n",
       "\tvisibility: hidden;\n",
       "\tcolor: black;\n",
       "\ttext-decoration: none;\n",
       "\ttop:  150px; /* use IF IE6 style to correct IE6 positions of larger image relative to thumb */\n",
       "\tright: 50px;/*position where enlarged image should offset horizontally */\n",
       "\tz-index: 9999;\n",
       "    filter: alpha(opacity=100); \n",
       "}\n",
       "\n",
       ".thumbnail:hover span { /*CSS for enlarged image on hover*/\n",
       "\tvisibility: visible; \n",
       "\twidth: 500px;\n",
       "}\n",
       "    \n",
       ".container { width: 100% !important; }\n",
       "    div.cell{\n",
       "        width:100%;\n",
       "        margin-left:0%;\n",
       "        margin-right:auto;\n",
       "}\n",
       "    \n",
       "div.prompt {display: none}\n",
       "\n",
       ".prompt {\n",
       "    min-width: 4ex;\n",
       "    height: 20%;\n",
       "}\n",
       "    \n",
       ".CodeMirror-gutters {\n",
       "    border-bottom-left-radius: 2px;\n",
       "    border-top-left-radius: 2px;\n",
       "    border-left: 5px solid #336699;\n",
       "}\n",
       "\n",
       "\n",
       "</style>\n",
       "\n",
       "<!--\n",
       "<script type=\"text/javascript\" src=\"http://ajax.googleapis.com/ajax/libs/jquery/1.3/jquery.min.js\"></script>\n",
       "<-->\n",
       "<script src=\"https://ajax.googleapis.com/ajax/libs/angularjs/1.5.7/angular.min.js\"></script>\n",
       "    \n",
       "<script>\n",
       "function log(e) {\n",
       "    console.log(e)\n",
       "    \n",
       "}\n",
       "\n",
       "function toggleDiv(divId) {\n",
       "   $(\"#\"+divId).toggle();\n",
       "\n",
       "}\n",
       "</script>"
      ],
      "text/plain": [
       "<IPython.core.display.HTML object>"
      ]
     },
     "metadata": {},
     "output_type": "display_data"
    },
    {
     "data": {
      "application/javascript": [
       "//IPython.notebook.execute_cell_and_select_below()\n",
       "\n",
       "IPython.keyboard_manager.edit_shortcuts.add_shortcut('alt-enter', {\n",
       "    help : \"run cell and keep focus\", //This is optional\n",
       "    handler : function (event) {\n",
       "        //console.log(\"sada\")\n",
       "        IPython.notebook.execute_cell_and_select_below();\n",
       "        //IPython.notebook.execute_cell();\n",
       "        //IPython.notebook.select_next();\n",
       "        \n",
       "        return false;\n",
       "    }}\n",
       ");"
      ],
      "text/plain": [
       "<IPython.core.display.Javascript object>"
      ]
     },
     "metadata": {},
     "output_type": "display_data"
    },
    {
     "data": {
      "application/javascript": [
       "\n",
       "IPython.keyboard_manager.edit_shortcuts.add_shortcut('shift-enter', {\n",
       "    help : \"run cell and keep focus\", //This is optional\n",
       "    handler : function (event) {\n",
       "        IPython.notebook.execute_cell();\n",
       "        IPython.notebook.edit_mode();\n",
       "        return false;\n",
       "    }}\n",
       ");"
      ],
      "text/plain": [
       "<IPython.core.display.Javascript object>"
      ]
     },
     "metadata": {},
     "output_type": "display_data"
    },
    {
     "data": {
      "application/javascript": [
       "\n",
       "function launch_first_cell (evt) {\n",
       "    $(\"div *\").attr('disabled', true);\n",
       "}\n",
       "\n",
       "if (window.location.href.indexOf(\"10000\") >=0 ) {\n",
       "    console.log(\"read only mode\")\n",
       "    $(\"#header\").css({\"display\": \"none\"})\n",
       "    //$(\"#menubar-container\").css({\"display\": \"none\"})\n",
       "    $(\"#notebook\").css({\"padding-top\": \"0\"})\n",
       "    $(\"#header-container\").html( \n",
       "        \"<div style={'background-color: gray; height: 40px; font-size:12px; font:100%'}> </div>\"\n",
       "    )\n",
       "    $(\"div.cell.selected *\").attr('border-color', 'None');\n",
       "    \n",
       "    $(\"div *\").attr('disabled', true);\n",
       "    //run_control.read_only = true \n",
       "    $( document ).ready(function() {\n",
       "        $(\"div *\").attr('disabled', true);\n",
       "    });\n",
       "    $([IPython.events]).on('kernel_ready.Kernel kernel_created.Session notebook_loaded.Notebook', launch_first_cell);\n",
       "}\n"
      ],
      "text/plain": [
       "<IPython.core.display.Javascript object>"
      ]
     },
     "metadata": {},
     "output_type": "display_data"
    }
   ],
   "source": [
    "%run \"../PyUtils/common.ipynb\""
   ]
  },
  {
   "cell_type": "code",
   "execution_count": 2,
   "metadata": {
    "collapsed": false,
    "jupyter": {
     "outputs_hidden": false
    }
   },
   "outputs": [],
   "source": [
    "import pandas as pd\n",
    "import numpy as np\n",
    "import qgrid\n",
    "qgrid.nbinstall(overwrite=True)  # copies javascript dependencies to your /nbextensions folder\n",
    "from pandas_datareader.data import get_data_yahoo\n",
    "spy = get_data_yahoo(\n",
    "    symbols='SPY',  \n",
    "    start=pd.Timestamp('2011-01-01'),  \n",
    "    end=pd.Timestamp('2014-01-01'),\n",
    "    adjust_price=True,\n",
    ")\n",
    "spy\n",
    "opts = {\n",
    "    'fullWidthRows': True,\n",
    "    'syncColumnCellResize': True,\n",
    "    'forceFitColumns': False,\n",
    "    'rowHeight': 26,\n",
    "    'enableColumnReorder': True,\n",
    "    'enableTextSelectionOnCells': True,\n",
    "    'editable': True,\n",
    "    'autoEdit': True,\n",
    "    #'defaultColumnWidth': 125\n",
    "}\n",
    "import qgrid\n",
    "qgrid.nbinstall(overwrite=True)  # copies javascript dependencies to your /nbextensions folder\n"
   ]
  },
  {
   "cell_type": "code",
   "execution_count": 9,
   "metadata": {
    "collapsed": true,
    "jupyter": {
     "outputs_hidden": true
    }
   },
   "outputs": [],
   "source": [
    "file=\"../Notes/MCMC/cb2.xlsx\"\n",
    "df2 = LoadDataSet(file, sheetname=0);\n",
    "df2.fillna('', inplace=True)\n",
    "df2.index = range(len(df2))\n",
    "grid = qgrid.QGridWidget(df=df2)\n",
    "#display(grid);\n",
    "qgrid.show_grid(df2, show_toolbar=True, grid_options= opts )"
   ]
  },
  {
   "cell_type": "code",
   "execution_count": 6,
   "metadata": {
    "collapsed": false,
    "jupyter": {
     "outputs_hidden": false
    }
   },
   "outputs": [],
   "source": [
    "from IPython.display import display\n",
    "grid = qgrid.QGridWidget(df=spy)\n",
    "#display(grid);\n",
    "qgrid.show_grid(spy, show_toolbar=True, grid_options= opts )"
   ]
  },
  {
   "cell_type": "code",
   "execution_count": 4,
   "metadata": {
    "collapsed": false,
    "jupyter": {
     "outputs_hidden": false
    }
   },
   "outputs": [],
   "source": [
    "def setOpts(grid):\n",
    "    grid.font_size='1.5em'\n",
    "    grid.height = '150px'\n",
    "    #grid.grid_options = opts\n",
    "    #grid.border = '2px solid blue'\n",
    "setOpts(grid)\n",
    "#grid.visible = False\n",
    "#grid.visible = True\n",
    "def o(r):\n",
    "#    print(r)\n",
    "    pass\n",
    "grid.observe(o)\n"
   ]
  },
  {
   "cell_type": "code",
   "execution_count": null,
   "metadata": {
    "collapsed": false,
    "jupyter": {
     "outputs_hidden": false
    }
   },
   "outputs": [],
   "source": [
    "grid.trait_events()"
   ]
  },
  {
   "cell_type": "code",
   "execution_count": 5,
   "metadata": {
    "collapsed": false,
    "jupyter": {
     "outputs_hidden": false
    }
   },
   "outputs": [
    {
     "data": {
      "text/html": [
       "<div>\n",
       "<table border=\"1\" class=\"dataframe\">\n",
       "  <thead>\n",
       "    <tr style=\"text-align: right;\">\n",
       "      <th></th>\n",
       "      <th>Open</th>\n",
       "      <th>High</th>\n",
       "      <th>Low</th>\n",
       "      <th>Close</th>\n",
       "      <th>Volume</th>\n",
       "      <th>Adj_Ratio</th>\n",
       "    </tr>\n",
       "    <tr>\n",
       "      <th>Date</th>\n",
       "      <th></th>\n",
       "      <th></th>\n",
       "      <th></th>\n",
       "      <th></th>\n",
       "      <th></th>\n",
       "      <th></th>\n",
       "    </tr>\n",
       "  </thead>\n",
       "  <tbody>\n",
       "    <tr>\n",
       "      <th>2011-01-03</th>\n",
       "      <td>111.965</td>\n",
       "      <td>112.752</td>\n",
       "      <td>111.073</td>\n",
       "      <td>112.266</td>\n",
       "      <td>138725200</td>\n",
       "      <td>0.884</td>\n",
       "    </tr>\n",
       "    <tr>\n",
       "      <th>2011-01-04</th>\n",
       "      <td>112.513</td>\n",
       "      <td>112.549</td>\n",
       "      <td>111.506</td>\n",
       "      <td>112.204</td>\n",
       "      <td>137409700</td>\n",
       "      <td>0.884</td>\n",
       "    </tr>\n",
       "    <tr>\n",
       "      <th>2011-01-05</th>\n",
       "      <td>111.851</td>\n",
       "      <td>112.858</td>\n",
       "      <td>111.745</td>\n",
       "      <td>112.787</td>\n",
       "      <td>133975300</td>\n",
       "      <td>0.884</td>\n",
       "    </tr>\n",
       "    <tr>\n",
       "      <th>2011-01-06</th>\n",
       "      <td>112.831</td>\n",
       "      <td>112.955</td>\n",
       "      <td>112.231</td>\n",
       "      <td>112.566</td>\n",
       "      <td>122519000</td>\n",
       "      <td>0.884</td>\n",
       "    </tr>\n",
       "    <tr>\n",
       "      <th>2011-01-07</th>\n",
       "      <td>112.717</td>\n",
       "      <td>112.902</td>\n",
       "      <td>111.471</td>\n",
       "      <td>112.345</td>\n",
       "      <td>156034600</td>\n",
       "      <td>0.884</td>\n",
       "    </tr>\n",
       "    <tr>\n",
       "      <th>2011-01-10</th>\n",
       "      <td>111.851</td>\n",
       "      <td>112.363</td>\n",
       "      <td>111.515</td>\n",
       "      <td>112.204</td>\n",
       "      <td>122401700</td>\n",
       "      <td>0.884</td>\n",
       "    </tr>\n",
       "    <tr>\n",
       "      <th>2011-01-11</th>\n",
       "      <td>112.610</td>\n",
       "      <td>112.876</td>\n",
       "      <td>112.178</td>\n",
       "      <td>112.602</td>\n",
       "      <td>110287000</td>\n",
       "      <td>0.884</td>\n",
       "    </tr>\n",
       "    <tr>\n",
       "      <th>...</th>\n",
       "      <td>...</td>\n",
       "      <td>...</td>\n",
       "      <td>...</td>\n",
       "      <td>...</td>\n",
       "      <td>...</td>\n",
       "      <td>...</td>\n",
       "    </tr>\n",
       "    <tr>\n",
       "      <th>2013-12-20</th>\n",
       "      <td>169.993</td>\n",
       "      <td>171.216</td>\n",
       "      <td>169.880</td>\n",
       "      <td>170.812</td>\n",
       "      <td>197087000</td>\n",
       "      <td>0.941</td>\n",
       "    </tr>\n",
       "    <tr>\n",
       "      <th>2013-12-23</th>\n",
       "      <td>171.649</td>\n",
       "      <td>171.828</td>\n",
       "      <td>171.292</td>\n",
       "      <td>171.724</td>\n",
       "      <td>85598000</td>\n",
       "      <td>0.941</td>\n",
       "    </tr>\n",
       "    <tr>\n",
       "      <th>2013-12-24</th>\n",
       "      <td>171.734</td>\n",
       "      <td>172.176</td>\n",
       "      <td>171.724</td>\n",
       "      <td>172.101</td>\n",
       "      <td>45368800</td>\n",
       "      <td>0.941</td>\n",
       "    </tr>\n",
       "    <tr>\n",
       "      <th>2013-12-26</th>\n",
       "      <td>172.486</td>\n",
       "      <td>173.070</td>\n",
       "      <td>172.468</td>\n",
       "      <td>172.976</td>\n",
       "      <td>63365000</td>\n",
       "      <td>0.941</td>\n",
       "    </tr>\n",
       "    <tr>\n",
       "      <th>2013-12-27</th>\n",
       "      <td>173.201</td>\n",
       "      <td>173.277</td>\n",
       "      <td>172.787</td>\n",
       "      <td>172.966</td>\n",
       "      <td>61814000</td>\n",
       "      <td>0.941</td>\n",
       "    </tr>\n",
       "    <tr>\n",
       "      <th>2013-12-30</th>\n",
       "      <td>172.985</td>\n",
       "      <td>173.126</td>\n",
       "      <td>172.712</td>\n",
       "      <td>172.938</td>\n",
       "      <td>56857000</td>\n",
       "      <td>0.941</td>\n",
       "    </tr>\n",
       "    <tr>\n",
       "      <th>2013-12-31</th>\n",
       "      <td>173.173</td>\n",
       "      <td>173.756</td>\n",
       "      <td>173.041</td>\n",
       "      <td>173.756</td>\n",
       "      <td>86119900</td>\n",
       "      <td>0.941</td>\n",
       "    </tr>\n",
       "  </tbody>\n",
       "</table>\n",
       "<p>754 rows × 6 columns</p>\n",
       "</div>"
      ],
      "text/plain": [
       "              Open    High     Low   Close     Volume  Adj_Ratio\n",
       "Date                                                            \n",
       "2011-01-03 111.965 112.752 111.073 112.266  138725200      0.884\n",
       "2011-01-04 112.513 112.549 111.506 112.204  137409700      0.884\n",
       "2011-01-05 111.851 112.858 111.745 112.787  133975300      0.884\n",
       "2011-01-06 112.831 112.955 112.231 112.566  122519000      0.884\n",
       "2011-01-07 112.717 112.902 111.471 112.345  156034600      0.884\n",
       "2011-01-10 111.851 112.363 111.515 112.204  122401700      0.884\n",
       "2011-01-11 112.610 112.876 112.178 112.602  110287000      0.884\n",
       "...            ...     ...     ...     ...        ...        ...\n",
       "2013-12-20 169.993 171.216 169.880 170.812  197087000      0.941\n",
       "2013-12-23 171.649 171.828 171.292 171.724   85598000      0.941\n",
       "2013-12-24 171.734 172.176 171.724 172.101   45368800      0.941\n",
       "2013-12-26 172.486 173.070 172.468 172.976   63365000      0.941\n",
       "2013-12-27 173.201 173.277 172.787 172.966   61814000      0.941\n",
       "2013-12-30 172.985 173.126 172.712 172.938   56857000      0.941\n",
       "2013-12-31 173.173 173.756 173.041 173.756   86119900      0.941\n",
       "\n",
       "[754 rows x 6 columns]"
      ]
     },
     "execution_count": 5,
     "metadata": {},
     "output_type": "execute_result"
    }
   ],
   "source": [
    "pd.set_option(\"display.max_rows\", 15)\n",
    "spy"
   ]
  },
  {
   "cell_type": "code",
   "execution_count": 4,
   "metadata": {},
   "outputs": [
    {
     "data": {
      "text/html": [
       "<div>\n",
       "<style scoped>\n",
       "    .dataframe tbody tr th:only-of-type {\n",
       "        vertical-align: middle;\n",
       "    }\n",
       "\n",
       "    .dataframe tbody tr th {\n",
       "        vertical-align: top;\n",
       "    }\n",
       "\n",
       "    .dataframe thead th {\n",
       "        text-align: right;\n",
       "    }\n",
       "</style>\n",
       "<table border=\"1\" class=\"dataframe\">\n",
       "  <thead>\n",
       "    <tr style=\"text-align: right;\">\n",
       "      <th></th>\n",
       "      <th>time</th>\n",
       "      <th>time_epoch</th>\n",
       "      <th>A</th>\n",
       "      <th>B</th>\n",
       "      <th>C</th>\n",
       "      <th>D</th>\n",
       "      <th>E</th>\n",
       "      <th>F</th>\n",
       "      <th>G</th>\n",
       "    </tr>\n",
       "  </thead>\n",
       "  <tbody>\n",
       "    <tr>\n",
       "      <th>0</th>\n",
       "      <td>1970-01-01 00:01:00</td>\n",
       "      <td>60000</td>\n",
       "      <td>94.502279</td>\n",
       "      <td>156.472502</td>\n",
       "      <td>148.5</td>\n",
       "      <td>64.516074</td>\n",
       "      <td>25.059643</td>\n",
       "      <td>50.309681</td>\n",
       "      <td>47.875709</td>\n",
       "    </tr>\n",
       "    <tr>\n",
       "      <th>1</th>\n",
       "      <td>1970-01-01 00:02:00</td>\n",
       "      <td>120000</td>\n",
       "      <td>94.806195</td>\n",
       "      <td>156.706373</td>\n",
       "      <td>148.5</td>\n",
       "      <td>64.115110</td>\n",
       "      <td>24.957485</td>\n",
       "      <td>52.318899</td>\n",
       "      <td>47.933546</td>\n",
       "    </tr>\n",
       "    <tr>\n",
       "      <th>2</th>\n",
       "      <td>1970-01-01 00:03:00</td>\n",
       "      <td>180000</td>\n",
       "      <td>94.602035</td>\n",
       "      <td>156.691144</td>\n",
       "      <td>148.5</td>\n",
       "      <td>64.189348</td>\n",
       "      <td>24.690865</td>\n",
       "      <td>53.450254</td>\n",
       "      <td>48.524317</td>\n",
       "    </tr>\n",
       "    <tr>\n",
       "      <th>3</th>\n",
       "      <td>1970-01-01 00:04:00</td>\n",
       "      <td>240000</td>\n",
       "      <td>94.670353</td>\n",
       "      <td>156.496454</td>\n",
       "      <td>148.5</td>\n",
       "      <td>62.643084</td>\n",
       "      <td>24.725614</td>\n",
       "      <td>53.903586</td>\n",
       "      <td>49.280039</td>\n",
       "    </tr>\n",
       "    <tr>\n",
       "      <th>4</th>\n",
       "      <td>1970-01-01 00:05:00</td>\n",
       "      <td>300000</td>\n",
       "      <td>94.773446</td>\n",
       "      <td>156.812352</td>\n",
       "      <td>148.5</td>\n",
       "      <td>62.397955</td>\n",
       "      <td>24.926901</td>\n",
       "      <td>51.922754</td>\n",
       "      <td>49.678105</td>\n",
       "    </tr>\n",
       "    <tr>\n",
       "      <th>5</th>\n",
       "      <td>1970-01-01 00:06:00</td>\n",
       "      <td>360000</td>\n",
       "      <td>94.988226</td>\n",
       "      <td>156.862332</td>\n",
       "      <td>148.5</td>\n",
       "      <td>62.250797</td>\n",
       "      <td>25.058199</td>\n",
       "      <td>51.304056</td>\n",
       "      <td>49.555948</td>\n",
       "    </tr>\n",
       "    <tr>\n",
       "      <th>6</th>\n",
       "      <td>1970-01-01 00:07:00</td>\n",
       "      <td>420000</td>\n",
       "      <td>95.136126</td>\n",
       "      <td>156.442654</td>\n",
       "      <td>148.5</td>\n",
       "      <td>62.827164</td>\n",
       "      <td>25.200039</td>\n",
       "      <td>50.977912</td>\n",
       "      <td>49.406621</td>\n",
       "    </tr>\n",
       "    <tr>\n",
       "      <th>7</th>\n",
       "      <td>1970-01-01 00:08:00</td>\n",
       "      <td>480000</td>\n",
       "      <td>94.940064</td>\n",
       "      <td>156.649112</td>\n",
       "      <td>148.5</td>\n",
       "      <td>63.130594</td>\n",
       "      <td>24.980238</td>\n",
       "      <td>50.671936</td>\n",
       "      <td>49.238042</td>\n",
       "    </tr>\n",
       "    <tr>\n",
       "      <th>8</th>\n",
       "      <td>1970-01-01 00:09:00</td>\n",
       "      <td>540000</td>\n",
       "      <td>95.063763</td>\n",
       "      <td>156.529197</td>\n",
       "      <td>148.5</td>\n",
       "      <td>63.507912</td>\n",
       "      <td>25.178209</td>\n",
       "      <td>50.465806</td>\n",
       "      <td>49.006822</td>\n",
       "    </tr>\n",
       "    <tr>\n",
       "      <th>9</th>\n",
       "      <td>1970-01-01 00:10:00</td>\n",
       "      <td>600000</td>\n",
       "      <td>94.700157</td>\n",
       "      <td>156.535884</td>\n",
       "      <td>148.5</td>\n",
       "      <td>64.288817</td>\n",
       "      <td>24.946736</td>\n",
       "      <td>51.301328</td>\n",
       "      <td>48.808669</td>\n",
       "    </tr>\n",
       "  </tbody>\n",
       "</table>\n",
       "</div>"
      ],
      "text/plain": [
       "                 time  time_epoch          A           B      C          D  \\\n",
       "0 1970-01-01 00:01:00       60000  94.502279  156.472502  148.5  64.516074   \n",
       "1 1970-01-01 00:02:00      120000  94.806195  156.706373  148.5  64.115110   \n",
       "2 1970-01-01 00:03:00      180000  94.602035  156.691144  148.5  64.189348   \n",
       "3 1970-01-01 00:04:00      240000  94.670353  156.496454  148.5  62.643084   \n",
       "4 1970-01-01 00:05:00      300000  94.773446  156.812352  148.5  62.397955   \n",
       "5 1970-01-01 00:06:00      360000  94.988226  156.862332  148.5  62.250797   \n",
       "6 1970-01-01 00:07:00      420000  95.136126  156.442654  148.5  62.827164   \n",
       "7 1970-01-01 00:08:00      480000  94.940064  156.649112  148.5  63.130594   \n",
       "8 1970-01-01 00:09:00      540000  95.063763  156.529197  148.5  63.507912   \n",
       "9 1970-01-01 00:10:00      600000  94.700157  156.535884  148.5  64.288817   \n",
       "\n",
       "           E          F          G  \n",
       "0  25.059643  50.309681  47.875709  \n",
       "1  24.957485  52.318899  47.933546  \n",
       "2  24.690865  53.450254  48.524317  \n",
       "3  24.725614  53.903586  49.280039  \n",
       "4  24.926901  51.922754  49.678105  \n",
       "5  25.058199  51.304056  49.555948  \n",
       "6  25.200039  50.977912  49.406621  \n",
       "7  24.980238  50.671936  49.238042  \n",
       "8  25.178209  50.465806  49.006822  \n",
       "9  24.946736  51.301328  48.808669  "
      ]
     },
     "execution_count": 4,
     "metadata": {},
     "output_type": "execute_result"
    }
   ],
   "source": [
    "import pandas as pd\n",
    "\n",
    "df = pd.read_excel(\"~/Desktop/data/example.xlsx\")\n",
    "df[0:10]"
   ]
  },
  {
   "cell_type": "code",
   "execution_count": 10,
   "metadata": {},
   "outputs": [
    {
     "data": {
      "text/plain": [
       "(Timestamp('1970-01-01 00:01:00'), Timestamp('1970-01-01 00:49:00'))"
      ]
     },
     "execution_count": 10,
     "metadata": {},
     "output_type": "execute_result"
    }
   ],
   "source": [
    "df1=df\n",
    "t1 = df1[df1.columns[0]].values[0]\n",
    "t2 = df1[df1.columns[0]].values[-1]\n",
    "t11, t12= pd.to_datetime([t1,t2], unit=None)\n",
    "t11, t12"
   ]
  },
  {
   "cell_type": "code",
   "execution_count": 14,
   "metadata": {},
   "outputs": [
    {
     "data": {
      "text/plain": [
       "'time'"
      ]
     },
     "execution_count": 14,
     "metadata": {},
     "output_type": "execute_result"
    }
   ],
   "source": [
    "import pandas.api.types \n",
    "\n",
    "timeCol='time' \n",
    "if not timeCol in df1.columns:\n",
    "    timeCol = df1.columns[0]\n",
    "unit=None\n",
    "if (df.dtypes[timeCol] == pandas.api.types.is_number):\n",
    "    if (df[timeCol]\n",
    "\n",
    "timeCol"
   ]
  },
  {
   "cell_type": "code",
   "execution_count": 28,
   "metadata": {},
   "outputs": [
    {
     "data": {
      "text/plain": [
       "True"
      ]
     },
     "execution_count": 28,
     "metadata": {},
     "output_type": "execute_result"
    }
   ],
   "source": [
    "timeCol='time_epoch'\n",
    "if (df[timeCol][0] > time.time()):\n",
    "    unit=\"us\"\n",
    "    \n",
    "timeCol"
   ]
  },
  {
   "cell_type": "code",
   "execution_count": 34,
   "metadata": {},
   "outputs": [
    {
     "data": {
      "text/plain": [
       "1712098554.692323"
      ]
     },
     "execution_count": 34,
     "metadata": {},
     "output_type": "execute_result"
    }
   ],
   "source": [
    "import time\n"
   ]
  },
  {
   "cell_type": "code",
   "execution_count": 35,
   "metadata": {},
   "outputs": [
    {
     "data": {
      "text/plain": [
       "1712037600.0"
      ]
     },
     "execution_count": 35,
     "metadata": {},
     "output_type": "execute_result"
    }
   ],
   "source": [
    "t = pd.Timestamp('2024-4-02')\n",
    "time.mktime(t.timetuple())"
   ]
  },
  {
   "cell_type": "code",
   "execution_count": 44,
   "metadata": {},
   "outputs": [
    {
     "data": {
      "text/plain": [
       "Timestamp('1970-01-01 00:01:00')"
      ]
     },
     "execution_count": 44,
     "metadata": {},
     "output_type": "execute_result"
    }
   ],
   "source": [
    "pd.to_datetime(df['time_epoch'][0], unit=\"ms\")"
   ]
  }
 ],
 "metadata": {
  "anaconda-cloud": {},
  "hide_input": false,
  "kernelspec": {
   "display_name": "Python 3 (ipykernel)",
   "language": "python",
   "name": "python3"
  },
  "language_info": {
   "codemirror_mode": {
    "name": "ipython",
    "version": 3
   },
   "file_extension": ".py",
   "mimetype": "text/x-python",
   "name": "python",
   "nbconvert_exporter": "python",
   "pygments_lexer": "ipython3",
   "version": "3.11.8"
  },
  "widgets": {
   "state": {
    "5f31cff64283411b930122eefa825a43": {
     "views": [
      {
       "cell_index": 2
      }
     ]
    },
    "60099a0a769340eda244fa4102ea0fdf": {
     "views": [
      {
       "cell_index": 2
      }
     ]
    },
    "69be9f6413674269870be2315d4f2252": {
     "views": [
      {
       "cell_index": 2
      }
     ]
    },
    "70cd535fa6f244499d6b91fd9245f745": {
     "views": [
      {
       "cell_index": 2
      }
     ]
    },
    "975c265f62c946239f8fde1736148b1c": {
     "views": [
      {
       "cell_index": 2
      }
     ]
    },
    "b635438fac9041b083e0f3e2a79b379b": {
     "views": [
      {
       "cell_index": 2
      }
     ]
    }
   },
   "version": "1.2.0"
  }
 },
 "nbformat": 4,
 "nbformat_minor": 4
}
